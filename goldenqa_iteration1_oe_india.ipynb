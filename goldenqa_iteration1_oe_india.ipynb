{
 "cells": [
  {
   "cell_type": "markdown",
   "metadata": {},
   "source": [
    "# Read data"
   ]
  },
  {
   "cell_type": "code",
   "execution_count": 39,
   "metadata": {},
   "outputs": [],
   "source": [
    "import pandas as pd\n",
    "import os"
   ]
  },
  {
   "cell_type": "code",
   "execution_count": 40,
   "metadata": {},
   "outputs": [
    {
     "data": {
      "application/vnd.microsoft.datawrangler.viewer.v0+json": {
       "columns": [
        {
         "name": "index",
         "rawType": "object",
         "type": "string"
        },
        {
         "name": "question_id",
         "rawType": "float64",
         "type": "float"
        },
        {
         "name": "question",
         "rawType": "object",
         "type": "unknown"
        },
        {
         "name": "correct_answer",
         "rawType": "object",
         "type": "unknown"
        },
        {
         "name": "comment",
         "rawType": "object",
         "type": "unknown"
        }
       ],
       "ref": "3e67a685-8273-43e7-b0d8-d2df2a8cb55e",
       "rows": [
        [
         "count",
         "15.0",
         "15",
         "15",
         "1"
        ],
        [
         "unique",
         null,
         "15",
         "15",
         "1"
        ],
        [
         "top",
         null,
         "I have been applying different pesticides to control pests on my farm. However, they seem not to be effective, what can I do?",
         "Dear farmer friend, please follow the following suggestions incase of pesticides are not effective  1. Use Integrated Pest Management (IPM) techniques including traps and sticky cards  2. Follow the crop specific advisories from state agriculture university/department  3. Procure original pesticides from authorised and registered vendors ",
         "Note: Select varieties based on your region’s agro-climatic conditions and consult local extension officers for recommendations."
        ],
        [
         "freq",
         null,
         "1",
         "1",
         "1"
        ],
        [
         "mean",
         "8.0",
         null,
         null,
         null
        ],
        [
         "std",
         "4.47213595499958",
         null,
         null,
         null
        ],
        [
         "min",
         "1.0",
         null,
         null,
         null
        ],
        [
         "25%",
         "4.5",
         null,
         null,
         null
        ],
        [
         "50%",
         "8.0",
         null,
         null,
         null
        ],
        [
         "75%",
         "11.5",
         null,
         null,
         null
        ],
        [
         "max",
         "15.0",
         null,
         null,
         null
        ]
       ],
       "shape": {
        "columns": 4,
        "rows": 11
       }
      },
      "text/html": [
       "<div>\n",
       "<style scoped>\n",
       "    .dataframe tbody tr th:only-of-type {\n",
       "        vertical-align: middle;\n",
       "    }\n",
       "\n",
       "    .dataframe tbody tr th {\n",
       "        vertical-align: top;\n",
       "    }\n",
       "\n",
       "    .dataframe thead th {\n",
       "        text-align: right;\n",
       "    }\n",
       "</style>\n",
       "<table border=\"1\" class=\"dataframe\">\n",
       "  <thead>\n",
       "    <tr style=\"text-align: right;\">\n",
       "      <th></th>\n",
       "      <th>question_id</th>\n",
       "      <th>question</th>\n",
       "      <th>correct_answer</th>\n",
       "      <th>comment</th>\n",
       "    </tr>\n",
       "  </thead>\n",
       "  <tbody>\n",
       "    <tr>\n",
       "      <th>count</th>\n",
       "      <td>15.000000</td>\n",
       "      <td>15</td>\n",
       "      <td>15</td>\n",
       "      <td>1</td>\n",
       "    </tr>\n",
       "    <tr>\n",
       "      <th>unique</th>\n",
       "      <td>NaN</td>\n",
       "      <td>15</td>\n",
       "      <td>15</td>\n",
       "      <td>1</td>\n",
       "    </tr>\n",
       "    <tr>\n",
       "      <th>top</th>\n",
       "      <td>NaN</td>\n",
       "      <td>I have been applying different pesticides to c...</td>\n",
       "      <td>Dear farmer friend, please follow the followin...</td>\n",
       "      <td>Note: Select varieties based on your region’s ...</td>\n",
       "    </tr>\n",
       "    <tr>\n",
       "      <th>freq</th>\n",
       "      <td>NaN</td>\n",
       "      <td>1</td>\n",
       "      <td>1</td>\n",
       "      <td>1</td>\n",
       "    </tr>\n",
       "    <tr>\n",
       "      <th>mean</th>\n",
       "      <td>8.000000</td>\n",
       "      <td>NaN</td>\n",
       "      <td>NaN</td>\n",
       "      <td>NaN</td>\n",
       "    </tr>\n",
       "    <tr>\n",
       "      <th>std</th>\n",
       "      <td>4.472136</td>\n",
       "      <td>NaN</td>\n",
       "      <td>NaN</td>\n",
       "      <td>NaN</td>\n",
       "    </tr>\n",
       "    <tr>\n",
       "      <th>min</th>\n",
       "      <td>1.000000</td>\n",
       "      <td>NaN</td>\n",
       "      <td>NaN</td>\n",
       "      <td>NaN</td>\n",
       "    </tr>\n",
       "    <tr>\n",
       "      <th>25%</th>\n",
       "      <td>4.500000</td>\n",
       "      <td>NaN</td>\n",
       "      <td>NaN</td>\n",
       "      <td>NaN</td>\n",
       "    </tr>\n",
       "    <tr>\n",
       "      <th>50%</th>\n",
       "      <td>8.000000</td>\n",
       "      <td>NaN</td>\n",
       "      <td>NaN</td>\n",
       "      <td>NaN</td>\n",
       "    </tr>\n",
       "    <tr>\n",
       "      <th>75%</th>\n",
       "      <td>11.500000</td>\n",
       "      <td>NaN</td>\n",
       "      <td>NaN</td>\n",
       "      <td>NaN</td>\n",
       "    </tr>\n",
       "    <tr>\n",
       "      <th>max</th>\n",
       "      <td>15.000000</td>\n",
       "      <td>NaN</td>\n",
       "      <td>NaN</td>\n",
       "      <td>NaN</td>\n",
       "    </tr>\n",
       "  </tbody>\n",
       "</table>\n",
       "</div>"
      ],
      "text/plain": [
       "        question_id                                           question  \\\n",
       "count     15.000000                                                 15   \n",
       "unique          NaN                                                 15   \n",
       "top             NaN  I have been applying different pesticides to c...   \n",
       "freq            NaN                                                  1   \n",
       "mean       8.000000                                                NaN   \n",
       "std        4.472136                                                NaN   \n",
       "min        1.000000                                                NaN   \n",
       "25%        4.500000                                                NaN   \n",
       "50%        8.000000                                                NaN   \n",
       "75%       11.500000                                                NaN   \n",
       "max       15.000000                                                NaN   \n",
       "\n",
       "                                           correct_answer  \\\n",
       "count                                                  15   \n",
       "unique                                                 15   \n",
       "top     Dear farmer friend, please follow the followin...   \n",
       "freq                                                    1   \n",
       "mean                                                  NaN   \n",
       "std                                                   NaN   \n",
       "min                                                   NaN   \n",
       "25%                                                   NaN   \n",
       "50%                                                   NaN   \n",
       "75%                                                   NaN   \n",
       "max                                                   NaN   \n",
       "\n",
       "                                                  comment  \n",
       "count                                                   1  \n",
       "unique                                                  1  \n",
       "top     Note: Select varieties based on your region’s ...  \n",
       "freq                                                    1  \n",
       "mean                                                  NaN  \n",
       "std                                                   NaN  \n",
       "min                                                   NaN  \n",
       "25%                                                   NaN  \n",
       "50%                                                   NaN  \n",
       "75%                                                   NaN  \n",
       "max                                                   NaN  "
      ]
     },
     "execution_count": 40,
     "metadata": {},
     "output_type": "execute_result"
    }
   ],
   "source": [
    "path = \"data/RAW_goldenqa_iteration1_oe_india_REVISED.tsv\"\n",
    "basename = os.path.basename(path)\n",
    "basename = os.path.splitext(basename)[0]\n",
    "\n",
    "qa_df = pd.read_csv(path, sep=\"\\t\", header=0)\n",
    "qa_df.describe(include=\"all\")"
   ]
  },
  {
   "cell_type": "code",
   "execution_count": 41,
   "metadata": {},
   "outputs": [
    {
     "data": {
      "application/vnd.microsoft.datawrangler.viewer.v0+json": {
       "columns": [
        {
         "name": "index",
         "rawType": "int64",
         "type": "integer"
        },
        {
         "name": "question_id",
         "rawType": "int64",
         "type": "integer"
        },
        {
         "name": "question",
         "rawType": "object",
         "type": "string"
        },
        {
         "name": "correct_answer",
         "rawType": "object",
         "type": "string"
        },
        {
         "name": "comment",
         "rawType": "object",
         "type": "unknown"
        }
       ],
       "ref": "cbcd14a1-9479-45f8-beb3-4e668c99373d",
       "rows": [
        [
         "0",
         "1",
         "I have been applying different pesticides to control pests on my farm. However, they seem not to be effective, what can I do?",
         "Dear farmer friend, please follow the following suggestions incase of pesticides are not effective  1. Use Integrated Pest Management (IPM) techniques including traps and sticky cards  2. Follow the crop specific advisories from state agriculture university/department  3. Procure original pesticides from authorised and registered vendors ",
         null
        ],
        [
         "1",
         "2",
         "I have been losing my crops and livestock due to drought and floods. What can I do to get compensation during such occurrences?",
         "Farmers can get timely compensation by enrolling in government-backed insurance schemes such as the Pradhan Mantri Fasal Bima Yojana (PMFBY) for crops and the Livestock Insurance Scheme.  Ensure timely registration and premium payment to be eligible for compensation in case of natural calamities.",
         null
        ],
        [
         "2",
         "3",
         "I am interested in learning about crops and livestock production. Where can I visit to learn more about crops and livestock production?",
         "To acquire adequate knowledge on crops and livestock production visit nearby Krishi Vignan Kendra (KVK) / Block Agriculture & Veterinary Office. (or)  Participate in training programs organised by the aabove organizations. ",
         null
        ],
        [
         "3",
         "4",
         "Which bean variety is suitable for dryland agro-ecological zone?",
         "Following are the major bean varieties based on agro-climatic conditions: Black gram, Green gram, Red gram, Broad Bean (Faba Bean), French Bean, Cluster Bean, Soya bean ",
         "Note: Select varieties based on your region’s agro-climatic conditions and consult local extension officers for recommendations."
        ],
        [
         "4",
         "5",
         "If I am unable to acquire certified maize seeds, which variety can I save and replant the next season?",
         "Dear Farmer, avoid saving hybrid varieties as they do not retain their genetic purity in subsequent generations.  For replanting, use open-pollinated maize varieties such as D 994, Dewaki, Birsa Vikas Makka 2, Hemant, Suwan, and Lakshmi.",
         null
        ],
        [
         "5",
         "6",
         "Are chemical pesticides important and safe in crop and livestock production?",
         "Yes, chemical pesticides can be effective when used properly. Always:  Use government-recommended formulations and dosages  Follow label instructions carefully  Wear protective gear and observe pre-harvest intervals to ensure safety for humans, animals, and the environment",
         null
        ],
        [
         "6",
         "7",
         "How can I know that my soil is fertile?",
         "To assess soil fertility, request/acquire soil tests through Krishi Vignan Kendras (KVKs) or authorised government facilities. ",
         null
        ],
        [
         "7",
         "8",
         "How can I best control weeds in my farm?",
         "For best control of weeds adopt the following integrated weed management approach as:   1. Deep summer ploughing to destroy weed seeds  2. Timely manual weeding during critical crop stages  3. Use of recommended herbicides -Always follow label directions and safety measures when using herbicides",
         null
        ],
        [
         "8",
         "9",
         "How do organic and synthetic/inorganic fertilizers compare in terms of effectiveness to crop production, and which one would be more suitable for different farming conditions?",
         "Inorganic fertilizers offer quick nutrient supply and are ideal for short-term results  Use Integrated Nutrient Management (INM) a balanced combination of both depending on your crop, soil condition, and climate",
         null
        ],
        [
         "9",
         "10",
         "Lately, the onset of rains has shown significant variability from season to season. This has affected our ability to judge when to plant. In this scenario, when is the best time to plant?",
         "For better reesults and information the farmers should follow the Indian Meteorological Department (IMD) weather reports and state agriculture university recommendations to avoid losses ",
         null
        ],
        [
         "10",
         "11",
         "What are the signs of nutrient deficiency in maize and how can they be corrected?",
         "The folllowing are the major characteristics of nutrient deficiency in maize:  1. Yellowing, browning, and discoloration of leaves 2. Stunted growth, and abnormal leaf patterns  The following are the management practices to control nutrient deficiency in maize:  1. Integrate Nutrient Management (INM): Combine chemical fertilizers, organic manures, and biofertilizers to ensure a balanced nutrient supply",
         null
        ],
        [
         "11",
         "12",
         "How can I mitigate post-harvest losses in crops and livestock?",
         "The following are the some of the best recommendations to mitigate post-harvest losses in crops and livestock 1. Use post harvest tecnologies  2. Proper packaging  3. Storing in cold storages / Warehouses  4. Preparation of value added products like jaggery, pickles, RTS (ready to serve) items such as curd, buttermilk, ghee, etc",
         null
        ],
        [
         "12",
         "13",
         "What are some of the strategies that I can employ to manage climate change in crop production?",
         "The farmers can follow the following strategies to manage climate change in crop production 1. Zero/minimum tillage practices 2. Mulching  3. Drip Irrigation 4. IPM techniques 5. Residue incorporation ",
         null
        ],
        [
         "13",
         "14",
         "What are the best disease management practices in livestock production?",
         "The following are the best disease management practices in livestock production 1. Regular Vaccination 2. Parasite Control 3. Regular health checkups for early disease identification and control  4. Provide nutritious feed, clean water, and hygienic living conditions",
         null
        ],
        [
         "14",
         "15",
         "How are Farmer groups, Farmer Producer Organizations, Community Based Organizations and cooperatives important to farmers?",
         "The farmers can get the following facilities by becoming a member in Farmer groups, Farmer Producer Organizations, Community Based Organizations and cooperatives 1. Supports through micro financing  2. Helps in farm mechanization   3. Provide information on best management practices  4. Better market access, fair pricing, and post-harvest support",
         null
        ]
       ],
       "shape": {
        "columns": 4,
        "rows": 15
       }
      },
      "text/html": [
       "<div>\n",
       "<style scoped>\n",
       "    .dataframe tbody tr th:only-of-type {\n",
       "        vertical-align: middle;\n",
       "    }\n",
       "\n",
       "    .dataframe tbody tr th {\n",
       "        vertical-align: top;\n",
       "    }\n",
       "\n",
       "    .dataframe thead th {\n",
       "        text-align: right;\n",
       "    }\n",
       "</style>\n",
       "<table border=\"1\" class=\"dataframe\">\n",
       "  <thead>\n",
       "    <tr style=\"text-align: right;\">\n",
       "      <th></th>\n",
       "      <th>question_id</th>\n",
       "      <th>question</th>\n",
       "      <th>correct_answer</th>\n",
       "      <th>comment</th>\n",
       "    </tr>\n",
       "  </thead>\n",
       "  <tbody>\n",
       "    <tr>\n",
       "      <th>0</th>\n",
       "      <td>1</td>\n",
       "      <td>I have been applying different pesticides to c...</td>\n",
       "      <td>Dear farmer friend, please follow the followin...</td>\n",
       "      <td>NaN</td>\n",
       "    </tr>\n",
       "    <tr>\n",
       "      <th>1</th>\n",
       "      <td>2</td>\n",
       "      <td>I have been losing my crops and livestock due ...</td>\n",
       "      <td>Farmers can get timely compensation by enrolli...</td>\n",
       "      <td>NaN</td>\n",
       "    </tr>\n",
       "    <tr>\n",
       "      <th>2</th>\n",
       "      <td>3</td>\n",
       "      <td>I am interested in learning about crops and li...</td>\n",
       "      <td>To acquire adequate knowledge on crops and liv...</td>\n",
       "      <td>NaN</td>\n",
       "    </tr>\n",
       "    <tr>\n",
       "      <th>3</th>\n",
       "      <td>4</td>\n",
       "      <td>Which bean variety is suitable for dryland agr...</td>\n",
       "      <td>Following are the major bean varieties based o...</td>\n",
       "      <td>Note: Select varieties based on your region’s ...</td>\n",
       "    </tr>\n",
       "    <tr>\n",
       "      <th>4</th>\n",
       "      <td>5</td>\n",
       "      <td>If I am unable to acquire certified maize seed...</td>\n",
       "      <td>Dear Farmer, avoid saving hybrid varieties as ...</td>\n",
       "      <td>NaN</td>\n",
       "    </tr>\n",
       "    <tr>\n",
       "      <th>5</th>\n",
       "      <td>6</td>\n",
       "      <td>Are chemical pesticides important and safe in ...</td>\n",
       "      <td>Yes, chemical pesticides can be effective when...</td>\n",
       "      <td>NaN</td>\n",
       "    </tr>\n",
       "    <tr>\n",
       "      <th>6</th>\n",
       "      <td>7</td>\n",
       "      <td>How can I know that my soil is fertile?</td>\n",
       "      <td>To assess soil fertility, request/acquire soil...</td>\n",
       "      <td>NaN</td>\n",
       "    </tr>\n",
       "    <tr>\n",
       "      <th>7</th>\n",
       "      <td>8</td>\n",
       "      <td>How can I best control weeds in my farm?</td>\n",
       "      <td>For best control of weeds adopt the following ...</td>\n",
       "      <td>NaN</td>\n",
       "    </tr>\n",
       "    <tr>\n",
       "      <th>8</th>\n",
       "      <td>9</td>\n",
       "      <td>How do organic and synthetic/inorganic fertili...</td>\n",
       "      <td>Inorganic fertilizers offer quick nutrient sup...</td>\n",
       "      <td>NaN</td>\n",
       "    </tr>\n",
       "    <tr>\n",
       "      <th>9</th>\n",
       "      <td>10</td>\n",
       "      <td>Lately, the onset of rains has shown significa...</td>\n",
       "      <td>For better reesults and information the farmer...</td>\n",
       "      <td>NaN</td>\n",
       "    </tr>\n",
       "    <tr>\n",
       "      <th>10</th>\n",
       "      <td>11</td>\n",
       "      <td>What are the signs of nutrient deficiency in m...</td>\n",
       "      <td>The folllowing are the major characteristics o...</td>\n",
       "      <td>NaN</td>\n",
       "    </tr>\n",
       "    <tr>\n",
       "      <th>11</th>\n",
       "      <td>12</td>\n",
       "      <td>How can I mitigate post-harvest losses in crop...</td>\n",
       "      <td>The following are the some of the best recomme...</td>\n",
       "      <td>NaN</td>\n",
       "    </tr>\n",
       "    <tr>\n",
       "      <th>12</th>\n",
       "      <td>13</td>\n",
       "      <td>What are some of the strategies that I can emp...</td>\n",
       "      <td>The farmers can follow the following strategie...</td>\n",
       "      <td>NaN</td>\n",
       "    </tr>\n",
       "    <tr>\n",
       "      <th>13</th>\n",
       "      <td>14</td>\n",
       "      <td>What are the best disease management practices...</td>\n",
       "      <td>The following are the best disease management ...</td>\n",
       "      <td>NaN</td>\n",
       "    </tr>\n",
       "    <tr>\n",
       "      <th>14</th>\n",
       "      <td>15</td>\n",
       "      <td>How are Farmer groups, Farmer Producer Organiz...</td>\n",
       "      <td>The farmers can get the following facilities b...</td>\n",
       "      <td>NaN</td>\n",
       "    </tr>\n",
       "  </tbody>\n",
       "</table>\n",
       "</div>"
      ],
      "text/plain": [
       "    question_id                                           question  \\\n",
       "0             1  I have been applying different pesticides to c...   \n",
       "1             2  I have been losing my crops and livestock due ...   \n",
       "2             3  I am interested in learning about crops and li...   \n",
       "3             4  Which bean variety is suitable for dryland agr...   \n",
       "4             5  If I am unable to acquire certified maize seed...   \n",
       "5             6  Are chemical pesticides important and safe in ...   \n",
       "6             7            How can I know that my soil is fertile?   \n",
       "7             8           How can I best control weeds in my farm?   \n",
       "8             9  How do organic and synthetic/inorganic fertili...   \n",
       "9            10  Lately, the onset of rains has shown significa...   \n",
       "10           11  What are the signs of nutrient deficiency in m...   \n",
       "11           12  How can I mitigate post-harvest losses in crop...   \n",
       "12           13  What are some of the strategies that I can emp...   \n",
       "13           14  What are the best disease management practices...   \n",
       "14           15  How are Farmer groups, Farmer Producer Organiz...   \n",
       "\n",
       "                                       correct_answer  \\\n",
       "0   Dear farmer friend, please follow the followin...   \n",
       "1   Farmers can get timely compensation by enrolli...   \n",
       "2   To acquire adequate knowledge on crops and liv...   \n",
       "3   Following are the major bean varieties based o...   \n",
       "4   Dear Farmer, avoid saving hybrid varieties as ...   \n",
       "5   Yes, chemical pesticides can be effective when...   \n",
       "6   To assess soil fertility, request/acquire soil...   \n",
       "7   For best control of weeds adopt the following ...   \n",
       "8   Inorganic fertilizers offer quick nutrient sup...   \n",
       "9   For better reesults and information the farmer...   \n",
       "10  The folllowing are the major characteristics o...   \n",
       "11  The following are the some of the best recomme...   \n",
       "12  The farmers can follow the following strategie...   \n",
       "13  The following are the best disease management ...   \n",
       "14  The farmers can get the following facilities b...   \n",
       "\n",
       "                                              comment  \n",
       "0                                                 NaN  \n",
       "1                                                 NaN  \n",
       "2                                                 NaN  \n",
       "3   Note: Select varieties based on your region’s ...  \n",
       "4                                                 NaN  \n",
       "5                                                 NaN  \n",
       "6                                                 NaN  \n",
       "7                                                 NaN  \n",
       "8                                                 NaN  \n",
       "9                                                 NaN  \n",
       "10                                                NaN  \n",
       "11                                                NaN  \n",
       "12                                                NaN  \n",
       "13                                                NaN  \n",
       "14                                                NaN  "
      ]
     },
     "execution_count": 41,
     "metadata": {},
     "output_type": "execute_result"
    }
   ],
   "source": [
    "qa_df"
   ]
  },
  {
   "cell_type": "markdown",
   "metadata": {},
   "source": [
    "# Set up API keys"
   ]
  },
  {
   "cell_type": "code",
   "execution_count": 42,
   "metadata": {},
   "outputs": [
    {
     "data": {
      "text/plain": [
       "True"
      ]
     },
     "execution_count": 42,
     "metadata": {},
     "output_type": "execute_result"
    }
   ],
   "source": [
    "from dotenv import load_dotenv\n",
    "\n",
    "# Load environment variables from .env file\n",
    "load_dotenv()"
   ]
  },
  {
   "cell_type": "code",
   "execution_count": 43,
   "metadata": {},
   "outputs": [],
   "source": [
    "def open_ended_prompt_simple(question, country):\n",
    "    return (f\"You provide smallholder farmers in {country} with agricultural advice and information. \"\n",
    "            f\"Do not use more than 10 sentences.\\n\\nQuestion: {question}\")\n",
    "\n",
    "def open_ended_prompt_contextual(question, country):\n",
    "    return (f\"You provide smallholder farmers in {country} with high quality agricultural advice and information. \"\n",
    "            f\"Please respond to the following question like an agronomist or agricultural extension agent would respond \"\n",
    "            f\"to a smallholder farmer. Be factually correct, precise and make the response understandable for a smallholder farmer. \"\n",
    "            f\"Do not use more than 10 sentences.\\n\\nQuestion: {question}\")\n",
    "\n",
    "def mcq_prompt(question, answer_options, country):\n",
    "    return (f\"You provide smallholder farmers in {country} with agricultural advice and information. \"\n",
    "            f\"For the following multiple choice question, please select the correct answer(s) from options A to E and \"\n",
    "            f\"provide a detailed rationale for your choice. There can be multiple correct answers.\\n\\n\"\n",
    "            f\"Question: {question}\\n\\n\"\n",
    "            f\"Answer options:\\n{answer_options}\\n\\n\"\n",
    "            f\"Your response must follow this format exactly:\\n\\n\"\n",
    "            f\"Correct answer: [OPTION(S)]\\n\\n\"\n",
    "            f\"Rationale: [Not longer than 10 sentences]\")"
   ]
  },
  {
   "cell_type": "code",
   "execution_count": 44,
   "metadata": {},
   "outputs": [],
   "source": [
    "import litellm"
   ]
  },
  {
   "cell_type": "code",
   "execution_count": 45,
   "metadata": {},
   "outputs": [],
   "source": [
    "# set callbacks\n",
    "litellm.success_callback = [\"langfuse\"]\n",
    "litellm.failure_callback = [\"langfuse\"]"
   ]
  },
  {
   "cell_type": "code",
   "execution_count": 46,
   "metadata": {},
   "outputs": [],
   "source": [
    "country = \"India\""
   ]
  },
  {
   "cell_type": "code",
   "execution_count": 47,
   "metadata": {},
   "outputs": [],
   "source": [
    "# model = \"openai/gpt-4o\"\n",
    "\n",
    "# ids = []\n",
    "# prompts = []\n",
    "# answers = []\n",
    "\n",
    "# for index, row in df.iterrows():\n",
    "#     question = row[\"question\"]\n",
    "#     id = row[\"question_id\"]\n",
    "#     prompt = open_ended_prompt_contextual(question, country)\n",
    "\n",
    "#     response = litellm.completion(\n",
    "#         model=model,\n",
    "#         messages=[\n",
    "#             {\"role\": \"user\", \"content\": prompt}\n",
    "#         ],\n",
    "#     )\n",
    "\n",
    "#     # Extract the answer from the response\n",
    "#     answer = response[\"choices\"][0][\"message\"][\"content\"]\n",
    "\n",
    "#     # Append the id, prompt, and answer to the lists\n",
    "#     ids.append(id)\n",
    "#     prompts.append(prompt)\n",
    "#     answers.append(answer)\n",
    "\n",
    "# # Create a DataFrame from the lists\n",
    "# results_df = pd.DataFrame({\n",
    "#     \"id\": ids,\n",
    "#     \"prompt\": prompts,\n",
    "#     \"answer\": answers\n",
    "# })\n",
    "\n",
    "# # Save the DataFrame to a CSV file\n",
    "# model_name = model.replace(\"/\", \"-\")\n",
    "# csv_path = os.path.join(\"results\", f\"{basename}-{model_name}.csv\")\n",
    "# print(f\"Saving results to {csv_path}\")\n",
    "# results_df.to_csv(csv_path, index=False)"
   ]
  },
  {
   "cell_type": "code",
   "execution_count": null,
   "metadata": {},
   "outputs": [],
   "source": [
    "def get_llm_answers(df, model, country, **kwargs):\n",
    "    ids = []\n",
    "    prompts = []\n",
    "    answers = []\n",
    "\n",
    "    for index, row in df.iterrows():\n",
    "        question = row[\"question\"]\n",
    "        id = row[\"question_id\"]\n",
    "        prompt = open_ended_prompt_contextual(question, country)\n",
    "\n",
    "        response = litellm.completion(\n",
    "            model=model,\n",
    "            messages=[\n",
    "                {\"role\": \"user\", \"content\": prompt}\n",
    "            ],\n",
    "            **kwargs\n",
    "        )\n",
    "\n",
    "        # Extract the answer from the response\n",
    "        answer = response[\"choices\"][0][\"message\"][\"content\"]\n",
    "\n",
    "        # Append the id, prompt, and answer to the lists\n",
    "        ids.append(id)\n",
    "        prompts.append(prompt)\n",
    "        answers.append(answer)\n",
    "\n",
    "    # Create a DataFrame from the lists\n",
    "    results_df = pd.DataFrame({\n",
    "        \"id\": ids,\n",
    "        \"prompt\": prompts,\n",
    "        \"answer\": answers\n",
    "    })\n",
    "\n",
    "    # Save the DataFrame to a CSV file\n",
    "    model_name = model.replace(\"/\", \"-\").replace(\".\", \"-\")\n",
    "    csv_path = os.path.join(\"results\", f\"{basename}-{model_name}.csv\")\n",
    "    print(f\"Saving results to {csv_path}\")\n",
    "    results_df.to_csv(csv_path, index=False)\n",
    "    return results_df"
   ]
  },
  {
   "cell_type": "markdown",
   "metadata": {},
   "source": [
    "# OpenAI"
   ]
  },
  {
   "cell_type": "code",
   "execution_count": null,
   "metadata": {},
   "outputs": [
    {
     "name": "stdout",
     "output_type": "stream",
     "text": [
      "Saving results to results/RAW_goldenqa_iteration1_oe_india_REVISED-openai-gpt-4o-2024-08-06.csv\n"
     ]
    }
   ],
   "source": [
    "gpt_4o_df = get_llm_answers(qa_df, \"openai/gpt-4o-2024-08-06\", country)"
   ]
  },
  {
   "cell_type": "code",
   "execution_count": 15,
   "metadata": {},
   "outputs": [
    {
     "data": {
      "application/vnd.microsoft.datawrangler.viewer.v0+json": {
       "columns": [
        {
         "name": "index",
         "rawType": "int64",
         "type": "integer"
        },
        {
         "name": "id",
         "rawType": "int64",
         "type": "integer"
        },
        {
         "name": "prompt",
         "rawType": "object",
         "type": "string"
        },
        {
         "name": "answer",
         "rawType": "object",
         "type": "string"
        }
       ],
       "ref": "25948833-4a6c-4f6c-b80c-32b597f5fab8",
       "rows": [
        [
         "0",
         "1",
         "You provide smallholder farmers in India with high quality agricultural advice and information. Please respond to the following question like an agronomist or agricultural extension agent would respond to a smallholder farmer. Be factually correct, precise and make the response understandable for a smallholder farmer. Do not use more than 10 sentences.\n\nQuestion: I have been applying different pesticides to control pests on my farm. However, they seem not to be effective, what can I do?",
         "I'm sorry to hear you're facing this issue. Here are a few steps you can take to improve the situation:\n\n1. **Identify the Pest**: Make sure you have correctly identified the pest. Sometimes, misidentification can lead to using the wrong pesticide, which will be ineffective.\n\n2. **Check Pesticide Expiry**: Ensure the pesticides you're using aren't expired, as expired products lose their effectiveness.\n\n3. **Rotate Pesticides**: Pests can become resistant to a pesticide if it's used repeatedly. Rotating pesticides with different active ingredients can help prevent this resistance.\n\n4. **Integrated Pest Management (IPM)**: Consider using IPM practices which include cultural, mechanical, biological, and chemical methods to control pests. This holistic approach can be more effective than relying solely on chemicals.\n\n5. **Correct Dosage and Application**: Make sure you're using the correct dosage and application method as per the label instructions. Applying less or more than recommended can reduce effectiveness.\n\n6. **Soil Health and Crop Rotation**: Maintain good soil health and practice crop rotation to naturally deter pests. Healthy plants are more resistant to pest attacks.\n\n7. **Local Extension Services**: Reach out to your local agricultural extension officer for specific advice tailored to your situation and region.\n\nFollowing these steps should help improve pest control on your farm."
        ],
        [
         "1",
         "2",
         "You provide smallholder farmers in India with high quality agricultural advice and information. Please respond to the following question like an agronomist or agricultural extension agent would respond to a smallholder farmer. Be factually correct, precise and make the response understandable for a smallholder farmer. Do not use more than 10 sentences.\n\nQuestion: I have been losing my crops and livestock due to drought and floods. What can I do to get compensation during such occurrences?",
         "I'm sorry to hear about the impact of droughts and floods on your farm. To get compensation, you should first ensure that you are enrolled in the Pradhan Mantri Fasal Bima Yojana (PMFBY) for crops and the Livestock Insurance Scheme for your animals, if available in your area. These schemes provide insurance against losses due to natural calamities. Make sure to register your crop and livestock details with the local agriculture department before the sowing and coverage period begins.\n\nIf you experience a loss, report it immediately to your insurance company or local agricultural officer. Keep records of your enrollment, premium payments, and any communication with the insurance provider. For additional support, check if your state government offers any relief schemes and apply accordingly. Maintaining accurate records and quick reporting will help facilitate your compensation claim. It's also helpful to participate in local farmer groups to stay informed about new government schemes and assistance programs."
        ],
        [
         "2",
         "3",
         "You provide smallholder farmers in India with high quality agricultural advice and information. Please respond to the following question like an agronomist or agricultural extension agent would respond to a smallholder farmer. Be factually correct, precise and make the response understandable for a smallholder farmer. Do not use more than 10 sentences.\n\nQuestion: I am interested in learning about crops and livestock production. Where can I visit to learn more about crops and livestock production?",
         "To learn more about crops and livestock production, you can start by visiting your nearest Krishi Vigyan Kendra (KVK). KVKs are agricultural science centers in India that provide practical training and advice to farmers. They offer workshops and demonstrations on various farming techniques and technologies suitable for your region.\n\nAdditionally, you can participate in field days organized by agricultural universities or research institutions in your area. These events showcase the latest advancements in crop and livestock management. Also, consider joining local farmers' groups or cooperatives, where experienced farmers share their knowledge and experiences.\n\nMany government agricultural departments organize training programs, so keep an eye out for these opportunities. Finally, contacting NGOs that focus on agriculture can also be helpful, as they often provide hands-on training and resources for farmers."
        ],
        [
         "3",
         "4",
         "You provide smallholder farmers in India with high quality agricultural advice and information. Please respond to the following question like an agronomist or agricultural extension agent would respond to a smallholder farmer. Be factually correct, precise and make the response understandable for a smallholder farmer. Do not use more than 10 sentences.\n\nQuestion: Which bean variety is suitable for dryland agro-ecological zone?",
         "For a dryland agro-ecological zone, it's important to choose a bean variety that is drought-tolerant and can thrive in less water. One suitable variety is the **Moth Bean (Vigna aconitifolia)**, often grown in dry areas due to its high drought resistance. Another good option is the **Cowpea (Vigna unguiculata)**, also known for its ability to grow well in dry conditions. These varieties can survive with minimal rainfall and have a deep root system that helps them access moisture from deeper soil layers. When choosing seeds, always opt for certified seeds from a reliable source to ensure good germination and growth. Additionally, consider implementing soil moisture conservation techniques such as mulching to retain soil moisture and improve yield. Rotate your crops annually to maintain soil fertility and prevent pest buildup. Consulting with your local agricultural extension officer can provide guidance specific to your area's climate and soil conditions."
        ],
        [
         "4",
         "5",
         "You provide smallholder farmers in India with high quality agricultural advice and information. Please respond to the following question like an agronomist or agricultural extension agent would respond to a smallholder farmer. Be factually correct, precise and make the response understandable for a smallholder farmer. Do not use more than 10 sentences.\n\nQuestion: If I am unable to acquire certified maize seeds, which variety can I save and replant the next season?",
         "If certified maize seeds are not available, it's best to use open-pollinated varieties (OPVs) for saving and replanting. OPVs are stable and produce seeds that retain the characteristics of the parent plant. Popular OPVs in India include varieties like Shakti, Navjot, and Kisan Composite. Ensure that the plants you select for seed saving are healthy, disease-free, and have desirable traits like good cob size and resistance to pests. Avoid saving seeds from hybrid varieties, as they do not breed true and can lead to reduced yields and unpredictable traits. When harvesting, let the cobs mature fully on the plant before picking. After harvesting, dry the seeds properly in a shaded area and store them in a cool, dry place. Proper seed selection and storage will help you maintain quality seeds for the next planting season."
        ],
        [
         "5",
         "6",
         "You provide smallholder farmers in India with high quality agricultural advice and information. Please respond to the following question like an agronomist or agricultural extension agent would respond to a smallholder farmer. Be factually correct, precise and make the response understandable for a smallholder farmer. Do not use more than 10 sentences.\n\nQuestion: Are chemical pesticides important and safe in crop and livestock production?",
         "Chemical pesticides can play a key role in protecting crops and livestock from pests and diseases, which can improve yields and reduce losses. However, it's important to use them safely and judiciously. Overuse or incorrect application of pesticides can harm beneficial insects, soil health, and water sources, and can also lead to pest resistance. Always choose the right pesticide for the specific pest problem, and follow the label instructions closely, including recommended dosages and safety measures. Use protective gear during application to prevent harm to yourself and others. Consider integrating chemical pesticides with other pest management strategies, such as biological controls and crop rotation, to build a more sustainable approach. Lastly, ensure proper storage of pesticides to avoid accidental contamination or poisoning. This balanced approach can help you keep your crops and livestock healthy while minimizing risks to the environment and human health."
        ],
        [
         "6",
         "7",
         "You provide smallholder farmers in India with high quality agricultural advice and information. Please respond to the following question like an agronomist or agricultural extension agent would respond to a smallholder farmer. Be factually correct, precise and make the response understandable for a smallholder farmer. Do not use more than 10 sentences.\n\nQuestion: How can I know that my soil is fertile?",
         "To determine if your soil is fertile, you should consider a few key indicators. Firstly, conduct a soil test by sending a soil sample to a local agricultural laboratory or using a soil testing kit. The test will tell you about essential nutrients such as nitrogen, phosphorus, and potassium, as well as pH levels. Ideal pH for most crops ranges from 6 to 7. Secondly, observe the soil structure: fertile soil typically has a crumbly texture and dark color, indicating good organic matter. Check for earthworms—if present in good numbers, they often signify healthy soil. \n\nAnother sign of fertility is the presence of a diverse range of plants and roots, which suggests a balanced ecosystem. Additionally, crop performance is a practical indicator: if your plants are growing well with good yields year after year, it’s a positive sign of fertile soil. Lastly, ensure proper drainage; water should not pool or drain too quickly. Regularly rotate crops and add organic matter like compost or manure to maintain and improve soil fertility over time."
        ],
        [
         "7",
         "8",
         "You provide smallholder farmers in India with high quality agricultural advice and information. Please respond to the following question like an agronomist or agricultural extension agent would respond to a smallholder farmer. Be factually correct, precise and make the response understandable for a smallholder farmer. Do not use more than 10 sentences.\n\nQuestion: How can I best control weeds in my farm?",
         "Controlling weeds effectively involves a combination of practices to minimize their impact on your crops. First, aim to use a good crop rotation plan. This helps disrupt the life cycle of weeds, making them less likely to adapt and spread. Second, consider mulching your fields with organic materials such as straw or grass clippings. Mulch helps suppress weed growth by blocking sunlight.\n\nAdditionally, practice timely and regular manual weeding, especially during the early stages of crop growth when weeds compete most vigorously. For larger areas, you might consider mechanical weeding tools like hand hoes or small tractor-mounted implements. You can also use herbicides, but it's crucial to choose the right type appropriate for your crop and follow the recommended dosage carefully to avoid damage to your plants.\n\nLastly, maintaining healthy soil through proper fertilization and irrigation boosts crop resilience, limiting weed competition. Remember to always be alert and identify weed outbreaks early so you can address them before they become a larger issue."
        ],
        [
         "8",
         "9",
         "You provide smallholder farmers in India with high quality agricultural advice and information. Please respond to the following question like an agronomist or agricultural extension agent would respond to a smallholder farmer. Be factually correct, precise and make the response understandable for a smallholder farmer. Do not use more than 10 sentences.\n\nQuestion: How do organic and synthetic/inorganic fertilizers compare in terms of effectiveness to crop production, and which one would be more suitable for different farming conditions?",
         "Both organic and synthetic (inorganic) fertilizers have their advantages and can play important roles in crop production, depending on farming conditions.\n\nOrganic fertilizers, like compost and manure, improve soil health by adding organic matter, which enhances soil structure and water retention. They also promote beneficial microbial activity. However, they release nutrients slowly, which might not meet the immediate needs of fast-growing crops.\n\nSynthetic fertilizers, on the other hand, offer specific nutrients that plants can quickly absorb, leading to faster growth and higher yields. They are more consistent in nutrient content and are easier to apply in exact amounts. However, excessive or improper use can lead to soil degradation and environmental pollution.\n\nFor smallholder farmers with well-maintained soils aiming for quick results, synthetic fertilizers might be more suitable. However, for those focusing on long-term soil health and sustainability, incorporating organic fertilizers can be beneficial. Ideally, a balanced approach using both types can optimize crop production and maintain soil health."
        ],
        [
         "9",
         "10",
         "You provide smallholder farmers in India with high quality agricultural advice and information. Please respond to the following question like an agronomist or agricultural extension agent would respond to a smallholder farmer. Be factually correct, precise and make the response understandable for a smallholder farmer. Do not use more than 10 sentences.\n\nQuestion: Lately, the onset of rains has shown significant variability from season to season. This has affected our ability to judge when to plant. In this scenario, when is the best time to plant?",
         "The variability in rainfall can indeed make planting decisions challenging. To minimize risks, it's important to rely on both historical data and real-time information. First, assess the average onset of rains in your region over the past few years. This gives you a general idea of when the rains typically start. Next, monitor local weather forecasts and updates closely for any changes or expected rainfall patterns. \n\nConsider using soil moisture sensors if available, to determine optimal conditions for planting without waiting too late or planting too early. Additionally, try to diversify your crops if possible, choosing varieties that can tolerate varying water levels or are drought-resistant. The integration of weather forecasting apps or services specifically designed for farmers, like a mobile app, can also provide timely updates. Lastly, consult with local agricultural officers or extension services for guidance suited to current conditions. This approach will help you make informed planting decisions despite the uncertainties in rainfall."
        ],
        [
         "10",
         "11",
         "You provide smallholder farmers in India with high quality agricultural advice and information. Please respond to the following question like an agronomist or agricultural extension agent would respond to a smallholder farmer. Be factually correct, precise and make the response understandable for a smallholder farmer. Do not use more than 10 sentences.\n\nQuestion: What are the signs of nutrient deficiency in maize and how can they be corrected?",
         "Signs of nutrient deficiency in maize include yellowing or paling of leaves, stunted growth, and poor ear development. Specifically, nitrogen deficiency causes leaves to turn pale green or yellow, starting from the bottom, while phosphorus deficiency leads to dark green or purplish leaves and poorly filled cobs. Potassium deficiency manifests as yellowing and scorching of leaf edges, primarily on older leaves.\n\nTo correct these deficiencies, conduct a soil test to determine specific nutrient needs. For nitrogen deficiency, apply urea or ammonium nitrate. Use diammonium phosphate (DAP) or single superphosphate (SSP) to address phosphorus deficiency. For potassium, apply muriate of potash (MOP). Ensure balanced fertilization by also including micronutrients as needed. Practice crop rotation and incorporate organic manure or compost to improve soil health and nutrient availability over time."
        ],
        [
         "11",
         "12",
         "You provide smallholder farmers in India with high quality agricultural advice and information. Please respond to the following question like an agronomist or agricultural extension agent would respond to a smallholder farmer. Be factually correct, precise and make the response understandable for a smallholder farmer. Do not use more than 10 sentences.\n\nQuestion: How can I mitigate post-harvest losses in crops and livestock?",
         "To reduce post-harvest losses, start by ensuring timely and proper harvesting when crops are at the right maturity. Use clean and sharp equipment to minimize damage. After harvesting, quickly move crops to a shaded, cool area to reduce exposure to pests and sunlight. For drying grains, use clean mats or raised platforms to prevent contamination and moisture absorption from the ground. In storage, ensure that your facilities are clean, dry, and well-ventilated; consider using airtight bins or bags to protect against pests and moisture.\n\nFor livestock, prioritize proper handling and transport to avoid stress and injury. Maintain clean slaughter and meat-processing environments to prevent contamination. Utilize cold storage or appropriate preservation techniques like drying or smoking to extend the shelf life of perishable products. Regularly inspect stored crops and products for signs of pests or spoilage and act quickly if issues arise. Finally, take advantage of local training programs or government-supported advice to access new technologies and strategies tailored to your specific needs."
        ],
        [
         "12",
         "13",
         "You provide smallholder farmers in India with high quality agricultural advice and information. Please respond to the following question like an agronomist or agricultural extension agent would respond to a smallholder farmer. Be factually correct, precise and make the response understandable for a smallholder farmer. Do not use more than 10 sentences.\n\nQuestion: What are some of the strategies that I can employ to manage climate change in crop production?",
         "To manage climate change in crop production, you can use several strategies to ensure your farm remains productive and resilient. First, consider diversifying your crops by growing multiple types of crops instead of relying on just one. This can reduce risk if some crops don't do well due to changing weather patterns. Second, adopt improved irrigation techniques, such as drip or sprinkler systems, to use water more efficiently and conserve resources during periods of drought. Third, practice soil conservation techniques like mulching or cover cropping to maintain soil moisture and fertility. Fourth, choose climate-resilient crop varieties that are more tolerant to drought, heat, or pests. Fifth, implement agroforestry by integrating trees with crops, which can provide shade, reduce erosion, and improve biodiversity. Lastly, stay informed about weather forecasts and climate patterns through trusted sources to make timely and informed decisions about planting and harvests. These strategies together can enhance your farm's capacity to cope with the uncertainties of climate change."
        ],
        [
         "13",
         "14",
         "You provide smallholder farmers in India with high quality agricultural advice and information. Please respond to the following question like an agronomist or agricultural extension agent would respond to a smallholder farmer. Be factually correct, precise and make the response understandable for a smallholder farmer. Do not use more than 10 sentences.\n\nQuestion: What are the best disease management practices in livestock production?",
         "To effectively manage diseases in livestock, start by ensuring good hygiene in your farm. Clean animal housing regularly to prevent the buildup of manure and other waste, which can harbor disease. Provide clean, fresh water and nutritious feed to your animals, as well-maintained animals have stronger immunity. Implement a vaccination schedule for your livestock to protect them from common diseases. Quarantine any new or sick animals to prevent disease spread among your herd. Regularly consult with a veterinarian for health checks and advice on disease prevention. Keep detailed records of your animals' health and treatments to identify and manage disease trends. Practice good biosecurity measures, such as controlling access to your farm and disinfecting equipment. Finally, educate yourself and other farm workers about signs of common diseases to ensure early detection and prompt treatment."
        ],
        [
         "14",
         "15",
         "You provide smallholder farmers in India with high quality agricultural advice and information. Please respond to the following question like an agronomist or agricultural extension agent would respond to a smallholder farmer. Be factually correct, precise and make the response understandable for a smallholder farmer. Do not use more than 10 sentences.\n\nQuestion: How are Farmer groups, Farmer Producer Organizations, Community Based Organizations and cooperatives important to farmers?",
         "Farmer groups, Farmer Producer Organizations (FPOs), Community Based Organizations (CBOs), and cooperatives are essential for smallholder farmers for several reasons. First, by coming together, farmers can pool their resources and buy seeds, fertilizers, and other inputs in bulk at lower prices. This helps reduce costs and increase profit margins. Second, these organizations give farmers better bargaining power in the market, allowing them to negotiate better prices for their produce. \n\nThird, Farmer groups and cooperatives often provide access to important resources like credit and financial services, which are harder to obtain individually. Fourth, they serve as a platform for knowledge sharing, where farmers can learn new farming techniques, pest management strategies, and sustainable practices. Fifth, being part of these groups often enables farmers to participate in government programs and receive subsidies more easily.\n\nFinally, these organizations can help farmers manage risks better by providing support during natural disasters or market fluctuations. Overall, they empower farmers by improving access to resources, information, and markets, leading to increased productivity and income stability."
        ]
       ],
       "shape": {
        "columns": 3,
        "rows": 15
       }
      },
      "text/html": [
       "<div>\n",
       "<style scoped>\n",
       "    .dataframe tbody tr th:only-of-type {\n",
       "        vertical-align: middle;\n",
       "    }\n",
       "\n",
       "    .dataframe tbody tr th {\n",
       "        vertical-align: top;\n",
       "    }\n",
       "\n",
       "    .dataframe thead th {\n",
       "        text-align: right;\n",
       "    }\n",
       "</style>\n",
       "<table border=\"1\" class=\"dataframe\">\n",
       "  <thead>\n",
       "    <tr style=\"text-align: right;\">\n",
       "      <th></th>\n",
       "      <th>id</th>\n",
       "      <th>prompt</th>\n",
       "      <th>answer</th>\n",
       "    </tr>\n",
       "  </thead>\n",
       "  <tbody>\n",
       "    <tr>\n",
       "      <th>0</th>\n",
       "      <td>1</td>\n",
       "      <td>You provide smallholder farmers in India with ...</td>\n",
       "      <td>I'm sorry to hear you're facing this issue. He...</td>\n",
       "    </tr>\n",
       "    <tr>\n",
       "      <th>1</th>\n",
       "      <td>2</td>\n",
       "      <td>You provide smallholder farmers in India with ...</td>\n",
       "      <td>I'm sorry to hear about the impact of droughts...</td>\n",
       "    </tr>\n",
       "    <tr>\n",
       "      <th>2</th>\n",
       "      <td>3</td>\n",
       "      <td>You provide smallholder farmers in India with ...</td>\n",
       "      <td>To learn more about crops and livestock produc...</td>\n",
       "    </tr>\n",
       "    <tr>\n",
       "      <th>3</th>\n",
       "      <td>4</td>\n",
       "      <td>You provide smallholder farmers in India with ...</td>\n",
       "      <td>For a dryland agro-ecological zone, it's impor...</td>\n",
       "    </tr>\n",
       "    <tr>\n",
       "      <th>4</th>\n",
       "      <td>5</td>\n",
       "      <td>You provide smallholder farmers in India with ...</td>\n",
       "      <td>If certified maize seeds are not available, it...</td>\n",
       "    </tr>\n",
       "    <tr>\n",
       "      <th>5</th>\n",
       "      <td>6</td>\n",
       "      <td>You provide smallholder farmers in India with ...</td>\n",
       "      <td>Chemical pesticides can play a key role in pro...</td>\n",
       "    </tr>\n",
       "    <tr>\n",
       "      <th>6</th>\n",
       "      <td>7</td>\n",
       "      <td>You provide smallholder farmers in India with ...</td>\n",
       "      <td>To determine if your soil is fertile, you shou...</td>\n",
       "    </tr>\n",
       "    <tr>\n",
       "      <th>7</th>\n",
       "      <td>8</td>\n",
       "      <td>You provide smallholder farmers in India with ...</td>\n",
       "      <td>Controlling weeds effectively involves a combi...</td>\n",
       "    </tr>\n",
       "    <tr>\n",
       "      <th>8</th>\n",
       "      <td>9</td>\n",
       "      <td>You provide smallholder farmers in India with ...</td>\n",
       "      <td>Both organic and synthetic (inorganic) fertili...</td>\n",
       "    </tr>\n",
       "    <tr>\n",
       "      <th>9</th>\n",
       "      <td>10</td>\n",
       "      <td>You provide smallholder farmers in India with ...</td>\n",
       "      <td>The variability in rainfall can indeed make pl...</td>\n",
       "    </tr>\n",
       "    <tr>\n",
       "      <th>10</th>\n",
       "      <td>11</td>\n",
       "      <td>You provide smallholder farmers in India with ...</td>\n",
       "      <td>Signs of nutrient deficiency in maize include ...</td>\n",
       "    </tr>\n",
       "    <tr>\n",
       "      <th>11</th>\n",
       "      <td>12</td>\n",
       "      <td>You provide smallholder farmers in India with ...</td>\n",
       "      <td>To reduce post-harvest losses, start by ensuri...</td>\n",
       "    </tr>\n",
       "    <tr>\n",
       "      <th>12</th>\n",
       "      <td>13</td>\n",
       "      <td>You provide smallholder farmers in India with ...</td>\n",
       "      <td>To manage climate change in crop production, y...</td>\n",
       "    </tr>\n",
       "    <tr>\n",
       "      <th>13</th>\n",
       "      <td>14</td>\n",
       "      <td>You provide smallholder farmers in India with ...</td>\n",
       "      <td>To effectively manage diseases in livestock, s...</td>\n",
       "    </tr>\n",
       "    <tr>\n",
       "      <th>14</th>\n",
       "      <td>15</td>\n",
       "      <td>You provide smallholder farmers in India with ...</td>\n",
       "      <td>Farmer groups, Farmer Producer Organizations (...</td>\n",
       "    </tr>\n",
       "  </tbody>\n",
       "</table>\n",
       "</div>"
      ],
      "text/plain": [
       "    id                                             prompt  \\\n",
       "0    1  You provide smallholder farmers in India with ...   \n",
       "1    2  You provide smallholder farmers in India with ...   \n",
       "2    3  You provide smallholder farmers in India with ...   \n",
       "3    4  You provide smallholder farmers in India with ...   \n",
       "4    5  You provide smallholder farmers in India with ...   \n",
       "5    6  You provide smallholder farmers in India with ...   \n",
       "6    7  You provide smallholder farmers in India with ...   \n",
       "7    8  You provide smallholder farmers in India with ...   \n",
       "8    9  You provide smallholder farmers in India with ...   \n",
       "9   10  You provide smallholder farmers in India with ...   \n",
       "10  11  You provide smallholder farmers in India with ...   \n",
       "11  12  You provide smallholder farmers in India with ...   \n",
       "12  13  You provide smallholder farmers in India with ...   \n",
       "13  14  You provide smallholder farmers in India with ...   \n",
       "14  15  You provide smallholder farmers in India with ...   \n",
       "\n",
       "                                               answer  \n",
       "0   I'm sorry to hear you're facing this issue. He...  \n",
       "1   I'm sorry to hear about the impact of droughts...  \n",
       "2   To learn more about crops and livestock produc...  \n",
       "3   For a dryland agro-ecological zone, it's impor...  \n",
       "4   If certified maize seeds are not available, it...  \n",
       "5   Chemical pesticides can play a key role in pro...  \n",
       "6   To determine if your soil is fertile, you shou...  \n",
       "7   Controlling weeds effectively involves a combi...  \n",
       "8   Both organic and synthetic (inorganic) fertili...  \n",
       "9   The variability in rainfall can indeed make pl...  \n",
       "10  Signs of nutrient deficiency in maize include ...  \n",
       "11  To reduce post-harvest losses, start by ensuri...  \n",
       "12  To manage climate change in crop production, y...  \n",
       "13  To effectively manage diseases in livestock, s...  \n",
       "14  Farmer groups, Farmer Producer Organizations (...  "
      ]
     },
     "execution_count": 15,
     "metadata": {},
     "output_type": "execute_result"
    }
   ],
   "source": [
    "gpt_4o_df"
   ]
  },
  {
   "cell_type": "code",
   "execution_count": null,
   "metadata": {},
   "outputs": [
    {
     "name": "stdout",
     "output_type": "stream",
     "text": [
      "Saving results to results/RAW_goldenqa_iteration1_oe_india_REVISED-openai-o1-2024-12-17.csv\n"
     ]
    }
   ],
   "source": [
    "o1_df = get_llm_answers(qa_df, \"openai/o1-2024-12-17\", country, max_completion_tokens=25000, reasoning_effort=\"medium\")"
   ]
  },
  {
   "cell_type": "code",
   "execution_count": 14,
   "metadata": {},
   "outputs": [
    {
     "data": {
      "application/vnd.microsoft.datawrangler.viewer.v0+json": {
       "columns": [
        {
         "name": "index",
         "rawType": "int64",
         "type": "integer"
        },
        {
         "name": "id",
         "rawType": "int64",
         "type": "integer"
        },
        {
         "name": "prompt",
         "rawType": "object",
         "type": "string"
        },
        {
         "name": "answer",
         "rawType": "object",
         "type": "string"
        }
       ],
       "ref": "cfc39571-cbac-4de6-85f3-6d25c83f161b",
       "rows": [
        [
         "0",
         "1",
         "You provide smallholder farmers in India with high quality agricultural advice and information. Please respond to the following question like an agronomist or agricultural extension agent would respond to a smallholder farmer. Be factually correct, precise and make the response understandable for a smallholder farmer. Do not use more than 10 sentences.\n\nQuestion: I have been applying different pesticides to control pests on my farm. However, they seem not to be effective, what can I do?",
         "First, identify the specific pest and confirm it matches the pesticide you are using.  \nSecond, check if the pesticide is still within its expiry date and confirm you are mixing it correctly.  \nThird, rotate different classes of pesticides to prevent pest resistance from building up.  \nFourth, apply pesticides only at the right time of day and under recommended weather conditions for best results.  \nFifth, scout your fields regularly to catch pest problems early and apply treatment promptly.  \nSixth, use cultural methods like removing and destroying infested crop residues to reduce pest habitat.  \nFinally, consider integrating biological controls (like beneficial insects) with chemical treatments for a more sustainable solution."
        ],
        [
         "1",
         "2",
         "You provide smallholder farmers in India with high quality agricultural advice and information. Please respond to the following question like an agronomist or agricultural extension agent would respond to a smallholder farmer. Be factually correct, precise and make the response understandable for a smallholder farmer. Do not use more than 10 sentences.\n\nQuestion: I have been losing my crops and livestock due to drought and floods. What can I do to get compensation during such occurrences?",
         "You should consider enrolling in government-backed crop insurance schemes like the Pradhan Mantri Fasal Bima Yojana (PMFBY).  \nSimilarly, for livestock, look into government livestock insurance programs offered by some state animal husbandry departments.  \nAlways keep all required documents ready, such as land records, insurance policy details, and proof of loss (photos or local authority certification).  \nReport any damage to your insurance company or local agricultural office as soon as possible after the event.  \nClaim procedures usually include field inspections, so cooperate with officials who visit your farm.  \nYou can also ask your local agriculture extension officer or Krishi Vigyan Kendra for details on government relief funds.  \nKeep in touch with your village panchayat or block office, as they can guide you on additional compensation or emergency relief measures.  \nFinally, try to diversify crops and livestock to reduce risk, and adopt climate-resilient farming practices for long-term safety."
        ],
        [
         "2",
         "3",
         "You provide smallholder farmers in India with high quality agricultural advice and information. Please respond to the following question like an agronomist or agricultural extension agent would respond to a smallholder farmer. Be factually correct, precise and make the response understandable for a smallholder farmer. Do not use more than 10 sentences.\n\nQuestion: I am interested in learning about crops and livestock production. Where can I visit to learn more about crops and livestock production?",
         "Your local Krishi Vigyan Kendra (KVK) is a great place to start. They provide hands-on training, demonstration plots, and scientific guidance on both crop cultivation and livestock rearing. Your state’s agriculture department offices often host workshops and awareness programs. Agricultural universities sometimes organize field days open to local farmers. District-level demonstration farms and research stations showcase best practices for different crops and animals. Attending farmer field schools run by NGOs or self-help groups is another good option. Accredited veterinary hospitals or animal husbandry centers can help you learn about animal health and nutrition. You can also visit progressive farmers in your region to see advanced methods in action. Make sure to keep notes and ask questions wherever you go."
        ],
        [
         "3",
         "4",
         "You provide smallholder farmers in India with high quality agricultural advice and information. Please respond to the following question like an agronomist or agricultural extension agent would respond to a smallholder farmer. Be factually correct, precise and make the response understandable for a smallholder farmer. Do not use more than 10 sentences.\n\nQuestion: Which bean variety is suitable for dryland agro-ecological zone?",
         "Cowpea (also called lobia) is one of the best bean options for dryland conditions due to its drought tolerance. Among cowpea varieties, Pant Lobia-3 (PL-3) and C-152 are commonly recommended for low-rainfall regions. These varieties can perform well even with limited water, provided the soil is well-drained. Prepare a firm seedbed and sow seeds at a depth of about 3–5 cm for better germination. Apply well-decomposed farmyard manure or compost to enhance soil fertility. Avoid waterlogging by ensuring proper field drainage. Regularly remove weeds, especially during early plant growth. Timely pest and disease management will help maximize yield. Harvest once the pods are fully matured and dry to maintain quality seeds."
        ],
        [
         "4",
         "5",
         "You provide smallholder farmers in India with high quality agricultural advice and information. Please respond to the following question like an agronomist or agricultural extension agent would respond to a smallholder farmer. Be factually correct, precise and make the response understandable for a smallholder farmer. Do not use more than 10 sentences.\n\nQuestion: If I am unable to acquire certified maize seeds, which variety can I save and replant the next season?",
         "You can save and replant open-pollinated maize varieties, not hybrids, because open-pollinated varieties produce seed with stable traits. These varieties allow you to harvest and reuse the seed for several seasons if properly handled. Choose a locally adapted open-pollinated variety recommended by your nearby agricultural department or Krishi Vigyan Kendra. Always select seed from healthy, high-yielding plants without signs of disease or pest damage. Dry the cobs thoroughly in the sun, then shell and clean the kernels before storing in a cool, dry, and airtight container. Doing so helps maintain high germination rates for the next season. Make sure to keep these varieties isolated from other maize crops to prevent cross-pollination. Consult your local agricultural extension officer if you need help identifying a reliable open-pollinated maize variety in your region."
        ],
        [
         "5",
         "6",
         "You provide smallholder farmers in India with high quality agricultural advice and information. Please respond to the following question like an agronomist or agricultural extension agent would respond to a smallholder farmer. Be factually correct, precise and make the response understandable for a smallholder farmer. Do not use more than 10 sentences.\n\nQuestion: Are chemical pesticides important and safe in crop and livestock production?",
         "Chemical pesticides can help protect your crops and animals from pests and diseases. However, overuse or misuse can harm the environment and affect your health. Always read and follow the label instructions before using any chemical pesticide. Wear proper protective clothing like gloves, masks, and boots while handling and spraying. Also avoid spraying near water sources and on windy days to prevent drift. Store chemicals in a locked place, away from children and livestock. Combine chemical sprays with other pest management practices, such as crop rotation and biological controls. Rotate different chemicals to prevent pest resistance. If you suspect poisoning in humans or animals, seek medical help immediately. Responsible use of pesticides helps ensure healthy produce for your family and community."
        ],
        [
         "6",
         "7",
         "You provide smallholder farmers in India with high quality agricultural advice and information. Please respond to the following question like an agronomist or agricultural extension agent would respond to a smallholder farmer. Be factually correct, precise and make the response understandable for a smallholder farmer. Do not use more than 10 sentences.\n\nQuestion: How can I know that my soil is fertile?",
         "A laboratory soil test is the most reliable way to check your soil’s fertility. You can collect soil samples from different parts of your field and send them to a local agricultural lab. The lab will tell you about important nutrients like nitrogen, phosphorus, and potassium, as well as your soil’s pH level. Healthy soil usually looks dark, feels crumbly, and has a pleasant “earthy” smell. Earthworms and other tiny creatures in your soil also indicate good fertility. Watch your crop growth: if plants look green, strong, and produce good yields, your soil is likely fertile. If your crops frequently show yellow leaves, stunted growth, or poor yields, you may need to add nutrients or organic matter. Regularly mix compost or well-rotted manure into your soil to keep it healthy."
        ],
        [
         "7",
         "8",
         "You provide smallholder farmers in India with high quality agricultural advice and information. Please respond to the following question like an agronomist or agricultural extension agent would respond to a smallholder farmer. Be factually correct, precise and make the response understandable for a smallholder farmer. Do not use more than 10 sentences.\n\nQuestion: How can I best control weeds in my farm?",
         "1. Use certified, weed-free seeds and plant them at the correct spacing so the crop canopy can shade out weeds.  \n2. Hand weed or hoe regularly when weeds are small, especially within the first few weeks after sowing.  \n3. Apply organic mulch like straw or dried leaves to block sunlight and reduce weed germination.  \n4. Practice crop rotation to break weed life cycles and reduce their buildup in the soil.  \n5. Maintain good field sanitation by removing weeds before they produce seeds or spread.  \n6. If using herbicides, choose the correct product for your crop, and strictly follow recommended dosages and safety guidelines.  \n7. Monitor fields frequently so you can catch and manage weeds early, ensuring healthy crop growth.  "
        ],
        [
         "8",
         "9",
         "You provide smallholder farmers in India with high quality agricultural advice and information. Please respond to the following question like an agronomist or agricultural extension agent would respond to a smallholder farmer. Be factually correct, precise and make the response understandable for a smallholder farmer. Do not use more than 10 sentences.\n\nQuestion: How do organic and synthetic/inorganic fertilizers compare in terms of effectiveness to crop production, and which one would be more suitable for different farming conditions?",
         "Organic fertilizers come from compost, manure, and other natural materials that also boost the soil’s structure and long-term fertility. Synthetic fertilizers are manufactured products that provide nutrients more quickly and in precise amounts. Both can be effective, but their suitability often depends on soil conditions, crop type, and farming practices. If your soil is low in organic matter or prone to erosion, organic fertilizers can help rebuild it over time. If you need a quick or targeted nutrient boost, synthetic fertilizers may be more appropriate. Synthetic fertilizers can be more expensive and might harm your soil structure if used improperly. Organic fertilizers are generally safer for the environment but require more labor to prepare and apply. Many experienced farmers use a combination of both types to balance immediate crop needs with long-term soil health. It is best to test your soil regularly and get specific recommendations from a local extension office. Combining good soil management with proper fertilization practices can help ensure healthy crops and higher yields."
        ],
        [
         "9",
         "10",
         "You provide smallholder farmers in India with high quality agricultural advice and information. Please respond to the following question like an agronomist or agricultural extension agent would respond to a smallholder farmer. Be factually correct, precise and make the response understandable for a smallholder farmer. Do not use more than 10 sentences.\n\nQuestion: Lately, the onset of rains has shown significant variability from season to season. This has affected our ability to judge when to plant. In this scenario, when is the best time to plant?",
         "Monitor local weather forecasts and rainfall data closely before deciding to plant.  \nWait until you have at least one or two good rainfalls that soften the soil adequately.  \nA soil moisture check can be done by feeling the top few centimeters for sufficient dampness.  \nPlanting immediately after these rains helps seeds germinate well and reduces the need for extra irrigation.  \nIf you plant too early and the rains delay, seeds may fail or grow weak.  \nIf you plant too late, the crops might not mature before the season ends.  \nAlways keep extra seeds ready in case you need to re-sow.  \nConsider using short-duration crop varieties to reduce the risk of weather fluctuations.  \nConsult with your local extension officer for precise rainfall patterns in your area.  "
        ],
        [
         "10",
         "11",
         "You provide smallholder farmers in India with high quality agricultural advice and information. Please respond to the following question like an agronomist or agricultural extension agent would respond to a smallholder farmer. Be factually correct, precise and make the response understandable for a smallholder farmer. Do not use more than 10 sentences.\n\nQuestion: What are the signs of nutrient deficiency in maize and how can they be corrected?",
         "Early signs of nitrogen deficiency include pale yellow or light green leaves, starting from lower leaves. Phosphorus deficiency often causes leaves to appear purplish, especially on the undersides. Potassium deficiency can lead to yellowing or browning of leaf edges, mainly on older leaves. Magnesium deficiency may appear as yellow or white stripes between leaf veins, starting at the leaf edges. Zinc deficiency in younger leaves often shows as white streaks between veins. To correct these, use balanced fertilizers that meet recommended nitrogen, phosphorus, and potassium ratios based on soil tests. Include micronutrient fertilizers containing zinc and magnesium if tests show low levels. Proper crop rotation, organic manure application, and timely irrigation also improve nutrient availability. Mulching helps retain soil moisture and nutrients. Always follow local extension recommendations for fertilizer types and rates."
        ],
        [
         "11",
         "12",
         "You provide smallholder farmers in India with high quality agricultural advice and information. Please respond to the following question like an agronomist or agricultural extension agent would respond to a smallholder farmer. Be factually correct, precise and make the response understandable for a smallholder farmer. Do not use more than 10 sentences.\n\nQuestion: How can I mitigate post-harvest losses in crops and livestock?",
         "1. For crops, harvest at the appropriate stage of maturity to reduce damage and ensure good quality.  \n2. Dry grains and pulses thoroughly before storage, aiming for moisture levels of around 10–12% to prevent fungal and insect infestations.  \n3. Use clean, airtight containers or properly constructed storage structures and regularly check for pests.  \n4. Practice proper handling during transport by using sturdy bags, crates, or baskets and avoid exposing produce to extreme heat or direct sunlight.  \n5. For livestock, maintain clean and well-ventilated sheds, ensuring prompt removal of manure and waste.  \n6. Vaccinate animals on time and monitor them for signs of illness, treating promptly if any arise.  \n7. Store feed and fodder in dry and clean conditions to minimize spoilage and contamination.  "
        ],
        [
         "12",
         "13",
         "You provide smallholder farmers in India with high quality agricultural advice and information. Please respond to the following question like an agronomist or agricultural extension agent would respond to a smallholder farmer. Be factually correct, precise and make the response understandable for a smallholder farmer. Do not use more than 10 sentences.\n\nQuestion: What are some of the strategies that I can employ to manage climate change in crop production?",
         "1. Choose climate-resilient crop varieties that can better withstand changes in temperature and rainfall.  \n2. Improve soil health by adding organic matter like compost or farmyard manure to help retain moisture.  \n3. Use water-efficient irrigation methods such as drip or sprinkler systems to conserve water.  \n4. Mulch your fields with crop residues or other materials to reduce evaporation and control weeds.  \n5. Practice crop rotation and intercropping to improve soil fertility and disrupt pest cycles.  \n6. Use Integrated Pest Management (IPM) techniques to control pests and diseases without relying too much on chemicals.  \n7. Harvest rainwater in farm ponds or tanks and use it during dry periods.  \n8. Stay alert to local weather forecasts so you can plan your farming activities accordingly.  \n9. Adopt conservation farming practices like minimal tillage to protect the soil structure.  "
        ],
        [
         "13",
         "14",
         "You provide smallholder farmers in India with high quality agricultural advice and information. Please respond to the following question like an agronomist or agricultural extension agent would respond to a smallholder farmer. Be factually correct, precise and make the response understandable for a smallholder farmer. Do not use more than 10 sentences.\n\nQuestion: What are the best disease management practices in livestock production?",
         "1. Keep animal shelters clean, dry, and well-ventilated to prevent disease-causing germs from spreading.  \n2. Provide balanced nutrition, including clean drinking water and quality feed, to boost your livestock’s immunity.  \n3. Vaccinate animals against common local diseases on a regular schedule recommended by veterinary experts.  \n4. Quickly separate sick or weak animals from the healthy herd to reduce the chance of spreading infections.  \n5. Regularly deworm and check for internal and external parasites to maintain good overall health.  \n6. Clean and disinfect feeding areas and equipment to kill harmful germs.  \n7. Monitor animals daily for unusual behavior, decreased appetite, or other signs of illness.  \n8. Always consult a trained veterinarian before using any medicine to ensure correct dosage and safety.  "
        ],
        [
         "14",
         "15",
         "You provide smallholder farmers in India with high quality agricultural advice and information. Please respond to the following question like an agronomist or agricultural extension agent would respond to a smallholder farmer. Be factually correct, precise and make the response understandable for a smallholder farmer. Do not use more than 10 sentences.\n\nQuestion: How are Farmer groups, Farmer Producer Organizations, Community Based Organizations and cooperatives important to farmers?",
         "Farmer groups, Farmer Producer Organizations (FPOs), Community Based Organizations (CBOs), and cooperatives help you get better prices by selling produce in larger volumes. They also help in accessing quality inputs—like seeds, fertilizers, and machinery—often at lower costs. By coming together, you can share knowledge and learn from each other’s farming experiences. These organizations often provide training, market information, and new technologies to boost productivity. They can also assist you in getting loans, insurance, or government scheme benefits more easily. Good leadership in these groups supports fair decision-making and profit sharing. Being part of such groups strengthens your negotiating power, reducing the chances of exploitation. Working collectively helps solve common farming challenges and reduces risks. Engaging in these groups also builds trust and unity among farmers. Ultimately, they improve your incomes and overall well-being."
        ]
       ],
       "shape": {
        "columns": 3,
        "rows": 15
       }
      },
      "text/html": [
       "<div>\n",
       "<style scoped>\n",
       "    .dataframe tbody tr th:only-of-type {\n",
       "        vertical-align: middle;\n",
       "    }\n",
       "\n",
       "    .dataframe tbody tr th {\n",
       "        vertical-align: top;\n",
       "    }\n",
       "\n",
       "    .dataframe thead th {\n",
       "        text-align: right;\n",
       "    }\n",
       "</style>\n",
       "<table border=\"1\" class=\"dataframe\">\n",
       "  <thead>\n",
       "    <tr style=\"text-align: right;\">\n",
       "      <th></th>\n",
       "      <th>id</th>\n",
       "      <th>prompt</th>\n",
       "      <th>answer</th>\n",
       "    </tr>\n",
       "  </thead>\n",
       "  <tbody>\n",
       "    <tr>\n",
       "      <th>0</th>\n",
       "      <td>1</td>\n",
       "      <td>You provide smallholder farmers in India with ...</td>\n",
       "      <td>First, identify the specific pest and confirm ...</td>\n",
       "    </tr>\n",
       "    <tr>\n",
       "      <th>1</th>\n",
       "      <td>2</td>\n",
       "      <td>You provide smallholder farmers in India with ...</td>\n",
       "      <td>You should consider enrolling in government-ba...</td>\n",
       "    </tr>\n",
       "    <tr>\n",
       "      <th>2</th>\n",
       "      <td>3</td>\n",
       "      <td>You provide smallholder farmers in India with ...</td>\n",
       "      <td>Your local Krishi Vigyan Kendra (KVK) is a gre...</td>\n",
       "    </tr>\n",
       "    <tr>\n",
       "      <th>3</th>\n",
       "      <td>4</td>\n",
       "      <td>You provide smallholder farmers in India with ...</td>\n",
       "      <td>Cowpea (also called lobia) is one of the best ...</td>\n",
       "    </tr>\n",
       "    <tr>\n",
       "      <th>4</th>\n",
       "      <td>5</td>\n",
       "      <td>You provide smallholder farmers in India with ...</td>\n",
       "      <td>You can save and replant open-pollinated maize...</td>\n",
       "    </tr>\n",
       "    <tr>\n",
       "      <th>5</th>\n",
       "      <td>6</td>\n",
       "      <td>You provide smallholder farmers in India with ...</td>\n",
       "      <td>Chemical pesticides can help protect your crop...</td>\n",
       "    </tr>\n",
       "    <tr>\n",
       "      <th>6</th>\n",
       "      <td>7</td>\n",
       "      <td>You provide smallholder farmers in India with ...</td>\n",
       "      <td>A laboratory soil test is the most reliable wa...</td>\n",
       "    </tr>\n",
       "    <tr>\n",
       "      <th>7</th>\n",
       "      <td>8</td>\n",
       "      <td>You provide smallholder farmers in India with ...</td>\n",
       "      <td>1. Use certified, weed-free seeds and plant th...</td>\n",
       "    </tr>\n",
       "    <tr>\n",
       "      <th>8</th>\n",
       "      <td>9</td>\n",
       "      <td>You provide smallholder farmers in India with ...</td>\n",
       "      <td>Organic fertilizers come from compost, manure,...</td>\n",
       "    </tr>\n",
       "    <tr>\n",
       "      <th>9</th>\n",
       "      <td>10</td>\n",
       "      <td>You provide smallholder farmers in India with ...</td>\n",
       "      <td>Monitor local weather forecasts and rainfall d...</td>\n",
       "    </tr>\n",
       "    <tr>\n",
       "      <th>10</th>\n",
       "      <td>11</td>\n",
       "      <td>You provide smallholder farmers in India with ...</td>\n",
       "      <td>Early signs of nitrogen deficiency include pal...</td>\n",
       "    </tr>\n",
       "    <tr>\n",
       "      <th>11</th>\n",
       "      <td>12</td>\n",
       "      <td>You provide smallholder farmers in India with ...</td>\n",
       "      <td>1. For crops, harvest at the appropriate stage...</td>\n",
       "    </tr>\n",
       "    <tr>\n",
       "      <th>12</th>\n",
       "      <td>13</td>\n",
       "      <td>You provide smallholder farmers in India with ...</td>\n",
       "      <td>1. Choose climate-resilient crop varieties tha...</td>\n",
       "    </tr>\n",
       "    <tr>\n",
       "      <th>13</th>\n",
       "      <td>14</td>\n",
       "      <td>You provide smallholder farmers in India with ...</td>\n",
       "      <td>1. Keep animal shelters clean, dry, and well-v...</td>\n",
       "    </tr>\n",
       "    <tr>\n",
       "      <th>14</th>\n",
       "      <td>15</td>\n",
       "      <td>You provide smallholder farmers in India with ...</td>\n",
       "      <td>Farmer groups, Farmer Producer Organizations (...</td>\n",
       "    </tr>\n",
       "  </tbody>\n",
       "</table>\n",
       "</div>"
      ],
      "text/plain": [
       "    id                                             prompt  \\\n",
       "0    1  You provide smallholder farmers in India with ...   \n",
       "1    2  You provide smallholder farmers in India with ...   \n",
       "2    3  You provide smallholder farmers in India with ...   \n",
       "3    4  You provide smallholder farmers in India with ...   \n",
       "4    5  You provide smallholder farmers in India with ...   \n",
       "5    6  You provide smallholder farmers in India with ...   \n",
       "6    7  You provide smallholder farmers in India with ...   \n",
       "7    8  You provide smallholder farmers in India with ...   \n",
       "8    9  You provide smallholder farmers in India with ...   \n",
       "9   10  You provide smallholder farmers in India with ...   \n",
       "10  11  You provide smallholder farmers in India with ...   \n",
       "11  12  You provide smallholder farmers in India with ...   \n",
       "12  13  You provide smallholder farmers in India with ...   \n",
       "13  14  You provide smallholder farmers in India with ...   \n",
       "14  15  You provide smallholder farmers in India with ...   \n",
       "\n",
       "                                               answer  \n",
       "0   First, identify the specific pest and confirm ...  \n",
       "1   You should consider enrolling in government-ba...  \n",
       "2   Your local Krishi Vigyan Kendra (KVK) is a gre...  \n",
       "3   Cowpea (also called lobia) is one of the best ...  \n",
       "4   You can save and replant open-pollinated maize...  \n",
       "5   Chemical pesticides can help protect your crop...  \n",
       "6   A laboratory soil test is the most reliable wa...  \n",
       "7   1. Use certified, weed-free seeds and plant th...  \n",
       "8   Organic fertilizers come from compost, manure,...  \n",
       "9   Monitor local weather forecasts and rainfall d...  \n",
       "10  Early signs of nitrogen deficiency include pal...  \n",
       "11  1. For crops, harvest at the appropriate stage...  \n",
       "12  1. Choose climate-resilient crop varieties tha...  \n",
       "13  1. Keep animal shelters clean, dry, and well-v...  \n",
       "14  Farmer groups, Farmer Producer Organizations (...  "
      ]
     },
     "execution_count": 14,
     "metadata": {},
     "output_type": "execute_result"
    }
   ],
   "source": [
    "o1_df"
   ]
  },
  {
   "cell_type": "code",
   "execution_count": null,
   "metadata": {},
   "outputs": [
    {
     "name": "stdout",
     "output_type": "stream",
     "text": [
      "Saving results to results/RAW_goldenqa_iteration1_oe_india_REVISED-openai-o3-2025-04-16.csv\n"
     ]
    }
   ],
   "source": [
    "o3_df = get_llm_answers(qa_df, \"openai/o3-2025-04-16\", country, max_completion_tokens=25000, reasoning_effort=\"medium\")"
   ]
  },
  {
   "cell_type": "code",
   "execution_count": 17,
   "metadata": {},
   "outputs": [
    {
     "data": {
      "application/vnd.microsoft.datawrangler.viewer.v0+json": {
       "columns": [
        {
         "name": "index",
         "rawType": "int64",
         "type": "integer"
        },
        {
         "name": "id",
         "rawType": "int64",
         "type": "integer"
        },
        {
         "name": "prompt",
         "rawType": "object",
         "type": "string"
        },
        {
         "name": "answer",
         "rawType": "object",
         "type": "string"
        }
       ],
       "ref": "e03cf0c5-7f25-4a08-b227-87a7af41292c",
       "rows": [
        [
         "0",
         "1",
         "You provide smallholder farmers in India with high quality agricultural advice and information. Please respond to the following question like an agronomist or agricultural extension agent would respond to a smallholder farmer. Be factually correct, precise and make the response understandable for a smallholder farmer. Do not use more than 10 sentences.\n\nQuestion: I have been applying different pesticides to control pests on my farm. However, they seem not to be effective, what can I do?",
         "1. First make sure you have correctly identified the pest; if unsure, take a sample to your nearest Krishi Vigyan Kendra or extension officer.  \n2. Use a pesticide that is specifically recommended for that pest and avoid repeating the same chemical family—pests quickly become resistant when the active ingredient never changes.  \n3. After each spray, rotate to a product with a different IRAC or FRAC group number and leave at least 10–14 days before using the same group again.  \n4. Calibrate your knapsack sprayer so the recommended dose of chemical and the right volume of water reach every part of the crop; under- or over-dilution both reduce effectiveness.  \n5. Mix the spray in clean, soft water; hard or muddy water binds many pesticides and makes them weak.  \n6. Spray early morning or late afternoon when the air is calm and the pest is active; wind and hot midday sun cause drift and rapid evaporation.  \n7. Add a sticker–spreader (about 1 ml per litre) so the spray forms an even film on the leaves, especially against sucking insects.  \n8. Combine chemicals with cultural and biological methods: rogue and destroy heavily infested plants, use yellow or blue sticky traps, release Trichogramma cards, and sow pest-tolerant varieties.  \n9. Keep a notebook of spray date, product name, group number, dose and result; these records help you and the extension worker fine-tune your program and avoid resistance."
        ],
        [
         "1",
         "2",
         "You provide smallholder farmers in India with high quality agricultural advice and information. Please respond to the following question like an agronomist or agricultural extension agent would respond to a smallholder farmer. Be factually correct, precise and make the response understandable for a smallholder farmer. Do not use more than 10 sentences.\n\nQuestion: I have been losing my crops and livestock due to drought and floods. What can I do to get compensation during such occurrences?",
         "1. The main way to receive compensation for crop losses due to droughts or floods is to enrol your fields in the Pradhan Mantri Fasal Bima Yojana (PMFBY), the central government’s crop-insurance scheme.  \n2. You can sign up at your nearest bank, Primary Agricultural Credit Society, Common Service Centre, or through the PMFBY mobile app before the cut-off date for each season (usually 15–31 days before sowing).  \n3. Pay only 2 % of the sum insured for Kharif crops, 1.5 % for Rabi crops and 5 % for commercial/horticulture crops; the balance premium is paid by the government.  \n4. If a drought or flood damages your standing crop, inform the insurance company, bank or agriculture officer within 72 hours—delayed intimation can cancel the claim.  \n5. Keep evidence: geo-tagged photos, Panchayat/Patwari loss report, seed purchase bills and field-book entries; these help the assessor calculate your loss quickly.  \n6. For livestock, enrol animals under the Livestock Insurance Scheme run by the Department of Animal Husbandry; premiums are 30–50 % subsidised for up to two milch animals per family.  \n7. In case an insured animal dies due to a calamity, get a post-mortem certificate from the local veterinarian and submit the claim form to the insurance company within 7 days.  \n8. When a calamity is officially declared by the district administration, you can also seek immediate relief from the State Disaster Response Fund through your Gram Panchayat or Tehsildar; this is separate from insurance but usually smaller.  \n9. Finally, keep your land records (7/12 extract or Pahani), Aadhaar card and bank passbook updated, because all compensation and insurance payments are transferred directly to your bank account under DBT (Direct Benefit Transfer)."
        ],
        [
         "2",
         "3",
         "You provide smallholder farmers in India with high quality agricultural advice and information. Please respond to the following question like an agronomist or agricultural extension agent would respond to a smallholder farmer. Be factually correct, precise and make the response understandable for a smallholder farmer. Do not use more than 10 sentences.\n\nQuestion: I am interested in learning about crops and livestock production. Where can I visit to learn more about crops and livestock production?",
         "1. Start with the Krishi Vigyan Kendra (KVK) in your district; they give free, hands-on training, have demo crop plots and keep small dairy, goat and poultry units you can observe.  \n2. Visit the nearest State Agricultural University campus or its regional research station, which keeps model fields and livestock farms and offers farmer exposure visits on request.  \n3. ICAR institutes—like IARI, New Delhi (crops), IVRI, Izatnagar (animal health), NDRI, Karnal (dairy) and CIBA, Chennai (fish)—run short farmer courses and open days throughout the year.  \n4. Your District Agriculture Training Centre or Farm Information & Advisory Centre, run by the state agriculture department, holds low-cost practical classes on both crops and animals.  \n5. Government livestock farms under the Department of Animal Husbandry allow farmers to watch best management practices and buy improved calves, chicks or kids.  \n6. Attend seasonal Kisan Melas and Agri-Tech Fairs organised by SAUs and ICAR; you can see new varieties, machinery demonstrations and live animal displays in one place.  \n7. Ask the ATMA (Agricultural Technology Management Agency) office at block level to put you on study tours to progressive farmers’ fields or commercial dairy and poultry units nearby.  \n8. For addresses, dates and phone numbers of all these centres, call the toll-free Kisan Call Centre 1800-180-1551 or check the mKisan and Kisan Suvidha mobile apps."
        ],
        [
         "3",
         "4",
         "You provide smallholder farmers in India with high quality agricultural advice and information. Please respond to the following question like an agronomist or agricultural extension agent would respond to a smallholder farmer. Be factually correct, precise and make the response understandable for a smallholder farmer. Do not use more than 10 sentences.\n\nQuestion: Which bean variety is suitable for dryland agro-ecological zone?",
         "For dryland conditions, use the French bean (vegetable bean) variety “Contender.”  \nIt has a deep root system and tolerates short drought spells better than most other varieties.  \nThe crop comes to first picking in about 45–50 days, so it escapes late-season moisture stress.  \nPods are 12–14 cm long, fleshy and string-less, fetching a good market price.  \nUnder rain-fed management you can expect 4–5 tonnes of green pods per hectare.  \nSow with the first dependable rains at 45 cm row spacing and 10 cm between plants, using about 50 kg seed/ha.  \nIncorporate 5 t FYM plus a basal dose of 20 : 50 : 25 kg N : P₂O₅ : K₂O per hectare; give another 20 kg N at flowering if soil moisture permits.  \nKeep the field weed-free for the first 30 days and mulch with crop residue to conserve moisture.  \nThe variety is moderately resistant to mosaic and rust; if disease appears, spray neem extract or a triazole fungicide.  \nHarvest pods every 3–4 days at pencil thickness to maintain quality and encourage continuous flowering."
        ],
        [
         "4",
         "5",
         "You provide smallholder farmers in India with high quality agricultural advice and information. Please respond to the following question like an agronomist or agricultural extension agent would respond to a smallholder farmer. Be factually correct, precise and make the response understandable for a smallholder farmer. Do not use more than 10 sentences.\n\nQuestion: If I am unable to acquire certified maize seeds, which variety can I save and replant the next season?",
         "Choose an open-pollinated composite (OPV) maize variety, not a hybrid, because OPVs breed “true to type” and will still give you good yield when their seed is saved for the next season. Popular Indian OPVs you can save include Suwan-1, Shakti, Vijay Composite, Jawahar Maize-15 (JM-15) and Vivek QPM-9; ask your nearest Krishi Vigyan Kendra which one suits your agro-climatic zone. During harvest select the healthiest, well-filled, disease-free cobs from plants in the middle of the field, because these are least affected by border pollen contamination. Dry the selected cobs to 12–13 % moisture (the kernels should bite hard and fall clean) and store them unshelled in a cool, dry, rodent-free place or shell and keep in airtight bags after treating with fungicide/insecticide dust (e.g., thiram + carbaryl 5 g kg⁻¹ seed). Keep at least 200 m isolation distance from other maize or sorghum fields at flowering time next season to maintain purity. Do not replant single-cross, double-cross or QPM hybrids such as HQPM-1, HQPM-5, P3396, etc., because their F₂ seed segregates and yields can drop 25–40 %. Test germination one month before sowing; if less than 85 %, increase seed rate or obtain fresh seed. Use a seed rate of 20–25 kg ha⁻¹ for bold-kernel OPVs, treat with Azospirillum + Trichoderma if available, and plant at 60 cm × 20 cm spacing. Follow recommended fertilizer (about 100:50:50 kg NPK ha⁻¹ split 3 times) and timely weed control to realize the genetic potential of the saved seed."
        ],
        [
         "5",
         "6",
         "You provide smallholder farmers in India with high quality agricultural advice and information. Please respond to the following question like an agronomist or agricultural extension agent would respond to a smallholder farmer. Be factually correct, precise and make the response understandable for a smallholder farmer. Do not use more than 10 sentences.\n\nQuestion: Are chemical pesticides important and safe in crop and livestock production?",
         "Yes, chemical pesticides can be useful tools for protecting crops and livestock, but their benefits and safety depend entirely on correct selection and careful use. They quickly reduce pest or disease pressure and can prevent large yield or animal-health losses when no other method works in time. However, the same chemicals can harm people, animals, beneficial insects, soil life and water if you choose the wrong product, use the wrong dose, apply at the wrong stage, or ignore safety rules.  \n\nFollow these basics: (1) Identify the pest accurately and use a pesticide that is officially recommended for that problem; (2) Read the label, measure the dose exactly, and apply only when pest numbers reach the economic-threshold level; (3) Wear gloves, mask, long sleeves and wash afterwards; (4) Keep children, livestock, bee boxes and fish ponds away while spraying; (5) Respect the pre-harvest interval for crops and the drug-withdrawal period for livestock products; (6) Rotate pesticide groups to slow resistance; and (7) Store leftovers in a locked, labeled place, never in food or water containers.  \n\nCombine chemicals with other practices—clean seed, resistant varieties, crop rotation, natural predators, good sanitation—so that you spray less often (Integrated Pest Management). Used this way, modern pesticides are both important and reasonably safe; misused, they are expensive and dangerous."
        ],
        [
         "6",
         "7",
         "You provide smallholder farmers in India with high quality agricultural advice and information. Please respond to the following question like an agronomist or agricultural extension agent would respond to a smallholder farmer. Be factually correct, precise and make the response understandable for a smallholder farmer. Do not use more than 10 sentences.\n\nQuestion: How can I know that my soil is fertile?",
         "1. The surest way to judge fertility is to send a soil sample to your local soil-testing laboratory; the report tells you the levels of nitrogen (N), phosphorus (P), potassium (K), organic matter, pH and any micronutrient shortages.  \n2. If the lab says your soil has medium to high N (0.3–0.5%), available P above 10 kg/acre and available K above 120 kg/acre, with pH between 6.5 and 7.5, it is considered fertile for most crops.  \n3. Observe your crops: uniform dark-green leaves, good stem thickness, and steady, vigorous growth without extra fertiliser are signs the soil is supplying enough nutrients.  \n4. Check previous harvests; if you consistently get yields close to the district average or better, your soil is likely fertile.  \n5. Dig a small pit: soil that is crumbly, smells earthy, and shows 3–4 earthworms in a spadeful usually has good organic matter and biological activity, both indicators of fertility.  \n6. After heavy rain, fertile soil drains well but still stays moist—standing water or very hard, cracked surfaces suggest problems.  \n7. Look for a diverse mix of weeds and small insects; overly sparse or single-species weed growth can mean nutrient imbalance.  \n8. Keep records of how much fertiliser you apply versus yield; if yields stay high with modest inputs, the underlying fertility is good.  \n9. Repeat a lab test every 2–3 years to track changes and adjust manure or fertiliser use.  \n10. If tests or field signs show deficiencies, add well-decomposed farmyard manure, compost, green manures or specific fertilisers as recommended to rebuild soil fertility."
        ],
        [
         "7",
         "8",
         "You provide smallholder farmers in India with high quality agricultural advice and information. Please respond to the following question like an agronomist or agricultural extension agent would respond to a smallholder farmer. Be factually correct, precise and make the response understandable for a smallholder farmer. Do not use more than 10 sentences.\n\nQuestion: How can I best control weeds in my farm?",
         "1. Start with clean seed and a well-prepared, level field so that weeds emerge uniformly and can be tackled together.  \n2. Use line sowing or wider row spacing so you can run a wheel hoe or khurpi between rows 15–20 days after sowing and again at 35–40 days.  \n3. Keep soil covered: sow a short-duration green-manure crop in the off-season or spread 5–7 t/acre of crop residue/straw mulch to block light and stop many weed seeds from sprouting.  \n4. Maintain good crop density and apply the right basal fertiliser; a vigorous crop shades the soil and suppresses weeds naturally.  \n5. Rotate crops (e.g., cereals → pulses → oilseeds) so that the same weed species are not favoured year after year.  \n6. If irrigation is available, give a light pre-sowing irrigation (“rauni”) to germinate weed seeds, then do a shallow tillage to kill them before you plant.  \n7. For most cereals, spraying Pendimethalin 30 EC at 1 L/acre within 24 hours of sowing (pre-emergence) in 200 L water prevents new weeds from coming up.  \n8. In pulses and vegetables, if broad-leaf weeds escape later, a post-emergence spray of Imazethapyr 10 SL at 200 mL/acre or quizalofop-P 5 EC at 400 mL/acre (for grasses) can be used when the crop is 2–3 leaves old.  \n9. Always calibrate your knapsack sprayer, use a flat-fan nozzle, and keep the spray boom 50 cm above ground to avoid patchy control and crop injury.  \n10. Finally, remove any weeds that survive before they set seed, compost them away from the field, and change herbicide groups every season to prevent resistance."
        ],
        [
         "8",
         "9",
         "You provide smallholder farmers in India with high quality agricultural advice and information. Please respond to the following question like an agronomist or agricultural extension agent would respond to a smallholder farmer. Be factually correct, precise and make the response understandable for a smallholder farmer. Do not use more than 10 sentences.\n\nQuestion: How do organic and synthetic/inorganic fertilizers compare in terms of effectiveness to crop production, and which one would be more suitable for different farming conditions?",
         "1. Organic sources like farmyard manure, compost, poultry litter and green manure improve soil structure, water-holding and microbial life, but they contain low nutrient percentages (e.g., FYM ≈ 0.5% N) and release them slowly.  \n2. Because of this slow, steady release they suit rain-fed fields, light soils prone to erosion, horticulture crops that need good tilth, and farms where plenty of crop residues or animal dung is already available.  \n3. Inorganic (synthetic) fertilizers such as urea, DAP, SSP or MOP carry very concentrated nutrients (e.g., urea 46 % N) that become available to the crop within days, giving a quick yield response, especially in high-yielding hybrids under irrigation.  \n4. They are therefore vital when soil tests show acute N, P or K deficiency, or when the farmer wants high output from a small area in a short season.  \n5. However, repeated use of only synthetics can harden the soil, reduce organic matter, increase acidity or salinity, and raise input costs.  \n6. Exclusively organic nutrition usually cannot meet the full NPK demand of cereals like paddy or maize on time, and transporting 5–10 t/acre of manure is costly.  \n7. The most practical approach in most Indian smallholdings is “Integrated Nutrient Management”: apply 25–50 % of nutrient needs through compost/FYM/green manure to keep the soil healthy, and supply the remaining deficit with well-timed, right-dose inorganic fertilizers based on soil test results.  \n8. Place urea in two or three splits, mix SSP/DAP at sowing, and add MOP before flowering; meanwhile incorporate compost or crop residues after harvest to rebuild organic matter.  \n9. Under organic-certified farming or where market premium exists, rely mainly on manures, vermicompost, biofertilizers and legume rotations, but expect slightly lower yields for the first 2–3 years.  \n10. In summary, use organics for long-term soil fertility and moisture benefits, synthetics for immediate nutrient needs and higher yields, and blend both according to your soil test, water availability and labour resources."
        ],
        [
         "9",
         "10",
         "You provide smallholder farmers in India with high quality agricultural advice and information. Please respond to the following question like an agronomist or agricultural extension agent would respond to a smallholder farmer. Be factually correct, precise and make the response understandable for a smallholder farmer. Do not use more than 10 sentences.\n\nQuestion: Lately, the onset of rains has shown significant variability from season to season. This has affected our ability to judge when to plant. In this scenario, when is the best time to plant?",
         "1. Instead of fixing a calendar date, wait to sow until your field has received at least 30–40 mm of effective rain (or an irrigation) within 3–4 consecutive days, so that the top 15 cm of soil is fully moist.  \n2. Check the IMD’s 5-day and 15-day district forecasts each evening; if they predict another 20 mm or more within the next week, you can safely go ahead with sowing.  \n3. If forecasts show only scattered, light showers (<15 mm), hold seed and keep land prepared—sowing into half-wet soil leads to poor germination and patchy stands.  \n4. Where you have access to water, a pre-sowing “life-saving” irrigation can substitute for the first rain and let you plant 7–10 days earlier.  \n5. If rains are delayed beyond the normal window, switch to the short-duration or drought-tolerant varieties recommended by your KVK (e.g., 90-day pearl millet instead of 110-day, or early-maturing soybean).  \n6. For very erratic areas, split your seed: dry-sow 25–30 % of the area just before a high-confidence rain forecast, and plant the rest only after actual rainfall, reducing total risk.  \n7. Always treat and “prime” seed (soak 6–8 hours, shade-dry) before sowing; primed seed emerges 1–2 days faster and copes better if the next shower is late.  \n8. Finish sowing within 7–10 days of the first effective rainfall to capture the full growing season and avoid terminal drought at maturity.  \n9. Keep simple records of rain dates, soil moisture, and yield each year; after 2–3 seasons you will have your own reliable local guide for the best planting window."
        ],
        [
         "10",
         "11",
         "You provide smallholder farmers in India with high quality agricultural advice and information. Please respond to the following question like an agronomist or agricultural extension agent would respond to a smallholder farmer. Be factually correct, precise and make the response understandable for a smallholder farmer. Do not use more than 10 sentences.\n\nQuestion: What are the signs of nutrient deficiency in maize and how can they be corrected?",
         "1. Nitrogen lack shows as pale-green to yellow older leaves and slow growth; side-dress 40–50 kg urea/acre at knee-high stage and keep the field moist.  \n2. Phosphorus lack gives a purple or reddish colour on older leaves and stunted roots; mix 40–50 kg DAP or 75–100 kg SSP/acre into the soil at sowing.  \n3. Potassium lack causes yellow-brown burning along the edges of lower leaves and weak, lodging stalks; apply 25–30 kg MOP (muriate of potash) or 100 kg wood ash/acre before tasselling.  \n4. Zinc lack appears as white-yellow bands on the young leaves starting from the mid-rib with shortened plants; add 10 kg zinc sulphate/acre to the soil or spray 0.5 % zinc sulphate + 0.25 % lime on the foliage.  \n5. Sulphur lack gives uniform yellowing of the youngest leaves and thin stems; broadcast 40 kg gypsum or use SSP instead of DAP at planting.  \n6. Magnesium lack shows as yellowing between the veins of older leaves; treat with 20 kg magnesium sulphate/acre or apply dolomitic lime if soil is acidic.  \n7. Iron lack causes the youngest leaves to turn yellow while veins stay green; correct by spraying 1 % ferrous sulphate + 0.5 % lime twice at 10-day intervals.  \n8. Keep soil pH around 6–7.5, return crop residues, and add 2–4 t well-decomposed FYM/acre to improve nutrient supply and prevent most deficiencies."
        ],
        [
         "11",
         "12",
         "You provide smallholder farmers in India with high quality agricultural advice and information. Please respond to the following question like an agronomist or agricultural extension agent would respond to a smallholder farmer. Be factually correct, precise and make the response understandable for a smallholder farmer. Do not use more than 10 sentences.\n\nQuestion: How can I mitigate post-harvest losses in crops and livestock?",
         "1. Harvest at the right maturity in the cool morning or late afternoon, cut gently, and avoid dropping produce to reduce bruises and heat build-up.  \n2. Remove “field heat” quickly: keep fruits and vegetables in shade, spread thinly, or dip in cool clean water and drain before packing.  \n3. Sort out damaged pieces and pack only sound produce in ventilated plastic crates or baskets lined with leaves—never over-fill gunny bags that crush produce.  \n4. Dry food grains to 12–13 % moisture on clean tarpaulins, then store them in airtight metal bins, Pusa kothar, or triple-layer hermetic bags with a handful of dried neem leaves or an approved phosphine tablet to stop insects.  \n5. Raise stores 30 cm off the floor, fit rat guards on posts, keep roofs leak-free, and inspect sacks or bins every month for pests.  \n6. For perishables, build a zero-energy cool chamber (double brick wall filled with moist sand) or use a small solar/ICE powered walk-in cooler to keep temperature 10–15 °C lower and double shelf life.  \n7. Process or add value to surplus: sun-dry chillies and onions, make pickles, pulp, or jam from mango and tomato, or pool produce through an FPO for collective grading, packing, and faster marketing.  \n8. For milk, wash the udder and hands, milk into a covered stainless-steel can, strain, and cool below 4 °C within two hours using an ice-water bath or village bulk milk chiller.  \n9. For meat, slaughter on a clean platform, remove intestines quickly, wash with potable water, and hang the carcass in shade or a cool room; sell, chill, or freeze the same day.  \n10. Keep simple records, clean equipment after every use, and remember: quick cooling or drying, hygienic handling, pest-proof storage, and regular checks together cut post-harvest losses by 30–50 %."
        ],
        [
         "12",
         "13",
         "You provide smallholder farmers in India with high quality agricultural advice and information. Please respond to the following question like an agronomist or agricultural extension agent would respond to a smallholder farmer. Be factually correct, precise and make the response understandable for a smallholder farmer. Do not use more than 10 sentences.\n\nQuestion: What are some of the strategies that I can employ to manage climate change in crop production?",
         "1. Select short-duration or drought/heat-tolerant varieties recommended by your Krishi Vigyan Kendra (e.g., pearl millet 86M86, rice Sahbhagi Dhan) so the crop can finish before extreme weather strikes.  \n2. Shift sowing dates using IMD or DAMU weather forecasts—plant a little earlier in years with likely late monsoon, or a little later if very heavy early rains are predicted.  \n3. Diversify: intercrop or rotate cereals with pulses/oilseeds (such as pigeon-pea + sorghum or wheat after mungbean) to spread risk and improve soil fertility.  \n4. Conserve water through mulching with crop residues, broad-bed furrow or zero tillage, and, where possible, adopt drip or sprinkler and store rainwater in a farm pond.  \n5. Add plenty of organic matter—compost, FYM, green manure or crop residues—to increase soil water-holding capacity, reduce temperature swings, and keep microbes active.  \n6. Plant shelterbelts or border rows of neem, gliricidia or subabul to cut hot winds, reduce evaporation, and supply fuel, fodder or green manure.  \n7. Follow agromet advisories for timing irrigation, fertilizer and pesticide sprays, so inputs are not lost to unseasonal rain or heat.  \n8. Scout fields weekly and practice integrated pest management; warmer, erratic weather often triggers outbreaks of fall armyworm, whitefly or sucking pests.  \n9. Enroll in PMFBY crop insurance and use climate-smart credit schemes or FPOs to soften income shocks from drought, flood or hail.  \n10. Form village groups to save seed of hardy local varieties and stock dry fodder, so you have planting material and livestock feed ready after extreme events."
        ],
        [
         "13",
         "14",
         "You provide smallholder farmers in India with high quality agricultural advice and information. Please respond to the following question like an agronomist or agricultural extension agent would respond to a smallholder farmer. Be factually correct, precise and make the response understandable for a smallholder farmer. Do not use more than 10 sentences.\n\nQuestion: What are the best disease management practices in livestock production?",
         "1. Buy animals only from trusted sources and keep any new or sick stock in a separate pen for at least 14 days before mixing with the main herd or flock.  \n2. Clean sheds every day, remove dung, change wet bedding, and spray or white-wash walls and floors with lime or phenyl once a month.  \n3. Give balanced rations, minerals, and plenty of clean water; well-fed animals fight infections better.  \n4. Vaccinate on schedule for your area: cattle/buffalo for FMD, HS and BQ; goats/sheep for PPR and ET; poultry for Ranikhet and IBD—mark the dates in a notebook.  \n5. Deworm cattle, goats and sheep every 4–6 months and control ticks, lice, flies and mosquitoes with approved sprays or neem-based solutions.  \n6. Burn or bury dead animals in a 6-foot pit with lime to prevent scavengers and disease spread.  \n7. Never share needles, dehorners or castration tools without first boiling or disinfecting them in spirit.  \n8. Watch animals daily; if you notice fever, coughing, diarrhoea, wounds or sudden drop in milk/egg yield, isolate the animal and call a veterinarian at once.  \n9. Keep simple records of births, treatments and deaths—patterns in the book help diagnose problems early.  \n10. When all farmers in the village follow these steps together, overall disease pressure falls, medicine costs drop and profits rise."
        ],
        [
         "14",
         "15",
         "You provide smallholder farmers in India with high quality agricultural advice and information. Please respond to the following question like an agronomist or agricultural extension agent would respond to a smallholder farmer. Be factually correct, precise and make the response understandable for a smallholder farmer. Do not use more than 10 sentences.\n\nQuestion: How are Farmer groups, Farmer Producer Organizations, Community Based Organizations and cooperatives important to farmers?",
         "1. When many small farmers join together in a farmer group, FPO, CBO or cooperative, they can pool their harvest and sell in bulk, which usually brings 5-15 % higher prices than selling individually to a trader.  \n2. Buying seed, fertiliser, pesticides or machinery as a group lets you place large orders and get wholesale rates, so your input costs fall.  \n3. Banks, NABARD and government schemes prefer to lend to organised groups; therefore you can obtain cheaper credit and crop insurance that is hard to access as a single farmer.  \n4. These organisations often arrange training on improved varieties, soil testing, IPM and post-harvest handling, so members keep up with the latest agronomic practices.  \n5. By sharing equipment such as tractors, rotavators, threshers or dryers through a cooperative, each member avoids the high cost of individual ownership.  \n6. Groups can set up small processing units (dal mill, oil expeller, grading / packing centre) that add value and allow produce to be sold directly to retail chains or e-markets.  \n7. Collective bargaining gives you a stronger voice with input suppliers, mandi agents and government departments, helping resolve payment delays and influencing supportive policies.  \n8. Finally, working together builds social support: members help each other during planting, harvest or emergencies, reducing individual risk and labour shortages."
        ]
       ],
       "shape": {
        "columns": 3,
        "rows": 15
       }
      },
      "text/html": [
       "<div>\n",
       "<style scoped>\n",
       "    .dataframe tbody tr th:only-of-type {\n",
       "        vertical-align: middle;\n",
       "    }\n",
       "\n",
       "    .dataframe tbody tr th {\n",
       "        vertical-align: top;\n",
       "    }\n",
       "\n",
       "    .dataframe thead th {\n",
       "        text-align: right;\n",
       "    }\n",
       "</style>\n",
       "<table border=\"1\" class=\"dataframe\">\n",
       "  <thead>\n",
       "    <tr style=\"text-align: right;\">\n",
       "      <th></th>\n",
       "      <th>id</th>\n",
       "      <th>prompt</th>\n",
       "      <th>answer</th>\n",
       "    </tr>\n",
       "  </thead>\n",
       "  <tbody>\n",
       "    <tr>\n",
       "      <th>0</th>\n",
       "      <td>1</td>\n",
       "      <td>You provide smallholder farmers in India with ...</td>\n",
       "      <td>1. First make sure you have correctly identifi...</td>\n",
       "    </tr>\n",
       "    <tr>\n",
       "      <th>1</th>\n",
       "      <td>2</td>\n",
       "      <td>You provide smallholder farmers in India with ...</td>\n",
       "      <td>1. The main way to receive compensation for cr...</td>\n",
       "    </tr>\n",
       "    <tr>\n",
       "      <th>2</th>\n",
       "      <td>3</td>\n",
       "      <td>You provide smallholder farmers in India with ...</td>\n",
       "      <td>1. Start with the Krishi Vigyan Kendra (KVK) i...</td>\n",
       "    </tr>\n",
       "    <tr>\n",
       "      <th>3</th>\n",
       "      <td>4</td>\n",
       "      <td>You provide smallholder farmers in India with ...</td>\n",
       "      <td>For dryland conditions, use the French bean (v...</td>\n",
       "    </tr>\n",
       "    <tr>\n",
       "      <th>4</th>\n",
       "      <td>5</td>\n",
       "      <td>You provide smallholder farmers in India with ...</td>\n",
       "      <td>Choose an open-pollinated composite (OPV) maiz...</td>\n",
       "    </tr>\n",
       "    <tr>\n",
       "      <th>5</th>\n",
       "      <td>6</td>\n",
       "      <td>You provide smallholder farmers in India with ...</td>\n",
       "      <td>Yes, chemical pesticides can be useful tools f...</td>\n",
       "    </tr>\n",
       "    <tr>\n",
       "      <th>6</th>\n",
       "      <td>7</td>\n",
       "      <td>You provide smallholder farmers in India with ...</td>\n",
       "      <td>1. The surest way to judge fertility is to sen...</td>\n",
       "    </tr>\n",
       "    <tr>\n",
       "      <th>7</th>\n",
       "      <td>8</td>\n",
       "      <td>You provide smallholder farmers in India with ...</td>\n",
       "      <td>1. Start with clean seed and a well-prepared, ...</td>\n",
       "    </tr>\n",
       "    <tr>\n",
       "      <th>8</th>\n",
       "      <td>9</td>\n",
       "      <td>You provide smallholder farmers in India with ...</td>\n",
       "      <td>1. Organic sources like farmyard manure, compo...</td>\n",
       "    </tr>\n",
       "    <tr>\n",
       "      <th>9</th>\n",
       "      <td>10</td>\n",
       "      <td>You provide smallholder farmers in India with ...</td>\n",
       "      <td>1. Instead of fixing a calendar date, wait to ...</td>\n",
       "    </tr>\n",
       "    <tr>\n",
       "      <th>10</th>\n",
       "      <td>11</td>\n",
       "      <td>You provide smallholder farmers in India with ...</td>\n",
       "      <td>1. Nitrogen lack shows as pale-green to yellow...</td>\n",
       "    </tr>\n",
       "    <tr>\n",
       "      <th>11</th>\n",
       "      <td>12</td>\n",
       "      <td>You provide smallholder farmers in India with ...</td>\n",
       "      <td>1. Harvest at the right maturity in the cool m...</td>\n",
       "    </tr>\n",
       "    <tr>\n",
       "      <th>12</th>\n",
       "      <td>13</td>\n",
       "      <td>You provide smallholder farmers in India with ...</td>\n",
       "      <td>1. Select short-duration or drought/heat-toler...</td>\n",
       "    </tr>\n",
       "    <tr>\n",
       "      <th>13</th>\n",
       "      <td>14</td>\n",
       "      <td>You provide smallholder farmers in India with ...</td>\n",
       "      <td>1. Buy animals only from trusted sources and k...</td>\n",
       "    </tr>\n",
       "    <tr>\n",
       "      <th>14</th>\n",
       "      <td>15</td>\n",
       "      <td>You provide smallholder farmers in India with ...</td>\n",
       "      <td>1. When many small farmers join together in a ...</td>\n",
       "    </tr>\n",
       "  </tbody>\n",
       "</table>\n",
       "</div>"
      ],
      "text/plain": [
       "    id                                             prompt  \\\n",
       "0    1  You provide smallholder farmers in India with ...   \n",
       "1    2  You provide smallholder farmers in India with ...   \n",
       "2    3  You provide smallholder farmers in India with ...   \n",
       "3    4  You provide smallholder farmers in India with ...   \n",
       "4    5  You provide smallholder farmers in India with ...   \n",
       "5    6  You provide smallholder farmers in India with ...   \n",
       "6    7  You provide smallholder farmers in India with ...   \n",
       "7    8  You provide smallholder farmers in India with ...   \n",
       "8    9  You provide smallholder farmers in India with ...   \n",
       "9   10  You provide smallholder farmers in India with ...   \n",
       "10  11  You provide smallholder farmers in India with ...   \n",
       "11  12  You provide smallholder farmers in India with ...   \n",
       "12  13  You provide smallholder farmers in India with ...   \n",
       "13  14  You provide smallholder farmers in India with ...   \n",
       "14  15  You provide smallholder farmers in India with ...   \n",
       "\n",
       "                                               answer  \n",
       "0   1. First make sure you have correctly identifi...  \n",
       "1   1. The main way to receive compensation for cr...  \n",
       "2   1. Start with the Krishi Vigyan Kendra (KVK) i...  \n",
       "3   For dryland conditions, use the French bean (v...  \n",
       "4   Choose an open-pollinated composite (OPV) maiz...  \n",
       "5   Yes, chemical pesticides can be useful tools f...  \n",
       "6   1. The surest way to judge fertility is to sen...  \n",
       "7   1. Start with clean seed and a well-prepared, ...  \n",
       "8   1. Organic sources like farmyard manure, compo...  \n",
       "9   1. Instead of fixing a calendar date, wait to ...  \n",
       "10  1. Nitrogen lack shows as pale-green to yellow...  \n",
       "11  1. Harvest at the right maturity in the cool m...  \n",
       "12  1. Select short-duration or drought/heat-toler...  \n",
       "13  1. Buy animals only from trusted sources and k...  \n",
       "14  1. When many small farmers join together in a ...  "
      ]
     },
     "execution_count": 17,
     "metadata": {},
     "output_type": "execute_result"
    }
   ],
   "source": [
    "o3_df"
   ]
  },
  {
   "cell_type": "code",
   "execution_count": null,
   "metadata": {},
   "outputs": [
    {
     "name": "stdout",
     "output_type": "stream",
     "text": [
      "Saving results to results/RAW_goldenqa_iteration1_oe_india_REVISED-openai-o4-mini-2025-04-16.csv\n"
     ]
    }
   ],
   "source": [
    "o4_mini_df = get_llm_answers(qa_df, \"openai/o4-mini-2025-04-16\", country, max_completion_tokens=25000, reasoning_effort=\"medium\")"
   ]
  },
  {
   "cell_type": "code",
   "execution_count": 20,
   "metadata": {},
   "outputs": [
    {
     "data": {
      "application/vnd.microsoft.datawrangler.viewer.v0+json": {
       "columns": [
        {
         "name": "index",
         "rawType": "int64",
         "type": "integer"
        },
        {
         "name": "id",
         "rawType": "int64",
         "type": "integer"
        },
        {
         "name": "prompt",
         "rawType": "object",
         "type": "string"
        },
        {
         "name": "answer",
         "rawType": "object",
         "type": "string"
        }
       ],
       "ref": "93b674b4-bbc5-4b1e-b9b5-86c69c0d41e9",
       "rows": [
        [
         "0",
         "1",
         "You provide smallholder farmers in India with high quality agricultural advice and information. Please respond to the following question like an agronomist or agricultural extension agent would respond to a smallholder farmer. Be factually correct, precise and make the response understandable for a smallholder farmer. Do not use more than 10 sentences.\n\nQuestion: I have been applying different pesticides to control pests on my farm. However, they seem not to be effective, what can I do?",
         "1. First, correctly identify the pest species and note its life stage before choosing a control method.  \n2. Ensure the pesticide you are using is registered for that pest, not expired or counterfeit.  \n3. Always follow the label instructions on dose, mixing ratio, spray volume and the recommended time of day.  \n4. Calibrate your knapsack or tractor sprayer so it delivers the right volume per hectare.  \n5. Rotate among different chemical groups (with different modes of action) to slow down resistance.  \n6. Combine chemicals with cultural controls: remove or destroy infested plant parts, weed between rows and practise crop rotation.  \n7. Introduce or conserve natural enemies by using biopesticides like neem oil or Trichogramma wasps against caterpillars.  \n8. Monitor pest levels regularly and spray only when they exceed the economic threshold.  \n9. Keep a simple spray diary—date, pest, product, dose—to track what works best on your farm."
        ],
        [
         "1",
         "2",
         "You provide smallholder farmers in India with high quality agricultural advice and information. Please respond to the following question like an agronomist or agricultural extension agent would respond to a smallholder farmer. Be factually correct, precise and make the response understandable for a smallholder farmer. Do not use more than 10 sentences.\n\nQuestion: I have been losing my crops and livestock due to drought and floods. What can I do to get compensation during such occurrences?",
         "1. Enroll your crops in the Pradhan Mantri Fasal Bima Yojana (PMFBY) each season – the premium is heavily subsidized (1.5% for kharif, 2% for rabi, 5% for horticulture).  \n2. Insure your milch animals and small livestock under the central Livestock Insurance Scheme at similarly low premiums.  \n3. After a drought or flood event, inform your village agriculture or livestock officer (or Gram Panchayat) within 72 hours and file a crop-loss or animal-death report.  \n4. The Block Development Office or Agricultural Insurance Company will survey your fields/animals and prepare a loss assessment (panchnama).  \n5. Submit your claim form, land records or animal ownership proof, and photographs to the insurer or local agriculture office.  \n6. Crop claims under PMFBY are settled within 60 days of submission; livestock claims follow a similar timeline.  \n7. For additional relief, talk to your Tehsildar or District Collector about State Disaster Response Fund (SDRF) compensation in severe drought or flood years.  \n8. Keep photocopies of all receipts, insurance documents and official reports until your claim is fully paid."
        ],
        [
         "2",
         "3",
         "You provide smallholder farmers in India with high quality agricultural advice and information. Please respond to the following question like an agronomist or agricultural extension agent would respond to a smallholder farmer. Be factually correct, precise and make the response understandable for a smallholder farmer. Do not use more than 10 sentences.\n\nQuestion: I am interested in learning about crops and livestock production. Where can I visit to learn more about crops and livestock production?",
         "1. To learn both crop and livestock production in one place, visit your nearest Krishi Vigyan Kendra (KVK).  \n2. KVKs are run by the Indian Council of Agricultural Research (ICAR) and offer free or low-cost training, field demonstrations and on-farm trials.  \n3. You can also go to the local State Agricultural University’s research farm—most have crop plots and animal units you can tour.  \n4. District Agriculture and Animal Husbandry offices organize farmer training days and “field schools” where you see best practices in action.  \n5. ICAR livestock research institutes or State Animal Husbandry demonstration farms will show you practical feeding, breeding and disease‐management methods.  \n6. Ask your District Agriculture Officer for dates of open days and short courses at these centres.  \n7. Finally, talk with progressive farmers in your area who host field visits; learning from neighbours is a powerful way to pick up skills."
        ],
        [
         "3",
         "4",
         "You provide smallholder farmers in India with high quality agricultural advice and information. Please respond to the following question like an agronomist or agricultural extension agent would respond to a smallholder farmer. Be factually correct, precise and make the response understandable for a smallholder farmer. Do not use more than 10 sentences.\n\nQuestion: Which bean variety is suitable for dryland agro-ecological zone?",
         "You need a short‐duration, drought‐tolerant pulse. In our dryland zones we recommend mungbean variety SML–668 (also called “Pratap Mung”). 1. It matures in about 55–60 days, so it finishes growth before soil moisture runs out. 2. It has good resistance to yellow mosaic virus and powdery mildew. 3. Seed rate is 10–12 kg/acre, sown at 30 × 10 cm spacing. 4. You only need one light irrigation at flowering if rains fail. 5. Expect yields of 8–10 q/ha under good management. 6. Alternatively, JG–16 and T-44 are also reliable for dryland conditions."
        ],
        [
         "4",
         "5",
         "You provide smallholder farmers in India with high quality agricultural advice and information. Please respond to the following question like an agronomist or agricultural extension agent would respond to a smallholder farmer. Be factually correct, precise and make the response understandable for a smallholder farmer. Do not use more than 10 sentences.\n\nQuestion: If I am unable to acquire certified maize seeds, which variety can I save and replant the next season?",
         "Only open-pollinated (OPV) or composite maize varieties can be saved and replanted without big yield loss. Some common OPVs in India are Ganga-5, Rampur Composite, Nandi Composite (NDC-8444), URI-300, Bio-589 and PMH-1. These varieties breed true, so you can harvest, sort and save their seed each year. Do NOT save seed from F₁ hybrids (for example HQPM or Vivek series) because their offspring will segregate and give poor yields. At harvest choose healthy, fully filled cobs from vigorous plants for seed. Dry the kernels thoroughly to under 12% moisture before storage. Store seed in clean, airtight containers, adding neem leaf powder or wood ash to deter pests. Label each batch with variety name and harvest year. Every 3–4 years, refresh your stock by purchasing fresh OPV seed or by mixing with certified seed to maintain vigour."
        ],
        [
         "5",
         "6",
         "You provide smallholder farmers in India with high quality agricultural advice and information. Please respond to the following question like an agronomist or agricultural extension agent would respond to a smallholder farmer. Be factually correct, precise and make the response understandable for a smallholder farmer. Do not use more than 10 sentences.\n\nQuestion: Are chemical pesticides important and safe in crop and livestock production?",
         "Chemical pesticides can be important for controlling crop pests and livestock parasites, helping you protect yields and animal health. But they must be used carefully to avoid harm to yourself, your family, your animals, beneficial insects and the environment. Always follow the label instructions for dose, timing and method of application, and respect the pre-harvest or withdrawal period before consumption or sale. Wear protective clothing—gloves, mask, long sleeves—and do not spray in windy weather. Buy only approved products from reliable dealers and store them safely away from children and animals. Dispose of empty containers and unused chemicals according to local rules. Whenever possible, combine chemical sprays with non-chemical methods (crop rotation, resistant varieties, natural predators) in an integrated pest management system. This balanced approach reduces your cost, lowers health risks and keeps your farm productive long term."
        ],
        [
         "6",
         "7",
         "You provide smallholder farmers in India with high quality agricultural advice and information. Please respond to the following question like an agronomist or agricultural extension agent would respond to a smallholder farmer. Be factually correct, precise and make the response understandable for a smallholder farmer. Do not use more than 10 sentences.\n\nQuestion: How can I know that my soil is fertile?",
         "1. Healthy soil is usually dark, crumbly and holds moisture without becoming waterlogged.  \n2. Gently squeeze a moist handful—if it forms a loose ball that breaks apart easily, the structure is good.  \n3. Look for earthworms and other soil life; their presence means plenty of organic matter and good aeration.  \n4. Notice how quickly water soaks in; if it disappears steadily without puddles, your soil drains and holds water well.  \n5. Observe crop growth—uniform green leaves and strong roots usually signal that nutrients are available.  \n6. Yellowing or stunted plants may point to nutrient deficiencies or poor soil health.  \n7. Send a soil sample to your local agricultural lab or use the government’s Soil Health Card scheme to test pH, nitrogen, phosphorus, potassium and micronutrients.  \n8. Compare results with recommended values for your crop and adjust with compost, manure or fertilizers as advised.  \n9. Regular organic matter additions and crop rotations will keep your soil fertile over the long term."
        ],
        [
         "7",
         "8",
         "You provide smallholder farmers in India with high quality agricultural advice and information. Please respond to the following question like an agronomist or agricultural extension agent would respond to a smallholder farmer. Be factually correct, precise and make the response understandable for a smallholder farmer. Do not use more than 10 sentences.\n\nQuestion: How can I best control weeds in my farm?",
         "1. Begin with clean seed and avoid bringing weed seeds into your field by cleaning tools and machinery.  \n2. Keep bunds, pathways and irrigation channels weed-free to stop weeds spreading.  \n3. Perform the first weeding when weeds are young (2–3 weeks after sowing) and a second before the crop canopy closes.  \n4. Use simple tools like a hoe or tine weeder to uproot weeds without disturbing the crop roots.  \n5. Apply mulch (straw, dry leaves or black plastic) between rows to block light and prevent weed germination.  \n6. Rotate crops and intercrop with legumes or fast-growing cover crops to outcompete weeds for nutrients and light.  \n7. Maintain proper row spacing and plant density so your crop shades the soil and suppresses weed growth.  \n8. If you choose herbicides, select the right one for your crop and weeds, spray at the recommended stage and dose, and always follow the label instructions."
        ],
        [
         "8",
         "9",
         "You provide smallholder farmers in India with high quality agricultural advice and information. Please respond to the following question like an agronomist or agricultural extension agent would respond to a smallholder farmer. Be factually correct, precise and make the response understandable for a smallholder farmer. Do not use more than 10 sentences.\n\nQuestion: How do organic and synthetic/inorganic fertilizers compare in terms of effectiveness to crop production, and which one would be more suitable for different farming conditions?",
         "1. Organic fertilizers (compost, farmyard manure, green manure) release nutrients slowly as they decompose, building soil organic matter, improving water-holding capacity and supporting beneficial soil microbes.  \n2. Synthetic/inorganic fertilizers (urea, DAP, NPK blends) supply nutrients in concentrated, readily available forms, giving crops a rapid growth boost and helping achieve higher yields quickly.  \n3. On very poor or degraded soils, organics help rebuild soil health over time but may not meet a growing crop’s full nutrient demand if used alone.  \n4. In well-irrigated, high-value or high-yield systems (vegetables, cash crops), synthetic fertilizers can be fine-tuned to crop needs and growth stages for maximum productivity.  \n5. Overuse of inorganics without organic matter can lead to nutrient leaching, soil acidity and reduced biological activity.  \n6. Farms with easy access to crop residues, animal manure or green manure crops benefit most from organics, especially in rainfed or moisture-stress zones.  \n7. Farms growing demanding crops or practicing intensive cropping often need synthetic fertilizers to meet peak nutrient demands.  \n8. The best approach is Integrated Nutrient Management—combine organic sources to build soil health with targeted doses of synthetic fertilizers to meet immediate crop needs.  \n9. Test your soil (pH, NPK status) every 2–3 years to calibrate organic and inorganic inputs and avoid over- or under-fertilization."
        ],
        [
         "9",
         "10",
         "You provide smallholder farmers in India with high quality agricultural advice and information. Please respond to the following question like an agronomist or agricultural extension agent would respond to a smallholder farmer. Be factually correct, precise and make the response understandable for a smallholder farmer. Do not use more than 10 sentences.\n\nQuestion: Lately, the onset of rains has shown significant variability from season to season. This has affected our ability to judge when to plant. In this scenario, when is the best time to plant?",
         "1. Rather than fixed calendar dates, sow when your field has enough moisture in the top 10–15 cm of soil.  \n2. A simple “hand-test”: dig 10 cm deep, take a handful of soil and squeeze—it should stick together and hold its shape.  \n3. Aim for 2–3 rains of 15–20 mm each (or about 30–40 mm total) so moisture reaches sowing depth.  \n4. Check your local short-range weather forecast: choose a window with at least 50–60 percent chance of follow-up rains.  \n5. If you must sow early, pick drought-tolerant or short-duration varieties and plant in small patches; stagger planting over 10–15 days.  \n6. Use mulch or residue cover after sowing to conserve moisture and reduce risk from a dry spell."
        ],
        [
         "10",
         "11",
         "You provide smallholder farmers in India with high quality agricultural advice and information. Please respond to the following question like an agronomist or agricultural extension agent would respond to a smallholder farmer. Be factually correct, precise and make the response understandable for a smallholder farmer. Do not use more than 10 sentences.\n\nQuestion: What are the signs of nutrient deficiency in maize and how can they be corrected?",
         "1. Nitrogen deficiency shows as uniform yellowing of older leaves and stunted growth; correct by side‐dressing with urea or a balanced NPK fertilizer during the V4–V6 growth stage.  \n2. Phosphorus deficiency causes purplish tints on leaf edges and slow early growth; correct by applying single superphosphate or DAP at planting.  \n3. Potassium deficiency leads to brown or scorched leaf margins, weak stalks, and poor grain fill; correct by banding muriate of potash or sulfate of potash before or at planting.  \n4. Zinc deficiency appears as whitish strips between veins on new leaves and reduced tassel development; correct by broadcasting zinc sulfate or foliar‐spraying zinc chelate.  \n5. Sulfur deficiency looks like pale green younger leaves (similar to N deficiency but on new leaves first); correct by applying gypsum or elemental sulfur.  \n6. Always test your soil before planting to choose the right fertilizer blend and avoid over‐ or under‐application.  \n7. Incorporate well‐rotted farmyard manure or compost to improve nutrient availability and soil health."
        ],
        [
         "11",
         "12",
         "You provide smallholder farmers in India with high quality agricultural advice and information. Please respond to the following question like an agronomist or agricultural extension agent would respond to a smallholder farmer. Be factually correct, precise and make the response understandable for a smallholder farmer. Do not use more than 10 sentences.\n\nQuestion: How can I mitigate post-harvest losses in crops and livestock?",
         "1. Harvest crops at the right maturity and use clean, sharp tools to avoid bruising and damage.  \n2. Sort, wash and sun-dry grains or pulses to about 12–13% moisture before storage to prevent mould and insects.  \n3. Store in airtight bags or metal/Pusa bins off the ground in a cool, dry place and inspect monthly for pests.  \n4. Use safe controls like diatomaceous earth, solar heating or approved fumigants if insects appear.  \n5. For fruits and vegetables, shade or cool in evaporative chambers, pack in ventilated crates and transport quickly.  \n6. In milk production, clean all utensils, cool milk to 4°C within two hours, and sell or process into ghee/curd promptly.  \n7. For meat, keep animals stress-free in transit, use hygienic slaughter, and chill carcasses at 2–4°C immediately.  \n8. Train your workers in gentle handling, hygiene and record-keeping to spot where losses occur.  \n9. Link with local collection centers or small processors for timely marketing or value addition."
        ],
        [
         "12",
         "13",
         "You provide smallholder farmers in India with high quality agricultural advice and information. Please respond to the following question like an agronomist or agricultural extension agent would respond to a smallholder farmer. Be factually correct, precise and make the response understandable for a smallholder farmer. Do not use more than 10 sentences.\n\nQuestion: What are some of the strategies that I can employ to manage climate change in crop production?",
         "1. Choose improved, climate-resilient crop varieties that tolerate drought, heat or floods.  \n2. Adjust sowing dates based on early monsoon forecasts to avoid crop stress.  \n3. Practice conservation agriculture: minimum tillage, crop residue retention and mulching to conserve soil moisture.  \n4. Use drip or sprinkler irrigation and build small on‐farm water harvesting structures (check dams, farm ponds).  \n5. Rotate crops and intercrop with legumes to improve soil fertility and break pest cycles.  \n6. Apply organic manures and compost to boost soil structure and water-holding capacity.  \n7. Grow trees or shrubs (agroforestry) around fields for shade, windbreaks and extra income.  \n8. Monitor weather updates and pests regularly; adopt integrated pest management to reduce losses.  \n9. Join a local farmer group or co-operative to share climate information and access subsidies (e.g., micro-irrigation, crop insurance)."
        ],
        [
         "13",
         "14",
         "You provide smallholder farmers in India with high quality agricultural advice and information. Please respond to the following question like an agronomist or agricultural extension agent would respond to a smallholder farmer. Be factually correct, precise and make the response understandable for a smallholder farmer. Do not use more than 10 sentences.\n\nQuestion: What are the best disease management practices in livestock production?",
         "1. Inspect your animals every day for cough, fever, diarrhea, cuts or any change in behavior.  \n2. Keep pens, bedding and feeding troughs clean and dry to prevent germs from multiplying.  \n3. Offer balanced feed and fresh, clean water so your animals stay strong and resist infections.  \n4. Follow a regular vaccination schedule recommended by your local veterinarian.  \n5. Deworm your livestock on time, typically every 3–6 months, to control internal parasites.  \n6. Always isolate new or sick animals in a separate pen until you are sure they are healthy.  \n7. Disinfect tools, boots and feeding equipment after use, using a simple bleach solution or approved disinfectant.  \n8. Control rodents, flies and other pests that can carry diseases into your barns.  \n9. Keep written records of vaccinations, deworming, illnesses and treatments for each animal.  \n10. Call your veterinarian immediately if you see serious or unusual symptoms."
        ],
        [
         "14",
         "15",
         "You provide smallholder farmers in India with high quality agricultural advice and information. Please respond to the following question like an agronomist or agricultural extension agent would respond to a smallholder farmer. Be factually correct, precise and make the response understandable for a smallholder farmer. Do not use more than 10 sentences.\n\nQuestion: How are Farmer groups, Farmer Producer Organizations, Community Based Organizations and cooperatives important to farmers?",
         "1. Farmer groups, FPOs, CBOs and cooperatives bring small growers together so you can buy seeds, fertilizers and equipment in bulk at lower cost.  \n2. By pooling your harvest under one banner, these bodies negotiate better prices, cut out middlemen, and improve market access.  \n3. They arrange training on new seeds, pest control, soil health and post-harvest methods to boost yields and quality.  \n4. As formal organizations (especially FPOs and cooperatives), you become eligible for bank loans, government subsidies and grants that individual farmers often cannot access.  \n5. They also link you to input suppliers, buyers, research institutes and extension services, so you stay updated on best practices.  \n6. Through shared storage, transport and processing facilities, you reduce losses and add value to your produce.  \n7. Overall, collective action lowers costs, raises productivity and stabilizes your income."
        ]
       ],
       "shape": {
        "columns": 3,
        "rows": 15
       }
      },
      "text/html": [
       "<div>\n",
       "<style scoped>\n",
       "    .dataframe tbody tr th:only-of-type {\n",
       "        vertical-align: middle;\n",
       "    }\n",
       "\n",
       "    .dataframe tbody tr th {\n",
       "        vertical-align: top;\n",
       "    }\n",
       "\n",
       "    .dataframe thead th {\n",
       "        text-align: right;\n",
       "    }\n",
       "</style>\n",
       "<table border=\"1\" class=\"dataframe\">\n",
       "  <thead>\n",
       "    <tr style=\"text-align: right;\">\n",
       "      <th></th>\n",
       "      <th>id</th>\n",
       "      <th>prompt</th>\n",
       "      <th>answer</th>\n",
       "    </tr>\n",
       "  </thead>\n",
       "  <tbody>\n",
       "    <tr>\n",
       "      <th>0</th>\n",
       "      <td>1</td>\n",
       "      <td>You provide smallholder farmers in India with ...</td>\n",
       "      <td>1. First, correctly identify the pest species ...</td>\n",
       "    </tr>\n",
       "    <tr>\n",
       "      <th>1</th>\n",
       "      <td>2</td>\n",
       "      <td>You provide smallholder farmers in India with ...</td>\n",
       "      <td>1. Enroll your crops in the Pradhan Mantri Fas...</td>\n",
       "    </tr>\n",
       "    <tr>\n",
       "      <th>2</th>\n",
       "      <td>3</td>\n",
       "      <td>You provide smallholder farmers in India with ...</td>\n",
       "      <td>1. To learn both crop and livestock production...</td>\n",
       "    </tr>\n",
       "    <tr>\n",
       "      <th>3</th>\n",
       "      <td>4</td>\n",
       "      <td>You provide smallholder farmers in India with ...</td>\n",
       "      <td>You need a short‐duration, drought‐tolerant pu...</td>\n",
       "    </tr>\n",
       "    <tr>\n",
       "      <th>4</th>\n",
       "      <td>5</td>\n",
       "      <td>You provide smallholder farmers in India with ...</td>\n",
       "      <td>Only open-pollinated (OPV) or composite maize ...</td>\n",
       "    </tr>\n",
       "    <tr>\n",
       "      <th>5</th>\n",
       "      <td>6</td>\n",
       "      <td>You provide smallholder farmers in India with ...</td>\n",
       "      <td>Chemical pesticides can be important for contr...</td>\n",
       "    </tr>\n",
       "    <tr>\n",
       "      <th>6</th>\n",
       "      <td>7</td>\n",
       "      <td>You provide smallholder farmers in India with ...</td>\n",
       "      <td>1. Healthy soil is usually dark, crumbly and h...</td>\n",
       "    </tr>\n",
       "    <tr>\n",
       "      <th>7</th>\n",
       "      <td>8</td>\n",
       "      <td>You provide smallholder farmers in India with ...</td>\n",
       "      <td>1. Begin with clean seed and avoid bringing we...</td>\n",
       "    </tr>\n",
       "    <tr>\n",
       "      <th>8</th>\n",
       "      <td>9</td>\n",
       "      <td>You provide smallholder farmers in India with ...</td>\n",
       "      <td>1. Organic fertilizers (compost, farmyard manu...</td>\n",
       "    </tr>\n",
       "    <tr>\n",
       "      <th>9</th>\n",
       "      <td>10</td>\n",
       "      <td>You provide smallholder farmers in India with ...</td>\n",
       "      <td>1. Rather than fixed calendar dates, sow when ...</td>\n",
       "    </tr>\n",
       "    <tr>\n",
       "      <th>10</th>\n",
       "      <td>11</td>\n",
       "      <td>You provide smallholder farmers in India with ...</td>\n",
       "      <td>1. Nitrogen deficiency shows as uniform yellow...</td>\n",
       "    </tr>\n",
       "    <tr>\n",
       "      <th>11</th>\n",
       "      <td>12</td>\n",
       "      <td>You provide smallholder farmers in India with ...</td>\n",
       "      <td>1. Harvest crops at the right maturity and use...</td>\n",
       "    </tr>\n",
       "    <tr>\n",
       "      <th>12</th>\n",
       "      <td>13</td>\n",
       "      <td>You provide smallholder farmers in India with ...</td>\n",
       "      <td>1. Choose improved, climate-resilient crop var...</td>\n",
       "    </tr>\n",
       "    <tr>\n",
       "      <th>13</th>\n",
       "      <td>14</td>\n",
       "      <td>You provide smallholder farmers in India with ...</td>\n",
       "      <td>1. Inspect your animals every day for cough, f...</td>\n",
       "    </tr>\n",
       "    <tr>\n",
       "      <th>14</th>\n",
       "      <td>15</td>\n",
       "      <td>You provide smallholder farmers in India with ...</td>\n",
       "      <td>1. Farmer groups, FPOs, CBOs and cooperatives ...</td>\n",
       "    </tr>\n",
       "  </tbody>\n",
       "</table>\n",
       "</div>"
      ],
      "text/plain": [
       "    id                                             prompt  \\\n",
       "0    1  You provide smallholder farmers in India with ...   \n",
       "1    2  You provide smallholder farmers in India with ...   \n",
       "2    3  You provide smallholder farmers in India with ...   \n",
       "3    4  You provide smallholder farmers in India with ...   \n",
       "4    5  You provide smallholder farmers in India with ...   \n",
       "5    6  You provide smallholder farmers in India with ...   \n",
       "6    7  You provide smallholder farmers in India with ...   \n",
       "7    8  You provide smallholder farmers in India with ...   \n",
       "8    9  You provide smallholder farmers in India with ...   \n",
       "9   10  You provide smallholder farmers in India with ...   \n",
       "10  11  You provide smallholder farmers in India with ...   \n",
       "11  12  You provide smallholder farmers in India with ...   \n",
       "12  13  You provide smallholder farmers in India with ...   \n",
       "13  14  You provide smallholder farmers in India with ...   \n",
       "14  15  You provide smallholder farmers in India with ...   \n",
       "\n",
       "                                               answer  \n",
       "0   1. First, correctly identify the pest species ...  \n",
       "1   1. Enroll your crops in the Pradhan Mantri Fas...  \n",
       "2   1. To learn both crop and livestock production...  \n",
       "3   You need a short‐duration, drought‐tolerant pu...  \n",
       "4   Only open-pollinated (OPV) or composite maize ...  \n",
       "5   Chemical pesticides can be important for contr...  \n",
       "6   1. Healthy soil is usually dark, crumbly and h...  \n",
       "7   1. Begin with clean seed and avoid bringing we...  \n",
       "8   1. Organic fertilizers (compost, farmyard manu...  \n",
       "9   1. Rather than fixed calendar dates, sow when ...  \n",
       "10  1. Nitrogen deficiency shows as uniform yellow...  \n",
       "11  1. Harvest crops at the right maturity and use...  \n",
       "12  1. Choose improved, climate-resilient crop var...  \n",
       "13  1. Inspect your animals every day for cough, f...  \n",
       "14  1. Farmer groups, FPOs, CBOs and cooperatives ...  "
      ]
     },
     "execution_count": 20,
     "metadata": {},
     "output_type": "execute_result"
    }
   ],
   "source": [
    "o4_mini_df"
   ]
  },
  {
   "cell_type": "markdown",
   "metadata": {},
   "source": [
    "# Anthropic"
   ]
  },
  {
   "cell_type": "code",
   "execution_count": null,
   "metadata": {},
   "outputs": [
    {
     "name": "stdout",
     "output_type": "stream",
     "text": [
      "Saving results to results/RAW_goldenqa_iteration1_oe_india_REVISED-anthropic-claude-3-5-sonnet-20241022.csv\n"
     ]
    }
   ],
   "source": [
    "claude_3_5_df = get_llm_answers(qa_df, \"anthropic/claude-3-5-sonnet-20241022\", country)"
   ]
  },
  {
   "cell_type": "code",
   "execution_count": 22,
   "metadata": {},
   "outputs": [
    {
     "data": {
      "application/vnd.microsoft.datawrangler.viewer.v0+json": {
       "columns": [
        {
         "name": "index",
         "rawType": "int64",
         "type": "integer"
        },
        {
         "name": "id",
         "rawType": "int64",
         "type": "integer"
        },
        {
         "name": "prompt",
         "rawType": "object",
         "type": "string"
        },
        {
         "name": "answer",
         "rawType": "object",
         "type": "string"
        }
       ],
       "ref": "fc1df676-4d2c-4a6a-bd61-3609bc2335a1",
       "rows": [
        [
         "0",
         "1",
         "You provide smallholder farmers in India with high quality agricultural advice and information. Please respond to the following question like an agronomist or agricultural extension agent would respond to a smallholder farmer. Be factually correct, precise and make the response understandable for a smallholder farmer. Do not use more than 10 sentences.\n\nQuestion: I have been applying different pesticides to control pests on my farm. However, they seem not to be effective, what can I do?",
         "Thank you for your question about pesticide effectiveness. First, it's important to correctly identify the specific pest affecting your crops - this helps choose the right pesticide. Make sure you're using the recommended dose as mentioned on the label, as under-dosing won't kill pests while over-dosing wastes money and can harm your crops. Always check if the pesticide isn't expired and has been stored properly in a cool, dry place. Sometimes pests develop resistance if the same pesticide is used repeatedly, so try rotating between different types of pesticides with different modes of action. Consider applying pesticides during early morning or evening when there's less wind and heat. Before spraying, ensure your sprayer is properly calibrated and nozzles aren't blocked. Also, try incorporating other pest control methods like crop rotation, beneficial insects, and good field sanitation to reduce pest pressure. If problems persist, please bring a sample of the affected plant and pest to your local agricultural extension office for specific guidance."
        ],
        [
         "1",
         "2",
         "You provide smallholder farmers in India with high quality agricultural advice and information. Please respond to the following question like an agronomist or agricultural extension agent would respond to a smallholder farmer. Be factually correct, precise and make the response understandable for a smallholder farmer. Do not use more than 10 sentences.\n\nQuestion: I have been losing my crops and livestock due to drought and floods. What can I do to get compensation during such occurrences?",
         "I understand your concerns about crop and livestock losses due to natural disasters. The best way to protect yourself is to enroll in the government's Pradhan Mantri Fasal Bima Yojana (PMFBY) crop insurance scheme, which provides coverage against natural calamities like drought and floods. For livestock, you should register under the Livestock Insurance Scheme that compensates for animal deaths. Visit your nearest Bank, Primary Agricultural Credit Society (PACS), or Common Service Centre to enroll - you'll need your Aadhaar card, land records, and bank account details. The premium is very affordable as the government subsidizes most of the cost. Additionally, during declared natural disasters, you can claim compensation through your District Collector's office under the State Disaster Response Fund (SDRF). Keep detailed records of your losses and take photographs as evidence. I also recommend registering your mobile number with your local agriculture department to receive alerts about weather events and compensation schemes."
        ],
        [
         "2",
         "3",
         "You provide smallholder farmers in India with high quality agricultural advice and information. Please respond to the following question like an agronomist or agricultural extension agent would respond to a smallholder farmer. Be factually correct, precise and make the response understandable for a smallholder farmer. Do not use more than 10 sentences.\n\nQuestion: I am interested in learning about crops and livestock production. Where can I visit to learn more about crops and livestock production?",
         "I recommend visiting your nearest Krishi Vigyan Kendra (KVK) or Agricultural Research Station, which are specifically designed to help farmers learn improved farming practices. The KVK regularly conducts free training programs, demonstrations, and field days where you can learn about both crop and livestock management directly from agricultural experts. You can also connect with your local Agricultural Extension Officer who can guide you to nearby progressive farmers' fields and government demonstration plots for practical learning. Many state agricultural universities organize farmer training programs and have demonstration farms that you can visit to learn modern techniques. Additionally, you can join a local Farmer Producer Organization (FPO) or farmers' club where you can learn from other experienced farmers. I suggest first visiting the KVK as they will help create a learning plan based on your specific interests and local conditions."
        ],
        [
         "3",
         "4",
         "You provide smallholder farmers in India with high quality agricultural advice and information. Please respond to the following question like an agronomist or agricultural extension agent would respond to a smallholder farmer. Be factually correct, precise and make the response understandable for a smallholder farmer. Do not use more than 10 sentences.\n\nQuestion: Which bean variety is suitable for dryland agro-ecological zone?",
         "For dryland farming, I recommend growing Black gram (Urad dal) or Green gram (Moong dal) as they are drought-tolerant pulse crops well-suited for rainfed conditions. Popular short-duration varieties like IPU-94-1 (Black gram) and IPM-02-03 (Green gram) mature in 65-70 days, helping avoid late-season moisture stress. These varieties can grow well even with 400-500mm rainfall and don't require much irrigation. They have deep root systems that help them access moisture from lower soil layers during dry spells. Both crops can fix nitrogen in the soil, improving its fertility for the next crop. Make sure to plant them at the onset of monsoon with 30x10 cm spacing and treat seeds with Rhizobium culture before sowing for better yields. Under good management, you can expect yields of 8-10 quintals per hectare."
        ],
        [
         "4",
         "5",
         "You provide smallholder farmers in India with high quality agricultural advice and information. Please respond to the following question like an agronomist or agricultural extension agent would respond to a smallholder farmer. Be factually correct, precise and make the response understandable for a smallholder farmer. Do not use more than 10 sentences.\n\nQuestion: If I am unable to acquire certified maize seeds, which variety can I save and replant the next season?",
         "As an agricultural advisor, I recommend using open-pollinated varieties (OPVs) of maize if you plan to save and replant seeds. Unlike hybrid maize, OPVs will maintain their characteristics in the next generation when properly saved. Some reliable OPV maize varieties in India include Pusa Composite 3, Pusa Composite 4, and Navjot, which are developed by agricultural universities and research stations. To save seeds, select the healthiest plants from the middle of your field (avoiding edge plants), and choose the largest, disease-free cobs with well-filled grains. Let the cobs dry completely on the plant until the kernels are hard, then store them in a clean, dry container with neem leaves to protect from pests. However, remember that OPVs generally give 15-20% lower yields compared to hybrids, but they are more cost-effective when you save seeds. For best results, replace your saved seeds with fresh OPV seeds every 3-4 seasons to maintain vigor."
        ],
        [
         "5",
         "6",
         "You provide smallholder farmers in India with high quality agricultural advice and information. Please respond to the following question like an agronomist or agricultural extension agent would respond to a smallholder farmer. Be factually correct, precise and make the response understandable for a smallholder farmer. Do not use more than 10 sentences.\n\nQuestion: Are chemical pesticides important and safe in crop and livestock production?",
         "Chemical pesticides can help protect your crops and livestock from pests and diseases, but they must be used very carefully. When used incorrectly, pesticides can harm your health, your family's health, your animals, beneficial insects like bees, and contaminate soil and water. Always choose the least toxic pesticide that will solve your specific pest problem and follow the label instructions exactly for dosage and safety equipment. Consider starting with natural pest control methods first, like crop rotation, beneficial insects, or neem-based solutions. If you must use chemical pesticides, wear protective clothing including gloves, mask, and goggles when spraying. Never spray when it's windy and keep children and animals away from treated areas. Store pesticides safely away from food, animal feed, and children's reach. Remember - more pesticide does not mean better results, and overuse can make pests resistant. For your safety, only buy pesticides from licensed dealers and avoid any unlabeled products."
        ],
        [
         "6",
         "7",
         "You provide smallholder farmers in India with high quality agricultural advice and information. Please respond to the following question like an agronomist or agricultural extension agent would respond to a smallholder farmer. Be factually correct, precise and make the response understandable for a smallholder farmer. Do not use more than 10 sentences.\n\nQuestion: How can I know that my soil is fertile?",
         "Namaste farmer! There are several simple ways to check your soil's fertility. First, look at the color - dark brown or black soil usually means it's rich in organic matter and nutrients. Dig up some soil and check if it crumbles easily and has earthworms, which are signs of good fertility. Healthy soil should also hold moisture well without becoming waterlogged. You can do a basic plant test by growing some fast-growing crops like mustard - if they grow well with deep green leaves, your soil is likely fertile. Notice if there are beneficial insects and small organisms in your field, as they help maintain soil health. For a more accurate assessment, I strongly recommend getting your soil tested at your local Krishi Vigyan Kendra (KVK) or agricultural extension center - they will tell you exactly which nutrients your soil has and what it needs. The soil test is usually very affordable and will help you make better decisions about fertilizer use."
        ],
        [
         "7",
         "8",
         "You provide smallholder farmers in India with high quality agricultural advice and information. Please respond to the following question like an agronomist or agricultural extension agent would respond to a smallholder farmer. Be factually correct, precise and make the response understandable for a smallholder farmer. Do not use more than 10 sentences.\n\nQuestion: How can I best control weeds in my farm?",
         "There are several effective ways to control weeds in your farm. First, practice regular hand weeding early in the crop season before weeds can produce seeds and compete with your main crop. Use mulching with crop residues or plastic sheets to prevent weed growth and conserve soil moisture. Practice crop rotation as different crops can help break weed cycles. Maintain proper spacing between your crop plants to ensure they can outcompete weeds for sunlight and nutrients. If using herbicides, apply them at the right time (usually when weeds are young) and follow the recommended dosage carefully - but remember herbicides should be your last option due to costs and safety concerns. Keep field boundaries and irrigation channels clean to prevent weed seeds from spreading into your fields. Consider intercropping with crops that naturally suppress weeds. Remember that preventing weed growth is easier and cheaper than controlling them after they've established."
        ],
        [
         "8",
         "9",
         "You provide smallholder farmers in India with high quality agricultural advice and information. Please respond to the following question like an agronomist or agricultural extension agent would respond to a smallholder farmer. Be factually correct, precise and make the response understandable for a smallholder farmer. Do not use more than 10 sentences.\n\nQuestion: How do organic and synthetic/inorganic fertilizers compare in terms of effectiveness to crop production, and which one would be more suitable for different farming conditions?",
         "Let me explain the key differences between organic and synthetic fertilizers to help you decide. Synthetic fertilizers act quickly and provide immediate nutrients to plants, but they need to be applied more frequently and can harm soil health over time if used excessively. Organic fertilizers (like manure and compost) release nutrients slowly, improve soil structure, increase water retention, and promote beneficial soil microorganisms - but they take longer to show results and you need larger quantities. For small plots where you can produce your own compost or access manure locally, organic fertilizers are often more cost-effective and better for long-term soil health. If you're farming larger areas and need quick results, synthetic fertilizers might be necessary, but try combining them with organic materials for balanced nutrition. Sandy soils benefit more from organic fertilizers due to improved water retention, while heavy clay soils can use either type effectively. I recommend starting with soil testing to understand your soil's needs, then perhaps using a combination of both - synthetic fertilizers for immediate crop needs and organic materials for long-term soil improvement."
        ],
        [
         "9",
         "10",
         "You provide smallholder farmers in India with high quality agricultural advice and information. Please respond to the following question like an agronomist or agricultural extension agent would respond to a smallholder farmer. Be factually correct, precise and make the response understandable for a smallholder farmer. Do not use more than 10 sentences.\n\nQuestion: Lately, the onset of rains has shown significant variability from season to season. This has affected our ability to judge when to plant. In this scenario, when is the best time to plant?",
         "As an agricultural extension agent, I understand your concern about uncertain rainfall patterns. The best approach is to wait until you receive 2-3 days of good rainfall (around 20-25mm in total) and when the soil has enough moisture to maintain seedling growth for at least 5-7 days. Before planting, prepare your field in advance so you can sow immediately when the right conditions arrive. Consider using short-duration crop varieties that can better cope with a shorter growing season if rains are delayed. If you have access to irrigation, you could start dry sowing 7-10 days before expected rainfall, but only do this if you're confident you can provide supplemental irrigation if needed. For added security, you may want to plant in stages - sowing parts of your field at different times to spread the risk. Keep in touch with your local agricultural office for weather updates and rainfall forecasts to help with planning."
        ],
        [
         "10",
         "11",
         "You provide smallholder farmers in India with high quality agricultural advice and information. Please respond to the following question like an agronomist or agricultural extension agent would respond to a smallholder farmer. Be factually correct, precise and make the response understandable for a smallholder farmer. Do not use more than 10 sentences.\n\nQuestion: What are the signs of nutrient deficiency in maize and how can they be corrected?",
         "Namaste farmer-ji. The main nutrient deficiencies in maize show clear signs in the leaves and plant growth. Nitrogen deficiency appears as yellowing of older leaves in a V-pattern from tip to base, while the plant remains stunted. Phosphorus deficiency shows as purple coloring of leaves and stems, especially in young plants. Potassium deficiency appears as yellowing and browning along leaf edges, starting with older leaves. Zinc deficiency shows white stripes between leaf veins and stunted growth. For immediate correction, you can apply urea for nitrogen deficiency (2-3 kg per acre), DAP for phosphorus (5-6 kg per acre), or muriate of potash for potassium deficiency (3-4 kg per acre). For zinc deficiency, apply zinc sulfate (2 kg per acre). To prevent future deficiencies, I recommend conducting a soil test before planting and applying the recommended fertilizer doses at proper times. For best results, mix fertilizers into moist soil and avoid applying during very dry conditions."
        ],
        [
         "11",
         "12",
         "You provide smallholder farmers in India with high quality agricultural advice and information. Please respond to the following question like an agronomist or agricultural extension agent would respond to a smallholder farmer. Be factually correct, precise and make the response understandable for a smallholder farmer. Do not use more than 10 sentences.\n\nQuestion: How can I mitigate post-harvest losses in crops and livestock?",
         "Here are key steps to reduce your post-harvest losses: First, harvest crops at the right maturity stage and during dry weather to prevent moisture damage. Clean, sort, and dry your grains properly - the moisture content should be below 12% before storage. Store grains and produce in clean, airtight containers or bags, placed on wooden pallets to avoid ground moisture. Use neem leaves or other local botanical preservatives in storage to prevent pest damage. For vegetables and fruits, use clean crates for transport and avoid overpacking to prevent bruising. For livestock products like milk, use clean containers and cool it quickly after milking. Keep your storage area clean, well-ventilated, and regularly check for signs of pest or moisture damage. For meat, ensure proper cleaning and quick refrigeration or traditional preservation methods like smoking or drying. Consider selling excess produce quickly rather than risking long storage periods, especially for perishable items."
        ],
        [
         "12",
         "13",
         "You provide smallholder farmers in India with high quality agricultural advice and information. Please respond to the following question like an agronomist or agricultural extension agent would respond to a smallholder farmer. Be factually correct, precise and make the response understandable for a smallholder farmer. Do not use more than 10 sentences.\n\nQuestion: What are some of the strategies that I can employ to manage climate change in crop production?",
         "Here are key strategies to help your farm cope with climate change: First, diversify your crops and grow climate-resilient varieties that can better withstand drought, heat, or floods - your local agricultural extension office can recommend suitable varieties for your area. Practice water conservation through mulching, drip irrigation, and rainwater harvesting to deal with irregular rainfall. Build healthy soil by adding organic matter and using cover crops, which helps retain moisture and nutrients while making crops more resilient. Adjust your planting dates based on weather forecasts and changing seasonal patterns. Consider intercropping or agroforestry to create favorable microclimates and spread risk. Use integrated pest management as pest and disease patterns may change with climate shifts. Stay informed about weather forecasts and seasonal predictions through local agricultural advisories and weather apps. Maintain crop insurance coverage to protect against climate-related crop losses. Remember that combining multiple strategies works better than relying on just one approach."
        ],
        [
         "13",
         "14",
         "You provide smallholder farmers in India with high quality agricultural advice and information. Please respond to the following question like an agronomist or agricultural extension agent would respond to a smallholder farmer. Be factually correct, precise and make the response understandable for a smallholder farmer. Do not use more than 10 sentences.\n\nQuestion: What are the best disease management practices in livestock production?",
         "Good disease management in livestock involves both prevention and treatment. The most important practice is maintaining clean housing and surroundings by regularly removing manure and providing fresh bedding. Vaccinate your animals according to the local veterinary schedule and keep records of all vaccinations. Practice good biosecurity by keeping new animals separate for 2-3 weeks before mixing them with your herd/flock and restricting visitor access to animal areas. Provide clean, fresh drinking water and quality feed to keep animals healthy and strong. Watch your animals daily for signs of illness like reduced appetite, lethargy, abnormal droppings, or unusual behavior, and contact your local veterinarian immediately if you notice these symptoms. Regular deworming as per veterinary advice is essential to control internal parasites. Keep different species of animals separate to prevent disease transmission. Maintain proper spacing between animals to avoid overcrowding and stress. Always clean and disinfect tools and equipment used for different groups of animals to prevent disease spread."
        ],
        [
         "14",
         "15",
         "You provide smallholder farmers in India with high quality agricultural advice and information. Please respond to the following question like an agronomist or agricultural extension agent would respond to a smallholder farmer. Be factually correct, precise and make the response understandable for a smallholder farmer. Do not use more than 10 sentences.\n\nQuestion: How are Farmer groups, Farmer Producer Organizations, Community Based Organizations and cooperatives important to farmers?",
         "Farmer groups and organizations are very important tools to make farming more profitable and sustainable for smallholder farmers like you. By joining forces with other farmers, you get better bargaining power to negotiate prices when buying inputs like seeds and fertilizers in bulk, or when selling your produce to traders and companies. These groups also help you access government schemes, bank loans, and new farming technologies more easily. As a group member, you can share expensive machinery like tractors or processing equipment, which would be too costly to buy alone. Farmer organizations provide training and knowledge about better farming practices, helping you improve yields and income. Through cooperatives, you can store your harvest safely and sell when prices are better instead of being forced to sell immediately after harvest. Many successful farmer groups even do value addition like grading, packaging and processing to earn more money. Perhaps most importantly, being part of a farmer group means you don't have to face farming challenges alone - you have the support of fellow farmers who understand your situation."
        ]
       ],
       "shape": {
        "columns": 3,
        "rows": 15
       }
      },
      "text/html": [
       "<div>\n",
       "<style scoped>\n",
       "    .dataframe tbody tr th:only-of-type {\n",
       "        vertical-align: middle;\n",
       "    }\n",
       "\n",
       "    .dataframe tbody tr th {\n",
       "        vertical-align: top;\n",
       "    }\n",
       "\n",
       "    .dataframe thead th {\n",
       "        text-align: right;\n",
       "    }\n",
       "</style>\n",
       "<table border=\"1\" class=\"dataframe\">\n",
       "  <thead>\n",
       "    <tr style=\"text-align: right;\">\n",
       "      <th></th>\n",
       "      <th>id</th>\n",
       "      <th>prompt</th>\n",
       "      <th>answer</th>\n",
       "    </tr>\n",
       "  </thead>\n",
       "  <tbody>\n",
       "    <tr>\n",
       "      <th>0</th>\n",
       "      <td>1</td>\n",
       "      <td>You provide smallholder farmers in India with ...</td>\n",
       "      <td>Thank you for your question about pesticide ef...</td>\n",
       "    </tr>\n",
       "    <tr>\n",
       "      <th>1</th>\n",
       "      <td>2</td>\n",
       "      <td>You provide smallholder farmers in India with ...</td>\n",
       "      <td>I understand your concerns about crop and live...</td>\n",
       "    </tr>\n",
       "    <tr>\n",
       "      <th>2</th>\n",
       "      <td>3</td>\n",
       "      <td>You provide smallholder farmers in India with ...</td>\n",
       "      <td>I recommend visiting your nearest Krishi Vigya...</td>\n",
       "    </tr>\n",
       "    <tr>\n",
       "      <th>3</th>\n",
       "      <td>4</td>\n",
       "      <td>You provide smallholder farmers in India with ...</td>\n",
       "      <td>For dryland farming, I recommend growing Black...</td>\n",
       "    </tr>\n",
       "    <tr>\n",
       "      <th>4</th>\n",
       "      <td>5</td>\n",
       "      <td>You provide smallholder farmers in India with ...</td>\n",
       "      <td>As an agricultural advisor, I recommend using ...</td>\n",
       "    </tr>\n",
       "    <tr>\n",
       "      <th>5</th>\n",
       "      <td>6</td>\n",
       "      <td>You provide smallholder farmers in India with ...</td>\n",
       "      <td>Chemical pesticides can help protect your crop...</td>\n",
       "    </tr>\n",
       "    <tr>\n",
       "      <th>6</th>\n",
       "      <td>7</td>\n",
       "      <td>You provide smallholder farmers in India with ...</td>\n",
       "      <td>Namaste farmer! There are several simple ways ...</td>\n",
       "    </tr>\n",
       "    <tr>\n",
       "      <th>7</th>\n",
       "      <td>8</td>\n",
       "      <td>You provide smallholder farmers in India with ...</td>\n",
       "      <td>There are several effective ways to control we...</td>\n",
       "    </tr>\n",
       "    <tr>\n",
       "      <th>8</th>\n",
       "      <td>9</td>\n",
       "      <td>You provide smallholder farmers in India with ...</td>\n",
       "      <td>Let me explain the key differences between org...</td>\n",
       "    </tr>\n",
       "    <tr>\n",
       "      <th>9</th>\n",
       "      <td>10</td>\n",
       "      <td>You provide smallholder farmers in India with ...</td>\n",
       "      <td>As an agricultural extension agent, I understa...</td>\n",
       "    </tr>\n",
       "    <tr>\n",
       "      <th>10</th>\n",
       "      <td>11</td>\n",
       "      <td>You provide smallholder farmers in India with ...</td>\n",
       "      <td>Namaste farmer-ji. The main nutrient deficienc...</td>\n",
       "    </tr>\n",
       "    <tr>\n",
       "      <th>11</th>\n",
       "      <td>12</td>\n",
       "      <td>You provide smallholder farmers in India with ...</td>\n",
       "      <td>Here are key steps to reduce your post-harvest...</td>\n",
       "    </tr>\n",
       "    <tr>\n",
       "      <th>12</th>\n",
       "      <td>13</td>\n",
       "      <td>You provide smallholder farmers in India with ...</td>\n",
       "      <td>Here are key strategies to help your farm cope...</td>\n",
       "    </tr>\n",
       "    <tr>\n",
       "      <th>13</th>\n",
       "      <td>14</td>\n",
       "      <td>You provide smallholder farmers in India with ...</td>\n",
       "      <td>Good disease management in livestock involves ...</td>\n",
       "    </tr>\n",
       "    <tr>\n",
       "      <th>14</th>\n",
       "      <td>15</td>\n",
       "      <td>You provide smallholder farmers in India with ...</td>\n",
       "      <td>Farmer groups and organizations are very impor...</td>\n",
       "    </tr>\n",
       "  </tbody>\n",
       "</table>\n",
       "</div>"
      ],
      "text/plain": [
       "    id                                             prompt  \\\n",
       "0    1  You provide smallholder farmers in India with ...   \n",
       "1    2  You provide smallholder farmers in India with ...   \n",
       "2    3  You provide smallholder farmers in India with ...   \n",
       "3    4  You provide smallholder farmers in India with ...   \n",
       "4    5  You provide smallholder farmers in India with ...   \n",
       "5    6  You provide smallholder farmers in India with ...   \n",
       "6    7  You provide smallholder farmers in India with ...   \n",
       "7    8  You provide smallholder farmers in India with ...   \n",
       "8    9  You provide smallholder farmers in India with ...   \n",
       "9   10  You provide smallholder farmers in India with ...   \n",
       "10  11  You provide smallholder farmers in India with ...   \n",
       "11  12  You provide smallholder farmers in India with ...   \n",
       "12  13  You provide smallholder farmers in India with ...   \n",
       "13  14  You provide smallholder farmers in India with ...   \n",
       "14  15  You provide smallholder farmers in India with ...   \n",
       "\n",
       "                                               answer  \n",
       "0   Thank you for your question about pesticide ef...  \n",
       "1   I understand your concerns about crop and live...  \n",
       "2   I recommend visiting your nearest Krishi Vigya...  \n",
       "3   For dryland farming, I recommend growing Black...  \n",
       "4   As an agricultural advisor, I recommend using ...  \n",
       "5   Chemical pesticides can help protect your crop...  \n",
       "6   Namaste farmer! There are several simple ways ...  \n",
       "7   There are several effective ways to control we...  \n",
       "8   Let me explain the key differences between org...  \n",
       "9   As an agricultural extension agent, I understa...  \n",
       "10  Namaste farmer-ji. The main nutrient deficienc...  \n",
       "11  Here are key steps to reduce your post-harvest...  \n",
       "12  Here are key strategies to help your farm cope...  \n",
       "13  Good disease management in livestock involves ...  \n",
       "14  Farmer groups and organizations are very impor...  "
      ]
     },
     "execution_count": 22,
     "metadata": {},
     "output_type": "execute_result"
    }
   ],
   "source": [
    "claude_3_5_df"
   ]
  },
  {
   "cell_type": "code",
   "execution_count": null,
   "metadata": {},
   "outputs": [
    {
     "name": "stdout",
     "output_type": "stream",
     "text": [
      "Saving results to results/RAW_goldenqa_iteration1_oe_india_REVISED-anthropic-claude-3-7-sonnet-20250219.csv\n"
     ]
    }
   ],
   "source": [
    "claude_3_7_df = get_llm_answers(qa_df, \"anthropic/claude-3-7-sonnet-20250219\", country, max_completion_tokens=25000, reasoning_effort=\"medium\")"
   ]
  },
  {
   "cell_type": "code",
   "execution_count": 12,
   "metadata": {},
   "outputs": [
    {
     "data": {
      "application/vnd.microsoft.datawrangler.viewer.v0+json": {
       "columns": [
        {
         "name": "index",
         "rawType": "int64",
         "type": "integer"
        },
        {
         "name": "id",
         "rawType": "int64",
         "type": "integer"
        },
        {
         "name": "prompt",
         "rawType": "object",
         "type": "string"
        },
        {
         "name": "answer",
         "rawType": "object",
         "type": "string"
        }
       ],
       "ref": "a6f84b8a-94f7-4d82-be3b-c04928fed459",
       "rows": [
        [
         "0",
         "1",
         "You provide smallholder farmers in India with high quality agricultural advice and information. Please respond to the following question like an agronomist or agricultural extension agent would respond to a smallholder farmer. Be factually correct, precise and make the response understandable for a smallholder farmer. Do not use more than 10 sentences.\n\nQuestion: I have been applying different pesticides to control pests on my farm. However, they seem not to be effective, what can I do?",
         "# Improving Your Pest Control Approach\n\nWhen pesticides aren't working effectively, it may be due to pest resistance, incorrect application timing, wrong dosage, or using unsuitable products for your specific pests. First, identify your pests correctly by consulting your local agricultural extension office or using pest identification apps. Consider adopting Integrated Pest Management (IPM) practices by combining multiple strategies—crop rotation, resistant varieties, natural predators, and targeted pesticide use only when necessary. Ensure you're applying pesticides at the right time (usually early morning or evening), in correct concentration, and with proper equipment maintenance. If you must use chemicals, rotate between different pesticide classes to prevent resistance development. Try incorporating natural solutions like neem oil, beneficial insects, or trap crops around your fields. Remember that healthy soil builds resilient plants, so focus on improving soil health through compost and organic matter addition."
        ],
        [
         "1",
         "2",
         "You provide smallholder farmers in India with high quality agricultural advice and information. Please respond to the following question like an agronomist or agricultural extension agent would respond to a smallholder farmer. Be factually correct, precise and make the response understandable for a smallholder farmer. Do not use more than 10 sentences.\n\nQuestion: I have been losing my crops and livestock due to drought and floods. What can I do to get compensation during such occurrences?",
         "# Compensation Options for Crop and Livestock Losses\n\nDear Farmer, you can enroll in the Pradhan Mantri Fasal Bima Yojana (PMFBY) through your local bank, agricultural extension office, or Common Service Center to get compensation for crop losses due to natural disasters. For livestock, the Livestock Insurance Scheme offers protection against death of animals—contact your local veterinary hospital or Krishi Vigyan Kendra to enroll. Keep detailed records of your farming activities, including photographs of damaged crops/livestock, cultivation records, and receipts of inputs purchased. After a disaster, immediately inform your bank, insurance provider, and local agriculture department, who will send officials to assess the damage. You can also seek assistance from your Gram Panchayat to access state disaster relief funds when available. Many banks also offer loan restructuring or moratoriums during officially declared disasters, so speak with your bank manager about these options."
        ],
        [
         "2",
         "3",
         "You provide smallholder farmers in India with high quality agricultural advice and information. Please respond to the following question like an agronomist or agricultural extension agent would respond to a smallholder farmer. Be factually correct, precise and make the response understandable for a smallholder farmer. Do not use more than 10 sentences.\n\nQuestion: I am interested in learning about crops and livestock production. Where can I visit to learn more about crops and livestock production?",
         "# Learning Resources for Crops and Livestock Production\n\nYou can visit your nearest Krishi Vigyan Kendra (KVK) which offers training programs and demonstrations specifically for farmers like you. Your district Agricultural Extension Office provides free advisory services and often conducts field visits and training sessions. State Agricultural Universities regularly host farmer training programs, field days, and maintain demonstration farms where you can see modern practices firsthand. The Indian Council of Agricultural Research (ICAR) institutes specialize in specific crops or livestock and welcome farmer visits. Many successful progressive farmers in your area also allow visits through farmer-to-farmer programs organized by the government. Additionally, agricultural exhibitions and melas (fairs) held throughout the year showcase new technologies and practices. You can also access Kisan Call Centers by dialing 1800-180-1551 for information about upcoming farmer training events near you."
        ],
        [
         "3",
         "4",
         "You provide smallholder farmers in India with high quality agricultural advice and information. Please respond to the following question like an agronomist or agricultural extension agent would respond to a smallholder farmer. Be factually correct, precise and make the response understandable for a smallholder farmer. Do not use more than 10 sentences.\n\nQuestion: Which bean variety is suitable for dryland agro-ecological zone?",
         "# Bean Varieties for Dryland Farming\n\nFor dryland conditions in India, I recommend growing these drought-tolerant bean varieties:\n\n**Green Gram (Moong)**: IPM 02-3 (Pusa Vishal) and SML-668 mature in 65-70 days and can survive with limited water.\n\n**Black Gram (Urad)**: T-9 and PU-31 varieties perform well in dryland regions with yields of 8-10 quintals per hectare.\n\n**Pigeon Pea (Arhar)**: ICPL 87119 (Asha) and BSMR-736 are excellent drought-tolerant varieties with deep root systems.\n\n**Cowpea**: Pusa Komal and C-152 can thrive with minimal rainfall and mature in just 60-65 days.\n\nThese varieties require minimal irrigation, can withstand dry spells, and provide reasonable yields even under water stress conditions. For best results, use proper seed treatment with Rhizobium culture and maintain wider spacing than in irrigated conditions."
        ],
        [
         "4",
         "5",
         "You provide smallholder farmers in India with high quality agricultural advice and information. Please respond to the following question like an agronomist or agricultural extension agent would respond to a smallholder farmer. Be factually correct, precise and make the response understandable for a smallholder farmer. Do not use more than 10 sentences.\n\nQuestion: If I am unable to acquire certified maize seeds, which variety can I save and replant the next season?",
         "# Maize Seed Saving Advice\n\nYou should save and replant only open-pollinated varieties (OPVs) of maize, not hybrids. Hybrid seeds will give much lower yields when replanted, while OPVs like Navjot, Kisan, Amber, or Jawahar maintain their characteristics across seasons. For seed saving, select 50-100 healthy cobs from your best-performing plants located in the middle of your field (not from border rows). Choose plants that show disease resistance, good height, and strong stalks. Dry the selected cobs thoroughly until seeds reach 12-14% moisture content, then shell and store them in airtight containers with neem leaves to prevent pest damage. Though saved seeds may yield slightly less than fresh certified seeds, proper selection and storage can still provide good harvests. Local agricultural extension offices can help identify which specific OPVs grow best in your region."
        ],
        [
         "5",
         "6",
         "You provide smallholder farmers in India with high quality agricultural advice and information. Please respond to the following question like an agronomist or agricultural extension agent would respond to a smallholder farmer. Be factually correct, precise and make the response understandable for a smallholder farmer. Do not use more than 10 sentences.\n\nQuestion: Are chemical pesticides important and safe in crop and livestock production?",
         "# Chemical Pesticides in Farming: Important but Need Careful Use\n\nChemical pesticides can be important tools for protecting crops and livestock from pests and diseases that reduce yields and income. When used correctly, they help preserve crop quality and quantity, potentially improving your farm's productivity and profitability. \n\nHowever, pesticides must be used with caution as they can be harmful to human health, beneficial insects like pollinators, livestock, and the environment if misused. Always wear protective clothing (gloves, masks, full-sleeve shirts) when applying pesticides, follow label instructions precisely, and maintain proper waiting periods before harvest or slaughter. \n\nMany chemical pesticides can leave residues in food products, soil and water, which is why integrated pest management (IPM) approaches that combine minimal chemical use with biological controls and good agricultural practices are often safer and more sustainable. Consider alternatives like neem-based products, biological controls, and crop rotation to reduce dependency on chemical pesticides while still managing pests effectively. \n\nRemember that some pesticides available in local markets might be banned or restricted elsewhere, so seek advice from your local Krishi Vigyan Kendra (KVK) or agricultural extension office about which products are legal and appropriate for your specific needs."
        ],
        [
         "6",
         "7",
         "You provide smallholder farmers in India with high quality agricultural advice and information. Please respond to the following question like an agronomist or agricultural extension agent would respond to a smallholder farmer. Be factually correct, precise and make the response understandable for a smallholder farmer. Do not use more than 10 sentences.\n\nQuestion: How can I know that my soil is fertile?",
         "# How to Check Your Soil Fertility\n\nGood soil fertility shows in several ways that you can observe yourself. Fertile soil usually appears dark brown or black, feels crumbly when dry, and holds shape without breaking apart when moist. Healthy plants with deep green leaves, vigorous growth, and good yields are strong indicators of fertile soil. You can do a simple earthworm count by digging a 30cm cube of soil - finding 10 or more earthworms suggests good fertility. Water infiltration test is also useful - fertile soil absorbs water quickly instead of forming puddles. The Indian government offers affordable soil testing through Krishi Vigyan Kendras (KVKs) and agricultural extension centers, which provide detailed nutrient information. Many districts also have mobile soil testing vans visiting villages periodically. For a basic home test, place a handful of soil in a clear bottle with water, shake well, and let it settle - good soil shows distinct layers with organic matter floating on top."
        ],
        [
         "7",
         "8",
         "You provide smallholder farmers in India with high quality agricultural advice and information. Please respond to the following question like an agronomist or agricultural extension agent would respond to a smallholder farmer. Be factually correct, precise and make the response understandable for a smallholder farmer. Do not use more than 10 sentences.\n\nQuestion: How can I best control weeds in my farm?",
         "# Weed Control for Your Farm\n\nControlling weeds starts with timely identification and action before they compete with your crops for nutrients, water, and sunlight. For small plots, hand weeding and using simple tools like hoes and small weeders is effective, especially when weeds are young and soil is slightly moist. Practice crop rotation to disrupt weed cycles, and consider intercropping compatible plants that can suppress weeds naturally. Apply mulch (straw, dried leaves, or plastic sheets) around plants to prevent weed growth while conserving soil moisture. Maintain proper spacing between plants to create a shaded canopy that reduces weed growth. For larger areas, consider appropriate pre-emergence or post-emergence herbicides, but always follow label instructions and wear protective clothing. Keep field edges and irrigation channels clean to prevent weeds from spreading seeds into your fields. Remember that integrated weed management—combining multiple methods—provides the most sustainable and effective control."
        ],
        [
         "8",
         "9",
         "You provide smallholder farmers in India with high quality agricultural advice and information. Please respond to the following question like an agronomist or agricultural extension agent would respond to a smallholder farmer. Be factually correct, precise and make the response understandable for a smallholder farmer. Do not use more than 10 sentences.\n\nQuestion: How do organic and synthetic/inorganic fertilizers compare in terms of effectiveness to crop production, and which one would be more suitable for different farming conditions?",
         "# Comparing Organic and Synthetic Fertilizers\n\nOrganic fertilizers (like compost, manure, and vermicompost) release nutrients slowly, improving soil health, water retention, and beneficial microorganism activity over time, but may take longer to show results. Synthetic fertilizers (like urea, DAP, NPK) provide immediate nutrients in exact amounts, giving faster visible growth, but can lead to soil acidification and don't improve soil structure. \n\nOrganic options work well in rain-fed conditions, offering drought resistance through better soil structure, while synthetic fertilizers may be more suitable during critical growth stages or for correcting severe deficiencies quickly. Cost-wise, organic fertilizers can be produced on-farm using local materials, reducing expenses, while synthetic fertilizers require purchase but provide precise nutrient control. \n\nFor best results, many successful farmers in India use a balanced approach—applying organic fertilizers as a base for soil health, supplemented with targeted synthetic fertilizers when specific nutrients are needed, based on soil testing and crop requirements."
        ],
        [
         "9",
         "10",
         "You provide smallholder farmers in India with high quality agricultural advice and information. Please respond to the following question like an agronomist or agricultural extension agent would respond to a smallholder farmer. Be factually correct, precise and make the response understandable for a smallholder farmer. Do not use more than 10 sentences.\n\nQuestion: Lately, the onset of rains has shown significant variability from season to season. This has affected our ability to judge when to plant. In this scenario, when is the best time to plant?",
         "# Adapting Planting Times to Variable Rainfall\n\nYou're right that rainfall patterns have become less predictable in recent years, making traditional planting calendars less reliable. The best approach now is to focus on soil moisture rather than calendar dates - seeds need adequate moisture to germinate properly, so plant when your soil has good moisture content but isn't waterlogged. For most crops, monitor reliable 5-7 day weather forecasts through your local Krishi Vigyan Kendra (KVK) or weather apps and aim to plant just before predicted rainfall events. Consider practicing staggered planting where you plant portions of your field at 7-10 day intervals to spread your risk. Drought-tolerant varieties like improved jowar, bajra, or short-duration rice varieties offer better security in uncertain rainfall conditions. Keep your field prepared in advance so you can quickly plant when conditions become favorable. If possible, collect rainwater in farm ponds or implement simple water conservation techniques to supplement irrigation during dry spells."
        ],
        [
         "10",
         "11",
         "You provide smallholder farmers in India with high quality agricultural advice and information. Please respond to the following question like an agronomist or agricultural extension agent would respond to a smallholder farmer. Be factually correct, precise and make the response understandable for a smallholder farmer. Do not use more than 10 sentences.\n\nQuestion: What are the signs of nutrient deficiency in maize and how can they be corrected?",
         "# Signs of Nutrient Deficiency in Maize and Solutions\n\nNitrogen deficiency shows as yellowing of older leaves in a V-pattern from the tip to the base, which can be corrected by applying urea or farmyard manure. Phosphorus-deficient plants develop purplish leaves and stunted growth, requiring application of DAP (diammonium phosphate) or single superphosphate. Potassium shortage appears as yellowing and browning along the edges of older leaves - apply muriate of potash (MOP) to address this problem. Zinc deficiency causes white bands between leaf veins and shortens plant internodes, which can be fixed with zinc sulfate application (either as soil treatment or foliar spray). Magnesium shortage shows as yellowing between veins while veins stay green, correctable by applying magnesium sulfate. For best results, conduct a soil test before planting to know exactly which nutrients your soil lacks. Apply organic matter regularly to improve overall soil fertility and nutrient retention. In severe cases, a balanced NPK fertilizer combined with micronutrient mixtures specific for maize can quickly address multiple deficiencies at once."
        ],
        [
         "11",
         "12",
         "You provide smallholder farmers in India with high quality agricultural advice and information. Please respond to the following question like an agronomist or agricultural extension agent would respond to a smallholder farmer. Be factually correct, precise and make the response understandable for a smallholder farmer. Do not use more than 10 sentences.\n\nQuestion: How can I mitigate post-harvest losses in crops and livestock?",
         "# Reducing Post-Harvest Losses in Crops and Livestock\n\nHarvest crops at the right maturity and during cooler parts of the day to reduce damage and spoilage. Dry your grains and pulses properly until they reach 10-12% moisture content before storage to prevent mold growth. Store crops in clean, dry containers like hermetic bags or metal bins that protect against pests, moisture, and air. For fruits and vegetables, use clean crates, avoid overpacking, and keep them in cool, shaded areas if cold storage isn't available. For livestock products, ensure clean milking procedures and use proper containers to store milk, ideally in cool conditions. Keep eggs clean, collect them frequently, and store pointy-end down in a cool place. Process meat products quickly after slaughter and use salt preservation if refrigeration isn't possible. Regularly inspect stored products for any signs of spoilage or pest damage. Joining a farmer group to share cold storage costs or processing equipment can also significantly reduce losses."
        ],
        [
         "12",
         "13",
         "You provide smallholder farmers in India with high quality agricultural advice and information. Please respond to the following question like an agronomist or agricultural extension agent would respond to a smallholder farmer. Be factually correct, precise and make the response understandable for a smallholder farmer. Do not use more than 10 sentences.\n\nQuestion: What are some of the strategies that I can employ to manage climate change in crop production?",
         "# Climate Change Management Strategies for Crop Production\n\nNamaste! Here are practical strategies to manage climate change effects on your crops:\n\n1. Plant drought-resistant varieties that can withstand water stress during dry periods.\n\n2. Implement efficient water management through rainwater harvesting, farm ponds, and drip irrigation to conserve water.\n\n3. Practice crop diversification by growing multiple crops together to reduce risk if one crop fails due to extreme weather.\n\n4. Adjust your planting calendar based on changing rainfall patterns and seasonal shifts.\n\n5. Build healthy soil by adding organic matter like compost and farmyard manure to improve water retention.\n\n6. Consider agroforestry by integrating suitable trees with your crops to provide shade and stabilize farm microclimate.\n\n7. Use mulching to conserve soil moisture and prevent erosion during heavy rains.\n\n8. Try short-duration crop varieties that can be harvested before extreme weather events typically occur.\n\n9. Stay informed about weather forecasts through your local Krishi Vigyan Kendra (KVK) or mobile apps to plan farming activities.\n\n10. Where available, enroll in crop insurance schemes like Pradhan Mantri Fasal Bima Yojana for financial protection against climate-related crop losses."
        ],
        [
         "13",
         "14",
         "You provide smallholder farmers in India with high quality agricultural advice and information. Please respond to the following question like an agronomist or agricultural extension agent would respond to a smallholder farmer. Be factually correct, precise and make the response understandable for a smallholder farmer. Do not use more than 10 sentences.\n\nQuestion: What are the best disease management practices in livestock production?",
         "# Best Disease Management Practices for Livestock\n\nNamaste farmer, preventing livestock diseases is much easier than treating them! \n\nFirst, maintain clean housing with proper ventilation and regularly remove animal waste to prevent infection spread. Always quarantine new animals for at least 14 days before introducing them to your herd or flock. Follow a proper vaccination schedule as recommended by your local veterinarian for diseases common in your area like Foot and Mouth Disease, Hemorrhagic Septicemia, and Black Quarter. Provide balanced nutrition and clean drinking water to strengthen animals' natural immunity. Practice good biosecurity by limiting visitors to your animal areas and using footbaths with disinfectant at entrances. Regular deworming (every 3-6 months) helps control internal parasites that weaken animals. Keep records of vaccinations, treatments, and any illnesses to track health patterns. Lastly, quickly isolate sick animals and contact your veterinarian when you notice unusual symptoms like reduced appetite, abnormal droppings, or changes in behavior."
        ],
        [
         "14",
         "15",
         "You provide smallholder farmers in India with high quality agricultural advice and information. Please respond to the following question like an agronomist or agricultural extension agent would respond to a smallholder farmer. Be factually correct, precise and make the response understandable for a smallholder farmer. Do not use more than 10 sentences.\n\nQuestion: How are Farmer groups, Farmer Producer Organizations, Community Based Organizations and cooperatives important to farmers?",
         "# Importance of Farmer Organizations for Smallholders\n\nFarmer groups, FPOs, CBOs, and cooperatives give you strength in numbers by allowing you to buy farm inputs in bulk at lower prices and sell your produce collectively for better rates. These organizations help you access affordable loans, quality seeds, fertilizers, and modern farm equipment that might be too expensive to purchase individually. By joining forces, you can share knowledge, learn new farming techniques, and solve common problems together through regular meetings and trainings. These groups provide marketing support, helping you reach larger buyers and sometimes even export markets that are impossible to access alone. They can establish processing units to add value to your crops, turning raw produce into products that fetch higher prices. During difficult times like droughts or floods, these organizations provide crucial support through insurance schemes or emergency funds. Government schemes and subsidies often prioritize organized farmer groups, making it easier for you to benefit from these programs. As a member, you also gain a stronger voice in agricultural policy decisions that affect your livelihood and future."
        ]
       ],
       "shape": {
        "columns": 3,
        "rows": 15
       }
      },
      "text/html": [
       "<div>\n",
       "<style scoped>\n",
       "    .dataframe tbody tr th:only-of-type {\n",
       "        vertical-align: middle;\n",
       "    }\n",
       "\n",
       "    .dataframe tbody tr th {\n",
       "        vertical-align: top;\n",
       "    }\n",
       "\n",
       "    .dataframe thead th {\n",
       "        text-align: right;\n",
       "    }\n",
       "</style>\n",
       "<table border=\"1\" class=\"dataframe\">\n",
       "  <thead>\n",
       "    <tr style=\"text-align: right;\">\n",
       "      <th></th>\n",
       "      <th>id</th>\n",
       "      <th>prompt</th>\n",
       "      <th>answer</th>\n",
       "    </tr>\n",
       "  </thead>\n",
       "  <tbody>\n",
       "    <tr>\n",
       "      <th>0</th>\n",
       "      <td>1</td>\n",
       "      <td>You provide smallholder farmers in India with ...</td>\n",
       "      <td># Improving Your Pest Control Approach\\n\\nWhen...</td>\n",
       "    </tr>\n",
       "    <tr>\n",
       "      <th>1</th>\n",
       "      <td>2</td>\n",
       "      <td>You provide smallholder farmers in India with ...</td>\n",
       "      <td># Compensation Options for Crop and Livestock ...</td>\n",
       "    </tr>\n",
       "    <tr>\n",
       "      <th>2</th>\n",
       "      <td>3</td>\n",
       "      <td>You provide smallholder farmers in India with ...</td>\n",
       "      <td># Learning Resources for Crops and Livestock P...</td>\n",
       "    </tr>\n",
       "    <tr>\n",
       "      <th>3</th>\n",
       "      <td>4</td>\n",
       "      <td>You provide smallholder farmers in India with ...</td>\n",
       "      <td># Bean Varieties for Dryland Farming\\n\\nFor dr...</td>\n",
       "    </tr>\n",
       "    <tr>\n",
       "      <th>4</th>\n",
       "      <td>5</td>\n",
       "      <td>You provide smallholder farmers in India with ...</td>\n",
       "      <td># Maize Seed Saving Advice\\n\\nYou should save ...</td>\n",
       "    </tr>\n",
       "    <tr>\n",
       "      <th>5</th>\n",
       "      <td>6</td>\n",
       "      <td>You provide smallholder farmers in India with ...</td>\n",
       "      <td># Chemical Pesticides in Farming: Important bu...</td>\n",
       "    </tr>\n",
       "    <tr>\n",
       "      <th>6</th>\n",
       "      <td>7</td>\n",
       "      <td>You provide smallholder farmers in India with ...</td>\n",
       "      <td># How to Check Your Soil Fertility\\n\\nGood soi...</td>\n",
       "    </tr>\n",
       "    <tr>\n",
       "      <th>7</th>\n",
       "      <td>8</td>\n",
       "      <td>You provide smallholder farmers in India with ...</td>\n",
       "      <td># Weed Control for Your Farm\\n\\nControlling we...</td>\n",
       "    </tr>\n",
       "    <tr>\n",
       "      <th>8</th>\n",
       "      <td>9</td>\n",
       "      <td>You provide smallholder farmers in India with ...</td>\n",
       "      <td># Comparing Organic and Synthetic Fertilizers\\...</td>\n",
       "    </tr>\n",
       "    <tr>\n",
       "      <th>9</th>\n",
       "      <td>10</td>\n",
       "      <td>You provide smallholder farmers in India with ...</td>\n",
       "      <td># Adapting Planting Times to Variable Rainfall...</td>\n",
       "    </tr>\n",
       "    <tr>\n",
       "      <th>10</th>\n",
       "      <td>11</td>\n",
       "      <td>You provide smallholder farmers in India with ...</td>\n",
       "      <td># Signs of Nutrient Deficiency in Maize and So...</td>\n",
       "    </tr>\n",
       "    <tr>\n",
       "      <th>11</th>\n",
       "      <td>12</td>\n",
       "      <td>You provide smallholder farmers in India with ...</td>\n",
       "      <td># Reducing Post-Harvest Losses in Crops and Li...</td>\n",
       "    </tr>\n",
       "    <tr>\n",
       "      <th>12</th>\n",
       "      <td>13</td>\n",
       "      <td>You provide smallholder farmers in India with ...</td>\n",
       "      <td># Climate Change Management Strategies for Cro...</td>\n",
       "    </tr>\n",
       "    <tr>\n",
       "      <th>13</th>\n",
       "      <td>14</td>\n",
       "      <td>You provide smallholder farmers in India with ...</td>\n",
       "      <td># Best Disease Management Practices for Livest...</td>\n",
       "    </tr>\n",
       "    <tr>\n",
       "      <th>14</th>\n",
       "      <td>15</td>\n",
       "      <td>You provide smallholder farmers in India with ...</td>\n",
       "      <td># Importance of Farmer Organizations for Small...</td>\n",
       "    </tr>\n",
       "  </tbody>\n",
       "</table>\n",
       "</div>"
      ],
      "text/plain": [
       "    id                                             prompt  \\\n",
       "0    1  You provide smallholder farmers in India with ...   \n",
       "1    2  You provide smallholder farmers in India with ...   \n",
       "2    3  You provide smallholder farmers in India with ...   \n",
       "3    4  You provide smallholder farmers in India with ...   \n",
       "4    5  You provide smallholder farmers in India with ...   \n",
       "5    6  You provide smallholder farmers in India with ...   \n",
       "6    7  You provide smallholder farmers in India with ...   \n",
       "7    8  You provide smallholder farmers in India with ...   \n",
       "8    9  You provide smallholder farmers in India with ...   \n",
       "9   10  You provide smallholder farmers in India with ...   \n",
       "10  11  You provide smallholder farmers in India with ...   \n",
       "11  12  You provide smallholder farmers in India with ...   \n",
       "12  13  You provide smallholder farmers in India with ...   \n",
       "13  14  You provide smallholder farmers in India with ...   \n",
       "14  15  You provide smallholder farmers in India with ...   \n",
       "\n",
       "                                               answer  \n",
       "0   # Improving Your Pest Control Approach\\n\\nWhen...  \n",
       "1   # Compensation Options for Crop and Livestock ...  \n",
       "2   # Learning Resources for Crops and Livestock P...  \n",
       "3   # Bean Varieties for Dryland Farming\\n\\nFor dr...  \n",
       "4   # Maize Seed Saving Advice\\n\\nYou should save ...  \n",
       "5   # Chemical Pesticides in Farming: Important bu...  \n",
       "6   # How to Check Your Soil Fertility\\n\\nGood soi...  \n",
       "7   # Weed Control for Your Farm\\n\\nControlling we...  \n",
       "8   # Comparing Organic and Synthetic Fertilizers\\...  \n",
       "9   # Adapting Planting Times to Variable Rainfall...  \n",
       "10  # Signs of Nutrient Deficiency in Maize and So...  \n",
       "11  # Reducing Post-Harvest Losses in Crops and Li...  \n",
       "12  # Climate Change Management Strategies for Cro...  \n",
       "13  # Best Disease Management Practices for Livest...  \n",
       "14  # Importance of Farmer Organizations for Small...  "
      ]
     },
     "execution_count": 12,
     "metadata": {},
     "output_type": "execute_result"
    }
   ],
   "source": [
    "claude_3_7_df"
   ]
  },
  {
   "cell_type": "markdown",
   "metadata": {},
   "source": [
    "Deepseek models don't support the `reasoning_effort` parameter."
   ]
  },
  {
   "cell_type": "code",
   "execution_count": null,
   "metadata": {},
   "outputs": [
    {
     "name": "stdout",
     "output_type": "stream",
     "text": [
      "Saving results to results/RAW_goldenqa_iteration1_oe_india_REVISED-deepseek-deepseek-chat.csv\n"
     ]
    }
   ],
   "source": [
    "deepseek_v3_df = get_llm_answers(qa_df, \"deepseek/deepseek-chat\", country, max_completion_tokens=25000)"
   ]
  },
  {
   "cell_type": "code",
   "execution_count": 23,
   "metadata": {},
   "outputs": [
    {
     "data": {
      "application/vnd.microsoft.datawrangler.viewer.v0+json": {
       "columns": [
        {
         "name": "index",
         "rawType": "int64",
         "type": "integer"
        },
        {
         "name": "id",
         "rawType": "int64",
         "type": "integer"
        },
        {
         "name": "prompt",
         "rawType": "object",
         "type": "string"
        },
        {
         "name": "answer",
         "rawType": "object",
         "type": "string"
        }
       ],
       "ref": "a8392278-be18-4d78-9b99-2f7bac5a66c4",
       "rows": [
        [
         "0",
         "1",
         "You provide smallholder farmers in India with high quality agricultural advice and information. Please respond to the following question like an agronomist or agricultural extension agent would respond to a smallholder farmer. Be factually correct, precise and make the response understandable for a smallholder farmer. Do not use more than 10 sentences.\n\nQuestion: I have been applying different pesticides to control pests on my farm. However, they seem not to be effective, what can I do?",
         "If pesticides are not working, first check if you are using the right product for the specific pest. Some pests develop resistance, so rotate pesticides with different active ingredients. Also, ensure proper dosage and timing—apply early morning or late evening when pests are active.  \n\nTry **Integrated Pest Management (IPM)**: use resistant crop varieties, natural predators (like ladybugs), and traps. Avoid excessive pesticide use, as it harms beneficial insects. If the problem persists, consult your local agriculture extension officer for a soil and pest test. Proper field hygiene (removing infected plants) also helps."
        ],
        [
         "1",
         "2",
         "You provide smallholder farmers in India with high quality agricultural advice and information. Please respond to the following question like an agronomist or agricultural extension agent would respond to a smallholder farmer. Be factually correct, precise and make the response understandable for a smallholder farmer. Do not use more than 10 sentences.\n\nQuestion: I have been losing my crops and livestock due to drought and floods. What can I do to get compensation during such occurrences?",
         "To get compensation for crop and livestock losses due to droughts or floods, follow these steps:  \n\n1. **Register for PMFBY (Pradhan Mantri Fasal Bima Yojana)**—this crop insurance scheme covers losses from natural disasters. Contact your local bank or agriculture office to enroll.  \n2. **Report losses immediately** to local revenue or agriculture officials—they will assess damage and issue a report.  \n3. **Apply for relief funds** under State Disaster Relief Funds (SDRF) or National Disaster Relief Funds (NDRF)—visit your Block Development Officer (BDO) or Tehsildar for assistance.  \n4. **Keep records**—take photos of damaged fields/livestock and save receipts for inputs (seeds, feed, etc.) as proof.  \n\nAct quickly, as delays reduce compensation chances. Ask your local Krishi Vigyan Kendra (KVK) for guidance."
        ],
        [
         "2",
         "3",
         "You provide smallholder farmers in India with high quality agricultural advice and information. Please respond to the following question like an agronomist or agricultural extension agent would respond to a smallholder farmer. Be factually correct, precise and make the response understandable for a smallholder farmer. Do not use more than 10 sentences.\n\nQuestion: I am interested in learning about crops and livestock production. Where can I visit to learn more about crops and livestock production?",
         "You can visit your nearest **Krishi Vigyan Kendra (KVK)** or **Agricultural University** for hands-on training and demonstrations. KVKs offer free training on crop cultivation, livestock management, and modern farming techniques. You can also contact your local **Agriculture Extension Office** for field visits and expert advice. **Government farms** and **NABARD-supported farmer producer organizations (FPOs)** also provide practical learning opportunities. Check with your state’s agriculture department for nearby training programs."
        ],
        [
         "3",
         "4",
         "You provide smallholder farmers in India with high quality agricultural advice and information. Please respond to the following question like an agronomist or agricultural extension agent would respond to a smallholder farmer. Be factually correct, precise and make the response understandable for a smallholder farmer. Do not use more than 10 sentences.\n\nQuestion: Which bean variety is suitable for dryland agro-ecological zone?",
         "For dryland farming in India, drought-tolerant bean varieties like **Pusa Sem 2 (Cowpea)** or **Pusa 578 (Mungbean)** are suitable. These varieties require less water, mature early (60-70 days), and resist moderate drought. **Horsegram (Kulthi)** is another hardy option for poor soils. Sow at the start of rains, use mulch to retain moisture, and space plants 30 cm apart for better root growth. Avoid waterlogging—these crops thrive in well-drained soils. Choose certified seeds from local Krishi Vigyan Kendras (KVKs) for best results."
        ],
        [
         "4",
         "5",
         "You provide smallholder farmers in India with high quality agricultural advice and information. Please respond to the following question like an agronomist or agricultural extension agent would respond to a smallholder farmer. Be factually correct, precise and make the response understandable for a smallholder farmer. Do not use more than 10 sentences.\n\nQuestion: If I am unable to acquire certified maize seeds, which variety can I save and replant the next season?",
         "If you cannot get certified maize seeds, you can save and replant **local open-pollinated varieties (OPVs)** or **traditional landraces**, as these retain their traits when replanted. Avoid saving hybrid seeds (like most \"F1\" varieties), as they lose yield and uniformity in the next generation. Good OPV choices in India include **Jaunpuri, Sona Moti, or Vijay Composite**.  \n\nTo save seeds:  \n1. Select healthy, well-filled cobs from disease-free plants.  \n2. Dry them fully (12–14% moisture) and store in airtight containers with neem leaves to prevent pests.  \n\nReplant within 1–2 years for best germination. Always rotate maize with legumes (e.g., soybean) to maintain soil health."
        ],
        [
         "5",
         "6",
         "You provide smallholder farmers in India with high quality agricultural advice and information. Please respond to the following question like an agronomist or agricultural extension agent would respond to a smallholder farmer. Be factually correct, precise and make the response understandable for a smallholder farmer. Do not use more than 10 sentences.\n\nQuestion: Are chemical pesticides important and safe in crop and livestock production?",
         "Chemical pesticides are important for controlling pests and diseases in crops and livestock, but they must be used carefully. Overuse or misuse can harm your health, soil, water, and beneficial insects like pollinators. Always follow the recommended dose, wear protective gear, and avoid spraying near water sources. For safer farming, consider **Integrated Pest Management (IPM)**—combining natural methods (like neem oil or biopesticides) with minimal chemical use. Store pesticides away from animals and children. If used correctly, they can protect your yields, but improper use risks your safety and the environment."
        ],
        [
         "6",
         "7",
         "You provide smallholder farmers in India with high quality agricultural advice and information. Please respond to the following question like an agronomist or agricultural extension agent would respond to a smallholder farmer. Be factually correct, precise and make the response understandable for a smallholder farmer. Do not use more than 10 sentences.\n\nQuestion: How can I know that my soil is fertile?",
         "To check if your soil is fertile, observe these signs:  \n\n1. **Dark, crumbly texture** – Fertile soil is loose and rich in organic matter.  \n2. **Good crop growth** – Healthy, vigorous plants with deep green leaves indicate fertile soil.  \n3. **Earthworms & microbes** – Many earthworms mean the soil has nutrients and good structure.  \n4. **Water retention** – Fertile soil holds moisture well but drains excess water.  \n5. **Soil test** – For certainty, get a soil test from a local lab to check nutrient levels (N, P, K).  \n\nIf your soil lacks these, add compost, manure, or organic fertilizers to improve fertility."
        ],
        [
         "7",
         "8",
         "You provide smallholder farmers in India with high quality agricultural advice and information. Please respond to the following question like an agronomist or agricultural extension agent would respond to a smallholder farmer. Be factually correct, precise and make the response understandable for a smallholder farmer. Do not use more than 10 sentences.\n\nQuestion: How can I best control weeds in my farm?",
         "To control weeds effectively, use a mix of methods:  \n\n1. **Hand weeding**: Remove weeds early, especially before they flower and spread seeds.  \n2. **Mulching**: Cover soil with straw or dried leaves to block sunlight and suppress weed growth.  \n3. **Intercropping**: Plant crops like cowpea or groundnut between rows to shade out weeds.  \n4. **Herbicides (if needed)**: Use recommended herbicides carefully—follow dosage and timing instructions.  \n5. **Crop rotation**: Alternate crops to disrupt weed cycles.  \n\nAvoid letting weeds go to seed, and keep fields clean after harvest. Combine these methods for best results."
        ],
        [
         "8",
         "9",
         "You provide smallholder farmers in India with high quality agricultural advice and information. Please respond to the following question like an agronomist or agricultural extension agent would respond to a smallholder farmer. Be factually correct, precise and make the response understandable for a smallholder farmer. Do not use more than 10 sentences.\n\nQuestion: How do organic and synthetic/inorganic fertilizers compare in terms of effectiveness to crop production, and which one would be more suitable for different farming conditions?",
         "Organic fertilizers (like compost, manure) improve soil health slowly but last longer, while synthetic fertilizers (like urea, DAP) give quick nutrients but can harm soil if overused. For long-term soil fertility and sustainable farming, organic is better. For immediate nutrient needs in poor soils or high-yield crops, synthetic works faster.  \n\n**Best choice depends on your conditions:**  \n- **Poor soil, low organic matter:** Use both—organic for long-term health, synthetic for quick boost.  \n- **Waterlogged/acidic soils:** Organic is better (synthetic may leach or worsen acidity).  \n- **Cash crops (e.g., vegetables):** Synthetic gives faster results, but combine with organic to avoid soil damage.  \n\nAlways test soil first to decide the right mix. Balance both for best yield and soil health."
        ],
        [
         "9",
         "10",
         "You provide smallholder farmers in India with high quality agricultural advice and information. Please respond to the following question like an agronomist or agricultural extension agent would respond to a smallholder farmer. Be factually correct, precise and make the response understandable for a smallholder farmer. Do not use more than 10 sentences.\n\nQuestion: Lately, the onset of rains has shown significant variability from season to season. This has affected our ability to judge when to plant. In this scenario, when is the best time to plant?",
         "Given the uncertainty in monsoon onset, follow these steps for better planting decisions:  \n\n1. **Monitor weather forecasts** from reliable sources (IMD, local agriculture offices) for 7–10 days before planting.  \n2. **Check soil moisture**—plant when the top 10–15 cm of soil is moist but not waterlogged.  \n3. **Use short-duration (60–90 day) crop varieties** (e.g., Pusa Basmati 1509 for rice) to reduce risk.  \n4. **Follow local agro-advisories**—many states now issue SMS alerts for optimal planting windows.  \n5. If rains are delayed beyond 2 weeks of normal onset, consider **drought-tolerant crops** like millets or pulses.  \n\nPlanting too early risks dry spells; planting too late shortens the growing season. Adjust based on real-time conditions."
        ],
        [
         "10",
         "11",
         "You provide smallholder farmers in India with high quality agricultural advice and information. Please respond to the following question like an agronomist or agricultural extension agent would respond to a smallholder farmer. Be factually correct, precise and make the response understandable for a smallholder farmer. Do not use more than 10 sentences.\n\nQuestion: What are the signs of nutrient deficiency in maize and how can they be corrected?",
         "**Answer:**  \n\nIn maize, nutrient deficiencies show clear signs:  \n- **Nitrogen (N):** Yellowing starts from older leaves. Apply urea (50–100 kg/acre) or farmyard manure (FYM).  \n- **Phosphorus (P):** Purple or reddish leaves, stunted growth. Use DAP (25–50 kg/acre) or SSP mixed with soil.  \n- **Potassium (K):** Yellow/brown leaf edges, weak stems. Apply MOP (30–40 kg/acre).  \n- **Zinc (Zn):** White streaks on young leaves. Spray 0.5% zinc sulfate solution or apply zinc sulfate (10 kg/acre).  \n\nTest soil first for precise corrections, and use balanced fertilizers or organic compost for long-term soil health."
        ],
        [
         "11",
         "12",
         "You provide smallholder farmers in India with high quality agricultural advice and information. Please respond to the following question like an agronomist or agricultural extension agent would respond to a smallholder farmer. Be factually correct, precise and make the response understandable for a smallholder farmer. Do not use more than 10 sentences.\n\nQuestion: How can I mitigate post-harvest losses in crops and livestock?",
         "To reduce post-harvest losses in **crops**, ensure proper drying (to 12-14% moisture for grains), use airtight storage (like metal bins or hermetic bags), and treat seeds with neem or other safe fungicides. For **vegetables & fruits**, store in cool, shaded areas and handle gently to avoid bruises.  \n\nFor **livestock**, provide clean water, balanced feed, and timely vaccinations to prevent diseases. Keep shelters dry and well-ventilated. Sell or process perishable milk/meat quickly or use simple preservation (e.g., salting, chilling).  \n\nSmall steps in storage and care can save big losses!"
        ],
        [
         "12",
         "13",
         "You provide smallholder farmers in India with high quality agricultural advice and information. Please respond to the following question like an agronomist or agricultural extension agent would respond to a smallholder farmer. Be factually correct, precise and make the response understandable for a smallholder farmer. Do not use more than 10 sentences.\n\nQuestion: What are some of the strategies that I can employ to manage climate change in crop production?",
         "Here are 5 key strategies to manage climate change in your fields:  \n\n1. **Diversify crops** – Grow drought-resistant varieties (e.g., millets, sorghum) alongside traditional crops to reduce risk.  \n2. **Practice conservation agriculture** – Use zero/minimum tillage, mulching, and crop residues to retain soil moisture.  \n3. **Adopt water-saving methods** – Drip irrigation or rainwater harvesting can help during erratic rains.  \n4. **Plant trees (agroforestry)** – Shade trees like neem or moringa improve soil health and reduce heat stress.  \n5. **Monitor weather forecasts** – Adjust planting schedules based on local advisories to avoid extreme weather.  \n\nSmall, practical steps can make your farm more resilient. Would you like details on any of these?"
        ],
        [
         "13",
         "14",
         "You provide smallholder farmers in India with high quality agricultural advice and information. Please respond to the following question like an agronomist or agricultural extension agent would respond to a smallholder farmer. Be factually correct, precise and make the response understandable for a smallholder farmer. Do not use more than 10 sentences.\n\nQuestion: What are the best disease management practices in livestock production?",
         "To manage diseases in livestock, follow these key practices:  \n\n1. **Vaccinate** animals on time against common diseases like foot-and-mouth, rabies, and brucellosis.  \n2. **Maintain hygiene**—clean sheds regularly, dispose of manure properly, and provide clean water.  \n3. **Quarantine** new or sick animals for 2-3 weeks to prevent disease spread.  \n4. **Control parasites** by deworming and using tick/fly repellents.  \n5. **Provide balanced feed** to keep animals healthy and resistant to infections.  \n6. **Monitor health daily**—look for signs like fever, coughing, or reduced appetite.  \n7. **Work with a veterinarian** for timely diagnosis and treatment.  \n\nPrevention is cheaper than cure—follow these steps to keep your livestock healthy!"
        ],
        [
         "14",
         "15",
         "You provide smallholder farmers in India with high quality agricultural advice and information. Please respond to the following question like an agronomist or agricultural extension agent would respond to a smallholder farmer. Be factually correct, precise and make the response understandable for a smallholder farmer. Do not use more than 10 sentences.\n\nQuestion: How are Farmer groups, Farmer Producer Organizations, Community Based Organizations and cooperatives important to farmers?",
         "Farmer groups, FPOs, CBOs, and cooperatives help smallholders like you by pooling resources, reducing costs, and increasing bargaining power. Together, you can buy inputs (seeds, fertilizers) cheaper in bulk, access better markets, and sell produce at higher prices. These groups also provide training, share knowledge, and help adopt new technologies. They make it easier to get loans, government schemes, and insurance. By working collectively, you reduce risks and improve incomes more than farming alone. For example, an FPO can negotiate fair prices with traders, while cooperatives may provide storage or processing facilities. Unity strengthens your voice in policies and decision-making. Always choose a well-managed group for transparency and long-term benefits."
        ]
       ],
       "shape": {
        "columns": 3,
        "rows": 15
       }
      },
      "text/html": [
       "<div>\n",
       "<style scoped>\n",
       "    .dataframe tbody tr th:only-of-type {\n",
       "        vertical-align: middle;\n",
       "    }\n",
       "\n",
       "    .dataframe tbody tr th {\n",
       "        vertical-align: top;\n",
       "    }\n",
       "\n",
       "    .dataframe thead th {\n",
       "        text-align: right;\n",
       "    }\n",
       "</style>\n",
       "<table border=\"1\" class=\"dataframe\">\n",
       "  <thead>\n",
       "    <tr style=\"text-align: right;\">\n",
       "      <th></th>\n",
       "      <th>id</th>\n",
       "      <th>prompt</th>\n",
       "      <th>answer</th>\n",
       "    </tr>\n",
       "  </thead>\n",
       "  <tbody>\n",
       "    <tr>\n",
       "      <th>0</th>\n",
       "      <td>1</td>\n",
       "      <td>You provide smallholder farmers in India with ...</td>\n",
       "      <td>If pesticides are not working, first check if ...</td>\n",
       "    </tr>\n",
       "    <tr>\n",
       "      <th>1</th>\n",
       "      <td>2</td>\n",
       "      <td>You provide smallholder farmers in India with ...</td>\n",
       "      <td>To get compensation for crop and livestock los...</td>\n",
       "    </tr>\n",
       "    <tr>\n",
       "      <th>2</th>\n",
       "      <td>3</td>\n",
       "      <td>You provide smallholder farmers in India with ...</td>\n",
       "      <td>You can visit your nearest **Krishi Vigyan Ken...</td>\n",
       "    </tr>\n",
       "    <tr>\n",
       "      <th>3</th>\n",
       "      <td>4</td>\n",
       "      <td>You provide smallholder farmers in India with ...</td>\n",
       "      <td>For dryland farming in India, drought-tolerant...</td>\n",
       "    </tr>\n",
       "    <tr>\n",
       "      <th>4</th>\n",
       "      <td>5</td>\n",
       "      <td>You provide smallholder farmers in India with ...</td>\n",
       "      <td>If you cannot get certified maize seeds, you c...</td>\n",
       "    </tr>\n",
       "    <tr>\n",
       "      <th>5</th>\n",
       "      <td>6</td>\n",
       "      <td>You provide smallholder farmers in India with ...</td>\n",
       "      <td>Chemical pesticides are important for controll...</td>\n",
       "    </tr>\n",
       "    <tr>\n",
       "      <th>6</th>\n",
       "      <td>7</td>\n",
       "      <td>You provide smallholder farmers in India with ...</td>\n",
       "      <td>To check if your soil is fertile, observe thes...</td>\n",
       "    </tr>\n",
       "    <tr>\n",
       "      <th>7</th>\n",
       "      <td>8</td>\n",
       "      <td>You provide smallholder farmers in India with ...</td>\n",
       "      <td>To control weeds effectively, use a mix of met...</td>\n",
       "    </tr>\n",
       "    <tr>\n",
       "      <th>8</th>\n",
       "      <td>9</td>\n",
       "      <td>You provide smallholder farmers in India with ...</td>\n",
       "      <td>Organic fertilizers (like compost, manure) imp...</td>\n",
       "    </tr>\n",
       "    <tr>\n",
       "      <th>9</th>\n",
       "      <td>10</td>\n",
       "      <td>You provide smallholder farmers in India with ...</td>\n",
       "      <td>Given the uncertainty in monsoon onset, follow...</td>\n",
       "    </tr>\n",
       "    <tr>\n",
       "      <th>10</th>\n",
       "      <td>11</td>\n",
       "      <td>You provide smallholder farmers in India with ...</td>\n",
       "      <td>**Answer:**  \\n\\nIn maize, nutrient deficienci...</td>\n",
       "    </tr>\n",
       "    <tr>\n",
       "      <th>11</th>\n",
       "      <td>12</td>\n",
       "      <td>You provide smallholder farmers in India with ...</td>\n",
       "      <td>To reduce post-harvest losses in **crops**, en...</td>\n",
       "    </tr>\n",
       "    <tr>\n",
       "      <th>12</th>\n",
       "      <td>13</td>\n",
       "      <td>You provide smallholder farmers in India with ...</td>\n",
       "      <td>Here are 5 key strategies to manage climate ch...</td>\n",
       "    </tr>\n",
       "    <tr>\n",
       "      <th>13</th>\n",
       "      <td>14</td>\n",
       "      <td>You provide smallholder farmers in India with ...</td>\n",
       "      <td>To manage diseases in livestock, follow these ...</td>\n",
       "    </tr>\n",
       "    <tr>\n",
       "      <th>14</th>\n",
       "      <td>15</td>\n",
       "      <td>You provide smallholder farmers in India with ...</td>\n",
       "      <td>Farmer groups, FPOs, CBOs, and cooperatives he...</td>\n",
       "    </tr>\n",
       "  </tbody>\n",
       "</table>\n",
       "</div>"
      ],
      "text/plain": [
       "    id                                             prompt  \\\n",
       "0    1  You provide smallholder farmers in India with ...   \n",
       "1    2  You provide smallholder farmers in India with ...   \n",
       "2    3  You provide smallholder farmers in India with ...   \n",
       "3    4  You provide smallholder farmers in India with ...   \n",
       "4    5  You provide smallholder farmers in India with ...   \n",
       "5    6  You provide smallholder farmers in India with ...   \n",
       "6    7  You provide smallholder farmers in India with ...   \n",
       "7    8  You provide smallholder farmers in India with ...   \n",
       "8    9  You provide smallholder farmers in India with ...   \n",
       "9   10  You provide smallholder farmers in India with ...   \n",
       "10  11  You provide smallholder farmers in India with ...   \n",
       "11  12  You provide smallholder farmers in India with ...   \n",
       "12  13  You provide smallholder farmers in India with ...   \n",
       "13  14  You provide smallholder farmers in India with ...   \n",
       "14  15  You provide smallholder farmers in India with ...   \n",
       "\n",
       "                                               answer  \n",
       "0   If pesticides are not working, first check if ...  \n",
       "1   To get compensation for crop and livestock los...  \n",
       "2   You can visit your nearest **Krishi Vigyan Ken...  \n",
       "3   For dryland farming in India, drought-tolerant...  \n",
       "4   If you cannot get certified maize seeds, you c...  \n",
       "5   Chemical pesticides are important for controll...  \n",
       "6   To check if your soil is fertile, observe thes...  \n",
       "7   To control weeds effectively, use a mix of met...  \n",
       "8   Organic fertilizers (like compost, manure) imp...  \n",
       "9   Given the uncertainty in monsoon onset, follow...  \n",
       "10  **Answer:**  \\n\\nIn maize, nutrient deficienci...  \n",
       "11  To reduce post-harvest losses in **crops**, en...  \n",
       "12  Here are 5 key strategies to manage climate ch...  \n",
       "13  To manage diseases in livestock, follow these ...  \n",
       "14  Farmer groups, FPOs, CBOs, and cooperatives he...  "
      ]
     },
     "execution_count": 23,
     "metadata": {},
     "output_type": "execute_result"
    }
   ],
   "source": [
    "deepseek_v3_df"
   ]
  },
  {
   "cell_type": "code",
   "execution_count": null,
   "metadata": {},
   "outputs": [
    {
     "name": "stdout",
     "output_type": "stream",
     "text": [
      "Saving results to results/RAW_goldenqa_iteration1_oe_india_REVISED-deepseek-deepseek-reasoner.csv\n"
     ]
    }
   ],
   "source": [
    "deepseek_r1_df = get_llm_answers(qa_df, \"deepseek/deepseek-reasoner\", country, max_completion_tokens=25000)"
   ]
  },
  {
   "cell_type": "code",
   "execution_count": 24,
   "metadata": {},
   "outputs": [
    {
     "data": {
      "application/vnd.microsoft.datawrangler.viewer.v0+json": {
       "columns": [
        {
         "name": "index",
         "rawType": "int64",
         "type": "integer"
        },
        {
         "name": "id",
         "rawType": "int64",
         "type": "integer"
        },
        {
         "name": "prompt",
         "rawType": "object",
         "type": "string"
        },
        {
         "name": "answer",
         "rawType": "object",
         "type": "string"
        }
       ],
       "ref": "3bdff569-7a20-4c59-b67d-17df7b837ee4",
       "rows": [
        [
         "0",
         "1",
         "You provide smallholder farmers in India with high quality agricultural advice and information. Please respond to the following question like an agronomist or agricultural extension agent would respond to a smallholder farmer. Be factually correct, precise and make the response understandable for a smallholder farmer. Do not use more than 10 sentences.\n\nQuestion: I have been applying different pesticides to control pests on my farm. However, they seem not to be effective, what can I do?",
         "Your pesticides may not work due to resistance, incorrect use, or wrong pest identification. Follow these steps:  \n1. **Rotate pesticides** with different active ingredients (e.g., neonicotinoids → pyrethroids) to avoid resistance.  \n2. **Confirm the pest** with local experts to choose the right chemical.  \n3. **Check dosage/timing**: Apply as per label instructions, targeting pests’ vulnerable stages (e.g., larvae).  \n4. **Avoid counterfeits**: Buy certified products from trusted suppliers.  \n5. **Combine methods**: Use neem oil or traps, plant pest-resistant varieties, and encourage natural predators (e.g., ladybugs).  \n6. **Improve application**: Spray early morning/evening, ensure full coverage, and reapply after rain.  \nVisit your nearest Krishi Vigyan Kendra for tailored advice and pest identification."
        ],
        [
         "1",
         "2",
         "You provide smallholder farmers in India with high quality agricultural advice and information. Please respond to the following question like an agronomist or agricultural extension agent would respond to a smallholder farmer. Be factually correct, precise and make the response understandable for a smallholder farmer. Do not use more than 10 sentences.\n\nQuestion: I have been losing my crops and livestock due to drought and floods. What can I do to get compensation during such occurrences?",
         "To claim compensation for crop/livestock losses due to droughts/floods:  \n1. Enroll in **Pradhan Mantri Fasal Bima Yojana (PMFBY)** for crop insurance via Common Service Centers or banks. Premiums are low (1.5-5% of crop value).  \n2. For immediate relief, report losses to your local revenue officer/Block Development Officer within **48 hours** to access the **National Disaster Relief Fund (NDRF)**.  \n3. Insure livestock via **Livestock Insurance Scheme** (available for cattle, poultry, etc.) through veterinary offices.  \n4. Keep documents ready: Land records, Aadhaar, bank details, photos/videos of damage, and a written loss report from the village officer.  \n5. Check weather alerts via **mKisan SMS** (register at 1800-180-1551) to act early.  \n\nCompensation depends on timely reporting and proper documentation. Contact your nearest Krishi Vigyan Kendra (KVK) for help with paperwork."
        ],
        [
         "2",
         "3",
         "You provide smallholder farmers in India with high quality agricultural advice and information. Please respond to the following question like an agronomist or agricultural extension agent would respond to a smallholder farmer. Be factually correct, precise and make the response understandable for a smallholder farmer. Do not use more than 10 sentences.\n\nQuestion: I am interested in learning about crops and livestock production. Where can I visit to learn more about crops and livestock production?",
         "Visit your nearest **Krishi Vigyan Kendra (KVK)** or **Agricultural University** (e.g., ICAR institutes, state universities like Punjab Agricultural University). These centers offer free training, field demonstrations, and expert guidance on crops/livestock. **State Agriculture Departments** organize farmer fairs and workshops—ask your local extension officer. For hands-on learning, join **Farmer Producer Organizations (FPOs)** or visit **model farms** in your district under government schemes like ATMA. **Dairy cooperatives** (e.g., Amul) provide livestock training. Prioritize KVKs first—they’re tailored for smallholders!"
        ],
        [
         "3",
         "4",
         "You provide smallholder farmers in India with high quality agricultural advice and information. Please respond to the following question like an agronomist or agricultural extension agent would respond to a smallholder farmer. Be factually correct, precise and make the response understandable for a smallholder farmer. Do not use more than 10 sentences.\n\nQuestion: Which bean variety is suitable for dryland agro-ecological zone?",
         "For dryland areas with low rainfall, consider drought-tolerant bean varieties:  \n1. **Lablab Bean** (Hyacinth bean/Val Papdi): Deep roots, survives 60-90 cm annual rainfall.  \n2. **Cowpea** (Lobia): Matures in 65-90 days, grows in sandy loam soils.  \n3. **Moth Bean** (Matki): Short duration (60-75 days), suited for Rajasthan/Gujarat.  \n4. **Horse Gram** (Kulthi): Thrives in poor soils with 50-80 cm rain.  \n5. **Cluster Bean** (Guar): Tolerates heat, dual-purpose (vegetable & gum).  \n\nOpt for short-duration varieties (60-90 days) and intercropping with millets/sorghum. Use seed treatment and mulch to conserve soil moisture."
        ],
        [
         "4",
         "5",
         "You provide smallholder farmers in India with high quality agricultural advice and information. Please respond to the following question like an agronomist or agricultural extension agent would respond to a smallholder farmer. Be factually correct, precise and make the response understandable for a smallholder farmer. Do not use more than 10 sentences.\n\nQuestion: If I am unable to acquire certified maize seeds, which variety can I save and replant the next season?",
         "If you cannot get certified seeds, save seeds from **open-pollinated varieties** (OPVs) or traditional local maize varieties. These include **Vijay Composite**, **Jaipur Composite**, or your region’s native landraces. **Avoid hybrid seeds** (e.g., NK 6240, Pioneer), as they lose yield and vigor when replanted. For saving seeds:  \n1. Select healthy, pest-free plants with strong cobs.  \n2. Let cobs dry fully on the stalk before harvest.  \n3. Store seeds in airtight containers with neem leaves to prevent pests.  \n4. Ensure isolation (200+ meters) from other maize fields to avoid cross-pollination.  \nYields may be 10–20% lower than hybrids, but OPVs are reliable for replanting. Always test seed germination before sowing."
        ],
        [
         "5",
         "6",
         "You provide smallholder farmers in India with high quality agricultural advice and information. Please respond to the following question like an agronomist or agricultural extension agent would respond to a smallholder farmer. Be factually correct, precise and make the response understandable for a smallholder farmer. Do not use more than 10 sentences.\n\nQuestion: Are chemical pesticides important and safe in crop and livestock production?",
         "Chemical pesticides are important tools to control pests and diseases that threaten crops and livestock, but their safety depends entirely on proper use. When used **as directed** (correct dose, timing, and protective gear), registered pesticides can protect yields effectively. **Overuse or misuse** harms human health, kills beneficial insects, contaminates soil/water, and leads to pesticide-resistant pests. Always follow label instructions, avoid spraying near harvest, and never mix chemicals haphazardly. For safer alternatives, combine pesticides with **Integrated Pest Management (IPM)**—like resistant crop varieties, natural predators, and crop rotation. In livestock, use veterinary-approved treatments only; improper antibiotics or pesticides in feed risk residues in milk/meat. Prioritize prevention (clean sheds, balanced feed) to reduce disease. Consult local experts for region-specific, low-toxicity options. **Chemicals are useful but not the only solution—use wisely and sparingly.**"
        ],
        [
         "6",
         "7",
         "You provide smallholder farmers in India with high quality agricultural advice and information. Please respond to the following question like an agronomist or agricultural extension agent would respond to a smallholder farmer. Be factually correct, precise and make the response understandable for a smallholder farmer. Do not use more than 10 sentences.\n\nQuestion: How can I know that my soil is fertile?",
         "To check if your soil is fertile:  \n1. **Color**: Look for dark brown/black soil, which indicates rich organic matter.  \n2. **Texture**: Fertile soil is crumbly, holds shape when squeezed (like a moist ball), but breaks apart easily.  \n3. **Earthworms**: Many earthworms mean healthy, nutrient-rich soil.  \n4. **Plant Health**: Weeds/crops grow vigorously with deep green leaves (unless pests/diseases interfere).  \n5. **Water Absorption**: Soil absorbs rainwater well without pooling or cracking in drought.  \n6. **Smell**: Fertile soil has an earthy, fresh odor.  \n7. **Test Crops**: Plant fast-growing legumes (e.g., cowpea). Lush growth signals good fertility.  \n8. **Soil Testing**: For certainty, send a sample to a lab (or local govt. center) to check pH, nitrogen, phosphorus, and potassium levels.  \n\nAct on these signs and test if unsure—fertile soil ensures better yields!"
        ],
        [
         "7",
         "8",
         "You provide smallholder farmers in India with high quality agricultural advice and information. Please respond to the following question like an agronomist or agricultural extension agent would respond to a smallholder farmer. Be factually correct, precise and make the response understandable for a smallholder farmer. Do not use more than 10 sentences.\n\nQuestion: How can I best control weeds in my farm?",
         "To control weeds effectively:  \n1. **Remove weeds early** by hand or hoe when young (2-3 weeks after sowing).  \n2. Use **mulching** (dry leaves/straw) to block sunlight and suppress growth.  \n3. Practice **crop rotation** and plant dense, fast-growing crops (e.g., cowpea, maize) to outcompete weeds.  \n4. **Intercrop** with cover crops like mustard to reduce weed space.  \n5. Apply **organic herbicides** (vinegar + salt) or chemical herbicides (like 2,4-D for cereals), but follow label instructions and wear protective gear.  \n6. Avoid deep ploughing, which brings buried weed seeds to the surface.  \n7. Ensure timely weeding before weeds flower/seeds form (critical!).  \nCombine these methods for long-term control and healthier soil."
        ],
        [
         "8",
         "9",
         "You provide smallholder farmers in India with high quality agricultural advice and information. Please respond to the following question like an agronomist or agricultural extension agent would respond to a smallholder farmer. Be factually correct, precise and make the response understandable for a smallholder farmer. Do not use more than 10 sentences.\n\nQuestion: How do organic and synthetic/inorganic fertilizers compare in terms of effectiveness to crop production, and which one would be more suitable for different farming conditions?",
         "Organic fertilizers (like compost, manure) release nutrients slowly, improving soil health and microbial activity over time but may show slower crop response. Synthetic fertilizers (urea, DAP) provide immediate nutrients, boosting yields quickly but can degrade soil if overused. For poor, degraded soils with low organic matter, use organic fertilizers to rebuild fertility. In fertile soils needing quick nutrient boosts (especially during critical growth stages), synthetic fertilizers are effective. Smallholders with access to organic waste (livestock, crop residues) can reduce costs with organic options, while those needing precise nutrient management (e.g., cash crops) may benefit from synthetics. Combining both (applying organic matter annually + targeted synthetic doses) often works best for sustainability and productivity. Always test soil to guide choices."
        ],
        [
         "9",
         "10",
         "You provide smallholder farmers in India with high quality agricultural advice and information. Please respond to the following question like an agronomist or agricultural extension agent would respond to a smallholder farmer. Be factually correct, precise and make the response understandable for a smallholder farmer. Do not use more than 10 sentences.\n\nQuestion: Lately, the onset of rains has shown significant variability from season to season. This has affected our ability to judge when to plant. In this scenario, when is the best time to plant?",
         "The best time to plant depends on soil moisture, local weather patterns, and crop type. Follow these steps:  \n1. Monitor short-term (7–10 day) rainfall forecasts from trusted sources like IMD (India Meteorological Department).  \n2. Wait for the soil to absorb enough rain (test by squeezing a handful—if it holds shape without dripping, it’s ready).  \n3. Prioritize drought-tolerant varieties (e.g., pearl millet, pigeon pea) to reduce risk.  \n4. Use staggered planting: split your seed stock and sow in 2-3 batches, spaced 1-2 weeks apart, to hedge against dry spells.  \n5. Align with traditional indicators (e.g., flowering of neem trees) alongside modern forecasts.  \nAvoid planting during heavy, erratic downpours—wait for steady, moderate rains to ensure proper seed establishment."
        ],
        [
         "10",
         "11",
         "You provide smallholder farmers in India with high quality agricultural advice and information. Please respond to the following question like an agronomist or agricultural extension agent would respond to a smallholder farmer. Be factually correct, precise and make the response understandable for a smallholder farmer. Do not use more than 10 sentences.\n\nQuestion: What are the signs of nutrient deficiency in maize and how can they be corrected?",
         "**Signs and Solutions for Maize Nutrient Deficiency:**  \n1. **Nitrogen (N):** Older leaves turn pale yellow, stunted growth. Apply urea (split doses: sowing, knee-high, tasseling) or farmyard manure.  \n2. **Phosphorus (P):** Purple-red tint on leaf edges, poor roots. Use DAP/SSP at sowing, place near roots.  \n3. **Potassium (K):** Yellow-brown leaf edges, weak stalks. Apply muriate of potash or wood ash at planting.  \n4. **Zinc (Zn):** White-yellow stripes on young leaves. Spray 0.5% zinc sulfate solution at 15–20-day intervals.  \n5. Test soil before planting to adjust fertilizer use. Mix compost/vermicompost to improve soil health. Avoid excess urea to prevent burning."
        ],
        [
         "11",
         "12",
         "You provide smallholder farmers in India with high quality agricultural advice and information. Please respond to the following question like an agronomist or agricultural extension agent would respond to a smallholder farmer. Be factually correct, precise and make the response understandable for a smallholder farmer. Do not use more than 10 sentences.\n\nQuestion: How can I mitigate post-harvest losses in crops and livestock?",
         "To reduce crop losses:  \n1. Dry grains thoroughly (12-14% moisture) on clean tarps/raised platforms, not bare ground.  \n2. Store in airtight containers/hermetic bags or treat storage with neem leaves/approved pesticides.  \n3. Use cold storage for perishables (vegetables/fruits) or sell quickly.  \n\nFor livestock:  \n4. Vaccinate animals against common diseases (e.g., foot-and-mouth) and deworm regularly.  \n5. Provide clean water, balanced feed, and shaded shelters to prevent stress.  \n6. Avoid overcrowding during transport/marketing to reduce injuries.  \n\nGeneral steps:  \n7. Clean storage areas to remove pests/mold.  \n8. Monitor stored crops weekly for spoilage/pests.  \n9. Sell produce when market prices are favorable to avoid long storage risks.  \n10. Seek training from local Krishi Vigyan Kendras (KVKs) on post-harvest techniques."
        ],
        [
         "12",
         "13",
         "You provide smallholder farmers in India with high quality agricultural advice and information. Please respond to the following question like an agronomist or agricultural extension agent would respond to a smallholder farmer. Be factually correct, precise and make the response understandable for a smallholder farmer. Do not use more than 10 sentences.\n\nQuestion: What are some of the strategies that I can employ to manage climate change in crop production?",
         "To manage climate change in crop production:  \n1. Grow drought-resistant varieties (e.g., millets, drought-tolerant maize).  \n2. Use drip irrigation or rainwater harvesting to save water.  \n3. Apply organic compost/mulch to retain soil moisture and fertility.  \n4. Practice crop rotation/intercropping (e.g., legumes with cereals) to boost soil health.  \n5. Monitor weather forecasts via apps (e.g., *mKisan*) to plan sowing/harvesting.  \n6. Plant trees (agroforestry) around fields to reduce heat stress and erosion.  \n7. Shift planting dates to avoid extreme heat/rains (follow local advisories).  \n8. Use pest-resistant seeds, as warmer climates increase pest risks.  \n9. Adopt zero-tillage or reduced tillage to protect soil structure.  \n10. Join farmer groups to share climate-smart practices and resources.  \n\nStay updated with local agricultural offices for tailored advice!"
        ],
        [
         "13",
         "14",
         "You provide smallholder farmers in India with high quality agricultural advice and information. Please respond to the following question like an agronomist or agricultural extension agent would respond to a smallholder farmer. Be factually correct, precise and make the response understandable for a smallholder farmer. Do not use more than 10 sentences.\n\nQuestion: What are the best disease management practices in livestock production?",
         "1. **Vaccinate regularly** against common diseases like foot-and-mouth, hemorrhagic septicemia, and brucellosis, following local veterinary guidelines.  \n2. **Maintain biosecurity**: Restrict farm access, quarantine new animals for 2-3 weeks, and disinfect tools/vehicles to prevent disease entry.  \n3. **Practice clean sanitation**: Remove manure daily, disinfect sheds monthly, and ensure clean, dry bedding to reduce infection risks.  \n4. **Provide balanced feed and clean water** to boost immunity; avoid moldy feed or stagnant water sources.  \n5. **Control parasites**: Deworm every 3-6 months and use sprays/dips for ticks, lice, and mites.  \n6. **Monitor health daily**: Check for symptoms like fever, coughing, reduced appetite, or abnormal discharges; isolate sick animals immediately.  \n7. **Dispose of carcasses safely** by deep burial (6+ feet) or incineration to prevent contamination.  \n8. **Avoid overcrowding** to minimize stress and disease spread; ensure proper ventilation in shelters.  \n9. **Collaborate with veterinarians** for timely diagnosis and treatment; keep records of illnesses and medications.  \n10. **Educate yourself** on local disease outbreaks and report unusual symptoms to authorities promptly.  \n\nBy combining prevention, hygiene, and vigilance, you can protect your livestock effectively."
        ],
        [
         "14",
         "15",
         "You provide smallholder farmers in India with high quality agricultural advice and information. Please respond to the following question like an agronomist or agricultural extension agent would respond to a smallholder farmer. Be factually correct, precise and make the response understandable for a smallholder farmer. Do not use more than 10 sentences.\n\nQuestion: How are Farmer groups, Farmer Producer Organizations, Community Based Organizations and cooperatives important to farmers?",
         "Farmer groups, FPOs, cooperatives, and CBOs strengthen smallholders by pooling resources, knowledge, and bargaining power. Together, you can buy seeds/fertilizers cheaper in bulk, sell produce at higher prices by avoiding middlemen, and access loans or machinery (e.g., shared tractors). These groups provide training on climate-smart practices, connect you to government schemes (subsidies, insurance), and reduce risks through collective crop planning or storage. Cooperatives also help market produce directly to processors/exporters, ensuring fair prices. By uniting, farmers gain influence in policies and resist exploitation, boosting income and resilience. Joining such organizations empowers you to overcome challenges collectively, not alone."
        ]
       ],
       "shape": {
        "columns": 3,
        "rows": 15
       }
      },
      "text/html": [
       "<div>\n",
       "<style scoped>\n",
       "    .dataframe tbody tr th:only-of-type {\n",
       "        vertical-align: middle;\n",
       "    }\n",
       "\n",
       "    .dataframe tbody tr th {\n",
       "        vertical-align: top;\n",
       "    }\n",
       "\n",
       "    .dataframe thead th {\n",
       "        text-align: right;\n",
       "    }\n",
       "</style>\n",
       "<table border=\"1\" class=\"dataframe\">\n",
       "  <thead>\n",
       "    <tr style=\"text-align: right;\">\n",
       "      <th></th>\n",
       "      <th>id</th>\n",
       "      <th>prompt</th>\n",
       "      <th>answer</th>\n",
       "    </tr>\n",
       "  </thead>\n",
       "  <tbody>\n",
       "    <tr>\n",
       "      <th>0</th>\n",
       "      <td>1</td>\n",
       "      <td>You provide smallholder farmers in India with ...</td>\n",
       "      <td>Your pesticides may not work due to resistance...</td>\n",
       "    </tr>\n",
       "    <tr>\n",
       "      <th>1</th>\n",
       "      <td>2</td>\n",
       "      <td>You provide smallholder farmers in India with ...</td>\n",
       "      <td>To claim compensation for crop/livestock losse...</td>\n",
       "    </tr>\n",
       "    <tr>\n",
       "      <th>2</th>\n",
       "      <td>3</td>\n",
       "      <td>You provide smallholder farmers in India with ...</td>\n",
       "      <td>Visit your nearest **Krishi Vigyan Kendra (KVK...</td>\n",
       "    </tr>\n",
       "    <tr>\n",
       "      <th>3</th>\n",
       "      <td>4</td>\n",
       "      <td>You provide smallholder farmers in India with ...</td>\n",
       "      <td>For dryland areas with low rainfall, consider ...</td>\n",
       "    </tr>\n",
       "    <tr>\n",
       "      <th>4</th>\n",
       "      <td>5</td>\n",
       "      <td>You provide smallholder farmers in India with ...</td>\n",
       "      <td>If you cannot get certified seeds, save seeds ...</td>\n",
       "    </tr>\n",
       "    <tr>\n",
       "      <th>5</th>\n",
       "      <td>6</td>\n",
       "      <td>You provide smallholder farmers in India with ...</td>\n",
       "      <td>Chemical pesticides are important tools to con...</td>\n",
       "    </tr>\n",
       "    <tr>\n",
       "      <th>6</th>\n",
       "      <td>7</td>\n",
       "      <td>You provide smallholder farmers in India with ...</td>\n",
       "      <td>To check if your soil is fertile:  \\n1. **Colo...</td>\n",
       "    </tr>\n",
       "    <tr>\n",
       "      <th>7</th>\n",
       "      <td>8</td>\n",
       "      <td>You provide smallholder farmers in India with ...</td>\n",
       "      <td>To control weeds effectively:  \\n1. **Remove w...</td>\n",
       "    </tr>\n",
       "    <tr>\n",
       "      <th>8</th>\n",
       "      <td>9</td>\n",
       "      <td>You provide smallholder farmers in India with ...</td>\n",
       "      <td>Organic fertilizers (like compost, manure) rel...</td>\n",
       "    </tr>\n",
       "    <tr>\n",
       "      <th>9</th>\n",
       "      <td>10</td>\n",
       "      <td>You provide smallholder farmers in India with ...</td>\n",
       "      <td>The best time to plant depends on soil moistur...</td>\n",
       "    </tr>\n",
       "    <tr>\n",
       "      <th>10</th>\n",
       "      <td>11</td>\n",
       "      <td>You provide smallholder farmers in India with ...</td>\n",
       "      <td>**Signs and Solutions for Maize Nutrient Defic...</td>\n",
       "    </tr>\n",
       "    <tr>\n",
       "      <th>11</th>\n",
       "      <td>12</td>\n",
       "      <td>You provide smallholder farmers in India with ...</td>\n",
       "      <td>To reduce crop losses:  \\n1. Dry grains thorou...</td>\n",
       "    </tr>\n",
       "    <tr>\n",
       "      <th>12</th>\n",
       "      <td>13</td>\n",
       "      <td>You provide smallholder farmers in India with ...</td>\n",
       "      <td>To manage climate change in crop production:  ...</td>\n",
       "    </tr>\n",
       "    <tr>\n",
       "      <th>13</th>\n",
       "      <td>14</td>\n",
       "      <td>You provide smallholder farmers in India with ...</td>\n",
       "      <td>1. **Vaccinate regularly** against common dise...</td>\n",
       "    </tr>\n",
       "    <tr>\n",
       "      <th>14</th>\n",
       "      <td>15</td>\n",
       "      <td>You provide smallholder farmers in India with ...</td>\n",
       "      <td>Farmer groups, FPOs, cooperatives, and CBOs st...</td>\n",
       "    </tr>\n",
       "  </tbody>\n",
       "</table>\n",
       "</div>"
      ],
      "text/plain": [
       "    id                                             prompt  \\\n",
       "0    1  You provide smallholder farmers in India with ...   \n",
       "1    2  You provide smallholder farmers in India with ...   \n",
       "2    3  You provide smallholder farmers in India with ...   \n",
       "3    4  You provide smallholder farmers in India with ...   \n",
       "4    5  You provide smallholder farmers in India with ...   \n",
       "5    6  You provide smallholder farmers in India with ...   \n",
       "6    7  You provide smallholder farmers in India with ...   \n",
       "7    8  You provide smallholder farmers in India with ...   \n",
       "8    9  You provide smallholder farmers in India with ...   \n",
       "9   10  You provide smallholder farmers in India with ...   \n",
       "10  11  You provide smallholder farmers in India with ...   \n",
       "11  12  You provide smallholder farmers in India with ...   \n",
       "12  13  You provide smallholder farmers in India with ...   \n",
       "13  14  You provide smallholder farmers in India with ...   \n",
       "14  15  You provide smallholder farmers in India with ...   \n",
       "\n",
       "                                               answer  \n",
       "0   Your pesticides may not work due to resistance...  \n",
       "1   To claim compensation for crop/livestock losse...  \n",
       "2   Visit your nearest **Krishi Vigyan Kendra (KVK...  \n",
       "3   For dryland areas with low rainfall, consider ...  \n",
       "4   If you cannot get certified seeds, save seeds ...  \n",
       "5   Chemical pesticides are important tools to con...  \n",
       "6   To check if your soil is fertile:  \\n1. **Colo...  \n",
       "7   To control weeds effectively:  \\n1. **Remove w...  \n",
       "8   Organic fertilizers (like compost, manure) rel...  \n",
       "9   The best time to plant depends on soil moistur...  \n",
       "10  **Signs and Solutions for Maize Nutrient Defic...  \n",
       "11  To reduce crop losses:  \\n1. Dry grains thorou...  \n",
       "12  To manage climate change in crop production:  ...  \n",
       "13  1. **Vaccinate regularly** against common dise...  \n",
       "14  Farmer groups, FPOs, cooperatives, and CBOs st...  "
      ]
     },
     "execution_count": 24,
     "metadata": {},
     "output_type": "execute_result"
    }
   ],
   "source": [
    "deepseek_r1_df"
   ]
  },
  {
   "cell_type": "markdown",
   "metadata": {},
   "source": [
    "# Gemini"
   ]
  },
  {
   "cell_type": "code",
   "execution_count": null,
   "metadata": {},
   "outputs": [
    {
     "name": "stdout",
     "output_type": "stream",
     "text": [
      "Saving results to results/RAW_goldenqa_iteration1_oe_india_REVISED-gemini-gemini-2.5-pro-preview-05-06.csv\n"
     ]
    }
   ],
   "source": [
    "gemini_2_5_pro_df = get_llm_answers(qa_df, \"gemini/gemini-2.5-pro-preview-05-06\", country, max_completion_tokens=25000, reasoning_effort=\"medium\")"
   ]
  },
  {
   "cell_type": "code",
   "execution_count": 26,
   "metadata": {},
   "outputs": [
    {
     "data": {
      "application/vnd.microsoft.datawrangler.viewer.v0+json": {
       "columns": [
        {
         "name": "index",
         "rawType": "int64",
         "type": "integer"
        },
        {
         "name": "id",
         "rawType": "int64",
         "type": "integer"
        },
        {
         "name": "prompt",
         "rawType": "object",
         "type": "string"
        },
        {
         "name": "answer",
         "rawType": "object",
         "type": "string"
        }
       ],
       "ref": "38b9ae2b-3004-4974-84d8-87af017876a9",
       "rows": [
        [
         "0",
         "1",
         "You provide smallholder farmers in India with high quality agricultural advice and information. Please respond to the following question like an agronomist or agricultural extension agent would respond to a smallholder farmer. Be factually correct, precise and make the response understandable for a smallholder farmer. Do not use more than 10 sentences.\n\nQuestion: I have been applying different pesticides to control pests on my farm. However, they seem not to be effective, what can I do?",
         "Namaste. This is a common problem, and it often means the pests have become resistant to the pesticides you're using, especially if you use the same type repeatedly.\n\nFirst, make sure you are correctly identifying the pest, as different pests need different treatments. Try rotating pesticides with *different chemical groups* or modes of action; don't just switch brand names if the active chemical is the same. Always follow the label for the correct dosage and timing, and ensure thorough spray coverage, especially under the leaves. Also, check that your pesticide is genuine and not expired. Consider other methods like cultural practices or biological controls as part of an Integrated Pest Management (IPM) approach. For specific guidance, please bring a sample of the pest and affected plant to your local Krishi Vikas Kendra or agricultural officer."
        ],
        [
         "1",
         "2",
         "You provide smallholder farmers in India with high quality agricultural advice and information. Please respond to the following question like an agronomist or agricultural extension agent would respond to a smallholder farmer. Be factually correct, precise and make the response understandable for a smallholder farmer. Do not use more than 10 sentences.\n\nQuestion: I have been losing my crops and livestock due to drought and floods. What can I do to get compensation during such occurrences?",
         "Losing your crops and livestock to extreme weather is very difficult.\nIf your crops are insured under Pradhan Mantri Fasal Bima Yojana (PMFBY), you must inform your bank or insurance company within 72 hours of the loss. They will then assess the damage for compensation.\nFor livestock losses, check if you have taken any livestock insurance and report the loss to the insurer as per their terms.\nIn cases of widespread drought or floods, the government may also announce relief through disaster response funds like the SDRF or NDRF.\nYou should immediately report your specific losses, with details, to your local Village Revenue Officer (Patwari/Lekhpal) or the Agriculture Department office.\nThey can guide you on available government schemes and the necessary paperwork for claiming compensation.\nKeep any photographs or records of the damage as proof, if possible.\nActing quickly after the event is very important to access these benefits."
        ],
        [
         "2",
         "3",
         "You provide smallholder farmers in India with high quality agricultural advice and information. Please respond to the following question like an agronomist or agricultural extension agent would respond to a smallholder farmer. Be factually correct, precise and make the response understandable for a smallholder farmer. Do not use more than 10 sentences.\n\nQuestion: I am interested in learning about crops and livestock production. Where can I visit to learn more about crops and livestock production?",
         "Namaste! That's a great question, it's always good to keep learning.\n\nA very good place to start is your local **Krishi Vigyan Kendra (KVK)**; every district usually has one. They have experts for both crops and livestock and often have demonstration plots where you can see new varieties and techniques. You can also visit the nearest **State Agricultural University**; many have research farms and conduct training programs you might find useful. Don't forget to look for successful, progressive farmers in your own area or nearby villages. Seeing their farms and talking to them can teach you a lot about what works locally. Sometimes, the **Department of Agriculture or Animal Husbandry** also organises exposure visits or field days. These visits will help you see improved practices and breeds firsthand. Ask at these places about any upcoming training sessions or farmer field days."
        ],
        [
         "3",
         "4",
         "You provide smallholder farmers in India with high quality agricultural advice and information. Please respond to the following question like an agronomist or agricultural extension agent would respond to a smallholder farmer. Be factually correct, precise and make the response understandable for a smallholder farmer. Do not use more than 10 sentences.\n\nQuestion: Which bean variety is suitable for dryland agro-ecological zone?",
         "Namaste! For dryland areas, several hardy bean types perform well.\n\nConsider **cowpea** (lobia or chawli), as many varieties are drought-tolerant and quick-maturing. **Moth bean** (matki) is exceptionally hardy and thrives in arid conditions with minimal water. **Horse gram** (kulthi) is another excellent choice, well-adapted to poor soils and dry spells. Some improved varieties of **pigeon pea** (arhar or tur) also show good drought resistance due to their deep root systems. These crops generally require less water than common beans like rajma. They can also help improve your soil fertility. Always check with your local Krishi Vigyan Kendra (KVK) or agricultural university for specific varieties best suited to your particular area, as they will have the latest recommendations. Good luck with your planting!"
        ],
        [
         "4",
         "5",
         "You provide smallholder farmers in India with high quality agricultural advice and information. Please respond to the following question like an agronomist or agricultural extension agent would respond to a smallholder farmer. Be factually correct, precise and make the response understandable for a smallholder farmer. Do not use more than 10 sentences.\n\nQuestion: If I am unable to acquire certified maize seeds, which variety can I save and replant the next season?",
         "Namaste! If you cannot find certified seeds, you can save seeds from **open-pollinated varieties (OPVs)** of maize. These are often called 'desi' or 'sudhari hui kism' (improved local varieties).\n\n**Do not save seeds from hybrid (sankara beej) maize.** Replanting hybrid seeds will result in significantly lower and uneven yields next season because their good qualities are lost.\n\nIf you have an OPV, select cobs from healthy, strong plants in the middle of your field before the main harvest. Choose well-filled, disease-free cobs. Dry these cobs thoroughly in the sun. Store the dried seeds in a cool, dry place, safe from insects and rats, until the next planting season. Always try to get certified seeds when available, as they generally provide better performance. Ask your local agricultural office if they know good OPVs for your area."
        ],
        [
         "5",
         "6",
         "You provide smallholder farmers in India with high quality agricultural advice and information. Please respond to the following question like an agronomist or agricultural extension agent would respond to a smallholder farmer. Be factually correct, precise and make the response understandable for a smallholder farmer. Do not use more than 10 sentences.\n\nQuestion: Are chemical pesticides important and safe in crop and livestock production?",
         "Namaste! Chemical pesticides can be very helpful to protect your crops from insects, diseases, and weeds, which can otherwise cause big losses. For your animals, they can control dangerous ticks, lice, and other parasites that make them sick. So yes, they are important tools for increasing your harvest and keeping livestock healthy.\n\nHowever, safety is a very big concern. They are safe *only* if you use them exactly as the label says – the right amount, at the right time, and with proper safety gear like gloves and masks. Always respect the waiting period before harvesting food or using animal products after application. Misuse can harm you, your family, beneficial insects, and the environment. It's best to use them as part of an Integrated Pest Management (IPM) plan, only when truly necessary. Always seek advice from your local agricultural office if you are unsure."
        ],
        [
         "6",
         "7",
         "You provide smallholder farmers in India with high quality agricultural advice and information. Please respond to the following question like an agronomist or agricultural extension agent would respond to a smallholder farmer. Be factually correct, precise and make the response understandable for a smallholder farmer. Do not use more than 10 sentences.\n\nQuestion: How can I know that my soil is fertile?",
         "Namaste! Healthy crops with good yields are often the first sign of fertile soil.\n\nLook closely at your soil: fertile soil is usually dark in colour, crumbly when you hold it, and has an earthy smell. It should hold water well but also allow excess water to drain, so it doesn't become waterlogged or dry out too quickly. You might also see earthworms and other small creatures, which are good indicators of healthy, living soil.\n\nHowever, the most accurate way to know your soil's fertility and what nutrients it might need is to get a soil test done. Your local Krishi Vigyan Kendra (KVK) or agricultural office can help you with this. This test will tell you exactly what nutrients are present and what might be missing for your specific crops. Adding organic matter like compost or farmyard manure regularly also helps build fertility."
        ],
        [
         "7",
         "8",
         "You provide smallholder farmers in India with high quality agricultural advice and information. Please respond to the following question like an agronomist or agricultural extension agent would respond to a smallholder farmer. Be factually correct, precise and make the response understandable for a smallholder farmer. Do not use more than 10 sentences.\n\nQuestion: How can I best control weeds in my farm?",
         "Namaste! Controlling weeds is very important for a good harvest.\n1.  Start by preparing your field well before planting, removing all existing weeds.\n2.  Use clean, certified seeds to avoid introducing new weed seeds.\n3.  Planting your crop at the right time and with good spacing helps it compete better with weeds.\n4.  Regular hand-weeding or hoeing, especially when weeds are small (2-3 weeks after planting), is very effective.\n5.  Mulching with straw, dry leaves, or plastic sheets can also suppress weed growth and save water.\n6.  Consider intercropping with cover crops that can smother weeds.\n7.  If weeds are still a big problem, you can consider using a suitable herbicide, but always follow label instructions carefully for safety and effectiveness.\n8.  Rotating your crops each season can also help break weed cycles.\n9.  Remember, combining a few of these methods – what we call Integrated Weed Management – usually works best.\n10. Consistent effort in managing weeds early will save you a lot of trouble later."
        ],
        [
         "8",
         "9",
         "You provide smallholder farmers in India with high quality agricultural advice and information. Please respond to the following question like an agronomist or agricultural extension agent would respond to a smallholder farmer. Be factually correct, precise and make the response understandable for a smallholder farmer. Do not use more than 10 sentences.\n\nQuestion: How do organic and synthetic/inorganic fertilizers compare in terms of effectiveness to crop production, and which one would be more suitable for different farming conditions?",
         "Namaste! Both organic and synthetic fertilizers help your crops grow, but they work differently.\nSynthetic fertilizers, like urea or DAP, provide nutrients quickly, giving a fast boost to plant growth. They are good if your soil is very low in a specific nutrient or if your crop needs an immediate feed.\nOrganic fertilizers, such as farmyard manure or compost, release nutrients slowly as they improve your soil structure and health. This long-term benefit helps your soil hold more water and supports beneficial soil life.\nFor poor soils, starting with organic matter is crucial for building fertility. If you need a rapid correction for a nutrient deficiency, synthetic fertilizers offer a quicker response.\nOften, the best approach is to combine both: use organic matter to build your soil and supplement with synthetic fertilizers based on crop needs. For example, in sandy soils that don't hold nutrients well, organic matter is very important. In heavy clay soils, organic matter also helps with drainage and aeration. A soil test can guide you in making the most effective decision for your specific farm."
        ],
        [
         "9",
         "10",
         "You provide smallholder farmers in India with high quality agricultural advice and information. Please respond to the following question like an agronomist or agricultural extension agent would respond to a smallholder farmer. Be factually correct, precise and make the response understandable for a smallholder farmer. Do not use more than 10 sentences.\n\nQuestion: Lately, the onset of rains has shown significant variability from season to season. This has affected our ability to judge when to plant. In this scenario, when is the best time to plant?",
         "Namaste. This is a common challenge many farmers are facing now.\n\nWith these unreliable rains, the key is to ensure there's enough moisture in the soil *before* you sow. Don't rush to plant with the very first light shower, as it might be a 'false start' and your seeds could dry out. Wait until you've had at least two to three good, soaking rains. Check the soil yourself: dig a small hole; it should be moist at least up to your fist's depth (about 10-15 cm). This moisture gives your seeds the best chance to germinate well and survive until the next rain. Some farmers also try planting a portion of their land a little later than the first ideal window to spread the risk. Observing local weather patterns and your soil condition carefully is more important than ever."
        ],
        [
         "10",
         "11",
         "You provide smallholder farmers in India with high quality agricultural advice and information. Please respond to the following question like an agronomist or agricultural extension agent would respond to a smallholder farmer. Be factually correct, precise and make the response understandable for a smallholder farmer. Do not use more than 10 sentences.\n\nQuestion: What are the signs of nutrient deficiency in maize and how can they be corrected?",
         "Namaste! If your maize leaves are turning yellow, especially older ones starting from the tip and moving down the middle in a V-shape, it's likely a Nitrogen (N) shortage. Purplish leaves, particularly on young plants or the undersides of older leaves, often mean a Phosphorus (P) deficiency. If the edges of older leaves turn yellow or brown and look burnt, that signals a Potassium (K) deficiency. Stunted growth can also be a general sign.\n\nTo correct these, applying well-rotted farmyard manure (FYM) or compost before planting is very good for overall soil health. For specific deficiencies, you can top-dress with urea for Nitrogen after confirming the need. If you suspect P or K issues, using fertilizers like DAP (for P) or Muriate of Potash (for K) at planting or as a side-dressing can help. A balanced NPK fertilizer can also be beneficial. Getting your soil tested is the best way to know exactly what your field needs for the next season."
        ],
        [
         "11",
         "12",
         "You provide smallholder farmers in India with high quality agricultural advice and information. Please respond to the following question like an agronomist or agricultural extension agent would respond to a smallholder farmer. Be factually correct, precise and make the response understandable for a smallholder farmer. Do not use more than 10 sentences.\n\nQuestion: How can I mitigate post-harvest losses in crops and livestock?",
         "Namaste! Preventing losses after harvest is very important for your hard work.\n\nFor your crops, always harvest them at the correct maturity. Handle them gently during harvesting and transport to avoid damage. Dry your grains and pulses thoroughly before storing them in clean, dry, and pest-proof containers or bags. Good ventilation in your storage area also helps. Using traditional methods like neem leaves or modern solutions like hermetic bags can protect stored grains.\n\nFor livestock, ensure clean housing and prompt, hygienic collection of products like milk or eggs. Cool milk quickly if possible, and handle eggs carefully to prevent breakage. If you process meat, do so cleanly and consume or sell it quickly, or use proper preservation methods. Regular checks on stored produce and animals can help catch problems early."
        ],
        [
         "12",
         "13",
         "You provide smallholder farmers in India with high quality agricultural advice and information. Please respond to the following question like an agronomist or agricultural extension agent would respond to a smallholder farmer. Be factually correct, precise and make the response understandable for a smallholder farmer. Do not use more than 10 sentences.\n\nQuestion: What are some of the strategies that I can employ to manage climate change in crop production?",
         "Namaste! Climate change brings unpredictable weather, so we must adapt.\n\nFirstly, focus on saving every drop of water. You can do this by harvesting rainwater in small ponds or tanks and using efficient irrigation methods like drip or sprinklers where possible. Improving your soil health by adding plenty of organic manure and compost will also help it hold water much better. Consider planting drought-tolerant crop varieties or local landraces that are known to withstand harsh conditions. Diversifying your crops by practicing intercropping or mixed cropping can reduce the risk if one crop fails due to weather. Adjusting your planting and harvesting times based on weather forecasts can also be very helpful. Finally, using mulch like straw or crop residues can conserve soil moisture and reduce heat stress on your plants. These steps can build your farm's resilience."
        ],
        [
         "13",
         "14",
         "You provide smallholder farmers in India with high quality agricultural advice and information. Please respond to the following question like an agronomist or agricultural extension agent would respond to a smallholder farmer. Be factually correct, precise and make the response understandable for a smallholder farmer. Do not use more than 10 sentences.\n\nQuestion: What are the best disease management practices in livestock production?",
         "Namaste! To keep your animals healthy and prevent diseases, good management is key.\n\n1.  Always keep their living areas (sheds) clean, dry, and well-ventilated.\n2.  Provide them with good quality feed and fresh, clean water daily.\n3.  Vaccinate your animals regularly against common diseases, as advised by your local vet.\n4.  When you buy new animals, keep them separate (quarantine) for a few weeks before mixing them with your main herd.\n5.  Watch your animals closely every day for any signs of sickness, like not eating or appearing dull.\n6.  If an animal seems sick, separate it immediately from the healthy ones to prevent spread.\n7.  Consult a veterinary doctor quickly if you notice any health problems or unusual behaviour.\n8.  Control pests like flies, ticks, and rats, as they can spread diseases.\n9.  Ensure proper disposal of animal waste and any dead animals.\n10. Don't allow visitors to freely walk through your animal areas without taking precautions.\n\nFollowing these steps will greatly help in keeping your livestock healthy and productive."
        ],
        [
         "14",
         "15",
         "You provide smallholder farmers in India with high quality agricultural advice and information. Please respond to the following question like an agronomist or agricultural extension agent would respond to a smallholder farmer. Be factually correct, precise and make the response understandable for a smallholder farmer. Do not use more than 10 sentences.\n\nQuestion: How are Farmer groups, Farmer Producer Organizations, Community Based Organizations and cooperatives important to farmers?",
         "Namaste! These groups – Farmer Groups, Farmer Producer Organizations (FPOs), Community Based Organizations (CBOs), and Cooperatives – are very beneficial for you.\n\nWhen you join, you get stronger bargaining power. This means you can buy inputs like seeds and fertilizers at lower costs because you buy in bulk. You can also sell your produce together for better prices in the market. These groups help you access new farming knowledge, training, and even credit more easily. It's also simpler to get modern machinery or better storage facilities through them. They can connect you to larger markets you might not reach alone. Working together also gives you a stronger voice to address your common needs and challenges. Ultimately, they help improve your income and make farming more secure and profitable for you and your community."
        ]
       ],
       "shape": {
        "columns": 3,
        "rows": 15
       }
      },
      "text/html": [
       "<div>\n",
       "<style scoped>\n",
       "    .dataframe tbody tr th:only-of-type {\n",
       "        vertical-align: middle;\n",
       "    }\n",
       "\n",
       "    .dataframe tbody tr th {\n",
       "        vertical-align: top;\n",
       "    }\n",
       "\n",
       "    .dataframe thead th {\n",
       "        text-align: right;\n",
       "    }\n",
       "</style>\n",
       "<table border=\"1\" class=\"dataframe\">\n",
       "  <thead>\n",
       "    <tr style=\"text-align: right;\">\n",
       "      <th></th>\n",
       "      <th>id</th>\n",
       "      <th>prompt</th>\n",
       "      <th>answer</th>\n",
       "    </tr>\n",
       "  </thead>\n",
       "  <tbody>\n",
       "    <tr>\n",
       "      <th>0</th>\n",
       "      <td>1</td>\n",
       "      <td>You provide smallholder farmers in India with ...</td>\n",
       "      <td>Namaste. This is a common problem, and it ofte...</td>\n",
       "    </tr>\n",
       "    <tr>\n",
       "      <th>1</th>\n",
       "      <td>2</td>\n",
       "      <td>You provide smallholder farmers in India with ...</td>\n",
       "      <td>Losing your crops and livestock to extreme wea...</td>\n",
       "    </tr>\n",
       "    <tr>\n",
       "      <th>2</th>\n",
       "      <td>3</td>\n",
       "      <td>You provide smallholder farmers in India with ...</td>\n",
       "      <td>Namaste! That's a great question, it's always ...</td>\n",
       "    </tr>\n",
       "    <tr>\n",
       "      <th>3</th>\n",
       "      <td>4</td>\n",
       "      <td>You provide smallholder farmers in India with ...</td>\n",
       "      <td>Namaste! For dryland areas, several hardy bean...</td>\n",
       "    </tr>\n",
       "    <tr>\n",
       "      <th>4</th>\n",
       "      <td>5</td>\n",
       "      <td>You provide smallholder farmers in India with ...</td>\n",
       "      <td>Namaste! If you cannot find certified seeds, y...</td>\n",
       "    </tr>\n",
       "    <tr>\n",
       "      <th>5</th>\n",
       "      <td>6</td>\n",
       "      <td>You provide smallholder farmers in India with ...</td>\n",
       "      <td>Namaste! Chemical pesticides can be very helpf...</td>\n",
       "    </tr>\n",
       "    <tr>\n",
       "      <th>6</th>\n",
       "      <td>7</td>\n",
       "      <td>You provide smallholder farmers in India with ...</td>\n",
       "      <td>Namaste! Healthy crops with good yields are of...</td>\n",
       "    </tr>\n",
       "    <tr>\n",
       "      <th>7</th>\n",
       "      <td>8</td>\n",
       "      <td>You provide smallholder farmers in India with ...</td>\n",
       "      <td>Namaste! Controlling weeds is very important f...</td>\n",
       "    </tr>\n",
       "    <tr>\n",
       "      <th>8</th>\n",
       "      <td>9</td>\n",
       "      <td>You provide smallholder farmers in India with ...</td>\n",
       "      <td>Namaste! Both organic and synthetic fertilizer...</td>\n",
       "    </tr>\n",
       "    <tr>\n",
       "      <th>9</th>\n",
       "      <td>10</td>\n",
       "      <td>You provide smallholder farmers in India with ...</td>\n",
       "      <td>Namaste. This is a common challenge many farme...</td>\n",
       "    </tr>\n",
       "    <tr>\n",
       "      <th>10</th>\n",
       "      <td>11</td>\n",
       "      <td>You provide smallholder farmers in India with ...</td>\n",
       "      <td>Namaste! If your maize leaves are turning yell...</td>\n",
       "    </tr>\n",
       "    <tr>\n",
       "      <th>11</th>\n",
       "      <td>12</td>\n",
       "      <td>You provide smallholder farmers in India with ...</td>\n",
       "      <td>Namaste! Preventing losses after harvest is ve...</td>\n",
       "    </tr>\n",
       "    <tr>\n",
       "      <th>12</th>\n",
       "      <td>13</td>\n",
       "      <td>You provide smallholder farmers in India with ...</td>\n",
       "      <td>Namaste! Climate change brings unpredictable w...</td>\n",
       "    </tr>\n",
       "    <tr>\n",
       "      <th>13</th>\n",
       "      <td>14</td>\n",
       "      <td>You provide smallholder farmers in India with ...</td>\n",
       "      <td>Namaste! To keep your animals healthy and prev...</td>\n",
       "    </tr>\n",
       "    <tr>\n",
       "      <th>14</th>\n",
       "      <td>15</td>\n",
       "      <td>You provide smallholder farmers in India with ...</td>\n",
       "      <td>Namaste! These groups – Farmer Groups, Farmer ...</td>\n",
       "    </tr>\n",
       "  </tbody>\n",
       "</table>\n",
       "</div>"
      ],
      "text/plain": [
       "    id                                             prompt  \\\n",
       "0    1  You provide smallholder farmers in India with ...   \n",
       "1    2  You provide smallholder farmers in India with ...   \n",
       "2    3  You provide smallholder farmers in India with ...   \n",
       "3    4  You provide smallholder farmers in India with ...   \n",
       "4    5  You provide smallholder farmers in India with ...   \n",
       "5    6  You provide smallholder farmers in India with ...   \n",
       "6    7  You provide smallholder farmers in India with ...   \n",
       "7    8  You provide smallholder farmers in India with ...   \n",
       "8    9  You provide smallholder farmers in India with ...   \n",
       "9   10  You provide smallholder farmers in India with ...   \n",
       "10  11  You provide smallholder farmers in India with ...   \n",
       "11  12  You provide smallholder farmers in India with ...   \n",
       "12  13  You provide smallholder farmers in India with ...   \n",
       "13  14  You provide smallholder farmers in India with ...   \n",
       "14  15  You provide smallholder farmers in India with ...   \n",
       "\n",
       "                                               answer  \n",
       "0   Namaste. This is a common problem, and it ofte...  \n",
       "1   Losing your crops and livestock to extreme wea...  \n",
       "2   Namaste! That's a great question, it's always ...  \n",
       "3   Namaste! For dryland areas, several hardy bean...  \n",
       "4   Namaste! If you cannot find certified seeds, y...  \n",
       "5   Namaste! Chemical pesticides can be very helpf...  \n",
       "6   Namaste! Healthy crops with good yields are of...  \n",
       "7   Namaste! Controlling weeds is very important f...  \n",
       "8   Namaste! Both organic and synthetic fertilizer...  \n",
       "9   Namaste. This is a common challenge many farme...  \n",
       "10  Namaste! If your maize leaves are turning yell...  \n",
       "11  Namaste! Preventing losses after harvest is ve...  \n",
       "12  Namaste! Climate change brings unpredictable w...  \n",
       "13  Namaste! To keep your animals healthy and prev...  \n",
       "14  Namaste! These groups – Farmer Groups, Farmer ...  "
      ]
     },
     "execution_count": 26,
     "metadata": {},
     "output_type": "execute_result"
    }
   ],
   "source": [
    "gemini_2_5_pro_df"
   ]
  },
  {
   "cell_type": "markdown",
   "metadata": {},
   "source": [
    "# Aggregate results"
   ]
  },
  {
   "cell_type": "code",
   "execution_count": 81,
   "metadata": {},
   "outputs": [
    {
     "data": {
      "text/plain": [
       "'RAW_goldenqa_iteration1_oe_india_REVISED'"
      ]
     },
     "execution_count": 81,
     "metadata": {},
     "output_type": "execute_result"
    }
   ],
   "source": [
    "basename"
   ]
  },
  {
   "cell_type": "code",
   "execution_count": 82,
   "metadata": {},
   "outputs": [
    {
     "name": "stdout",
     "output_type": "stream",
     "text": [
      "['results/RAW_goldenqa_iteration1_oe_india_REVISED-deepseek-deepseek-reasoner.csv', 'results/RAW_goldenqa_iteration1_oe_india_REVISED-openai-gpt-4o-2024-08-06.csv', 'results/RAW_goldenqa_iteration1_oe_india_REVISED-anthropic-claude-3-7-sonnet-20250219.csv', 'results/RAW_goldenqa_iteration1_oe_india_REVISED-openai-o1-2024-12-17.csv', 'results/RAW_goldenqa_iteration1_oe_india_REVISED-anthropic-claude-3-5-sonnet-20241022.csv', 'results/RAW_goldenqa_iteration1_oe_india_REVISED-openai-o4-mini-2025-04-16.csv', 'results/RAW_goldenqa_iteration1_oe_india_REVISED-gemini-gemini-2-5-pro-preview-05-06.csv', 'results/RAW_goldenqa_iteration1_oe_india_REVISED-deepseek-deepseek-chat.csv', 'results/RAW_goldenqa_iteration1_oe_india_REVISED-openai-o3-2025-04-16.csv']\n"
     ]
    }
   ],
   "source": [
    "import glob\n",
    "\n",
    "# Get a list of all CSV files in the results directory\n",
    "csv_files = glob.glob(f\"results/{basename}-*.csv\")\n",
    "# Print the list of CSV files\n",
    "print(csv_files)"
   ]
  },
  {
   "cell_type": "code",
   "execution_count": 83,
   "metadata": {},
   "outputs": [],
   "source": [
    "# read all csv files, extract the model name from the filename, and concatenate them into a single dataframe\n",
    "dfs = []\n",
    "for file in csv_files:\n",
    "    model_name = \"-\".join(os.path.basename(file).split(\"-\")[1:]).split(\".\")[0]\n",
    "    df = pd.read_csv(file)\n",
    "    df[\"model\"] = model_name\n",
    "    dfs.append(df)\n",
    "\n",
    "# concatenate all dataframes into a single dataframe\n",
    "all_df = pd.concat(dfs, ignore_index=True)\n",
    "\n",
    "# drop the prompt column\n",
    "all_df = all_df.drop(columns=[\"prompt\"])\n",
    "\n",
    "# add country column\n",
    "all_df[\"country\"] = country"
   ]
  },
  {
   "cell_type": "code",
   "execution_count": 84,
   "metadata": {},
   "outputs": [
    {
     "data": {
      "application/vnd.microsoft.datawrangler.viewer.v0+json": {
       "columns": [
        {
         "name": "index",
         "rawType": "int64",
         "type": "integer"
        },
        {
         "name": "id",
         "rawType": "int64",
         "type": "integer"
        },
        {
         "name": "answer",
         "rawType": "object",
         "type": "string"
        },
        {
         "name": "model",
         "rawType": "object",
         "type": "string"
        },
        {
         "name": "country",
         "rawType": "object",
         "type": "string"
        }
       ],
       "ref": "e8399594-5af6-4b36-9fba-d7b5e69de9c5",
       "rows": [
        [
         "0",
         "1",
         "Your pesticides may not work due to resistance, incorrect use, or wrong pest identification. Follow these steps:  \n1. **Rotate pesticides** with different active ingredients (e.g., neonicotinoids → pyrethroids) to avoid resistance.  \n2. **Confirm the pest** with local experts to choose the right chemical.  \n3. **Check dosage/timing**: Apply as per label instructions, targeting pests’ vulnerable stages (e.g., larvae).  \n4. **Avoid counterfeits**: Buy certified products from trusted suppliers.  \n5. **Combine methods**: Use neem oil or traps, plant pest-resistant varieties, and encourage natural predators (e.g., ladybugs).  \n6. **Improve application**: Spray early morning/evening, ensure full coverage, and reapply after rain.  \nVisit your nearest Krishi Vigyan Kendra for tailored advice and pest identification.",
         "deepseek-deepseek-reasoner",
         "India"
        ],
        [
         "1",
         "2",
         "To claim compensation for crop/livestock losses due to droughts/floods:  \n1. Enroll in **Pradhan Mantri Fasal Bima Yojana (PMFBY)** for crop insurance via Common Service Centers or banks. Premiums are low (1.5-5% of crop value).  \n2. For immediate relief, report losses to your local revenue officer/Block Development Officer within **48 hours** to access the **National Disaster Relief Fund (NDRF)**.  \n3. Insure livestock via **Livestock Insurance Scheme** (available for cattle, poultry, etc.) through veterinary offices.  \n4. Keep documents ready: Land records, Aadhaar, bank details, photos/videos of damage, and a written loss report from the village officer.  \n5. Check weather alerts via **mKisan SMS** (register at 1800-180-1551) to act early.  \n\nCompensation depends on timely reporting and proper documentation. Contact your nearest Krishi Vigyan Kendra (KVK) for help with paperwork.",
         "deepseek-deepseek-reasoner",
         "India"
        ],
        [
         "2",
         "3",
         "Visit your nearest **Krishi Vigyan Kendra (KVK)** or **Agricultural University** (e.g., ICAR institutes, state universities like Punjab Agricultural University). These centers offer free training, field demonstrations, and expert guidance on crops/livestock. **State Agriculture Departments** organize farmer fairs and workshops—ask your local extension officer. For hands-on learning, join **Farmer Producer Organizations (FPOs)** or visit **model farms** in your district under government schemes like ATMA. **Dairy cooperatives** (e.g., Amul) provide livestock training. Prioritize KVKs first—they’re tailored for smallholders!",
         "deepseek-deepseek-reasoner",
         "India"
        ],
        [
         "3",
         "4",
         "For dryland areas with low rainfall, consider drought-tolerant bean varieties:  \n1. **Lablab Bean** (Hyacinth bean/Val Papdi): Deep roots, survives 60-90 cm annual rainfall.  \n2. **Cowpea** (Lobia): Matures in 65-90 days, grows in sandy loam soils.  \n3. **Moth Bean** (Matki): Short duration (60-75 days), suited for Rajasthan/Gujarat.  \n4. **Horse Gram** (Kulthi): Thrives in poor soils with 50-80 cm rain.  \n5. **Cluster Bean** (Guar): Tolerates heat, dual-purpose (vegetable & gum).  \n\nOpt for short-duration varieties (60-90 days) and intercropping with millets/sorghum. Use seed treatment and mulch to conserve soil moisture.",
         "deepseek-deepseek-reasoner",
         "India"
        ],
        [
         "4",
         "5",
         "If you cannot get certified seeds, save seeds from **open-pollinated varieties** (OPVs) or traditional local maize varieties. These include **Vijay Composite**, **Jaipur Composite**, or your region’s native landraces. **Avoid hybrid seeds** (e.g., NK 6240, Pioneer), as they lose yield and vigor when replanted. For saving seeds:  \n1. Select healthy, pest-free plants with strong cobs.  \n2. Let cobs dry fully on the stalk before harvest.  \n3. Store seeds in airtight containers with neem leaves to prevent pests.  \n4. Ensure isolation (200+ meters) from other maize fields to avoid cross-pollination.  \nYields may be 10–20% lower than hybrids, but OPVs are reliable for replanting. Always test seed germination before sowing.",
         "deepseek-deepseek-reasoner",
         "India"
        ],
        [
         "5",
         "6",
         "Chemical pesticides are important tools to control pests and diseases that threaten crops and livestock, but their safety depends entirely on proper use. When used **as directed** (correct dose, timing, and protective gear), registered pesticides can protect yields effectively. **Overuse or misuse** harms human health, kills beneficial insects, contaminates soil/water, and leads to pesticide-resistant pests. Always follow label instructions, avoid spraying near harvest, and never mix chemicals haphazardly. For safer alternatives, combine pesticides with **Integrated Pest Management (IPM)**—like resistant crop varieties, natural predators, and crop rotation. In livestock, use veterinary-approved treatments only; improper antibiotics or pesticides in feed risk residues in milk/meat. Prioritize prevention (clean sheds, balanced feed) to reduce disease. Consult local experts for region-specific, low-toxicity options. **Chemicals are useful but not the only solution—use wisely and sparingly.**",
         "deepseek-deepseek-reasoner",
         "India"
        ],
        [
         "6",
         "7",
         "To check if your soil is fertile:  \n1. **Color**: Look for dark brown/black soil, which indicates rich organic matter.  \n2. **Texture**: Fertile soil is crumbly, holds shape when squeezed (like a moist ball), but breaks apart easily.  \n3. **Earthworms**: Many earthworms mean healthy, nutrient-rich soil.  \n4. **Plant Health**: Weeds/crops grow vigorously with deep green leaves (unless pests/diseases interfere).  \n5. **Water Absorption**: Soil absorbs rainwater well without pooling or cracking in drought.  \n6. **Smell**: Fertile soil has an earthy, fresh odor.  \n7. **Test Crops**: Plant fast-growing legumes (e.g., cowpea). Lush growth signals good fertility.  \n8. **Soil Testing**: For certainty, send a sample to a lab (or local govt. center) to check pH, nitrogen, phosphorus, and potassium levels.  \n\nAct on these signs and test if unsure—fertile soil ensures better yields!",
         "deepseek-deepseek-reasoner",
         "India"
        ],
        [
         "7",
         "8",
         "To control weeds effectively:  \n1. **Remove weeds early** by hand or hoe when young (2-3 weeks after sowing).  \n2. Use **mulching** (dry leaves/straw) to block sunlight and suppress growth.  \n3. Practice **crop rotation** and plant dense, fast-growing crops (e.g., cowpea, maize) to outcompete weeds.  \n4. **Intercrop** with cover crops like mustard to reduce weed space.  \n5. Apply **organic herbicides** (vinegar + salt) or chemical herbicides (like 2,4-D for cereals), but follow label instructions and wear protective gear.  \n6. Avoid deep ploughing, which brings buried weed seeds to the surface.  \n7. Ensure timely weeding before weeds flower/seeds form (critical!).  \nCombine these methods for long-term control and healthier soil.",
         "deepseek-deepseek-reasoner",
         "India"
        ],
        [
         "8",
         "9",
         "Organic fertilizers (like compost, manure) release nutrients slowly, improving soil health and microbial activity over time but may show slower crop response. Synthetic fertilizers (urea, DAP) provide immediate nutrients, boosting yields quickly but can degrade soil if overused. For poor, degraded soils with low organic matter, use organic fertilizers to rebuild fertility. In fertile soils needing quick nutrient boosts (especially during critical growth stages), synthetic fertilizers are effective. Smallholders with access to organic waste (livestock, crop residues) can reduce costs with organic options, while those needing precise nutrient management (e.g., cash crops) may benefit from synthetics. Combining both (applying organic matter annually + targeted synthetic doses) often works best for sustainability and productivity. Always test soil to guide choices.",
         "deepseek-deepseek-reasoner",
         "India"
        ],
        [
         "9",
         "10",
         "The best time to plant depends on soil moisture, local weather patterns, and crop type. Follow these steps:  \n1. Monitor short-term (7–10 day) rainfall forecasts from trusted sources like IMD (India Meteorological Department).  \n2. Wait for the soil to absorb enough rain (test by squeezing a handful—if it holds shape without dripping, it’s ready).  \n3. Prioritize drought-tolerant varieties (e.g., pearl millet, pigeon pea) to reduce risk.  \n4. Use staggered planting: split your seed stock and sow in 2-3 batches, spaced 1-2 weeks apart, to hedge against dry spells.  \n5. Align with traditional indicators (e.g., flowering of neem trees) alongside modern forecasts.  \nAvoid planting during heavy, erratic downpours—wait for steady, moderate rains to ensure proper seed establishment.",
         "deepseek-deepseek-reasoner",
         "India"
        ],
        [
         "10",
         "11",
         "**Signs and Solutions for Maize Nutrient Deficiency:**  \n1. **Nitrogen (N):** Older leaves turn pale yellow, stunted growth. Apply urea (split doses: sowing, knee-high, tasseling) or farmyard manure.  \n2. **Phosphorus (P):** Purple-red tint on leaf edges, poor roots. Use DAP/SSP at sowing, place near roots.  \n3. **Potassium (K):** Yellow-brown leaf edges, weak stalks. Apply muriate of potash or wood ash at planting.  \n4. **Zinc (Zn):** White-yellow stripes on young leaves. Spray 0.5% zinc sulfate solution at 15–20-day intervals.  \n5. Test soil before planting to adjust fertilizer use. Mix compost/vermicompost to improve soil health. Avoid excess urea to prevent burning.",
         "deepseek-deepseek-reasoner",
         "India"
        ],
        [
         "11",
         "12",
         "To reduce crop losses:  \n1. Dry grains thoroughly (12-14% moisture) on clean tarps/raised platforms, not bare ground.  \n2. Store in airtight containers/hermetic bags or treat storage with neem leaves/approved pesticides.  \n3. Use cold storage for perishables (vegetables/fruits) or sell quickly.  \n\nFor livestock:  \n4. Vaccinate animals against common diseases (e.g., foot-and-mouth) and deworm regularly.  \n5. Provide clean water, balanced feed, and shaded shelters to prevent stress.  \n6. Avoid overcrowding during transport/marketing to reduce injuries.  \n\nGeneral steps:  \n7. Clean storage areas to remove pests/mold.  \n8. Monitor stored crops weekly for spoilage/pests.  \n9. Sell produce when market prices are favorable to avoid long storage risks.  \n10. Seek training from local Krishi Vigyan Kendras (KVKs) on post-harvest techniques.",
         "deepseek-deepseek-reasoner",
         "India"
        ],
        [
         "12",
         "13",
         "To manage climate change in crop production:  \n1. Grow drought-resistant varieties (e.g., millets, drought-tolerant maize).  \n2. Use drip irrigation or rainwater harvesting to save water.  \n3. Apply organic compost/mulch to retain soil moisture and fertility.  \n4. Practice crop rotation/intercropping (e.g., legumes with cereals) to boost soil health.  \n5. Monitor weather forecasts via apps (e.g., *mKisan*) to plan sowing/harvesting.  \n6. Plant trees (agroforestry) around fields to reduce heat stress and erosion.  \n7. Shift planting dates to avoid extreme heat/rains (follow local advisories).  \n8. Use pest-resistant seeds, as warmer climates increase pest risks.  \n9. Adopt zero-tillage or reduced tillage to protect soil structure.  \n10. Join farmer groups to share climate-smart practices and resources.  \n\nStay updated with local agricultural offices for tailored advice!",
         "deepseek-deepseek-reasoner",
         "India"
        ],
        [
         "13",
         "14",
         "1. **Vaccinate regularly** against common diseases like foot-and-mouth, hemorrhagic septicemia, and brucellosis, following local veterinary guidelines.  \n2. **Maintain biosecurity**: Restrict farm access, quarantine new animals for 2-3 weeks, and disinfect tools/vehicles to prevent disease entry.  \n3. **Practice clean sanitation**: Remove manure daily, disinfect sheds monthly, and ensure clean, dry bedding to reduce infection risks.  \n4. **Provide balanced feed and clean water** to boost immunity; avoid moldy feed or stagnant water sources.  \n5. **Control parasites**: Deworm every 3-6 months and use sprays/dips for ticks, lice, and mites.  \n6. **Monitor health daily**: Check for symptoms like fever, coughing, reduced appetite, or abnormal discharges; isolate sick animals immediately.  \n7. **Dispose of carcasses safely** by deep burial (6+ feet) or incineration to prevent contamination.  \n8. **Avoid overcrowding** to minimize stress and disease spread; ensure proper ventilation in shelters.  \n9. **Collaborate with veterinarians** for timely diagnosis and treatment; keep records of illnesses and medications.  \n10. **Educate yourself** on local disease outbreaks and report unusual symptoms to authorities promptly.  \n\nBy combining prevention, hygiene, and vigilance, you can protect your livestock effectively.",
         "deepseek-deepseek-reasoner",
         "India"
        ],
        [
         "14",
         "15",
         "Farmer groups, FPOs, cooperatives, and CBOs strengthen smallholders by pooling resources, knowledge, and bargaining power. Together, you can buy seeds/fertilizers cheaper in bulk, sell produce at higher prices by avoiding middlemen, and access loans or machinery (e.g., shared tractors). These groups provide training on climate-smart practices, connect you to government schemes (subsidies, insurance), and reduce risks through collective crop planning or storage. Cooperatives also help market produce directly to processors/exporters, ensuring fair prices. By uniting, farmers gain influence in policies and resist exploitation, boosting income and resilience. Joining such organizations empowers you to overcome challenges collectively, not alone.",
         "deepseek-deepseek-reasoner",
         "India"
        ],
        [
         "15",
         "1",
         "I'm sorry to hear you're facing this issue. Here are a few steps you can take to improve the situation:\n\n1. **Identify the Pest**: Make sure you have correctly identified the pest. Sometimes, misidentification can lead to using the wrong pesticide, which will be ineffective.\n\n2. **Check Pesticide Expiry**: Ensure the pesticides you're using aren't expired, as expired products lose their effectiveness.\n\n3. **Rotate Pesticides**: Pests can become resistant to a pesticide if it's used repeatedly. Rotating pesticides with different active ingredients can help prevent this resistance.\n\n4. **Integrated Pest Management (IPM)**: Consider using IPM practices which include cultural, mechanical, biological, and chemical methods to control pests. This holistic approach can be more effective than relying solely on chemicals.\n\n5. **Correct Dosage and Application**: Make sure you're using the correct dosage and application method as per the label instructions. Applying less or more than recommended can reduce effectiveness.\n\n6. **Soil Health and Crop Rotation**: Maintain good soil health and practice crop rotation to naturally deter pests. Healthy plants are more resistant to pest attacks.\n\n7. **Local Extension Services**: Reach out to your local agricultural extension officer for specific advice tailored to your situation and region.\n\nFollowing these steps should help improve pest control on your farm.",
         "openai-gpt-4o-2024-08-06",
         "India"
        ],
        [
         "16",
         "2",
         "I'm sorry to hear about the impact of droughts and floods on your farm. To get compensation, you should first ensure that you are enrolled in the Pradhan Mantri Fasal Bima Yojana (PMFBY) for crops and the Livestock Insurance Scheme for your animals, if available in your area. These schemes provide insurance against losses due to natural calamities. Make sure to register your crop and livestock details with the local agriculture department before the sowing and coverage period begins.\n\nIf you experience a loss, report it immediately to your insurance company or local agricultural officer. Keep records of your enrollment, premium payments, and any communication with the insurance provider. For additional support, check if your state government offers any relief schemes and apply accordingly. Maintaining accurate records and quick reporting will help facilitate your compensation claim. It's also helpful to participate in local farmer groups to stay informed about new government schemes and assistance programs.",
         "openai-gpt-4o-2024-08-06",
         "India"
        ],
        [
         "17",
         "3",
         "To learn more about crops and livestock production, you can start by visiting your nearest Krishi Vigyan Kendra (KVK). KVKs are agricultural science centers in India that provide practical training and advice to farmers. They offer workshops and demonstrations on various farming techniques and technologies suitable for your region.\n\nAdditionally, you can participate in field days organized by agricultural universities or research institutions in your area. These events showcase the latest advancements in crop and livestock management. Also, consider joining local farmers' groups or cooperatives, where experienced farmers share their knowledge and experiences.\n\nMany government agricultural departments organize training programs, so keep an eye out for these opportunities. Finally, contacting NGOs that focus on agriculture can also be helpful, as they often provide hands-on training and resources for farmers.",
         "openai-gpt-4o-2024-08-06",
         "India"
        ],
        [
         "18",
         "4",
         "For a dryland agro-ecological zone, it's important to choose a bean variety that is drought-tolerant and can thrive in less water. One suitable variety is the **Moth Bean (Vigna aconitifolia)**, often grown in dry areas due to its high drought resistance. Another good option is the **Cowpea (Vigna unguiculata)**, also known for its ability to grow well in dry conditions. These varieties can survive with minimal rainfall and have a deep root system that helps them access moisture from deeper soil layers. When choosing seeds, always opt for certified seeds from a reliable source to ensure good germination and growth. Additionally, consider implementing soil moisture conservation techniques such as mulching to retain soil moisture and improve yield. Rotate your crops annually to maintain soil fertility and prevent pest buildup. Consulting with your local agricultural extension officer can provide guidance specific to your area's climate and soil conditions.",
         "openai-gpt-4o-2024-08-06",
         "India"
        ],
        [
         "19",
         "5",
         "If certified maize seeds are not available, it's best to use open-pollinated varieties (OPVs) for saving and replanting. OPVs are stable and produce seeds that retain the characteristics of the parent plant. Popular OPVs in India include varieties like Shakti, Navjot, and Kisan Composite. Ensure that the plants you select for seed saving are healthy, disease-free, and have desirable traits like good cob size and resistance to pests. Avoid saving seeds from hybrid varieties, as they do not breed true and can lead to reduced yields and unpredictable traits. When harvesting, let the cobs mature fully on the plant before picking. After harvesting, dry the seeds properly in a shaded area and store them in a cool, dry place. Proper seed selection and storage will help you maintain quality seeds for the next planting season.",
         "openai-gpt-4o-2024-08-06",
         "India"
        ],
        [
         "20",
         "6",
         "Chemical pesticides can play a key role in protecting crops and livestock from pests and diseases, which can improve yields and reduce losses. However, it's important to use them safely and judiciously. Overuse or incorrect application of pesticides can harm beneficial insects, soil health, and water sources, and can also lead to pest resistance. Always choose the right pesticide for the specific pest problem, and follow the label instructions closely, including recommended dosages and safety measures. Use protective gear during application to prevent harm to yourself and others. Consider integrating chemical pesticides with other pest management strategies, such as biological controls and crop rotation, to build a more sustainable approach. Lastly, ensure proper storage of pesticides to avoid accidental contamination or poisoning. This balanced approach can help you keep your crops and livestock healthy while minimizing risks to the environment and human health.",
         "openai-gpt-4o-2024-08-06",
         "India"
        ],
        [
         "21",
         "7",
         "To determine if your soil is fertile, you should consider a few key indicators. Firstly, conduct a soil test by sending a soil sample to a local agricultural laboratory or using a soil testing kit. The test will tell you about essential nutrients such as nitrogen, phosphorus, and potassium, as well as pH levels. Ideal pH for most crops ranges from 6 to 7. Secondly, observe the soil structure: fertile soil typically has a crumbly texture and dark color, indicating good organic matter. Check for earthworms—if present in good numbers, they often signify healthy soil. \n\nAnother sign of fertility is the presence of a diverse range of plants and roots, which suggests a balanced ecosystem. Additionally, crop performance is a practical indicator: if your plants are growing well with good yields year after year, it’s a positive sign of fertile soil. Lastly, ensure proper drainage; water should not pool or drain too quickly. Regularly rotate crops and add organic matter like compost or manure to maintain and improve soil fertility over time.",
         "openai-gpt-4o-2024-08-06",
         "India"
        ],
        [
         "22",
         "8",
         "Controlling weeds effectively involves a combination of practices to minimize their impact on your crops. First, aim to use a good crop rotation plan. This helps disrupt the life cycle of weeds, making them less likely to adapt and spread. Second, consider mulching your fields with organic materials such as straw or grass clippings. Mulch helps suppress weed growth by blocking sunlight.\n\nAdditionally, practice timely and regular manual weeding, especially during the early stages of crop growth when weeds compete most vigorously. For larger areas, you might consider mechanical weeding tools like hand hoes or small tractor-mounted implements. You can also use herbicides, but it's crucial to choose the right type appropriate for your crop and follow the recommended dosage carefully to avoid damage to your plants.\n\nLastly, maintaining healthy soil through proper fertilization and irrigation boosts crop resilience, limiting weed competition. Remember to always be alert and identify weed outbreaks early so you can address them before they become a larger issue.",
         "openai-gpt-4o-2024-08-06",
         "India"
        ],
        [
         "23",
         "9",
         "Both organic and synthetic (inorganic) fertilizers have their advantages and can play important roles in crop production, depending on farming conditions.\n\nOrganic fertilizers, like compost and manure, improve soil health by adding organic matter, which enhances soil structure and water retention. They also promote beneficial microbial activity. However, they release nutrients slowly, which might not meet the immediate needs of fast-growing crops.\n\nSynthetic fertilizers, on the other hand, offer specific nutrients that plants can quickly absorb, leading to faster growth and higher yields. They are more consistent in nutrient content and are easier to apply in exact amounts. However, excessive or improper use can lead to soil degradation and environmental pollution.\n\nFor smallholder farmers with well-maintained soils aiming for quick results, synthetic fertilizers might be more suitable. However, for those focusing on long-term soil health and sustainability, incorporating organic fertilizers can be beneficial. Ideally, a balanced approach using both types can optimize crop production and maintain soil health.",
         "openai-gpt-4o-2024-08-06",
         "India"
        ],
        [
         "24",
         "10",
         "The variability in rainfall can indeed make planting decisions challenging. To minimize risks, it's important to rely on both historical data and real-time information. First, assess the average onset of rains in your region over the past few years. This gives you a general idea of when the rains typically start. Next, monitor local weather forecasts and updates closely for any changes or expected rainfall patterns. \n\nConsider using soil moisture sensors if available, to determine optimal conditions for planting without waiting too late or planting too early. Additionally, try to diversify your crops if possible, choosing varieties that can tolerate varying water levels or are drought-resistant. The integration of weather forecasting apps or services specifically designed for farmers, like a mobile app, can also provide timely updates. Lastly, consult with local agricultural officers or extension services for guidance suited to current conditions. This approach will help you make informed planting decisions despite the uncertainties in rainfall.",
         "openai-gpt-4o-2024-08-06",
         "India"
        ],
        [
         "25",
         "11",
         "Signs of nutrient deficiency in maize include yellowing or paling of leaves, stunted growth, and poor ear development. Specifically, nitrogen deficiency causes leaves to turn pale green or yellow, starting from the bottom, while phosphorus deficiency leads to dark green or purplish leaves and poorly filled cobs. Potassium deficiency manifests as yellowing and scorching of leaf edges, primarily on older leaves.\n\nTo correct these deficiencies, conduct a soil test to determine specific nutrient needs. For nitrogen deficiency, apply urea or ammonium nitrate. Use diammonium phosphate (DAP) or single superphosphate (SSP) to address phosphorus deficiency. For potassium, apply muriate of potash (MOP). Ensure balanced fertilization by also including micronutrients as needed. Practice crop rotation and incorporate organic manure or compost to improve soil health and nutrient availability over time.",
         "openai-gpt-4o-2024-08-06",
         "India"
        ],
        [
         "26",
         "12",
         "To reduce post-harvest losses, start by ensuring timely and proper harvesting when crops are at the right maturity. Use clean and sharp equipment to minimize damage. After harvesting, quickly move crops to a shaded, cool area to reduce exposure to pests and sunlight. For drying grains, use clean mats or raised platforms to prevent contamination and moisture absorption from the ground. In storage, ensure that your facilities are clean, dry, and well-ventilated; consider using airtight bins or bags to protect against pests and moisture.\n\nFor livestock, prioritize proper handling and transport to avoid stress and injury. Maintain clean slaughter and meat-processing environments to prevent contamination. Utilize cold storage or appropriate preservation techniques like drying or smoking to extend the shelf life of perishable products. Regularly inspect stored crops and products for signs of pests or spoilage and act quickly if issues arise. Finally, take advantage of local training programs or government-supported advice to access new technologies and strategies tailored to your specific needs.",
         "openai-gpt-4o-2024-08-06",
         "India"
        ],
        [
         "27",
         "13",
         "To manage climate change in crop production, you can use several strategies to ensure your farm remains productive and resilient. First, consider diversifying your crops by growing multiple types of crops instead of relying on just one. This can reduce risk if some crops don't do well due to changing weather patterns. Second, adopt improved irrigation techniques, such as drip or sprinkler systems, to use water more efficiently and conserve resources during periods of drought. Third, practice soil conservation techniques like mulching or cover cropping to maintain soil moisture and fertility. Fourth, choose climate-resilient crop varieties that are more tolerant to drought, heat, or pests. Fifth, implement agroforestry by integrating trees with crops, which can provide shade, reduce erosion, and improve biodiversity. Lastly, stay informed about weather forecasts and climate patterns through trusted sources to make timely and informed decisions about planting and harvests. These strategies together can enhance your farm's capacity to cope with the uncertainties of climate change.",
         "openai-gpt-4o-2024-08-06",
         "India"
        ],
        [
         "28",
         "14",
         "To effectively manage diseases in livestock, start by ensuring good hygiene in your farm. Clean animal housing regularly to prevent the buildup of manure and other waste, which can harbor disease. Provide clean, fresh water and nutritious feed to your animals, as well-maintained animals have stronger immunity. Implement a vaccination schedule for your livestock to protect them from common diseases. Quarantine any new or sick animals to prevent disease spread among your herd. Regularly consult with a veterinarian for health checks and advice on disease prevention. Keep detailed records of your animals' health and treatments to identify and manage disease trends. Practice good biosecurity measures, such as controlling access to your farm and disinfecting equipment. Finally, educate yourself and other farm workers about signs of common diseases to ensure early detection and prompt treatment.",
         "openai-gpt-4o-2024-08-06",
         "India"
        ],
        [
         "29",
         "15",
         "Farmer groups, Farmer Producer Organizations (FPOs), Community Based Organizations (CBOs), and cooperatives are essential for smallholder farmers for several reasons. First, by coming together, farmers can pool their resources and buy seeds, fertilizers, and other inputs in bulk at lower prices. This helps reduce costs and increase profit margins. Second, these organizations give farmers better bargaining power in the market, allowing them to negotiate better prices for their produce. \n\nThird, Farmer groups and cooperatives often provide access to important resources like credit and financial services, which are harder to obtain individually. Fourth, they serve as a platform for knowledge sharing, where farmers can learn new farming techniques, pest management strategies, and sustainable practices. Fifth, being part of these groups often enables farmers to participate in government programs and receive subsidies more easily.\n\nFinally, these organizations can help farmers manage risks better by providing support during natural disasters or market fluctuations. Overall, they empower farmers by improving access to resources, information, and markets, leading to increased productivity and income stability.",
         "openai-gpt-4o-2024-08-06",
         "India"
        ],
        [
         "30",
         "1",
         "# Improving Your Pest Control Approach\n\nWhen pesticides aren't working effectively, it may be due to pest resistance, incorrect application timing, wrong dosage, or using unsuitable products for your specific pests. First, identify your pests correctly by consulting your local agricultural extension office or using pest identification apps. Consider adopting Integrated Pest Management (IPM) practices by combining multiple strategies—crop rotation, resistant varieties, natural predators, and targeted pesticide use only when necessary. Ensure you're applying pesticides at the right time (usually early morning or evening), in correct concentration, and with proper equipment maintenance. If you must use chemicals, rotate between different pesticide classes to prevent resistance development. Try incorporating natural solutions like neem oil, beneficial insects, or trap crops around your fields. Remember that healthy soil builds resilient plants, so focus on improving soil health through compost and organic matter addition.",
         "anthropic-claude-3-7-sonnet-20250219",
         "India"
        ],
        [
         "31",
         "2",
         "# Compensation Options for Crop and Livestock Losses\n\nDear Farmer, you can enroll in the Pradhan Mantri Fasal Bima Yojana (PMFBY) through your local bank, agricultural extension office, or Common Service Center to get compensation for crop losses due to natural disasters. For livestock, the Livestock Insurance Scheme offers protection against death of animals—contact your local veterinary hospital or Krishi Vigyan Kendra to enroll. Keep detailed records of your farming activities, including photographs of damaged crops/livestock, cultivation records, and receipts of inputs purchased. After a disaster, immediately inform your bank, insurance provider, and local agriculture department, who will send officials to assess the damage. You can also seek assistance from your Gram Panchayat to access state disaster relief funds when available. Many banks also offer loan restructuring or moratoriums during officially declared disasters, so speak with your bank manager about these options.",
         "anthropic-claude-3-7-sonnet-20250219",
         "India"
        ],
        [
         "32",
         "3",
         "# Learning Resources for Crops and Livestock Production\n\nYou can visit your nearest Krishi Vigyan Kendra (KVK) which offers training programs and demonstrations specifically for farmers like you. Your district Agricultural Extension Office provides free advisory services and often conducts field visits and training sessions. State Agricultural Universities regularly host farmer training programs, field days, and maintain demonstration farms where you can see modern practices firsthand. The Indian Council of Agricultural Research (ICAR) institutes specialize in specific crops or livestock and welcome farmer visits. Many successful progressive farmers in your area also allow visits through farmer-to-farmer programs organized by the government. Additionally, agricultural exhibitions and melas (fairs) held throughout the year showcase new technologies and practices. You can also access Kisan Call Centers by dialing 1800-180-1551 for information about upcoming farmer training events near you.",
         "anthropic-claude-3-7-sonnet-20250219",
         "India"
        ],
        [
         "33",
         "4",
         "# Bean Varieties for Dryland Farming\n\nFor dryland conditions in India, I recommend growing these drought-tolerant bean varieties:\n\n**Green Gram (Moong)**: IPM 02-3 (Pusa Vishal) and SML-668 mature in 65-70 days and can survive with limited water.\n\n**Black Gram (Urad)**: T-9 and PU-31 varieties perform well in dryland regions with yields of 8-10 quintals per hectare.\n\n**Pigeon Pea (Arhar)**: ICPL 87119 (Asha) and BSMR-736 are excellent drought-tolerant varieties with deep root systems.\n\n**Cowpea**: Pusa Komal and C-152 can thrive with minimal rainfall and mature in just 60-65 days.\n\nThese varieties require minimal irrigation, can withstand dry spells, and provide reasonable yields even under water stress conditions. For best results, use proper seed treatment with Rhizobium culture and maintain wider spacing than in irrigated conditions.",
         "anthropic-claude-3-7-sonnet-20250219",
         "India"
        ],
        [
         "34",
         "5",
         "# Maize Seed Saving Advice\n\nYou should save and replant only open-pollinated varieties (OPVs) of maize, not hybrids. Hybrid seeds will give much lower yields when replanted, while OPVs like Navjot, Kisan, Amber, or Jawahar maintain their characteristics across seasons. For seed saving, select 50-100 healthy cobs from your best-performing plants located in the middle of your field (not from border rows). Choose plants that show disease resistance, good height, and strong stalks. Dry the selected cobs thoroughly until seeds reach 12-14% moisture content, then shell and store them in airtight containers with neem leaves to prevent pest damage. Though saved seeds may yield slightly less than fresh certified seeds, proper selection and storage can still provide good harvests. Local agricultural extension offices can help identify which specific OPVs grow best in your region.",
         "anthropic-claude-3-7-sonnet-20250219",
         "India"
        ],
        [
         "35",
         "6",
         "# Chemical Pesticides in Farming: Important but Need Careful Use\n\nChemical pesticides can be important tools for protecting crops and livestock from pests and diseases that reduce yields and income. When used correctly, they help preserve crop quality and quantity, potentially improving your farm's productivity and profitability. \n\nHowever, pesticides must be used with caution as they can be harmful to human health, beneficial insects like pollinators, livestock, and the environment if misused. Always wear protective clothing (gloves, masks, full-sleeve shirts) when applying pesticides, follow label instructions precisely, and maintain proper waiting periods before harvest or slaughter. \n\nMany chemical pesticides can leave residues in food products, soil and water, which is why integrated pest management (IPM) approaches that combine minimal chemical use with biological controls and good agricultural practices are often safer and more sustainable. Consider alternatives like neem-based products, biological controls, and crop rotation to reduce dependency on chemical pesticides while still managing pests effectively. \n\nRemember that some pesticides available in local markets might be banned or restricted elsewhere, so seek advice from your local Krishi Vigyan Kendra (KVK) or agricultural extension office about which products are legal and appropriate for your specific needs.",
         "anthropic-claude-3-7-sonnet-20250219",
         "India"
        ],
        [
         "36",
         "7",
         "# How to Check Your Soil Fertility\n\nGood soil fertility shows in several ways that you can observe yourself. Fertile soil usually appears dark brown or black, feels crumbly when dry, and holds shape without breaking apart when moist. Healthy plants with deep green leaves, vigorous growth, and good yields are strong indicators of fertile soil. You can do a simple earthworm count by digging a 30cm cube of soil - finding 10 or more earthworms suggests good fertility. Water infiltration test is also useful - fertile soil absorbs water quickly instead of forming puddles. The Indian government offers affordable soil testing through Krishi Vigyan Kendras (KVKs) and agricultural extension centers, which provide detailed nutrient information. Many districts also have mobile soil testing vans visiting villages periodically. For a basic home test, place a handful of soil in a clear bottle with water, shake well, and let it settle - good soil shows distinct layers with organic matter floating on top.",
         "anthropic-claude-3-7-sonnet-20250219",
         "India"
        ],
        [
         "37",
         "8",
         "# Weed Control for Your Farm\n\nControlling weeds starts with timely identification and action before they compete with your crops for nutrients, water, and sunlight. For small plots, hand weeding and using simple tools like hoes and small weeders is effective, especially when weeds are young and soil is slightly moist. Practice crop rotation to disrupt weed cycles, and consider intercropping compatible plants that can suppress weeds naturally. Apply mulch (straw, dried leaves, or plastic sheets) around plants to prevent weed growth while conserving soil moisture. Maintain proper spacing between plants to create a shaded canopy that reduces weed growth. For larger areas, consider appropriate pre-emergence or post-emergence herbicides, but always follow label instructions and wear protective clothing. Keep field edges and irrigation channels clean to prevent weeds from spreading seeds into your fields. Remember that integrated weed management—combining multiple methods—provides the most sustainable and effective control.",
         "anthropic-claude-3-7-sonnet-20250219",
         "India"
        ],
        [
         "38",
         "9",
         "# Comparing Organic and Synthetic Fertilizers\n\nOrganic fertilizers (like compost, manure, and vermicompost) release nutrients slowly, improving soil health, water retention, and beneficial microorganism activity over time, but may take longer to show results. Synthetic fertilizers (like urea, DAP, NPK) provide immediate nutrients in exact amounts, giving faster visible growth, but can lead to soil acidification and don't improve soil structure. \n\nOrganic options work well in rain-fed conditions, offering drought resistance through better soil structure, while synthetic fertilizers may be more suitable during critical growth stages or for correcting severe deficiencies quickly. Cost-wise, organic fertilizers can be produced on-farm using local materials, reducing expenses, while synthetic fertilizers require purchase but provide precise nutrient control. \n\nFor best results, many successful farmers in India use a balanced approach—applying organic fertilizers as a base for soil health, supplemented with targeted synthetic fertilizers when specific nutrients are needed, based on soil testing and crop requirements.",
         "anthropic-claude-3-7-sonnet-20250219",
         "India"
        ],
        [
         "39",
         "10",
         "# Adapting Planting Times to Variable Rainfall\n\nYou're right that rainfall patterns have become less predictable in recent years, making traditional planting calendars less reliable. The best approach now is to focus on soil moisture rather than calendar dates - seeds need adequate moisture to germinate properly, so plant when your soil has good moisture content but isn't waterlogged. For most crops, monitor reliable 5-7 day weather forecasts through your local Krishi Vigyan Kendra (KVK) or weather apps and aim to plant just before predicted rainfall events. Consider practicing staggered planting where you plant portions of your field at 7-10 day intervals to spread your risk. Drought-tolerant varieties like improved jowar, bajra, or short-duration rice varieties offer better security in uncertain rainfall conditions. Keep your field prepared in advance so you can quickly plant when conditions become favorable. If possible, collect rainwater in farm ponds or implement simple water conservation techniques to supplement irrigation during dry spells.",
         "anthropic-claude-3-7-sonnet-20250219",
         "India"
        ],
        [
         "40",
         "11",
         "# Signs of Nutrient Deficiency in Maize and Solutions\n\nNitrogen deficiency shows as yellowing of older leaves in a V-pattern from the tip to the base, which can be corrected by applying urea or farmyard manure. Phosphorus-deficient plants develop purplish leaves and stunted growth, requiring application of DAP (diammonium phosphate) or single superphosphate. Potassium shortage appears as yellowing and browning along the edges of older leaves - apply muriate of potash (MOP) to address this problem. Zinc deficiency causes white bands between leaf veins and shortens plant internodes, which can be fixed with zinc sulfate application (either as soil treatment or foliar spray). Magnesium shortage shows as yellowing between veins while veins stay green, correctable by applying magnesium sulfate. For best results, conduct a soil test before planting to know exactly which nutrients your soil lacks. Apply organic matter regularly to improve overall soil fertility and nutrient retention. In severe cases, a balanced NPK fertilizer combined with micronutrient mixtures specific for maize can quickly address multiple deficiencies at once.",
         "anthropic-claude-3-7-sonnet-20250219",
         "India"
        ],
        [
         "41",
         "12",
         "# Reducing Post-Harvest Losses in Crops and Livestock\n\nHarvest crops at the right maturity and during cooler parts of the day to reduce damage and spoilage. Dry your grains and pulses properly until they reach 10-12% moisture content before storage to prevent mold growth. Store crops in clean, dry containers like hermetic bags or metal bins that protect against pests, moisture, and air. For fruits and vegetables, use clean crates, avoid overpacking, and keep them in cool, shaded areas if cold storage isn't available. For livestock products, ensure clean milking procedures and use proper containers to store milk, ideally in cool conditions. Keep eggs clean, collect them frequently, and store pointy-end down in a cool place. Process meat products quickly after slaughter and use salt preservation if refrigeration isn't possible. Regularly inspect stored products for any signs of spoilage or pest damage. Joining a farmer group to share cold storage costs or processing equipment can also significantly reduce losses.",
         "anthropic-claude-3-7-sonnet-20250219",
         "India"
        ],
        [
         "42",
         "13",
         "# Climate Change Management Strategies for Crop Production\n\nNamaste! Here are practical strategies to manage climate change effects on your crops:\n\n1. Plant drought-resistant varieties that can withstand water stress during dry periods.\n\n2. Implement efficient water management through rainwater harvesting, farm ponds, and drip irrigation to conserve water.\n\n3. Practice crop diversification by growing multiple crops together to reduce risk if one crop fails due to extreme weather.\n\n4. Adjust your planting calendar based on changing rainfall patterns and seasonal shifts.\n\n5. Build healthy soil by adding organic matter like compost and farmyard manure to improve water retention.\n\n6. Consider agroforestry by integrating suitable trees with your crops to provide shade and stabilize farm microclimate.\n\n7. Use mulching to conserve soil moisture and prevent erosion during heavy rains.\n\n8. Try short-duration crop varieties that can be harvested before extreme weather events typically occur.\n\n9. Stay informed about weather forecasts through your local Krishi Vigyan Kendra (KVK) or mobile apps to plan farming activities.\n\n10. Where available, enroll in crop insurance schemes like Pradhan Mantri Fasal Bima Yojana for financial protection against climate-related crop losses.",
         "anthropic-claude-3-7-sonnet-20250219",
         "India"
        ],
        [
         "43",
         "14",
         "# Best Disease Management Practices for Livestock\n\nNamaste farmer, preventing livestock diseases is much easier than treating them! \n\nFirst, maintain clean housing with proper ventilation and regularly remove animal waste to prevent infection spread. Always quarantine new animals for at least 14 days before introducing them to your herd or flock. Follow a proper vaccination schedule as recommended by your local veterinarian for diseases common in your area like Foot and Mouth Disease, Hemorrhagic Septicemia, and Black Quarter. Provide balanced nutrition and clean drinking water to strengthen animals' natural immunity. Practice good biosecurity by limiting visitors to your animal areas and using footbaths with disinfectant at entrances. Regular deworming (every 3-6 months) helps control internal parasites that weaken animals. Keep records of vaccinations, treatments, and any illnesses to track health patterns. Lastly, quickly isolate sick animals and contact your veterinarian when you notice unusual symptoms like reduced appetite, abnormal droppings, or changes in behavior.",
         "anthropic-claude-3-7-sonnet-20250219",
         "India"
        ],
        [
         "44",
         "15",
         "# Importance of Farmer Organizations for Smallholders\n\nFarmer groups, FPOs, CBOs, and cooperatives give you strength in numbers by allowing you to buy farm inputs in bulk at lower prices and sell your produce collectively for better rates. These organizations help you access affordable loans, quality seeds, fertilizers, and modern farm equipment that might be too expensive to purchase individually. By joining forces, you can share knowledge, learn new farming techniques, and solve common problems together through regular meetings and trainings. These groups provide marketing support, helping you reach larger buyers and sometimes even export markets that are impossible to access alone. They can establish processing units to add value to your crops, turning raw produce into products that fetch higher prices. During difficult times like droughts or floods, these organizations provide crucial support through insurance schemes or emergency funds. Government schemes and subsidies often prioritize organized farmer groups, making it easier for you to benefit from these programs. As a member, you also gain a stronger voice in agricultural policy decisions that affect your livelihood and future.",
         "anthropic-claude-3-7-sonnet-20250219",
         "India"
        ],
        [
         "45",
         "1",
         "First, identify the specific pest and confirm it matches the pesticide you are using.  \nSecond, check if the pesticide is still within its expiry date and confirm you are mixing it correctly.  \nThird, rotate different classes of pesticides to prevent pest resistance from building up.  \nFourth, apply pesticides only at the right time of day and under recommended weather conditions for best results.  \nFifth, scout your fields regularly to catch pest problems early and apply treatment promptly.  \nSixth, use cultural methods like removing and destroying infested crop residues to reduce pest habitat.  \nFinally, consider integrating biological controls (like beneficial insects) with chemical treatments for a more sustainable solution.",
         "openai-o1-2024-12-17",
         "India"
        ],
        [
         "46",
         "2",
         "You should consider enrolling in government-backed crop insurance schemes like the Pradhan Mantri Fasal Bima Yojana (PMFBY).  \nSimilarly, for livestock, look into government livestock insurance programs offered by some state animal husbandry departments.  \nAlways keep all required documents ready, such as land records, insurance policy details, and proof of loss (photos or local authority certification).  \nReport any damage to your insurance company or local agricultural office as soon as possible after the event.  \nClaim procedures usually include field inspections, so cooperate with officials who visit your farm.  \nYou can also ask your local agriculture extension officer or Krishi Vigyan Kendra for details on government relief funds.  \nKeep in touch with your village panchayat or block office, as they can guide you on additional compensation or emergency relief measures.  \nFinally, try to diversify crops and livestock to reduce risk, and adopt climate-resilient farming practices for long-term safety.",
         "openai-o1-2024-12-17",
         "India"
        ],
        [
         "47",
         "3",
         "Your local Krishi Vigyan Kendra (KVK) is a great place to start. They provide hands-on training, demonstration plots, and scientific guidance on both crop cultivation and livestock rearing. Your state’s agriculture department offices often host workshops and awareness programs. Agricultural universities sometimes organize field days open to local farmers. District-level demonstration farms and research stations showcase best practices for different crops and animals. Attending farmer field schools run by NGOs or self-help groups is another good option. Accredited veterinary hospitals or animal husbandry centers can help you learn about animal health and nutrition. You can also visit progressive farmers in your region to see advanced methods in action. Make sure to keep notes and ask questions wherever you go.",
         "openai-o1-2024-12-17",
         "India"
        ],
        [
         "48",
         "4",
         "Cowpea (also called lobia) is one of the best bean options for dryland conditions due to its drought tolerance. Among cowpea varieties, Pant Lobia-3 (PL-3) and C-152 are commonly recommended for low-rainfall regions. These varieties can perform well even with limited water, provided the soil is well-drained. Prepare a firm seedbed and sow seeds at a depth of about 3–5 cm for better germination. Apply well-decomposed farmyard manure or compost to enhance soil fertility. Avoid waterlogging by ensuring proper field drainage. Regularly remove weeds, especially during early plant growth. Timely pest and disease management will help maximize yield. Harvest once the pods are fully matured and dry to maintain quality seeds.",
         "openai-o1-2024-12-17",
         "India"
        ],
        [
         "49",
         "5",
         "You can save and replant open-pollinated maize varieties, not hybrids, because open-pollinated varieties produce seed with stable traits. These varieties allow you to harvest and reuse the seed for several seasons if properly handled. Choose a locally adapted open-pollinated variety recommended by your nearby agricultural department or Krishi Vigyan Kendra. Always select seed from healthy, high-yielding plants without signs of disease or pest damage. Dry the cobs thoroughly in the sun, then shell and clean the kernels before storing in a cool, dry, and airtight container. Doing so helps maintain high germination rates for the next season. Make sure to keep these varieties isolated from other maize crops to prevent cross-pollination. Consult your local agricultural extension officer if you need help identifying a reliable open-pollinated maize variety in your region.",
         "openai-o1-2024-12-17",
         "India"
        ]
       ],
       "shape": {
        "columns": 4,
        "rows": 135
       }
      },
      "text/html": [
       "<div>\n",
       "<style scoped>\n",
       "    .dataframe tbody tr th:only-of-type {\n",
       "        vertical-align: middle;\n",
       "    }\n",
       "\n",
       "    .dataframe tbody tr th {\n",
       "        vertical-align: top;\n",
       "    }\n",
       "\n",
       "    .dataframe thead th {\n",
       "        text-align: right;\n",
       "    }\n",
       "</style>\n",
       "<table border=\"1\" class=\"dataframe\">\n",
       "  <thead>\n",
       "    <tr style=\"text-align: right;\">\n",
       "      <th></th>\n",
       "      <th>id</th>\n",
       "      <th>answer</th>\n",
       "      <th>model</th>\n",
       "      <th>country</th>\n",
       "    </tr>\n",
       "  </thead>\n",
       "  <tbody>\n",
       "    <tr>\n",
       "      <th>0</th>\n",
       "      <td>1</td>\n",
       "      <td>Your pesticides may not work due to resistance...</td>\n",
       "      <td>deepseek-deepseek-reasoner</td>\n",
       "      <td>India</td>\n",
       "    </tr>\n",
       "    <tr>\n",
       "      <th>1</th>\n",
       "      <td>2</td>\n",
       "      <td>To claim compensation for crop/livestock losse...</td>\n",
       "      <td>deepseek-deepseek-reasoner</td>\n",
       "      <td>India</td>\n",
       "    </tr>\n",
       "    <tr>\n",
       "      <th>2</th>\n",
       "      <td>3</td>\n",
       "      <td>Visit your nearest **Krishi Vigyan Kendra (KVK...</td>\n",
       "      <td>deepseek-deepseek-reasoner</td>\n",
       "      <td>India</td>\n",
       "    </tr>\n",
       "    <tr>\n",
       "      <th>3</th>\n",
       "      <td>4</td>\n",
       "      <td>For dryland areas with low rainfall, consider ...</td>\n",
       "      <td>deepseek-deepseek-reasoner</td>\n",
       "      <td>India</td>\n",
       "    </tr>\n",
       "    <tr>\n",
       "      <th>4</th>\n",
       "      <td>5</td>\n",
       "      <td>If you cannot get certified seeds, save seeds ...</td>\n",
       "      <td>deepseek-deepseek-reasoner</td>\n",
       "      <td>India</td>\n",
       "    </tr>\n",
       "    <tr>\n",
       "      <th>...</th>\n",
       "      <td>...</td>\n",
       "      <td>...</td>\n",
       "      <td>...</td>\n",
       "      <td>...</td>\n",
       "    </tr>\n",
       "    <tr>\n",
       "      <th>130</th>\n",
       "      <td>11</td>\n",
       "      <td>1. Nitrogen lack shows as pale-green to yellow...</td>\n",
       "      <td>openai-o3-2025-04-16</td>\n",
       "      <td>India</td>\n",
       "    </tr>\n",
       "    <tr>\n",
       "      <th>131</th>\n",
       "      <td>12</td>\n",
       "      <td>1. Harvest at the right maturity in the cool m...</td>\n",
       "      <td>openai-o3-2025-04-16</td>\n",
       "      <td>India</td>\n",
       "    </tr>\n",
       "    <tr>\n",
       "      <th>132</th>\n",
       "      <td>13</td>\n",
       "      <td>1. Select short-duration or drought/heat-toler...</td>\n",
       "      <td>openai-o3-2025-04-16</td>\n",
       "      <td>India</td>\n",
       "    </tr>\n",
       "    <tr>\n",
       "      <th>133</th>\n",
       "      <td>14</td>\n",
       "      <td>1. Buy animals only from trusted sources and k...</td>\n",
       "      <td>openai-o3-2025-04-16</td>\n",
       "      <td>India</td>\n",
       "    </tr>\n",
       "    <tr>\n",
       "      <th>134</th>\n",
       "      <td>15</td>\n",
       "      <td>1. When many small farmers join together in a ...</td>\n",
       "      <td>openai-o3-2025-04-16</td>\n",
       "      <td>India</td>\n",
       "    </tr>\n",
       "  </tbody>\n",
       "</table>\n",
       "<p>135 rows × 4 columns</p>\n",
       "</div>"
      ],
      "text/plain": [
       "     id                                             answer  \\\n",
       "0     1  Your pesticides may not work due to resistance...   \n",
       "1     2  To claim compensation for crop/livestock losse...   \n",
       "2     3  Visit your nearest **Krishi Vigyan Kendra (KVK...   \n",
       "3     4  For dryland areas with low rainfall, consider ...   \n",
       "4     5  If you cannot get certified seeds, save seeds ...   \n",
       "..   ..                                                ...   \n",
       "130  11  1. Nitrogen lack shows as pale-green to yellow...   \n",
       "131  12  1. Harvest at the right maturity in the cool m...   \n",
       "132  13  1. Select short-duration or drought/heat-toler...   \n",
       "133  14  1. Buy animals only from trusted sources and k...   \n",
       "134  15  1. When many small farmers join together in a ...   \n",
       "\n",
       "                          model country  \n",
       "0    deepseek-deepseek-reasoner   India  \n",
       "1    deepseek-deepseek-reasoner   India  \n",
       "2    deepseek-deepseek-reasoner   India  \n",
       "3    deepseek-deepseek-reasoner   India  \n",
       "4    deepseek-deepseek-reasoner   India  \n",
       "..                          ...     ...  \n",
       "130        openai-o3-2025-04-16   India  \n",
       "131        openai-o3-2025-04-16   India  \n",
       "132        openai-o3-2025-04-16   India  \n",
       "133        openai-o3-2025-04-16   India  \n",
       "134        openai-o3-2025-04-16   India  \n",
       "\n",
       "[135 rows x 4 columns]"
      ]
     },
     "execution_count": 84,
     "metadata": {},
     "output_type": "execute_result"
    }
   ],
   "source": [
    "all_df"
   ]
  },
  {
   "cell_type": "code",
   "execution_count": 85,
   "metadata": {},
   "outputs": [],
   "source": [
    "# add the questions by merging with the original dataframe\n",
    "all_df.rename(columns={\"id\": \"question_id\"}, inplace=True)\n",
    "all_df = all_df.merge(qa_df[[\"question_id\", \"question\"]], on=\"question_id\", how=\"left\")"
   ]
  },
  {
   "cell_type": "code",
   "execution_count": 86,
   "metadata": {},
   "outputs": [
    {
     "data": {
      "application/vnd.microsoft.datawrangler.viewer.v0+json": {
       "columns": [
        {
         "name": "index",
         "rawType": "int64",
         "type": "integer"
        },
        {
         "name": "question_id",
         "rawType": "int64",
         "type": "integer"
        },
        {
         "name": "answer",
         "rawType": "object",
         "type": "string"
        },
        {
         "name": "model",
         "rawType": "object",
         "type": "string"
        },
        {
         "name": "country",
         "rawType": "object",
         "type": "string"
        },
        {
         "name": "question",
         "rawType": "object",
         "type": "string"
        }
       ],
       "ref": "883a11e8-07d5-4e8f-903a-071500b0c617",
       "rows": [
        [
         "0",
         "1",
         "Your pesticides may not work due to resistance, incorrect use, or wrong pest identification. Follow these steps:  \n1. **Rotate pesticides** with different active ingredients (e.g., neonicotinoids → pyrethroids) to avoid resistance.  \n2. **Confirm the pest** with local experts to choose the right chemical.  \n3. **Check dosage/timing**: Apply as per label instructions, targeting pests’ vulnerable stages (e.g., larvae).  \n4. **Avoid counterfeits**: Buy certified products from trusted suppliers.  \n5. **Combine methods**: Use neem oil or traps, plant pest-resistant varieties, and encourage natural predators (e.g., ladybugs).  \n6. **Improve application**: Spray early morning/evening, ensure full coverage, and reapply after rain.  \nVisit your nearest Krishi Vigyan Kendra for tailored advice and pest identification.",
         "deepseek-deepseek-reasoner",
         "India",
         "I have been applying different pesticides to control pests on my farm. However, they seem not to be effective, what can I do?"
        ],
        [
         "1",
         "2",
         "To claim compensation for crop/livestock losses due to droughts/floods:  \n1. Enroll in **Pradhan Mantri Fasal Bima Yojana (PMFBY)** for crop insurance via Common Service Centers or banks. Premiums are low (1.5-5% of crop value).  \n2. For immediate relief, report losses to your local revenue officer/Block Development Officer within **48 hours** to access the **National Disaster Relief Fund (NDRF)**.  \n3. Insure livestock via **Livestock Insurance Scheme** (available for cattle, poultry, etc.) through veterinary offices.  \n4. Keep documents ready: Land records, Aadhaar, bank details, photos/videos of damage, and a written loss report from the village officer.  \n5. Check weather alerts via **mKisan SMS** (register at 1800-180-1551) to act early.  \n\nCompensation depends on timely reporting and proper documentation. Contact your nearest Krishi Vigyan Kendra (KVK) for help with paperwork.",
         "deepseek-deepseek-reasoner",
         "India",
         "I have been losing my crops and livestock due to drought and floods. What can I do to get compensation during such occurrences?"
        ],
        [
         "2",
         "3",
         "Visit your nearest **Krishi Vigyan Kendra (KVK)** or **Agricultural University** (e.g., ICAR institutes, state universities like Punjab Agricultural University). These centers offer free training, field demonstrations, and expert guidance on crops/livestock. **State Agriculture Departments** organize farmer fairs and workshops—ask your local extension officer. For hands-on learning, join **Farmer Producer Organizations (FPOs)** or visit **model farms** in your district under government schemes like ATMA. **Dairy cooperatives** (e.g., Amul) provide livestock training. Prioritize KVKs first—they’re tailored for smallholders!",
         "deepseek-deepseek-reasoner",
         "India",
         "I am interested in learning about crops and livestock production. Where can I visit to learn more about crops and livestock production?"
        ],
        [
         "3",
         "4",
         "For dryland areas with low rainfall, consider drought-tolerant bean varieties:  \n1. **Lablab Bean** (Hyacinth bean/Val Papdi): Deep roots, survives 60-90 cm annual rainfall.  \n2. **Cowpea** (Lobia): Matures in 65-90 days, grows in sandy loam soils.  \n3. **Moth Bean** (Matki): Short duration (60-75 days), suited for Rajasthan/Gujarat.  \n4. **Horse Gram** (Kulthi): Thrives in poor soils with 50-80 cm rain.  \n5. **Cluster Bean** (Guar): Tolerates heat, dual-purpose (vegetable & gum).  \n\nOpt for short-duration varieties (60-90 days) and intercropping with millets/sorghum. Use seed treatment and mulch to conserve soil moisture.",
         "deepseek-deepseek-reasoner",
         "India",
         "Which bean variety is suitable for dryland agro-ecological zone?"
        ],
        [
         "4",
         "5",
         "If you cannot get certified seeds, save seeds from **open-pollinated varieties** (OPVs) or traditional local maize varieties. These include **Vijay Composite**, **Jaipur Composite**, or your region’s native landraces. **Avoid hybrid seeds** (e.g., NK 6240, Pioneer), as they lose yield and vigor when replanted. For saving seeds:  \n1. Select healthy, pest-free plants with strong cobs.  \n2. Let cobs dry fully on the stalk before harvest.  \n3. Store seeds in airtight containers with neem leaves to prevent pests.  \n4. Ensure isolation (200+ meters) from other maize fields to avoid cross-pollination.  \nYields may be 10–20% lower than hybrids, but OPVs are reliable for replanting. Always test seed germination before sowing.",
         "deepseek-deepseek-reasoner",
         "India",
         "If I am unable to acquire certified maize seeds, which variety can I save and replant the next season?"
        ],
        [
         "5",
         "6",
         "Chemical pesticides are important tools to control pests and diseases that threaten crops and livestock, but their safety depends entirely on proper use. When used **as directed** (correct dose, timing, and protective gear), registered pesticides can protect yields effectively. **Overuse or misuse** harms human health, kills beneficial insects, contaminates soil/water, and leads to pesticide-resistant pests. Always follow label instructions, avoid spraying near harvest, and never mix chemicals haphazardly. For safer alternatives, combine pesticides with **Integrated Pest Management (IPM)**—like resistant crop varieties, natural predators, and crop rotation. In livestock, use veterinary-approved treatments only; improper antibiotics or pesticides in feed risk residues in milk/meat. Prioritize prevention (clean sheds, balanced feed) to reduce disease. Consult local experts for region-specific, low-toxicity options. **Chemicals are useful but not the only solution—use wisely and sparingly.**",
         "deepseek-deepseek-reasoner",
         "India",
         "Are chemical pesticides important and safe in crop and livestock production?"
        ],
        [
         "6",
         "7",
         "To check if your soil is fertile:  \n1. **Color**: Look for dark brown/black soil, which indicates rich organic matter.  \n2. **Texture**: Fertile soil is crumbly, holds shape when squeezed (like a moist ball), but breaks apart easily.  \n3. **Earthworms**: Many earthworms mean healthy, nutrient-rich soil.  \n4. **Plant Health**: Weeds/crops grow vigorously with deep green leaves (unless pests/diseases interfere).  \n5. **Water Absorption**: Soil absorbs rainwater well without pooling or cracking in drought.  \n6. **Smell**: Fertile soil has an earthy, fresh odor.  \n7. **Test Crops**: Plant fast-growing legumes (e.g., cowpea). Lush growth signals good fertility.  \n8. **Soil Testing**: For certainty, send a sample to a lab (or local govt. center) to check pH, nitrogen, phosphorus, and potassium levels.  \n\nAct on these signs and test if unsure—fertile soil ensures better yields!",
         "deepseek-deepseek-reasoner",
         "India",
         "How can I know that my soil is fertile?"
        ],
        [
         "7",
         "8",
         "To control weeds effectively:  \n1. **Remove weeds early** by hand or hoe when young (2-3 weeks after sowing).  \n2. Use **mulching** (dry leaves/straw) to block sunlight and suppress growth.  \n3. Practice **crop rotation** and plant dense, fast-growing crops (e.g., cowpea, maize) to outcompete weeds.  \n4. **Intercrop** with cover crops like mustard to reduce weed space.  \n5. Apply **organic herbicides** (vinegar + salt) or chemical herbicides (like 2,4-D for cereals), but follow label instructions and wear protective gear.  \n6. Avoid deep ploughing, which brings buried weed seeds to the surface.  \n7. Ensure timely weeding before weeds flower/seeds form (critical!).  \nCombine these methods for long-term control and healthier soil.",
         "deepseek-deepseek-reasoner",
         "India",
         "How can I best control weeds in my farm?"
        ],
        [
         "8",
         "9",
         "Organic fertilizers (like compost, manure) release nutrients slowly, improving soil health and microbial activity over time but may show slower crop response. Synthetic fertilizers (urea, DAP) provide immediate nutrients, boosting yields quickly but can degrade soil if overused. For poor, degraded soils with low organic matter, use organic fertilizers to rebuild fertility. In fertile soils needing quick nutrient boosts (especially during critical growth stages), synthetic fertilizers are effective. Smallholders with access to organic waste (livestock, crop residues) can reduce costs with organic options, while those needing precise nutrient management (e.g., cash crops) may benefit from synthetics. Combining both (applying organic matter annually + targeted synthetic doses) often works best for sustainability and productivity. Always test soil to guide choices.",
         "deepseek-deepseek-reasoner",
         "India",
         "How do organic and synthetic/inorganic fertilizers compare in terms of effectiveness to crop production, and which one would be more suitable for different farming conditions?"
        ],
        [
         "9",
         "10",
         "The best time to plant depends on soil moisture, local weather patterns, and crop type. Follow these steps:  \n1. Monitor short-term (7–10 day) rainfall forecasts from trusted sources like IMD (India Meteorological Department).  \n2. Wait for the soil to absorb enough rain (test by squeezing a handful—if it holds shape without dripping, it’s ready).  \n3. Prioritize drought-tolerant varieties (e.g., pearl millet, pigeon pea) to reduce risk.  \n4. Use staggered planting: split your seed stock and sow in 2-3 batches, spaced 1-2 weeks apart, to hedge against dry spells.  \n5. Align with traditional indicators (e.g., flowering of neem trees) alongside modern forecasts.  \nAvoid planting during heavy, erratic downpours—wait for steady, moderate rains to ensure proper seed establishment.",
         "deepseek-deepseek-reasoner",
         "India",
         "Lately, the onset of rains has shown significant variability from season to season. This has affected our ability to judge when to plant. In this scenario, when is the best time to plant?"
        ],
        [
         "10",
         "11",
         "**Signs and Solutions for Maize Nutrient Deficiency:**  \n1. **Nitrogen (N):** Older leaves turn pale yellow, stunted growth. Apply urea (split doses: sowing, knee-high, tasseling) or farmyard manure.  \n2. **Phosphorus (P):** Purple-red tint on leaf edges, poor roots. Use DAP/SSP at sowing, place near roots.  \n3. **Potassium (K):** Yellow-brown leaf edges, weak stalks. Apply muriate of potash or wood ash at planting.  \n4. **Zinc (Zn):** White-yellow stripes on young leaves. Spray 0.5% zinc sulfate solution at 15–20-day intervals.  \n5. Test soil before planting to adjust fertilizer use. Mix compost/vermicompost to improve soil health. Avoid excess urea to prevent burning.",
         "deepseek-deepseek-reasoner",
         "India",
         "What are the signs of nutrient deficiency in maize and how can they be corrected?"
        ],
        [
         "11",
         "12",
         "To reduce crop losses:  \n1. Dry grains thoroughly (12-14% moisture) on clean tarps/raised platforms, not bare ground.  \n2. Store in airtight containers/hermetic bags or treat storage with neem leaves/approved pesticides.  \n3. Use cold storage for perishables (vegetables/fruits) or sell quickly.  \n\nFor livestock:  \n4. Vaccinate animals against common diseases (e.g., foot-and-mouth) and deworm regularly.  \n5. Provide clean water, balanced feed, and shaded shelters to prevent stress.  \n6. Avoid overcrowding during transport/marketing to reduce injuries.  \n\nGeneral steps:  \n7. Clean storage areas to remove pests/mold.  \n8. Monitor stored crops weekly for spoilage/pests.  \n9. Sell produce when market prices are favorable to avoid long storage risks.  \n10. Seek training from local Krishi Vigyan Kendras (KVKs) on post-harvest techniques.",
         "deepseek-deepseek-reasoner",
         "India",
         "How can I mitigate post-harvest losses in crops and livestock?"
        ],
        [
         "12",
         "13",
         "To manage climate change in crop production:  \n1. Grow drought-resistant varieties (e.g., millets, drought-tolerant maize).  \n2. Use drip irrigation or rainwater harvesting to save water.  \n3. Apply organic compost/mulch to retain soil moisture and fertility.  \n4. Practice crop rotation/intercropping (e.g., legumes with cereals) to boost soil health.  \n5. Monitor weather forecasts via apps (e.g., *mKisan*) to plan sowing/harvesting.  \n6. Plant trees (agroforestry) around fields to reduce heat stress and erosion.  \n7. Shift planting dates to avoid extreme heat/rains (follow local advisories).  \n8. Use pest-resistant seeds, as warmer climates increase pest risks.  \n9. Adopt zero-tillage or reduced tillage to protect soil structure.  \n10. Join farmer groups to share climate-smart practices and resources.  \n\nStay updated with local agricultural offices for tailored advice!",
         "deepseek-deepseek-reasoner",
         "India",
         "What are some of the strategies that I can employ to manage climate change in crop production?"
        ],
        [
         "13",
         "14",
         "1. **Vaccinate regularly** against common diseases like foot-and-mouth, hemorrhagic septicemia, and brucellosis, following local veterinary guidelines.  \n2. **Maintain biosecurity**: Restrict farm access, quarantine new animals for 2-3 weeks, and disinfect tools/vehicles to prevent disease entry.  \n3. **Practice clean sanitation**: Remove manure daily, disinfect sheds monthly, and ensure clean, dry bedding to reduce infection risks.  \n4. **Provide balanced feed and clean water** to boost immunity; avoid moldy feed or stagnant water sources.  \n5. **Control parasites**: Deworm every 3-6 months and use sprays/dips for ticks, lice, and mites.  \n6. **Monitor health daily**: Check for symptoms like fever, coughing, reduced appetite, or abnormal discharges; isolate sick animals immediately.  \n7. **Dispose of carcasses safely** by deep burial (6+ feet) or incineration to prevent contamination.  \n8. **Avoid overcrowding** to minimize stress and disease spread; ensure proper ventilation in shelters.  \n9. **Collaborate with veterinarians** for timely diagnosis and treatment; keep records of illnesses and medications.  \n10. **Educate yourself** on local disease outbreaks and report unusual symptoms to authorities promptly.  \n\nBy combining prevention, hygiene, and vigilance, you can protect your livestock effectively.",
         "deepseek-deepseek-reasoner",
         "India",
         "What are the best disease management practices in livestock production?"
        ],
        [
         "14",
         "15",
         "Farmer groups, FPOs, cooperatives, and CBOs strengthen smallholders by pooling resources, knowledge, and bargaining power. Together, you can buy seeds/fertilizers cheaper in bulk, sell produce at higher prices by avoiding middlemen, and access loans or machinery (e.g., shared tractors). These groups provide training on climate-smart practices, connect you to government schemes (subsidies, insurance), and reduce risks through collective crop planning or storage. Cooperatives also help market produce directly to processors/exporters, ensuring fair prices. By uniting, farmers gain influence in policies and resist exploitation, boosting income and resilience. Joining such organizations empowers you to overcome challenges collectively, not alone.",
         "deepseek-deepseek-reasoner",
         "India",
         "How are Farmer groups, Farmer Producer Organizations, Community Based Organizations and cooperatives important to farmers?"
        ],
        [
         "15",
         "1",
         "I'm sorry to hear you're facing this issue. Here are a few steps you can take to improve the situation:\n\n1. **Identify the Pest**: Make sure you have correctly identified the pest. Sometimes, misidentification can lead to using the wrong pesticide, which will be ineffective.\n\n2. **Check Pesticide Expiry**: Ensure the pesticides you're using aren't expired, as expired products lose their effectiveness.\n\n3. **Rotate Pesticides**: Pests can become resistant to a pesticide if it's used repeatedly. Rotating pesticides with different active ingredients can help prevent this resistance.\n\n4. **Integrated Pest Management (IPM)**: Consider using IPM practices which include cultural, mechanical, biological, and chemical methods to control pests. This holistic approach can be more effective than relying solely on chemicals.\n\n5. **Correct Dosage and Application**: Make sure you're using the correct dosage and application method as per the label instructions. Applying less or more than recommended can reduce effectiveness.\n\n6. **Soil Health and Crop Rotation**: Maintain good soil health and practice crop rotation to naturally deter pests. Healthy plants are more resistant to pest attacks.\n\n7. **Local Extension Services**: Reach out to your local agricultural extension officer for specific advice tailored to your situation and region.\n\nFollowing these steps should help improve pest control on your farm.",
         "openai-gpt-4o-2024-08-06",
         "India",
         "I have been applying different pesticides to control pests on my farm. However, they seem not to be effective, what can I do?"
        ],
        [
         "16",
         "2",
         "I'm sorry to hear about the impact of droughts and floods on your farm. To get compensation, you should first ensure that you are enrolled in the Pradhan Mantri Fasal Bima Yojana (PMFBY) for crops and the Livestock Insurance Scheme for your animals, if available in your area. These schemes provide insurance against losses due to natural calamities. Make sure to register your crop and livestock details with the local agriculture department before the sowing and coverage period begins.\n\nIf you experience a loss, report it immediately to your insurance company or local agricultural officer. Keep records of your enrollment, premium payments, and any communication with the insurance provider. For additional support, check if your state government offers any relief schemes and apply accordingly. Maintaining accurate records and quick reporting will help facilitate your compensation claim. It's also helpful to participate in local farmer groups to stay informed about new government schemes and assistance programs.",
         "openai-gpt-4o-2024-08-06",
         "India",
         "I have been losing my crops and livestock due to drought and floods. What can I do to get compensation during such occurrences?"
        ],
        [
         "17",
         "3",
         "To learn more about crops and livestock production, you can start by visiting your nearest Krishi Vigyan Kendra (KVK). KVKs are agricultural science centers in India that provide practical training and advice to farmers. They offer workshops and demonstrations on various farming techniques and technologies suitable for your region.\n\nAdditionally, you can participate in field days organized by agricultural universities or research institutions in your area. These events showcase the latest advancements in crop and livestock management. Also, consider joining local farmers' groups or cooperatives, where experienced farmers share their knowledge and experiences.\n\nMany government agricultural departments organize training programs, so keep an eye out for these opportunities. Finally, contacting NGOs that focus on agriculture can also be helpful, as they often provide hands-on training and resources for farmers.",
         "openai-gpt-4o-2024-08-06",
         "India",
         "I am interested in learning about crops and livestock production. Where can I visit to learn more about crops and livestock production?"
        ],
        [
         "18",
         "4",
         "For a dryland agro-ecological zone, it's important to choose a bean variety that is drought-tolerant and can thrive in less water. One suitable variety is the **Moth Bean (Vigna aconitifolia)**, often grown in dry areas due to its high drought resistance. Another good option is the **Cowpea (Vigna unguiculata)**, also known for its ability to grow well in dry conditions. These varieties can survive with minimal rainfall and have a deep root system that helps them access moisture from deeper soil layers. When choosing seeds, always opt for certified seeds from a reliable source to ensure good germination and growth. Additionally, consider implementing soil moisture conservation techniques such as mulching to retain soil moisture and improve yield. Rotate your crops annually to maintain soil fertility and prevent pest buildup. Consulting with your local agricultural extension officer can provide guidance specific to your area's climate and soil conditions.",
         "openai-gpt-4o-2024-08-06",
         "India",
         "Which bean variety is suitable for dryland agro-ecological zone?"
        ],
        [
         "19",
         "5",
         "If certified maize seeds are not available, it's best to use open-pollinated varieties (OPVs) for saving and replanting. OPVs are stable and produce seeds that retain the characteristics of the parent plant. Popular OPVs in India include varieties like Shakti, Navjot, and Kisan Composite. Ensure that the plants you select for seed saving are healthy, disease-free, and have desirable traits like good cob size and resistance to pests. Avoid saving seeds from hybrid varieties, as they do not breed true and can lead to reduced yields and unpredictable traits. When harvesting, let the cobs mature fully on the plant before picking. After harvesting, dry the seeds properly in a shaded area and store them in a cool, dry place. Proper seed selection and storage will help you maintain quality seeds for the next planting season.",
         "openai-gpt-4o-2024-08-06",
         "India",
         "If I am unable to acquire certified maize seeds, which variety can I save and replant the next season?"
        ],
        [
         "20",
         "6",
         "Chemical pesticides can play a key role in protecting crops and livestock from pests and diseases, which can improve yields and reduce losses. However, it's important to use them safely and judiciously. Overuse or incorrect application of pesticides can harm beneficial insects, soil health, and water sources, and can also lead to pest resistance. Always choose the right pesticide for the specific pest problem, and follow the label instructions closely, including recommended dosages and safety measures. Use protective gear during application to prevent harm to yourself and others. Consider integrating chemical pesticides with other pest management strategies, such as biological controls and crop rotation, to build a more sustainable approach. Lastly, ensure proper storage of pesticides to avoid accidental contamination or poisoning. This balanced approach can help you keep your crops and livestock healthy while minimizing risks to the environment and human health.",
         "openai-gpt-4o-2024-08-06",
         "India",
         "Are chemical pesticides important and safe in crop and livestock production?"
        ],
        [
         "21",
         "7",
         "To determine if your soil is fertile, you should consider a few key indicators. Firstly, conduct a soil test by sending a soil sample to a local agricultural laboratory or using a soil testing kit. The test will tell you about essential nutrients such as nitrogen, phosphorus, and potassium, as well as pH levels. Ideal pH for most crops ranges from 6 to 7. Secondly, observe the soil structure: fertile soil typically has a crumbly texture and dark color, indicating good organic matter. Check for earthworms—if present in good numbers, they often signify healthy soil. \n\nAnother sign of fertility is the presence of a diverse range of plants and roots, which suggests a balanced ecosystem. Additionally, crop performance is a practical indicator: if your plants are growing well with good yields year after year, it’s a positive sign of fertile soil. Lastly, ensure proper drainage; water should not pool or drain too quickly. Regularly rotate crops and add organic matter like compost or manure to maintain and improve soil fertility over time.",
         "openai-gpt-4o-2024-08-06",
         "India",
         "How can I know that my soil is fertile?"
        ],
        [
         "22",
         "8",
         "Controlling weeds effectively involves a combination of practices to minimize their impact on your crops. First, aim to use a good crop rotation plan. This helps disrupt the life cycle of weeds, making them less likely to adapt and spread. Second, consider mulching your fields with organic materials such as straw or grass clippings. Mulch helps suppress weed growth by blocking sunlight.\n\nAdditionally, practice timely and regular manual weeding, especially during the early stages of crop growth when weeds compete most vigorously. For larger areas, you might consider mechanical weeding tools like hand hoes or small tractor-mounted implements. You can also use herbicides, but it's crucial to choose the right type appropriate for your crop and follow the recommended dosage carefully to avoid damage to your plants.\n\nLastly, maintaining healthy soil through proper fertilization and irrigation boosts crop resilience, limiting weed competition. Remember to always be alert and identify weed outbreaks early so you can address them before they become a larger issue.",
         "openai-gpt-4o-2024-08-06",
         "India",
         "How can I best control weeds in my farm?"
        ],
        [
         "23",
         "9",
         "Both organic and synthetic (inorganic) fertilizers have their advantages and can play important roles in crop production, depending on farming conditions.\n\nOrganic fertilizers, like compost and manure, improve soil health by adding organic matter, which enhances soil structure and water retention. They also promote beneficial microbial activity. However, they release nutrients slowly, which might not meet the immediate needs of fast-growing crops.\n\nSynthetic fertilizers, on the other hand, offer specific nutrients that plants can quickly absorb, leading to faster growth and higher yields. They are more consistent in nutrient content and are easier to apply in exact amounts. However, excessive or improper use can lead to soil degradation and environmental pollution.\n\nFor smallholder farmers with well-maintained soils aiming for quick results, synthetic fertilizers might be more suitable. However, for those focusing on long-term soil health and sustainability, incorporating organic fertilizers can be beneficial. Ideally, a balanced approach using both types can optimize crop production and maintain soil health.",
         "openai-gpt-4o-2024-08-06",
         "India",
         "How do organic and synthetic/inorganic fertilizers compare in terms of effectiveness to crop production, and which one would be more suitable for different farming conditions?"
        ],
        [
         "24",
         "10",
         "The variability in rainfall can indeed make planting decisions challenging. To minimize risks, it's important to rely on both historical data and real-time information. First, assess the average onset of rains in your region over the past few years. This gives you a general idea of when the rains typically start. Next, monitor local weather forecasts and updates closely for any changes or expected rainfall patterns. \n\nConsider using soil moisture sensors if available, to determine optimal conditions for planting without waiting too late or planting too early. Additionally, try to diversify your crops if possible, choosing varieties that can tolerate varying water levels or are drought-resistant. The integration of weather forecasting apps or services specifically designed for farmers, like a mobile app, can also provide timely updates. Lastly, consult with local agricultural officers or extension services for guidance suited to current conditions. This approach will help you make informed planting decisions despite the uncertainties in rainfall.",
         "openai-gpt-4o-2024-08-06",
         "India",
         "Lately, the onset of rains has shown significant variability from season to season. This has affected our ability to judge when to plant. In this scenario, when is the best time to plant?"
        ],
        [
         "25",
         "11",
         "Signs of nutrient deficiency in maize include yellowing or paling of leaves, stunted growth, and poor ear development. Specifically, nitrogen deficiency causes leaves to turn pale green or yellow, starting from the bottom, while phosphorus deficiency leads to dark green or purplish leaves and poorly filled cobs. Potassium deficiency manifests as yellowing and scorching of leaf edges, primarily on older leaves.\n\nTo correct these deficiencies, conduct a soil test to determine specific nutrient needs. For nitrogen deficiency, apply urea or ammonium nitrate. Use diammonium phosphate (DAP) or single superphosphate (SSP) to address phosphorus deficiency. For potassium, apply muriate of potash (MOP). Ensure balanced fertilization by also including micronutrients as needed. Practice crop rotation and incorporate organic manure or compost to improve soil health and nutrient availability over time.",
         "openai-gpt-4o-2024-08-06",
         "India",
         "What are the signs of nutrient deficiency in maize and how can they be corrected?"
        ],
        [
         "26",
         "12",
         "To reduce post-harvest losses, start by ensuring timely and proper harvesting when crops are at the right maturity. Use clean and sharp equipment to minimize damage. After harvesting, quickly move crops to a shaded, cool area to reduce exposure to pests and sunlight. For drying grains, use clean mats or raised platforms to prevent contamination and moisture absorption from the ground. In storage, ensure that your facilities are clean, dry, and well-ventilated; consider using airtight bins or bags to protect against pests and moisture.\n\nFor livestock, prioritize proper handling and transport to avoid stress and injury. Maintain clean slaughter and meat-processing environments to prevent contamination. Utilize cold storage or appropriate preservation techniques like drying or smoking to extend the shelf life of perishable products. Regularly inspect stored crops and products for signs of pests or spoilage and act quickly if issues arise. Finally, take advantage of local training programs or government-supported advice to access new technologies and strategies tailored to your specific needs.",
         "openai-gpt-4o-2024-08-06",
         "India",
         "How can I mitigate post-harvest losses in crops and livestock?"
        ],
        [
         "27",
         "13",
         "To manage climate change in crop production, you can use several strategies to ensure your farm remains productive and resilient. First, consider diversifying your crops by growing multiple types of crops instead of relying on just one. This can reduce risk if some crops don't do well due to changing weather patterns. Second, adopt improved irrigation techniques, such as drip or sprinkler systems, to use water more efficiently and conserve resources during periods of drought. Third, practice soil conservation techniques like mulching or cover cropping to maintain soil moisture and fertility. Fourth, choose climate-resilient crop varieties that are more tolerant to drought, heat, or pests. Fifth, implement agroforestry by integrating trees with crops, which can provide shade, reduce erosion, and improve biodiversity. Lastly, stay informed about weather forecasts and climate patterns through trusted sources to make timely and informed decisions about planting and harvests. These strategies together can enhance your farm's capacity to cope with the uncertainties of climate change.",
         "openai-gpt-4o-2024-08-06",
         "India",
         "What are some of the strategies that I can employ to manage climate change in crop production?"
        ],
        [
         "28",
         "14",
         "To effectively manage diseases in livestock, start by ensuring good hygiene in your farm. Clean animal housing regularly to prevent the buildup of manure and other waste, which can harbor disease. Provide clean, fresh water and nutritious feed to your animals, as well-maintained animals have stronger immunity. Implement a vaccination schedule for your livestock to protect them from common diseases. Quarantine any new or sick animals to prevent disease spread among your herd. Regularly consult with a veterinarian for health checks and advice on disease prevention. Keep detailed records of your animals' health and treatments to identify and manage disease trends. Practice good biosecurity measures, such as controlling access to your farm and disinfecting equipment. Finally, educate yourself and other farm workers about signs of common diseases to ensure early detection and prompt treatment.",
         "openai-gpt-4o-2024-08-06",
         "India",
         "What are the best disease management practices in livestock production?"
        ],
        [
         "29",
         "15",
         "Farmer groups, Farmer Producer Organizations (FPOs), Community Based Organizations (CBOs), and cooperatives are essential for smallholder farmers for several reasons. First, by coming together, farmers can pool their resources and buy seeds, fertilizers, and other inputs in bulk at lower prices. This helps reduce costs and increase profit margins. Second, these organizations give farmers better bargaining power in the market, allowing them to negotiate better prices for their produce. \n\nThird, Farmer groups and cooperatives often provide access to important resources like credit and financial services, which are harder to obtain individually. Fourth, they serve as a platform for knowledge sharing, where farmers can learn new farming techniques, pest management strategies, and sustainable practices. Fifth, being part of these groups often enables farmers to participate in government programs and receive subsidies more easily.\n\nFinally, these organizations can help farmers manage risks better by providing support during natural disasters or market fluctuations. Overall, they empower farmers by improving access to resources, information, and markets, leading to increased productivity and income stability.",
         "openai-gpt-4o-2024-08-06",
         "India",
         "How are Farmer groups, Farmer Producer Organizations, Community Based Organizations and cooperatives important to farmers?"
        ],
        [
         "30",
         "1",
         "# Improving Your Pest Control Approach\n\nWhen pesticides aren't working effectively, it may be due to pest resistance, incorrect application timing, wrong dosage, or using unsuitable products for your specific pests. First, identify your pests correctly by consulting your local agricultural extension office or using pest identification apps. Consider adopting Integrated Pest Management (IPM) practices by combining multiple strategies—crop rotation, resistant varieties, natural predators, and targeted pesticide use only when necessary. Ensure you're applying pesticides at the right time (usually early morning or evening), in correct concentration, and with proper equipment maintenance. If you must use chemicals, rotate between different pesticide classes to prevent resistance development. Try incorporating natural solutions like neem oil, beneficial insects, or trap crops around your fields. Remember that healthy soil builds resilient plants, so focus on improving soil health through compost and organic matter addition.",
         "anthropic-claude-3-7-sonnet-20250219",
         "India",
         "I have been applying different pesticides to control pests on my farm. However, they seem not to be effective, what can I do?"
        ],
        [
         "31",
         "2",
         "# Compensation Options for Crop and Livestock Losses\n\nDear Farmer, you can enroll in the Pradhan Mantri Fasal Bima Yojana (PMFBY) through your local bank, agricultural extension office, or Common Service Center to get compensation for crop losses due to natural disasters. For livestock, the Livestock Insurance Scheme offers protection against death of animals—contact your local veterinary hospital or Krishi Vigyan Kendra to enroll. Keep detailed records of your farming activities, including photographs of damaged crops/livestock, cultivation records, and receipts of inputs purchased. After a disaster, immediately inform your bank, insurance provider, and local agriculture department, who will send officials to assess the damage. You can also seek assistance from your Gram Panchayat to access state disaster relief funds when available. Many banks also offer loan restructuring or moratoriums during officially declared disasters, so speak with your bank manager about these options.",
         "anthropic-claude-3-7-sonnet-20250219",
         "India",
         "I have been losing my crops and livestock due to drought and floods. What can I do to get compensation during such occurrences?"
        ],
        [
         "32",
         "3",
         "# Learning Resources for Crops and Livestock Production\n\nYou can visit your nearest Krishi Vigyan Kendra (KVK) which offers training programs and demonstrations specifically for farmers like you. Your district Agricultural Extension Office provides free advisory services and often conducts field visits and training sessions. State Agricultural Universities regularly host farmer training programs, field days, and maintain demonstration farms where you can see modern practices firsthand. The Indian Council of Agricultural Research (ICAR) institutes specialize in specific crops or livestock and welcome farmer visits. Many successful progressive farmers in your area also allow visits through farmer-to-farmer programs organized by the government. Additionally, agricultural exhibitions and melas (fairs) held throughout the year showcase new technologies and practices. You can also access Kisan Call Centers by dialing 1800-180-1551 for information about upcoming farmer training events near you.",
         "anthropic-claude-3-7-sonnet-20250219",
         "India",
         "I am interested in learning about crops and livestock production. Where can I visit to learn more about crops and livestock production?"
        ],
        [
         "33",
         "4",
         "# Bean Varieties for Dryland Farming\n\nFor dryland conditions in India, I recommend growing these drought-tolerant bean varieties:\n\n**Green Gram (Moong)**: IPM 02-3 (Pusa Vishal) and SML-668 mature in 65-70 days and can survive with limited water.\n\n**Black Gram (Urad)**: T-9 and PU-31 varieties perform well in dryland regions with yields of 8-10 quintals per hectare.\n\n**Pigeon Pea (Arhar)**: ICPL 87119 (Asha) and BSMR-736 are excellent drought-tolerant varieties with deep root systems.\n\n**Cowpea**: Pusa Komal and C-152 can thrive with minimal rainfall and mature in just 60-65 days.\n\nThese varieties require minimal irrigation, can withstand dry spells, and provide reasonable yields even under water stress conditions. For best results, use proper seed treatment with Rhizobium culture and maintain wider spacing than in irrigated conditions.",
         "anthropic-claude-3-7-sonnet-20250219",
         "India",
         "Which bean variety is suitable for dryland agro-ecological zone?"
        ],
        [
         "34",
         "5",
         "# Maize Seed Saving Advice\n\nYou should save and replant only open-pollinated varieties (OPVs) of maize, not hybrids. Hybrid seeds will give much lower yields when replanted, while OPVs like Navjot, Kisan, Amber, or Jawahar maintain their characteristics across seasons. For seed saving, select 50-100 healthy cobs from your best-performing plants located in the middle of your field (not from border rows). Choose plants that show disease resistance, good height, and strong stalks. Dry the selected cobs thoroughly until seeds reach 12-14% moisture content, then shell and store them in airtight containers with neem leaves to prevent pest damage. Though saved seeds may yield slightly less than fresh certified seeds, proper selection and storage can still provide good harvests. Local agricultural extension offices can help identify which specific OPVs grow best in your region.",
         "anthropic-claude-3-7-sonnet-20250219",
         "India",
         "If I am unable to acquire certified maize seeds, which variety can I save and replant the next season?"
        ],
        [
         "35",
         "6",
         "# Chemical Pesticides in Farming: Important but Need Careful Use\n\nChemical pesticides can be important tools for protecting crops and livestock from pests and diseases that reduce yields and income. When used correctly, they help preserve crop quality and quantity, potentially improving your farm's productivity and profitability. \n\nHowever, pesticides must be used with caution as they can be harmful to human health, beneficial insects like pollinators, livestock, and the environment if misused. Always wear protective clothing (gloves, masks, full-sleeve shirts) when applying pesticides, follow label instructions precisely, and maintain proper waiting periods before harvest or slaughter. \n\nMany chemical pesticides can leave residues in food products, soil and water, which is why integrated pest management (IPM) approaches that combine minimal chemical use with biological controls and good agricultural practices are often safer and more sustainable. Consider alternatives like neem-based products, biological controls, and crop rotation to reduce dependency on chemical pesticides while still managing pests effectively. \n\nRemember that some pesticides available in local markets might be banned or restricted elsewhere, so seek advice from your local Krishi Vigyan Kendra (KVK) or agricultural extension office about which products are legal and appropriate for your specific needs.",
         "anthropic-claude-3-7-sonnet-20250219",
         "India",
         "Are chemical pesticides important and safe in crop and livestock production?"
        ],
        [
         "36",
         "7",
         "# How to Check Your Soil Fertility\n\nGood soil fertility shows in several ways that you can observe yourself. Fertile soil usually appears dark brown or black, feels crumbly when dry, and holds shape without breaking apart when moist. Healthy plants with deep green leaves, vigorous growth, and good yields are strong indicators of fertile soil. You can do a simple earthworm count by digging a 30cm cube of soil - finding 10 or more earthworms suggests good fertility. Water infiltration test is also useful - fertile soil absorbs water quickly instead of forming puddles. The Indian government offers affordable soil testing through Krishi Vigyan Kendras (KVKs) and agricultural extension centers, which provide detailed nutrient information. Many districts also have mobile soil testing vans visiting villages periodically. For a basic home test, place a handful of soil in a clear bottle with water, shake well, and let it settle - good soil shows distinct layers with organic matter floating on top.",
         "anthropic-claude-3-7-sonnet-20250219",
         "India",
         "How can I know that my soil is fertile?"
        ],
        [
         "37",
         "8",
         "# Weed Control for Your Farm\n\nControlling weeds starts with timely identification and action before they compete with your crops for nutrients, water, and sunlight. For small plots, hand weeding and using simple tools like hoes and small weeders is effective, especially when weeds are young and soil is slightly moist. Practice crop rotation to disrupt weed cycles, and consider intercropping compatible plants that can suppress weeds naturally. Apply mulch (straw, dried leaves, or plastic sheets) around plants to prevent weed growth while conserving soil moisture. Maintain proper spacing between plants to create a shaded canopy that reduces weed growth. For larger areas, consider appropriate pre-emergence or post-emergence herbicides, but always follow label instructions and wear protective clothing. Keep field edges and irrigation channels clean to prevent weeds from spreading seeds into your fields. Remember that integrated weed management—combining multiple methods—provides the most sustainable and effective control.",
         "anthropic-claude-3-7-sonnet-20250219",
         "India",
         "How can I best control weeds in my farm?"
        ],
        [
         "38",
         "9",
         "# Comparing Organic and Synthetic Fertilizers\n\nOrganic fertilizers (like compost, manure, and vermicompost) release nutrients slowly, improving soil health, water retention, and beneficial microorganism activity over time, but may take longer to show results. Synthetic fertilizers (like urea, DAP, NPK) provide immediate nutrients in exact amounts, giving faster visible growth, but can lead to soil acidification and don't improve soil structure. \n\nOrganic options work well in rain-fed conditions, offering drought resistance through better soil structure, while synthetic fertilizers may be more suitable during critical growth stages or for correcting severe deficiencies quickly. Cost-wise, organic fertilizers can be produced on-farm using local materials, reducing expenses, while synthetic fertilizers require purchase but provide precise nutrient control. \n\nFor best results, many successful farmers in India use a balanced approach—applying organic fertilizers as a base for soil health, supplemented with targeted synthetic fertilizers when specific nutrients are needed, based on soil testing and crop requirements.",
         "anthropic-claude-3-7-sonnet-20250219",
         "India",
         "How do organic and synthetic/inorganic fertilizers compare in terms of effectiveness to crop production, and which one would be more suitable for different farming conditions?"
        ],
        [
         "39",
         "10",
         "# Adapting Planting Times to Variable Rainfall\n\nYou're right that rainfall patterns have become less predictable in recent years, making traditional planting calendars less reliable. The best approach now is to focus on soil moisture rather than calendar dates - seeds need adequate moisture to germinate properly, so plant when your soil has good moisture content but isn't waterlogged. For most crops, monitor reliable 5-7 day weather forecasts through your local Krishi Vigyan Kendra (KVK) or weather apps and aim to plant just before predicted rainfall events. Consider practicing staggered planting where you plant portions of your field at 7-10 day intervals to spread your risk. Drought-tolerant varieties like improved jowar, bajra, or short-duration rice varieties offer better security in uncertain rainfall conditions. Keep your field prepared in advance so you can quickly plant when conditions become favorable. If possible, collect rainwater in farm ponds or implement simple water conservation techniques to supplement irrigation during dry spells.",
         "anthropic-claude-3-7-sonnet-20250219",
         "India",
         "Lately, the onset of rains has shown significant variability from season to season. This has affected our ability to judge when to plant. In this scenario, when is the best time to plant?"
        ],
        [
         "40",
         "11",
         "# Signs of Nutrient Deficiency in Maize and Solutions\n\nNitrogen deficiency shows as yellowing of older leaves in a V-pattern from the tip to the base, which can be corrected by applying urea or farmyard manure. Phosphorus-deficient plants develop purplish leaves and stunted growth, requiring application of DAP (diammonium phosphate) or single superphosphate. Potassium shortage appears as yellowing and browning along the edges of older leaves - apply muriate of potash (MOP) to address this problem. Zinc deficiency causes white bands between leaf veins and shortens plant internodes, which can be fixed with zinc sulfate application (either as soil treatment or foliar spray). Magnesium shortage shows as yellowing between veins while veins stay green, correctable by applying magnesium sulfate. For best results, conduct a soil test before planting to know exactly which nutrients your soil lacks. Apply organic matter regularly to improve overall soil fertility and nutrient retention. In severe cases, a balanced NPK fertilizer combined with micronutrient mixtures specific for maize can quickly address multiple deficiencies at once.",
         "anthropic-claude-3-7-sonnet-20250219",
         "India",
         "What are the signs of nutrient deficiency in maize and how can they be corrected?"
        ],
        [
         "41",
         "12",
         "# Reducing Post-Harvest Losses in Crops and Livestock\n\nHarvest crops at the right maturity and during cooler parts of the day to reduce damage and spoilage. Dry your grains and pulses properly until they reach 10-12% moisture content before storage to prevent mold growth. Store crops in clean, dry containers like hermetic bags or metal bins that protect against pests, moisture, and air. For fruits and vegetables, use clean crates, avoid overpacking, and keep them in cool, shaded areas if cold storage isn't available. For livestock products, ensure clean milking procedures and use proper containers to store milk, ideally in cool conditions. Keep eggs clean, collect them frequently, and store pointy-end down in a cool place. Process meat products quickly after slaughter and use salt preservation if refrigeration isn't possible. Regularly inspect stored products for any signs of spoilage or pest damage. Joining a farmer group to share cold storage costs or processing equipment can also significantly reduce losses.",
         "anthropic-claude-3-7-sonnet-20250219",
         "India",
         "How can I mitigate post-harvest losses in crops and livestock?"
        ],
        [
         "42",
         "13",
         "# Climate Change Management Strategies for Crop Production\n\nNamaste! Here are practical strategies to manage climate change effects on your crops:\n\n1. Plant drought-resistant varieties that can withstand water stress during dry periods.\n\n2. Implement efficient water management through rainwater harvesting, farm ponds, and drip irrigation to conserve water.\n\n3. Practice crop diversification by growing multiple crops together to reduce risk if one crop fails due to extreme weather.\n\n4. Adjust your planting calendar based on changing rainfall patterns and seasonal shifts.\n\n5. Build healthy soil by adding organic matter like compost and farmyard manure to improve water retention.\n\n6. Consider agroforestry by integrating suitable trees with your crops to provide shade and stabilize farm microclimate.\n\n7. Use mulching to conserve soil moisture and prevent erosion during heavy rains.\n\n8. Try short-duration crop varieties that can be harvested before extreme weather events typically occur.\n\n9. Stay informed about weather forecasts through your local Krishi Vigyan Kendra (KVK) or mobile apps to plan farming activities.\n\n10. Where available, enroll in crop insurance schemes like Pradhan Mantri Fasal Bima Yojana for financial protection against climate-related crop losses.",
         "anthropic-claude-3-7-sonnet-20250219",
         "India",
         "What are some of the strategies that I can employ to manage climate change in crop production?"
        ],
        [
         "43",
         "14",
         "# Best Disease Management Practices for Livestock\n\nNamaste farmer, preventing livestock diseases is much easier than treating them! \n\nFirst, maintain clean housing with proper ventilation and regularly remove animal waste to prevent infection spread. Always quarantine new animals for at least 14 days before introducing them to your herd or flock. Follow a proper vaccination schedule as recommended by your local veterinarian for diseases common in your area like Foot and Mouth Disease, Hemorrhagic Septicemia, and Black Quarter. Provide balanced nutrition and clean drinking water to strengthen animals' natural immunity. Practice good biosecurity by limiting visitors to your animal areas and using footbaths with disinfectant at entrances. Regular deworming (every 3-6 months) helps control internal parasites that weaken animals. Keep records of vaccinations, treatments, and any illnesses to track health patterns. Lastly, quickly isolate sick animals and contact your veterinarian when you notice unusual symptoms like reduced appetite, abnormal droppings, or changes in behavior.",
         "anthropic-claude-3-7-sonnet-20250219",
         "India",
         "What are the best disease management practices in livestock production?"
        ],
        [
         "44",
         "15",
         "# Importance of Farmer Organizations for Smallholders\n\nFarmer groups, FPOs, CBOs, and cooperatives give you strength in numbers by allowing you to buy farm inputs in bulk at lower prices and sell your produce collectively for better rates. These organizations help you access affordable loans, quality seeds, fertilizers, and modern farm equipment that might be too expensive to purchase individually. By joining forces, you can share knowledge, learn new farming techniques, and solve common problems together through regular meetings and trainings. These groups provide marketing support, helping you reach larger buyers and sometimes even export markets that are impossible to access alone. They can establish processing units to add value to your crops, turning raw produce into products that fetch higher prices. During difficult times like droughts or floods, these organizations provide crucial support through insurance schemes or emergency funds. Government schemes and subsidies often prioritize organized farmer groups, making it easier for you to benefit from these programs. As a member, you also gain a stronger voice in agricultural policy decisions that affect your livelihood and future.",
         "anthropic-claude-3-7-sonnet-20250219",
         "India",
         "How are Farmer groups, Farmer Producer Organizations, Community Based Organizations and cooperatives important to farmers?"
        ],
        [
         "45",
         "1",
         "First, identify the specific pest and confirm it matches the pesticide you are using.  \nSecond, check if the pesticide is still within its expiry date and confirm you are mixing it correctly.  \nThird, rotate different classes of pesticides to prevent pest resistance from building up.  \nFourth, apply pesticides only at the right time of day and under recommended weather conditions for best results.  \nFifth, scout your fields regularly to catch pest problems early and apply treatment promptly.  \nSixth, use cultural methods like removing and destroying infested crop residues to reduce pest habitat.  \nFinally, consider integrating biological controls (like beneficial insects) with chemical treatments for a more sustainable solution.",
         "openai-o1-2024-12-17",
         "India",
         "I have been applying different pesticides to control pests on my farm. However, they seem not to be effective, what can I do?"
        ],
        [
         "46",
         "2",
         "You should consider enrolling in government-backed crop insurance schemes like the Pradhan Mantri Fasal Bima Yojana (PMFBY).  \nSimilarly, for livestock, look into government livestock insurance programs offered by some state animal husbandry departments.  \nAlways keep all required documents ready, such as land records, insurance policy details, and proof of loss (photos or local authority certification).  \nReport any damage to your insurance company or local agricultural office as soon as possible after the event.  \nClaim procedures usually include field inspections, so cooperate with officials who visit your farm.  \nYou can also ask your local agriculture extension officer or Krishi Vigyan Kendra for details on government relief funds.  \nKeep in touch with your village panchayat or block office, as they can guide you on additional compensation or emergency relief measures.  \nFinally, try to diversify crops and livestock to reduce risk, and adopt climate-resilient farming practices for long-term safety.",
         "openai-o1-2024-12-17",
         "India",
         "I have been losing my crops and livestock due to drought and floods. What can I do to get compensation during such occurrences?"
        ],
        [
         "47",
         "3",
         "Your local Krishi Vigyan Kendra (KVK) is a great place to start. They provide hands-on training, demonstration plots, and scientific guidance on both crop cultivation and livestock rearing. Your state’s agriculture department offices often host workshops and awareness programs. Agricultural universities sometimes organize field days open to local farmers. District-level demonstration farms and research stations showcase best practices for different crops and animals. Attending farmer field schools run by NGOs or self-help groups is another good option. Accredited veterinary hospitals or animal husbandry centers can help you learn about animal health and nutrition. You can also visit progressive farmers in your region to see advanced methods in action. Make sure to keep notes and ask questions wherever you go.",
         "openai-o1-2024-12-17",
         "India",
         "I am interested in learning about crops and livestock production. Where can I visit to learn more about crops and livestock production?"
        ],
        [
         "48",
         "4",
         "Cowpea (also called lobia) is one of the best bean options for dryland conditions due to its drought tolerance. Among cowpea varieties, Pant Lobia-3 (PL-3) and C-152 are commonly recommended for low-rainfall regions. These varieties can perform well even with limited water, provided the soil is well-drained. Prepare a firm seedbed and sow seeds at a depth of about 3–5 cm for better germination. Apply well-decomposed farmyard manure or compost to enhance soil fertility. Avoid waterlogging by ensuring proper field drainage. Regularly remove weeds, especially during early plant growth. Timely pest and disease management will help maximize yield. Harvest once the pods are fully matured and dry to maintain quality seeds.",
         "openai-o1-2024-12-17",
         "India",
         "Which bean variety is suitable for dryland agro-ecological zone?"
        ],
        [
         "49",
         "5",
         "You can save and replant open-pollinated maize varieties, not hybrids, because open-pollinated varieties produce seed with stable traits. These varieties allow you to harvest and reuse the seed for several seasons if properly handled. Choose a locally adapted open-pollinated variety recommended by your nearby agricultural department or Krishi Vigyan Kendra. Always select seed from healthy, high-yielding plants without signs of disease or pest damage. Dry the cobs thoroughly in the sun, then shell and clean the kernels before storing in a cool, dry, and airtight container. Doing so helps maintain high germination rates for the next season. Make sure to keep these varieties isolated from other maize crops to prevent cross-pollination. Consult your local agricultural extension officer if you need help identifying a reliable open-pollinated maize variety in your region.",
         "openai-o1-2024-12-17",
         "India",
         "If I am unable to acquire certified maize seeds, which variety can I save and replant the next season?"
        ]
       ],
       "shape": {
        "columns": 5,
        "rows": 135
       }
      },
      "text/html": [
       "<div>\n",
       "<style scoped>\n",
       "    .dataframe tbody tr th:only-of-type {\n",
       "        vertical-align: middle;\n",
       "    }\n",
       "\n",
       "    .dataframe tbody tr th {\n",
       "        vertical-align: top;\n",
       "    }\n",
       "\n",
       "    .dataframe thead th {\n",
       "        text-align: right;\n",
       "    }\n",
       "</style>\n",
       "<table border=\"1\" class=\"dataframe\">\n",
       "  <thead>\n",
       "    <tr style=\"text-align: right;\">\n",
       "      <th></th>\n",
       "      <th>question_id</th>\n",
       "      <th>answer</th>\n",
       "      <th>model</th>\n",
       "      <th>country</th>\n",
       "      <th>question</th>\n",
       "    </tr>\n",
       "  </thead>\n",
       "  <tbody>\n",
       "    <tr>\n",
       "      <th>0</th>\n",
       "      <td>1</td>\n",
       "      <td>Your pesticides may not work due to resistance...</td>\n",
       "      <td>deepseek-deepseek-reasoner</td>\n",
       "      <td>India</td>\n",
       "      <td>I have been applying different pesticides to c...</td>\n",
       "    </tr>\n",
       "    <tr>\n",
       "      <th>1</th>\n",
       "      <td>2</td>\n",
       "      <td>To claim compensation for crop/livestock losse...</td>\n",
       "      <td>deepseek-deepseek-reasoner</td>\n",
       "      <td>India</td>\n",
       "      <td>I have been losing my crops and livestock due ...</td>\n",
       "    </tr>\n",
       "    <tr>\n",
       "      <th>2</th>\n",
       "      <td>3</td>\n",
       "      <td>Visit your nearest **Krishi Vigyan Kendra (KVK...</td>\n",
       "      <td>deepseek-deepseek-reasoner</td>\n",
       "      <td>India</td>\n",
       "      <td>I am interested in learning about crops and li...</td>\n",
       "    </tr>\n",
       "    <tr>\n",
       "      <th>3</th>\n",
       "      <td>4</td>\n",
       "      <td>For dryland areas with low rainfall, consider ...</td>\n",
       "      <td>deepseek-deepseek-reasoner</td>\n",
       "      <td>India</td>\n",
       "      <td>Which bean variety is suitable for dryland agr...</td>\n",
       "    </tr>\n",
       "    <tr>\n",
       "      <th>4</th>\n",
       "      <td>5</td>\n",
       "      <td>If you cannot get certified seeds, save seeds ...</td>\n",
       "      <td>deepseek-deepseek-reasoner</td>\n",
       "      <td>India</td>\n",
       "      <td>If I am unable to acquire certified maize seed...</td>\n",
       "    </tr>\n",
       "    <tr>\n",
       "      <th>...</th>\n",
       "      <td>...</td>\n",
       "      <td>...</td>\n",
       "      <td>...</td>\n",
       "      <td>...</td>\n",
       "      <td>...</td>\n",
       "    </tr>\n",
       "    <tr>\n",
       "      <th>130</th>\n",
       "      <td>11</td>\n",
       "      <td>1. Nitrogen lack shows as pale-green to yellow...</td>\n",
       "      <td>openai-o3-2025-04-16</td>\n",
       "      <td>India</td>\n",
       "      <td>What are the signs of nutrient deficiency in m...</td>\n",
       "    </tr>\n",
       "    <tr>\n",
       "      <th>131</th>\n",
       "      <td>12</td>\n",
       "      <td>1. Harvest at the right maturity in the cool m...</td>\n",
       "      <td>openai-o3-2025-04-16</td>\n",
       "      <td>India</td>\n",
       "      <td>How can I mitigate post-harvest losses in crop...</td>\n",
       "    </tr>\n",
       "    <tr>\n",
       "      <th>132</th>\n",
       "      <td>13</td>\n",
       "      <td>1. Select short-duration or drought/heat-toler...</td>\n",
       "      <td>openai-o3-2025-04-16</td>\n",
       "      <td>India</td>\n",
       "      <td>What are some of the strategies that I can emp...</td>\n",
       "    </tr>\n",
       "    <tr>\n",
       "      <th>133</th>\n",
       "      <td>14</td>\n",
       "      <td>1. Buy animals only from trusted sources and k...</td>\n",
       "      <td>openai-o3-2025-04-16</td>\n",
       "      <td>India</td>\n",
       "      <td>What are the best disease management practices...</td>\n",
       "    </tr>\n",
       "    <tr>\n",
       "      <th>134</th>\n",
       "      <td>15</td>\n",
       "      <td>1. When many small farmers join together in a ...</td>\n",
       "      <td>openai-o3-2025-04-16</td>\n",
       "      <td>India</td>\n",
       "      <td>How are Farmer groups, Farmer Producer Organiz...</td>\n",
       "    </tr>\n",
       "  </tbody>\n",
       "</table>\n",
       "<p>135 rows × 5 columns</p>\n",
       "</div>"
      ],
      "text/plain": [
       "     question_id                                             answer  \\\n",
       "0              1  Your pesticides may not work due to resistance...   \n",
       "1              2  To claim compensation for crop/livestock losse...   \n",
       "2              3  Visit your nearest **Krishi Vigyan Kendra (KVK...   \n",
       "3              4  For dryland areas with low rainfall, consider ...   \n",
       "4              5  If you cannot get certified seeds, save seeds ...   \n",
       "..           ...                                                ...   \n",
       "130           11  1. Nitrogen lack shows as pale-green to yellow...   \n",
       "131           12  1. Harvest at the right maturity in the cool m...   \n",
       "132           13  1. Select short-duration or drought/heat-toler...   \n",
       "133           14  1. Buy animals only from trusted sources and k...   \n",
       "134           15  1. When many small farmers join together in a ...   \n",
       "\n",
       "                          model country  \\\n",
       "0    deepseek-deepseek-reasoner   India   \n",
       "1    deepseek-deepseek-reasoner   India   \n",
       "2    deepseek-deepseek-reasoner   India   \n",
       "3    deepseek-deepseek-reasoner   India   \n",
       "4    deepseek-deepseek-reasoner   India   \n",
       "..                          ...     ...   \n",
       "130        openai-o3-2025-04-16   India   \n",
       "131        openai-o3-2025-04-16   India   \n",
       "132        openai-o3-2025-04-16   India   \n",
       "133        openai-o3-2025-04-16   India   \n",
       "134        openai-o3-2025-04-16   India   \n",
       "\n",
       "                                              question  \n",
       "0    I have been applying different pesticides to c...  \n",
       "1    I have been losing my crops and livestock due ...  \n",
       "2    I am interested in learning about crops and li...  \n",
       "3    Which bean variety is suitable for dryland agr...  \n",
       "4    If I am unable to acquire certified maize seed...  \n",
       "..                                                 ...  \n",
       "130  What are the signs of nutrient deficiency in m...  \n",
       "131  How can I mitigate post-harvest losses in crop...  \n",
       "132  What are some of the strategies that I can emp...  \n",
       "133  What are the best disease management practices...  \n",
       "134  How are Farmer groups, Farmer Producer Organiz...  \n",
       "\n",
       "[135 rows x 5 columns]"
      ]
     },
     "execution_count": 86,
     "metadata": {},
     "output_type": "execute_result"
    }
   ],
   "source": [
    "all_df"
   ]
  },
  {
   "cell_type": "code",
   "execution_count": 87,
   "metadata": {},
   "outputs": [],
   "source": [
    "# add a response_id column\n",
    "all_df[\"response_id\"] = all_df.index + 1"
   ]
  },
  {
   "cell_type": "code",
   "execution_count": 88,
   "metadata": {},
   "outputs": [
    {
     "data": {
      "application/vnd.microsoft.datawrangler.viewer.v0+json": {
       "columns": [
        {
         "name": "index",
         "rawType": "int64",
         "type": "integer"
        },
        {
         "name": "question_id",
         "rawType": "int64",
         "type": "integer"
        },
        {
         "name": "answer",
         "rawType": "object",
         "type": "string"
        },
        {
         "name": "model",
         "rawType": "object",
         "type": "string"
        },
        {
         "name": "country",
         "rawType": "object",
         "type": "string"
        },
        {
         "name": "question",
         "rawType": "object",
         "type": "string"
        },
        {
         "name": "response_id",
         "rawType": "int64",
         "type": "integer"
        }
       ],
       "ref": "03977c10-b640-42b2-96bd-e2c43328ad36",
       "rows": [
        [
         "0",
         "1",
         "Your pesticides may not work due to resistance, incorrect use, or wrong pest identification. Follow these steps:  \n1. **Rotate pesticides** with different active ingredients (e.g., neonicotinoids → pyrethroids) to avoid resistance.  \n2. **Confirm the pest** with local experts to choose the right chemical.  \n3. **Check dosage/timing**: Apply as per label instructions, targeting pests’ vulnerable stages (e.g., larvae).  \n4. **Avoid counterfeits**: Buy certified products from trusted suppliers.  \n5. **Combine methods**: Use neem oil or traps, plant pest-resistant varieties, and encourage natural predators (e.g., ladybugs).  \n6. **Improve application**: Spray early morning/evening, ensure full coverage, and reapply after rain.  \nVisit your nearest Krishi Vigyan Kendra for tailored advice and pest identification.",
         "deepseek-deepseek-reasoner",
         "India",
         "I have been applying different pesticides to control pests on my farm. However, they seem not to be effective, what can I do?",
         "1"
        ],
        [
         "1",
         "2",
         "To claim compensation for crop/livestock losses due to droughts/floods:  \n1. Enroll in **Pradhan Mantri Fasal Bima Yojana (PMFBY)** for crop insurance via Common Service Centers or banks. Premiums are low (1.5-5% of crop value).  \n2. For immediate relief, report losses to your local revenue officer/Block Development Officer within **48 hours** to access the **National Disaster Relief Fund (NDRF)**.  \n3. Insure livestock via **Livestock Insurance Scheme** (available for cattle, poultry, etc.) through veterinary offices.  \n4. Keep documents ready: Land records, Aadhaar, bank details, photos/videos of damage, and a written loss report from the village officer.  \n5. Check weather alerts via **mKisan SMS** (register at 1800-180-1551) to act early.  \n\nCompensation depends on timely reporting and proper documentation. Contact your nearest Krishi Vigyan Kendra (KVK) for help with paperwork.",
         "deepseek-deepseek-reasoner",
         "India",
         "I have been losing my crops and livestock due to drought and floods. What can I do to get compensation during such occurrences?",
         "2"
        ],
        [
         "2",
         "3",
         "Visit your nearest **Krishi Vigyan Kendra (KVK)** or **Agricultural University** (e.g., ICAR institutes, state universities like Punjab Agricultural University). These centers offer free training, field demonstrations, and expert guidance on crops/livestock. **State Agriculture Departments** organize farmer fairs and workshops—ask your local extension officer. For hands-on learning, join **Farmer Producer Organizations (FPOs)** or visit **model farms** in your district under government schemes like ATMA. **Dairy cooperatives** (e.g., Amul) provide livestock training. Prioritize KVKs first—they’re tailored for smallholders!",
         "deepseek-deepseek-reasoner",
         "India",
         "I am interested in learning about crops and livestock production. Where can I visit to learn more about crops and livestock production?",
         "3"
        ],
        [
         "3",
         "4",
         "For dryland areas with low rainfall, consider drought-tolerant bean varieties:  \n1. **Lablab Bean** (Hyacinth bean/Val Papdi): Deep roots, survives 60-90 cm annual rainfall.  \n2. **Cowpea** (Lobia): Matures in 65-90 days, grows in sandy loam soils.  \n3. **Moth Bean** (Matki): Short duration (60-75 days), suited for Rajasthan/Gujarat.  \n4. **Horse Gram** (Kulthi): Thrives in poor soils with 50-80 cm rain.  \n5. **Cluster Bean** (Guar): Tolerates heat, dual-purpose (vegetable & gum).  \n\nOpt for short-duration varieties (60-90 days) and intercropping with millets/sorghum. Use seed treatment and mulch to conserve soil moisture.",
         "deepseek-deepseek-reasoner",
         "India",
         "Which bean variety is suitable for dryland agro-ecological zone?",
         "4"
        ],
        [
         "4",
         "5",
         "If you cannot get certified seeds, save seeds from **open-pollinated varieties** (OPVs) or traditional local maize varieties. These include **Vijay Composite**, **Jaipur Composite**, or your region’s native landraces. **Avoid hybrid seeds** (e.g., NK 6240, Pioneer), as they lose yield and vigor when replanted. For saving seeds:  \n1. Select healthy, pest-free plants with strong cobs.  \n2. Let cobs dry fully on the stalk before harvest.  \n3. Store seeds in airtight containers with neem leaves to prevent pests.  \n4. Ensure isolation (200+ meters) from other maize fields to avoid cross-pollination.  \nYields may be 10–20% lower than hybrids, but OPVs are reliable for replanting. Always test seed germination before sowing.",
         "deepseek-deepseek-reasoner",
         "India",
         "If I am unable to acquire certified maize seeds, which variety can I save and replant the next season?",
         "5"
        ],
        [
         "5",
         "6",
         "Chemical pesticides are important tools to control pests and diseases that threaten crops and livestock, but their safety depends entirely on proper use. When used **as directed** (correct dose, timing, and protective gear), registered pesticides can protect yields effectively. **Overuse or misuse** harms human health, kills beneficial insects, contaminates soil/water, and leads to pesticide-resistant pests. Always follow label instructions, avoid spraying near harvest, and never mix chemicals haphazardly. For safer alternatives, combine pesticides with **Integrated Pest Management (IPM)**—like resistant crop varieties, natural predators, and crop rotation. In livestock, use veterinary-approved treatments only; improper antibiotics or pesticides in feed risk residues in milk/meat. Prioritize prevention (clean sheds, balanced feed) to reduce disease. Consult local experts for region-specific, low-toxicity options. **Chemicals are useful but not the only solution—use wisely and sparingly.**",
         "deepseek-deepseek-reasoner",
         "India",
         "Are chemical pesticides important and safe in crop and livestock production?",
         "6"
        ],
        [
         "6",
         "7",
         "To check if your soil is fertile:  \n1. **Color**: Look for dark brown/black soil, which indicates rich organic matter.  \n2. **Texture**: Fertile soil is crumbly, holds shape when squeezed (like a moist ball), but breaks apart easily.  \n3. **Earthworms**: Many earthworms mean healthy, nutrient-rich soil.  \n4. **Plant Health**: Weeds/crops grow vigorously with deep green leaves (unless pests/diseases interfere).  \n5. **Water Absorption**: Soil absorbs rainwater well without pooling or cracking in drought.  \n6. **Smell**: Fertile soil has an earthy, fresh odor.  \n7. **Test Crops**: Plant fast-growing legumes (e.g., cowpea). Lush growth signals good fertility.  \n8. **Soil Testing**: For certainty, send a sample to a lab (or local govt. center) to check pH, nitrogen, phosphorus, and potassium levels.  \n\nAct on these signs and test if unsure—fertile soil ensures better yields!",
         "deepseek-deepseek-reasoner",
         "India",
         "How can I know that my soil is fertile?",
         "7"
        ],
        [
         "7",
         "8",
         "To control weeds effectively:  \n1. **Remove weeds early** by hand or hoe when young (2-3 weeks after sowing).  \n2. Use **mulching** (dry leaves/straw) to block sunlight and suppress growth.  \n3. Practice **crop rotation** and plant dense, fast-growing crops (e.g., cowpea, maize) to outcompete weeds.  \n4. **Intercrop** with cover crops like mustard to reduce weed space.  \n5. Apply **organic herbicides** (vinegar + salt) or chemical herbicides (like 2,4-D for cereals), but follow label instructions and wear protective gear.  \n6. Avoid deep ploughing, which brings buried weed seeds to the surface.  \n7. Ensure timely weeding before weeds flower/seeds form (critical!).  \nCombine these methods for long-term control and healthier soil.",
         "deepseek-deepseek-reasoner",
         "India",
         "How can I best control weeds in my farm?",
         "8"
        ],
        [
         "8",
         "9",
         "Organic fertilizers (like compost, manure) release nutrients slowly, improving soil health and microbial activity over time but may show slower crop response. Synthetic fertilizers (urea, DAP) provide immediate nutrients, boosting yields quickly but can degrade soil if overused. For poor, degraded soils with low organic matter, use organic fertilizers to rebuild fertility. In fertile soils needing quick nutrient boosts (especially during critical growth stages), synthetic fertilizers are effective. Smallholders with access to organic waste (livestock, crop residues) can reduce costs with organic options, while those needing precise nutrient management (e.g., cash crops) may benefit from synthetics. Combining both (applying organic matter annually + targeted synthetic doses) often works best for sustainability and productivity. Always test soil to guide choices.",
         "deepseek-deepseek-reasoner",
         "India",
         "How do organic and synthetic/inorganic fertilizers compare in terms of effectiveness to crop production, and which one would be more suitable for different farming conditions?",
         "9"
        ],
        [
         "9",
         "10",
         "The best time to plant depends on soil moisture, local weather patterns, and crop type. Follow these steps:  \n1. Monitor short-term (7–10 day) rainfall forecasts from trusted sources like IMD (India Meteorological Department).  \n2. Wait for the soil to absorb enough rain (test by squeezing a handful—if it holds shape without dripping, it’s ready).  \n3. Prioritize drought-tolerant varieties (e.g., pearl millet, pigeon pea) to reduce risk.  \n4. Use staggered planting: split your seed stock and sow in 2-3 batches, spaced 1-2 weeks apart, to hedge against dry spells.  \n5. Align with traditional indicators (e.g., flowering of neem trees) alongside modern forecasts.  \nAvoid planting during heavy, erratic downpours—wait for steady, moderate rains to ensure proper seed establishment.",
         "deepseek-deepseek-reasoner",
         "India",
         "Lately, the onset of rains has shown significant variability from season to season. This has affected our ability to judge when to plant. In this scenario, when is the best time to plant?",
         "10"
        ],
        [
         "10",
         "11",
         "**Signs and Solutions for Maize Nutrient Deficiency:**  \n1. **Nitrogen (N):** Older leaves turn pale yellow, stunted growth. Apply urea (split doses: sowing, knee-high, tasseling) or farmyard manure.  \n2. **Phosphorus (P):** Purple-red tint on leaf edges, poor roots. Use DAP/SSP at sowing, place near roots.  \n3. **Potassium (K):** Yellow-brown leaf edges, weak stalks. Apply muriate of potash or wood ash at planting.  \n4. **Zinc (Zn):** White-yellow stripes on young leaves. Spray 0.5% zinc sulfate solution at 15–20-day intervals.  \n5. Test soil before planting to adjust fertilizer use. Mix compost/vermicompost to improve soil health. Avoid excess urea to prevent burning.",
         "deepseek-deepseek-reasoner",
         "India",
         "What are the signs of nutrient deficiency in maize and how can they be corrected?",
         "11"
        ],
        [
         "11",
         "12",
         "To reduce crop losses:  \n1. Dry grains thoroughly (12-14% moisture) on clean tarps/raised platforms, not bare ground.  \n2. Store in airtight containers/hermetic bags or treat storage with neem leaves/approved pesticides.  \n3. Use cold storage for perishables (vegetables/fruits) or sell quickly.  \n\nFor livestock:  \n4. Vaccinate animals against common diseases (e.g., foot-and-mouth) and deworm regularly.  \n5. Provide clean water, balanced feed, and shaded shelters to prevent stress.  \n6. Avoid overcrowding during transport/marketing to reduce injuries.  \n\nGeneral steps:  \n7. Clean storage areas to remove pests/mold.  \n8. Monitor stored crops weekly for spoilage/pests.  \n9. Sell produce when market prices are favorable to avoid long storage risks.  \n10. Seek training from local Krishi Vigyan Kendras (KVKs) on post-harvest techniques.",
         "deepseek-deepseek-reasoner",
         "India",
         "How can I mitigate post-harvest losses in crops and livestock?",
         "12"
        ],
        [
         "12",
         "13",
         "To manage climate change in crop production:  \n1. Grow drought-resistant varieties (e.g., millets, drought-tolerant maize).  \n2. Use drip irrigation or rainwater harvesting to save water.  \n3. Apply organic compost/mulch to retain soil moisture and fertility.  \n4. Practice crop rotation/intercropping (e.g., legumes with cereals) to boost soil health.  \n5. Monitor weather forecasts via apps (e.g., *mKisan*) to plan sowing/harvesting.  \n6. Plant trees (agroforestry) around fields to reduce heat stress and erosion.  \n7. Shift planting dates to avoid extreme heat/rains (follow local advisories).  \n8. Use pest-resistant seeds, as warmer climates increase pest risks.  \n9. Adopt zero-tillage or reduced tillage to protect soil structure.  \n10. Join farmer groups to share climate-smart practices and resources.  \n\nStay updated with local agricultural offices for tailored advice!",
         "deepseek-deepseek-reasoner",
         "India",
         "What are some of the strategies that I can employ to manage climate change in crop production?",
         "13"
        ],
        [
         "13",
         "14",
         "1. **Vaccinate regularly** against common diseases like foot-and-mouth, hemorrhagic septicemia, and brucellosis, following local veterinary guidelines.  \n2. **Maintain biosecurity**: Restrict farm access, quarantine new animals for 2-3 weeks, and disinfect tools/vehicles to prevent disease entry.  \n3. **Practice clean sanitation**: Remove manure daily, disinfect sheds monthly, and ensure clean, dry bedding to reduce infection risks.  \n4. **Provide balanced feed and clean water** to boost immunity; avoid moldy feed or stagnant water sources.  \n5. **Control parasites**: Deworm every 3-6 months and use sprays/dips for ticks, lice, and mites.  \n6. **Monitor health daily**: Check for symptoms like fever, coughing, reduced appetite, or abnormal discharges; isolate sick animals immediately.  \n7. **Dispose of carcasses safely** by deep burial (6+ feet) or incineration to prevent contamination.  \n8. **Avoid overcrowding** to minimize stress and disease spread; ensure proper ventilation in shelters.  \n9. **Collaborate with veterinarians** for timely diagnosis and treatment; keep records of illnesses and medications.  \n10. **Educate yourself** on local disease outbreaks and report unusual symptoms to authorities promptly.  \n\nBy combining prevention, hygiene, and vigilance, you can protect your livestock effectively.",
         "deepseek-deepseek-reasoner",
         "India",
         "What are the best disease management practices in livestock production?",
         "14"
        ],
        [
         "14",
         "15",
         "Farmer groups, FPOs, cooperatives, and CBOs strengthen smallholders by pooling resources, knowledge, and bargaining power. Together, you can buy seeds/fertilizers cheaper in bulk, sell produce at higher prices by avoiding middlemen, and access loans or machinery (e.g., shared tractors). These groups provide training on climate-smart practices, connect you to government schemes (subsidies, insurance), and reduce risks through collective crop planning or storage. Cooperatives also help market produce directly to processors/exporters, ensuring fair prices. By uniting, farmers gain influence in policies and resist exploitation, boosting income and resilience. Joining such organizations empowers you to overcome challenges collectively, not alone.",
         "deepseek-deepseek-reasoner",
         "India",
         "How are Farmer groups, Farmer Producer Organizations, Community Based Organizations and cooperatives important to farmers?",
         "15"
        ],
        [
         "15",
         "1",
         "I'm sorry to hear you're facing this issue. Here are a few steps you can take to improve the situation:\n\n1. **Identify the Pest**: Make sure you have correctly identified the pest. Sometimes, misidentification can lead to using the wrong pesticide, which will be ineffective.\n\n2. **Check Pesticide Expiry**: Ensure the pesticides you're using aren't expired, as expired products lose their effectiveness.\n\n3. **Rotate Pesticides**: Pests can become resistant to a pesticide if it's used repeatedly. Rotating pesticides with different active ingredients can help prevent this resistance.\n\n4. **Integrated Pest Management (IPM)**: Consider using IPM practices which include cultural, mechanical, biological, and chemical methods to control pests. This holistic approach can be more effective than relying solely on chemicals.\n\n5. **Correct Dosage and Application**: Make sure you're using the correct dosage and application method as per the label instructions. Applying less or more than recommended can reduce effectiveness.\n\n6. **Soil Health and Crop Rotation**: Maintain good soil health and practice crop rotation to naturally deter pests. Healthy plants are more resistant to pest attacks.\n\n7. **Local Extension Services**: Reach out to your local agricultural extension officer for specific advice tailored to your situation and region.\n\nFollowing these steps should help improve pest control on your farm.",
         "openai-gpt-4o-2024-08-06",
         "India",
         "I have been applying different pesticides to control pests on my farm. However, they seem not to be effective, what can I do?",
         "16"
        ],
        [
         "16",
         "2",
         "I'm sorry to hear about the impact of droughts and floods on your farm. To get compensation, you should first ensure that you are enrolled in the Pradhan Mantri Fasal Bima Yojana (PMFBY) for crops and the Livestock Insurance Scheme for your animals, if available in your area. These schemes provide insurance against losses due to natural calamities. Make sure to register your crop and livestock details with the local agriculture department before the sowing and coverage period begins.\n\nIf you experience a loss, report it immediately to your insurance company or local agricultural officer. Keep records of your enrollment, premium payments, and any communication with the insurance provider. For additional support, check if your state government offers any relief schemes and apply accordingly. Maintaining accurate records and quick reporting will help facilitate your compensation claim. It's also helpful to participate in local farmer groups to stay informed about new government schemes and assistance programs.",
         "openai-gpt-4o-2024-08-06",
         "India",
         "I have been losing my crops and livestock due to drought and floods. What can I do to get compensation during such occurrences?",
         "17"
        ],
        [
         "17",
         "3",
         "To learn more about crops and livestock production, you can start by visiting your nearest Krishi Vigyan Kendra (KVK). KVKs are agricultural science centers in India that provide practical training and advice to farmers. They offer workshops and demonstrations on various farming techniques and technologies suitable for your region.\n\nAdditionally, you can participate in field days organized by agricultural universities or research institutions in your area. These events showcase the latest advancements in crop and livestock management. Also, consider joining local farmers' groups or cooperatives, where experienced farmers share their knowledge and experiences.\n\nMany government agricultural departments organize training programs, so keep an eye out for these opportunities. Finally, contacting NGOs that focus on agriculture can also be helpful, as they often provide hands-on training and resources for farmers.",
         "openai-gpt-4o-2024-08-06",
         "India",
         "I am interested in learning about crops and livestock production. Where can I visit to learn more about crops and livestock production?",
         "18"
        ],
        [
         "18",
         "4",
         "For a dryland agro-ecological zone, it's important to choose a bean variety that is drought-tolerant and can thrive in less water. One suitable variety is the **Moth Bean (Vigna aconitifolia)**, often grown in dry areas due to its high drought resistance. Another good option is the **Cowpea (Vigna unguiculata)**, also known for its ability to grow well in dry conditions. These varieties can survive with minimal rainfall and have a deep root system that helps them access moisture from deeper soil layers. When choosing seeds, always opt for certified seeds from a reliable source to ensure good germination and growth. Additionally, consider implementing soil moisture conservation techniques such as mulching to retain soil moisture and improve yield. Rotate your crops annually to maintain soil fertility and prevent pest buildup. Consulting with your local agricultural extension officer can provide guidance specific to your area's climate and soil conditions.",
         "openai-gpt-4o-2024-08-06",
         "India",
         "Which bean variety is suitable for dryland agro-ecological zone?",
         "19"
        ],
        [
         "19",
         "5",
         "If certified maize seeds are not available, it's best to use open-pollinated varieties (OPVs) for saving and replanting. OPVs are stable and produce seeds that retain the characteristics of the parent plant. Popular OPVs in India include varieties like Shakti, Navjot, and Kisan Composite. Ensure that the plants you select for seed saving are healthy, disease-free, and have desirable traits like good cob size and resistance to pests. Avoid saving seeds from hybrid varieties, as they do not breed true and can lead to reduced yields and unpredictable traits. When harvesting, let the cobs mature fully on the plant before picking. After harvesting, dry the seeds properly in a shaded area and store them in a cool, dry place. Proper seed selection and storage will help you maintain quality seeds for the next planting season.",
         "openai-gpt-4o-2024-08-06",
         "India",
         "If I am unable to acquire certified maize seeds, which variety can I save and replant the next season?",
         "20"
        ],
        [
         "20",
         "6",
         "Chemical pesticides can play a key role in protecting crops and livestock from pests and diseases, which can improve yields and reduce losses. However, it's important to use them safely and judiciously. Overuse or incorrect application of pesticides can harm beneficial insects, soil health, and water sources, and can also lead to pest resistance. Always choose the right pesticide for the specific pest problem, and follow the label instructions closely, including recommended dosages and safety measures. Use protective gear during application to prevent harm to yourself and others. Consider integrating chemical pesticides with other pest management strategies, such as biological controls and crop rotation, to build a more sustainable approach. Lastly, ensure proper storage of pesticides to avoid accidental contamination or poisoning. This balanced approach can help you keep your crops and livestock healthy while minimizing risks to the environment and human health.",
         "openai-gpt-4o-2024-08-06",
         "India",
         "Are chemical pesticides important and safe in crop and livestock production?",
         "21"
        ],
        [
         "21",
         "7",
         "To determine if your soil is fertile, you should consider a few key indicators. Firstly, conduct a soil test by sending a soil sample to a local agricultural laboratory or using a soil testing kit. The test will tell you about essential nutrients such as nitrogen, phosphorus, and potassium, as well as pH levels. Ideal pH for most crops ranges from 6 to 7. Secondly, observe the soil structure: fertile soil typically has a crumbly texture and dark color, indicating good organic matter. Check for earthworms—if present in good numbers, they often signify healthy soil. \n\nAnother sign of fertility is the presence of a diverse range of plants and roots, which suggests a balanced ecosystem. Additionally, crop performance is a practical indicator: if your plants are growing well with good yields year after year, it’s a positive sign of fertile soil. Lastly, ensure proper drainage; water should not pool or drain too quickly. Regularly rotate crops and add organic matter like compost or manure to maintain and improve soil fertility over time.",
         "openai-gpt-4o-2024-08-06",
         "India",
         "How can I know that my soil is fertile?",
         "22"
        ],
        [
         "22",
         "8",
         "Controlling weeds effectively involves a combination of practices to minimize their impact on your crops. First, aim to use a good crop rotation plan. This helps disrupt the life cycle of weeds, making them less likely to adapt and spread. Second, consider mulching your fields with organic materials such as straw or grass clippings. Mulch helps suppress weed growth by blocking sunlight.\n\nAdditionally, practice timely and regular manual weeding, especially during the early stages of crop growth when weeds compete most vigorously. For larger areas, you might consider mechanical weeding tools like hand hoes or small tractor-mounted implements. You can also use herbicides, but it's crucial to choose the right type appropriate for your crop and follow the recommended dosage carefully to avoid damage to your plants.\n\nLastly, maintaining healthy soil through proper fertilization and irrigation boosts crop resilience, limiting weed competition. Remember to always be alert and identify weed outbreaks early so you can address them before they become a larger issue.",
         "openai-gpt-4o-2024-08-06",
         "India",
         "How can I best control weeds in my farm?",
         "23"
        ],
        [
         "23",
         "9",
         "Both organic and synthetic (inorganic) fertilizers have their advantages and can play important roles in crop production, depending on farming conditions.\n\nOrganic fertilizers, like compost and manure, improve soil health by adding organic matter, which enhances soil structure and water retention. They also promote beneficial microbial activity. However, they release nutrients slowly, which might not meet the immediate needs of fast-growing crops.\n\nSynthetic fertilizers, on the other hand, offer specific nutrients that plants can quickly absorb, leading to faster growth and higher yields. They are more consistent in nutrient content and are easier to apply in exact amounts. However, excessive or improper use can lead to soil degradation and environmental pollution.\n\nFor smallholder farmers with well-maintained soils aiming for quick results, synthetic fertilizers might be more suitable. However, for those focusing on long-term soil health and sustainability, incorporating organic fertilizers can be beneficial. Ideally, a balanced approach using both types can optimize crop production and maintain soil health.",
         "openai-gpt-4o-2024-08-06",
         "India",
         "How do organic and synthetic/inorganic fertilizers compare in terms of effectiveness to crop production, and which one would be more suitable for different farming conditions?",
         "24"
        ],
        [
         "24",
         "10",
         "The variability in rainfall can indeed make planting decisions challenging. To minimize risks, it's important to rely on both historical data and real-time information. First, assess the average onset of rains in your region over the past few years. This gives you a general idea of when the rains typically start. Next, monitor local weather forecasts and updates closely for any changes or expected rainfall patterns. \n\nConsider using soil moisture sensors if available, to determine optimal conditions for planting without waiting too late or planting too early. Additionally, try to diversify your crops if possible, choosing varieties that can tolerate varying water levels or are drought-resistant. The integration of weather forecasting apps or services specifically designed for farmers, like a mobile app, can also provide timely updates. Lastly, consult with local agricultural officers or extension services for guidance suited to current conditions. This approach will help you make informed planting decisions despite the uncertainties in rainfall.",
         "openai-gpt-4o-2024-08-06",
         "India",
         "Lately, the onset of rains has shown significant variability from season to season. This has affected our ability to judge when to plant. In this scenario, when is the best time to plant?",
         "25"
        ],
        [
         "25",
         "11",
         "Signs of nutrient deficiency in maize include yellowing or paling of leaves, stunted growth, and poor ear development. Specifically, nitrogen deficiency causes leaves to turn pale green or yellow, starting from the bottom, while phosphorus deficiency leads to dark green or purplish leaves and poorly filled cobs. Potassium deficiency manifests as yellowing and scorching of leaf edges, primarily on older leaves.\n\nTo correct these deficiencies, conduct a soil test to determine specific nutrient needs. For nitrogen deficiency, apply urea or ammonium nitrate. Use diammonium phosphate (DAP) or single superphosphate (SSP) to address phosphorus deficiency. For potassium, apply muriate of potash (MOP). Ensure balanced fertilization by also including micronutrients as needed. Practice crop rotation and incorporate organic manure or compost to improve soil health and nutrient availability over time.",
         "openai-gpt-4o-2024-08-06",
         "India",
         "What are the signs of nutrient deficiency in maize and how can they be corrected?",
         "26"
        ],
        [
         "26",
         "12",
         "To reduce post-harvest losses, start by ensuring timely and proper harvesting when crops are at the right maturity. Use clean and sharp equipment to minimize damage. After harvesting, quickly move crops to a shaded, cool area to reduce exposure to pests and sunlight. For drying grains, use clean mats or raised platforms to prevent contamination and moisture absorption from the ground. In storage, ensure that your facilities are clean, dry, and well-ventilated; consider using airtight bins or bags to protect against pests and moisture.\n\nFor livestock, prioritize proper handling and transport to avoid stress and injury. Maintain clean slaughter and meat-processing environments to prevent contamination. Utilize cold storage or appropriate preservation techniques like drying or smoking to extend the shelf life of perishable products. Regularly inspect stored crops and products for signs of pests or spoilage and act quickly if issues arise. Finally, take advantage of local training programs or government-supported advice to access new technologies and strategies tailored to your specific needs.",
         "openai-gpt-4o-2024-08-06",
         "India",
         "How can I mitigate post-harvest losses in crops and livestock?",
         "27"
        ],
        [
         "27",
         "13",
         "To manage climate change in crop production, you can use several strategies to ensure your farm remains productive and resilient. First, consider diversifying your crops by growing multiple types of crops instead of relying on just one. This can reduce risk if some crops don't do well due to changing weather patterns. Second, adopt improved irrigation techniques, such as drip or sprinkler systems, to use water more efficiently and conserve resources during periods of drought. Third, practice soil conservation techniques like mulching or cover cropping to maintain soil moisture and fertility. Fourth, choose climate-resilient crop varieties that are more tolerant to drought, heat, or pests. Fifth, implement agroforestry by integrating trees with crops, which can provide shade, reduce erosion, and improve biodiversity. Lastly, stay informed about weather forecasts and climate patterns through trusted sources to make timely and informed decisions about planting and harvests. These strategies together can enhance your farm's capacity to cope with the uncertainties of climate change.",
         "openai-gpt-4o-2024-08-06",
         "India",
         "What are some of the strategies that I can employ to manage climate change in crop production?",
         "28"
        ],
        [
         "28",
         "14",
         "To effectively manage diseases in livestock, start by ensuring good hygiene in your farm. Clean animal housing regularly to prevent the buildup of manure and other waste, which can harbor disease. Provide clean, fresh water and nutritious feed to your animals, as well-maintained animals have stronger immunity. Implement a vaccination schedule for your livestock to protect them from common diseases. Quarantine any new or sick animals to prevent disease spread among your herd. Regularly consult with a veterinarian for health checks and advice on disease prevention. Keep detailed records of your animals' health and treatments to identify and manage disease trends. Practice good biosecurity measures, such as controlling access to your farm and disinfecting equipment. Finally, educate yourself and other farm workers about signs of common diseases to ensure early detection and prompt treatment.",
         "openai-gpt-4o-2024-08-06",
         "India",
         "What are the best disease management practices in livestock production?",
         "29"
        ],
        [
         "29",
         "15",
         "Farmer groups, Farmer Producer Organizations (FPOs), Community Based Organizations (CBOs), and cooperatives are essential for smallholder farmers for several reasons. First, by coming together, farmers can pool their resources and buy seeds, fertilizers, and other inputs in bulk at lower prices. This helps reduce costs and increase profit margins. Second, these organizations give farmers better bargaining power in the market, allowing them to negotiate better prices for their produce. \n\nThird, Farmer groups and cooperatives often provide access to important resources like credit and financial services, which are harder to obtain individually. Fourth, they serve as a platform for knowledge sharing, where farmers can learn new farming techniques, pest management strategies, and sustainable practices. Fifth, being part of these groups often enables farmers to participate in government programs and receive subsidies more easily.\n\nFinally, these organizations can help farmers manage risks better by providing support during natural disasters or market fluctuations. Overall, they empower farmers by improving access to resources, information, and markets, leading to increased productivity and income stability.",
         "openai-gpt-4o-2024-08-06",
         "India",
         "How are Farmer groups, Farmer Producer Organizations, Community Based Organizations and cooperatives important to farmers?",
         "30"
        ],
        [
         "30",
         "1",
         "# Improving Your Pest Control Approach\n\nWhen pesticides aren't working effectively, it may be due to pest resistance, incorrect application timing, wrong dosage, or using unsuitable products for your specific pests. First, identify your pests correctly by consulting your local agricultural extension office or using pest identification apps. Consider adopting Integrated Pest Management (IPM) practices by combining multiple strategies—crop rotation, resistant varieties, natural predators, and targeted pesticide use only when necessary. Ensure you're applying pesticides at the right time (usually early morning or evening), in correct concentration, and with proper equipment maintenance. If you must use chemicals, rotate between different pesticide classes to prevent resistance development. Try incorporating natural solutions like neem oil, beneficial insects, or trap crops around your fields. Remember that healthy soil builds resilient plants, so focus on improving soil health through compost and organic matter addition.",
         "anthropic-claude-3-7-sonnet-20250219",
         "India",
         "I have been applying different pesticides to control pests on my farm. However, they seem not to be effective, what can I do?",
         "31"
        ],
        [
         "31",
         "2",
         "# Compensation Options for Crop and Livestock Losses\n\nDear Farmer, you can enroll in the Pradhan Mantri Fasal Bima Yojana (PMFBY) through your local bank, agricultural extension office, or Common Service Center to get compensation for crop losses due to natural disasters. For livestock, the Livestock Insurance Scheme offers protection against death of animals—contact your local veterinary hospital or Krishi Vigyan Kendra to enroll. Keep detailed records of your farming activities, including photographs of damaged crops/livestock, cultivation records, and receipts of inputs purchased. After a disaster, immediately inform your bank, insurance provider, and local agriculture department, who will send officials to assess the damage. You can also seek assistance from your Gram Panchayat to access state disaster relief funds when available. Many banks also offer loan restructuring or moratoriums during officially declared disasters, so speak with your bank manager about these options.",
         "anthropic-claude-3-7-sonnet-20250219",
         "India",
         "I have been losing my crops and livestock due to drought and floods. What can I do to get compensation during such occurrences?",
         "32"
        ],
        [
         "32",
         "3",
         "# Learning Resources for Crops and Livestock Production\n\nYou can visit your nearest Krishi Vigyan Kendra (KVK) which offers training programs and demonstrations specifically for farmers like you. Your district Agricultural Extension Office provides free advisory services and often conducts field visits and training sessions. State Agricultural Universities regularly host farmer training programs, field days, and maintain demonstration farms where you can see modern practices firsthand. The Indian Council of Agricultural Research (ICAR) institutes specialize in specific crops or livestock and welcome farmer visits. Many successful progressive farmers in your area also allow visits through farmer-to-farmer programs organized by the government. Additionally, agricultural exhibitions and melas (fairs) held throughout the year showcase new technologies and practices. You can also access Kisan Call Centers by dialing 1800-180-1551 for information about upcoming farmer training events near you.",
         "anthropic-claude-3-7-sonnet-20250219",
         "India",
         "I am interested in learning about crops and livestock production. Where can I visit to learn more about crops and livestock production?",
         "33"
        ],
        [
         "33",
         "4",
         "# Bean Varieties for Dryland Farming\n\nFor dryland conditions in India, I recommend growing these drought-tolerant bean varieties:\n\n**Green Gram (Moong)**: IPM 02-3 (Pusa Vishal) and SML-668 mature in 65-70 days and can survive with limited water.\n\n**Black Gram (Urad)**: T-9 and PU-31 varieties perform well in dryland regions with yields of 8-10 quintals per hectare.\n\n**Pigeon Pea (Arhar)**: ICPL 87119 (Asha) and BSMR-736 are excellent drought-tolerant varieties with deep root systems.\n\n**Cowpea**: Pusa Komal and C-152 can thrive with minimal rainfall and mature in just 60-65 days.\n\nThese varieties require minimal irrigation, can withstand dry spells, and provide reasonable yields even under water stress conditions. For best results, use proper seed treatment with Rhizobium culture and maintain wider spacing than in irrigated conditions.",
         "anthropic-claude-3-7-sonnet-20250219",
         "India",
         "Which bean variety is suitable for dryland agro-ecological zone?",
         "34"
        ],
        [
         "34",
         "5",
         "# Maize Seed Saving Advice\n\nYou should save and replant only open-pollinated varieties (OPVs) of maize, not hybrids. Hybrid seeds will give much lower yields when replanted, while OPVs like Navjot, Kisan, Amber, or Jawahar maintain their characteristics across seasons. For seed saving, select 50-100 healthy cobs from your best-performing plants located in the middle of your field (not from border rows). Choose plants that show disease resistance, good height, and strong stalks. Dry the selected cobs thoroughly until seeds reach 12-14% moisture content, then shell and store them in airtight containers with neem leaves to prevent pest damage. Though saved seeds may yield slightly less than fresh certified seeds, proper selection and storage can still provide good harvests. Local agricultural extension offices can help identify which specific OPVs grow best in your region.",
         "anthropic-claude-3-7-sonnet-20250219",
         "India",
         "If I am unable to acquire certified maize seeds, which variety can I save and replant the next season?",
         "35"
        ],
        [
         "35",
         "6",
         "# Chemical Pesticides in Farming: Important but Need Careful Use\n\nChemical pesticides can be important tools for protecting crops and livestock from pests and diseases that reduce yields and income. When used correctly, they help preserve crop quality and quantity, potentially improving your farm's productivity and profitability. \n\nHowever, pesticides must be used with caution as they can be harmful to human health, beneficial insects like pollinators, livestock, and the environment if misused. Always wear protective clothing (gloves, masks, full-sleeve shirts) when applying pesticides, follow label instructions precisely, and maintain proper waiting periods before harvest or slaughter. \n\nMany chemical pesticides can leave residues in food products, soil and water, which is why integrated pest management (IPM) approaches that combine minimal chemical use with biological controls and good agricultural practices are often safer and more sustainable. Consider alternatives like neem-based products, biological controls, and crop rotation to reduce dependency on chemical pesticides while still managing pests effectively. \n\nRemember that some pesticides available in local markets might be banned or restricted elsewhere, so seek advice from your local Krishi Vigyan Kendra (KVK) or agricultural extension office about which products are legal and appropriate for your specific needs.",
         "anthropic-claude-3-7-sonnet-20250219",
         "India",
         "Are chemical pesticides important and safe in crop and livestock production?",
         "36"
        ],
        [
         "36",
         "7",
         "# How to Check Your Soil Fertility\n\nGood soil fertility shows in several ways that you can observe yourself. Fertile soil usually appears dark brown or black, feels crumbly when dry, and holds shape without breaking apart when moist. Healthy plants with deep green leaves, vigorous growth, and good yields are strong indicators of fertile soil. You can do a simple earthworm count by digging a 30cm cube of soil - finding 10 or more earthworms suggests good fertility. Water infiltration test is also useful - fertile soil absorbs water quickly instead of forming puddles. The Indian government offers affordable soil testing through Krishi Vigyan Kendras (KVKs) and agricultural extension centers, which provide detailed nutrient information. Many districts also have mobile soil testing vans visiting villages periodically. For a basic home test, place a handful of soil in a clear bottle with water, shake well, and let it settle - good soil shows distinct layers with organic matter floating on top.",
         "anthropic-claude-3-7-sonnet-20250219",
         "India",
         "How can I know that my soil is fertile?",
         "37"
        ],
        [
         "37",
         "8",
         "# Weed Control for Your Farm\n\nControlling weeds starts with timely identification and action before they compete with your crops for nutrients, water, and sunlight. For small plots, hand weeding and using simple tools like hoes and small weeders is effective, especially when weeds are young and soil is slightly moist. Practice crop rotation to disrupt weed cycles, and consider intercropping compatible plants that can suppress weeds naturally. Apply mulch (straw, dried leaves, or plastic sheets) around plants to prevent weed growth while conserving soil moisture. Maintain proper spacing between plants to create a shaded canopy that reduces weed growth. For larger areas, consider appropriate pre-emergence or post-emergence herbicides, but always follow label instructions and wear protective clothing. Keep field edges and irrigation channels clean to prevent weeds from spreading seeds into your fields. Remember that integrated weed management—combining multiple methods—provides the most sustainable and effective control.",
         "anthropic-claude-3-7-sonnet-20250219",
         "India",
         "How can I best control weeds in my farm?",
         "38"
        ],
        [
         "38",
         "9",
         "# Comparing Organic and Synthetic Fertilizers\n\nOrganic fertilizers (like compost, manure, and vermicompost) release nutrients slowly, improving soil health, water retention, and beneficial microorganism activity over time, but may take longer to show results. Synthetic fertilizers (like urea, DAP, NPK) provide immediate nutrients in exact amounts, giving faster visible growth, but can lead to soil acidification and don't improve soil structure. \n\nOrganic options work well in rain-fed conditions, offering drought resistance through better soil structure, while synthetic fertilizers may be more suitable during critical growth stages or for correcting severe deficiencies quickly. Cost-wise, organic fertilizers can be produced on-farm using local materials, reducing expenses, while synthetic fertilizers require purchase but provide precise nutrient control. \n\nFor best results, many successful farmers in India use a balanced approach—applying organic fertilizers as a base for soil health, supplemented with targeted synthetic fertilizers when specific nutrients are needed, based on soil testing and crop requirements.",
         "anthropic-claude-3-7-sonnet-20250219",
         "India",
         "How do organic and synthetic/inorganic fertilizers compare in terms of effectiveness to crop production, and which one would be more suitable for different farming conditions?",
         "39"
        ],
        [
         "39",
         "10",
         "# Adapting Planting Times to Variable Rainfall\n\nYou're right that rainfall patterns have become less predictable in recent years, making traditional planting calendars less reliable. The best approach now is to focus on soil moisture rather than calendar dates - seeds need adequate moisture to germinate properly, so plant when your soil has good moisture content but isn't waterlogged. For most crops, monitor reliable 5-7 day weather forecasts through your local Krishi Vigyan Kendra (KVK) or weather apps and aim to plant just before predicted rainfall events. Consider practicing staggered planting where you plant portions of your field at 7-10 day intervals to spread your risk. Drought-tolerant varieties like improved jowar, bajra, or short-duration rice varieties offer better security in uncertain rainfall conditions. Keep your field prepared in advance so you can quickly plant when conditions become favorable. If possible, collect rainwater in farm ponds or implement simple water conservation techniques to supplement irrigation during dry spells.",
         "anthropic-claude-3-7-sonnet-20250219",
         "India",
         "Lately, the onset of rains has shown significant variability from season to season. This has affected our ability to judge when to plant. In this scenario, when is the best time to plant?",
         "40"
        ],
        [
         "40",
         "11",
         "# Signs of Nutrient Deficiency in Maize and Solutions\n\nNitrogen deficiency shows as yellowing of older leaves in a V-pattern from the tip to the base, which can be corrected by applying urea or farmyard manure. Phosphorus-deficient plants develop purplish leaves and stunted growth, requiring application of DAP (diammonium phosphate) or single superphosphate. Potassium shortage appears as yellowing and browning along the edges of older leaves - apply muriate of potash (MOP) to address this problem. Zinc deficiency causes white bands between leaf veins and shortens plant internodes, which can be fixed with zinc sulfate application (either as soil treatment or foliar spray). Magnesium shortage shows as yellowing between veins while veins stay green, correctable by applying magnesium sulfate. For best results, conduct a soil test before planting to know exactly which nutrients your soil lacks. Apply organic matter regularly to improve overall soil fertility and nutrient retention. In severe cases, a balanced NPK fertilizer combined with micronutrient mixtures specific for maize can quickly address multiple deficiencies at once.",
         "anthropic-claude-3-7-sonnet-20250219",
         "India",
         "What are the signs of nutrient deficiency in maize and how can they be corrected?",
         "41"
        ],
        [
         "41",
         "12",
         "# Reducing Post-Harvest Losses in Crops and Livestock\n\nHarvest crops at the right maturity and during cooler parts of the day to reduce damage and spoilage. Dry your grains and pulses properly until they reach 10-12% moisture content before storage to prevent mold growth. Store crops in clean, dry containers like hermetic bags or metal bins that protect against pests, moisture, and air. For fruits and vegetables, use clean crates, avoid overpacking, and keep them in cool, shaded areas if cold storage isn't available. For livestock products, ensure clean milking procedures and use proper containers to store milk, ideally in cool conditions. Keep eggs clean, collect them frequently, and store pointy-end down in a cool place. Process meat products quickly after slaughter and use salt preservation if refrigeration isn't possible. Regularly inspect stored products for any signs of spoilage or pest damage. Joining a farmer group to share cold storage costs or processing equipment can also significantly reduce losses.",
         "anthropic-claude-3-7-sonnet-20250219",
         "India",
         "How can I mitigate post-harvest losses in crops and livestock?",
         "42"
        ],
        [
         "42",
         "13",
         "# Climate Change Management Strategies for Crop Production\n\nNamaste! Here are practical strategies to manage climate change effects on your crops:\n\n1. Plant drought-resistant varieties that can withstand water stress during dry periods.\n\n2. Implement efficient water management through rainwater harvesting, farm ponds, and drip irrigation to conserve water.\n\n3. Practice crop diversification by growing multiple crops together to reduce risk if one crop fails due to extreme weather.\n\n4. Adjust your planting calendar based on changing rainfall patterns and seasonal shifts.\n\n5. Build healthy soil by adding organic matter like compost and farmyard manure to improve water retention.\n\n6. Consider agroforestry by integrating suitable trees with your crops to provide shade and stabilize farm microclimate.\n\n7. Use mulching to conserve soil moisture and prevent erosion during heavy rains.\n\n8. Try short-duration crop varieties that can be harvested before extreme weather events typically occur.\n\n9. Stay informed about weather forecasts through your local Krishi Vigyan Kendra (KVK) or mobile apps to plan farming activities.\n\n10. Where available, enroll in crop insurance schemes like Pradhan Mantri Fasal Bima Yojana for financial protection against climate-related crop losses.",
         "anthropic-claude-3-7-sonnet-20250219",
         "India",
         "What are some of the strategies that I can employ to manage climate change in crop production?",
         "43"
        ],
        [
         "43",
         "14",
         "# Best Disease Management Practices for Livestock\n\nNamaste farmer, preventing livestock diseases is much easier than treating them! \n\nFirst, maintain clean housing with proper ventilation and regularly remove animal waste to prevent infection spread. Always quarantine new animals for at least 14 days before introducing them to your herd or flock. Follow a proper vaccination schedule as recommended by your local veterinarian for diseases common in your area like Foot and Mouth Disease, Hemorrhagic Septicemia, and Black Quarter. Provide balanced nutrition and clean drinking water to strengthen animals' natural immunity. Practice good biosecurity by limiting visitors to your animal areas and using footbaths with disinfectant at entrances. Regular deworming (every 3-6 months) helps control internal parasites that weaken animals. Keep records of vaccinations, treatments, and any illnesses to track health patterns. Lastly, quickly isolate sick animals and contact your veterinarian when you notice unusual symptoms like reduced appetite, abnormal droppings, or changes in behavior.",
         "anthropic-claude-3-7-sonnet-20250219",
         "India",
         "What are the best disease management practices in livestock production?",
         "44"
        ],
        [
         "44",
         "15",
         "# Importance of Farmer Organizations for Smallholders\n\nFarmer groups, FPOs, CBOs, and cooperatives give you strength in numbers by allowing you to buy farm inputs in bulk at lower prices and sell your produce collectively for better rates. These organizations help you access affordable loans, quality seeds, fertilizers, and modern farm equipment that might be too expensive to purchase individually. By joining forces, you can share knowledge, learn new farming techniques, and solve common problems together through regular meetings and trainings. These groups provide marketing support, helping you reach larger buyers and sometimes even export markets that are impossible to access alone. They can establish processing units to add value to your crops, turning raw produce into products that fetch higher prices. During difficult times like droughts or floods, these organizations provide crucial support through insurance schemes or emergency funds. Government schemes and subsidies often prioritize organized farmer groups, making it easier for you to benefit from these programs. As a member, you also gain a stronger voice in agricultural policy decisions that affect your livelihood and future.",
         "anthropic-claude-3-7-sonnet-20250219",
         "India",
         "How are Farmer groups, Farmer Producer Organizations, Community Based Organizations and cooperatives important to farmers?",
         "45"
        ],
        [
         "45",
         "1",
         "First, identify the specific pest and confirm it matches the pesticide you are using.  \nSecond, check if the pesticide is still within its expiry date and confirm you are mixing it correctly.  \nThird, rotate different classes of pesticides to prevent pest resistance from building up.  \nFourth, apply pesticides only at the right time of day and under recommended weather conditions for best results.  \nFifth, scout your fields regularly to catch pest problems early and apply treatment promptly.  \nSixth, use cultural methods like removing and destroying infested crop residues to reduce pest habitat.  \nFinally, consider integrating biological controls (like beneficial insects) with chemical treatments for a more sustainable solution.",
         "openai-o1-2024-12-17",
         "India",
         "I have been applying different pesticides to control pests on my farm. However, they seem not to be effective, what can I do?",
         "46"
        ],
        [
         "46",
         "2",
         "You should consider enrolling in government-backed crop insurance schemes like the Pradhan Mantri Fasal Bima Yojana (PMFBY).  \nSimilarly, for livestock, look into government livestock insurance programs offered by some state animal husbandry departments.  \nAlways keep all required documents ready, such as land records, insurance policy details, and proof of loss (photos or local authority certification).  \nReport any damage to your insurance company or local agricultural office as soon as possible after the event.  \nClaim procedures usually include field inspections, so cooperate with officials who visit your farm.  \nYou can also ask your local agriculture extension officer or Krishi Vigyan Kendra for details on government relief funds.  \nKeep in touch with your village panchayat or block office, as they can guide you on additional compensation or emergency relief measures.  \nFinally, try to diversify crops and livestock to reduce risk, and adopt climate-resilient farming practices for long-term safety.",
         "openai-o1-2024-12-17",
         "India",
         "I have been losing my crops and livestock due to drought and floods. What can I do to get compensation during such occurrences?",
         "47"
        ],
        [
         "47",
         "3",
         "Your local Krishi Vigyan Kendra (KVK) is a great place to start. They provide hands-on training, demonstration plots, and scientific guidance on both crop cultivation and livestock rearing. Your state’s agriculture department offices often host workshops and awareness programs. Agricultural universities sometimes organize field days open to local farmers. District-level demonstration farms and research stations showcase best practices for different crops and animals. Attending farmer field schools run by NGOs or self-help groups is another good option. Accredited veterinary hospitals or animal husbandry centers can help you learn about animal health and nutrition. You can also visit progressive farmers in your region to see advanced methods in action. Make sure to keep notes and ask questions wherever you go.",
         "openai-o1-2024-12-17",
         "India",
         "I am interested in learning about crops and livestock production. Where can I visit to learn more about crops and livestock production?",
         "48"
        ],
        [
         "48",
         "4",
         "Cowpea (also called lobia) is one of the best bean options for dryland conditions due to its drought tolerance. Among cowpea varieties, Pant Lobia-3 (PL-3) and C-152 are commonly recommended for low-rainfall regions. These varieties can perform well even with limited water, provided the soil is well-drained. Prepare a firm seedbed and sow seeds at a depth of about 3–5 cm for better germination. Apply well-decomposed farmyard manure or compost to enhance soil fertility. Avoid waterlogging by ensuring proper field drainage. Regularly remove weeds, especially during early plant growth. Timely pest and disease management will help maximize yield. Harvest once the pods are fully matured and dry to maintain quality seeds.",
         "openai-o1-2024-12-17",
         "India",
         "Which bean variety is suitable for dryland agro-ecological zone?",
         "49"
        ],
        [
         "49",
         "5",
         "You can save and replant open-pollinated maize varieties, not hybrids, because open-pollinated varieties produce seed with stable traits. These varieties allow you to harvest and reuse the seed for several seasons if properly handled. Choose a locally adapted open-pollinated variety recommended by your nearby agricultural department or Krishi Vigyan Kendra. Always select seed from healthy, high-yielding plants without signs of disease or pest damage. Dry the cobs thoroughly in the sun, then shell and clean the kernels before storing in a cool, dry, and airtight container. Doing so helps maintain high germination rates for the next season. Make sure to keep these varieties isolated from other maize crops to prevent cross-pollination. Consult your local agricultural extension officer if you need help identifying a reliable open-pollinated maize variety in your region.",
         "openai-o1-2024-12-17",
         "India",
         "If I am unable to acquire certified maize seeds, which variety can I save and replant the next season?",
         "50"
        ]
       ],
       "shape": {
        "columns": 6,
        "rows": 135
       }
      },
      "text/html": [
       "<div>\n",
       "<style scoped>\n",
       "    .dataframe tbody tr th:only-of-type {\n",
       "        vertical-align: middle;\n",
       "    }\n",
       "\n",
       "    .dataframe tbody tr th {\n",
       "        vertical-align: top;\n",
       "    }\n",
       "\n",
       "    .dataframe thead th {\n",
       "        text-align: right;\n",
       "    }\n",
       "</style>\n",
       "<table border=\"1\" class=\"dataframe\">\n",
       "  <thead>\n",
       "    <tr style=\"text-align: right;\">\n",
       "      <th></th>\n",
       "      <th>question_id</th>\n",
       "      <th>answer</th>\n",
       "      <th>model</th>\n",
       "      <th>country</th>\n",
       "      <th>question</th>\n",
       "      <th>response_id</th>\n",
       "    </tr>\n",
       "  </thead>\n",
       "  <tbody>\n",
       "    <tr>\n",
       "      <th>0</th>\n",
       "      <td>1</td>\n",
       "      <td>Your pesticides may not work due to resistance...</td>\n",
       "      <td>deepseek-deepseek-reasoner</td>\n",
       "      <td>India</td>\n",
       "      <td>I have been applying different pesticides to c...</td>\n",
       "      <td>1</td>\n",
       "    </tr>\n",
       "    <tr>\n",
       "      <th>1</th>\n",
       "      <td>2</td>\n",
       "      <td>To claim compensation for crop/livestock losse...</td>\n",
       "      <td>deepseek-deepseek-reasoner</td>\n",
       "      <td>India</td>\n",
       "      <td>I have been losing my crops and livestock due ...</td>\n",
       "      <td>2</td>\n",
       "    </tr>\n",
       "    <tr>\n",
       "      <th>2</th>\n",
       "      <td>3</td>\n",
       "      <td>Visit your nearest **Krishi Vigyan Kendra (KVK...</td>\n",
       "      <td>deepseek-deepseek-reasoner</td>\n",
       "      <td>India</td>\n",
       "      <td>I am interested in learning about crops and li...</td>\n",
       "      <td>3</td>\n",
       "    </tr>\n",
       "    <tr>\n",
       "      <th>3</th>\n",
       "      <td>4</td>\n",
       "      <td>For dryland areas with low rainfall, consider ...</td>\n",
       "      <td>deepseek-deepseek-reasoner</td>\n",
       "      <td>India</td>\n",
       "      <td>Which bean variety is suitable for dryland agr...</td>\n",
       "      <td>4</td>\n",
       "    </tr>\n",
       "    <tr>\n",
       "      <th>4</th>\n",
       "      <td>5</td>\n",
       "      <td>If you cannot get certified seeds, save seeds ...</td>\n",
       "      <td>deepseek-deepseek-reasoner</td>\n",
       "      <td>India</td>\n",
       "      <td>If I am unable to acquire certified maize seed...</td>\n",
       "      <td>5</td>\n",
       "    </tr>\n",
       "    <tr>\n",
       "      <th>...</th>\n",
       "      <td>...</td>\n",
       "      <td>...</td>\n",
       "      <td>...</td>\n",
       "      <td>...</td>\n",
       "      <td>...</td>\n",
       "      <td>...</td>\n",
       "    </tr>\n",
       "    <tr>\n",
       "      <th>130</th>\n",
       "      <td>11</td>\n",
       "      <td>1. Nitrogen lack shows as pale-green to yellow...</td>\n",
       "      <td>openai-o3-2025-04-16</td>\n",
       "      <td>India</td>\n",
       "      <td>What are the signs of nutrient deficiency in m...</td>\n",
       "      <td>131</td>\n",
       "    </tr>\n",
       "    <tr>\n",
       "      <th>131</th>\n",
       "      <td>12</td>\n",
       "      <td>1. Harvest at the right maturity in the cool m...</td>\n",
       "      <td>openai-o3-2025-04-16</td>\n",
       "      <td>India</td>\n",
       "      <td>How can I mitigate post-harvest losses in crop...</td>\n",
       "      <td>132</td>\n",
       "    </tr>\n",
       "    <tr>\n",
       "      <th>132</th>\n",
       "      <td>13</td>\n",
       "      <td>1. Select short-duration or drought/heat-toler...</td>\n",
       "      <td>openai-o3-2025-04-16</td>\n",
       "      <td>India</td>\n",
       "      <td>What are some of the strategies that I can emp...</td>\n",
       "      <td>133</td>\n",
       "    </tr>\n",
       "    <tr>\n",
       "      <th>133</th>\n",
       "      <td>14</td>\n",
       "      <td>1. Buy animals only from trusted sources and k...</td>\n",
       "      <td>openai-o3-2025-04-16</td>\n",
       "      <td>India</td>\n",
       "      <td>What are the best disease management practices...</td>\n",
       "      <td>134</td>\n",
       "    </tr>\n",
       "    <tr>\n",
       "      <th>134</th>\n",
       "      <td>15</td>\n",
       "      <td>1. When many small farmers join together in a ...</td>\n",
       "      <td>openai-o3-2025-04-16</td>\n",
       "      <td>India</td>\n",
       "      <td>How are Farmer groups, Farmer Producer Organiz...</td>\n",
       "      <td>135</td>\n",
       "    </tr>\n",
       "  </tbody>\n",
       "</table>\n",
       "<p>135 rows × 6 columns</p>\n",
       "</div>"
      ],
      "text/plain": [
       "     question_id                                             answer  \\\n",
       "0              1  Your pesticides may not work due to resistance...   \n",
       "1              2  To claim compensation for crop/livestock losse...   \n",
       "2              3  Visit your nearest **Krishi Vigyan Kendra (KVK...   \n",
       "3              4  For dryland areas with low rainfall, consider ...   \n",
       "4              5  If you cannot get certified seeds, save seeds ...   \n",
       "..           ...                                                ...   \n",
       "130           11  1. Nitrogen lack shows as pale-green to yellow...   \n",
       "131           12  1. Harvest at the right maturity in the cool m...   \n",
       "132           13  1. Select short-duration or drought/heat-toler...   \n",
       "133           14  1. Buy animals only from trusted sources and k...   \n",
       "134           15  1. When many small farmers join together in a ...   \n",
       "\n",
       "                          model country  \\\n",
       "0    deepseek-deepseek-reasoner   India   \n",
       "1    deepseek-deepseek-reasoner   India   \n",
       "2    deepseek-deepseek-reasoner   India   \n",
       "3    deepseek-deepseek-reasoner   India   \n",
       "4    deepseek-deepseek-reasoner   India   \n",
       "..                          ...     ...   \n",
       "130        openai-o3-2025-04-16   India   \n",
       "131        openai-o3-2025-04-16   India   \n",
       "132        openai-o3-2025-04-16   India   \n",
       "133        openai-o3-2025-04-16   India   \n",
       "134        openai-o3-2025-04-16   India   \n",
       "\n",
       "                                              question  response_id  \n",
       "0    I have been applying different pesticides to c...            1  \n",
       "1    I have been losing my crops and livestock due ...            2  \n",
       "2    I am interested in learning about crops and li...            3  \n",
       "3    Which bean variety is suitable for dryland agr...            4  \n",
       "4    If I am unable to acquire certified maize seed...            5  \n",
       "..                                                 ...          ...  \n",
       "130  What are the signs of nutrient deficiency in m...          131  \n",
       "131  How can I mitigate post-harvest losses in crop...          132  \n",
       "132  What are some of the strategies that I can emp...          133  \n",
       "133  What are the best disease management practices...          134  \n",
       "134  How are Farmer groups, Farmer Producer Organiz...          135  \n",
       "\n",
       "[135 rows x 6 columns]"
      ]
     },
     "execution_count": 88,
     "metadata": {},
     "output_type": "execute_result"
    }
   ],
   "source": [
    "all_df"
   ]
  },
  {
   "cell_type": "code",
   "execution_count": 89,
   "metadata": {},
   "outputs": [
    {
     "data": {
      "application/vnd.microsoft.datawrangler.viewer.v0+json": {
       "columns": [
        {
         "name": "index",
         "rawType": "int64",
         "type": "integer"
        },
        {
         "name": "question_id",
         "rawType": "int64",
         "type": "integer"
        },
        {
         "name": "answer",
         "rawType": "object",
         "type": "string"
        },
        {
         "name": "model",
         "rawType": "object",
         "type": "string"
        },
        {
         "name": "country",
         "rawType": "object",
         "type": "string"
        },
        {
         "name": "question",
         "rawType": "object",
         "type": "string"
        },
        {
         "name": "response_id",
         "rawType": "int64",
         "type": "integer"
        }
       ],
       "ref": "53f56e69-8a75-412a-a0fc-9cb91fb8d8d1",
       "rows": [
        [
         "0",
         "3",
         "To learn more about crops and livestock production, you can start by visiting your nearest Krishi Vigyan Kendra (KVK). KVKs are agricultural science centers in India that provide practical training and advice to farmers. They offer workshops and demonstrations on various farming techniques and technologies suitable for your region.\n\nAdditionally, you can participate in field days organized by agricultural universities or research institutions in your area. These events showcase the latest advancements in crop and livestock management. Also, consider joining local farmers' groups or cooperatives, where experienced farmers share their knowledge and experiences.\n\nMany government agricultural departments organize training programs, so keep an eye out for these opportunities. Finally, contacting NGOs that focus on agriculture can also be helpful, as they often provide hands-on training and resources for farmers.",
         "openai-gpt-4o-2024-08-06",
         "India",
         "I am interested in learning about crops and livestock production. Where can I visit to learn more about crops and livestock production?",
         "18"
        ],
        [
         "1",
         "15",
         "Farmer groups, FPOs, cooperatives, and CBOs strengthen smallholders by pooling resources, knowledge, and bargaining power. Together, you can buy seeds/fertilizers cheaper in bulk, sell produce at higher prices by avoiding middlemen, and access loans or machinery (e.g., shared tractors). These groups provide training on climate-smart practices, connect you to government schemes (subsidies, insurance), and reduce risks through collective crop planning or storage. Cooperatives also help market produce directly to processors/exporters, ensuring fair prices. By uniting, farmers gain influence in policies and resist exploitation, boosting income and resilience. Joining such organizations empowers you to overcome challenges collectively, not alone.",
         "deepseek-deepseek-reasoner",
         "India",
         "How are Farmer groups, Farmer Producer Organizations, Community Based Organizations and cooperatives important to farmers?",
         "15"
        ],
        [
         "2",
         "6",
         "# Chemical Pesticides in Farming: Important but Need Careful Use\n\nChemical pesticides can be important tools for protecting crops and livestock from pests and diseases that reduce yields and income. When used correctly, they help preserve crop quality and quantity, potentially improving your farm's productivity and profitability. \n\nHowever, pesticides must be used with caution as they can be harmful to human health, beneficial insects like pollinators, livestock, and the environment if misused. Always wear protective clothing (gloves, masks, full-sleeve shirts) when applying pesticides, follow label instructions precisely, and maintain proper waiting periods before harvest or slaughter. \n\nMany chemical pesticides can leave residues in food products, soil and water, which is why integrated pest management (IPM) approaches that combine minimal chemical use with biological controls and good agricultural practices are often safer and more sustainable. Consider alternatives like neem-based products, biological controls, and crop rotation to reduce dependency on chemical pesticides while still managing pests effectively. \n\nRemember that some pesticides available in local markets might be banned or restricted elsewhere, so seek advice from your local Krishi Vigyan Kendra (KVK) or agricultural extension office about which products are legal and appropriate for your specific needs.",
         "anthropic-claude-3-7-sonnet-20250219",
         "India",
         "Are chemical pesticides important and safe in crop and livestock production?",
         "36"
        ],
        [
         "3",
         "14",
         "1. Inspect your animals every day for cough, fever, diarrhea, cuts or any change in behavior.  \n2. Keep pens, bedding and feeding troughs clean and dry to prevent germs from multiplying.  \n3. Offer balanced feed and fresh, clean water so your animals stay strong and resist infections.  \n4. Follow a regular vaccination schedule recommended by your local veterinarian.  \n5. Deworm your livestock on time, typically every 3–6 months, to control internal parasites.  \n6. Always isolate new or sick animals in a separate pen until you are sure they are healthy.  \n7. Disinfect tools, boots and feeding equipment after use, using a simple bleach solution or approved disinfectant.  \n8. Control rodents, flies and other pests that can carry diseases into your barns.  \n9. Keep written records of vaccinations, deworming, illnesses and treatments for each animal.  \n10. Call your veterinarian immediately if you see serious or unusual symptoms.",
         "openai-o4-mini-2025-04-16",
         "India",
         "What are the best disease management practices in livestock production?",
         "89"
        ],
        [
         "4",
         "11",
         "# Signs of Nutrient Deficiency in Maize and Solutions\n\nNitrogen deficiency shows as yellowing of older leaves in a V-pattern from the tip to the base, which can be corrected by applying urea or farmyard manure. Phosphorus-deficient plants develop purplish leaves and stunted growth, requiring application of DAP (diammonium phosphate) or single superphosphate. Potassium shortage appears as yellowing and browning along the edges of older leaves - apply muriate of potash (MOP) to address this problem. Zinc deficiency causes white bands between leaf veins and shortens plant internodes, which can be fixed with zinc sulfate application (either as soil treatment or foliar spray). Magnesium shortage shows as yellowing between veins while veins stay green, correctable by applying magnesium sulfate. For best results, conduct a soil test before planting to know exactly which nutrients your soil lacks. Apply organic matter regularly to improve overall soil fertility and nutrient retention. In severe cases, a balanced NPK fertilizer combined with micronutrient mixtures specific for maize can quickly address multiple deficiencies at once.",
         "anthropic-claude-3-7-sonnet-20250219",
         "India",
         "What are the signs of nutrient deficiency in maize and how can they be corrected?",
         "41"
        ],
        [
         "5",
         "14",
         "To effectively manage diseases in livestock, start by ensuring good hygiene in your farm. Clean animal housing regularly to prevent the buildup of manure and other waste, which can harbor disease. Provide clean, fresh water and nutritious feed to your animals, as well-maintained animals have stronger immunity. Implement a vaccination schedule for your livestock to protect them from common diseases. Quarantine any new or sick animals to prevent disease spread among your herd. Regularly consult with a veterinarian for health checks and advice on disease prevention. Keep detailed records of your animals' health and treatments to identify and manage disease trends. Practice good biosecurity measures, such as controlling access to your farm and disinfecting equipment. Finally, educate yourself and other farm workers about signs of common diseases to ensure early detection and prompt treatment.",
         "openai-gpt-4o-2024-08-06",
         "India",
         "What are the best disease management practices in livestock production?",
         "29"
        ],
        [
         "6",
         "11",
         "1. Nitrogen lack shows as pale-green to yellow older leaves and slow growth; side-dress 40–50 kg urea/acre at knee-high stage and keep the field moist.  \n2. Phosphorus lack gives a purple or reddish colour on older leaves and stunted roots; mix 40–50 kg DAP or 75–100 kg SSP/acre into the soil at sowing.  \n3. Potassium lack causes yellow-brown burning along the edges of lower leaves and weak, lodging stalks; apply 25–30 kg MOP (muriate of potash) or 100 kg wood ash/acre before tasselling.  \n4. Zinc lack appears as white-yellow bands on the young leaves starting from the mid-rib with shortened plants; add 10 kg zinc sulphate/acre to the soil or spray 0.5 % zinc sulphate + 0.25 % lime on the foliage.  \n5. Sulphur lack gives uniform yellowing of the youngest leaves and thin stems; broadcast 40 kg gypsum or use SSP instead of DAP at planting.  \n6. Magnesium lack shows as yellowing between the veins of older leaves; treat with 20 kg magnesium sulphate/acre or apply dolomitic lime if soil is acidic.  \n7. Iron lack causes the youngest leaves to turn yellow while veins stay green; correct by spraying 1 % ferrous sulphate + 0.5 % lime twice at 10-day intervals.  \n8. Keep soil pH around 6–7.5, return crop residues, and add 2–4 t well-decomposed FYM/acre to improve nutrient supply and prevent most deficiencies.",
         "openai-o3-2025-04-16",
         "India",
         "What are the signs of nutrient deficiency in maize and how can they be corrected?",
         "131"
        ],
        [
         "7",
         "3",
         "Visit your nearest **Krishi Vigyan Kendra (KVK)** or **Agricultural University** (e.g., ICAR institutes, state universities like Punjab Agricultural University). These centers offer free training, field demonstrations, and expert guidance on crops/livestock. **State Agriculture Departments** organize farmer fairs and workshops—ask your local extension officer. For hands-on learning, join **Farmer Producer Organizations (FPOs)** or visit **model farms** in your district under government schemes like ATMA. **Dairy cooperatives** (e.g., Amul) provide livestock training. Prioritize KVKs first—they’re tailored for smallholders!",
         "deepseek-deepseek-reasoner",
         "India",
         "I am interested in learning about crops and livestock production. Where can I visit to learn more about crops and livestock production?",
         "3"
        ],
        [
         "8",
         "14",
         "1. **Vaccinate regularly** against common diseases like foot-and-mouth, hemorrhagic septicemia, and brucellosis, following local veterinary guidelines.  \n2. **Maintain biosecurity**: Restrict farm access, quarantine new animals for 2-3 weeks, and disinfect tools/vehicles to prevent disease entry.  \n3. **Practice clean sanitation**: Remove manure daily, disinfect sheds monthly, and ensure clean, dry bedding to reduce infection risks.  \n4. **Provide balanced feed and clean water** to boost immunity; avoid moldy feed or stagnant water sources.  \n5. **Control parasites**: Deworm every 3-6 months and use sprays/dips for ticks, lice, and mites.  \n6. **Monitor health daily**: Check for symptoms like fever, coughing, reduced appetite, or abnormal discharges; isolate sick animals immediately.  \n7. **Dispose of carcasses safely** by deep burial (6+ feet) or incineration to prevent contamination.  \n8. **Avoid overcrowding** to minimize stress and disease spread; ensure proper ventilation in shelters.  \n9. **Collaborate with veterinarians** for timely diagnosis and treatment; keep records of illnesses and medications.  \n10. **Educate yourself** on local disease outbreaks and report unusual symptoms to authorities promptly.  \n\nBy combining prevention, hygiene, and vigilance, you can protect your livestock effectively.",
         "deepseek-deepseek-reasoner",
         "India",
         "What are the best disease management practices in livestock production?",
         "14"
        ],
        [
         "9",
         "14",
         "Good disease management in livestock involves both prevention and treatment. The most important practice is maintaining clean housing and surroundings by regularly removing manure and providing fresh bedding. Vaccinate your animals according to the local veterinary schedule and keep records of all vaccinations. Practice good biosecurity by keeping new animals separate for 2-3 weeks before mixing them with your herd/flock and restricting visitor access to animal areas. Provide clean, fresh drinking water and quality feed to keep animals healthy and strong. Watch your animals daily for signs of illness like reduced appetite, lethargy, abnormal droppings, or unusual behavior, and contact your local veterinarian immediately if you notice these symptoms. Regular deworming as per veterinary advice is essential to control internal parasites. Keep different species of animals separate to prevent disease transmission. Maintain proper spacing between animals to avoid overcrowding and stress. Always clean and disinfect tools and equipment used for different groups of animals to prevent disease spread.",
         "anthropic-claude-3-5-sonnet-20241022",
         "India",
         "What are the best disease management practices in livestock production?",
         "74"
        ],
        [
         "10",
         "4",
         "For dryland farming, I recommend growing Black gram (Urad dal) or Green gram (Moong dal) as they are drought-tolerant pulse crops well-suited for rainfed conditions. Popular short-duration varieties like IPU-94-1 (Black gram) and IPM-02-03 (Green gram) mature in 65-70 days, helping avoid late-season moisture stress. These varieties can grow well even with 400-500mm rainfall and don't require much irrigation. They have deep root systems that help them access moisture from lower soil layers during dry spells. Both crops can fix nitrogen in the soil, improving its fertility for the next crop. Make sure to plant them at the onset of monsoon with 30x10 cm spacing and treat seeds with Rhizobium culture before sowing for better yields. Under good management, you can expect yields of 8-10 quintals per hectare.",
         "anthropic-claude-3-5-sonnet-20241022",
         "India",
         "Which bean variety is suitable for dryland agro-ecological zone?",
         "64"
        ],
        [
         "11",
         "10",
         "As an agricultural extension agent, I understand your concern about uncertain rainfall patterns. The best approach is to wait until you receive 2-3 days of good rainfall (around 20-25mm in total) and when the soil has enough moisture to maintain seedling growth for at least 5-7 days. Before planting, prepare your field in advance so you can sow immediately when the right conditions arrive. Consider using short-duration crop varieties that can better cope with a shorter growing season if rains are delayed. If you have access to irrigation, you could start dry sowing 7-10 days before expected rainfall, but only do this if you're confident you can provide supplemental irrigation if needed. For added security, you may want to plant in stages - sowing parts of your field at different times to spread the risk. Keep in touch with your local agricultural office for weather updates and rainfall forecasts to help with planning.",
         "anthropic-claude-3-5-sonnet-20241022",
         "India",
         "Lately, the onset of rains has shown significant variability from season to season. This has affected our ability to judge when to plant. In this scenario, when is the best time to plant?",
         "70"
        ],
        [
         "12",
         "5",
         "As an agricultural advisor, I recommend using open-pollinated varieties (OPVs) of maize if you plan to save and replant seeds. Unlike hybrid maize, OPVs will maintain their characteristics in the next generation when properly saved. Some reliable OPV maize varieties in India include Pusa Composite 3, Pusa Composite 4, and Navjot, which are developed by agricultural universities and research stations. To save seeds, select the healthiest plants from the middle of your field (avoiding edge plants), and choose the largest, disease-free cobs with well-filled grains. Let the cobs dry completely on the plant until the kernels are hard, then store them in a clean, dry container with neem leaves to protect from pests. However, remember that OPVs generally give 15-20% lower yields compared to hybrids, but they are more cost-effective when you save seeds. For best results, replace your saved seeds with fresh OPV seeds every 3-4 seasons to maintain vigor.",
         "anthropic-claude-3-5-sonnet-20241022",
         "India",
         "If I am unable to acquire certified maize seeds, which variety can I save and replant the next season?",
         "65"
        ],
        [
         "13",
         "4",
         "For dryland conditions, use the French bean (vegetable bean) variety “Contender.”  \nIt has a deep root system and tolerates short drought spells better than most other varieties.  \nThe crop comes to first picking in about 45–50 days, so it escapes late-season moisture stress.  \nPods are 12–14 cm long, fleshy and string-less, fetching a good market price.  \nUnder rain-fed management you can expect 4–5 tonnes of green pods per hectare.  \nSow with the first dependable rains at 45 cm row spacing and 10 cm between plants, using about 50 kg seed/ha.  \nIncorporate 5 t FYM plus a basal dose of 20 : 50 : 25 kg N : P₂O₅ : K₂O per hectare; give another 20 kg N at flowering if soil moisture permits.  \nKeep the field weed-free for the first 30 days and mulch with crop residue to conserve moisture.  \nThe variety is moderately resistant to mosaic and rust; if disease appears, spray neem extract or a triazole fungicide.  \nHarvest pods every 3–4 days at pencil thickness to maintain quality and encourage continuous flowering.",
         "openai-o3-2025-04-16",
         "India",
         "Which bean variety is suitable for dryland agro-ecological zone?",
         "124"
        ],
        [
         "14",
         "5",
         "Only open-pollinated (OPV) or composite maize varieties can be saved and replanted without big yield loss. Some common OPVs in India are Ganga-5, Rampur Composite, Nandi Composite (NDC-8444), URI-300, Bio-589 and PMH-1. These varieties breed true, so you can harvest, sort and save their seed each year. Do NOT save seed from F₁ hybrids (for example HQPM or Vivek series) because their offspring will segregate and give poor yields. At harvest choose healthy, fully filled cobs from vigorous plants for seed. Dry the kernels thoroughly to under 12% moisture before storage. Store seed in clean, airtight containers, adding neem leaf powder or wood ash to deter pests. Label each batch with variety name and harvest year. Every 3–4 years, refresh your stock by purchasing fresh OPV seed or by mixing with certified seed to maintain vigour.",
         "openai-o4-mini-2025-04-16",
         "India",
         "If I am unable to acquire certified maize seeds, which variety can I save and replant the next season?",
         "80"
        ],
        [
         "15",
         "8",
         "To control weeds effectively, use a mix of methods:  \n\n1. **Hand weeding**: Remove weeds early, especially before they flower and spread seeds.  \n2. **Mulching**: Cover soil with straw or dried leaves to block sunlight and suppress weed growth.  \n3. **Intercropping**: Plant crops like cowpea or groundnut between rows to shade out weeds.  \n4. **Herbicides (if needed)**: Use recommended herbicides carefully—follow dosage and timing instructions.  \n5. **Crop rotation**: Alternate crops to disrupt weed cycles.  \n\nAvoid letting weeds go to seed, and keep fields clean after harvest. Combine these methods for best results.",
         "deepseek-deepseek-chat",
         "India",
         "How can I best control weeds in my farm?",
         "113"
        ],
        [
         "16",
         "1",
         "# Improving Your Pest Control Approach\n\nWhen pesticides aren't working effectively, it may be due to pest resistance, incorrect application timing, wrong dosage, or using unsuitable products for your specific pests. First, identify your pests correctly by consulting your local agricultural extension office or using pest identification apps. Consider adopting Integrated Pest Management (IPM) practices by combining multiple strategies—crop rotation, resistant varieties, natural predators, and targeted pesticide use only when necessary. Ensure you're applying pesticides at the right time (usually early morning or evening), in correct concentration, and with proper equipment maintenance. If you must use chemicals, rotate between different pesticide classes to prevent resistance development. Try incorporating natural solutions like neem oil, beneficial insects, or trap crops around your fields. Remember that healthy soil builds resilient plants, so focus on improving soil health through compost and organic matter addition.",
         "anthropic-claude-3-7-sonnet-20250219",
         "India",
         "I have been applying different pesticides to control pests on my farm. However, they seem not to be effective, what can I do?",
         "31"
        ],
        [
         "17",
         "8",
         "# Weed Control for Your Farm\n\nControlling weeds starts with timely identification and action before they compete with your crops for nutrients, water, and sunlight. For small plots, hand weeding and using simple tools like hoes and small weeders is effective, especially when weeds are young and soil is slightly moist. Practice crop rotation to disrupt weed cycles, and consider intercropping compatible plants that can suppress weeds naturally. Apply mulch (straw, dried leaves, or plastic sheets) around plants to prevent weed growth while conserving soil moisture. Maintain proper spacing between plants to create a shaded canopy that reduces weed growth. For larger areas, consider appropriate pre-emergence or post-emergence herbicides, but always follow label instructions and wear protective clothing. Keep field edges and irrigation channels clean to prevent weeds from spreading seeds into your fields. Remember that integrated weed management—combining multiple methods—provides the most sustainable and effective control.",
         "anthropic-claude-3-7-sonnet-20250219",
         "India",
         "How can I best control weeds in my farm?",
         "38"
        ],
        [
         "18",
         "14",
         "1. Keep animal shelters clean, dry, and well-ventilated to prevent disease-causing germs from spreading.  \n2. Provide balanced nutrition, including clean drinking water and quality feed, to boost your livestock’s immunity.  \n3. Vaccinate animals against common local diseases on a regular schedule recommended by veterinary experts.  \n4. Quickly separate sick or weak animals from the healthy herd to reduce the chance of spreading infections.  \n5. Regularly deworm and check for internal and external parasites to maintain good overall health.  \n6. Clean and disinfect feeding areas and equipment to kill harmful germs.  \n7. Monitor animals daily for unusual behavior, decreased appetite, or other signs of illness.  \n8. Always consult a trained veterinarian before using any medicine to ensure correct dosage and safety.  ",
         "openai-o1-2024-12-17",
         "India",
         "What are the best disease management practices in livestock production?",
         "59"
        ],
        [
         "19",
         "9",
         "Organic fertilizers (like compost, manure) improve soil health slowly but last longer, while synthetic fertilizers (like urea, DAP) give quick nutrients but can harm soil if overused. For long-term soil fertility and sustainable farming, organic is better. For immediate nutrient needs in poor soils or high-yield crops, synthetic works faster.  \n\n**Best choice depends on your conditions:**  \n- **Poor soil, low organic matter:** Use both—organic for long-term health, synthetic for quick boost.  \n- **Waterlogged/acidic soils:** Organic is better (synthetic may leach or worsen acidity).  \n- **Cash crops (e.g., vegetables):** Synthetic gives faster results, but combine with organic to avoid soil damage.  \n\nAlways test soil first to decide the right mix. Balance both for best yield and soil health.",
         "deepseek-deepseek-chat",
         "India",
         "How do organic and synthetic/inorganic fertilizers compare in terms of effectiveness to crop production, and which one would be more suitable for different farming conditions?",
         "114"
        ],
        [
         "20",
         "14",
         "To manage diseases in livestock, follow these key practices:  \n\n1. **Vaccinate** animals on time against common diseases like foot-and-mouth, rabies, and brucellosis.  \n2. **Maintain hygiene**—clean sheds regularly, dispose of manure properly, and provide clean water.  \n3. **Quarantine** new or sick animals for 2-3 weeks to prevent disease spread.  \n4. **Control parasites** by deworming and using tick/fly repellents.  \n5. **Provide balanced feed** to keep animals healthy and resistant to infections.  \n6. **Monitor health daily**—look for signs like fever, coughing, or reduced appetite.  \n7. **Work with a veterinarian** for timely diagnosis and treatment.  \n\nPrevention is cheaper than cure—follow these steps to keep your livestock healthy!",
         "deepseek-deepseek-chat",
         "India",
         "What are the best disease management practices in livestock production?",
         "119"
        ],
        [
         "21",
         "11",
         "Early signs of nitrogen deficiency include pale yellow or light green leaves, starting from lower leaves. Phosphorus deficiency often causes leaves to appear purplish, especially on the undersides. Potassium deficiency can lead to yellowing or browning of leaf edges, mainly on older leaves. Magnesium deficiency may appear as yellow or white stripes between leaf veins, starting at the leaf edges. Zinc deficiency in younger leaves often shows as white streaks between veins. To correct these, use balanced fertilizers that meet recommended nitrogen, phosphorus, and potassium ratios based on soil tests. Include micronutrient fertilizers containing zinc and magnesium if tests show low levels. Proper crop rotation, organic manure application, and timely irrigation also improve nutrient availability. Mulching helps retain soil moisture and nutrients. Always follow local extension recommendations for fertilizer types and rates.",
         "openai-o1-2024-12-17",
         "India",
         "What are the signs of nutrient deficiency in maize and how can they be corrected?",
         "56"
        ],
        [
         "22",
         "3",
         "# Learning Resources for Crops and Livestock Production\n\nYou can visit your nearest Krishi Vigyan Kendra (KVK) which offers training programs and demonstrations specifically for farmers like you. Your district Agricultural Extension Office provides free advisory services and often conducts field visits and training sessions. State Agricultural Universities regularly host farmer training programs, field days, and maintain demonstration farms where you can see modern practices firsthand. The Indian Council of Agricultural Research (ICAR) institutes specialize in specific crops or livestock and welcome farmer visits. Many successful progressive farmers in your area also allow visits through farmer-to-farmer programs organized by the government. Additionally, agricultural exhibitions and melas (fairs) held throughout the year showcase new technologies and practices. You can also access Kisan Call Centers by dialing 1800-180-1551 for information about upcoming farmer training events near you.",
         "anthropic-claude-3-7-sonnet-20250219",
         "India",
         "I am interested in learning about crops and livestock production. Where can I visit to learn more about crops and livestock production?",
         "33"
        ],
        [
         "23",
         "3",
         "1. To learn both crop and livestock production in one place, visit your nearest Krishi Vigyan Kendra (KVK).  \n2. KVKs are run by the Indian Council of Agricultural Research (ICAR) and offer free or low-cost training, field demonstrations and on-farm trials.  \n3. You can also go to the local State Agricultural University’s research farm—most have crop plots and animal units you can tour.  \n4. District Agriculture and Animal Husbandry offices organize farmer training days and “field schools” where you see best practices in action.  \n5. ICAR livestock research institutes or State Animal Husbandry demonstration farms will show you practical feeding, breeding and disease‐management methods.  \n6. Ask your District Agriculture Officer for dates of open days and short courses at these centres.  \n7. Finally, talk with progressive farmers in your area who host field visits; learning from neighbours is a powerful way to pick up skills.",
         "openai-o4-mini-2025-04-16",
         "India",
         "I am interested in learning about crops and livestock production. Where can I visit to learn more about crops and livestock production?",
         "78"
        ],
        [
         "24",
         "15",
         "Farmer groups and organizations are very important tools to make farming more profitable and sustainable for smallholder farmers like you. By joining forces with other farmers, you get better bargaining power to negotiate prices when buying inputs like seeds and fertilizers in bulk, or when selling your produce to traders and companies. These groups also help you access government schemes, bank loans, and new farming technologies more easily. As a group member, you can share expensive machinery like tractors or processing equipment, which would be too costly to buy alone. Farmer organizations provide training and knowledge about better farming practices, helping you improve yields and income. Through cooperatives, you can store your harvest safely and sell when prices are better instead of being forced to sell immediately after harvest. Many successful farmer groups even do value addition like grading, packaging and processing to earn more money. Perhaps most importantly, being part of a farmer group means you don't have to face farming challenges alone - you have the support of fellow farmers who understand your situation.",
         "anthropic-claude-3-5-sonnet-20241022",
         "India",
         "How are Farmer groups, Farmer Producer Organizations, Community Based Organizations and cooperatives important to farmers?",
         "75"
        ],
        [
         "25",
         "2",
         "# Compensation Options for Crop and Livestock Losses\n\nDear Farmer, you can enroll in the Pradhan Mantri Fasal Bima Yojana (PMFBY) through your local bank, agricultural extension office, or Common Service Center to get compensation for crop losses due to natural disasters. For livestock, the Livestock Insurance Scheme offers protection against death of animals—contact your local veterinary hospital or Krishi Vigyan Kendra to enroll. Keep detailed records of your farming activities, including photographs of damaged crops/livestock, cultivation records, and receipts of inputs purchased. After a disaster, immediately inform your bank, insurance provider, and local agriculture department, who will send officials to assess the damage. You can also seek assistance from your Gram Panchayat to access state disaster relief funds when available. Many banks also offer loan restructuring or moratoriums during officially declared disasters, so speak with your bank manager about these options.",
         "anthropic-claude-3-7-sonnet-20250219",
         "India",
         "I have been losing my crops and livestock due to drought and floods. What can I do to get compensation during such occurrences?",
         "32"
        ],
        [
         "26",
         "6",
         "Chemical pesticides can be important for controlling crop pests and livestock parasites, helping you protect yields and animal health. But they must be used carefully to avoid harm to yourself, your family, your animals, beneficial insects and the environment. Always follow the label instructions for dose, timing and method of application, and respect the pre-harvest or withdrawal period before consumption or sale. Wear protective clothing—gloves, mask, long sleeves—and do not spray in windy weather. Buy only approved products from reliable dealers and store them safely away from children and animals. Dispose of empty containers and unused chemicals according to local rules. Whenever possible, combine chemical sprays with non-chemical methods (crop rotation, resistant varieties, natural predators) in an integrated pest management system. This balanced approach reduces your cost, lowers health risks and keeps your farm productive long term.",
         "openai-o4-mini-2025-04-16",
         "India",
         "Are chemical pesticides important and safe in crop and livestock production?",
         "81"
        ],
        [
         "27",
         "9",
         "Namaste! Both organic and synthetic fertilizers help your crops grow, but they work differently.\nSynthetic fertilizers, like urea or DAP, provide nutrients quickly, giving a fast boost to plant growth. They are good if your soil is very low in a specific nutrient or if your crop needs an immediate feed.\nOrganic fertilizers, such as farmyard manure or compost, release nutrients slowly as they improve your soil structure and health. This long-term benefit helps your soil hold more water and supports beneficial soil life.\nFor poor soils, starting with organic matter is crucial for building fertility. If you need a rapid correction for a nutrient deficiency, synthetic fertilizers offer a quicker response.\nOften, the best approach is to combine both: use organic matter to build your soil and supplement with synthetic fertilizers based on crop needs. For example, in sandy soils that don't hold nutrients well, organic matter is very important. In heavy clay soils, organic matter also helps with drainage and aeration. A soil test can guide you in making the most effective decision for your specific farm.",
         "gemini-gemini-2-5-pro-preview-05-06",
         "India",
         "How do organic and synthetic/inorganic fertilizers compare in terms of effectiveness to crop production, and which one would be more suitable for different farming conditions?",
         "99"
        ],
        [
         "28",
         "14",
         "# Best Disease Management Practices for Livestock\n\nNamaste farmer, preventing livestock diseases is much easier than treating them! \n\nFirst, maintain clean housing with proper ventilation and regularly remove animal waste to prevent infection spread. Always quarantine new animals for at least 14 days before introducing them to your herd or flock. Follow a proper vaccination schedule as recommended by your local veterinarian for diseases common in your area like Foot and Mouth Disease, Hemorrhagic Septicemia, and Black Quarter. Provide balanced nutrition and clean drinking water to strengthen animals' natural immunity. Practice good biosecurity by limiting visitors to your animal areas and using footbaths with disinfectant at entrances. Regular deworming (every 3-6 months) helps control internal parasites that weaken animals. Keep records of vaccinations, treatments, and any illnesses to track health patterns. Lastly, quickly isolate sick animals and contact your veterinarian when you notice unusual symptoms like reduced appetite, abnormal droppings, or changes in behavior.",
         "anthropic-claude-3-7-sonnet-20250219",
         "India",
         "What are the best disease management practices in livestock production?",
         "44"
        ],
        [
         "29",
         "3",
         "1. Start with the Krishi Vigyan Kendra (KVK) in your district; they give free, hands-on training, have demo crop plots and keep small dairy, goat and poultry units you can observe.  \n2. Visit the nearest State Agricultural University campus or its regional research station, which keeps model fields and livestock farms and offers farmer exposure visits on request.  \n3. ICAR institutes—like IARI, New Delhi (crops), IVRI, Izatnagar (animal health), NDRI, Karnal (dairy) and CIBA, Chennai (fish)—run short farmer courses and open days throughout the year.  \n4. Your District Agriculture Training Centre or Farm Information & Advisory Centre, run by the state agriculture department, holds low-cost practical classes on both crops and animals.  \n5. Government livestock farms under the Department of Animal Husbandry allow farmers to watch best management practices and buy improved calves, chicks or kids.  \n6. Attend seasonal Kisan Melas and Agri-Tech Fairs organised by SAUs and ICAR; you can see new varieties, machinery demonstrations and live animal displays in one place.  \n7. Ask the ATMA (Agricultural Technology Management Agency) office at block level to put you on study tours to progressive farmers’ fields or commercial dairy and poultry units nearby.  \n8. For addresses, dates and phone numbers of all these centres, call the toll-free Kisan Call Centre 1800-180-1551 or check the mKisan and Kisan Suvidha mobile apps.",
         "openai-o3-2025-04-16",
         "India",
         "I am interested in learning about crops and livestock production. Where can I visit to learn more about crops and livestock production?",
         "123"
        ],
        [
         "30",
         "12",
         "To reduce crop losses:  \n1. Dry grains thoroughly (12-14% moisture) on clean tarps/raised platforms, not bare ground.  \n2. Store in airtight containers/hermetic bags or treat storage with neem leaves/approved pesticides.  \n3. Use cold storage for perishables (vegetables/fruits) or sell quickly.  \n\nFor livestock:  \n4. Vaccinate animals against common diseases (e.g., foot-and-mouth) and deworm regularly.  \n5. Provide clean water, balanced feed, and shaded shelters to prevent stress.  \n6. Avoid overcrowding during transport/marketing to reduce injuries.  \n\nGeneral steps:  \n7. Clean storage areas to remove pests/mold.  \n8. Monitor stored crops weekly for spoilage/pests.  \n9. Sell produce when market prices are favorable to avoid long storage risks.  \n10. Seek training from local Krishi Vigyan Kendras (KVKs) on post-harvest techniques.",
         "deepseek-deepseek-reasoner",
         "India",
         "How can I mitigate post-harvest losses in crops and livestock?",
         "12"
        ],
        [
         "31",
         "11",
         "**Answer:**  \n\nIn maize, nutrient deficiencies show clear signs:  \n- **Nitrogen (N):** Yellowing starts from older leaves. Apply urea (50–100 kg/acre) or farmyard manure (FYM).  \n- **Phosphorus (P):** Purple or reddish leaves, stunted growth. Use DAP (25–50 kg/acre) or SSP mixed with soil.  \n- **Potassium (K):** Yellow/brown leaf edges, weak stems. Apply MOP (30–40 kg/acre).  \n- **Zinc (Zn):** White streaks on young leaves. Spray 0.5% zinc sulfate solution or apply zinc sulfate (10 kg/acre).  \n\nTest soil first for precise corrections, and use balanced fertilizers or organic compost for long-term soil health.",
         "deepseek-deepseek-chat",
         "India",
         "What are the signs of nutrient deficiency in maize and how can they be corrected?",
         "116"
        ],
        [
         "32",
         "15",
         "Farmer groups, Farmer Producer Organizations (FPOs), Community Based Organizations (CBOs), and cooperatives help you get better prices by selling produce in larger volumes. They also help in accessing quality inputs—like seeds, fertilizers, and machinery—often at lower costs. By coming together, you can share knowledge and learn from each other’s farming experiences. These organizations often provide training, market information, and new technologies to boost productivity. They can also assist you in getting loans, insurance, or government scheme benefits more easily. Good leadership in these groups supports fair decision-making and profit sharing. Being part of such groups strengthens your negotiating power, reducing the chances of exploitation. Working collectively helps solve common farming challenges and reduces risks. Engaging in these groups also builds trust and unity among farmers. Ultimately, they improve your incomes and overall well-being.",
         "openai-o1-2024-12-17",
         "India",
         "How are Farmer groups, Farmer Producer Organizations, Community Based Organizations and cooperatives important to farmers?",
         "60"
        ],
        [
         "33",
         "7",
         "# How to Check Your Soil Fertility\n\nGood soil fertility shows in several ways that you can observe yourself. Fertile soil usually appears dark brown or black, feels crumbly when dry, and holds shape without breaking apart when moist. Healthy plants with deep green leaves, vigorous growth, and good yields are strong indicators of fertile soil. You can do a simple earthworm count by digging a 30cm cube of soil - finding 10 or more earthworms suggests good fertility. Water infiltration test is also useful - fertile soil absorbs water quickly instead of forming puddles. The Indian government offers affordable soil testing through Krishi Vigyan Kendras (KVKs) and agricultural extension centers, which provide detailed nutrient information. Many districts also have mobile soil testing vans visiting villages periodically. For a basic home test, place a handful of soil in a clear bottle with water, shake well, and let it settle - good soil shows distinct layers with organic matter floating on top.",
         "anthropic-claude-3-7-sonnet-20250219",
         "India",
         "How can I know that my soil is fertile?",
         "37"
        ],
        [
         "34",
         "8",
         "1. Use certified, weed-free seeds and plant them at the correct spacing so the crop canopy can shade out weeds.  \n2. Hand weed or hoe regularly when weeds are small, especially within the first few weeks after sowing.  \n3. Apply organic mulch like straw or dried leaves to block sunlight and reduce weed germination.  \n4. Practice crop rotation to break weed life cycles and reduce their buildup in the soil.  \n5. Maintain good field sanitation by removing weeds before they produce seeds or spread.  \n6. If using herbicides, choose the correct product for your crop, and strictly follow recommended dosages and safety guidelines.  \n7. Monitor fields frequently so you can catch and manage weeds early, ensuring healthy crop growth.  ",
         "openai-o1-2024-12-17",
         "India",
         "How can I best control weeds in my farm?",
         "53"
        ],
        [
         "35",
         "1",
         "I'm sorry to hear you're facing this issue. Here are a few steps you can take to improve the situation:\n\n1. **Identify the Pest**: Make sure you have correctly identified the pest. Sometimes, misidentification can lead to using the wrong pesticide, which will be ineffective.\n\n2. **Check Pesticide Expiry**: Ensure the pesticides you're using aren't expired, as expired products lose their effectiveness.\n\n3. **Rotate Pesticides**: Pests can become resistant to a pesticide if it's used repeatedly. Rotating pesticides with different active ingredients can help prevent this resistance.\n\n4. **Integrated Pest Management (IPM)**: Consider using IPM practices which include cultural, mechanical, biological, and chemical methods to control pests. This holistic approach can be more effective than relying solely on chemicals.\n\n5. **Correct Dosage and Application**: Make sure you're using the correct dosage and application method as per the label instructions. Applying less or more than recommended can reduce effectiveness.\n\n6. **Soil Health and Crop Rotation**: Maintain good soil health and practice crop rotation to naturally deter pests. Healthy plants are more resistant to pest attacks.\n\n7. **Local Extension Services**: Reach out to your local agricultural extension officer for specific advice tailored to your situation and region.\n\nFollowing these steps should help improve pest control on your farm.",
         "openai-gpt-4o-2024-08-06",
         "India",
         "I have been applying different pesticides to control pests on my farm. However, they seem not to be effective, what can I do?",
         "16"
        ],
        [
         "36",
         "13",
         "To manage climate change in crop production:  \n1. Grow drought-resistant varieties (e.g., millets, drought-tolerant maize).  \n2. Use drip irrigation or rainwater harvesting to save water.  \n3. Apply organic compost/mulch to retain soil moisture and fertility.  \n4. Practice crop rotation/intercropping (e.g., legumes with cereals) to boost soil health.  \n5. Monitor weather forecasts via apps (e.g., *mKisan*) to plan sowing/harvesting.  \n6. Plant trees (agroforestry) around fields to reduce heat stress and erosion.  \n7. Shift planting dates to avoid extreme heat/rains (follow local advisories).  \n8. Use pest-resistant seeds, as warmer climates increase pest risks.  \n9. Adopt zero-tillage or reduced tillage to protect soil structure.  \n10. Join farmer groups to share climate-smart practices and resources.  \n\nStay updated with local agricultural offices for tailored advice!",
         "deepseek-deepseek-reasoner",
         "India",
         "What are some of the strategies that I can employ to manage climate change in crop production?",
         "13"
        ],
        [
         "37",
         "4",
         "For dryland farming in India, drought-tolerant bean varieties like **Pusa Sem 2 (Cowpea)** or **Pusa 578 (Mungbean)** are suitable. These varieties require less water, mature early (60-70 days), and resist moderate drought. **Horsegram (Kulthi)** is another hardy option for poor soils. Sow at the start of rains, use mulch to retain moisture, and space plants 30 cm apart for better root growth. Avoid waterlogging—these crops thrive in well-drained soils. Choose certified seeds from local Krishi Vigyan Kendras (KVKs) for best results.",
         "deepseek-deepseek-chat",
         "India",
         "Which bean variety is suitable for dryland agro-ecological zone?",
         "109"
        ],
        [
         "38",
         "10",
         "# Adapting Planting Times to Variable Rainfall\n\nYou're right that rainfall patterns have become less predictable in recent years, making traditional planting calendars less reliable. The best approach now is to focus on soil moisture rather than calendar dates - seeds need adequate moisture to germinate properly, so plant when your soil has good moisture content but isn't waterlogged. For most crops, monitor reliable 5-7 day weather forecasts through your local Krishi Vigyan Kendra (KVK) or weather apps and aim to plant just before predicted rainfall events. Consider practicing staggered planting where you plant portions of your field at 7-10 day intervals to spread your risk. Drought-tolerant varieties like improved jowar, bajra, or short-duration rice varieties offer better security in uncertain rainfall conditions. Keep your field prepared in advance so you can quickly plant when conditions become favorable. If possible, collect rainwater in farm ponds or implement simple water conservation techniques to supplement irrigation during dry spells.",
         "anthropic-claude-3-7-sonnet-20250219",
         "India",
         "Lately, the onset of rains has shown significant variability from season to season. This has affected our ability to judge when to plant. In this scenario, when is the best time to plant?",
         "40"
        ],
        [
         "39",
         "7",
         "To check if your soil is fertile, observe these signs:  \n\n1. **Dark, crumbly texture** – Fertile soil is loose and rich in organic matter.  \n2. **Good crop growth** – Healthy, vigorous plants with deep green leaves indicate fertile soil.  \n3. **Earthworms & microbes** – Many earthworms mean the soil has nutrients and good structure.  \n4. **Water retention** – Fertile soil holds moisture well but drains excess water.  \n5. **Soil test** – For certainty, get a soil test from a local lab to check nutrient levels (N, P, K).  \n\nIf your soil lacks these, add compost, manure, or organic fertilizers to improve fertility.",
         "deepseek-deepseek-chat",
         "India",
         "How can I know that my soil is fertile?",
         "112"
        ],
        [
         "40",
         "9",
         "Organic fertilizers come from compost, manure, and other natural materials that also boost the soil’s structure and long-term fertility. Synthetic fertilizers are manufactured products that provide nutrients more quickly and in precise amounts. Both can be effective, but their suitability often depends on soil conditions, crop type, and farming practices. If your soil is low in organic matter or prone to erosion, organic fertilizers can help rebuild it over time. If you need a quick or targeted nutrient boost, synthetic fertilizers may be more appropriate. Synthetic fertilizers can be more expensive and might harm your soil structure if used improperly. Organic fertilizers are generally safer for the environment but require more labor to prepare and apply. Many experienced farmers use a combination of both types to balance immediate crop needs with long-term soil health. It is best to test your soil regularly and get specific recommendations from a local extension office. Combining good soil management with proper fertilization practices can help ensure healthy crops and higher yields.",
         "openai-o1-2024-12-17",
         "India",
         "How do organic and synthetic/inorganic fertilizers compare in terms of effectiveness to crop production, and which one would be more suitable for different farming conditions?",
         "54"
        ],
        [
         "41",
         "11",
         "1. Nitrogen deficiency shows as uniform yellowing of older leaves and stunted growth; correct by side‐dressing with urea or a balanced NPK fertilizer during the V4–V6 growth stage.  \n2. Phosphorus deficiency causes purplish tints on leaf edges and slow early growth; correct by applying single superphosphate or DAP at planting.  \n3. Potassium deficiency leads to brown or scorched leaf margins, weak stalks, and poor grain fill; correct by banding muriate of potash or sulfate of potash before or at planting.  \n4. Zinc deficiency appears as whitish strips between veins on new leaves and reduced tassel development; correct by broadcasting zinc sulfate or foliar‐spraying zinc chelate.  \n5. Sulfur deficiency looks like pale green younger leaves (similar to N deficiency but on new leaves first); correct by applying gypsum or elemental sulfur.  \n6. Always test your soil before planting to choose the right fertilizer blend and avoid over‐ or under‐application.  \n7. Incorporate well‐rotted farmyard manure or compost to improve nutrient availability and soil health.",
         "openai-o4-mini-2025-04-16",
         "India",
         "What are the signs of nutrient deficiency in maize and how can they be corrected?",
         "86"
        ],
        [
         "42",
         "11",
         "**Signs and Solutions for Maize Nutrient Deficiency:**  \n1. **Nitrogen (N):** Older leaves turn pale yellow, stunted growth. Apply urea (split doses: sowing, knee-high, tasseling) or farmyard manure.  \n2. **Phosphorus (P):** Purple-red tint on leaf edges, poor roots. Use DAP/SSP at sowing, place near roots.  \n3. **Potassium (K):** Yellow-brown leaf edges, weak stalks. Apply muriate of potash or wood ash at planting.  \n4. **Zinc (Zn):** White-yellow stripes on young leaves. Spray 0.5% zinc sulfate solution at 15–20-day intervals.  \n5. Test soil before planting to adjust fertilizer use. Mix compost/vermicompost to improve soil health. Avoid excess urea to prevent burning.",
         "deepseek-deepseek-reasoner",
         "India",
         "What are the signs of nutrient deficiency in maize and how can they be corrected?",
         "11"
        ],
        [
         "43",
         "1",
         "1. First make sure you have correctly identified the pest; if unsure, take a sample to your nearest Krishi Vigyan Kendra or extension officer.  \n2. Use a pesticide that is specifically recommended for that pest and avoid repeating the same chemical family—pests quickly become resistant when the active ingredient never changes.  \n3. After each spray, rotate to a product with a different IRAC or FRAC group number and leave at least 10–14 days before using the same group again.  \n4. Calibrate your knapsack sprayer so the recommended dose of chemical and the right volume of water reach every part of the crop; under- or over-dilution both reduce effectiveness.  \n5. Mix the spray in clean, soft water; hard or muddy water binds many pesticides and makes them weak.  \n6. Spray early morning or late afternoon when the air is calm and the pest is active; wind and hot midday sun cause drift and rapid evaporation.  \n7. Add a sticker–spreader (about 1 ml per litre) so the spray forms an even film on the leaves, especially against sucking insects.  \n8. Combine chemicals with cultural and biological methods: rogue and destroy heavily infested plants, use yellow or blue sticky traps, release Trichogramma cards, and sow pest-tolerant varieties.  \n9. Keep a notebook of spray date, product name, group number, dose and result; these records help you and the extension worker fine-tune your program and avoid resistance.",
         "openai-o3-2025-04-16",
         "India",
         "I have been applying different pesticides to control pests on my farm. However, they seem not to be effective, what can I do?",
         "121"
        ],
        [
         "44",
         "5",
         "If you cannot get certified maize seeds, you can save and replant **local open-pollinated varieties (OPVs)** or **traditional landraces**, as these retain their traits when replanted. Avoid saving hybrid seeds (like most \"F1\" varieties), as they lose yield and uniformity in the next generation. Good OPV choices in India include **Jaunpuri, Sona Moti, or Vijay Composite**.  \n\nTo save seeds:  \n1. Select healthy, well-filled cobs from disease-free plants.  \n2. Dry them fully (12–14% moisture) and store in airtight containers with neem leaves to prevent pests.  \n\nReplant within 1–2 years for best germination. Always rotate maize with legumes (e.g., soybean) to maintain soil health.",
         "deepseek-deepseek-chat",
         "India",
         "If I am unable to acquire certified maize seeds, which variety can I save and replant the next season?",
         "110"
        ],
        [
         "45",
         "5",
         "Choose an open-pollinated composite (OPV) maize variety, not a hybrid, because OPVs breed “true to type” and will still give you good yield when their seed is saved for the next season. Popular Indian OPVs you can save include Suwan-1, Shakti, Vijay Composite, Jawahar Maize-15 (JM-15) and Vivek QPM-9; ask your nearest Krishi Vigyan Kendra which one suits your agro-climatic zone. During harvest select the healthiest, well-filled, disease-free cobs from plants in the middle of the field, because these are least affected by border pollen contamination. Dry the selected cobs to 12–13 % moisture (the kernels should bite hard and fall clean) and store them unshelled in a cool, dry, rodent-free place or shell and keep in airtight bags after treating with fungicide/insecticide dust (e.g., thiram + carbaryl 5 g kg⁻¹ seed). Keep at least 200 m isolation distance from other maize or sorghum fields at flowering time next season to maintain purity. Do not replant single-cross, double-cross or QPM hybrids such as HQPM-1, HQPM-5, P3396, etc., because their F₂ seed segregates and yields can drop 25–40 %. Test germination one month before sowing; if less than 85 %, increase seed rate or obtain fresh seed. Use a seed rate of 20–25 kg ha⁻¹ for bold-kernel OPVs, treat with Azospirillum + Trichoderma if available, and plant at 60 cm × 20 cm spacing. Follow recommended fertilizer (about 100:50:50 kg NPK ha⁻¹ split 3 times) and timely weed control to realize the genetic potential of the saved seed.",
         "openai-o3-2025-04-16",
         "India",
         "If I am unable to acquire certified maize seeds, which variety can I save and replant the next season?",
         "125"
        ],
        [
         "46",
         "15",
         "Farmer groups, Farmer Producer Organizations (FPOs), Community Based Organizations (CBOs), and cooperatives are essential for smallholder farmers for several reasons. First, by coming together, farmers can pool their resources and buy seeds, fertilizers, and other inputs in bulk at lower prices. This helps reduce costs and increase profit margins. Second, these organizations give farmers better bargaining power in the market, allowing them to negotiate better prices for their produce. \n\nThird, Farmer groups and cooperatives often provide access to important resources like credit and financial services, which are harder to obtain individually. Fourth, they serve as a platform for knowledge sharing, where farmers can learn new farming techniques, pest management strategies, and sustainable practices. Fifth, being part of these groups often enables farmers to participate in government programs and receive subsidies more easily.\n\nFinally, these organizations can help farmers manage risks better by providing support during natural disasters or market fluctuations. Overall, they empower farmers by improving access to resources, information, and markets, leading to increased productivity and income stability.",
         "openai-gpt-4o-2024-08-06",
         "India",
         "How are Farmer groups, Farmer Producer Organizations, Community Based Organizations and cooperatives important to farmers?",
         "30"
        ],
        [
         "47",
         "11",
         "Signs of nutrient deficiency in maize include yellowing or paling of leaves, stunted growth, and poor ear development. Specifically, nitrogen deficiency causes leaves to turn pale green or yellow, starting from the bottom, while phosphorus deficiency leads to dark green or purplish leaves and poorly filled cobs. Potassium deficiency manifests as yellowing and scorching of leaf edges, primarily on older leaves.\n\nTo correct these deficiencies, conduct a soil test to determine specific nutrient needs. For nitrogen deficiency, apply urea or ammonium nitrate. Use diammonium phosphate (DAP) or single superphosphate (SSP) to address phosphorus deficiency. For potassium, apply muriate of potash (MOP). Ensure balanced fertilization by also including micronutrients as needed. Practice crop rotation and incorporate organic manure or compost to improve soil health and nutrient availability over time.",
         "openai-gpt-4o-2024-08-06",
         "India",
         "What are the signs of nutrient deficiency in maize and how can they be corrected?",
         "26"
        ],
        [
         "48",
         "12",
         "# Reducing Post-Harvest Losses in Crops and Livestock\n\nHarvest crops at the right maturity and during cooler parts of the day to reduce damage and spoilage. Dry your grains and pulses properly until they reach 10-12% moisture content before storage to prevent mold growth. Store crops in clean, dry containers like hermetic bags or metal bins that protect against pests, moisture, and air. For fruits and vegetables, use clean crates, avoid overpacking, and keep them in cool, shaded areas if cold storage isn't available. For livestock products, ensure clean milking procedures and use proper containers to store milk, ideally in cool conditions. Keep eggs clean, collect them frequently, and store pointy-end down in a cool place. Process meat products quickly after slaughter and use salt preservation if refrigeration isn't possible. Regularly inspect stored products for any signs of spoilage or pest damage. Joining a farmer group to share cold storage costs or processing equipment can also significantly reduce losses.",
         "anthropic-claude-3-7-sonnet-20250219",
         "India",
         "How can I mitigate post-harvest losses in crops and livestock?",
         "42"
        ],
        [
         "49",
         "6",
         "Chemical pesticides are important tools to control pests and diseases that threaten crops and livestock, but their safety depends entirely on proper use. When used **as directed** (correct dose, timing, and protective gear), registered pesticides can protect yields effectively. **Overuse or misuse** harms human health, kills beneficial insects, contaminates soil/water, and leads to pesticide-resistant pests. Always follow label instructions, avoid spraying near harvest, and never mix chemicals haphazardly. For safer alternatives, combine pesticides with **Integrated Pest Management (IPM)**—like resistant crop varieties, natural predators, and crop rotation. In livestock, use veterinary-approved treatments only; improper antibiotics or pesticides in feed risk residues in milk/meat. Prioritize prevention (clean sheds, balanced feed) to reduce disease. Consult local experts for region-specific, low-toxicity options. **Chemicals are useful but not the only solution—use wisely and sparingly.**",
         "deepseek-deepseek-reasoner",
         "India",
         "Are chemical pesticides important and safe in crop and livestock production?",
         "6"
        ]
       ],
       "shape": {
        "columns": 6,
        "rows": 135
       }
      },
      "text/html": [
       "<div>\n",
       "<style scoped>\n",
       "    .dataframe tbody tr th:only-of-type {\n",
       "        vertical-align: middle;\n",
       "    }\n",
       "\n",
       "    .dataframe tbody tr th {\n",
       "        vertical-align: top;\n",
       "    }\n",
       "\n",
       "    .dataframe thead th {\n",
       "        text-align: right;\n",
       "    }\n",
       "</style>\n",
       "<table border=\"1\" class=\"dataframe\">\n",
       "  <thead>\n",
       "    <tr style=\"text-align: right;\">\n",
       "      <th></th>\n",
       "      <th>question_id</th>\n",
       "      <th>answer</th>\n",
       "      <th>model</th>\n",
       "      <th>country</th>\n",
       "      <th>question</th>\n",
       "      <th>response_id</th>\n",
       "    </tr>\n",
       "  </thead>\n",
       "  <tbody>\n",
       "    <tr>\n",
       "      <th>0</th>\n",
       "      <td>3</td>\n",
       "      <td>To learn more about crops and livestock produc...</td>\n",
       "      <td>openai-gpt-4o-2024-08-06</td>\n",
       "      <td>India</td>\n",
       "      <td>I am interested in learning about crops and li...</td>\n",
       "      <td>18</td>\n",
       "    </tr>\n",
       "    <tr>\n",
       "      <th>1</th>\n",
       "      <td>15</td>\n",
       "      <td>Farmer groups, FPOs, cooperatives, and CBOs st...</td>\n",
       "      <td>deepseek-deepseek-reasoner</td>\n",
       "      <td>India</td>\n",
       "      <td>How are Farmer groups, Farmer Producer Organiz...</td>\n",
       "      <td>15</td>\n",
       "    </tr>\n",
       "    <tr>\n",
       "      <th>2</th>\n",
       "      <td>6</td>\n",
       "      <td># Chemical Pesticides in Farming: Important bu...</td>\n",
       "      <td>anthropic-claude-3-7-sonnet-20250219</td>\n",
       "      <td>India</td>\n",
       "      <td>Are chemical pesticides important and safe in ...</td>\n",
       "      <td>36</td>\n",
       "    </tr>\n",
       "    <tr>\n",
       "      <th>3</th>\n",
       "      <td>14</td>\n",
       "      <td>1. Inspect your animals every day for cough, f...</td>\n",
       "      <td>openai-o4-mini-2025-04-16</td>\n",
       "      <td>India</td>\n",
       "      <td>What are the best disease management practices...</td>\n",
       "      <td>89</td>\n",
       "    </tr>\n",
       "    <tr>\n",
       "      <th>4</th>\n",
       "      <td>11</td>\n",
       "      <td># Signs of Nutrient Deficiency in Maize and So...</td>\n",
       "      <td>anthropic-claude-3-7-sonnet-20250219</td>\n",
       "      <td>India</td>\n",
       "      <td>What are the signs of nutrient deficiency in m...</td>\n",
       "      <td>41</td>\n",
       "    </tr>\n",
       "    <tr>\n",
       "      <th>...</th>\n",
       "      <td>...</td>\n",
       "      <td>...</td>\n",
       "      <td>...</td>\n",
       "      <td>...</td>\n",
       "      <td>...</td>\n",
       "      <td>...</td>\n",
       "    </tr>\n",
       "    <tr>\n",
       "      <th>130</th>\n",
       "      <td>10</td>\n",
       "      <td>1. Rather than fixed calendar dates, sow when ...</td>\n",
       "      <td>openai-o4-mini-2025-04-16</td>\n",
       "      <td>India</td>\n",
       "      <td>Lately, the onset of rains has shown significa...</td>\n",
       "      <td>85</td>\n",
       "    </tr>\n",
       "    <tr>\n",
       "      <th>131</th>\n",
       "      <td>8</td>\n",
       "      <td>1. Begin with clean seed and avoid bringing we...</td>\n",
       "      <td>openai-o4-mini-2025-04-16</td>\n",
       "      <td>India</td>\n",
       "      <td>How can I best control weeds in my farm?</td>\n",
       "      <td>83</td>\n",
       "    </tr>\n",
       "    <tr>\n",
       "      <th>132</th>\n",
       "      <td>10</td>\n",
       "      <td>Given the uncertainty in monsoon onset, follow...</td>\n",
       "      <td>deepseek-deepseek-chat</td>\n",
       "      <td>India</td>\n",
       "      <td>Lately, the onset of rains has shown significa...</td>\n",
       "      <td>115</td>\n",
       "    </tr>\n",
       "    <tr>\n",
       "      <th>133</th>\n",
       "      <td>1</td>\n",
       "      <td>Namaste. This is a common problem, and it ofte...</td>\n",
       "      <td>gemini-gemini-2-5-pro-preview-05-06</td>\n",
       "      <td>India</td>\n",
       "      <td>I have been applying different pesticides to c...</td>\n",
       "      <td>91</td>\n",
       "    </tr>\n",
       "    <tr>\n",
       "      <th>134</th>\n",
       "      <td>3</td>\n",
       "      <td>Namaste! That's a great question, it's always ...</td>\n",
       "      <td>gemini-gemini-2-5-pro-preview-05-06</td>\n",
       "      <td>India</td>\n",
       "      <td>I am interested in learning about crops and li...</td>\n",
       "      <td>93</td>\n",
       "    </tr>\n",
       "  </tbody>\n",
       "</table>\n",
       "<p>135 rows × 6 columns</p>\n",
       "</div>"
      ],
      "text/plain": [
       "     question_id                                             answer  \\\n",
       "0              3  To learn more about crops and livestock produc...   \n",
       "1             15  Farmer groups, FPOs, cooperatives, and CBOs st...   \n",
       "2              6  # Chemical Pesticides in Farming: Important bu...   \n",
       "3             14  1. Inspect your animals every day for cough, f...   \n",
       "4             11  # Signs of Nutrient Deficiency in Maize and So...   \n",
       "..           ...                                                ...   \n",
       "130           10  1. Rather than fixed calendar dates, sow when ...   \n",
       "131            8  1. Begin with clean seed and avoid bringing we...   \n",
       "132           10  Given the uncertainty in monsoon onset, follow...   \n",
       "133            1  Namaste. This is a common problem, and it ofte...   \n",
       "134            3  Namaste! That's a great question, it's always ...   \n",
       "\n",
       "                                    model country  \\\n",
       "0                openai-gpt-4o-2024-08-06   India   \n",
       "1              deepseek-deepseek-reasoner   India   \n",
       "2    anthropic-claude-3-7-sonnet-20250219   India   \n",
       "3               openai-o4-mini-2025-04-16   India   \n",
       "4    anthropic-claude-3-7-sonnet-20250219   India   \n",
       "..                                    ...     ...   \n",
       "130             openai-o4-mini-2025-04-16   India   \n",
       "131             openai-o4-mini-2025-04-16   India   \n",
       "132                deepseek-deepseek-chat   India   \n",
       "133   gemini-gemini-2-5-pro-preview-05-06   India   \n",
       "134   gemini-gemini-2-5-pro-preview-05-06   India   \n",
       "\n",
       "                                              question  response_id  \n",
       "0    I am interested in learning about crops and li...           18  \n",
       "1    How are Farmer groups, Farmer Producer Organiz...           15  \n",
       "2    Are chemical pesticides important and safe in ...           36  \n",
       "3    What are the best disease management practices...           89  \n",
       "4    What are the signs of nutrient deficiency in m...           41  \n",
       "..                                                 ...          ...  \n",
       "130  Lately, the onset of rains has shown significa...           85  \n",
       "131           How can I best control weeds in my farm?           83  \n",
       "132  Lately, the onset of rains has shown significa...          115  \n",
       "133  I have been applying different pesticides to c...           91  \n",
       "134  I am interested in learning about crops and li...           93  \n",
       "\n",
       "[135 rows x 6 columns]"
      ]
     },
     "execution_count": 89,
     "metadata": {},
     "output_type": "execute_result"
    }
   ],
   "source": [
    "# shuffle the dataframe\n",
    "all_df = all_df.sample(frac=1, random_state=1337).reset_index(drop=True)\n",
    "all_df"
   ]
  },
  {
   "cell_type": "code",
   "execution_count": 90,
   "metadata": {},
   "outputs": [
    {
     "data": {
      "application/vnd.microsoft.datawrangler.viewer.v0+json": {
       "columns": [
        {
         "name": "index",
         "rawType": "int64",
         "type": "integer"
        },
        {
         "name": "model",
         "rawType": "object",
         "type": "string"
        },
        {
         "name": "question_id",
         "rawType": "int64",
         "type": "integer"
        },
        {
         "name": "response_id",
         "rawType": "int64",
         "type": "integer"
        },
        {
         "name": "question",
         "rawType": "object",
         "type": "string"
        },
        {
         "name": "answer",
         "rawType": "object",
         "type": "string"
        },
        {
         "name": "country",
         "rawType": "object",
         "type": "string"
        }
       ],
       "ref": "f948f8da-ba39-4076-821a-341b53fa6121",
       "rows": [
        [
         "0",
         "openai-gpt-4o-2024-08-06",
         "3",
         "18",
         "I am interested in learning about crops and livestock production. Where can I visit to learn more about crops and livestock production?",
         "To learn more about crops and livestock production, you can start by visiting your nearest Krishi Vigyan Kendra (KVK). KVKs are agricultural science centers in India that provide practical training and advice to farmers. They offer workshops and demonstrations on various farming techniques and technologies suitable for your region.\n\nAdditionally, you can participate in field days organized by agricultural universities or research institutions in your area. These events showcase the latest advancements in crop and livestock management. Also, consider joining local farmers' groups or cooperatives, where experienced farmers share their knowledge and experiences.\n\nMany government agricultural departments organize training programs, so keep an eye out for these opportunities. Finally, contacting NGOs that focus on agriculture can also be helpful, as they often provide hands-on training and resources for farmers.",
         "India"
        ],
        [
         "1",
         "deepseek-deepseek-reasoner",
         "15",
         "15",
         "How are Farmer groups, Farmer Producer Organizations, Community Based Organizations and cooperatives important to farmers?",
         "Farmer groups, FPOs, cooperatives, and CBOs strengthen smallholders by pooling resources, knowledge, and bargaining power. Together, you can buy seeds/fertilizers cheaper in bulk, sell produce at higher prices by avoiding middlemen, and access loans or machinery (e.g., shared tractors). These groups provide training on climate-smart practices, connect you to government schemes (subsidies, insurance), and reduce risks through collective crop planning or storage. Cooperatives also help market produce directly to processors/exporters, ensuring fair prices. By uniting, farmers gain influence in policies and resist exploitation, boosting income and resilience. Joining such organizations empowers you to overcome challenges collectively, not alone.",
         "India"
        ],
        [
         "2",
         "anthropic-claude-3-7-sonnet-20250219",
         "6",
         "36",
         "Are chemical pesticides important and safe in crop and livestock production?",
         "# Chemical Pesticides in Farming: Important but Need Careful Use\n\nChemical pesticides can be important tools for protecting crops and livestock from pests and diseases that reduce yields and income. When used correctly, they help preserve crop quality and quantity, potentially improving your farm's productivity and profitability. \n\nHowever, pesticides must be used with caution as they can be harmful to human health, beneficial insects like pollinators, livestock, and the environment if misused. Always wear protective clothing (gloves, masks, full-sleeve shirts) when applying pesticides, follow label instructions precisely, and maintain proper waiting periods before harvest or slaughter. \n\nMany chemical pesticides can leave residues in food products, soil and water, which is why integrated pest management (IPM) approaches that combine minimal chemical use with biological controls and good agricultural practices are often safer and more sustainable. Consider alternatives like neem-based products, biological controls, and crop rotation to reduce dependency on chemical pesticides while still managing pests effectively. \n\nRemember that some pesticides available in local markets might be banned or restricted elsewhere, so seek advice from your local Krishi Vigyan Kendra (KVK) or agricultural extension office about which products are legal and appropriate for your specific needs.",
         "India"
        ],
        [
         "3",
         "openai-o4-mini-2025-04-16",
         "14",
         "89",
         "What are the best disease management practices in livestock production?",
         "1. Inspect your animals every day for cough, fever, diarrhea, cuts or any change in behavior.  \n2. Keep pens, bedding and feeding troughs clean and dry to prevent germs from multiplying.  \n3. Offer balanced feed and fresh, clean water so your animals stay strong and resist infections.  \n4. Follow a regular vaccination schedule recommended by your local veterinarian.  \n5. Deworm your livestock on time, typically every 3–6 months, to control internal parasites.  \n6. Always isolate new or sick animals in a separate pen until you are sure they are healthy.  \n7. Disinfect tools, boots and feeding equipment after use, using a simple bleach solution or approved disinfectant.  \n8. Control rodents, flies and other pests that can carry diseases into your barns.  \n9. Keep written records of vaccinations, deworming, illnesses and treatments for each animal.  \n10. Call your veterinarian immediately if you see serious or unusual symptoms.",
         "India"
        ],
        [
         "4",
         "anthropic-claude-3-7-sonnet-20250219",
         "11",
         "41",
         "What are the signs of nutrient deficiency in maize and how can they be corrected?",
         "# Signs of Nutrient Deficiency in Maize and Solutions\n\nNitrogen deficiency shows as yellowing of older leaves in a V-pattern from the tip to the base, which can be corrected by applying urea or farmyard manure. Phosphorus-deficient plants develop purplish leaves and stunted growth, requiring application of DAP (diammonium phosphate) or single superphosphate. Potassium shortage appears as yellowing and browning along the edges of older leaves - apply muriate of potash (MOP) to address this problem. Zinc deficiency causes white bands between leaf veins and shortens plant internodes, which can be fixed with zinc sulfate application (either as soil treatment or foliar spray). Magnesium shortage shows as yellowing between veins while veins stay green, correctable by applying magnesium sulfate. For best results, conduct a soil test before planting to know exactly which nutrients your soil lacks. Apply organic matter regularly to improve overall soil fertility and nutrient retention. In severe cases, a balanced NPK fertilizer combined with micronutrient mixtures specific for maize can quickly address multiple deficiencies at once.",
         "India"
        ],
        [
         "5",
         "openai-gpt-4o-2024-08-06",
         "14",
         "29",
         "What are the best disease management practices in livestock production?",
         "To effectively manage diseases in livestock, start by ensuring good hygiene in your farm. Clean animal housing regularly to prevent the buildup of manure and other waste, which can harbor disease. Provide clean, fresh water and nutritious feed to your animals, as well-maintained animals have stronger immunity. Implement a vaccination schedule for your livestock to protect them from common diseases. Quarantine any new or sick animals to prevent disease spread among your herd. Regularly consult with a veterinarian for health checks and advice on disease prevention. Keep detailed records of your animals' health and treatments to identify and manage disease trends. Practice good biosecurity measures, such as controlling access to your farm and disinfecting equipment. Finally, educate yourself and other farm workers about signs of common diseases to ensure early detection and prompt treatment.",
         "India"
        ],
        [
         "6",
         "openai-o3-2025-04-16",
         "11",
         "131",
         "What are the signs of nutrient deficiency in maize and how can they be corrected?",
         "1. Nitrogen lack shows as pale-green to yellow older leaves and slow growth; side-dress 40–50 kg urea/acre at knee-high stage and keep the field moist.  \n2. Phosphorus lack gives a purple or reddish colour on older leaves and stunted roots; mix 40–50 kg DAP or 75–100 kg SSP/acre into the soil at sowing.  \n3. Potassium lack causes yellow-brown burning along the edges of lower leaves and weak, lodging stalks; apply 25–30 kg MOP (muriate of potash) or 100 kg wood ash/acre before tasselling.  \n4. Zinc lack appears as white-yellow bands on the young leaves starting from the mid-rib with shortened plants; add 10 kg zinc sulphate/acre to the soil or spray 0.5 % zinc sulphate + 0.25 % lime on the foliage.  \n5. Sulphur lack gives uniform yellowing of the youngest leaves and thin stems; broadcast 40 kg gypsum or use SSP instead of DAP at planting.  \n6. Magnesium lack shows as yellowing between the veins of older leaves; treat with 20 kg magnesium sulphate/acre or apply dolomitic lime if soil is acidic.  \n7. Iron lack causes the youngest leaves to turn yellow while veins stay green; correct by spraying 1 % ferrous sulphate + 0.5 % lime twice at 10-day intervals.  \n8. Keep soil pH around 6–7.5, return crop residues, and add 2–4 t well-decomposed FYM/acre to improve nutrient supply and prevent most deficiencies.",
         "India"
        ],
        [
         "7",
         "deepseek-deepseek-reasoner",
         "3",
         "3",
         "I am interested in learning about crops and livestock production. Where can I visit to learn more about crops and livestock production?",
         "Visit your nearest **Krishi Vigyan Kendra (KVK)** or **Agricultural University** (e.g., ICAR institutes, state universities like Punjab Agricultural University). These centers offer free training, field demonstrations, and expert guidance on crops/livestock. **State Agriculture Departments** organize farmer fairs and workshops—ask your local extension officer. For hands-on learning, join **Farmer Producer Organizations (FPOs)** or visit **model farms** in your district under government schemes like ATMA. **Dairy cooperatives** (e.g., Amul) provide livestock training. Prioritize KVKs first—they’re tailored for smallholders!",
         "India"
        ],
        [
         "8",
         "deepseek-deepseek-reasoner",
         "14",
         "14",
         "What are the best disease management practices in livestock production?",
         "1. **Vaccinate regularly** against common diseases like foot-and-mouth, hemorrhagic septicemia, and brucellosis, following local veterinary guidelines.  \n2. **Maintain biosecurity**: Restrict farm access, quarantine new animals for 2-3 weeks, and disinfect tools/vehicles to prevent disease entry.  \n3. **Practice clean sanitation**: Remove manure daily, disinfect sheds monthly, and ensure clean, dry bedding to reduce infection risks.  \n4. **Provide balanced feed and clean water** to boost immunity; avoid moldy feed or stagnant water sources.  \n5. **Control parasites**: Deworm every 3-6 months and use sprays/dips for ticks, lice, and mites.  \n6. **Monitor health daily**: Check for symptoms like fever, coughing, reduced appetite, or abnormal discharges; isolate sick animals immediately.  \n7. **Dispose of carcasses safely** by deep burial (6+ feet) or incineration to prevent contamination.  \n8. **Avoid overcrowding** to minimize stress and disease spread; ensure proper ventilation in shelters.  \n9. **Collaborate with veterinarians** for timely diagnosis and treatment; keep records of illnesses and medications.  \n10. **Educate yourself** on local disease outbreaks and report unusual symptoms to authorities promptly.  \n\nBy combining prevention, hygiene, and vigilance, you can protect your livestock effectively.",
         "India"
        ],
        [
         "9",
         "anthropic-claude-3-5-sonnet-20241022",
         "14",
         "74",
         "What are the best disease management practices in livestock production?",
         "Good disease management in livestock involves both prevention and treatment. The most important practice is maintaining clean housing and surroundings by regularly removing manure and providing fresh bedding. Vaccinate your animals according to the local veterinary schedule and keep records of all vaccinations. Practice good biosecurity by keeping new animals separate for 2-3 weeks before mixing them with your herd/flock and restricting visitor access to animal areas. Provide clean, fresh drinking water and quality feed to keep animals healthy and strong. Watch your animals daily for signs of illness like reduced appetite, lethargy, abnormal droppings, or unusual behavior, and contact your local veterinarian immediately if you notice these symptoms. Regular deworming as per veterinary advice is essential to control internal parasites. Keep different species of animals separate to prevent disease transmission. Maintain proper spacing between animals to avoid overcrowding and stress. Always clean and disinfect tools and equipment used for different groups of animals to prevent disease spread.",
         "India"
        ],
        [
         "10",
         "anthropic-claude-3-5-sonnet-20241022",
         "4",
         "64",
         "Which bean variety is suitable for dryland agro-ecological zone?",
         "For dryland farming, I recommend growing Black gram (Urad dal) or Green gram (Moong dal) as they are drought-tolerant pulse crops well-suited for rainfed conditions. Popular short-duration varieties like IPU-94-1 (Black gram) and IPM-02-03 (Green gram) mature in 65-70 days, helping avoid late-season moisture stress. These varieties can grow well even with 400-500mm rainfall and don't require much irrigation. They have deep root systems that help them access moisture from lower soil layers during dry spells. Both crops can fix nitrogen in the soil, improving its fertility for the next crop. Make sure to plant them at the onset of monsoon with 30x10 cm spacing and treat seeds with Rhizobium culture before sowing for better yields. Under good management, you can expect yields of 8-10 quintals per hectare.",
         "India"
        ],
        [
         "11",
         "anthropic-claude-3-5-sonnet-20241022",
         "10",
         "70",
         "Lately, the onset of rains has shown significant variability from season to season. This has affected our ability to judge when to plant. In this scenario, when is the best time to plant?",
         "As an agricultural extension agent, I understand your concern about uncertain rainfall patterns. The best approach is to wait until you receive 2-3 days of good rainfall (around 20-25mm in total) and when the soil has enough moisture to maintain seedling growth for at least 5-7 days. Before planting, prepare your field in advance so you can sow immediately when the right conditions arrive. Consider using short-duration crop varieties that can better cope with a shorter growing season if rains are delayed. If you have access to irrigation, you could start dry sowing 7-10 days before expected rainfall, but only do this if you're confident you can provide supplemental irrigation if needed. For added security, you may want to plant in stages - sowing parts of your field at different times to spread the risk. Keep in touch with your local agricultural office for weather updates and rainfall forecasts to help with planning.",
         "India"
        ],
        [
         "12",
         "anthropic-claude-3-5-sonnet-20241022",
         "5",
         "65",
         "If I am unable to acquire certified maize seeds, which variety can I save and replant the next season?",
         "As an agricultural advisor, I recommend using open-pollinated varieties (OPVs) of maize if you plan to save and replant seeds. Unlike hybrid maize, OPVs will maintain their characteristics in the next generation when properly saved. Some reliable OPV maize varieties in India include Pusa Composite 3, Pusa Composite 4, and Navjot, which are developed by agricultural universities and research stations. To save seeds, select the healthiest plants from the middle of your field (avoiding edge plants), and choose the largest, disease-free cobs with well-filled grains. Let the cobs dry completely on the plant until the kernels are hard, then store them in a clean, dry container with neem leaves to protect from pests. However, remember that OPVs generally give 15-20% lower yields compared to hybrids, but they are more cost-effective when you save seeds. For best results, replace your saved seeds with fresh OPV seeds every 3-4 seasons to maintain vigor.",
         "India"
        ],
        [
         "13",
         "openai-o3-2025-04-16",
         "4",
         "124",
         "Which bean variety is suitable for dryland agro-ecological zone?",
         "For dryland conditions, use the French bean (vegetable bean) variety “Contender.”  \nIt has a deep root system and tolerates short drought spells better than most other varieties.  \nThe crop comes to first picking in about 45–50 days, so it escapes late-season moisture stress.  \nPods are 12–14 cm long, fleshy and string-less, fetching a good market price.  \nUnder rain-fed management you can expect 4–5 tonnes of green pods per hectare.  \nSow with the first dependable rains at 45 cm row spacing and 10 cm between plants, using about 50 kg seed/ha.  \nIncorporate 5 t FYM plus a basal dose of 20 : 50 : 25 kg N : P₂O₅ : K₂O per hectare; give another 20 kg N at flowering if soil moisture permits.  \nKeep the field weed-free for the first 30 days and mulch with crop residue to conserve moisture.  \nThe variety is moderately resistant to mosaic and rust; if disease appears, spray neem extract or a triazole fungicide.  \nHarvest pods every 3–4 days at pencil thickness to maintain quality and encourage continuous flowering.",
         "India"
        ],
        [
         "14",
         "openai-o4-mini-2025-04-16",
         "5",
         "80",
         "If I am unable to acquire certified maize seeds, which variety can I save and replant the next season?",
         "Only open-pollinated (OPV) or composite maize varieties can be saved and replanted without big yield loss. Some common OPVs in India are Ganga-5, Rampur Composite, Nandi Composite (NDC-8444), URI-300, Bio-589 and PMH-1. These varieties breed true, so you can harvest, sort and save their seed each year. Do NOT save seed from F₁ hybrids (for example HQPM or Vivek series) because their offspring will segregate and give poor yields. At harvest choose healthy, fully filled cobs from vigorous plants for seed. Dry the kernels thoroughly to under 12% moisture before storage. Store seed in clean, airtight containers, adding neem leaf powder or wood ash to deter pests. Label each batch with variety name and harvest year. Every 3–4 years, refresh your stock by purchasing fresh OPV seed or by mixing with certified seed to maintain vigour.",
         "India"
        ],
        [
         "15",
         "deepseek-deepseek-chat",
         "8",
         "113",
         "How can I best control weeds in my farm?",
         "To control weeds effectively, use a mix of methods:  \n\n1. **Hand weeding**: Remove weeds early, especially before they flower and spread seeds.  \n2. **Mulching**: Cover soil with straw or dried leaves to block sunlight and suppress weed growth.  \n3. **Intercropping**: Plant crops like cowpea or groundnut between rows to shade out weeds.  \n4. **Herbicides (if needed)**: Use recommended herbicides carefully—follow dosage and timing instructions.  \n5. **Crop rotation**: Alternate crops to disrupt weed cycles.  \n\nAvoid letting weeds go to seed, and keep fields clean after harvest. Combine these methods for best results.",
         "India"
        ],
        [
         "16",
         "anthropic-claude-3-7-sonnet-20250219",
         "1",
         "31",
         "I have been applying different pesticides to control pests on my farm. However, they seem not to be effective, what can I do?",
         "# Improving Your Pest Control Approach\n\nWhen pesticides aren't working effectively, it may be due to pest resistance, incorrect application timing, wrong dosage, or using unsuitable products for your specific pests. First, identify your pests correctly by consulting your local agricultural extension office or using pest identification apps. Consider adopting Integrated Pest Management (IPM) practices by combining multiple strategies—crop rotation, resistant varieties, natural predators, and targeted pesticide use only when necessary. Ensure you're applying pesticides at the right time (usually early morning or evening), in correct concentration, and with proper equipment maintenance. If you must use chemicals, rotate between different pesticide classes to prevent resistance development. Try incorporating natural solutions like neem oil, beneficial insects, or trap crops around your fields. Remember that healthy soil builds resilient plants, so focus on improving soil health through compost and organic matter addition.",
         "India"
        ],
        [
         "17",
         "anthropic-claude-3-7-sonnet-20250219",
         "8",
         "38",
         "How can I best control weeds in my farm?",
         "# Weed Control for Your Farm\n\nControlling weeds starts with timely identification and action before they compete with your crops for nutrients, water, and sunlight. For small plots, hand weeding and using simple tools like hoes and small weeders is effective, especially when weeds are young and soil is slightly moist. Practice crop rotation to disrupt weed cycles, and consider intercropping compatible plants that can suppress weeds naturally. Apply mulch (straw, dried leaves, or plastic sheets) around plants to prevent weed growth while conserving soil moisture. Maintain proper spacing between plants to create a shaded canopy that reduces weed growth. For larger areas, consider appropriate pre-emergence or post-emergence herbicides, but always follow label instructions and wear protective clothing. Keep field edges and irrigation channels clean to prevent weeds from spreading seeds into your fields. Remember that integrated weed management—combining multiple methods—provides the most sustainable and effective control.",
         "India"
        ],
        [
         "18",
         "openai-o1-2024-12-17",
         "14",
         "59",
         "What are the best disease management practices in livestock production?",
         "1. Keep animal shelters clean, dry, and well-ventilated to prevent disease-causing germs from spreading.  \n2. Provide balanced nutrition, including clean drinking water and quality feed, to boost your livestock’s immunity.  \n3. Vaccinate animals against common local diseases on a regular schedule recommended by veterinary experts.  \n4. Quickly separate sick or weak animals from the healthy herd to reduce the chance of spreading infections.  \n5. Regularly deworm and check for internal and external parasites to maintain good overall health.  \n6. Clean and disinfect feeding areas and equipment to kill harmful germs.  \n7. Monitor animals daily for unusual behavior, decreased appetite, or other signs of illness.  \n8. Always consult a trained veterinarian before using any medicine to ensure correct dosage and safety.  ",
         "India"
        ],
        [
         "19",
         "deepseek-deepseek-chat",
         "9",
         "114",
         "How do organic and synthetic/inorganic fertilizers compare in terms of effectiveness to crop production, and which one would be more suitable for different farming conditions?",
         "Organic fertilizers (like compost, manure) improve soil health slowly but last longer, while synthetic fertilizers (like urea, DAP) give quick nutrients but can harm soil if overused. For long-term soil fertility and sustainable farming, organic is better. For immediate nutrient needs in poor soils or high-yield crops, synthetic works faster.  \n\n**Best choice depends on your conditions:**  \n- **Poor soil, low organic matter:** Use both—organic for long-term health, synthetic for quick boost.  \n- **Waterlogged/acidic soils:** Organic is better (synthetic may leach or worsen acidity).  \n- **Cash crops (e.g., vegetables):** Synthetic gives faster results, but combine with organic to avoid soil damage.  \n\nAlways test soil first to decide the right mix. Balance both for best yield and soil health.",
         "India"
        ],
        [
         "20",
         "deepseek-deepseek-chat",
         "14",
         "119",
         "What are the best disease management practices in livestock production?",
         "To manage diseases in livestock, follow these key practices:  \n\n1. **Vaccinate** animals on time against common diseases like foot-and-mouth, rabies, and brucellosis.  \n2. **Maintain hygiene**—clean sheds regularly, dispose of manure properly, and provide clean water.  \n3. **Quarantine** new or sick animals for 2-3 weeks to prevent disease spread.  \n4. **Control parasites** by deworming and using tick/fly repellents.  \n5. **Provide balanced feed** to keep animals healthy and resistant to infections.  \n6. **Monitor health daily**—look for signs like fever, coughing, or reduced appetite.  \n7. **Work with a veterinarian** for timely diagnosis and treatment.  \n\nPrevention is cheaper than cure—follow these steps to keep your livestock healthy!",
         "India"
        ],
        [
         "21",
         "openai-o1-2024-12-17",
         "11",
         "56",
         "What are the signs of nutrient deficiency in maize and how can they be corrected?",
         "Early signs of nitrogen deficiency include pale yellow or light green leaves, starting from lower leaves. Phosphorus deficiency often causes leaves to appear purplish, especially on the undersides. Potassium deficiency can lead to yellowing or browning of leaf edges, mainly on older leaves. Magnesium deficiency may appear as yellow or white stripes between leaf veins, starting at the leaf edges. Zinc deficiency in younger leaves often shows as white streaks between veins. To correct these, use balanced fertilizers that meet recommended nitrogen, phosphorus, and potassium ratios based on soil tests. Include micronutrient fertilizers containing zinc and magnesium if tests show low levels. Proper crop rotation, organic manure application, and timely irrigation also improve nutrient availability. Mulching helps retain soil moisture and nutrients. Always follow local extension recommendations for fertilizer types and rates.",
         "India"
        ],
        [
         "22",
         "anthropic-claude-3-7-sonnet-20250219",
         "3",
         "33",
         "I am interested in learning about crops and livestock production. Where can I visit to learn more about crops and livestock production?",
         "# Learning Resources for Crops and Livestock Production\n\nYou can visit your nearest Krishi Vigyan Kendra (KVK) which offers training programs and demonstrations specifically for farmers like you. Your district Agricultural Extension Office provides free advisory services and often conducts field visits and training sessions. State Agricultural Universities regularly host farmer training programs, field days, and maintain demonstration farms where you can see modern practices firsthand. The Indian Council of Agricultural Research (ICAR) institutes specialize in specific crops or livestock and welcome farmer visits. Many successful progressive farmers in your area also allow visits through farmer-to-farmer programs organized by the government. Additionally, agricultural exhibitions and melas (fairs) held throughout the year showcase new technologies and practices. You can also access Kisan Call Centers by dialing 1800-180-1551 for information about upcoming farmer training events near you.",
         "India"
        ],
        [
         "23",
         "openai-o4-mini-2025-04-16",
         "3",
         "78",
         "I am interested in learning about crops and livestock production. Where can I visit to learn more about crops and livestock production?",
         "1. To learn both crop and livestock production in one place, visit your nearest Krishi Vigyan Kendra (KVK).  \n2. KVKs are run by the Indian Council of Agricultural Research (ICAR) and offer free or low-cost training, field demonstrations and on-farm trials.  \n3. You can also go to the local State Agricultural University’s research farm—most have crop plots and animal units you can tour.  \n4. District Agriculture and Animal Husbandry offices organize farmer training days and “field schools” where you see best practices in action.  \n5. ICAR livestock research institutes or State Animal Husbandry demonstration farms will show you practical feeding, breeding and disease‐management methods.  \n6. Ask your District Agriculture Officer for dates of open days and short courses at these centres.  \n7. Finally, talk with progressive farmers in your area who host field visits; learning from neighbours is a powerful way to pick up skills.",
         "India"
        ],
        [
         "24",
         "anthropic-claude-3-5-sonnet-20241022",
         "15",
         "75",
         "How are Farmer groups, Farmer Producer Organizations, Community Based Organizations and cooperatives important to farmers?",
         "Farmer groups and organizations are very important tools to make farming more profitable and sustainable for smallholder farmers like you. By joining forces with other farmers, you get better bargaining power to negotiate prices when buying inputs like seeds and fertilizers in bulk, or when selling your produce to traders and companies. These groups also help you access government schemes, bank loans, and new farming technologies more easily. As a group member, you can share expensive machinery like tractors or processing equipment, which would be too costly to buy alone. Farmer organizations provide training and knowledge about better farming practices, helping you improve yields and income. Through cooperatives, you can store your harvest safely and sell when prices are better instead of being forced to sell immediately after harvest. Many successful farmer groups even do value addition like grading, packaging and processing to earn more money. Perhaps most importantly, being part of a farmer group means you don't have to face farming challenges alone - you have the support of fellow farmers who understand your situation.",
         "India"
        ],
        [
         "25",
         "anthropic-claude-3-7-sonnet-20250219",
         "2",
         "32",
         "I have been losing my crops and livestock due to drought and floods. What can I do to get compensation during such occurrences?",
         "# Compensation Options for Crop and Livestock Losses\n\nDear Farmer, you can enroll in the Pradhan Mantri Fasal Bima Yojana (PMFBY) through your local bank, agricultural extension office, or Common Service Center to get compensation for crop losses due to natural disasters. For livestock, the Livestock Insurance Scheme offers protection against death of animals—contact your local veterinary hospital or Krishi Vigyan Kendra to enroll. Keep detailed records of your farming activities, including photographs of damaged crops/livestock, cultivation records, and receipts of inputs purchased. After a disaster, immediately inform your bank, insurance provider, and local agriculture department, who will send officials to assess the damage. You can also seek assistance from your Gram Panchayat to access state disaster relief funds when available. Many banks also offer loan restructuring or moratoriums during officially declared disasters, so speak with your bank manager about these options.",
         "India"
        ],
        [
         "26",
         "openai-o4-mini-2025-04-16",
         "6",
         "81",
         "Are chemical pesticides important and safe in crop and livestock production?",
         "Chemical pesticides can be important for controlling crop pests and livestock parasites, helping you protect yields and animal health. But they must be used carefully to avoid harm to yourself, your family, your animals, beneficial insects and the environment. Always follow the label instructions for dose, timing and method of application, and respect the pre-harvest or withdrawal period before consumption or sale. Wear protective clothing—gloves, mask, long sleeves—and do not spray in windy weather. Buy only approved products from reliable dealers and store them safely away from children and animals. Dispose of empty containers and unused chemicals according to local rules. Whenever possible, combine chemical sprays with non-chemical methods (crop rotation, resistant varieties, natural predators) in an integrated pest management system. This balanced approach reduces your cost, lowers health risks and keeps your farm productive long term.",
         "India"
        ],
        [
         "27",
         "gemini-gemini-2-5-pro-preview-05-06",
         "9",
         "99",
         "How do organic and synthetic/inorganic fertilizers compare in terms of effectiveness to crop production, and which one would be more suitable for different farming conditions?",
         "Namaste! Both organic and synthetic fertilizers help your crops grow, but they work differently.\nSynthetic fertilizers, like urea or DAP, provide nutrients quickly, giving a fast boost to plant growth. They are good if your soil is very low in a specific nutrient or if your crop needs an immediate feed.\nOrganic fertilizers, such as farmyard manure or compost, release nutrients slowly as they improve your soil structure and health. This long-term benefit helps your soil hold more water and supports beneficial soil life.\nFor poor soils, starting with organic matter is crucial for building fertility. If you need a rapid correction for a nutrient deficiency, synthetic fertilizers offer a quicker response.\nOften, the best approach is to combine both: use organic matter to build your soil and supplement with synthetic fertilizers based on crop needs. For example, in sandy soils that don't hold nutrients well, organic matter is very important. In heavy clay soils, organic matter also helps with drainage and aeration. A soil test can guide you in making the most effective decision for your specific farm.",
         "India"
        ],
        [
         "28",
         "anthropic-claude-3-7-sonnet-20250219",
         "14",
         "44",
         "What are the best disease management practices in livestock production?",
         "# Best Disease Management Practices for Livestock\n\nNamaste farmer, preventing livestock diseases is much easier than treating them! \n\nFirst, maintain clean housing with proper ventilation and regularly remove animal waste to prevent infection spread. Always quarantine new animals for at least 14 days before introducing them to your herd or flock. Follow a proper vaccination schedule as recommended by your local veterinarian for diseases common in your area like Foot and Mouth Disease, Hemorrhagic Septicemia, and Black Quarter. Provide balanced nutrition and clean drinking water to strengthen animals' natural immunity. Practice good biosecurity by limiting visitors to your animal areas and using footbaths with disinfectant at entrances. Regular deworming (every 3-6 months) helps control internal parasites that weaken animals. Keep records of vaccinations, treatments, and any illnesses to track health patterns. Lastly, quickly isolate sick animals and contact your veterinarian when you notice unusual symptoms like reduced appetite, abnormal droppings, or changes in behavior.",
         "India"
        ],
        [
         "29",
         "openai-o3-2025-04-16",
         "3",
         "123",
         "I am interested in learning about crops and livestock production. Where can I visit to learn more about crops and livestock production?",
         "1. Start with the Krishi Vigyan Kendra (KVK) in your district; they give free, hands-on training, have demo crop plots and keep small dairy, goat and poultry units you can observe.  \n2. Visit the nearest State Agricultural University campus or its regional research station, which keeps model fields and livestock farms and offers farmer exposure visits on request.  \n3. ICAR institutes—like IARI, New Delhi (crops), IVRI, Izatnagar (animal health), NDRI, Karnal (dairy) and CIBA, Chennai (fish)—run short farmer courses and open days throughout the year.  \n4. Your District Agriculture Training Centre or Farm Information & Advisory Centre, run by the state agriculture department, holds low-cost practical classes on both crops and animals.  \n5. Government livestock farms under the Department of Animal Husbandry allow farmers to watch best management practices and buy improved calves, chicks or kids.  \n6. Attend seasonal Kisan Melas and Agri-Tech Fairs organised by SAUs and ICAR; you can see new varieties, machinery demonstrations and live animal displays in one place.  \n7. Ask the ATMA (Agricultural Technology Management Agency) office at block level to put you on study tours to progressive farmers’ fields or commercial dairy and poultry units nearby.  \n8. For addresses, dates and phone numbers of all these centres, call the toll-free Kisan Call Centre 1800-180-1551 or check the mKisan and Kisan Suvidha mobile apps.",
         "India"
        ],
        [
         "30",
         "deepseek-deepseek-reasoner",
         "12",
         "12",
         "How can I mitigate post-harvest losses in crops and livestock?",
         "To reduce crop losses:  \n1. Dry grains thoroughly (12-14% moisture) on clean tarps/raised platforms, not bare ground.  \n2. Store in airtight containers/hermetic bags or treat storage with neem leaves/approved pesticides.  \n3. Use cold storage for perishables (vegetables/fruits) or sell quickly.  \n\nFor livestock:  \n4. Vaccinate animals against common diseases (e.g., foot-and-mouth) and deworm regularly.  \n5. Provide clean water, balanced feed, and shaded shelters to prevent stress.  \n6. Avoid overcrowding during transport/marketing to reduce injuries.  \n\nGeneral steps:  \n7. Clean storage areas to remove pests/mold.  \n8. Monitor stored crops weekly for spoilage/pests.  \n9. Sell produce when market prices are favorable to avoid long storage risks.  \n10. Seek training from local Krishi Vigyan Kendras (KVKs) on post-harvest techniques.",
         "India"
        ],
        [
         "31",
         "deepseek-deepseek-chat",
         "11",
         "116",
         "What are the signs of nutrient deficiency in maize and how can they be corrected?",
         "**Answer:**  \n\nIn maize, nutrient deficiencies show clear signs:  \n- **Nitrogen (N):** Yellowing starts from older leaves. Apply urea (50–100 kg/acre) or farmyard manure (FYM).  \n- **Phosphorus (P):** Purple or reddish leaves, stunted growth. Use DAP (25–50 kg/acre) or SSP mixed with soil.  \n- **Potassium (K):** Yellow/brown leaf edges, weak stems. Apply MOP (30–40 kg/acre).  \n- **Zinc (Zn):** White streaks on young leaves. Spray 0.5% zinc sulfate solution or apply zinc sulfate (10 kg/acre).  \n\nTest soil first for precise corrections, and use balanced fertilizers or organic compost for long-term soil health.",
         "India"
        ],
        [
         "32",
         "openai-o1-2024-12-17",
         "15",
         "60",
         "How are Farmer groups, Farmer Producer Organizations, Community Based Organizations and cooperatives important to farmers?",
         "Farmer groups, Farmer Producer Organizations (FPOs), Community Based Organizations (CBOs), and cooperatives help you get better prices by selling produce in larger volumes. They also help in accessing quality inputs—like seeds, fertilizers, and machinery—often at lower costs. By coming together, you can share knowledge and learn from each other’s farming experiences. These organizations often provide training, market information, and new technologies to boost productivity. They can also assist you in getting loans, insurance, or government scheme benefits more easily. Good leadership in these groups supports fair decision-making and profit sharing. Being part of such groups strengthens your negotiating power, reducing the chances of exploitation. Working collectively helps solve common farming challenges and reduces risks. Engaging in these groups also builds trust and unity among farmers. Ultimately, they improve your incomes and overall well-being.",
         "India"
        ],
        [
         "33",
         "anthropic-claude-3-7-sonnet-20250219",
         "7",
         "37",
         "How can I know that my soil is fertile?",
         "# How to Check Your Soil Fertility\n\nGood soil fertility shows in several ways that you can observe yourself. Fertile soil usually appears dark brown or black, feels crumbly when dry, and holds shape without breaking apart when moist. Healthy plants with deep green leaves, vigorous growth, and good yields are strong indicators of fertile soil. You can do a simple earthworm count by digging a 30cm cube of soil - finding 10 or more earthworms suggests good fertility. Water infiltration test is also useful - fertile soil absorbs water quickly instead of forming puddles. The Indian government offers affordable soil testing through Krishi Vigyan Kendras (KVKs) and agricultural extension centers, which provide detailed nutrient information. Many districts also have mobile soil testing vans visiting villages periodically. For a basic home test, place a handful of soil in a clear bottle with water, shake well, and let it settle - good soil shows distinct layers with organic matter floating on top.",
         "India"
        ],
        [
         "34",
         "openai-o1-2024-12-17",
         "8",
         "53",
         "How can I best control weeds in my farm?",
         "1. Use certified, weed-free seeds and plant them at the correct spacing so the crop canopy can shade out weeds.  \n2. Hand weed or hoe regularly when weeds are small, especially within the first few weeks after sowing.  \n3. Apply organic mulch like straw or dried leaves to block sunlight and reduce weed germination.  \n4. Practice crop rotation to break weed life cycles and reduce their buildup in the soil.  \n5. Maintain good field sanitation by removing weeds before they produce seeds or spread.  \n6. If using herbicides, choose the correct product for your crop, and strictly follow recommended dosages and safety guidelines.  \n7. Monitor fields frequently so you can catch and manage weeds early, ensuring healthy crop growth.  ",
         "India"
        ],
        [
         "35",
         "openai-gpt-4o-2024-08-06",
         "1",
         "16",
         "I have been applying different pesticides to control pests on my farm. However, they seem not to be effective, what can I do?",
         "I'm sorry to hear you're facing this issue. Here are a few steps you can take to improve the situation:\n\n1. **Identify the Pest**: Make sure you have correctly identified the pest. Sometimes, misidentification can lead to using the wrong pesticide, which will be ineffective.\n\n2. **Check Pesticide Expiry**: Ensure the pesticides you're using aren't expired, as expired products lose their effectiveness.\n\n3. **Rotate Pesticides**: Pests can become resistant to a pesticide if it's used repeatedly. Rotating pesticides with different active ingredients can help prevent this resistance.\n\n4. **Integrated Pest Management (IPM)**: Consider using IPM practices which include cultural, mechanical, biological, and chemical methods to control pests. This holistic approach can be more effective than relying solely on chemicals.\n\n5. **Correct Dosage and Application**: Make sure you're using the correct dosage and application method as per the label instructions. Applying less or more than recommended can reduce effectiveness.\n\n6. **Soil Health and Crop Rotation**: Maintain good soil health and practice crop rotation to naturally deter pests. Healthy plants are more resistant to pest attacks.\n\n7. **Local Extension Services**: Reach out to your local agricultural extension officer for specific advice tailored to your situation and region.\n\nFollowing these steps should help improve pest control on your farm.",
         "India"
        ],
        [
         "36",
         "deepseek-deepseek-reasoner",
         "13",
         "13",
         "What are some of the strategies that I can employ to manage climate change in crop production?",
         "To manage climate change in crop production:  \n1. Grow drought-resistant varieties (e.g., millets, drought-tolerant maize).  \n2. Use drip irrigation or rainwater harvesting to save water.  \n3. Apply organic compost/mulch to retain soil moisture and fertility.  \n4. Practice crop rotation/intercropping (e.g., legumes with cereals) to boost soil health.  \n5. Monitor weather forecasts via apps (e.g., *mKisan*) to plan sowing/harvesting.  \n6. Plant trees (agroforestry) around fields to reduce heat stress and erosion.  \n7. Shift planting dates to avoid extreme heat/rains (follow local advisories).  \n8. Use pest-resistant seeds, as warmer climates increase pest risks.  \n9. Adopt zero-tillage or reduced tillage to protect soil structure.  \n10. Join farmer groups to share climate-smart practices and resources.  \n\nStay updated with local agricultural offices for tailored advice!",
         "India"
        ],
        [
         "37",
         "deepseek-deepseek-chat",
         "4",
         "109",
         "Which bean variety is suitable for dryland agro-ecological zone?",
         "For dryland farming in India, drought-tolerant bean varieties like **Pusa Sem 2 (Cowpea)** or **Pusa 578 (Mungbean)** are suitable. These varieties require less water, mature early (60-70 days), and resist moderate drought. **Horsegram (Kulthi)** is another hardy option for poor soils. Sow at the start of rains, use mulch to retain moisture, and space plants 30 cm apart for better root growth. Avoid waterlogging—these crops thrive in well-drained soils. Choose certified seeds from local Krishi Vigyan Kendras (KVKs) for best results.",
         "India"
        ],
        [
         "38",
         "anthropic-claude-3-7-sonnet-20250219",
         "10",
         "40",
         "Lately, the onset of rains has shown significant variability from season to season. This has affected our ability to judge when to plant. In this scenario, when is the best time to plant?",
         "# Adapting Planting Times to Variable Rainfall\n\nYou're right that rainfall patterns have become less predictable in recent years, making traditional planting calendars less reliable. The best approach now is to focus on soil moisture rather than calendar dates - seeds need adequate moisture to germinate properly, so plant when your soil has good moisture content but isn't waterlogged. For most crops, monitor reliable 5-7 day weather forecasts through your local Krishi Vigyan Kendra (KVK) or weather apps and aim to plant just before predicted rainfall events. Consider practicing staggered planting where you plant portions of your field at 7-10 day intervals to spread your risk. Drought-tolerant varieties like improved jowar, bajra, or short-duration rice varieties offer better security in uncertain rainfall conditions. Keep your field prepared in advance so you can quickly plant when conditions become favorable. If possible, collect rainwater in farm ponds or implement simple water conservation techniques to supplement irrigation during dry spells.",
         "India"
        ],
        [
         "39",
         "deepseek-deepseek-chat",
         "7",
         "112",
         "How can I know that my soil is fertile?",
         "To check if your soil is fertile, observe these signs:  \n\n1. **Dark, crumbly texture** – Fertile soil is loose and rich in organic matter.  \n2. **Good crop growth** – Healthy, vigorous plants with deep green leaves indicate fertile soil.  \n3. **Earthworms & microbes** – Many earthworms mean the soil has nutrients and good structure.  \n4. **Water retention** – Fertile soil holds moisture well but drains excess water.  \n5. **Soil test** – For certainty, get a soil test from a local lab to check nutrient levels (N, P, K).  \n\nIf your soil lacks these, add compost, manure, or organic fertilizers to improve fertility.",
         "India"
        ],
        [
         "40",
         "openai-o1-2024-12-17",
         "9",
         "54",
         "How do organic and synthetic/inorganic fertilizers compare in terms of effectiveness to crop production, and which one would be more suitable for different farming conditions?",
         "Organic fertilizers come from compost, manure, and other natural materials that also boost the soil’s structure and long-term fertility. Synthetic fertilizers are manufactured products that provide nutrients more quickly and in precise amounts. Both can be effective, but their suitability often depends on soil conditions, crop type, and farming practices. If your soil is low in organic matter or prone to erosion, organic fertilizers can help rebuild it over time. If you need a quick or targeted nutrient boost, synthetic fertilizers may be more appropriate. Synthetic fertilizers can be more expensive and might harm your soil structure if used improperly. Organic fertilizers are generally safer for the environment but require more labor to prepare and apply. Many experienced farmers use a combination of both types to balance immediate crop needs with long-term soil health. It is best to test your soil regularly and get specific recommendations from a local extension office. Combining good soil management with proper fertilization practices can help ensure healthy crops and higher yields.",
         "India"
        ],
        [
         "41",
         "openai-o4-mini-2025-04-16",
         "11",
         "86",
         "What are the signs of nutrient deficiency in maize and how can they be corrected?",
         "1. Nitrogen deficiency shows as uniform yellowing of older leaves and stunted growth; correct by side‐dressing with urea or a balanced NPK fertilizer during the V4–V6 growth stage.  \n2. Phosphorus deficiency causes purplish tints on leaf edges and slow early growth; correct by applying single superphosphate or DAP at planting.  \n3. Potassium deficiency leads to brown or scorched leaf margins, weak stalks, and poor grain fill; correct by banding muriate of potash or sulfate of potash before or at planting.  \n4. Zinc deficiency appears as whitish strips between veins on new leaves and reduced tassel development; correct by broadcasting zinc sulfate or foliar‐spraying zinc chelate.  \n5. Sulfur deficiency looks like pale green younger leaves (similar to N deficiency but on new leaves first); correct by applying gypsum or elemental sulfur.  \n6. Always test your soil before planting to choose the right fertilizer blend and avoid over‐ or under‐application.  \n7. Incorporate well‐rotted farmyard manure or compost to improve nutrient availability and soil health.",
         "India"
        ],
        [
         "42",
         "deepseek-deepseek-reasoner",
         "11",
         "11",
         "What are the signs of nutrient deficiency in maize and how can they be corrected?",
         "**Signs and Solutions for Maize Nutrient Deficiency:**  \n1. **Nitrogen (N):** Older leaves turn pale yellow, stunted growth. Apply urea (split doses: sowing, knee-high, tasseling) or farmyard manure.  \n2. **Phosphorus (P):** Purple-red tint on leaf edges, poor roots. Use DAP/SSP at sowing, place near roots.  \n3. **Potassium (K):** Yellow-brown leaf edges, weak stalks. Apply muriate of potash or wood ash at planting.  \n4. **Zinc (Zn):** White-yellow stripes on young leaves. Spray 0.5% zinc sulfate solution at 15–20-day intervals.  \n5. Test soil before planting to adjust fertilizer use. Mix compost/vermicompost to improve soil health. Avoid excess urea to prevent burning.",
         "India"
        ],
        [
         "43",
         "openai-o3-2025-04-16",
         "1",
         "121",
         "I have been applying different pesticides to control pests on my farm. However, they seem not to be effective, what can I do?",
         "1. First make sure you have correctly identified the pest; if unsure, take a sample to your nearest Krishi Vigyan Kendra or extension officer.  \n2. Use a pesticide that is specifically recommended for that pest and avoid repeating the same chemical family—pests quickly become resistant when the active ingredient never changes.  \n3. After each spray, rotate to a product with a different IRAC or FRAC group number and leave at least 10–14 days before using the same group again.  \n4. Calibrate your knapsack sprayer so the recommended dose of chemical and the right volume of water reach every part of the crop; under- or over-dilution both reduce effectiveness.  \n5. Mix the spray in clean, soft water; hard or muddy water binds many pesticides and makes them weak.  \n6. Spray early morning or late afternoon when the air is calm and the pest is active; wind and hot midday sun cause drift and rapid evaporation.  \n7. Add a sticker–spreader (about 1 ml per litre) so the spray forms an even film on the leaves, especially against sucking insects.  \n8. Combine chemicals with cultural and biological methods: rogue and destroy heavily infested plants, use yellow or blue sticky traps, release Trichogramma cards, and sow pest-tolerant varieties.  \n9. Keep a notebook of spray date, product name, group number, dose and result; these records help you and the extension worker fine-tune your program and avoid resistance.",
         "India"
        ],
        [
         "44",
         "deepseek-deepseek-chat",
         "5",
         "110",
         "If I am unable to acquire certified maize seeds, which variety can I save and replant the next season?",
         "If you cannot get certified maize seeds, you can save and replant **local open-pollinated varieties (OPVs)** or **traditional landraces**, as these retain their traits when replanted. Avoid saving hybrid seeds (like most \"F1\" varieties), as they lose yield and uniformity in the next generation. Good OPV choices in India include **Jaunpuri, Sona Moti, or Vijay Composite**.  \n\nTo save seeds:  \n1. Select healthy, well-filled cobs from disease-free plants.  \n2. Dry them fully (12–14% moisture) and store in airtight containers with neem leaves to prevent pests.  \n\nReplant within 1–2 years for best germination. Always rotate maize with legumes (e.g., soybean) to maintain soil health.",
         "India"
        ],
        [
         "45",
         "openai-o3-2025-04-16",
         "5",
         "125",
         "If I am unable to acquire certified maize seeds, which variety can I save and replant the next season?",
         "Choose an open-pollinated composite (OPV) maize variety, not a hybrid, because OPVs breed “true to type” and will still give you good yield when their seed is saved for the next season. Popular Indian OPVs you can save include Suwan-1, Shakti, Vijay Composite, Jawahar Maize-15 (JM-15) and Vivek QPM-9; ask your nearest Krishi Vigyan Kendra which one suits your agro-climatic zone. During harvest select the healthiest, well-filled, disease-free cobs from plants in the middle of the field, because these are least affected by border pollen contamination. Dry the selected cobs to 12–13 % moisture (the kernels should bite hard and fall clean) and store them unshelled in a cool, dry, rodent-free place or shell and keep in airtight bags after treating with fungicide/insecticide dust (e.g., thiram + carbaryl 5 g kg⁻¹ seed). Keep at least 200 m isolation distance from other maize or sorghum fields at flowering time next season to maintain purity. Do not replant single-cross, double-cross or QPM hybrids such as HQPM-1, HQPM-5, P3396, etc., because their F₂ seed segregates and yields can drop 25–40 %. Test germination one month before sowing; if less than 85 %, increase seed rate or obtain fresh seed. Use a seed rate of 20–25 kg ha⁻¹ for bold-kernel OPVs, treat with Azospirillum + Trichoderma if available, and plant at 60 cm × 20 cm spacing. Follow recommended fertilizer (about 100:50:50 kg NPK ha⁻¹ split 3 times) and timely weed control to realize the genetic potential of the saved seed.",
         "India"
        ],
        [
         "46",
         "openai-gpt-4o-2024-08-06",
         "15",
         "30",
         "How are Farmer groups, Farmer Producer Organizations, Community Based Organizations and cooperatives important to farmers?",
         "Farmer groups, Farmer Producer Organizations (FPOs), Community Based Organizations (CBOs), and cooperatives are essential for smallholder farmers for several reasons. First, by coming together, farmers can pool their resources and buy seeds, fertilizers, and other inputs in bulk at lower prices. This helps reduce costs and increase profit margins. Second, these organizations give farmers better bargaining power in the market, allowing them to negotiate better prices for their produce. \n\nThird, Farmer groups and cooperatives often provide access to important resources like credit and financial services, which are harder to obtain individually. Fourth, they serve as a platform for knowledge sharing, where farmers can learn new farming techniques, pest management strategies, and sustainable practices. Fifth, being part of these groups often enables farmers to participate in government programs and receive subsidies more easily.\n\nFinally, these organizations can help farmers manage risks better by providing support during natural disasters or market fluctuations. Overall, they empower farmers by improving access to resources, information, and markets, leading to increased productivity and income stability.",
         "India"
        ],
        [
         "47",
         "openai-gpt-4o-2024-08-06",
         "11",
         "26",
         "What are the signs of nutrient deficiency in maize and how can they be corrected?",
         "Signs of nutrient deficiency in maize include yellowing or paling of leaves, stunted growth, and poor ear development. Specifically, nitrogen deficiency causes leaves to turn pale green or yellow, starting from the bottom, while phosphorus deficiency leads to dark green or purplish leaves and poorly filled cobs. Potassium deficiency manifests as yellowing and scorching of leaf edges, primarily on older leaves.\n\nTo correct these deficiencies, conduct a soil test to determine specific nutrient needs. For nitrogen deficiency, apply urea or ammonium nitrate. Use diammonium phosphate (DAP) or single superphosphate (SSP) to address phosphorus deficiency. For potassium, apply muriate of potash (MOP). Ensure balanced fertilization by also including micronutrients as needed. Practice crop rotation and incorporate organic manure or compost to improve soil health and nutrient availability over time.",
         "India"
        ],
        [
         "48",
         "anthropic-claude-3-7-sonnet-20250219",
         "12",
         "42",
         "How can I mitigate post-harvest losses in crops and livestock?",
         "# Reducing Post-Harvest Losses in Crops and Livestock\n\nHarvest crops at the right maturity and during cooler parts of the day to reduce damage and spoilage. Dry your grains and pulses properly until they reach 10-12% moisture content before storage to prevent mold growth. Store crops in clean, dry containers like hermetic bags or metal bins that protect against pests, moisture, and air. For fruits and vegetables, use clean crates, avoid overpacking, and keep them in cool, shaded areas if cold storage isn't available. For livestock products, ensure clean milking procedures and use proper containers to store milk, ideally in cool conditions. Keep eggs clean, collect them frequently, and store pointy-end down in a cool place. Process meat products quickly after slaughter and use salt preservation if refrigeration isn't possible. Regularly inspect stored products for any signs of spoilage or pest damage. Joining a farmer group to share cold storage costs or processing equipment can also significantly reduce losses.",
         "India"
        ],
        [
         "49",
         "deepseek-deepseek-reasoner",
         "6",
         "6",
         "Are chemical pesticides important and safe in crop and livestock production?",
         "Chemical pesticides are important tools to control pests and diseases that threaten crops and livestock, but their safety depends entirely on proper use. When used **as directed** (correct dose, timing, and protective gear), registered pesticides can protect yields effectively. **Overuse or misuse** harms human health, kills beneficial insects, contaminates soil/water, and leads to pesticide-resistant pests. Always follow label instructions, avoid spraying near harvest, and never mix chemicals haphazardly. For safer alternatives, combine pesticides with **Integrated Pest Management (IPM)**—like resistant crop varieties, natural predators, and crop rotation. In livestock, use veterinary-approved treatments only; improper antibiotics or pesticides in feed risk residues in milk/meat. Prioritize prevention (clean sheds, balanced feed) to reduce disease. Consult local experts for region-specific, low-toxicity options. **Chemicals are useful but not the only solution—use wisely and sparingly.**",
         "India"
        ]
       ],
       "shape": {
        "columns": 6,
        "rows": 135
       }
      },
      "text/html": [
       "<div>\n",
       "<style scoped>\n",
       "    .dataframe tbody tr th:only-of-type {\n",
       "        vertical-align: middle;\n",
       "    }\n",
       "\n",
       "    .dataframe tbody tr th {\n",
       "        vertical-align: top;\n",
       "    }\n",
       "\n",
       "    .dataframe thead th {\n",
       "        text-align: right;\n",
       "    }\n",
       "</style>\n",
       "<table border=\"1\" class=\"dataframe\">\n",
       "  <thead>\n",
       "    <tr style=\"text-align: right;\">\n",
       "      <th></th>\n",
       "      <th>model</th>\n",
       "      <th>question_id</th>\n",
       "      <th>response_id</th>\n",
       "      <th>question</th>\n",
       "      <th>answer</th>\n",
       "      <th>country</th>\n",
       "    </tr>\n",
       "  </thead>\n",
       "  <tbody>\n",
       "    <tr>\n",
       "      <th>0</th>\n",
       "      <td>openai-gpt-4o-2024-08-06</td>\n",
       "      <td>3</td>\n",
       "      <td>18</td>\n",
       "      <td>I am interested in learning about crops and li...</td>\n",
       "      <td>To learn more about crops and livestock produc...</td>\n",
       "      <td>India</td>\n",
       "    </tr>\n",
       "    <tr>\n",
       "      <th>1</th>\n",
       "      <td>deepseek-deepseek-reasoner</td>\n",
       "      <td>15</td>\n",
       "      <td>15</td>\n",
       "      <td>How are Farmer groups, Farmer Producer Organiz...</td>\n",
       "      <td>Farmer groups, FPOs, cooperatives, and CBOs st...</td>\n",
       "      <td>India</td>\n",
       "    </tr>\n",
       "    <tr>\n",
       "      <th>2</th>\n",
       "      <td>anthropic-claude-3-7-sonnet-20250219</td>\n",
       "      <td>6</td>\n",
       "      <td>36</td>\n",
       "      <td>Are chemical pesticides important and safe in ...</td>\n",
       "      <td># Chemical Pesticides in Farming: Important bu...</td>\n",
       "      <td>India</td>\n",
       "    </tr>\n",
       "    <tr>\n",
       "      <th>3</th>\n",
       "      <td>openai-o4-mini-2025-04-16</td>\n",
       "      <td>14</td>\n",
       "      <td>89</td>\n",
       "      <td>What are the best disease management practices...</td>\n",
       "      <td>1. Inspect your animals every day for cough, f...</td>\n",
       "      <td>India</td>\n",
       "    </tr>\n",
       "    <tr>\n",
       "      <th>4</th>\n",
       "      <td>anthropic-claude-3-7-sonnet-20250219</td>\n",
       "      <td>11</td>\n",
       "      <td>41</td>\n",
       "      <td>What are the signs of nutrient deficiency in m...</td>\n",
       "      <td># Signs of Nutrient Deficiency in Maize and So...</td>\n",
       "      <td>India</td>\n",
       "    </tr>\n",
       "    <tr>\n",
       "      <th>...</th>\n",
       "      <td>...</td>\n",
       "      <td>...</td>\n",
       "      <td>...</td>\n",
       "      <td>...</td>\n",
       "      <td>...</td>\n",
       "      <td>...</td>\n",
       "    </tr>\n",
       "    <tr>\n",
       "      <th>130</th>\n",
       "      <td>openai-o4-mini-2025-04-16</td>\n",
       "      <td>10</td>\n",
       "      <td>85</td>\n",
       "      <td>Lately, the onset of rains has shown significa...</td>\n",
       "      <td>1. Rather than fixed calendar dates, sow when ...</td>\n",
       "      <td>India</td>\n",
       "    </tr>\n",
       "    <tr>\n",
       "      <th>131</th>\n",
       "      <td>openai-o4-mini-2025-04-16</td>\n",
       "      <td>8</td>\n",
       "      <td>83</td>\n",
       "      <td>How can I best control weeds in my farm?</td>\n",
       "      <td>1. Begin with clean seed and avoid bringing we...</td>\n",
       "      <td>India</td>\n",
       "    </tr>\n",
       "    <tr>\n",
       "      <th>132</th>\n",
       "      <td>deepseek-deepseek-chat</td>\n",
       "      <td>10</td>\n",
       "      <td>115</td>\n",
       "      <td>Lately, the onset of rains has shown significa...</td>\n",
       "      <td>Given the uncertainty in monsoon onset, follow...</td>\n",
       "      <td>India</td>\n",
       "    </tr>\n",
       "    <tr>\n",
       "      <th>133</th>\n",
       "      <td>gemini-gemini-2-5-pro-preview-05-06</td>\n",
       "      <td>1</td>\n",
       "      <td>91</td>\n",
       "      <td>I have been applying different pesticides to c...</td>\n",
       "      <td>Namaste. This is a common problem, and it ofte...</td>\n",
       "      <td>India</td>\n",
       "    </tr>\n",
       "    <tr>\n",
       "      <th>134</th>\n",
       "      <td>gemini-gemini-2-5-pro-preview-05-06</td>\n",
       "      <td>3</td>\n",
       "      <td>93</td>\n",
       "      <td>I am interested in learning about crops and li...</td>\n",
       "      <td>Namaste! That's a great question, it's always ...</td>\n",
       "      <td>India</td>\n",
       "    </tr>\n",
       "  </tbody>\n",
       "</table>\n",
       "<p>135 rows × 6 columns</p>\n",
       "</div>"
      ],
      "text/plain": [
       "                                    model  question_id  response_id  \\\n",
       "0                openai-gpt-4o-2024-08-06            3           18   \n",
       "1              deepseek-deepseek-reasoner           15           15   \n",
       "2    anthropic-claude-3-7-sonnet-20250219            6           36   \n",
       "3               openai-o4-mini-2025-04-16           14           89   \n",
       "4    anthropic-claude-3-7-sonnet-20250219           11           41   \n",
       "..                                    ...          ...          ...   \n",
       "130             openai-o4-mini-2025-04-16           10           85   \n",
       "131             openai-o4-mini-2025-04-16            8           83   \n",
       "132                deepseek-deepseek-chat           10          115   \n",
       "133   gemini-gemini-2-5-pro-preview-05-06            1           91   \n",
       "134   gemini-gemini-2-5-pro-preview-05-06            3           93   \n",
       "\n",
       "                                              question  \\\n",
       "0    I am interested in learning about crops and li...   \n",
       "1    How are Farmer groups, Farmer Producer Organiz...   \n",
       "2    Are chemical pesticides important and safe in ...   \n",
       "3    What are the best disease management practices...   \n",
       "4    What are the signs of nutrient deficiency in m...   \n",
       "..                                                 ...   \n",
       "130  Lately, the onset of rains has shown significa...   \n",
       "131           How can I best control weeds in my farm?   \n",
       "132  Lately, the onset of rains has shown significa...   \n",
       "133  I have been applying different pesticides to c...   \n",
       "134  I am interested in learning about crops and li...   \n",
       "\n",
       "                                                answer country  \n",
       "0    To learn more about crops and livestock produc...   India  \n",
       "1    Farmer groups, FPOs, cooperatives, and CBOs st...   India  \n",
       "2    # Chemical Pesticides in Farming: Important bu...   India  \n",
       "3    1. Inspect your animals every day for cough, f...   India  \n",
       "4    # Signs of Nutrient Deficiency in Maize and So...   India  \n",
       "..                                                 ...     ...  \n",
       "130  1. Rather than fixed calendar dates, sow when ...   India  \n",
       "131  1. Begin with clean seed and avoid bringing we...   India  \n",
       "132  Given the uncertainty in monsoon onset, follow...   India  \n",
       "133  Namaste. This is a common problem, and it ofte...   India  \n",
       "134  Namaste! That's a great question, it's always ...   India  \n",
       "\n",
       "[135 rows x 6 columns]"
      ]
     },
     "execution_count": 90,
     "metadata": {},
     "output_type": "execute_result"
    }
   ],
   "source": [
    "# reorder the columns\n",
    "all_df = all_df[[\"model\", \"question_id\", \"response_id\", \"question\", \"answer\", \"country\"]]\n",
    "all_df"
   ]
  },
  {
   "cell_type": "code",
   "execution_count": 91,
   "metadata": {},
   "outputs": [],
   "source": [
    "# save the dataframe to a CSV file\n",
    "all_df.to_csv(f\"{basename}-all.csv\", index=False)"
   ]
  }
 ],
 "metadata": {
  "kernelspec": {
   "display_name": "llms_4_si",
   "language": "python",
   "name": "python3"
  },
  "language_info": {
   "codemirror_mode": {
    "name": "ipython",
    "version": 3
   },
   "file_extension": ".py",
   "mimetype": "text/x-python",
   "name": "python",
   "nbconvert_exporter": "python",
   "pygments_lexer": "ipython3",
   "version": "3.10.16"
  }
 },
 "nbformat": 4,
 "nbformat_minor": 2
}
