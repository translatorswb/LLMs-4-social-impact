{
 "cells": [
  {
   "cell_type": "markdown",
   "metadata": {},
   "source": [
    "# Read data"
   ]
  },
  {
   "cell_type": "code",
   "execution_count": 1,
   "metadata": {},
   "outputs": [],
   "source": [
    "import pandas as pd\n",
    "import os"
   ]
  },
  {
   "cell_type": "code",
   "execution_count": 2,
   "metadata": {},
   "outputs": [
    {
     "data": {
      "application/vnd.microsoft.datawrangler.viewer.v0+json": {
       "columns": [
        {
         "name": "index",
         "rawType": "object",
         "type": "string"
        },
        {
         "name": "question",
         "rawType": "object",
         "type": "unknown"
        },
        {
         "name": "options",
         "rawType": "object",
         "type": "unknown"
        },
        {
         "name": "correct_answer",
         "rawType": "float64",
         "type": "float"
        }
       ],
       "ref": "10cbf480-e977-41ed-ab84-f4307767f7f9",
       "rows": [
        [
         "count",
         "20",
         "20",
         "20.0"
        ],
        [
         "unique",
         "18",
         "18",
         null
        ],
        [
         "top",
         "What is the best weed control strategy on a farm?",
         "Use mechanical control methods, apply herbicides, monitor weed growth, and evaluate alternatives.|First identify the weed species in your farm, use mechanical control methods e.g uprooting or manual weeding, monitor weed growth rate, and evaluate alternatives whether it requires use of herbicides to manage its growth and competition.|Identify weed species, apply chemical herbicides, monitor the effectiveness, and evaluate alternatives.|Apply herbicides, use mechanical control, monitor effectiveness, and evaluate alternatives.",
         null
        ],
        [
         "freq",
         "2",
         "2",
         null
        ],
        [
         "mean",
         null,
         null,
         "1.2"
        ],
        [
         "std",
         null,
         null,
         "1.0563093645728086"
        ],
        [
         "min",
         null,
         null,
         "0.0"
        ],
        [
         "25%",
         null,
         null,
         "0.0"
        ],
        [
         "50%",
         null,
         null,
         "1.0"
        ],
        [
         "75%",
         null,
         null,
         "2.0"
        ],
        [
         "max",
         null,
         null,
         "3.0"
        ]
       ],
       "shape": {
        "columns": 3,
        "rows": 11
       }
      },
      "text/html": [
       "<div>\n",
       "<style scoped>\n",
       "    .dataframe tbody tr th:only-of-type {\n",
       "        vertical-align: middle;\n",
       "    }\n",
       "\n",
       "    .dataframe tbody tr th {\n",
       "        vertical-align: top;\n",
       "    }\n",
       "\n",
       "    .dataframe thead th {\n",
       "        text-align: right;\n",
       "    }\n",
       "</style>\n",
       "<table border=\"1\" class=\"dataframe\">\n",
       "  <thead>\n",
       "    <tr style=\"text-align: right;\">\n",
       "      <th></th>\n",
       "      <th>question</th>\n",
       "      <th>options</th>\n",
       "      <th>correct_answer</th>\n",
       "    </tr>\n",
       "  </thead>\n",
       "  <tbody>\n",
       "    <tr>\n",
       "      <th>count</th>\n",
       "      <td>20</td>\n",
       "      <td>20</td>\n",
       "      <td>20.000000</td>\n",
       "    </tr>\n",
       "    <tr>\n",
       "      <th>unique</th>\n",
       "      <td>18</td>\n",
       "      <td>18</td>\n",
       "      <td>NaN</td>\n",
       "    </tr>\n",
       "    <tr>\n",
       "      <th>top</th>\n",
       "      <td>What is the best weed control strategy on a farm?</td>\n",
       "      <td>Use mechanical control methods, apply herbicid...</td>\n",
       "      <td>NaN</td>\n",
       "    </tr>\n",
       "    <tr>\n",
       "      <th>freq</th>\n",
       "      <td>2</td>\n",
       "      <td>2</td>\n",
       "      <td>NaN</td>\n",
       "    </tr>\n",
       "    <tr>\n",
       "      <th>mean</th>\n",
       "      <td>NaN</td>\n",
       "      <td>NaN</td>\n",
       "      <td>1.200000</td>\n",
       "    </tr>\n",
       "    <tr>\n",
       "      <th>std</th>\n",
       "      <td>NaN</td>\n",
       "      <td>NaN</td>\n",
       "      <td>1.056309</td>\n",
       "    </tr>\n",
       "    <tr>\n",
       "      <th>min</th>\n",
       "      <td>NaN</td>\n",
       "      <td>NaN</td>\n",
       "      <td>0.000000</td>\n",
       "    </tr>\n",
       "    <tr>\n",
       "      <th>25%</th>\n",
       "      <td>NaN</td>\n",
       "      <td>NaN</td>\n",
       "      <td>0.000000</td>\n",
       "    </tr>\n",
       "    <tr>\n",
       "      <th>50%</th>\n",
       "      <td>NaN</td>\n",
       "      <td>NaN</td>\n",
       "      <td>1.000000</td>\n",
       "    </tr>\n",
       "    <tr>\n",
       "      <th>75%</th>\n",
       "      <td>NaN</td>\n",
       "      <td>NaN</td>\n",
       "      <td>2.000000</td>\n",
       "    </tr>\n",
       "    <tr>\n",
       "      <th>max</th>\n",
       "      <td>NaN</td>\n",
       "      <td>NaN</td>\n",
       "      <td>3.000000</td>\n",
       "    </tr>\n",
       "  </tbody>\n",
       "</table>\n",
       "</div>"
      ],
      "text/plain": [
       "                                                 question  \\\n",
       "count                                                  20   \n",
       "unique                                                 18   \n",
       "top     What is the best weed control strategy on a farm?   \n",
       "freq                                                    2   \n",
       "mean                                                  NaN   \n",
       "std                                                   NaN   \n",
       "min                                                   NaN   \n",
       "25%                                                   NaN   \n",
       "50%                                                   NaN   \n",
       "75%                                                   NaN   \n",
       "max                                                   NaN   \n",
       "\n",
       "                                                  options  correct_answer  \n",
       "count                                                  20       20.000000  \n",
       "unique                                                 18             NaN  \n",
       "top     Use mechanical control methods, apply herbicid...             NaN  \n",
       "freq                                                    2             NaN  \n",
       "mean                                                  NaN        1.200000  \n",
       "std                                                   NaN        1.056309  \n",
       "min                                                   NaN        0.000000  \n",
       "25%                                                   NaN        0.000000  \n",
       "50%                                                   NaN        1.000000  \n",
       "75%                                                   NaN        2.000000  \n",
       "max                                                   NaN        3.000000  "
      ]
     },
     "execution_count": 2,
     "metadata": {},
     "output_type": "execute_result"
    }
   ],
   "source": [
    "path = \"data/20_harder_MCQs.csv\"\n",
    "basename = os.path.basename(path)\n",
    "basename = os.path.splitext(basename)[0]\n",
    "\n",
    "mcq_df = pd.read_csv(path)\n",
    "mcq_df.describe(include=\"all\")"
   ]
  },
  {
   "cell_type": "code",
   "execution_count": 3,
   "metadata": {},
   "outputs": [
    {
     "data": {
      "application/vnd.microsoft.datawrangler.viewer.v0+json": {
       "columns": [
        {
         "name": "question",
         "rawType": "object",
         "type": "string"
        },
        {
         "name": "count",
         "rawType": "int64",
         "type": "integer"
        }
       ],
       "ref": "98e8bb55-cf0c-41cf-9292-e1a26dea83b1",
       "rows": [
        [
         "What is the best weed control strategy on a farm?",
         "2"
        ],
        [
         "How do I make organic fertilizer from animal manure?",
         "2"
        ],
        [
         "How do I implement integrated pest management (IPM) on a farm?",
         "1"
        ],
        [
         "How do I, in the shortest duration and cost effectively correct for nutrient deficiency in my farm?",
         "1"
        ],
        [
         "How do I calibrate a knapsack sprayer to ensure accurate pesticide application?",
         "1"
        ],
        [
         "What is the right procedure to harvest onions?",
         "1"
        ],
        [
         "How do I use animal waste management on a mixed crop-livestock farm?",
         "1"
        ],
        [
         "How should I wear PPE?",
         "1"
        ],
        [
         "Last year I experienced significant losses in my stored maize grain. How do I handle my grain to minimize these losses?",
         "1"
        ],
        [
         "How do I determine the seed rate required for planting on a farm?",
         "1"
        ],
        [
         "Which maize varieties are suitable lowlands of Kenya",
         "1"
        ],
        [
         "Which is the most optimal time to apply pesticides?",
         "1"
        ],
        [
         "Which diseases should I look out for during cold weather in poultry?",
         "1"
        ],
        [
         "Which are the best practices when intercropping crops?",
         "1"
        ],
        [
         "How do I compost crop residues to enhance soil fertility?",
         "1"
        ],
        [
         "How do I create a simple farm budget for one season of maize farming?",
         "1"
        ],
        [
         "How do I apply pesticide to ensure safety and effectiveness",
         "1"
        ],
        [
         "Which is the best practice in transplanting seedlings?",
         "1"
        ]
       ],
       "shape": {
        "columns": 1,
        "rows": 18
       }
      },
      "text/plain": [
       "question\n",
       "What is the best weed control strategy on a farm?                                                                          2\n",
       "How do I make organic fertilizer from animal manure?                                                                       2\n",
       "How do I implement integrated pest management (IPM) on a farm?                                                             1\n",
       "How do I, in the shortest duration and cost effectively correct for nutrient deficiency in my farm?                        1\n",
       "How do I calibrate a knapsack sprayer to ensure accurate pesticide application?                                            1\n",
       "What is the right procedure to harvest onions?                                                                             1\n",
       "How do I use animal waste management on a mixed crop-livestock farm?                                                       1\n",
       "How should I wear PPE?                                                                                                     1\n",
       "Last year I experienced significant losses in my stored maize grain. How do I handle my grain to minimize these losses?    1\n",
       "How do I determine the seed rate required for planting on a farm?                                                          1\n",
       "Which maize varieties are suitable lowlands of Kenya                                                                       1\n",
       "Which is the most optimal time to apply pesticides?                                                                        1\n",
       "Which diseases should I look out for during cold weather in poultry?                                                       1\n",
       "Which are the best practices when intercropping crops?                                                                     1\n",
       "How do I compost crop residues to enhance soil fertility?                                                                  1\n",
       "How do I create a simple farm budget for one season of maize farming?                                                      1\n",
       "How do I apply pesticide to ensure safety and effectiveness                                                                1\n",
       "Which is the best practice in transplanting seedlings?                                                                     1\n",
       "Name: count, dtype: int64"
      ]
     },
     "execution_count": 3,
     "metadata": {},
     "output_type": "execute_result"
    }
   ],
   "source": [
    "mcq_df['question'].value_counts()"
   ]
  },
  {
   "cell_type": "code",
   "execution_count": 4,
   "metadata": {},
   "outputs": [
    {
     "data": {
      "application/vnd.microsoft.datawrangler.viewer.v0+json": {
       "columns": [
        {
         "name": "index",
         "rawType": "int64",
         "type": "integer"
        },
        {
         "name": "question",
         "rawType": "object",
         "type": "string"
        },
        {
         "name": "options",
         "rawType": "object",
         "type": "string"
        },
        {
         "name": "correct_answer",
         "rawType": "int64",
         "type": "integer"
        },
        {
         "name": "question_id",
         "rawType": "int64",
         "type": "integer"
        }
       ],
       "ref": "f925e15f-badd-4513-961a-0a395131f998",
       "rows": [
        [
         "0",
         "How do I, in the shortest duration and cost effectively correct for nutrient deficiency in my farm?",
         "Test soil for nutrient deficiency or perform visual observations of the crop to diagnose the deficiency; get the right source of fertilizer to replenish the deficiency; apply the right rate of the fertilizer that would sufficiently correct the deficiency; apply the fertilizer at the right stage of the crop to maximize uptake and use…remember to apply when soil is moist; place the fertilizer close to the plant root zone but not too close to avoid scotching|Test soil for nutrient deficiency or perform visual observations of the crop to diagnose the deficiency; apply well rotten manure; apply the right rate of the manure that would sufficiently correct the deficiency; apply the manure at the right stage of the crop to maximize uptake and use…remember to apply when soil is moist; place the manure close to the plant root zone but not too close to avoid scotching|Apply fertilizer at the right rate, and the right stage of the crop; place the fertilizer close to the root system",
         "0",
         "1"
        ],
        [
         "1",
         "How do I implement integrated pest management (IPM) on a farm?",
         "Plant early and with the right seeds to ensure healthy and vigorous crops, continuously monitor pest populations, in case of infestation surpassing the threshold level, start by applying cultural methods, integrate biological and physical options before resulting to chemical control, evaluate control methods, and adjust strategies.|Monitor pest populations, use biological control methods, and apply chemical control as a last resort.|Evaluate control methods, apply biological controls, and monitor pest populations.|Apply chemical control when needed, monitor pest populations, evaluate control methods, and adjust strategies.",
         "0",
         "2"
        ],
        [
         "2",
         "How do I calibrate a knapsack sprayer to ensure accurate pesticide application?",
         "Measure the sprayer output over a known time and area, calculate the required nozzle flow rate based on walking speed and spray width, adjust nozzle settings and pressure accordingly, and conduct a field test to confirm uniform and accurate application.|Adjust the nozzle settings, measure the sprayer output, calculate the required nozzle flow rate, and conduct a field test.|Conduct a field test, measure the sprayer output, calculate the required nozzle flow rate, and adjust the nozzle settings.|Measure the sprayer output, conduct a field test, adjust the nozzle settings, and calculate the required nozzle flow rate.",
         "0",
         "3"
        ],
        [
         "3",
         "What is the right procedure to harvest onions?",
         "Harvest during the dry season, at about 90-150 after planting depending on the variety. The crop must be mature by observing that the tops have started to yellow or droop, and the bulbs will have formed shing membranous cover around them. To harvest, loosen the soil around the plants to allow for easier removal. Pull the bulbs by hand or dig them up with garden fork. Once the bulbs are out of the ground, cut the tops back to about one inch. Clean the bulbs and let them dry in the sun to cure (dry out) before storing. If long storage is intended, cure the bulbs in a well-ventilated store by spreading on racks until the necks and outer scale leaves of the bulbs are thoroughly dried.|Harvest during the wet season, at about 90-150 after planting depending on the variety. The crop must be mature by observing that the tops have started to yellow or droop, and the bulbs will have formed shing membranous cover around them. To harvest, loosen the soil around the plants to allow for easier removal. Pull the bulbs by hand or dig them up with garden fork. Once the bulbs are out of the ground, cut the tops back to about one inch. Clean the bulbs and let them dry in the sun to cure (dry out) before storing. If long storage is intended, cure the bulbs in a well-ventilated store by spreading on racks until the necks and outer scale leaves of the bulbs are thoroughly dried.|Harvest at about 90-150 after planting depending on the variety. The crop must be mature by observing that the tops have started to yellow or droop, and the bulbs will have formed shing membranous cover around them. To harvest, loosen the soil around the plants to allow for easier removal. Pull the bulbs by hand or dig them up with garden fork. Clean the bulbs and let them dry in the sun to cure (dry out) before storing. If long storage is intended, cure the bulbs in a well-ventilated store by spreading on racks until the necks and outer scale leaves of the bulbs are thoroughly dried.|Harvest during the dry season, at about 90-150 after planting depending on the variety. To harvest, loosen the soil around the plants to allow for easier removal. Pull the bulbs by hand or dig them up with garden fork. Once the bulbs are out of the ground, cut the tops back to about one inch. Clean the bulbs and let them dry in the sun to cure (dry out) before storing. If long storage is intended, cure the bulbs in a well-ventilated store by spreading on racks until the necks and outer scale leaves of the bulbs are thoroughly dried.",
         "0",
         "4"
        ],
        [
         "4",
         "How should I wear PPE?",
         "Put on overall/coveralls first, then gloves, mask, and finish with the face shield|Put on the mask first, then gloves, overall/coveralls, and finish with the face shield.|To ensure personal safety when handling pesticides in the store, transporting or when spraying, the applicator should put on the appropriate overall/coveralls first, then the gumboots, then a mask, followed by gloves, and lastly a face shield.|Put on gloves, then a face shield, followed by overall/coveralls, and finally a mask.",
         "2",
         "5"
        ],
        [
         "5",
         "How do I use animal waste management on a mixed crop-livestock farm?",
         "Collect animal waste and dump it directly onto crop fields.|Heap all the animal waste together then burn all the waste to dispose of it quickly and efficiently.|Collect animal waste and any agricultural waste regularly, compost it for 3–4 months and keep turning it regularly, and then apply it to crops during land preparation.|Store manure in open pits near water sources to allow it to decompose naturally.",
         "2",
         "6"
        ],
        [
         "6",
         "How do I determine the seed rate required for planting on a farm?",
         "Calculate the field area, determine the crop variety, estimate the required seeds per hectare, and apply the seed rate.|Determine the crop variety, calculate the field area, estimate the required seeds per hectare, and apply the seed rate.|Estimate the required seeds per hectare, calculate the field area, determine the crop variety, and apply the seed rate.|Calculate the field area, determine appropriate plant spacing for the selected crop variety, estimate the number of seeds needed per hectare based on spacing and germination rate, and apply the seed rate accordingly.",
         "3",
         "7"
        ],
        [
         "7",
         "Last year I experienced significant losses in my stored maize grain. How do I handle my grain to minimize these losses?",
         "Harvest the crop when the leaves are dry. Thresh the grain either manually or mechanically but avoid seed breakage. Mix the grain with an insecticide (grain dust) at the recommended rate. Put the treated grain in gunny bags ready storage. Alternatively, you can put dry grain in hermetic without treating with insecticide. Clean the store, and dust it with insecticides before storing the bags. Ensure the store is well ventilated, and free from rodents, and stack the bags on pallets and in a way that ventilation is maximized.|Harvest during the dry season, and importantly when maize is physiologically mature. Dry the harvested cobs under the until the moisture content is reduced to about 13%. You can estimate that the grain is dry by doing simple tests like salt test or biting test. Thresh the grain either manually or mechanically but avoid seed breakage. Mix the grain with an insecticide (grain dust) at the recommended rate. Put the treated grain in gunny bags ready storage. Alternatively, you can put dry grain in hermetic without treating with insecticide. Clean the store, and dust it with insecticides before storing the bags.|Harvest during the dry season, and importantly when maize is physiologically mature. Thresh the grain either manually or mechanically but avoid seed breakage. Mix the grain with an insecticide (grain dust) at the recommended rate. Put the treated grain in gunny bags ready storage. Alternatively, you can put dry grain in hermetic without treating with insecticide. Clean the store, and dust it with insecticides before storing the bags. Ensure the store is well ventilated, and free from rodents, and stack the bags on pallets and in a way that ventilation is maximized.|Harvest during the dry season, and importantly when maize is physiologically mature. Dry the harvested cobs under the until the moisture content is reduced to about 13%. You can estimate that the grain is dry by doing simple tests like salt test or biting test. Thresh the grain either manually or mechanically but avoid seed breakage. Mix the grain with an insecticide (grain dust) at the recommended rate. Put the treated grain in gunny bags ready storage. Alternatively, you can put dry grain in hermetic without treating with insecticide. Clean the store, and dust it with insecticides before storing the bags. Ensure the store is well ventilated, and free from rodents, and stack the bags on pallets and in a way that ventilation is maximized.",
         "3",
         "8"
        ],
        [
         "8",
         "How do I make organic fertilizer from animal manure?",
         "Collect manure, compost it, apply the compost to the soil, and monitor soil quality.|Collect manure, store it for several weeks, compost it, and apply it to the soil.|Collect fresh animal manure, mix it with carbon-rich organic materials (like crop residues or dry leaves) to balance the carbon-to-nitrogen ratio, maintain adequate moisture and aeration during composting by turning the pile regularly, and apply the mature compost to the soil.",
         "2",
         "9"
        ],
        [
         "9",
         "What is the best weed control strategy on a farm?",
         "Use mechanical control methods, apply herbicides, monitor weed growth, and evaluate alternatives.|First identify the weed species in your farm, use mechanical control methods e.g uprooting or manual weeding, monitor weed growth rate, and evaluate alternatives whether it requires use of herbicides to manage its growth and competition.|Identify weed species, apply chemical herbicides, monitor the effectiveness, and evaluate alternatives.|Apply herbicides, use mechanical control, monitor effectiveness, and evaluate alternatives.",
         "1",
         "10"
        ],
        [
         "10",
         "Which maize varieties are suitable lowlands of Kenya",
         "DH01, DH02, DH05, Duma 43, H6213, H519|DH01, DH02, DH05, Duma 43, Sungura 301|H627, H6213, DH01, DH02, DH05, Duma 43, H6213, H519|H512, H511, D01, DH02, DH05, Duma 43, H6213, H519",
         "1",
         "11"
        ],
        [
         "11",
         "Which is the most optimal time to apply pesticides?",
         "Spray either early in the morning or late in the evening when it’s cool, and the pests are active|Spray when its sunny, hot, windy, and insects are visible on the crop|Spray the pesticide directly towards the wind|Spray immediately before or after heavy rainfall",
         "0",
         "12"
        ],
        [
         "12",
         "Which diseases should I look out for during cold weather in poultry?",
         "Newcastle disease, fowl cholera, coccidiosis|Fowl cholera, coccidiosis, aspergillosis and respiratory distress|Aspergillosis, fowlpox, infectious coryza, pneumonia|Pneumonia, coccidiosis, and respiratory distress",
         "3",
         "13"
        ],
        [
         "13",
         "Which are the best practices when intercropping crops?",
         "Intercrop maize with millet and sorghum|Intercrop legumes such beans, cowpea, mung beans or pigeonpea with cereal crops like maize, sorghum or millets. However, pay attention to spacing to minimize competition|Intercrop tall crop with similarly tall crops irrespective of the species|Intercrop legumes such beans, cowpea, mung beans or pigeon pea with cereal crops like maize, sorghum or millets at close spacing to increase yield per unit",
         "1",
         "14"
        ],
        [
         "14",
         "How do I compost crop residues to enhance soil fertility?",
         "Add organic matter to the compost pile, chop or shred crop residues, and turn regularly.|Collect crop residues, chop/shred them to increase surface area, add a layer of organic matter such as animal manure or green materials in the compost pile, maintain proper moisture and aeration, and turn the compost regularly to support decomposition and aeration.|Collect crop residues, turn them regularly, chop or shred them, and add organic matter to the compost|Collect crop residues, add organic matter to the compost pile, chop or shred them, and turn regularly.",
         "1",
         "15"
        ],
        [
         "15",
         "How do I create a simple farm budget for one season of maize farming?",
         "List only income from maize sales and ignore costs related to inputs, labor, and maintenance.|Come up with a list of all activities to be undertaken, estimate the cost of production including inputs, labor. Estimate the expected yields and price per bag, subtract costs for inputs, labor, and land preparation, then determine the profit or loss.|Record all expenses first and use any leftover funds for farm activities, regardless of income.|Only calculate costs for seeds and fertilizer, as they are the only important expenses for maize farming.",
         "1",
         "16"
        ],
        [
         "16",
         "How do I apply pesticide to ensure safety and effectiveness",
         "Mix the pesticide according to instructions, wear PPE, apply it on windy days, and clean equipment thoroughly.|Wear appropriate PPE, mix the pesticide strictly according to label instructions, calibrate the spray equipment, apply during calm weather to prevent drift, avoid applying pesticides on peak heat periods, clean all equipment thoroughly after use, properly dispose the pesticide container.|Wear PPE, apply pesticide on windy days, mix according to instructions, and clean equipment.",
         "1",
         "17"
        ],
        [
         "17",
         "Which is the best practice in transplanting seedlings?",
         "Prepare the seedbed in advance to fine tilth; Seedling ought to be transplanted at the right stage; harden the seedlings by removing excess shade and reduce watering; on the day of transplanting, thoroughly irrigate the nursery to enable easy removal of the seedlings; transplant the seedlings onto well irrigated seed bed and place the roots carefully to avoid injury. The best time to transplant is late in the evening when it’s cool|Prepare the seedbed in advance to fine tilth; Seedling can be transplanted at any time of the day depending on one’s convenience. Seedling ought to be transplanted at the right stage; harden the seedlings by removing excess shade and reduce watering; on the day of transplanting, thoroughly irrigate the nursery to enable easy removal of the seedlings; transplant the seedlings onto well irrigated seed bed and place the roots carefully to avoid injury.|Prepare the seedbed in advance to fine tilth; Seedling ought to be transplanted at the right stage; on the day of transplanting, thoroughly irrigate the nursery to enable easy removal of the seedlings; transplant the seedlings onto well irrigated seed bed and place the roots carefully to avoid injury. The best time to transplant is late in the evening when it’s cool|Prepare the seedbed in advance to fine tilth; Seedling can be transplanted irrespective of their stage of development; harden the seedlings by removing excess shade and reduce watering; on the day of transplanting, thoroughly irrigate the nursery to enable easy removal of the seedlings; transplant the seedlings onto well irrigated seed bed and place the roots carefully to avoid injury. The best time to transplant is late in the evening when it’s cool",
         "0",
         "18"
        ]
       ],
       "shape": {
        "columns": 4,
        "rows": 18
       }
      },
      "text/html": [
       "<div>\n",
       "<style scoped>\n",
       "    .dataframe tbody tr th:only-of-type {\n",
       "        vertical-align: middle;\n",
       "    }\n",
       "\n",
       "    .dataframe tbody tr th {\n",
       "        vertical-align: top;\n",
       "    }\n",
       "\n",
       "    .dataframe thead th {\n",
       "        text-align: right;\n",
       "    }\n",
       "</style>\n",
       "<table border=\"1\" class=\"dataframe\">\n",
       "  <thead>\n",
       "    <tr style=\"text-align: right;\">\n",
       "      <th></th>\n",
       "      <th>question</th>\n",
       "      <th>options</th>\n",
       "      <th>correct_answer</th>\n",
       "      <th>question_id</th>\n",
       "    </tr>\n",
       "  </thead>\n",
       "  <tbody>\n",
       "    <tr>\n",
       "      <th>0</th>\n",
       "      <td>How do I, in the shortest duration and cost ef...</td>\n",
       "      <td>Test soil for nutrient deficiency or perform v...</td>\n",
       "      <td>0</td>\n",
       "      <td>1</td>\n",
       "    </tr>\n",
       "    <tr>\n",
       "      <th>1</th>\n",
       "      <td>How do I implement integrated pest management ...</td>\n",
       "      <td>Plant early and with the right seeds to ensure...</td>\n",
       "      <td>0</td>\n",
       "      <td>2</td>\n",
       "    </tr>\n",
       "    <tr>\n",
       "      <th>2</th>\n",
       "      <td>How do I calibrate a knapsack sprayer to ensur...</td>\n",
       "      <td>Measure the sprayer output over a known time a...</td>\n",
       "      <td>0</td>\n",
       "      <td>3</td>\n",
       "    </tr>\n",
       "    <tr>\n",
       "      <th>3</th>\n",
       "      <td>What is the right procedure to harvest onions?</td>\n",
       "      <td>Harvest during the dry season, at about 90-150...</td>\n",
       "      <td>0</td>\n",
       "      <td>4</td>\n",
       "    </tr>\n",
       "    <tr>\n",
       "      <th>4</th>\n",
       "      <td>How should I wear PPE?</td>\n",
       "      <td>Put on overall/coveralls first, then gloves, m...</td>\n",
       "      <td>2</td>\n",
       "      <td>5</td>\n",
       "    </tr>\n",
       "    <tr>\n",
       "      <th>5</th>\n",
       "      <td>How do I use animal waste management on a mixe...</td>\n",
       "      <td>Collect animal waste and dump it directly onto...</td>\n",
       "      <td>2</td>\n",
       "      <td>6</td>\n",
       "    </tr>\n",
       "    <tr>\n",
       "      <th>6</th>\n",
       "      <td>How do I determine the seed rate required for ...</td>\n",
       "      <td>Calculate the field area, determine the crop v...</td>\n",
       "      <td>3</td>\n",
       "      <td>7</td>\n",
       "    </tr>\n",
       "    <tr>\n",
       "      <th>7</th>\n",
       "      <td>Last year I experienced significant losses in ...</td>\n",
       "      <td>Harvest the crop when the leaves are dry. Thre...</td>\n",
       "      <td>3</td>\n",
       "      <td>8</td>\n",
       "    </tr>\n",
       "    <tr>\n",
       "      <th>8</th>\n",
       "      <td>How do I make organic fertilizer from animal m...</td>\n",
       "      <td>Collect manure, compost it, apply the compost ...</td>\n",
       "      <td>2</td>\n",
       "      <td>9</td>\n",
       "    </tr>\n",
       "    <tr>\n",
       "      <th>9</th>\n",
       "      <td>What is the best weed control strategy on a farm?</td>\n",
       "      <td>Use mechanical control methods, apply herbicid...</td>\n",
       "      <td>1</td>\n",
       "      <td>10</td>\n",
       "    </tr>\n",
       "    <tr>\n",
       "      <th>10</th>\n",
       "      <td>Which maize varieties are suitable lowlands of...</td>\n",
       "      <td>DH01, DH02, DH05, Duma 43, H6213, H519|DH01, D...</td>\n",
       "      <td>1</td>\n",
       "      <td>11</td>\n",
       "    </tr>\n",
       "    <tr>\n",
       "      <th>11</th>\n",
       "      <td>Which is the most optimal time to apply pestic...</td>\n",
       "      <td>Spray either early in the morning or late in t...</td>\n",
       "      <td>0</td>\n",
       "      <td>12</td>\n",
       "    </tr>\n",
       "    <tr>\n",
       "      <th>12</th>\n",
       "      <td>Which diseases should I look out for during co...</td>\n",
       "      <td>Newcastle disease, fowl cholera, coccidiosis|F...</td>\n",
       "      <td>3</td>\n",
       "      <td>13</td>\n",
       "    </tr>\n",
       "    <tr>\n",
       "      <th>13</th>\n",
       "      <td>Which are the best practices when intercroppin...</td>\n",
       "      <td>Intercrop maize with millet and sorghum|Interc...</td>\n",
       "      <td>1</td>\n",
       "      <td>14</td>\n",
       "    </tr>\n",
       "    <tr>\n",
       "      <th>14</th>\n",
       "      <td>How do I compost crop residues to enhance soil...</td>\n",
       "      <td>Add organic matter to the compost pile, chop o...</td>\n",
       "      <td>1</td>\n",
       "      <td>15</td>\n",
       "    </tr>\n",
       "    <tr>\n",
       "      <th>15</th>\n",
       "      <td>How do I create a simple farm budget for one s...</td>\n",
       "      <td>List only income from maize sales and ignore c...</td>\n",
       "      <td>1</td>\n",
       "      <td>16</td>\n",
       "    </tr>\n",
       "    <tr>\n",
       "      <th>16</th>\n",
       "      <td>How do I apply pesticide to ensure safety and ...</td>\n",
       "      <td>Mix the pesticide according to instructions, w...</td>\n",
       "      <td>1</td>\n",
       "      <td>17</td>\n",
       "    </tr>\n",
       "    <tr>\n",
       "      <th>17</th>\n",
       "      <td>Which is the best practice in transplanting se...</td>\n",
       "      <td>Prepare the seedbed in advance to fine tilth; ...</td>\n",
       "      <td>0</td>\n",
       "      <td>18</td>\n",
       "    </tr>\n",
       "  </tbody>\n",
       "</table>\n",
       "</div>"
      ],
      "text/plain": [
       "                                             question  \\\n",
       "0   How do I, in the shortest duration and cost ef...   \n",
       "1   How do I implement integrated pest management ...   \n",
       "2   How do I calibrate a knapsack sprayer to ensur...   \n",
       "3      What is the right procedure to harvest onions?   \n",
       "4                              How should I wear PPE?   \n",
       "5   How do I use animal waste management on a mixe...   \n",
       "6   How do I determine the seed rate required for ...   \n",
       "7   Last year I experienced significant losses in ...   \n",
       "8   How do I make organic fertilizer from animal m...   \n",
       "9   What is the best weed control strategy on a farm?   \n",
       "10  Which maize varieties are suitable lowlands of...   \n",
       "11  Which is the most optimal time to apply pestic...   \n",
       "12  Which diseases should I look out for during co...   \n",
       "13  Which are the best practices when intercroppin...   \n",
       "14  How do I compost crop residues to enhance soil...   \n",
       "15  How do I create a simple farm budget for one s...   \n",
       "16  How do I apply pesticide to ensure safety and ...   \n",
       "17  Which is the best practice in transplanting se...   \n",
       "\n",
       "                                              options  correct_answer  \\\n",
       "0   Test soil for nutrient deficiency or perform v...               0   \n",
       "1   Plant early and with the right seeds to ensure...               0   \n",
       "2   Measure the sprayer output over a known time a...               0   \n",
       "3   Harvest during the dry season, at about 90-150...               0   \n",
       "4   Put on overall/coveralls first, then gloves, m...               2   \n",
       "5   Collect animal waste and dump it directly onto...               2   \n",
       "6   Calculate the field area, determine the crop v...               3   \n",
       "7   Harvest the crop when the leaves are dry. Thre...               3   \n",
       "8   Collect manure, compost it, apply the compost ...               2   \n",
       "9   Use mechanical control methods, apply herbicid...               1   \n",
       "10  DH01, DH02, DH05, Duma 43, H6213, H519|DH01, D...               1   \n",
       "11  Spray either early in the morning or late in t...               0   \n",
       "12  Newcastle disease, fowl cholera, coccidiosis|F...               3   \n",
       "13  Intercrop maize with millet and sorghum|Interc...               1   \n",
       "14  Add organic matter to the compost pile, chop o...               1   \n",
       "15  List only income from maize sales and ignore c...               1   \n",
       "16  Mix the pesticide according to instructions, w...               1   \n",
       "17  Prepare the seedbed in advance to fine tilth; ...               0   \n",
       "\n",
       "    question_id  \n",
       "0             1  \n",
       "1             2  \n",
       "2             3  \n",
       "3             4  \n",
       "4             5  \n",
       "5             6  \n",
       "6             7  \n",
       "7             8  \n",
       "8             9  \n",
       "9            10  \n",
       "10           11  \n",
       "11           12  \n",
       "12           13  \n",
       "13           14  \n",
       "14           15  \n",
       "15           16  \n",
       "16           17  \n",
       "17           18  "
      ]
     },
     "execution_count": 4,
     "metadata": {},
     "output_type": "execute_result"
    }
   ],
   "source": [
    "mcq_df = mcq_df.drop_duplicates()\n",
    "mcq_df = mcq_df.reset_index(drop=True)\n",
    "mcq_df['question_id'] = mcq_df.index + 1\n",
    "\n",
    "mcq_df"
   ]
  },
  {
   "cell_type": "markdown",
   "metadata": {},
   "source": [
    "# Set up API keys"
   ]
  },
  {
   "cell_type": "code",
   "execution_count": 5,
   "metadata": {},
   "outputs": [
    {
     "data": {
      "text/plain": [
       "True"
      ]
     },
     "execution_count": 5,
     "metadata": {},
     "output_type": "execute_result"
    }
   ],
   "source": [
    "from dotenv import load_dotenv\n",
    "\n",
    "# Load environment variables from .env file\n",
    "load_dotenv()"
   ]
  },
  {
   "cell_type": "code",
   "execution_count": 6,
   "metadata": {},
   "outputs": [],
   "source": [
    "def mcq_prompt(question, answer_options, country):\n",
    "    # convert options to list\n",
    "    answer_options = answer_options.split(\"|\")\n",
    "    answer_options = \"\\n\".join([f\"{chr(ord('A') + i)}. {option}\" for i, option in enumerate(answer_options)])\n",
    "    return (f\"You provide smallholder farmers in {country} with agricultural advice and information. \"\n",
    "            f\"For the following multiple choice question, please select the correct answer(s) from options A to E and \"\n",
    "            f\"provide a detailed rationale for your choice. There can be multiple correct answers.\\n\\n\"\n",
    "            f\"Question: {question}\\n\\n\"\n",
    "            f\"Answer options:\\n{answer_options}\\n\\n\"\n",
    "            f\"Your response must follow this format exactly:\\n\\n\"\n",
    "            f\"Correct answer: [OPTION(S)]\\n\\n\"\n",
    "            f\"Rationale: [Not longer than 10 sentences]\")"
   ]
  },
  {
   "cell_type": "code",
   "execution_count": 7,
   "metadata": {},
   "outputs": [
    {
     "name": "stderr",
     "output_type": "stream",
     "text": [
      "[2025-06-18 11:35:54 - httpx:1025 - INFO] HTTP Request: GET https://raw.githubusercontent.com/BerriAI/litellm/main/model_prices_and_context_window.json \"HTTP/1.1 200 OK\"\n"
     ]
    }
   ],
   "source": [
    "import litellm\n",
    "\n",
    "# set callbacks\n",
    "litellm.success_callback = [\"langfuse\"]\n",
    "litellm.failure_callback = [\"langfuse\"]"
   ]
  },
  {
   "cell_type": "code",
   "execution_count": 8,
   "metadata": {},
   "outputs": [],
   "source": [
    "country = \"Kenya\""
   ]
  },
  {
   "cell_type": "code",
   "execution_count": 9,
   "metadata": {},
   "outputs": [],
   "source": [
    "def get_llm_answers(df, model, country, **kwargs):\n",
    "    ids = []\n",
    "    prompts = []\n",
    "    answers = []\n",
    "    correct_answers = []\n",
    "\n",
    "    for _, row in df.iterrows():\n",
    "        question = row[\"question\"]\n",
    "        id = row[\"question_id\"]\n",
    "        answer_options = row[\"options\"]\n",
    "        correct_answer = chr(ord('A') + row[\"correct_answer\"])\n",
    "        prompt = mcq_prompt(question, answer_options, country)\n",
    "\n",
    "        response = litellm.completion(\n",
    "            model=model,\n",
    "            messages=[\n",
    "                {\"role\": \"user\", \"content\": prompt}\n",
    "            ],\n",
    "            **kwargs\n",
    "        )\n",
    "\n",
    "        # Extract the answer from the response\n",
    "        answer = response[\"choices\"][0][\"message\"][\"content\"]\n",
    "\n",
    "        # Append the id, prompt, and answer to the lists\n",
    "        ids.append(id)\n",
    "        prompts.append(prompt)\n",
    "        answers.append(answer)\n",
    "        correct_answers.append(correct_answer)\n",
    "\n",
    "    # Create a DataFrame from the lists\n",
    "    results_df = pd.DataFrame({\n",
    "        \"question_id\": ids,\n",
    "        \"prompt\": prompts,\n",
    "        \"answer\": answers,\n",
    "        \"correct_answer\": correct_answers\n",
    "    })\n",
    "\n",
    "    # Save the DataFrame to a CSV file\n",
    "    model_name = model.replace(\"/\", \"-\").replace(\".\", \"-\")\n",
    "    csv_path = os.path.join(\"results\", f\"{basename}-{model_name}.csv\")\n",
    "    print(f\"Saving results to {csv_path}\")\n",
    "    results_df.to_csv(csv_path, index=False)\n",
    "\n",
    "    return results_df"
   ]
  },
  {
   "cell_type": "markdown",
   "metadata": {},
   "source": [
    "# OpenAI"
   ]
  },
  {
   "cell_type": "code",
   "execution_count": 10,
   "metadata": {},
   "outputs": [
    {
     "name": "stdout",
     "output_type": "stream",
     "text": [
      "Saving results to results/20_harder_MCQs-openai-gpt-4o-2024-08-06.csv\n"
     ]
    }
   ],
   "source": [
    "gpt_4o_df = get_llm_answers(mcq_df, \"openai/gpt-4o-2024-08-06\", country)"
   ]
  },
  {
   "cell_type": "code",
   "execution_count": 11,
   "metadata": {},
   "outputs": [
    {
     "data": {
      "application/vnd.microsoft.datawrangler.viewer.v0+json": {
       "columns": [
        {
         "name": "index",
         "rawType": "int64",
         "type": "integer"
        },
        {
         "name": "question_id",
         "rawType": "int64",
         "type": "integer"
        },
        {
         "name": "prompt",
         "rawType": "object",
         "type": "string"
        },
        {
         "name": "answer",
         "rawType": "object",
         "type": "string"
        },
        {
         "name": "correct_answer",
         "rawType": "object",
         "type": "string"
        }
       ],
       "ref": "d215e788-6876-45bf-bd59-b5d777429166",
       "rows": [
        [
         "0",
         "1",
         "You provide smallholder farmers in Kenya with agricultural advice and information. For the following multiple choice question, please select the correct answer(s) from options A to E and provide a detailed rationale for your choice. There can be multiple correct answers.\n\nQuestion: How do I, in the shortest duration and cost effectively correct for nutrient deficiency in my farm?\n\nAnswer options:\nA. Test soil for nutrient deficiency or perform visual observations of the crop to diagnose the deficiency; get the right source of fertilizer to replenish the deficiency; apply the right rate of the fertilizer that would sufficiently correct the deficiency; apply the fertilizer at the right stage of the crop to maximize uptake and use…remember to apply when soil is moist; place the fertilizer close to the plant root zone but not too close to avoid scotching\nB. Test soil for nutrient deficiency or perform visual observations of the crop to diagnose the deficiency; apply well rotten manure; apply the right rate of the manure that would sufficiently correct the deficiency; apply the manure at the right stage of the crop to maximize uptake and use…remember to apply when soil is moist; place the manure close to the plant root zone but not too close to avoid scotching\nC. Apply fertilizer at the right rate, and the right stage of the crop; place the fertilizer close to the root system\n\nYour response must follow this format exactly:\n\nCorrect answer: [OPTION(S)]\n\nRationale: [Not longer than 10 sentences]",
         "Correct answer: A, C\n\nRationale: Option A outlines a comprehensive approach that includes testing soil for deficiencies and using the correct type and amount of fertilizer, applied at the appropriate time and place. This method ensures that the specific nutrient deficiencies are corrected efficiently, optimizing both cost and effectiveness. Soil testing or visual diagnosis is key to identifying nutrient deficiencies accurately, preventing waste and environmental harm from over-application of fertilizers. Option C highlights important aspects of correcting nutrient deficiencies: applying fertilizer at the right rate and stage, and positioning it close to the root system to maximize uptake. While option B suggests using well-rotted manure, which is beneficial for long-term soil health, it may not correct deficiencies as quickly as targeted chemical fertilizers, especially if the deficiency is acute. Therefore, Options A and C, which emphasize timely and precise application of commercial fertilizers, are more likely to offer the fastest and most cost-effective solution.",
         "A"
        ],
        [
         "1",
         "2",
         "You provide smallholder farmers in Kenya with agricultural advice and information. For the following multiple choice question, please select the correct answer(s) from options A to E and provide a detailed rationale for your choice. There can be multiple correct answers.\n\nQuestion: How do I implement integrated pest management (IPM) on a farm?\n\nAnswer options:\nA. Plant early and with the right seeds to ensure healthy and vigorous crops, continuously monitor pest populations, in case of infestation surpassing the threshold level, start by applying cultural methods, integrate biological and physical options before resulting to chemical control, evaluate control methods, and adjust strategies.\nB. Monitor pest populations, use biological control methods, and apply chemical control as a last resort.\nC. Evaluate control methods, apply biological controls, and monitor pest populations.\nD. Apply chemical control when needed, monitor pest populations, evaluate control methods, and adjust strategies.\n\nYour response must follow this format exactly:\n\nCorrect answer: [OPTION(S)]\n\nRationale: [Not longer than 10 sentences]",
         "Correct answer: A, B, D\n\nRationale: Integrated Pest Management (IPM) aims to manage pest populations below levels that cause economic harm, using the most environmentally friendly methods available. Option A encompasses a comprehensive strategy, starting with cultural methods such as planting early with the right seeds, and incorporating biological, physical, and finally, chemical methods if necessary, while also emphasizing monitoring and evaluation. This aligns closely with IPM principles of using a combination of methods and basing decisions on economic thresholds. Option B also correctly describes using biological control methods and reserving chemical control as a last resort, which reflects IPM priorities. Option D acknowledges the role of chemical control when needed, but stresses the importance of monitoring and evaluating outcomes to adapt strategies, adhering to IPM's iterative and adaptive nature. However, Option C is overly simplistic and does not detail the sequence or emphasis on cultural and physical controls before chemical options, nor does it address evaluating control methods prior to application.",
         "A"
        ],
        [
         "2",
         "3",
         "You provide smallholder farmers in Kenya with agricultural advice and information. For the following multiple choice question, please select the correct answer(s) from options A to E and provide a detailed rationale for your choice. There can be multiple correct answers.\n\nQuestion: How do I calibrate a knapsack sprayer to ensure accurate pesticide application?\n\nAnswer options:\nA. Measure the sprayer output over a known time and area, calculate the required nozzle flow rate based on walking speed and spray width, adjust nozzle settings and pressure accordingly, and conduct a field test to confirm uniform and accurate application.\nB. Adjust the nozzle settings, measure the sprayer output, calculate the required nozzle flow rate, and conduct a field test.\nC. Conduct a field test, measure the sprayer output, calculate the required nozzle flow rate, and adjust the nozzle settings.\nD. Measure the sprayer output, conduct a field test, adjust the nozzle settings, and calculate the required nozzle flow rate.\n\nYour response must follow this format exactly:\n\nCorrect answer: [OPTION(S)]\n\nRationale: [Not longer than 10 sentences]",
         "Correct answer: A, C\n\nRationale: Calibrating a knapsack sprayer involves ensuring that the output is consistent with the desired application rate. Option A is correct because it includes measuring the sprayer output over a known time and area, which helps determine the sprayer's flow rate and ensures the application is consistent. It also involves calculating the required nozzle flow rate based on walking speed and spray width, adjusting the nozzle settings and pressure, and conducting a field test to verify uniform application. Option C is correct as it outlines the necessary steps, including conducting a field test, measuring sprayer output, calculating the required flow rate, and adjusting the nozzle settings for accurate spraying. Both options A and C systematically cover the essential steps needed to properly calibrate a knapsack sprayer. Options B and D lack the detailed sequence required for proper calibration and focus more on isolated steps without specifying the logical or practical order.",
         "A"
        ],
        [
         "3",
         "4",
         "You provide smallholder farmers in Kenya with agricultural advice and information. For the following multiple choice question, please select the correct answer(s) from options A to E and provide a detailed rationale for your choice. There can be multiple correct answers.\n\nQuestion: What is the right procedure to harvest onions?\n\nAnswer options:\nA. Harvest during the dry season, at about 90-150 after planting depending on the variety. The crop must be mature by observing that the tops have started to yellow or droop, and the bulbs will have formed shing membranous cover around them. To harvest, loosen the soil around the plants to allow for easier removal. Pull the bulbs by hand or dig them up with garden fork. Once the bulbs are out of the ground, cut the tops back to about one inch. Clean the bulbs and let them dry in the sun to cure (dry out) before storing. If long storage is intended, cure the bulbs in a well-ventilated store by spreading on racks until the necks and outer scale leaves of the bulbs are thoroughly dried.\nB. Harvest during the wet season, at about 90-150 after planting depending on the variety. The crop must be mature by observing that the tops have started to yellow or droop, and the bulbs will have formed shing membranous cover around them. To harvest, loosen the soil around the plants to allow for easier removal. Pull the bulbs by hand or dig them up with garden fork. Once the bulbs are out of the ground, cut the tops back to about one inch. Clean the bulbs and let them dry in the sun to cure (dry out) before storing. If long storage is intended, cure the bulbs in a well-ventilated store by spreading on racks until the necks and outer scale leaves of the bulbs are thoroughly dried.\nC. Harvest at about 90-150 after planting depending on the variety. The crop must be mature by observing that the tops have started to yellow or droop, and the bulbs will have formed shing membranous cover around them. To harvest, loosen the soil around the plants to allow for easier removal. Pull the bulbs by hand or dig them up with garden fork. Clean the bulbs and let them dry in the sun to cure (dry out) before storing. If long storage is intended, cure the bulbs in a well-ventilated store by spreading on racks until the necks and outer scale leaves of the bulbs are thoroughly dried.\nD. Harvest during the dry season, at about 90-150 after planting depending on the variety. To harvest, loosen the soil around the plants to allow for easier removal. Pull the bulbs by hand or dig them up with garden fork. Once the bulbs are out of the ground, cut the tops back to about one inch. Clean the bulbs and let them dry in the sun to cure (dry out) before storing. If long storage is intended, cure the bulbs in a well-ventilated store by spreading on racks until the necks and outer scale leaves of the bulbs are thoroughly dried.\n\nYour response must follow this format exactly:\n\nCorrect answer: [OPTION(S)]\n\nRationale: [Not longer than 10 sentences]",
         "Correct answer: A\n\nRationale: Option A provides the most comprehensive and accurate procedure for harvesting onions. It emphasizes harvesting during the dry season, which is critical because onions need to be cured (dried) properly after harvest to ensure long storage life, and wet conditions can lead to rot. The description of maturity signs—tops yellowing or drooping and the formation of a shiny membranous cover—are standard indicators that onions are ready for harvest. Additionally, the steps about loosening the soil, pulling bulbs, trimming the tops to about one inch, and curing them either in the sun or a well-ventilated store are detailed and cover essential practices for a successful harvest. Option B is incorrect due to recommending harvest in the wet season. Options C and D are incomplete because they omit key details or conditions necessary for optimal onion harvesting such as seasonality or the indication of crop maturity.",
         "A"
        ],
        [
         "4",
         "5",
         "You provide smallholder farmers in Kenya with agricultural advice and information. For the following multiple choice question, please select the correct answer(s) from options A to E and provide a detailed rationale for your choice. There can be multiple correct answers.\n\nQuestion: How should I wear PPE?\n\nAnswer options:\nA. Put on overall/coveralls first, then gloves, mask, and finish with the face shield\nB. Put on the mask first, then gloves, overall/coveralls, and finish with the face shield.\nC. To ensure personal safety when handling pesticides in the store, transporting or when spraying, the applicator should put on the appropriate overall/coveralls first, then the gumboots, then a mask, followed by gloves, and lastly a face shield.\nD. Put on gloves, then a face shield, followed by overall/coveralls, and finally a mask.\n\nYour response must follow this format exactly:\n\nCorrect answer: [OPTION(S)]\n\nRationale: [Not longer than 10 sentences]",
         "Correct answer: C\n\nRationale: The correct sequence of wearing personal protective equipment (PPE) is essential for ensuring optimal protection, particularly when dealing with pesticides. Option C outlines the appropriate order: starting with overall/coveralls, then gumboots, followed by a mask, gloves, and finally a face shield. The overall/coveralls protect the body and are foundational, so they should be worn first. Gumboots are worn after to protect the feet and prevent any splash from getting inside the clothing or shoes. The mask is important to ensure that no inhalation of harmful substances occurs while dressing up. Gloves should come after the mask to maintain cleanliness when fitting other PPE, and the face shield is worn last to protect the face from potential splashes and ensure the mask's seal isn't disturbed. This sequence ensures maximum personal safety while effectively reducing contamination risk.",
         "C"
        ],
        [
         "5",
         "6",
         "You provide smallholder farmers in Kenya with agricultural advice and information. For the following multiple choice question, please select the correct answer(s) from options A to E and provide a detailed rationale for your choice. There can be multiple correct answers.\n\nQuestion: How do I use animal waste management on a mixed crop-livestock farm?\n\nAnswer options:\nA. Collect animal waste and dump it directly onto crop fields.\nB. Heap all the animal waste together then burn all the waste to dispose of it quickly and efficiently.\nC. Collect animal waste and any agricultural waste regularly, compost it for 3–4 months and keep turning it regularly, and then apply it to crops during land preparation.\nD. Store manure in open pits near water sources to allow it to decompose naturally.\n\nYour response must follow this format exactly:\n\nCorrect answer: [OPTION(S)]\n\nRationale: [Not longer than 10 sentences]",
         "Correct answer: C\n\nRationale: Effective animal waste management on a mixed crop-livestock farm involves using the waste to improve soil fertility for crop production. Option C is the correct approach as composting animal waste with agricultural waste over 3–4 months, while regularly turning it, creates rich organic matter that enhances soil fertility when applied to crops during land preparation. This method recycles nutrients, reduces the need for chemical fertilizers, and mitigates environmental pollution. Option A is incorrect because directly dumping fresh animal waste onto fields can introduce pathogens and burn crops due to the high ammonia content. Option B is unsuitable as burning waste releases greenhouse gases and destroys valuable nutrients. Option D poses environmental risks such as water contamination and does not efficiently manage the waste.",
         "C"
        ],
        [
         "6",
         "7",
         "You provide smallholder farmers in Kenya with agricultural advice and information. For the following multiple choice question, please select the correct answer(s) from options A to E and provide a detailed rationale for your choice. There can be multiple correct answers.\n\nQuestion: How do I determine the seed rate required for planting on a farm?\n\nAnswer options:\nA. Calculate the field area, determine the crop variety, estimate the required seeds per hectare, and apply the seed rate.\nB. Determine the crop variety, calculate the field area, estimate the required seeds per hectare, and apply the seed rate.\nC. Estimate the required seeds per hectare, calculate the field area, determine the crop variety, and apply the seed rate.\nD. Calculate the field area, determine appropriate plant spacing for the selected crop variety, estimate the number of seeds needed per hectare based on spacing and germination rate, and apply the seed rate accordingly.\n\nYour response must follow this format exactly:\n\nCorrect answer: [OPTION(S)]\n\nRationale: [Not longer than 10 sentences]",
         "Correct answer: A, B, D\n\nRationale: Determining the seed rate required for planting involves several steps that ensure the farmer uses the right amount of seeds for optimal crop growth. First, calculating the field area is necessary to understand how much land is to be planted. The crop variety is a crucial factor, as different crops and even different varieties require different spacing and seed rates. Estimating the required seeds per hectare based on this information helps in calculating how many seeds are needed for the entire field. Option D is the most comprehensive because it includes determining appropriate plant spacing for the selected crop variety, which is critical for ensuring optimal growth conditions and is often related to the seed rate. In the context of these answers, all of them include calculating field area, determining crop variety, and estimating required seeds per hectare, which are fundamental steps in the process. However, Option C incorrectly sequences steps by estimating seeds per hectare before determining field area and crop variety specifics, which makes it less practical than the other options.",
         "D"
        ],
        [
         "7",
         "8",
         "You provide smallholder farmers in Kenya with agricultural advice and information. For the following multiple choice question, please select the correct answer(s) from options A to E and provide a detailed rationale for your choice. There can be multiple correct answers.\n\nQuestion: Last year I experienced significant losses in my stored maize grain. How do I handle my grain to minimize these losses?\n\nAnswer options:\nA. Harvest the crop when the leaves are dry. Thresh the grain either manually or mechanically but avoid seed breakage. Mix the grain with an insecticide (grain dust) at the recommended rate. Put the treated grain in gunny bags ready storage. Alternatively, you can put dry grain in hermetic without treating with insecticide. Clean the store, and dust it with insecticides before storing the bags. Ensure the store is well ventilated, and free from rodents, and stack the bags on pallets and in a way that ventilation is maximized.\nB. Harvest during the dry season, and importantly when maize is physiologically mature. Dry the harvested cobs under the until the moisture content is reduced to about 13%. You can estimate that the grain is dry by doing simple tests like salt test or biting test. Thresh the grain either manually or mechanically but avoid seed breakage. Mix the grain with an insecticide (grain dust) at the recommended rate. Put the treated grain in gunny bags ready storage. Alternatively, you can put dry grain in hermetic without treating with insecticide. Clean the store, and dust it with insecticides before storing the bags.\nC. Harvest during the dry season, and importantly when maize is physiologically mature. Thresh the grain either manually or mechanically but avoid seed breakage. Mix the grain with an insecticide (grain dust) at the recommended rate. Put the treated grain in gunny bags ready storage. Alternatively, you can put dry grain in hermetic without treating with insecticide. Clean the store, and dust it with insecticides before storing the bags. Ensure the store is well ventilated, and free from rodents, and stack the bags on pallets and in a way that ventilation is maximized.\nD. Harvest during the dry season, and importantly when maize is physiologically mature. Dry the harvested cobs under the until the moisture content is reduced to about 13%. You can estimate that the grain is dry by doing simple tests like salt test or biting test. Thresh the grain either manually or mechanically but avoid seed breakage. Mix the grain with an insecticide (grain dust) at the recommended rate. Put the treated grain in gunny bags ready storage. Alternatively, you can put dry grain in hermetic without treating with insecticide. Clean the store, and dust it with insecticides before storing the bags. Ensure the store is well ventilated, and free from rodents, and stack the bags on pallets and in a way that ventilation is maximized.\n\nYour response must follow this format exactly:\n\nCorrect answer: [OPTION(S)]\n\nRationale: [Not longer than 10 sentences]",
         "Correct answer: B, D\n\nRationale: Options B and D both cover essential steps to minimize grain losses effectively. They recommend harvesting during the dry season when maize is physiologically mature, ensuring that it is dried to about 13% moisture content to prevent mold and rot. Tests like the salt test or biting test provide simple methods to check dryness, which are practical for smallholder farmers. Both options discuss the importance of threshing without seed breakage and offer two storage methods: using grain treated with insecticide or using hermetic storage without insecticide. Additionally, cleaning and using insecticide in storage areas, proper ventilation, protection from rodents, and stacking bags on pallets are all critical measures for maintaining the quality and longevity of stored grain. Options A and C are incomplete because they lack important steps such as drying to a specific moisture content and accurate testing for dryness.",
         "D"
        ],
        [
         "8",
         "9",
         "You provide smallholder farmers in Kenya with agricultural advice and information. For the following multiple choice question, please select the correct answer(s) from options A to E and provide a detailed rationale for your choice. There can be multiple correct answers.\n\nQuestion: How do I make organic fertilizer from animal manure?\n\nAnswer options:\nA. Collect manure, compost it, apply the compost to the soil, and monitor soil quality.\nB. Collect manure, store it for several weeks, compost it, and apply it to the soil.\nC. Collect fresh animal manure, mix it with carbon-rich organic materials (like crop residues or dry leaves) to balance the carbon-to-nitrogen ratio, maintain adequate moisture and aeration during composting by turning the pile regularly, and apply the mature compost to the soil.\n\nYour response must follow this format exactly:\n\nCorrect answer: [OPTION(S)]\n\nRationale: [Not longer than 10 sentences]",
         "Correct answer: C\n\nRationale: Option C provides a comprehensive method for making organic fertilizer from animal manure by addressing the key components of effective composting. Collecting fresh manure and mixing it with carbon-rich materials ensures a balanced carbon-to-nitrogen ratio, which is crucial for microbial activity and efficient decomposition. Regular turning of the compost pile is necessary to maintain adequate aeration and moisture, preventing anaerobic conditions that can lead to odor issues and slower composting. The mature compost can then be applied to the soil, contributing to improved soil structure and fertility. While option A includes essential steps, such as composting and monitoring soil quality, it lacks details on balancing the carbon-to-nitrogen ratio and managing the composting process. Option B mentions storing manure for weeks before composting, which is unnecessary and could lead to nutrient loss or odor problems. Therefore, option C is the most complete and accurate description of making organic fertilizer from animal manure.",
         "C"
        ],
        [
         "9",
         "10",
         "You provide smallholder farmers in Kenya with agricultural advice and information. For the following multiple choice question, please select the correct answer(s) from options A to E and provide a detailed rationale for your choice. There can be multiple correct answers.\n\nQuestion: What is the best weed control strategy on a farm?\n\nAnswer options:\nA. Use mechanical control methods, apply herbicides, monitor weed growth, and evaluate alternatives.\nB. First identify the weed species in your farm, use mechanical control methods e.g uprooting or manual weeding, monitor weed growth rate, and evaluate alternatives whether it requires use of herbicides to manage its growth and competition.\nC. Identify weed species, apply chemical herbicides, monitor the effectiveness, and evaluate alternatives.\nD. Apply herbicides, use mechanical control, monitor effectiveness, and evaluate alternatives.\n\nYour response must follow this format exactly:\n\nCorrect answer: [OPTION(S)]\n\nRationale: [Not longer than 10 sentences]",
         "Correct answer: B\n\nRationale: The best weed control strategy involves a comprehensive and integrated approach. Option B is the most complete strategy as it begins with identifying the weed species, which is crucial for understanding the appropriate control methods. Using mechanical control methods such as uprooting or manual weeding minimizes environmental impact while directly targeting the problem. Monitoring the weed growth rate helps in assessing the effectiveness of the control measures and determines if further intervention is necessary. It also includes evaluating alternatives, such as considering the use of herbicides if non-chemical methods are insufficient, therefore incorporating a responsible use of herbicides as a last resort in an integrated weed management strategy. This method ensures sustainability, tends to be cost-effective, and is mindful of both environmental impacts and the health of the farm ecosystem.",
         "B"
        ],
        [
         "10",
         "11",
         "You provide smallholder farmers in Kenya with agricultural advice and information. For the following multiple choice question, please select the correct answer(s) from options A to E and provide a detailed rationale for your choice. There can be multiple correct answers.\n\nQuestion: Which maize varieties are suitable lowlands of Kenya\n\nAnswer options:\nA. DH01, DH02, DH05, Duma 43, H6213, H519\nB. DH01, DH02, DH05, Duma 43, Sungura 301\nC. H627, H6213, DH01, DH02, DH05, Duma 43, H6213, H519\nD. H512, H511, D01, DH02, DH05, Duma 43, H6213, H519\n\nYour response must follow this format exactly:\n\nCorrect answer: [OPTION(S)]\n\nRationale: [Not longer than 10 sentences]",
         "Correct answer: B\n\nRationale: The lowlands of Kenya require maize varieties that are tolerant to heat and can mature quickly to match the relatively lower precipitation and higher temperatures. Varieties like DH01, DH02, and DH05 are hybrids developed to adapt to such harsh conditions. Duma 43 is also suitable for drier areas, performing well in lower altitudes with its drought resistance traits. Sungura 301 is another variety known for its resilience in lowland climatic conditions. Options A, C, and D include varieties like H6213 and H519, which are typically more suitable for medium to high-altitude regions rather than lowland areas.",
         "B"
        ],
        [
         "11",
         "12",
         "You provide smallholder farmers in Kenya with agricultural advice and information. For the following multiple choice question, please select the correct answer(s) from options A to E and provide a detailed rationale for your choice. There can be multiple correct answers.\n\nQuestion: Which is the most optimal time to apply pesticides?\n\nAnswer options:\nA. Spray either early in the morning or late in the evening when it’s cool, and the pests are active\nB. Spray when its sunny, hot, windy, and insects are visible on the crop\nC. Spray the pesticide directly towards the wind\nD. Spray immediately before or after heavy rainfall\n\nYour response must follow this format exactly:\n\nCorrect answer: [OPTION(S)]\n\nRationale: [Not longer than 10 sentences]",
         "Correct answer: A\n\nRationale: The optimal time to apply pesticides is early in the morning or late in the evening when temperatures are cooler, and pest activity is higher. These times help avoid issues such as rapid evaporation and volatilization that can occur under high temperatures, reducing the effectiveness of the pesticide. Additionally, lower temperatures in the morning and evening can help minimize the degradation of chemicals by sunlight, allowing them to remain effective for longer periods. Option B is incorrect because applying pesticides during hot, sunny, and windy conditions can cause the chemicals to drift away from the target area and evaporate quickly, reducing their effectiveness and potentially harming non-target species. Option C is incorrect as spraying toward the wind can cause pesticide drift, posing risks to nearby plants, animals, and humans. Option D is incorrect because spraying before or after heavy rainfall can lead to the pesticide being washed away, further reducing its efficacy.",
         "A"
        ],
        [
         "12",
         "13",
         "You provide smallholder farmers in Kenya with agricultural advice and information. For the following multiple choice question, please select the correct answer(s) from options A to E and provide a detailed rationale for your choice. There can be multiple correct answers.\n\nQuestion: Which diseases should I look out for during cold weather in poultry?\n\nAnswer options:\nA. Newcastle disease, fowl cholera, coccidiosis\nB. Fowl cholera, coccidiosis, aspergillosis and respiratory distress\nC. Aspergillosis, fowlpox, infectious coryza, pneumonia\nD. Pneumonia, coccidiosis, and respiratory distress\n\nYour response must follow this format exactly:\n\nCorrect answer: [OPTION(S)]\n\nRationale: [Not longer than 10 sentences]",
         "Correct answer: B. Fowl cholera, coccidiosis, aspergillosis and respiratory distress\n\nRationale: Cold weather in poultry can lead to specific health issues due to increased stress and poor air circulation in confined spaces. \"Fowl cholera\" is a bacterial disease that can spread in the close quarters of a poultry house, especially when ventilation is not adequate. \"Coccidiosis\" is a parasitic disease that thrives in humid conditions, which can be exacerbated by cold weather if litter remains damp. \"Aspergillosis\" is a fungal infection that can occur due to poor ventilation and damp environments often found in cold weather. Lastly, \"respiratory distress\" can be triggered by cold temperatures, which might affect the respiratory system of the birds, especially when air quality is poor due to insufficient ventilation. These conditions highlight the need for managing the environment during colder months to prevent such diseases.",
         "D"
        ],
        [
         "13",
         "14",
         "You provide smallholder farmers in Kenya with agricultural advice and information. For the following multiple choice question, please select the correct answer(s) from options A to E and provide a detailed rationale for your choice. There can be multiple correct answers.\n\nQuestion: Which are the best practices when intercropping crops?\n\nAnswer options:\nA. Intercrop maize with millet and sorghum\nB. Intercrop legumes such beans, cowpea, mung beans or pigeonpea with cereal crops like maize, sorghum or millets. However, pay attention to spacing to minimize competition\nC. Intercrop tall crop with similarly tall crops irrespective of the species\nD. Intercrop legumes such beans, cowpea, mung beans or pigeon pea with cereal crops like maize, sorghum or millets at close spacing to increase yield per unit\n\nYour response must follow this format exactly:\n\nCorrect answer: [OPTION(S)]\n\nRationale: [Not longer than 10 sentences]",
         "Correct answer: B\n\nRationale: Intercropping is a farming practice that involves growing two or more crops in proximity. It is essential to choose crops with complementary growth habits to reduce competition for resources such as sunlight, water, and nutrients. Option B suggests intercropping legumes, like beans or cowpea, with cereal crops like maize or sorghum. This is considered a best practice because legumes can fix nitrogen in the soil, benefiting the companion cereal crops, leading to improved overall soil fertility and crop yield. Additionally, maintaining proper spacing is crucial to minimize competition between the crops, thereby optimizing growth and productivity. Option A is less effective because maize, millet, and sorghum all belong to the cereal group and will compete for the same resources. Option C is incorrect as intercropping similarly tall crops can lead to competition for sunlight. Option D advocates close spacing, which could exacerbate competition for resources, leading to reduced yields.",
         "B"
        ],
        [
         "14",
         "15",
         "You provide smallholder farmers in Kenya with agricultural advice and information. For the following multiple choice question, please select the correct answer(s) from options A to E and provide a detailed rationale for your choice. There can be multiple correct answers.\n\nQuestion: How do I compost crop residues to enhance soil fertility?\n\nAnswer options:\nA. Add organic matter to the compost pile, chop or shred crop residues, and turn regularly.\nB. Collect crop residues, chop/shred them to increase surface area, add a layer of organic matter such as animal manure or green materials in the compost pile, maintain proper moisture and aeration, and turn the compost regularly to support decomposition and aeration.\nC. Collect crop residues, turn them regularly, chop or shred them, and add organic matter to the compost\nD. Collect crop residues, add organic matter to the compost pile, chop or shred them, and turn regularly.\n\nYour response must follow this format exactly:\n\nCorrect answer: [OPTION(S)]\n\nRationale: [Not longer than 10 sentences]",
         "Correct answer: B\n\nRationale: Option B provides a detailed and comprehensive method for composting crop residues. It emphasizes the importance of chopping or shredding the residues to increase the surface area, which facilitates faster decomposition. The addition of organic matter such as animal manure or green materials supplies necessary nutrients and microorganisms that aid in the breakdown of the materials. Maintaining proper moisture and aeration is crucial for microbial activity and to prevent the compost pile from becoming anaerobic. Regular turning is also highlighted, which is essential for even decomposition and providing oxygen. While the other options mention turning and adding organic matter, they do not provide as complete a process as option B.",
         "B"
        ],
        [
         "15",
         "16",
         "You provide smallholder farmers in Kenya with agricultural advice and information. For the following multiple choice question, please select the correct answer(s) from options A to E and provide a detailed rationale for your choice. There can be multiple correct answers.\n\nQuestion: How do I create a simple farm budget for one season of maize farming?\n\nAnswer options:\nA. List only income from maize sales and ignore costs related to inputs, labor, and maintenance.\nB. Come up with a list of all activities to be undertaken, estimate the cost of production including inputs, labor. Estimate the expected yields and price per bag, subtract costs for inputs, labor, and land preparation, then determine the profit or loss.\nC. Record all expenses first and use any leftover funds for farm activities, regardless of income.\nD. Only calculate costs for seeds and fertilizer, as they are the only important expenses for maize farming.\n\nYour response must follow this format exactly:\n\nCorrect answer: [OPTION(S)]\n\nRationale: [Not longer than 10 sentences]",
         "Correct answer: B\n\nRationale: Creating a farm budget involves comprehensive planning that includes all aspects of farming operations. Option B is the correct approach because it involves listing all activities and estimating the cost of inputs and labor, which are critical to developing an accurate budget. It also includes estimating the expected yields and price per bag, which are essential for projecting income. Subtracting the costs from the expected income allows the farmer to determine profit or loss, which is vital for financial planning and decision-making. Option A is incorrect because ignoring costs would lead to an inaccurate financial picture that can result in losses. Option C is flawed as it might overlook the total income potential and lead to mismanaged finances. Option D is insufficient because it disregards labor, land preparation, and other possible costs that are important in creating a detailed and realistic budget.",
         "B"
        ],
        [
         "16",
         "17",
         "You provide smallholder farmers in Kenya with agricultural advice and information. For the following multiple choice question, please select the correct answer(s) from options A to E and provide a detailed rationale for your choice. There can be multiple correct answers.\n\nQuestion: How do I apply pesticide to ensure safety and effectiveness\n\nAnswer options:\nA. Mix the pesticide according to instructions, wear PPE, apply it on windy days, and clean equipment thoroughly.\nB. Wear appropriate PPE, mix the pesticide strictly according to label instructions, calibrate the spray equipment, apply during calm weather to prevent drift, avoid applying pesticides on peak heat periods, clean all equipment thoroughly after use, properly dispose the pesticide container.\nC. Wear PPE, apply pesticide on windy days, mix according to instructions, and clean equipment.\n\nYour response must follow this format exactly:\n\nCorrect answer: [OPTION(S)]\n\nRationale: [Not longer than 10 sentences]",
         "Correct answer: B\n\nRationale: Option B outlines the best practices for applying pesticides safely and effectively. Wearing appropriate personal protective equipment (PPE) is crucial to protect the applicator from exposure to chemicals. Mixing pesticide strictly according to label instructions ensures the correct concentration and effectiveness. Calibrating spray equipment ensures accurate application rates. Applying during calm weather minimizes pesticide drift and potential harm to non-target areas or species. Avoiding application during peak heat periods prevents evaporation and unintended drift. Thoroughly cleaning equipment after use helps prevent contamination and maintain optimal function, while proper disposal of pesticide containers prevents environmental contamination. Option A and C suggest applying pesticides on windy days, which is unsafe as it increases the risk of drift and environmental contamination.",
         "B"
        ],
        [
         "17",
         "18",
         "You provide smallholder farmers in Kenya with agricultural advice and information. For the following multiple choice question, please select the correct answer(s) from options A to E and provide a detailed rationale for your choice. There can be multiple correct answers.\n\nQuestion: Which is the best practice in transplanting seedlings?\n\nAnswer options:\nA. Prepare the seedbed in advance to fine tilth; Seedling ought to be transplanted at the right stage; harden the seedlings by removing excess shade and reduce watering; on the day of transplanting, thoroughly irrigate the nursery to enable easy removal of the seedlings; transplant the seedlings onto well irrigated seed bed and place the roots carefully to avoid injury. The best time to transplant is late in the evening when it’s cool\nB. Prepare the seedbed in advance to fine tilth; Seedling can be transplanted at any time of the day depending on one’s convenience. Seedling ought to be transplanted at the right stage; harden the seedlings by removing excess shade and reduce watering; on the day of transplanting, thoroughly irrigate the nursery to enable easy removal of the seedlings; transplant the seedlings onto well irrigated seed bed and place the roots carefully to avoid injury.\nC. Prepare the seedbed in advance to fine tilth; Seedling ought to be transplanted at the right stage; on the day of transplanting, thoroughly irrigate the nursery to enable easy removal of the seedlings; transplant the seedlings onto well irrigated seed bed and place the roots carefully to avoid injury. The best time to transplant is late in the evening when it’s cool\nD. Prepare the seedbed in advance to fine tilth; Seedling can be transplanted irrespective of their stage of development; harden the seedlings by removing excess shade and reduce watering; on the day of transplanting, thoroughly irrigate the nursery to enable easy removal of the seedlings; transplant the seedlings onto well irrigated seed bed and place the roots carefully to avoid injury. The best time to transplant is late in the evening when it’s cool\n\nYour response must follow this format exactly:\n\nCorrect answer: [OPTION(S)]\n\nRationale: [Not longer than 10 sentences]",
         "Correct answer: A\n\nRationale: Option A outlines the comprehensive best practices for transplanting seedlings. Preparing the seedbed to a fine tilth and transplanting seedlings at the appropriate stage are fundamental principles that ensure healthy plant growth. Hardening the seedlings by removing excess shade and reducing watering prepares them for the environmental changes they will face when transplanted. Ensuring the nursery is well-irrigated on the day of transplanting simplifies seedling removal and minimizes root damage. Transplanting onto a well-irrigated seed bed helps establish seedlings in their new environment. Lastly, transplanting in the late evening when temperatures are cooler reduces water loss and transplant shock, leading to better seedling survival. These practices collectively ensure successful transplantation and establishment of seedlings.",
         "A"
        ]
       ],
       "shape": {
        "columns": 4,
        "rows": 18
       }
      },
      "text/html": [
       "<div>\n",
       "<style scoped>\n",
       "    .dataframe tbody tr th:only-of-type {\n",
       "        vertical-align: middle;\n",
       "    }\n",
       "\n",
       "    .dataframe tbody tr th {\n",
       "        vertical-align: top;\n",
       "    }\n",
       "\n",
       "    .dataframe thead th {\n",
       "        text-align: right;\n",
       "    }\n",
       "</style>\n",
       "<table border=\"1\" class=\"dataframe\">\n",
       "  <thead>\n",
       "    <tr style=\"text-align: right;\">\n",
       "      <th></th>\n",
       "      <th>question_id</th>\n",
       "      <th>prompt</th>\n",
       "      <th>answer</th>\n",
       "      <th>correct_answer</th>\n",
       "    </tr>\n",
       "  </thead>\n",
       "  <tbody>\n",
       "    <tr>\n",
       "      <th>0</th>\n",
       "      <td>1</td>\n",
       "      <td>You provide smallholder farmers in Kenya with ...</td>\n",
       "      <td>Correct answer: A, C\\n\\nRationale: Option A ou...</td>\n",
       "      <td>A</td>\n",
       "    </tr>\n",
       "    <tr>\n",
       "      <th>1</th>\n",
       "      <td>2</td>\n",
       "      <td>You provide smallholder farmers in Kenya with ...</td>\n",
       "      <td>Correct answer: A, B, D\\n\\nRationale: Integrat...</td>\n",
       "      <td>A</td>\n",
       "    </tr>\n",
       "    <tr>\n",
       "      <th>2</th>\n",
       "      <td>3</td>\n",
       "      <td>You provide smallholder farmers in Kenya with ...</td>\n",
       "      <td>Correct answer: A, C\\n\\nRationale: Calibrating...</td>\n",
       "      <td>A</td>\n",
       "    </tr>\n",
       "    <tr>\n",
       "      <th>3</th>\n",
       "      <td>4</td>\n",
       "      <td>You provide smallholder farmers in Kenya with ...</td>\n",
       "      <td>Correct answer: A\\n\\nRationale: Option A provi...</td>\n",
       "      <td>A</td>\n",
       "    </tr>\n",
       "    <tr>\n",
       "      <th>4</th>\n",
       "      <td>5</td>\n",
       "      <td>You provide smallholder farmers in Kenya with ...</td>\n",
       "      <td>Correct answer: C\\n\\nRationale: The correct se...</td>\n",
       "      <td>C</td>\n",
       "    </tr>\n",
       "    <tr>\n",
       "      <th>5</th>\n",
       "      <td>6</td>\n",
       "      <td>You provide smallholder farmers in Kenya with ...</td>\n",
       "      <td>Correct answer: C\\n\\nRationale: Effective anim...</td>\n",
       "      <td>C</td>\n",
       "    </tr>\n",
       "    <tr>\n",
       "      <th>6</th>\n",
       "      <td>7</td>\n",
       "      <td>You provide smallholder farmers in Kenya with ...</td>\n",
       "      <td>Correct answer: A, B, D\\n\\nRationale: Determin...</td>\n",
       "      <td>D</td>\n",
       "    </tr>\n",
       "    <tr>\n",
       "      <th>7</th>\n",
       "      <td>8</td>\n",
       "      <td>You provide smallholder farmers in Kenya with ...</td>\n",
       "      <td>Correct answer: B, D\\n\\nRationale: Options B a...</td>\n",
       "      <td>D</td>\n",
       "    </tr>\n",
       "    <tr>\n",
       "      <th>8</th>\n",
       "      <td>9</td>\n",
       "      <td>You provide smallholder farmers in Kenya with ...</td>\n",
       "      <td>Correct answer: C\\n\\nRationale: Option C provi...</td>\n",
       "      <td>C</td>\n",
       "    </tr>\n",
       "    <tr>\n",
       "      <th>9</th>\n",
       "      <td>10</td>\n",
       "      <td>You provide smallholder farmers in Kenya with ...</td>\n",
       "      <td>Correct answer: B\\n\\nRationale: The best weed ...</td>\n",
       "      <td>B</td>\n",
       "    </tr>\n",
       "    <tr>\n",
       "      <th>10</th>\n",
       "      <td>11</td>\n",
       "      <td>You provide smallholder farmers in Kenya with ...</td>\n",
       "      <td>Correct answer: B\\n\\nRationale: The lowlands o...</td>\n",
       "      <td>B</td>\n",
       "    </tr>\n",
       "    <tr>\n",
       "      <th>11</th>\n",
       "      <td>12</td>\n",
       "      <td>You provide smallholder farmers in Kenya with ...</td>\n",
       "      <td>Correct answer: A\\n\\nRationale: The optimal ti...</td>\n",
       "      <td>A</td>\n",
       "    </tr>\n",
       "    <tr>\n",
       "      <th>12</th>\n",
       "      <td>13</td>\n",
       "      <td>You provide smallholder farmers in Kenya with ...</td>\n",
       "      <td>Correct answer: B. Fowl cholera, coccidiosis, ...</td>\n",
       "      <td>D</td>\n",
       "    </tr>\n",
       "    <tr>\n",
       "      <th>13</th>\n",
       "      <td>14</td>\n",
       "      <td>You provide smallholder farmers in Kenya with ...</td>\n",
       "      <td>Correct answer: B\\n\\nRationale: Intercropping ...</td>\n",
       "      <td>B</td>\n",
       "    </tr>\n",
       "    <tr>\n",
       "      <th>14</th>\n",
       "      <td>15</td>\n",
       "      <td>You provide smallholder farmers in Kenya with ...</td>\n",
       "      <td>Correct answer: B\\n\\nRationale: Option B provi...</td>\n",
       "      <td>B</td>\n",
       "    </tr>\n",
       "    <tr>\n",
       "      <th>15</th>\n",
       "      <td>16</td>\n",
       "      <td>You provide smallholder farmers in Kenya with ...</td>\n",
       "      <td>Correct answer: B\\n\\nRationale: Creating a far...</td>\n",
       "      <td>B</td>\n",
       "    </tr>\n",
       "    <tr>\n",
       "      <th>16</th>\n",
       "      <td>17</td>\n",
       "      <td>You provide smallholder farmers in Kenya with ...</td>\n",
       "      <td>Correct answer: B\\n\\nRationale: Option B outli...</td>\n",
       "      <td>B</td>\n",
       "    </tr>\n",
       "    <tr>\n",
       "      <th>17</th>\n",
       "      <td>18</td>\n",
       "      <td>You provide smallholder farmers in Kenya with ...</td>\n",
       "      <td>Correct answer: A\\n\\nRationale: Option A outli...</td>\n",
       "      <td>A</td>\n",
       "    </tr>\n",
       "  </tbody>\n",
       "</table>\n",
       "</div>"
      ],
      "text/plain": [
       "    question_id                                             prompt  \\\n",
       "0             1  You provide smallholder farmers in Kenya with ...   \n",
       "1             2  You provide smallholder farmers in Kenya with ...   \n",
       "2             3  You provide smallholder farmers in Kenya with ...   \n",
       "3             4  You provide smallholder farmers in Kenya with ...   \n",
       "4             5  You provide smallholder farmers in Kenya with ...   \n",
       "5             6  You provide smallholder farmers in Kenya with ...   \n",
       "6             7  You provide smallholder farmers in Kenya with ...   \n",
       "7             8  You provide smallholder farmers in Kenya with ...   \n",
       "8             9  You provide smallholder farmers in Kenya with ...   \n",
       "9            10  You provide smallholder farmers in Kenya with ...   \n",
       "10           11  You provide smallholder farmers in Kenya with ...   \n",
       "11           12  You provide smallholder farmers in Kenya with ...   \n",
       "12           13  You provide smallholder farmers in Kenya with ...   \n",
       "13           14  You provide smallholder farmers in Kenya with ...   \n",
       "14           15  You provide smallholder farmers in Kenya with ...   \n",
       "15           16  You provide smallholder farmers in Kenya with ...   \n",
       "16           17  You provide smallholder farmers in Kenya with ...   \n",
       "17           18  You provide smallholder farmers in Kenya with ...   \n",
       "\n",
       "                                               answer correct_answer  \n",
       "0   Correct answer: A, C\\n\\nRationale: Option A ou...              A  \n",
       "1   Correct answer: A, B, D\\n\\nRationale: Integrat...              A  \n",
       "2   Correct answer: A, C\\n\\nRationale: Calibrating...              A  \n",
       "3   Correct answer: A\\n\\nRationale: Option A provi...              A  \n",
       "4   Correct answer: C\\n\\nRationale: The correct se...              C  \n",
       "5   Correct answer: C\\n\\nRationale: Effective anim...              C  \n",
       "6   Correct answer: A, B, D\\n\\nRationale: Determin...              D  \n",
       "7   Correct answer: B, D\\n\\nRationale: Options B a...              D  \n",
       "8   Correct answer: C\\n\\nRationale: Option C provi...              C  \n",
       "9   Correct answer: B\\n\\nRationale: The best weed ...              B  \n",
       "10  Correct answer: B\\n\\nRationale: The lowlands o...              B  \n",
       "11  Correct answer: A\\n\\nRationale: The optimal ti...              A  \n",
       "12  Correct answer: B. Fowl cholera, coccidiosis, ...              D  \n",
       "13  Correct answer: B\\n\\nRationale: Intercropping ...              B  \n",
       "14  Correct answer: B\\n\\nRationale: Option B provi...              B  \n",
       "15  Correct answer: B\\n\\nRationale: Creating a far...              B  \n",
       "16  Correct answer: B\\n\\nRationale: Option B outli...              B  \n",
       "17  Correct answer: A\\n\\nRationale: Option A outli...              A  "
      ]
     },
     "execution_count": 11,
     "metadata": {},
     "output_type": "execute_result"
    }
   ],
   "source": [
    "gpt_4o_df"
   ]
  },
  {
   "cell_type": "code",
   "execution_count": 12,
   "metadata": {},
   "outputs": [
    {
     "name": "stdout",
     "output_type": "stream",
     "text": [
      "Saving results to results/20_harder_MCQs-openai-o1-2024-12-17.csv\n"
     ]
    }
   ],
   "source": [
    "o1_df = get_llm_answers(mcq_df, \"openai/o1-2024-12-17\", country, max_completion_tokens=25000, reasoning_effort=\"medium\")"
   ]
  },
  {
   "cell_type": "code",
   "execution_count": 13,
   "metadata": {},
   "outputs": [
    {
     "data": {
      "application/vnd.microsoft.datawrangler.viewer.v0+json": {
       "columns": [
        {
         "name": "index",
         "rawType": "int64",
         "type": "integer"
        },
        {
         "name": "question_id",
         "rawType": "int64",
         "type": "integer"
        },
        {
         "name": "prompt",
         "rawType": "object",
         "type": "string"
        },
        {
         "name": "answer",
         "rawType": "object",
         "type": "string"
        },
        {
         "name": "correct_answer",
         "rawType": "object",
         "type": "string"
        }
       ],
       "ref": "a273ca01-b992-4064-8513-c82f49dbf786",
       "rows": [
        [
         "0",
         "1",
         "You provide smallholder farmers in Kenya with agricultural advice and information. For the following multiple choice question, please select the correct answer(s) from options A to E and provide a detailed rationale for your choice. There can be multiple correct answers.\n\nQuestion: How do I, in the shortest duration and cost effectively correct for nutrient deficiency in my farm?\n\nAnswer options:\nA. Test soil for nutrient deficiency or perform visual observations of the crop to diagnose the deficiency; get the right source of fertilizer to replenish the deficiency; apply the right rate of the fertilizer that would sufficiently correct the deficiency; apply the fertilizer at the right stage of the crop to maximize uptake and use…remember to apply when soil is moist; place the fertilizer close to the plant root zone but not too close to avoid scotching\nB. Test soil for nutrient deficiency or perform visual observations of the crop to diagnose the deficiency; apply well rotten manure; apply the right rate of the manure that would sufficiently correct the deficiency; apply the manure at the right stage of the crop to maximize uptake and use…remember to apply when soil is moist; place the manure close to the plant root zone but not too close to avoid scotching\nC. Apply fertilizer at the right rate, and the right stage of the crop; place the fertilizer close to the root system\n\nYour response must follow this format exactly:\n\nCorrect answer: [OPTION(S)]\n\nRationale: [Not longer than 10 sentences]",
         "Correct answer: A\n\nRationale: Option A includes all the essential steps of quickly and cost-effectively correcting a nutrient deficiency: diagnosing the nutrient problem, choosing the right fertilizer source and rate, timing the application to match the crop’s growth stage, and placing the fertilizer correctly to maximize uptake. This method addresses the deficiency in the shortest time because inorganic fertilizers typically release nutrients more rapidly than organic sources such as manure.",
         "A"
        ],
        [
         "1",
         "2",
         "You provide smallholder farmers in Kenya with agricultural advice and information. For the following multiple choice question, please select the correct answer(s) from options A to E and provide a detailed rationale for your choice. There can be multiple correct answers.\n\nQuestion: How do I implement integrated pest management (IPM) on a farm?\n\nAnswer options:\nA. Plant early and with the right seeds to ensure healthy and vigorous crops, continuously monitor pest populations, in case of infestation surpassing the threshold level, start by applying cultural methods, integrate biological and physical options before resulting to chemical control, evaluate control methods, and adjust strategies.\nB. Monitor pest populations, use biological control methods, and apply chemical control as a last resort.\nC. Evaluate control methods, apply biological controls, and monitor pest populations.\nD. Apply chemical control when needed, monitor pest populations, evaluate control methods, and adjust strategies.\n\nYour response must follow this format exactly:\n\nCorrect answer: [OPTION(S)]\n\nRationale: [Not longer than 10 sentences]",
         "Correct answer: A, B\n\nRationale: Option A comprehensively covers preventive measures, monitoring to identify pest thresholds, and prioritizing cultural, biological, and physical methods before chemical use. Option B also aligns with IPM by emphasizing monitoring, biological control, and using chemical control only when necessary. Both emphasize observation and minimal chemical reliance, which are central IPM principles. Option C and D are incomplete because they omit key prevention and threshold strategies or do not adequately prioritize non-chemical controls.",
         "A"
        ],
        [
         "2",
         "3",
         "You provide smallholder farmers in Kenya with agricultural advice and information. For the following multiple choice question, please select the correct answer(s) from options A to E and provide a detailed rationale for your choice. There can be multiple correct answers.\n\nQuestion: How do I calibrate a knapsack sprayer to ensure accurate pesticide application?\n\nAnswer options:\nA. Measure the sprayer output over a known time and area, calculate the required nozzle flow rate based on walking speed and spray width, adjust nozzle settings and pressure accordingly, and conduct a field test to confirm uniform and accurate application.\nB. Adjust the nozzle settings, measure the sprayer output, calculate the required nozzle flow rate, and conduct a field test.\nC. Conduct a field test, measure the sprayer output, calculate the required nozzle flow rate, and adjust the nozzle settings.\nD. Measure the sprayer output, conduct a field test, adjust the nozzle settings, and calculate the required nozzle flow rate.\n\nYour response must follow this format exactly:\n\nCorrect answer: [OPTION(S)]\n\nRationale: [Not longer than 10 sentences]",
         "Correct answer: A\n\nRationale: Measuring the sprayer output first provides a baseline for how much liquid the sprayer delivers. Then, calculating the required nozzle flow rate based on walking speed and spray width ensures correct doses of pesticide per unit area. Adjusting nozzle settings and pressure is crucial to match that calculated rate. Finally, a field test confirms whether the sprayer is delivering a uniform and correct volume across the treatment area.",
         "A"
        ],
        [
         "3",
         "4",
         "You provide smallholder farmers in Kenya with agricultural advice and information. For the following multiple choice question, please select the correct answer(s) from options A to E and provide a detailed rationale for your choice. There can be multiple correct answers.\n\nQuestion: What is the right procedure to harvest onions?\n\nAnswer options:\nA. Harvest during the dry season, at about 90-150 after planting depending on the variety. The crop must be mature by observing that the tops have started to yellow or droop, and the bulbs will have formed shing membranous cover around them. To harvest, loosen the soil around the plants to allow for easier removal. Pull the bulbs by hand or dig them up with garden fork. Once the bulbs are out of the ground, cut the tops back to about one inch. Clean the bulbs and let them dry in the sun to cure (dry out) before storing. If long storage is intended, cure the bulbs in a well-ventilated store by spreading on racks until the necks and outer scale leaves of the bulbs are thoroughly dried.\nB. Harvest during the wet season, at about 90-150 after planting depending on the variety. The crop must be mature by observing that the tops have started to yellow or droop, and the bulbs will have formed shing membranous cover around them. To harvest, loosen the soil around the plants to allow for easier removal. Pull the bulbs by hand or dig them up with garden fork. Once the bulbs are out of the ground, cut the tops back to about one inch. Clean the bulbs and let them dry in the sun to cure (dry out) before storing. If long storage is intended, cure the bulbs in a well-ventilated store by spreading on racks until the necks and outer scale leaves of the bulbs are thoroughly dried.\nC. Harvest at about 90-150 after planting depending on the variety. The crop must be mature by observing that the tops have started to yellow or droop, and the bulbs will have formed shing membranous cover around them. To harvest, loosen the soil around the plants to allow for easier removal. Pull the bulbs by hand or dig them up with garden fork. Clean the bulbs and let them dry in the sun to cure (dry out) before storing. If long storage is intended, cure the bulbs in a well-ventilated store by spreading on racks until the necks and outer scale leaves of the bulbs are thoroughly dried.\nD. Harvest during the dry season, at about 90-150 after planting depending on the variety. To harvest, loosen the soil around the plants to allow for easier removal. Pull the bulbs by hand or dig them up with garden fork. Once the bulbs are out of the ground, cut the tops back to about one inch. Clean the bulbs and let them dry in the sun to cure (dry out) before storing. If long storage is intended, cure the bulbs in a well-ventilated store by spreading on racks until the necks and outer scale leaves of the bulbs are thoroughly dried.\n\nYour response must follow this format exactly:\n\nCorrect answer: [OPTION(S)]\n\nRationale: [Not longer than 10 sentences]",
         "Correct answer: [A, C]\n\nRationale: Harvesting onions requires checking for maturity (tops drooping or yellowing and bulbs developing a proper cover) and ensuring proper curing conditions. Option A correctly specifies harvesting in the dry season and includes signs of maturity, loosening the soil, trimming tops, and curing to maintain quality. Option B is incorrect because it suggests harvesting in the wet season, which can lead to bulb rot and poor curing. Option C accurately describes maturity indicators and proper post-harvest handling but does not specify the dry season, which is still acceptable if proper curing is done. Option D omits checking for maturity before harvesting and thus is incomplete.",
         "A"
        ],
        [
         "4",
         "5",
         "You provide smallholder farmers in Kenya with agricultural advice and information. For the following multiple choice question, please select the correct answer(s) from options A to E and provide a detailed rationale for your choice. There can be multiple correct answers.\n\nQuestion: How should I wear PPE?\n\nAnswer options:\nA. Put on overall/coveralls first, then gloves, mask, and finish with the face shield\nB. Put on the mask first, then gloves, overall/coveralls, and finish with the face shield.\nC. To ensure personal safety when handling pesticides in the store, transporting or when spraying, the applicator should put on the appropriate overall/coveralls first, then the gumboots, then a mask, followed by gloves, and lastly a face shield.\nD. Put on gloves, then a face shield, followed by overall/coveralls, and finally a mask.\n\nYour response must follow this format exactly:\n\nCorrect answer: [OPTION(S)]\n\nRationale: [Not longer than 10 sentences]",
         "Correct answer: C\n\nRationale: When donning PPE for pesticide handling, you should first put on your overall/coveralls, ensuring full body protection. Next, wear enclosed footwear (gumboots). Then apply your respiratory protection (mask) so that it fits firmly before covering it with gloves. Finally, place the face shield on last for eye and face protection. This sequence minimizes contamination risk and ensures that each protective layer functions effectively.",
         "C"
        ],
        [
         "5",
         "6",
         "You provide smallholder farmers in Kenya with agricultural advice and information. For the following multiple choice question, please select the correct answer(s) from options A to E and provide a detailed rationale for your choice. There can be multiple correct answers.\n\nQuestion: How do I use animal waste management on a mixed crop-livestock farm?\n\nAnswer options:\nA. Collect animal waste and dump it directly onto crop fields.\nB. Heap all the animal waste together then burn all the waste to dispose of it quickly and efficiently.\nC. Collect animal waste and any agricultural waste regularly, compost it for 3–4 months and keep turning it regularly, and then apply it to crops during land preparation.\nD. Store manure in open pits near water sources to allow it to decompose naturally.\n\nYour response must follow this format exactly:\n\nCorrect answer: [OPTION(S)]\n\nRationale: [Not longer than 10 sentences]",
         "Correct answer: C\n\nRationale: Composting animal and agricultural waste is the most effective way to manage waste on a mixed crop-livestock farm. This process helps break down harmful pathogens, reduces odors, and preserves essential nutrients for soil fertility. Turning the compost pile regularly ensures sufficient aeration and promotes quicker decomposition. After 3–4 months, the resulting manure is an excellent organic fertilizer that can be safely applied during land preparation.",
         "C"
        ],
        [
         "6",
         "7",
         "You provide smallholder farmers in Kenya with agricultural advice and information. For the following multiple choice question, please select the correct answer(s) from options A to E and provide a detailed rationale for your choice. There can be multiple correct answers.\n\nQuestion: How do I determine the seed rate required for planting on a farm?\n\nAnswer options:\nA. Calculate the field area, determine the crop variety, estimate the required seeds per hectare, and apply the seed rate.\nB. Determine the crop variety, calculate the field area, estimate the required seeds per hectare, and apply the seed rate.\nC. Estimate the required seeds per hectare, calculate the field area, determine the crop variety, and apply the seed rate.\nD. Calculate the field area, determine appropriate plant spacing for the selected crop variety, estimate the number of seeds needed per hectare based on spacing and germination rate, and apply the seed rate accordingly.\n\nYour response must follow this format exactly:\n\nCorrect answer: [OPTION(S)]\n\nRationale: [Not longer than 10 sentences]",
         "Correct answer: [D]\n\nRationale: Determining the farm’s area and knowing the appropriate plant spacing for the specific crop variety are crucial first steps in calculating seed rate. Plant spacing helps estimate the number of seeds needed per hectare. Accounting for the germination rate ensures that the final stand of plants meets the intended population. Therefore, option D is the most comprehensive method to accurately determine the seed rate required.",
         "D"
        ],
        [
         "7",
         "8",
         "You provide smallholder farmers in Kenya with agricultural advice and information. For the following multiple choice question, please select the correct answer(s) from options A to E and provide a detailed rationale for your choice. There can be multiple correct answers.\n\nQuestion: Last year I experienced significant losses in my stored maize grain. How do I handle my grain to minimize these losses?\n\nAnswer options:\nA. Harvest the crop when the leaves are dry. Thresh the grain either manually or mechanically but avoid seed breakage. Mix the grain with an insecticide (grain dust) at the recommended rate. Put the treated grain in gunny bags ready storage. Alternatively, you can put dry grain in hermetic without treating with insecticide. Clean the store, and dust it with insecticides before storing the bags. Ensure the store is well ventilated, and free from rodents, and stack the bags on pallets and in a way that ventilation is maximized.\nB. Harvest during the dry season, and importantly when maize is physiologically mature. Dry the harvested cobs under the until the moisture content is reduced to about 13%. You can estimate that the grain is dry by doing simple tests like salt test or biting test. Thresh the grain either manually or mechanically but avoid seed breakage. Mix the grain with an insecticide (grain dust) at the recommended rate. Put the treated grain in gunny bags ready storage. Alternatively, you can put dry grain in hermetic without treating with insecticide. Clean the store, and dust it with insecticides before storing the bags.\nC. Harvest during the dry season, and importantly when maize is physiologically mature. Thresh the grain either manually or mechanically but avoid seed breakage. Mix the grain with an insecticide (grain dust) at the recommended rate. Put the treated grain in gunny bags ready storage. Alternatively, you can put dry grain in hermetic without treating with insecticide. Clean the store, and dust it with insecticides before storing the bags. Ensure the store is well ventilated, and free from rodents, and stack the bags on pallets and in a way that ventilation is maximized.\nD. Harvest during the dry season, and importantly when maize is physiologically mature. Dry the harvested cobs under the until the moisture content is reduced to about 13%. You can estimate that the grain is dry by doing simple tests like salt test or biting test. Thresh the grain either manually or mechanically but avoid seed breakage. Mix the grain with an insecticide (grain dust) at the recommended rate. Put the treated grain in gunny bags ready storage. Alternatively, you can put dry grain in hermetic without treating with insecticide. Clean the store, and dust it with insecticides before storing the bags. Ensure the store is well ventilated, and free from rodents, and stack the bags on pallets and in a way that ventilation is maximized.\n\nYour response must follow this format exactly:\n\nCorrect answer: [OPTION(S)]\n\nRationale: [Not longer than 10 sentences]",
         "Correct answer: D\n\nRationale: Harvesting at physiological maturity and drying grains to the recommended moisture content (around 13%) helps prevent mold growth and insect infestation. Simple tests like the salt or biting test can help verify dryness. Threshing carefully avoids grain breakage, reducing avenues for pest entry. Treating grains with insecticide dust at recommended rates, or alternatively using hermetic bags without insecticides, lowers chances of weevil or borer damage. Cleaning and dusting the store with insecticides before storage removes leftover pests. Good ventilation in a well-maintained store reduces moisture buildup. Keeping rodents out prevents contamination and further losses. Finally, stacking on pallets and leaving space between rows promotes air circulation and early pest detection.",
         "D"
        ],
        [
         "8",
         "9",
         "You provide smallholder farmers in Kenya with agricultural advice and information. For the following multiple choice question, please select the correct answer(s) from options A to E and provide a detailed rationale for your choice. There can be multiple correct answers.\n\nQuestion: How do I make organic fertilizer from animal manure?\n\nAnswer options:\nA. Collect manure, compost it, apply the compost to the soil, and monitor soil quality.\nB. Collect manure, store it for several weeks, compost it, and apply it to the soil.\nC. Collect fresh animal manure, mix it with carbon-rich organic materials (like crop residues or dry leaves) to balance the carbon-to-nitrogen ratio, maintain adequate moisture and aeration during composting by turning the pile regularly, and apply the mature compost to the soil.\n\nYour response must follow this format exactly:\n\nCorrect answer: [OPTION(S)]\n\nRationale: [Not longer than 10 sentences]",
         "Correct answer: C\n\nRationale: Option C provides a detailed and correct process for making organic fertilizer by mixing manure with carbon-rich materials, maintaining proper moisture, and turning the compost to ensure sufficient aeration. This helps achieve the right carbon-to-nitrogen balance, speeds up decomposition, and produces high-quality compost. Options A and B omit key steps, such as mixing with carbon-rich materials or turning the pile regularly to allow proper aeration.",
         "C"
        ],
        [
         "9",
         "10",
         "You provide smallholder farmers in Kenya with agricultural advice and information. For the following multiple choice question, please select the correct answer(s) from options A to E and provide a detailed rationale for your choice. There can be multiple correct answers.\n\nQuestion: What is the best weed control strategy on a farm?\n\nAnswer options:\nA. Use mechanical control methods, apply herbicides, monitor weed growth, and evaluate alternatives.\nB. First identify the weed species in your farm, use mechanical control methods e.g uprooting or manual weeding, monitor weed growth rate, and evaluate alternatives whether it requires use of herbicides to manage its growth and competition.\nC. Identify weed species, apply chemical herbicides, monitor the effectiveness, and evaluate alternatives.\nD. Apply herbicides, use mechanical control, monitor effectiveness, and evaluate alternatives.\n\nYour response must follow this format exactly:\n\nCorrect answer: [OPTION(S)]\n\nRationale: [Not longer than 10 sentences]",
         "Correct answer: [B]\n\nRationale: Identification of weed species is a critical first step to choose the right control method. Mechanical control limits herbicide use, reducing costs and possible environmental impacts. Monitoring weed growth provides insight into how effective these strategies are. Evaluating alternatives ensures that herbicides are only used if weeds persist beyond mechanical methods. This integrated approach typically results in more sustainable weed control.",
         "B"
        ],
        [
         "10",
         "11",
         "You provide smallholder farmers in Kenya with agricultural advice and information. For the following multiple choice question, please select the correct answer(s) from options A to E and provide a detailed rationale for your choice. There can be multiple correct answers.\n\nQuestion: Which maize varieties are suitable lowlands of Kenya\n\nAnswer options:\nA. DH01, DH02, DH05, Duma 43, H6213, H519\nB. DH01, DH02, DH05, Duma 43, Sungura 301\nC. H627, H6213, DH01, DH02, DH05, Duma 43, H6213, H519\nD. H512, H511, D01, DH02, DH05, Duma 43, H6213, H519\n\nYour response must follow this format exactly:\n\nCorrect answer: [OPTION(S)]\n\nRationale: [Not longer than 10 sentences]",
         "Correct answer: [B]\n\nRationale: DH01, DH02, DH05, Duma 43, and Sungura 301 are dryland hybrids and open-pollinated varieties bred specifically for low-rainfall, low-altitude regions. H6213, H519, H627, H512, and H511 are generally recommended for mid- to high-altitude zones, so they are not the best choices for the lowlands of Kenya.",
         "B"
        ],
        [
         "11",
         "12",
         "You provide smallholder farmers in Kenya with agricultural advice and information. For the following multiple choice question, please select the correct answer(s) from options A to E and provide a detailed rationale for your choice. There can be multiple correct answers.\n\nQuestion: Which is the most optimal time to apply pesticides?\n\nAnswer options:\nA. Spray either early in the morning or late in the evening when it’s cool, and the pests are active\nB. Spray when its sunny, hot, windy, and insects are visible on the crop\nC. Spray the pesticide directly towards the wind\nD. Spray immediately before or after heavy rainfall\n\nYour response must follow this format exactly:\n\nCorrect answer: [OPTION(S)]\n\nRationale: [Not longer than 10 sentences]",
         "Correct answer: [A]\n\nRationale: Spraying pesticides when temperatures are cooler minimizes evaporation and drift, allowing better contact with pests. Early morning or late evening also coincides with increased pest activity, improving the likelihood of effective control. Spraying during sunny, hot, windy conditions can lead to rapid evaporation and drift away from the target. Spraying into the wind can cause exposure risks for the applicator and non-target contamination. Heavy rainfall can wash pesticides off the crops, reducing their effectiveness.",
         "A"
        ],
        [
         "12",
         "13",
         "You provide smallholder farmers in Kenya with agricultural advice and information. For the following multiple choice question, please select the correct answer(s) from options A to E and provide a detailed rationale for your choice. There can be multiple correct answers.\n\nQuestion: Which diseases should I look out for during cold weather in poultry?\n\nAnswer options:\nA. Newcastle disease, fowl cholera, coccidiosis\nB. Fowl cholera, coccidiosis, aspergillosis and respiratory distress\nC. Aspergillosis, fowlpox, infectious coryza, pneumonia\nD. Pneumonia, coccidiosis, and respiratory distress\n\nYour response must follow this format exactly:\n\nCorrect answer: [OPTION(S)]\n\nRationale: [Not longer than 10 sentences]",
         "Correct answer: [B, D]\n\nRationale: Fowl cholera is more common in cold, damp environments, and coccidiosis proliferates in wet litter conditions often seen when temperatures drop. Aspergillosis also thrives in moist conditions worsened by poor ventilation. Respiratory distress is a broad term that can include pneumonia and other breathing issues heightened by cold stress. Poultry stressed by chill are more susceptible to bacterial, fungal, and parasitic infections.",
         "D"
        ],
        [
         "13",
         "14",
         "You provide smallholder farmers in Kenya with agricultural advice and information. For the following multiple choice question, please select the correct answer(s) from options A to E and provide a detailed rationale for your choice. There can be multiple correct answers.\n\nQuestion: Which are the best practices when intercropping crops?\n\nAnswer options:\nA. Intercrop maize with millet and sorghum\nB. Intercrop legumes such beans, cowpea, mung beans or pigeonpea with cereal crops like maize, sorghum or millets. However, pay attention to spacing to minimize competition\nC. Intercrop tall crop with similarly tall crops irrespective of the species\nD. Intercrop legumes such beans, cowpea, mung beans or pigeon pea with cereal crops like maize, sorghum or millets at close spacing to increase yield per unit\n\nYour response must follow this format exactly:\n\nCorrect answer: [OPTION(S)]\n\nRationale: [Not longer than 10 sentences]",
         "Correct answer: [B]\n\nRationale: Legumes fix nitrogen, improving soil fertility and benefiting cereal crops such as maize, sorghum, or millets. The combination of legumes with cereals provides better utilization of space above and below the ground when proper spacing guides are followed. Intercropping tall cereals with other tall cereals can increase competition for sunlight and nutrients. Close spacing between legumes and cereals may lead to resource competition and reduced yield.",
         "B"
        ],
        [
         "14",
         "15",
         "You provide smallholder farmers in Kenya with agricultural advice and information. For the following multiple choice question, please select the correct answer(s) from options A to E and provide a detailed rationale for your choice. There can be multiple correct answers.\n\nQuestion: How do I compost crop residues to enhance soil fertility?\n\nAnswer options:\nA. Add organic matter to the compost pile, chop or shred crop residues, and turn regularly.\nB. Collect crop residues, chop/shred them to increase surface area, add a layer of organic matter such as animal manure or green materials in the compost pile, maintain proper moisture and aeration, and turn the compost regularly to support decomposition and aeration.\nC. Collect crop residues, turn them regularly, chop or shred them, and add organic matter to the compost\nD. Collect crop residues, add organic matter to the compost pile, chop or shred them, and turn regularly.\n\nYour response must follow this format exactly:\n\nCorrect answer: [OPTION(S)]\n\nRationale: [Not longer than 10 sentences]",
         "Correct answer: B\n\nRationale: Option B includes all the key steps for effective composting: collecting and chopping/shredding residues to increase surface area, layering with manure or green matter to balance nutrients, and maintaining proper moisture and aeration through regular turning. These practices ensure optimal decomposition, resulting in nutrient-rich compost. Options A, C, and D either omit the moisture management aspect or lack sufficient detail on layering.",
         "B"
        ],
        [
         "15",
         "16",
         "You provide smallholder farmers in Kenya with agricultural advice and information. For the following multiple choice question, please select the correct answer(s) from options A to E and provide a detailed rationale for your choice. There can be multiple correct answers.\n\nQuestion: How do I create a simple farm budget for one season of maize farming?\n\nAnswer options:\nA. List only income from maize sales and ignore costs related to inputs, labor, and maintenance.\nB. Come up with a list of all activities to be undertaken, estimate the cost of production including inputs, labor. Estimate the expected yields and price per bag, subtract costs for inputs, labor, and land preparation, then determine the profit or loss.\nC. Record all expenses first and use any leftover funds for farm activities, regardless of income.\nD. Only calculate costs for seeds and fertilizer, as they are the only important expenses for maize farming.\n\nYour response must follow this format exactly:\n\nCorrect answer: [OPTION(S)]\n\nRationale: [Not longer than 10 sentences]",
         "Correct answer: B\n\nRationale: This option outlines the essential process for planning a simple farm budget. It includes listing all activities, estimating production costs, projecting yields, and determining selling price. By subtracting total costs (inputs, labor, and land preparation) from estimated income, one can find out whether there is a profit or loss. This approach ensures you have a clear overview of expenses and income.",
         "B"
        ],
        [
         "16",
         "17",
         "You provide smallholder farmers in Kenya with agricultural advice and information. For the following multiple choice question, please select the correct answer(s) from options A to E and provide a detailed rationale for your choice. There can be multiple correct answers.\n\nQuestion: How do I apply pesticide to ensure safety and effectiveness\n\nAnswer options:\nA. Mix the pesticide according to instructions, wear PPE, apply it on windy days, and clean equipment thoroughly.\nB. Wear appropriate PPE, mix the pesticide strictly according to label instructions, calibrate the spray equipment, apply during calm weather to prevent drift, avoid applying pesticides on peak heat periods, clean all equipment thoroughly after use, properly dispose the pesticide container.\nC. Wear PPE, apply pesticide on windy days, mix according to instructions, and clean equipment.\n\nYour response must follow this format exactly:\n\nCorrect answer: [OPTION(S)]\n\nRationale: [Not longer than 10 sentences]",
         "Correct answer: B\n\nRationale: Option B includes all the recommended safety measures such as wearing appropriate PPE, mixing pesticide according to label instructions, and applying it during calm weather to prevent drift. Calibrating the spray equipment helps ensure the correct dosage, while avoiding peak heat periods helps protect both the applicator and the effectiveness of the chemical. Thorough cleaning of equipment and safe disposal of empty containers also minimize environmental contamination and health risks.",
         "B"
        ],
        [
         "17",
         "18",
         "You provide smallholder farmers in Kenya with agricultural advice and information. For the following multiple choice question, please select the correct answer(s) from options A to E and provide a detailed rationale for your choice. There can be multiple correct answers.\n\nQuestion: Which is the best practice in transplanting seedlings?\n\nAnswer options:\nA. Prepare the seedbed in advance to fine tilth; Seedling ought to be transplanted at the right stage; harden the seedlings by removing excess shade and reduce watering; on the day of transplanting, thoroughly irrigate the nursery to enable easy removal of the seedlings; transplant the seedlings onto well irrigated seed bed and place the roots carefully to avoid injury. The best time to transplant is late in the evening when it’s cool\nB. Prepare the seedbed in advance to fine tilth; Seedling can be transplanted at any time of the day depending on one’s convenience. Seedling ought to be transplanted at the right stage; harden the seedlings by removing excess shade and reduce watering; on the day of transplanting, thoroughly irrigate the nursery to enable easy removal of the seedlings; transplant the seedlings onto well irrigated seed bed and place the roots carefully to avoid injury.\nC. Prepare the seedbed in advance to fine tilth; Seedling ought to be transplanted at the right stage; on the day of transplanting, thoroughly irrigate the nursery to enable easy removal of the seedlings; transplant the seedlings onto well irrigated seed bed and place the roots carefully to avoid injury. The best time to transplant is late in the evening when it’s cool\nD. Prepare the seedbed in advance to fine tilth; Seedling can be transplanted irrespective of their stage of development; harden the seedlings by removing excess shade and reduce watering; on the day of transplanting, thoroughly irrigate the nursery to enable easy removal of the seedlings; transplant the seedlings onto well irrigated seed bed and place the roots carefully to avoid injury. The best time to transplant is late in the evening when it’s cool\n\nYour response must follow this format exactly:\n\nCorrect answer: [OPTION(S)]\n\nRationale: [Not longer than 10 sentences]",
         "Correct answer: [A]\n\nRationale: Hardening seedlings before transplanting is a vital step to reduce stress and improve survival rates, so seedlings must be exposed gradually to less shade and slightly reduced watering. Preparing the bed to a fine tilth helps roots establish easily. Thoroughly watering the nursery before transplanting prevents damage when lifting seedlings. Transplanting onto a well irrigated seedbed further protects roots from shock. Late-evening transplanting is ideal because lower temperatures and reduced sun intensity minimize water loss and wilting. Option A explicitly includes all these key practices.",
         "A"
        ]
       ],
       "shape": {
        "columns": 4,
        "rows": 18
       }
      },
      "text/html": [
       "<div>\n",
       "<style scoped>\n",
       "    .dataframe tbody tr th:only-of-type {\n",
       "        vertical-align: middle;\n",
       "    }\n",
       "\n",
       "    .dataframe tbody tr th {\n",
       "        vertical-align: top;\n",
       "    }\n",
       "\n",
       "    .dataframe thead th {\n",
       "        text-align: right;\n",
       "    }\n",
       "</style>\n",
       "<table border=\"1\" class=\"dataframe\">\n",
       "  <thead>\n",
       "    <tr style=\"text-align: right;\">\n",
       "      <th></th>\n",
       "      <th>question_id</th>\n",
       "      <th>prompt</th>\n",
       "      <th>answer</th>\n",
       "      <th>correct_answer</th>\n",
       "    </tr>\n",
       "  </thead>\n",
       "  <tbody>\n",
       "    <tr>\n",
       "      <th>0</th>\n",
       "      <td>1</td>\n",
       "      <td>You provide smallholder farmers in Kenya with ...</td>\n",
       "      <td>Correct answer: A\\n\\nRationale: Option A inclu...</td>\n",
       "      <td>A</td>\n",
       "    </tr>\n",
       "    <tr>\n",
       "      <th>1</th>\n",
       "      <td>2</td>\n",
       "      <td>You provide smallholder farmers in Kenya with ...</td>\n",
       "      <td>Correct answer: A, B\\n\\nRationale: Option A co...</td>\n",
       "      <td>A</td>\n",
       "    </tr>\n",
       "    <tr>\n",
       "      <th>2</th>\n",
       "      <td>3</td>\n",
       "      <td>You provide smallholder farmers in Kenya with ...</td>\n",
       "      <td>Correct answer: A\\n\\nRationale: Measuring the ...</td>\n",
       "      <td>A</td>\n",
       "    </tr>\n",
       "    <tr>\n",
       "      <th>3</th>\n",
       "      <td>4</td>\n",
       "      <td>You provide smallholder farmers in Kenya with ...</td>\n",
       "      <td>Correct answer: [A, C]\\n\\nRationale: Harvestin...</td>\n",
       "      <td>A</td>\n",
       "    </tr>\n",
       "    <tr>\n",
       "      <th>4</th>\n",
       "      <td>5</td>\n",
       "      <td>You provide smallholder farmers in Kenya with ...</td>\n",
       "      <td>Correct answer: C\\n\\nRationale: When donning P...</td>\n",
       "      <td>C</td>\n",
       "    </tr>\n",
       "    <tr>\n",
       "      <th>5</th>\n",
       "      <td>6</td>\n",
       "      <td>You provide smallholder farmers in Kenya with ...</td>\n",
       "      <td>Correct answer: C\\n\\nRationale: Composting ani...</td>\n",
       "      <td>C</td>\n",
       "    </tr>\n",
       "    <tr>\n",
       "      <th>6</th>\n",
       "      <td>7</td>\n",
       "      <td>You provide smallholder farmers in Kenya with ...</td>\n",
       "      <td>Correct answer: [D]\\n\\nRationale: Determining ...</td>\n",
       "      <td>D</td>\n",
       "    </tr>\n",
       "    <tr>\n",
       "      <th>7</th>\n",
       "      <td>8</td>\n",
       "      <td>You provide smallholder farmers in Kenya with ...</td>\n",
       "      <td>Correct answer: D\\n\\nRationale: Harvesting at ...</td>\n",
       "      <td>D</td>\n",
       "    </tr>\n",
       "    <tr>\n",
       "      <th>8</th>\n",
       "      <td>9</td>\n",
       "      <td>You provide smallholder farmers in Kenya with ...</td>\n",
       "      <td>Correct answer: C\\n\\nRationale: Option C provi...</td>\n",
       "      <td>C</td>\n",
       "    </tr>\n",
       "    <tr>\n",
       "      <th>9</th>\n",
       "      <td>10</td>\n",
       "      <td>You provide smallholder farmers in Kenya with ...</td>\n",
       "      <td>Correct answer: [B]\\n\\nRationale: Identificati...</td>\n",
       "      <td>B</td>\n",
       "    </tr>\n",
       "    <tr>\n",
       "      <th>10</th>\n",
       "      <td>11</td>\n",
       "      <td>You provide smallholder farmers in Kenya with ...</td>\n",
       "      <td>Correct answer: [B]\\n\\nRationale: DH01, DH02, ...</td>\n",
       "      <td>B</td>\n",
       "    </tr>\n",
       "    <tr>\n",
       "      <th>11</th>\n",
       "      <td>12</td>\n",
       "      <td>You provide smallholder farmers in Kenya with ...</td>\n",
       "      <td>Correct answer: [A]\\n\\nRationale: Spraying pes...</td>\n",
       "      <td>A</td>\n",
       "    </tr>\n",
       "    <tr>\n",
       "      <th>12</th>\n",
       "      <td>13</td>\n",
       "      <td>You provide smallholder farmers in Kenya with ...</td>\n",
       "      <td>Correct answer: [B, D]\\n\\nRationale: Fowl chol...</td>\n",
       "      <td>D</td>\n",
       "    </tr>\n",
       "    <tr>\n",
       "      <th>13</th>\n",
       "      <td>14</td>\n",
       "      <td>You provide smallholder farmers in Kenya with ...</td>\n",
       "      <td>Correct answer: [B]\\n\\nRationale: Legumes fix ...</td>\n",
       "      <td>B</td>\n",
       "    </tr>\n",
       "    <tr>\n",
       "      <th>14</th>\n",
       "      <td>15</td>\n",
       "      <td>You provide smallholder farmers in Kenya with ...</td>\n",
       "      <td>Correct answer: B\\n\\nRationale: Option B inclu...</td>\n",
       "      <td>B</td>\n",
       "    </tr>\n",
       "    <tr>\n",
       "      <th>15</th>\n",
       "      <td>16</td>\n",
       "      <td>You provide smallholder farmers in Kenya with ...</td>\n",
       "      <td>Correct answer: B\\n\\nRationale: This option ou...</td>\n",
       "      <td>B</td>\n",
       "    </tr>\n",
       "    <tr>\n",
       "      <th>16</th>\n",
       "      <td>17</td>\n",
       "      <td>You provide smallholder farmers in Kenya with ...</td>\n",
       "      <td>Correct answer: B\\n\\nRationale: Option B inclu...</td>\n",
       "      <td>B</td>\n",
       "    </tr>\n",
       "    <tr>\n",
       "      <th>17</th>\n",
       "      <td>18</td>\n",
       "      <td>You provide smallholder farmers in Kenya with ...</td>\n",
       "      <td>Correct answer: [A]\\n\\nRationale: Hardening se...</td>\n",
       "      <td>A</td>\n",
       "    </tr>\n",
       "  </tbody>\n",
       "</table>\n",
       "</div>"
      ],
      "text/plain": [
       "    question_id                                             prompt  \\\n",
       "0             1  You provide smallholder farmers in Kenya with ...   \n",
       "1             2  You provide smallholder farmers in Kenya with ...   \n",
       "2             3  You provide smallholder farmers in Kenya with ...   \n",
       "3             4  You provide smallholder farmers in Kenya with ...   \n",
       "4             5  You provide smallholder farmers in Kenya with ...   \n",
       "5             6  You provide smallholder farmers in Kenya with ...   \n",
       "6             7  You provide smallholder farmers in Kenya with ...   \n",
       "7             8  You provide smallholder farmers in Kenya with ...   \n",
       "8             9  You provide smallholder farmers in Kenya with ...   \n",
       "9            10  You provide smallholder farmers in Kenya with ...   \n",
       "10           11  You provide smallholder farmers in Kenya with ...   \n",
       "11           12  You provide smallholder farmers in Kenya with ...   \n",
       "12           13  You provide smallholder farmers in Kenya with ...   \n",
       "13           14  You provide smallholder farmers in Kenya with ...   \n",
       "14           15  You provide smallholder farmers in Kenya with ...   \n",
       "15           16  You provide smallholder farmers in Kenya with ...   \n",
       "16           17  You provide smallholder farmers in Kenya with ...   \n",
       "17           18  You provide smallholder farmers in Kenya with ...   \n",
       "\n",
       "                                               answer correct_answer  \n",
       "0   Correct answer: A\\n\\nRationale: Option A inclu...              A  \n",
       "1   Correct answer: A, B\\n\\nRationale: Option A co...              A  \n",
       "2   Correct answer: A\\n\\nRationale: Measuring the ...              A  \n",
       "3   Correct answer: [A, C]\\n\\nRationale: Harvestin...              A  \n",
       "4   Correct answer: C\\n\\nRationale: When donning P...              C  \n",
       "5   Correct answer: C\\n\\nRationale: Composting ani...              C  \n",
       "6   Correct answer: [D]\\n\\nRationale: Determining ...              D  \n",
       "7   Correct answer: D\\n\\nRationale: Harvesting at ...              D  \n",
       "8   Correct answer: C\\n\\nRationale: Option C provi...              C  \n",
       "9   Correct answer: [B]\\n\\nRationale: Identificati...              B  \n",
       "10  Correct answer: [B]\\n\\nRationale: DH01, DH02, ...              B  \n",
       "11  Correct answer: [A]\\n\\nRationale: Spraying pes...              A  \n",
       "12  Correct answer: [B, D]\\n\\nRationale: Fowl chol...              D  \n",
       "13  Correct answer: [B]\\n\\nRationale: Legumes fix ...              B  \n",
       "14  Correct answer: B\\n\\nRationale: Option B inclu...              B  \n",
       "15  Correct answer: B\\n\\nRationale: This option ou...              B  \n",
       "16  Correct answer: B\\n\\nRationale: Option B inclu...              B  \n",
       "17  Correct answer: [A]\\n\\nRationale: Hardening se...              A  "
      ]
     },
     "execution_count": 13,
     "metadata": {},
     "output_type": "execute_result"
    }
   ],
   "source": [
    "o1_df"
   ]
  },
  {
   "cell_type": "code",
   "execution_count": 14,
   "metadata": {},
   "outputs": [
    {
     "name": "stdout",
     "output_type": "stream",
     "text": [
      "Saving results to results/20_harder_MCQs-openai-o3-2025-04-16.csv\n"
     ]
    }
   ],
   "source": [
    "o3_df = get_llm_answers(mcq_df, \"openai/o3-2025-04-16\", country, max_completion_tokens=25000, reasoning_effort=\"medium\")"
   ]
  },
  {
   "cell_type": "code",
   "execution_count": 15,
   "metadata": {},
   "outputs": [
    {
     "data": {
      "application/vnd.microsoft.datawrangler.viewer.v0+json": {
       "columns": [
        {
         "name": "index",
         "rawType": "int64",
         "type": "integer"
        },
        {
         "name": "question_id",
         "rawType": "int64",
         "type": "integer"
        },
        {
         "name": "prompt",
         "rawType": "object",
         "type": "string"
        },
        {
         "name": "answer",
         "rawType": "object",
         "type": "string"
        },
        {
         "name": "correct_answer",
         "rawType": "object",
         "type": "string"
        }
       ],
       "ref": "5a491f8d-0302-4d64-83d7-277cddf28026",
       "rows": [
        [
         "0",
         "1",
         "You provide smallholder farmers in Kenya with agricultural advice and information. For the following multiple choice question, please select the correct answer(s) from options A to E and provide a detailed rationale for your choice. There can be multiple correct answers.\n\nQuestion: How do I, in the shortest duration and cost effectively correct for nutrient deficiency in my farm?\n\nAnswer options:\nA. Test soil for nutrient deficiency or perform visual observations of the crop to diagnose the deficiency; get the right source of fertilizer to replenish the deficiency; apply the right rate of the fertilizer that would sufficiently correct the deficiency; apply the fertilizer at the right stage of the crop to maximize uptake and use…remember to apply when soil is moist; place the fertilizer close to the plant root zone but not too close to avoid scotching\nB. Test soil for nutrient deficiency or perform visual observations of the crop to diagnose the deficiency; apply well rotten manure; apply the right rate of the manure that would sufficiently correct the deficiency; apply the manure at the right stage of the crop to maximize uptake and use…remember to apply when soil is moist; place the manure close to the plant root zone but not too close to avoid scotching\nC. Apply fertilizer at the right rate, and the right stage of the crop; place the fertilizer close to the root system\n\nYour response must follow this format exactly:\n\nCorrect answer: [OPTION(S)]\n\nRationale: [Not longer than 10 sentences]",
         "Correct answer: A\n\nRationale: A follows the full “4R” nutrient-management principles—right source, rate, timing and placement—after first confirming the specific deficiency through a soil test or crop inspection, so nutrients reach the crop quickly and efficiently. Mineral fertilizers supply nutrients in readily available forms, giving the fastest correction. B relies on well-rotted manure whose nutrients are released slowly and unpredictably, so it is not the quickest remedy. C omits both diagnosis (soil test/visual check) and selection of the correct fertilizer source, increasing the risk of misapplication and extra cost. Therefore, only option A meets both the “shortest duration” and “cost-effective” requirements.",
         "A"
        ],
        [
         "1",
         "2",
         "You provide smallholder farmers in Kenya with agricultural advice and information. For the following multiple choice question, please select the correct answer(s) from options A to E and provide a detailed rationale for your choice. There can be multiple correct answers.\n\nQuestion: How do I implement integrated pest management (IPM) on a farm?\n\nAnswer options:\nA. Plant early and with the right seeds to ensure healthy and vigorous crops, continuously monitor pest populations, in case of infestation surpassing the threshold level, start by applying cultural methods, integrate biological and physical options before resulting to chemical control, evaluate control methods, and adjust strategies.\nB. Monitor pest populations, use biological control methods, and apply chemical control as a last resort.\nC. Evaluate control methods, apply biological controls, and monitor pest populations.\nD. Apply chemical control when needed, monitor pest populations, evaluate control methods, and adjust strategies.\n\nYour response must follow this format exactly:\n\nCorrect answer: [OPTION(S)]\n\nRationale: [Not longer than 10 sentences]",
         "Correct answer: A, B\n\nRationale: IPM begins with preventive cultural measures (e.g., using the right seed and planting time), regular scouting to determine pest thresholds, then deploying non-chemical tactics (cultural, biological, physical) and keeping pesticides as the final option while continually assessing results. Option A captures every step in the proper sequence—prevention, monitoring, threshold decision, cultural/biological/physical controls first, limited chemical use last, and post-action evaluation—so it is fully correct. Option B, though less detailed, still lists the three core pillars of IPM: monitoring (scouting), favouring biological control, and reserving chemicals for last resort; therefore it also aligns with IPM principles. Options C and D omit key IPM elements or place chemical control too early, so they are not correct.",
         "A"
        ],
        [
         "2",
         "3",
         "You provide smallholder farmers in Kenya with agricultural advice and information. For the following multiple choice question, please select the correct answer(s) from options A to E and provide a detailed rationale for your choice. There can be multiple correct answers.\n\nQuestion: How do I calibrate a knapsack sprayer to ensure accurate pesticide application?\n\nAnswer options:\nA. Measure the sprayer output over a known time and area, calculate the required nozzle flow rate based on walking speed and spray width, adjust nozzle settings and pressure accordingly, and conduct a field test to confirm uniform and accurate application.\nB. Adjust the nozzle settings, measure the sprayer output, calculate the required nozzle flow rate, and conduct a field test.\nC. Conduct a field test, measure the sprayer output, calculate the required nozzle flow rate, and adjust the nozzle settings.\nD. Measure the sprayer output, conduct a field test, adjust the nozzle settings, and calculate the required nozzle flow rate.\n\nYour response must follow this format exactly:\n\nCorrect answer: [OPTION(S)]\n\nRationale: [Not longer than 10 sentences]",
         "Correct answer: A\n\nRationale: Effective calibration follows a logical sequence: first collect data on actual sprayer output per minute over a measured strip; then use walking speed and spray-band width to compute litres/ha (required nozzle flow rate); next, change nozzle size or pump pressure until the calculated rate matches the label rate; finally, spray a small test area to verify even coverage. Option A includes every one of these steps in the correct order and mentions the key variables (time, area, walking speed, spray width) that determine accurate dosage. Options B, C and D omit critical parameters and/or place steps in the wrong sequence, so they cannot guarantee precise application.",
         "A"
        ],
        [
         "3",
         "4",
         "You provide smallholder farmers in Kenya with agricultural advice and information. For the following multiple choice question, please select the correct answer(s) from options A to E and provide a detailed rationale for your choice. There can be multiple correct answers.\n\nQuestion: What is the right procedure to harvest onions?\n\nAnswer options:\nA. Harvest during the dry season, at about 90-150 after planting depending on the variety. The crop must be mature by observing that the tops have started to yellow or droop, and the bulbs will have formed shing membranous cover around them. To harvest, loosen the soil around the plants to allow for easier removal. Pull the bulbs by hand or dig them up with garden fork. Once the bulbs are out of the ground, cut the tops back to about one inch. Clean the bulbs and let them dry in the sun to cure (dry out) before storing. If long storage is intended, cure the bulbs in a well-ventilated store by spreading on racks until the necks and outer scale leaves of the bulbs are thoroughly dried.\nB. Harvest during the wet season, at about 90-150 after planting depending on the variety. The crop must be mature by observing that the tops have started to yellow or droop, and the bulbs will have formed shing membranous cover around them. To harvest, loosen the soil around the plants to allow for easier removal. Pull the bulbs by hand or dig them up with garden fork. Once the bulbs are out of the ground, cut the tops back to about one inch. Clean the bulbs and let them dry in the sun to cure (dry out) before storing. If long storage is intended, cure the bulbs in a well-ventilated store by spreading on racks until the necks and outer scale leaves of the bulbs are thoroughly dried.\nC. Harvest at about 90-150 after planting depending on the variety. The crop must be mature by observing that the tops have started to yellow or droop, and the bulbs will have formed shing membranous cover around them. To harvest, loosen the soil around the plants to allow for easier removal. Pull the bulbs by hand or dig them up with garden fork. Clean the bulbs and let them dry in the sun to cure (dry out) before storing. If long storage is intended, cure the bulbs in a well-ventilated store by spreading on racks until the necks and outer scale leaves of the bulbs are thoroughly dried.\nD. Harvest during the dry season, at about 90-150 after planting depending on the variety. To harvest, loosen the soil around the plants to allow for easier removal. Pull the bulbs by hand or dig them up with garden fork. Once the bulbs are out of the ground, cut the tops back to about one inch. Clean the bulbs and let them dry in the sun to cure (dry out) before storing. If long storage is intended, cure the bulbs in a well-ventilated store by spreading on racks until the necks and outer scale leaves of the bulbs are thoroughly dried.\n\nYour response must follow this format exactly:\n\nCorrect answer: [OPTION(S)]\n\nRationale: [Not longer than 10 sentences]",
         "Correct answer: A\n\nRationale: Harvesting onions is best done in dry weather; wet conditions at lifting greatly increase rotting during curing and storage. The crop should be lifted 90-150 days after planting when about 70-80 % of the tops have yellowed or fallen, indicating a mature bulb with a tight, shiny skin. The soil is first loosened, then bulbs are pulled or fork-lifted to avoid neck damage. After lifting, tops are trimmed to about 2–3 cm, loose soil is brushed off, and the bulbs are sun-dried for a few days and then cured in a well-ventilated, shaded store until necks and outer scales are papery. Option A contains all these key steps, whereas B recommends harvesting in the wet season (wrong), C omits the dry-season requirement and top-trimming, and D omits maturity indicators, so only A is completely correct.",
         "A"
        ],
        [
         "4",
         "5",
         "You provide smallholder farmers in Kenya with agricultural advice and information. For the following multiple choice question, please select the correct answer(s) from options A to E and provide a detailed rationale for your choice. There can be multiple correct answers.\n\nQuestion: How should I wear PPE?\n\nAnswer options:\nA. Put on overall/coveralls first, then gloves, mask, and finish with the face shield\nB. Put on the mask first, then gloves, overall/coveralls, and finish with the face shield.\nC. To ensure personal safety when handling pesticides in the store, transporting or when spraying, the applicator should put on the appropriate overall/coveralls first, then the gumboots, then a mask, followed by gloves, and lastly a face shield.\nD. Put on gloves, then a face shield, followed by overall/coveralls, and finally a mask.\n\nYour response must follow this format exactly:\n\nCorrect answer: [OPTION(S)]\n\nRationale: [Not longer than 10 sentences]",
         "Correct answer: C\n\nRationale: PPE should be donned from the “inside out,” starting with the garments that cover the largest body areas and finishing with items that protect the most contamination-prone parts (hands and face). First put on the overall/coveralls so clothing and skin are covered. Next slip on gumboots so trouser legs fit over or inside the boot tops. Once the body and feet are protected, fit the respirator or mask before other items so it seals properly on clean skin and is not disturbed later. Gloves go on after the mask so they stay clean and cover the sleeve ends. Finally, add the goggles or face shield to protect eyes and face from splashes—this must be last so it is not dislodged while fitting other gear. Options A, B, and D place gloves or face protection too early or the mask too late, increasing contamination risk.",
         "C"
        ],
        [
         "5",
         "6",
         "You provide smallholder farmers in Kenya with agricultural advice and information. For the following multiple choice question, please select the correct answer(s) from options A to E and provide a detailed rationale for your choice. There can be multiple correct answers.\n\nQuestion: How do I use animal waste management on a mixed crop-livestock farm?\n\nAnswer options:\nA. Collect animal waste and dump it directly onto crop fields.\nB. Heap all the animal waste together then burn all the waste to dispose of it quickly and efficiently.\nC. Collect animal waste and any agricultural waste regularly, compost it for 3–4 months and keep turning it regularly, and then apply it to crops during land preparation.\nD. Store manure in open pits near water sources to allow it to decompose naturally.\n\nYour response must follow this format exactly:\n\nCorrect answer: [OPTION(S)]\n\nRationale: [Not longer than 10 sentences]",
         "Correct answer: C\n\nRationale: Directly dumping raw manure (A) can scorch crops, spread pathogens and cause nutrient runoff; burning manure (B) wastes valuable nutrients and emits harmful gases; storing manure in open pits near water (D) risks groundwater contamination and nitrogen loss. The recommended practice is to collect manure and crop residues, compost them for several months while turning to aerate (C). Composting stabilises nutrients, kills weed seeds and pathogens, reduces smell, and produces a friable organic fertiliser that can be safely incorporated into the soil during land preparation, improving soil structure, water-holding capacity and fertility.",
         "C"
        ],
        [
         "6",
         "7",
         "You provide smallholder farmers in Kenya with agricultural advice and information. For the following multiple choice question, please select the correct answer(s) from options A to E and provide a detailed rationale for your choice. There can be multiple correct answers.\n\nQuestion: How do I determine the seed rate required for planting on a farm?\n\nAnswer options:\nA. Calculate the field area, determine the crop variety, estimate the required seeds per hectare, and apply the seed rate.\nB. Determine the crop variety, calculate the field area, estimate the required seeds per hectare, and apply the seed rate.\nC. Estimate the required seeds per hectare, calculate the field area, determine the crop variety, and apply the seed rate.\nD. Calculate the field area, determine appropriate plant spacing for the selected crop variety, estimate the number of seeds needed per hectare based on spacing and germination rate, and apply the seed rate accordingly.\n\nYour response must follow this format exactly:\n\nCorrect answer: [OPTION(S)]\n\nRationale: [Not longer than 10 sentences]",
         "Correct answer: D\n\nRationale: Determining seed rate is not just a matter of knowing the area and crop; you must translate variety-specific spacing (and its expected germination %) into a seeds-per-hectare figure, then multiply by the actual field size. Option D lists all these essential steps—field area, variety-specific spacing, adjustment for germination, and final calculation—so it is correct. Options A, B and C omit the crucial spacing/germination considerations, making their “estimate the required seeds per hectare” step unsupported and therefore incomplete.",
         "D"
        ],
        [
         "7",
         "8",
         "You provide smallholder farmers in Kenya with agricultural advice and information. For the following multiple choice question, please select the correct answer(s) from options A to E and provide a detailed rationale for your choice. There can be multiple correct answers.\n\nQuestion: Last year I experienced significant losses in my stored maize grain. How do I handle my grain to minimize these losses?\n\nAnswer options:\nA. Harvest the crop when the leaves are dry. Thresh the grain either manually or mechanically but avoid seed breakage. Mix the grain with an insecticide (grain dust) at the recommended rate. Put the treated grain in gunny bags ready storage. Alternatively, you can put dry grain in hermetic without treating with insecticide. Clean the store, and dust it with insecticides before storing the bags. Ensure the store is well ventilated, and free from rodents, and stack the bags on pallets and in a way that ventilation is maximized.\nB. Harvest during the dry season, and importantly when maize is physiologically mature. Dry the harvested cobs under the until the moisture content is reduced to about 13%. You can estimate that the grain is dry by doing simple tests like salt test or biting test. Thresh the grain either manually or mechanically but avoid seed breakage. Mix the grain with an insecticide (grain dust) at the recommended rate. Put the treated grain in gunny bags ready storage. Alternatively, you can put dry grain in hermetic without treating with insecticide. Clean the store, and dust it with insecticides before storing the bags.\nC. Harvest during the dry season, and importantly when maize is physiologically mature. Thresh the grain either manually or mechanically but avoid seed breakage. Mix the grain with an insecticide (grain dust) at the recommended rate. Put the treated grain in gunny bags ready storage. Alternatively, you can put dry grain in hermetic without treating with insecticide. Clean the store, and dust it with insecticides before storing the bags. Ensure the store is well ventilated, and free from rodents, and stack the bags on pallets and in a way that ventilation is maximized.\nD. Harvest during the dry season, and importantly when maize is physiologically mature. Dry the harvested cobs under the until the moisture content is reduced to about 13%. You can estimate that the grain is dry by doing simple tests like salt test or biting test. Thresh the grain either manually or mechanically but avoid seed breakage. Mix the grain with an insecticide (grain dust) at the recommended rate. Put the treated grain in gunny bags ready storage. Alternatively, you can put dry grain in hermetic without treating with insecticide. Clean the store, and dust it with insecticides before storing the bags. Ensure the store is well ventilated, and free from rodents, and stack the bags on pallets and in a way that ventilation is maximized.\n\nYour response must follow this format exactly:\n\nCorrect answer: [OPTION(S)]\n\nRationale: [Not longer than 10 sentences]",
         "Correct answer: D\n\nRationale: Proper loss‐reduction starts with harvesting physiologically mature cobs during dry weather, then sun-drying them to about 13 % moisture (simple salt or bite tests confirm this). Option D is the only choice that includes this critical drying step as well as careful threshing to avoid kernel breakage. It also prescribes either insecticide dusting or hermetic storage, both accepted protection methods. Additionally, it stresses cleaning and insecticide-treating the store, good ventilation, rodent exclusion, and stacking bags on pallets to keep air flowing. Options A and C omit the drying step, while B omits the ventilation/pallet stacking advice, so they are incomplete.",
         "D"
        ],
        [
         "8",
         "9",
         "You provide smallholder farmers in Kenya with agricultural advice and information. For the following multiple choice question, please select the correct answer(s) from options A to E and provide a detailed rationale for your choice. There can be multiple correct answers.\n\nQuestion: How do I make organic fertilizer from animal manure?\n\nAnswer options:\nA. Collect manure, compost it, apply the compost to the soil, and monitor soil quality.\nB. Collect manure, store it for several weeks, compost it, and apply it to the soil.\nC. Collect fresh animal manure, mix it with carbon-rich organic materials (like crop residues or dry leaves) to balance the carbon-to-nitrogen ratio, maintain adequate moisture and aeration during composting by turning the pile regularly, and apply the mature compost to the soil.\n\nYour response must follow this format exactly:\n\nCorrect answer: [OPTION(S)]\n\nRationale: [Not longer than 10 sentences]",
         "Correct answer: C\n\nRationale: Proper organic fertilizer (compost) from manure requires balancing manure’s high nitrogen with carbon-rich materials, ensuring the pile has roughly a 25–30 : 1 C:N ratio. Adequate moisture (about 50–60 %) and oxygen are needed, so the heap must be turned regularly. These steps foster rapid, even decomposition, kill weed seeds and pathogens, and minimise nutrient losses. Option C includes all these critical practices. Option A omits adding carbon sources and managing moisture/aeration, making it incomplete and potentially leading to odour, nutrient loss, or slow composting. Option B’s “store it for several weeks” before composting can cause nutrient leaching, methane production, and pathogen risks, so it is not recommended.",
         "C"
        ],
        [
         "9",
         "10",
         "You provide smallholder farmers in Kenya with agricultural advice and information. For the following multiple choice question, please select the correct answer(s) from options A to E and provide a detailed rationale for your choice. There can be multiple correct answers.\n\nQuestion: What is the best weed control strategy on a farm?\n\nAnswer options:\nA. Use mechanical control methods, apply herbicides, monitor weed growth, and evaluate alternatives.\nB. First identify the weed species in your farm, use mechanical control methods e.g uprooting or manual weeding, monitor weed growth rate, and evaluate alternatives whether it requires use of herbicides to manage its growth and competition.\nC. Identify weed species, apply chemical herbicides, monitor the effectiveness, and evaluate alternatives.\nD. Apply herbicides, use mechanical control, monitor effectiveness, and evaluate alternatives.\n\nYour response must follow this format exactly:\n\nCorrect answer: [OPTION(S)]\n\nRationale: [Not longer than 10 sentences]",
         "Correct answer: B\n\nRationale: Effective weed management follows an integrated approach: (1) correctly identify the weed species present; (2) start with non-chemical tactics such as hand-weeding, hoeing or other mechanical methods; (3) regularly monitor regrowth or new infestations; and (4) decide, based on monitoring results and economic thresholds, whether herbicides or other additional measures are warranted. Option B lists all these steps in the correct order and stresses using herbicides only if other methods are insufficient, which reduces costs, delays resistance and safeguards the environment. Options A, C and D omit either the essential identification step or the preference for mechanical/cultural control before chemicals, so they are incomplete or place herbicides too early in the process.",
         "B"
        ],
        [
         "10",
         "11",
         "You provide smallholder farmers in Kenya with agricultural advice and information. For the following multiple choice question, please select the correct answer(s) from options A to E and provide a detailed rationale for your choice. There can be multiple correct answers.\n\nQuestion: Which maize varieties are suitable lowlands of Kenya\n\nAnswer options:\nA. DH01, DH02, DH05, Duma 43, H6213, H519\nB. DH01, DH02, DH05, Duma 43, Sungura 301\nC. H627, H6213, DH01, DH02, DH05, Duma 43, H6213, H519\nD. H512, H511, D01, DH02, DH05, Duma 43, H6213, H519\n\nYour response must follow this format exactly:\n\nCorrect answer: [OPTION(S)]\n\nRationale: [Not longer than 10 sentences]",
         "Correct answer: B\n\nRationale: DH01, DH02 and DH05 are “Dry-land Hybrids” bred specifically for the hot, drought-prone lowlands (<1 000 m). Duma 43 is an extra-early composite also targeted at the coastal and eastern lowland zones. Sungura 301 is an early-maturing, drought-tolerant hybrid released for semi-arid low-elevation areas. Options A, C and D each include one or more varieties (e.g. H6213, H519, H627, H512, H511) that are recommended for mid- or high-altitude environments rather than the true lowlands, so those options are not fully correct.",
         "B"
        ],
        [
         "11",
         "12",
         "You provide smallholder farmers in Kenya with agricultural advice and information. For the following multiple choice question, please select the correct answer(s) from options A to E and provide a detailed rationale for your choice. There can be multiple correct answers.\n\nQuestion: Which is the most optimal time to apply pesticides?\n\nAnswer options:\nA. Spray either early in the morning or late in the evening when it’s cool, and the pests are active\nB. Spray when its sunny, hot, windy, and insects are visible on the crop\nC. Spray the pesticide directly towards the wind\nD. Spray immediately before or after heavy rainfall\n\nYour response must follow this format exactly:\n\nCorrect answer: [OPTION(S)]\n\nRationale: [Not longer than 10 sentences]",
         "Correct answer: A\n\nRationale: Pesticides work best when temperatures are moderate, humidity is higher, and wind is minimal, which normally occurs early in the morning or late in the evening. Cool conditions reduce evaporation, ensuring the chemical remains on the plant surface long enough to be absorbed or contact the pest. Many target pests are also more active and exposed during these periods, increasing hit rates. Spraying during hot, sunny, or windy conditions (option B and C) causes rapid evaporation and drift, wasting product and risking off-target damage. Applying just before or after heavy rain (option D) results in the pesticide being washed off, lowering effectiveness and contaminating water sources.",
         "A"
        ],
        [
         "12",
         "13",
         "You provide smallholder farmers in Kenya with agricultural advice and information. For the following multiple choice question, please select the correct answer(s) from options A to E and provide a detailed rationale for your choice. There can be multiple correct answers.\n\nQuestion: Which diseases should I look out for during cold weather in poultry?\n\nAnswer options:\nA. Newcastle disease, fowl cholera, coccidiosis\nB. Fowl cholera, coccidiosis, aspergillosis and respiratory distress\nC. Aspergillosis, fowlpox, infectious coryza, pneumonia\nD. Pneumonia, coccidiosis, and respiratory distress\n\nYour response must follow this format exactly:\n\nCorrect answer: [OPTION(S)]\n\nRationale: [Not longer than 10 sentences]",
         "Correct answer: A, B\n\nRationale: Cold, damp weather stresses birds and aids survival and spread of respiratory and gut pathogens. Newcastle disease and fowl cholera spread easily when birds crowd together for warmth, so they peak in cold spells. Wet litter encourages oocyst development, making coccidiosis another prime cold-season threat. Mouldy, moist feed or bedding in cool conditions predisposes flocks to aspergillosis. “Respiratory distress” in option B refers to the chronic respiratory disease complex that also worsens in low temperatures. Fowlpox, listed in option C, is mainly insect-borne and more common in warm, dry periods, and the other extra items in options C and D are either less relevant or nonspecific. Hence options A and B contain the diseases most associated with cold weather in poultry.",
         "D"
        ],
        [
         "13",
         "14",
         "You provide smallholder farmers in Kenya with agricultural advice and information. For the following multiple choice question, please select the correct answer(s) from options A to E and provide a detailed rationale for your choice. There can be multiple correct answers.\n\nQuestion: Which are the best practices when intercropping crops?\n\nAnswer options:\nA. Intercrop maize with millet and sorghum\nB. Intercrop legumes such beans, cowpea, mung beans or pigeonpea with cereal crops like maize, sorghum or millets. However, pay attention to spacing to minimize competition\nC. Intercrop tall crop with similarly tall crops irrespective of the species\nD. Intercrop legumes such beans, cowpea, mung beans or pigeon pea with cereal crops like maize, sorghum or millets at close spacing to increase yield per unit\n\nYour response must follow this format exactly:\n\nCorrect answer: [OPTION(S)]\n\nRationale: [Not longer than 10 sentences]",
         "Correct answer: B\n\nRationale: Crop mixtures work best when species complement rather than compete with one another. Pairing legumes with cereals (e.g., beans with maize) lets the legume fix atmospheric nitrogen and supply it to the cereal, while the cereal provides support or partial shade; this is a widely recommended practice. Adequate spacing is essential so the two crops do not overcrowd each other, hence the emphasis on “pay attention to spacing.” Mixing cereals with other cereals (A) or tall crops with equally tall crops (C) offers little nutrient or structural complementarity and tends to heighten competition. Very close spacing of intercrops (D) usually reduces, rather than boosts, overall yields because of light, nutrient and moisture competition.",
         "B"
        ],
        [
         "14",
         "15",
         "You provide smallholder farmers in Kenya with agricultural advice and information. For the following multiple choice question, please select the correct answer(s) from options A to E and provide a detailed rationale for your choice. There can be multiple correct answers.\n\nQuestion: How do I compost crop residues to enhance soil fertility?\n\nAnswer options:\nA. Add organic matter to the compost pile, chop or shred crop residues, and turn regularly.\nB. Collect crop residues, chop/shred them to increase surface area, add a layer of organic matter such as animal manure or green materials in the compost pile, maintain proper moisture and aeration, and turn the compost regularly to support decomposition and aeration.\nC. Collect crop residues, turn them regularly, chop or shred them, and add organic matter to the compost\nD. Collect crop residues, add organic matter to the compost pile, chop or shred them, and turn regularly.\n\nYour response must follow this format exactly:\n\nCorrect answer: [OPTION(S)]\n\nRationale: [Not longer than 10 sentences]",
         "Correct answer: B\n\nRationale: Effective composting requires collecting the residues, reducing particle size (chop/shred), mixing them with a nitrogen-rich material (e.g., manure/green leaves), keeping the pile moist and airy, and turning it to speed decomposition; only option B lists all these key practices.",
         "B"
        ],
        [
         "15",
         "16",
         "You provide smallholder farmers in Kenya with agricultural advice and information. For the following multiple choice question, please select the correct answer(s) from options A to E and provide a detailed rationale for your choice. There can be multiple correct answers.\n\nQuestion: How do I create a simple farm budget for one season of maize farming?\n\nAnswer options:\nA. List only income from maize sales and ignore costs related to inputs, labor, and maintenance.\nB. Come up with a list of all activities to be undertaken, estimate the cost of production including inputs, labor. Estimate the expected yields and price per bag, subtract costs for inputs, labor, and land preparation, then determine the profit or loss.\nC. Record all expenses first and use any leftover funds for farm activities, regardless of income.\nD. Only calculate costs for seeds and fertilizer, as they are the only important expenses for maize farming.\n\nYour response must follow this format exactly:\n\nCorrect answer: [OPTION(S)]\n\nRationale: [Not longer than 10 sentences]",
         "Correct answer: B\n\nRationale: A meaningful farm budget compares total expected income with all production costs. Option B includes identifying every activity, costing inputs, labor, and land preparation, forecasting yield and market price, and then subtracting expenses to see profit or loss—exactly what is required. Option A ignores costs, so it cannot show profitability. Option C overlooks income projections and could misallocate funds. Option D leaves out many essential expenses (e.g., labor, land preparation, pest control), giving an incomplete and misleading picture.",
         "B"
        ],
        [
         "16",
         "17",
         "You provide smallholder farmers in Kenya with agricultural advice and information. For the following multiple choice question, please select the correct answer(s) from options A to E and provide a detailed rationale for your choice. There can be multiple correct answers.\n\nQuestion: How do I apply pesticide to ensure safety and effectiveness\n\nAnswer options:\nA. Mix the pesticide according to instructions, wear PPE, apply it on windy days, and clean equipment thoroughly.\nB. Wear appropriate PPE, mix the pesticide strictly according to label instructions, calibrate the spray equipment, apply during calm weather to prevent drift, avoid applying pesticides on peak heat periods, clean all equipment thoroughly after use, properly dispose the pesticide container.\nC. Wear PPE, apply pesticide on windy days, mix according to instructions, and clean equipment.\n\nYour response must follow this format exactly:\n\nCorrect answer: [OPTION(S)]\n\nRationale: [Not longer than 10 sentences]",
         "Correct answer: B\n\nRationale: Safe and effective pesticide use requires following label instructions for mixing, wearing appropriate personal protective equipment (PPE), and ensuring the sprayer is calibrated so the correct dose is delivered and no excess chemical is released. Application should be done in calm weather, not when it is windy or extremely hot, to minimise drift, evaporation and operator exposure. Thorough cleaning of equipment and proper disposal of empty containers prevent environmental contamination and future crop damage. Option A and C advocate applying on windy days, which increases the risk of drift and reduces effectiveness, so they are incorrect.",
         "B"
        ],
        [
         "17",
         "18",
         "You provide smallholder farmers in Kenya with agricultural advice and information. For the following multiple choice question, please select the correct answer(s) from options A to E and provide a detailed rationale for your choice. There can be multiple correct answers.\n\nQuestion: Which is the best practice in transplanting seedlings?\n\nAnswer options:\nA. Prepare the seedbed in advance to fine tilth; Seedling ought to be transplanted at the right stage; harden the seedlings by removing excess shade and reduce watering; on the day of transplanting, thoroughly irrigate the nursery to enable easy removal of the seedlings; transplant the seedlings onto well irrigated seed bed and place the roots carefully to avoid injury. The best time to transplant is late in the evening when it’s cool\nB. Prepare the seedbed in advance to fine tilth; Seedling can be transplanted at any time of the day depending on one’s convenience. Seedling ought to be transplanted at the right stage; harden the seedlings by removing excess shade and reduce watering; on the day of transplanting, thoroughly irrigate the nursery to enable easy removal of the seedlings; transplant the seedlings onto well irrigated seed bed and place the roots carefully to avoid injury.\nC. Prepare the seedbed in advance to fine tilth; Seedling ought to be transplanted at the right stage; on the day of transplanting, thoroughly irrigate the nursery to enable easy removal of the seedlings; transplant the seedlings onto well irrigated seed bed and place the roots carefully to avoid injury. The best time to transplant is late in the evening when it’s cool\nD. Prepare the seedbed in advance to fine tilth; Seedling can be transplanted irrespective of their stage of development; harden the seedlings by removing excess shade and reduce watering; on the day of transplanting, thoroughly irrigate the nursery to enable easy removal of the seedlings; transplant the seedlings onto well irrigated seed bed and place the roots carefully to avoid injury. The best time to transplant is late in the evening when it’s cool\n\nYour response must follow this format exactly:\n\nCorrect answer: [OPTION(S)]\n\nRationale: [Not longer than 10 sentences]",
         "Correct answer: A\n\nRationale: Best practice requires (1) a finely-prepared seedbed, (2) transplanting seedlings only when they have reached the correct physiological stage, (3) hardening-off to reduce shock, (4) watering the nursery just before lifting so roots come out with soil, (5) setting seedlings in a moist field and handling roots gently, and (6) doing the work during a cool part of the day (late evening or early morning). Option A contains every one of these steps. Option B is wrong because it allows transplanting at any time of day, increasing heat and water-stress. Option C omits the essential hardening-off step. Option D allows transplanting seedlings at any stage, which can lead to poor establishment. Therefore only A meets all criteria for best practice.",
         "A"
        ]
       ],
       "shape": {
        "columns": 4,
        "rows": 18
       }
      },
      "text/html": [
       "<div>\n",
       "<style scoped>\n",
       "    .dataframe tbody tr th:only-of-type {\n",
       "        vertical-align: middle;\n",
       "    }\n",
       "\n",
       "    .dataframe tbody tr th {\n",
       "        vertical-align: top;\n",
       "    }\n",
       "\n",
       "    .dataframe thead th {\n",
       "        text-align: right;\n",
       "    }\n",
       "</style>\n",
       "<table border=\"1\" class=\"dataframe\">\n",
       "  <thead>\n",
       "    <tr style=\"text-align: right;\">\n",
       "      <th></th>\n",
       "      <th>question_id</th>\n",
       "      <th>prompt</th>\n",
       "      <th>answer</th>\n",
       "      <th>correct_answer</th>\n",
       "    </tr>\n",
       "  </thead>\n",
       "  <tbody>\n",
       "    <tr>\n",
       "      <th>0</th>\n",
       "      <td>1</td>\n",
       "      <td>You provide smallholder farmers in Kenya with ...</td>\n",
       "      <td>Correct answer: A\\n\\nRationale: A follows the ...</td>\n",
       "      <td>A</td>\n",
       "    </tr>\n",
       "    <tr>\n",
       "      <th>1</th>\n",
       "      <td>2</td>\n",
       "      <td>You provide smallholder farmers in Kenya with ...</td>\n",
       "      <td>Correct answer: A, B\\n\\nRationale: IPM begins ...</td>\n",
       "      <td>A</td>\n",
       "    </tr>\n",
       "    <tr>\n",
       "      <th>2</th>\n",
       "      <td>3</td>\n",
       "      <td>You provide smallholder farmers in Kenya with ...</td>\n",
       "      <td>Correct answer: A\\n\\nRationale: Effective cali...</td>\n",
       "      <td>A</td>\n",
       "    </tr>\n",
       "    <tr>\n",
       "      <th>3</th>\n",
       "      <td>4</td>\n",
       "      <td>You provide smallholder farmers in Kenya with ...</td>\n",
       "      <td>Correct answer: A\\n\\nRationale: Harvesting oni...</td>\n",
       "      <td>A</td>\n",
       "    </tr>\n",
       "    <tr>\n",
       "      <th>4</th>\n",
       "      <td>5</td>\n",
       "      <td>You provide smallholder farmers in Kenya with ...</td>\n",
       "      <td>Correct answer: C\\n\\nRationale: PPE should be ...</td>\n",
       "      <td>C</td>\n",
       "    </tr>\n",
       "    <tr>\n",
       "      <th>5</th>\n",
       "      <td>6</td>\n",
       "      <td>You provide smallholder farmers in Kenya with ...</td>\n",
       "      <td>Correct answer: C\\n\\nRationale: Directly dumpi...</td>\n",
       "      <td>C</td>\n",
       "    </tr>\n",
       "    <tr>\n",
       "      <th>6</th>\n",
       "      <td>7</td>\n",
       "      <td>You provide smallholder farmers in Kenya with ...</td>\n",
       "      <td>Correct answer: D\\n\\nRationale: Determining se...</td>\n",
       "      <td>D</td>\n",
       "    </tr>\n",
       "    <tr>\n",
       "      <th>7</th>\n",
       "      <td>8</td>\n",
       "      <td>You provide smallholder farmers in Kenya with ...</td>\n",
       "      <td>Correct answer: D\\n\\nRationale: Proper loss‐re...</td>\n",
       "      <td>D</td>\n",
       "    </tr>\n",
       "    <tr>\n",
       "      <th>8</th>\n",
       "      <td>9</td>\n",
       "      <td>You provide smallholder farmers in Kenya with ...</td>\n",
       "      <td>Correct answer: C\\n\\nRationale: Proper organic...</td>\n",
       "      <td>C</td>\n",
       "    </tr>\n",
       "    <tr>\n",
       "      <th>9</th>\n",
       "      <td>10</td>\n",
       "      <td>You provide smallholder farmers in Kenya with ...</td>\n",
       "      <td>Correct answer: B\\n\\nRationale: Effective weed...</td>\n",
       "      <td>B</td>\n",
       "    </tr>\n",
       "    <tr>\n",
       "      <th>10</th>\n",
       "      <td>11</td>\n",
       "      <td>You provide smallholder farmers in Kenya with ...</td>\n",
       "      <td>Correct answer: B\\n\\nRationale: DH01, DH02 and...</td>\n",
       "      <td>B</td>\n",
       "    </tr>\n",
       "    <tr>\n",
       "      <th>11</th>\n",
       "      <td>12</td>\n",
       "      <td>You provide smallholder farmers in Kenya with ...</td>\n",
       "      <td>Correct answer: A\\n\\nRationale: Pesticides wor...</td>\n",
       "      <td>A</td>\n",
       "    </tr>\n",
       "    <tr>\n",
       "      <th>12</th>\n",
       "      <td>13</td>\n",
       "      <td>You provide smallholder farmers in Kenya with ...</td>\n",
       "      <td>Correct answer: A, B\\n\\nRationale: Cold, damp ...</td>\n",
       "      <td>D</td>\n",
       "    </tr>\n",
       "    <tr>\n",
       "      <th>13</th>\n",
       "      <td>14</td>\n",
       "      <td>You provide smallholder farmers in Kenya with ...</td>\n",
       "      <td>Correct answer: B\\n\\nRationale: Crop mixtures ...</td>\n",
       "      <td>B</td>\n",
       "    </tr>\n",
       "    <tr>\n",
       "      <th>14</th>\n",
       "      <td>15</td>\n",
       "      <td>You provide smallholder farmers in Kenya with ...</td>\n",
       "      <td>Correct answer: B\\n\\nRationale: Effective comp...</td>\n",
       "      <td>B</td>\n",
       "    </tr>\n",
       "    <tr>\n",
       "      <th>15</th>\n",
       "      <td>16</td>\n",
       "      <td>You provide smallholder farmers in Kenya with ...</td>\n",
       "      <td>Correct answer: B\\n\\nRationale: A meaningful f...</td>\n",
       "      <td>B</td>\n",
       "    </tr>\n",
       "    <tr>\n",
       "      <th>16</th>\n",
       "      <td>17</td>\n",
       "      <td>You provide smallholder farmers in Kenya with ...</td>\n",
       "      <td>Correct answer: B\\n\\nRationale: Safe and effec...</td>\n",
       "      <td>B</td>\n",
       "    </tr>\n",
       "    <tr>\n",
       "      <th>17</th>\n",
       "      <td>18</td>\n",
       "      <td>You provide smallholder farmers in Kenya with ...</td>\n",
       "      <td>Correct answer: A\\n\\nRationale: Best practice ...</td>\n",
       "      <td>A</td>\n",
       "    </tr>\n",
       "  </tbody>\n",
       "</table>\n",
       "</div>"
      ],
      "text/plain": [
       "    question_id                                             prompt  \\\n",
       "0             1  You provide smallholder farmers in Kenya with ...   \n",
       "1             2  You provide smallholder farmers in Kenya with ...   \n",
       "2             3  You provide smallholder farmers in Kenya with ...   \n",
       "3             4  You provide smallholder farmers in Kenya with ...   \n",
       "4             5  You provide smallholder farmers in Kenya with ...   \n",
       "5             6  You provide smallholder farmers in Kenya with ...   \n",
       "6             7  You provide smallholder farmers in Kenya with ...   \n",
       "7             8  You provide smallholder farmers in Kenya with ...   \n",
       "8             9  You provide smallholder farmers in Kenya with ...   \n",
       "9            10  You provide smallholder farmers in Kenya with ...   \n",
       "10           11  You provide smallholder farmers in Kenya with ...   \n",
       "11           12  You provide smallholder farmers in Kenya with ...   \n",
       "12           13  You provide smallholder farmers in Kenya with ...   \n",
       "13           14  You provide smallholder farmers in Kenya with ...   \n",
       "14           15  You provide smallholder farmers in Kenya with ...   \n",
       "15           16  You provide smallholder farmers in Kenya with ...   \n",
       "16           17  You provide smallholder farmers in Kenya with ...   \n",
       "17           18  You provide smallholder farmers in Kenya with ...   \n",
       "\n",
       "                                               answer correct_answer  \n",
       "0   Correct answer: A\\n\\nRationale: A follows the ...              A  \n",
       "1   Correct answer: A, B\\n\\nRationale: IPM begins ...              A  \n",
       "2   Correct answer: A\\n\\nRationale: Effective cali...              A  \n",
       "3   Correct answer: A\\n\\nRationale: Harvesting oni...              A  \n",
       "4   Correct answer: C\\n\\nRationale: PPE should be ...              C  \n",
       "5   Correct answer: C\\n\\nRationale: Directly dumpi...              C  \n",
       "6   Correct answer: D\\n\\nRationale: Determining se...              D  \n",
       "7   Correct answer: D\\n\\nRationale: Proper loss‐re...              D  \n",
       "8   Correct answer: C\\n\\nRationale: Proper organic...              C  \n",
       "9   Correct answer: B\\n\\nRationale: Effective weed...              B  \n",
       "10  Correct answer: B\\n\\nRationale: DH01, DH02 and...              B  \n",
       "11  Correct answer: A\\n\\nRationale: Pesticides wor...              A  \n",
       "12  Correct answer: A, B\\n\\nRationale: Cold, damp ...              D  \n",
       "13  Correct answer: B\\n\\nRationale: Crop mixtures ...              B  \n",
       "14  Correct answer: B\\n\\nRationale: Effective comp...              B  \n",
       "15  Correct answer: B\\n\\nRationale: A meaningful f...              B  \n",
       "16  Correct answer: B\\n\\nRationale: Safe and effec...              B  \n",
       "17  Correct answer: A\\n\\nRationale: Best practice ...              A  "
      ]
     },
     "execution_count": 15,
     "metadata": {},
     "output_type": "execute_result"
    }
   ],
   "source": [
    "o3_df"
   ]
  },
  {
   "cell_type": "code",
   "execution_count": 16,
   "metadata": {},
   "outputs": [
    {
     "name": "stdout",
     "output_type": "stream",
     "text": [
      "Saving results to results/20_harder_MCQs-openai-o4-mini-2025-04-16.csv\n"
     ]
    }
   ],
   "source": [
    "o4_mini_df = get_llm_answers(mcq_df, \"openai/o4-mini-2025-04-16\", country, max_completion_tokens=25000, reasoning_effort=\"medium\")"
   ]
  },
  {
   "cell_type": "code",
   "execution_count": 17,
   "metadata": {},
   "outputs": [
    {
     "data": {
      "application/vnd.microsoft.datawrangler.viewer.v0+json": {
       "columns": [
        {
         "name": "index",
         "rawType": "int64",
         "type": "integer"
        },
        {
         "name": "question_id",
         "rawType": "int64",
         "type": "integer"
        },
        {
         "name": "prompt",
         "rawType": "object",
         "type": "string"
        },
        {
         "name": "answer",
         "rawType": "object",
         "type": "string"
        },
        {
         "name": "correct_answer",
         "rawType": "object",
         "type": "string"
        }
       ],
       "ref": "b5b6b5e7-5c40-4673-a7a7-6a5da68d5ef4",
       "rows": [
        [
         "0",
         "1",
         "You provide smallholder farmers in Kenya with agricultural advice and information. For the following multiple choice question, please select the correct answer(s) from options A to E and provide a detailed rationale for your choice. There can be multiple correct answers.\n\nQuestion: How do I, in the shortest duration and cost effectively correct for nutrient deficiency in my farm?\n\nAnswer options:\nA. Test soil for nutrient deficiency or perform visual observations of the crop to diagnose the deficiency; get the right source of fertilizer to replenish the deficiency; apply the right rate of the fertilizer that would sufficiently correct the deficiency; apply the fertilizer at the right stage of the crop to maximize uptake and use…remember to apply when soil is moist; place the fertilizer close to the plant root zone but not too close to avoid scotching\nB. Test soil for nutrient deficiency or perform visual observations of the crop to diagnose the deficiency; apply well rotten manure; apply the right rate of the manure that would sufficiently correct the deficiency; apply the manure at the right stage of the crop to maximize uptake and use…remember to apply when soil is moist; place the manure close to the plant root zone but not too close to avoid scotching\nC. Apply fertilizer at the right rate, and the right stage of the crop; place the fertilizer close to the root system\n\nYour response must follow this format exactly:\n\nCorrect answer: [OPTION(S)]\n\nRationale: [Not longer than 10 sentences]",
         "Correct answer: A\n\nRationale:  \n1. Rapid correction requires knowing exactly which nutrient is deficient, so testing or visual diagnosis is essential.  \n2. Choosing the right fertilizer source targets the specific deficient nutrient most cost-effectively and quickly.  \n3. Applying the correct rate avoids waste or toxicity and achieves sufficiency without overspending.  \n4. Timing at the crop’s uptake stage and moist soil maximizes nutrient availability and uptake speed.  \n5. Proper placement near the root zone ensures roots can access nutrients immediately without scorching the plant.",
         "A"
        ],
        [
         "1",
         "2",
         "You provide smallholder farmers in Kenya with agricultural advice and information. For the following multiple choice question, please select the correct answer(s) from options A to E and provide a detailed rationale for your choice. There can be multiple correct answers.\n\nQuestion: How do I implement integrated pest management (IPM) on a farm?\n\nAnswer options:\nA. Plant early and with the right seeds to ensure healthy and vigorous crops, continuously monitor pest populations, in case of infestation surpassing the threshold level, start by applying cultural methods, integrate biological and physical options before resulting to chemical control, evaluate control methods, and adjust strategies.\nB. Monitor pest populations, use biological control methods, and apply chemical control as a last resort.\nC. Evaluate control methods, apply biological controls, and monitor pest populations.\nD. Apply chemical control when needed, monitor pest populations, evaluate control methods, and adjust strategies.\n\nYour response must follow this format exactly:\n\nCorrect answer: [OPTION(S)]\n\nRationale: [Not longer than 10 sentences]",
         "Correct answer: A, B\n\nRationale:  \n1. Option A outlines the full IPM cycle—starting with cultural practices, threshold‐based monitoring, integrating nonchemical controls, and evaluating results before chemical use.  \n2. Option B highlights the core IPM principle of regular pest monitoring, prioritizing biological methods, and reserving chemicals as a last resort.  \n3. Options C and D omit key IPM components such as cultural practices, threshold monitoring, or the sequencing of control tactics.  \n4. Therefore, both A and B correctly reflect integrated, stepwise pest management.",
         "A"
        ],
        [
         "2",
         "3",
         "You provide smallholder farmers in Kenya with agricultural advice and information. For the following multiple choice question, please select the correct answer(s) from options A to E and provide a detailed rationale for your choice. There can be multiple correct answers.\n\nQuestion: How do I calibrate a knapsack sprayer to ensure accurate pesticide application?\n\nAnswer options:\nA. Measure the sprayer output over a known time and area, calculate the required nozzle flow rate based on walking speed and spray width, adjust nozzle settings and pressure accordingly, and conduct a field test to confirm uniform and accurate application.\nB. Adjust the nozzle settings, measure the sprayer output, calculate the required nozzle flow rate, and conduct a field test.\nC. Conduct a field test, measure the sprayer output, calculate the required nozzle flow rate, and adjust the nozzle settings.\nD. Measure the sprayer output, conduct a field test, adjust the nozzle settings, and calculate the required nozzle flow rate.\n\nYour response must follow this format exactly:\n\nCorrect answer: [OPTION(S)]\n\nRationale: [Not longer than 10 sentences]",
         "Correct answer: A\n\nRationale:  \n1. Proper calibration begins by measuring how much spray the knapsack delivers over a known time and swath width.  \n2. You then calculate the nozzle flow rate needed to cover your target area at your walking speed.  \n3. Adjusting nozzle size and pressure to match that rate ensures the right volume per hectare.  \n4. A final field trial confirms that your settings deliver uniform coverage without over- or under-application.  \n5. Options B–D omit key steps or present them in the wrong sequence.",
         "A"
        ],
        [
         "3",
         "4",
         "You provide smallholder farmers in Kenya with agricultural advice and information. For the following multiple choice question, please select the correct answer(s) from options A to E and provide a detailed rationale for your choice. There can be multiple correct answers.\n\nQuestion: What is the right procedure to harvest onions?\n\nAnswer options:\nA. Harvest during the dry season, at about 90-150 after planting depending on the variety. The crop must be mature by observing that the tops have started to yellow or droop, and the bulbs will have formed shing membranous cover around them. To harvest, loosen the soil around the plants to allow for easier removal. Pull the bulbs by hand or dig them up with garden fork. Once the bulbs are out of the ground, cut the tops back to about one inch. Clean the bulbs and let them dry in the sun to cure (dry out) before storing. If long storage is intended, cure the bulbs in a well-ventilated store by spreading on racks until the necks and outer scale leaves of the bulbs are thoroughly dried.\nB. Harvest during the wet season, at about 90-150 after planting depending on the variety. The crop must be mature by observing that the tops have started to yellow or droop, and the bulbs will have formed shing membranous cover around them. To harvest, loosen the soil around the plants to allow for easier removal. Pull the bulbs by hand or dig them up with garden fork. Once the bulbs are out of the ground, cut the tops back to about one inch. Clean the bulbs and let them dry in the sun to cure (dry out) before storing. If long storage is intended, cure the bulbs in a well-ventilated store by spreading on racks until the necks and outer scale leaves of the bulbs are thoroughly dried.\nC. Harvest at about 90-150 after planting depending on the variety. The crop must be mature by observing that the tops have started to yellow or droop, and the bulbs will have formed shing membranous cover around them. To harvest, loosen the soil around the plants to allow for easier removal. Pull the bulbs by hand or dig them up with garden fork. Clean the bulbs and let them dry in the sun to cure (dry out) before storing. If long storage is intended, cure the bulbs in a well-ventilated store by spreading on racks until the necks and outer scale leaves of the bulbs are thoroughly dried.\nD. Harvest during the dry season, at about 90-150 after planting depending on the variety. To harvest, loosen the soil around the plants to allow for easier removal. Pull the bulbs by hand or dig them up with garden fork. Once the bulbs are out of the ground, cut the tops back to about one inch. Clean the bulbs and let them dry in the sun to cure (dry out) before storing. If long storage is intended, cure the bulbs in a well-ventilated store by spreading on racks until the necks and outer scale leaves of the bulbs are thoroughly dried.\n\nYour response must follow this format exactly:\n\nCorrect answer: [OPTION(S)]\n\nRationale: [Not longer than 10 sentences]",
         "Correct answer: A\n\nRationale:  \n1. Onions should be lifted in the dry season to ensure good curing and minimize rots.  \n2. Maturity is judged at about 90–150 days when tops yellow and fall and the bulb scales turn papery.  \n3. Loosening soil and lifting by hand or fork prevents bulb damage.  \n4. Cutting tops to about one inch and cleaning prevents decay during curing.  \n5. Sun‐drying followed by rack curing in a ventilated store readies bulbs for long storage.",
         "A"
        ],
        [
         "4",
         "5",
         "You provide smallholder farmers in Kenya with agricultural advice and information. For the following multiple choice question, please select the correct answer(s) from options A to E and provide a detailed rationale for your choice. There can be multiple correct answers.\n\nQuestion: How should I wear PPE?\n\nAnswer options:\nA. Put on overall/coveralls first, then gloves, mask, and finish with the face shield\nB. Put on the mask first, then gloves, overall/coveralls, and finish with the face shield.\nC. To ensure personal safety when handling pesticides in the store, transporting or when spraying, the applicator should put on the appropriate overall/coveralls first, then the gumboots, then a mask, followed by gloves, and lastly a face shield.\nD. Put on gloves, then a face shield, followed by overall/coveralls, and finally a mask.\n\nYour response must follow this format exactly:\n\nCorrect answer: [OPTION(S)]\n\nRationale: [Not longer than 10 sentences]",
         "Correct answer: C\n\nRationale:  \n1. You should don full-body protection (overall/coveralls) before any other items to avoid contaminating clothing.  \n2. Gumboots follow to protect feet and lower legs when moving between store, transport, and field.  \n3. A respiratory mask comes next to seal your airway before handling chemicals.  \n4. Gloves are put on after the mask to seal wrists and avoid pesticide contact when adjusting the mask.  \n5. A face shield is worn last to protect the eyes and face without disturbing previously donned PPE.",
         "C"
        ],
        [
         "5",
         "6",
         "You provide smallholder farmers in Kenya with agricultural advice and information. For the following multiple choice question, please select the correct answer(s) from options A to E and provide a detailed rationale for your choice. There can be multiple correct answers.\n\nQuestion: How do I use animal waste management on a mixed crop-livestock farm?\n\nAnswer options:\nA. Collect animal waste and dump it directly onto crop fields.\nB. Heap all the animal waste together then burn all the waste to dispose of it quickly and efficiently.\nC. Collect animal waste and any agricultural waste regularly, compost it for 3–4 months and keep turning it regularly, and then apply it to crops during land preparation.\nD. Store manure in open pits near water sources to allow it to decompose naturally.\n\nYour response must follow this format exactly:\n\nCorrect answer: [OPTION(S)]\n\nRationale: [Not longer than 10 sentences]",
         "Correct answer: C\n\nRationale: Composting animal and crop residues for 3–4 months with regular turning produces a stable, nutrient-rich organic fertilizer and destroys pathogens. Applying well-matured compost at land preparation improves soil structure, water retention and nutrient availability. Direct dumping (A) can cause nutrient runoff and uneven distribution. Burning (B) wastes valuable nutrients and produces air pollution. Storing manure in open pits near water sources (D) risks contaminating groundwater and spreading pathogens.",
         "C"
        ],
        [
         "6",
         "7",
         "You provide smallholder farmers in Kenya with agricultural advice and information. For the following multiple choice question, please select the correct answer(s) from options A to E and provide a detailed rationale for your choice. There can be multiple correct answers.\n\nQuestion: How do I determine the seed rate required for planting on a farm?\n\nAnswer options:\nA. Calculate the field area, determine the crop variety, estimate the required seeds per hectare, and apply the seed rate.\nB. Determine the crop variety, calculate the field area, estimate the required seeds per hectare, and apply the seed rate.\nC. Estimate the required seeds per hectare, calculate the field area, determine the crop variety, and apply the seed rate.\nD. Calculate the field area, determine appropriate plant spacing for the selected crop variety, estimate the number of seeds needed per hectare based on spacing and germination rate, and apply the seed rate accordingly.\n\nYour response must follow this format exactly:\n\nCorrect answer: [OPTION(S)]\n\nRationale: [Not longer than 10 sentences]",
         "Correct answer: B, D\n\nRationale:\n1. You must first choose the crop variety so you know its recommended seeding rate.  \n2. Next calculate your field area to scale that rate to your farm size.  \n3. For a quick estimate (option B), multiply your area by the variety’s seeds-per-hectare rate.  \n4. For greater accuracy (option D), also factor in your chosen spacing and the seed’s germination rate when deriving seeds per hectare.  \n5. Both methods ultimately yield the required seed rate to apply across your field.",
         "D"
        ],
        [
         "7",
         "8",
         "You provide smallholder farmers in Kenya with agricultural advice and information. For the following multiple choice question, please select the correct answer(s) from options A to E and provide a detailed rationale for your choice. There can be multiple correct answers.\n\nQuestion: Last year I experienced significant losses in my stored maize grain. How do I handle my grain to minimize these losses?\n\nAnswer options:\nA. Harvest the crop when the leaves are dry. Thresh the grain either manually or mechanically but avoid seed breakage. Mix the grain with an insecticide (grain dust) at the recommended rate. Put the treated grain in gunny bags ready storage. Alternatively, you can put dry grain in hermetic without treating with insecticide. Clean the store, and dust it with insecticides before storing the bags. Ensure the store is well ventilated, and free from rodents, and stack the bags on pallets and in a way that ventilation is maximized.\nB. Harvest during the dry season, and importantly when maize is physiologically mature. Dry the harvested cobs under the until the moisture content is reduced to about 13%. You can estimate that the grain is dry by doing simple tests like salt test or biting test. Thresh the grain either manually or mechanically but avoid seed breakage. Mix the grain with an insecticide (grain dust) at the recommended rate. Put the treated grain in gunny bags ready storage. Alternatively, you can put dry grain in hermetic without treating with insecticide. Clean the store, and dust it with insecticides before storing the bags.\nC. Harvest during the dry season, and importantly when maize is physiologically mature. Thresh the grain either manually or mechanically but avoid seed breakage. Mix the grain with an insecticide (grain dust) at the recommended rate. Put the treated grain in gunny bags ready storage. Alternatively, you can put dry grain in hermetic without treating with insecticide. Clean the store, and dust it with insecticides before storing the bags. Ensure the store is well ventilated, and free from rodents, and stack the bags on pallets and in a way that ventilation is maximized.\nD. Harvest during the dry season, and importantly when maize is physiologically mature. Dry the harvested cobs under the until the moisture content is reduced to about 13%. You can estimate that the grain is dry by doing simple tests like salt test or biting test. Thresh the grain either manually or mechanically but avoid seed breakage. Mix the grain with an insecticide (grain dust) at the recommended rate. Put the treated grain in gunny bags ready storage. Alternatively, you can put dry grain in hermetic without treating with insecticide. Clean the store, and dust it with insecticides before storing the bags. Ensure the store is well ventilated, and free from rodents, and stack the bags on pallets and in a way that ventilation is maximized.\n\nYour response must follow this format exactly:\n\nCorrect answer: [OPTION(S)]\n\nRationale: [Not longer than 10 sentences]",
         "Correct answer: D\n\nRationale:  \n1. Proper timing (physiological maturity) and sun-drying to ~13% moisture prevents mold and insect buildup.  \n2. Simple moisture checks (salt or bite tests) ensure grain is safe for storage.  \n3. Gentle threshing avoids seed breakage, reducing pest entry points.  \n4. Treating with recommended insecticidal dust or using hermetic bags controls stored-grain pests.  \n5. A clean, insecticide-dusted store further reduces pest carry-over.  \n6. Good ventilation and rodent eradication prevent moisture hotspots and grain loss.  \n7. Stacking bags on pallets enhances air circulation and keeps grain off damp floors.",
         "D"
        ],
        [
         "8",
         "9",
         "You provide smallholder farmers in Kenya with agricultural advice and information. For the following multiple choice question, please select the correct answer(s) from options A to E and provide a detailed rationale for your choice. There can be multiple correct answers.\n\nQuestion: How do I make organic fertilizer from animal manure?\n\nAnswer options:\nA. Collect manure, compost it, apply the compost to the soil, and monitor soil quality.\nB. Collect manure, store it for several weeks, compost it, and apply it to the soil.\nC. Collect fresh animal manure, mix it with carbon-rich organic materials (like crop residues or dry leaves) to balance the carbon-to-nitrogen ratio, maintain adequate moisture and aeration during composting by turning the pile regularly, and apply the mature compost to the soil.\n\nYour response must follow this format exactly:\n\nCorrect answer: [OPTION(S)]\n\nRationale: [Not longer than 10 sentences]",
         "Correct answer: A, C\n\nRationale:  \n1. Both A and C correctly start with collecting animal manure and end with applying composted material to the soil.  \n2. A outlines the basic cycle of composting manure and monitoring soil quality, which is essential for organic fertilizer production.  \n3. C provides the necessary details on balancing the carbon-to-nitrogen ratio and maintaining moisture and aeration for efficient composting.  \n4. Together, they cover both the general process (A) and the detailed compost management steps (C) needed to produce high-quality organic fertilizer.",
         "C"
        ],
        [
         "9",
         "10",
         "You provide smallholder farmers in Kenya with agricultural advice and information. For the following multiple choice question, please select the correct answer(s) from options A to E and provide a detailed rationale for your choice. There can be multiple correct answers.\n\nQuestion: What is the best weed control strategy on a farm?\n\nAnswer options:\nA. Use mechanical control methods, apply herbicides, monitor weed growth, and evaluate alternatives.\nB. First identify the weed species in your farm, use mechanical control methods e.g uprooting or manual weeding, monitor weed growth rate, and evaluate alternatives whether it requires use of herbicides to manage its growth and competition.\nC. Identify weed species, apply chemical herbicides, monitor the effectiveness, and evaluate alternatives.\nD. Apply herbicides, use mechanical control, monitor effectiveness, and evaluate alternatives.\n\nYour response must follow this format exactly:\n\nCorrect answer: [OPTION(S)]\n\nRationale: [Not longer than 10 sentences]",
         "Correct answer: B\n\nRationale:  \n1. Effective weed control begins by accurately identifying the weed species present so you can choose the most appropriate removal method.  \n2. Mechanical control (hand‐weeding or uprooting) reduces weed pressure without harming non‐target plants or the environment.  \n3. Monitoring growth rates helps you time interventions before weeds outcompete crops.  \n4. Evaluating alternatives—including spot‐treatment with herbicides only if mechanical methods are insufficient—minimizes chemical use and resistance risks.",
         "B"
        ],
        [
         "10",
         "11",
         "You provide smallholder farmers in Kenya with agricultural advice and information. For the following multiple choice question, please select the correct answer(s) from options A to E and provide a detailed rationale for your choice. There can be multiple correct answers.\n\nQuestion: Which maize varieties are suitable lowlands of Kenya\n\nAnswer options:\nA. DH01, DH02, DH05, Duma 43, H6213, H519\nB. DH01, DH02, DH05, Duma 43, Sungura 301\nC. H627, H6213, DH01, DH02, DH05, Duma 43, H6213, H519\nD. H512, H511, D01, DH02, DH05, Duma 43, H6213, H519\n\nYour response must follow this format exactly:\n\nCorrect answer: [OPTION(S)]\n\nRationale: [Not longer than 10 sentences]",
         "Correct answer: A\n\nRationale:  \n1. DH01, DH02 and DH05 are early‐maturing, drought‐tolerant hybrids recommended for Kenya’s lowland zones (LM1–LM3).  \n2. Duma 43 is a widely adopted, drought‐tolerant hybrid developed specifically for low‐rainfall areas.  \n3. H6213 and H519 are also released maize hybrids suited to the lowland agro‐ecologies of Kenya.  \n4. Options B, C and D either include varieties not recommended for lowlands (e.g. Sungura 301, H511, H512, H627) or contain typographical errors, making A the correct choice.",
         "B"
        ],
        [
         "11",
         "12",
         "You provide smallholder farmers in Kenya with agricultural advice and information. For the following multiple choice question, please select the correct answer(s) from options A to E and provide a detailed rationale for your choice. There can be multiple correct answers.\n\nQuestion: Which is the most optimal time to apply pesticides?\n\nAnswer options:\nA. Spray either early in the morning or late in the evening when it’s cool, and the pests are active\nB. Spray when its sunny, hot, windy, and insects are visible on the crop\nC. Spray the pesticide directly towards the wind\nD. Spray immediately before or after heavy rainfall\n\nYour response must follow this format exactly:\n\nCorrect answer: [OPTION(S)]\n\nRationale: [Not longer than 10 sentences]",
         "Correct answer: A\n\nRationale:  \n1. Early morning or late evening temperatures are lower, reducing pesticide evaporation and drift.  \n2. Cooling conditions improve spray retention on leaf surfaces.  \n3. Many pests are most active at dawn or dusk, increasing contact with the pesticide.  \n4. Midday heat can volatilize chemicals before they reach the target.  \n5. Windy conditions (Option B and C) increase drift risk and decrease on-target deposition.  \n6. Spraying around heavy rainfall (Option D) risks wash-off and reduced efficacy.",
         "A"
        ],
        [
         "12",
         "13",
         "You provide smallholder farmers in Kenya with agricultural advice and information. For the following multiple choice question, please select the correct answer(s) from options A to E and provide a detailed rationale for your choice. There can be multiple correct answers.\n\nQuestion: Which diseases should I look out for during cold weather in poultry?\n\nAnswer options:\nA. Newcastle disease, fowl cholera, coccidiosis\nB. Fowl cholera, coccidiosis, aspergillosis and respiratory distress\nC. Aspergillosis, fowlpox, infectious coryza, pneumonia\nD. Pneumonia, coccidiosis, and respiratory distress\n\nYour response must follow this format exactly:\n\nCorrect answer: [OPTION(S)]\n\nRationale: [Not longer than 10 sentences]",
         "Correct answer: C\n\nRationale: Cold stress in poultry primarily triggers respiratory and fungal problems. Aspergillosis often flares up in damp, poorly ventilated houses in cold weather. Infectious coryza is a bacterial upper‐respiratory disease that spreads rapidly when birds are chilled. Pneumonia from colibacillosis or other bacterial agents also increases in winter, especially under drafty conditions. The diphtheritic (respiratory) form of fowlpox can worsen when immunity is low and birds are stressed by cold.",
         "D"
        ],
        [
         "13",
         "14",
         "You provide smallholder farmers in Kenya with agricultural advice and information. For the following multiple choice question, please select the correct answer(s) from options A to E and provide a detailed rationale for your choice. There can be multiple correct answers.\n\nQuestion: Which are the best practices when intercropping crops?\n\nAnswer options:\nA. Intercrop maize with millet and sorghum\nB. Intercrop legumes such beans, cowpea, mung beans or pigeonpea with cereal crops like maize, sorghum or millets. However, pay attention to spacing to minimize competition\nC. Intercrop tall crop with similarly tall crops irrespective of the species\nD. Intercrop legumes such beans, cowpea, mung beans or pigeon pea with cereal crops like maize, sorghum or millets at close spacing to increase yield per unit\n\nYour response must follow this format exactly:\n\nCorrect answer: [OPTION(S)]\n\nRationale: [Not longer than 10 sentences]",
         "Correct answer: B\n\nRationale: Intercropping cereals with legumes exploits their complementary growth habits and the legumes’ ability to fix atmospheric nitrogen, improving soil fertility and overall yield. Proper spacing is crucial to reduce competition for light, water, and nutrients. Maize–millet or maize–sorghum mixtures (A) are all cereals and offer limited benefits compared to cereal–legume pairs. Intercropping similarly tall crops (C) ignores species complementarity and can exacerbate competition. Close spacing of legumes and cereals (D) often increases interspecific competition rather than yield per unit area unless carefully managed.",
         "B"
        ],
        [
         "14",
         "15",
         "You provide smallholder farmers in Kenya with agricultural advice and information. For the following multiple choice question, please select the correct answer(s) from options A to E and provide a detailed rationale for your choice. There can be multiple correct answers.\n\nQuestion: How do I compost crop residues to enhance soil fertility?\n\nAnswer options:\nA. Add organic matter to the compost pile, chop or shred crop residues, and turn regularly.\nB. Collect crop residues, chop/shred them to increase surface area, add a layer of organic matter such as animal manure or green materials in the compost pile, maintain proper moisture and aeration, and turn the compost regularly to support decomposition and aeration.\nC. Collect crop residues, turn them regularly, chop or shred them, and add organic matter to the compost\nD. Collect crop residues, add organic matter to the compost pile, chop or shred them, and turn regularly.\n\nYour response must follow this format exactly:\n\nCorrect answer: [OPTION(S)]\n\nRationale: [Not longer than 10 sentences]",
         "Correct answer: B\n\nRationale: Option B outlines the full set of best practices: it starts with collecting and shredding residues to boost surface area, adds nutrient-rich organic inputs (manure or green materials), emphasizes moisture control and aeration, and includes regular turning to speed decomposition and maintain oxygen levels. Other options mention some of these steps but omit key factors (moisture management and aeration) that are critical for efficient composting.",
         "B"
        ],
        [
         "15",
         "16",
         "You provide smallholder farmers in Kenya with agricultural advice and information. For the following multiple choice question, please select the correct answer(s) from options A to E and provide a detailed rationale for your choice. There can be multiple correct answers.\n\nQuestion: How do I create a simple farm budget for one season of maize farming?\n\nAnswer options:\nA. List only income from maize sales and ignore costs related to inputs, labor, and maintenance.\nB. Come up with a list of all activities to be undertaken, estimate the cost of production including inputs, labor. Estimate the expected yields and price per bag, subtract costs for inputs, labor, and land preparation, then determine the profit or loss.\nC. Record all expenses first and use any leftover funds for farm activities, regardless of income.\nD. Only calculate costs for seeds and fertilizer, as they are the only important expenses for maize farming.\n\nYour response must follow this format exactly:\n\nCorrect answer: [OPTION(S)]\n\nRationale: [Not longer than 10 sentences]",
         "Correct answer: B\n\nRationale:  \n1. A good farm budget lists every activity and input cost (seeds, fertilizer, labor, land preparation, etc.).  \n2. You then estimate your expected yield and the price per bag to calculate total revenue.  \n3. Subtracting total costs from total revenue gives you a clear picture of profit or loss.  \n4. This approach allows you to plan resource use and assess financial viability before planting.",
         "B"
        ],
        [
         "16",
         "17",
         "You provide smallholder farmers in Kenya with agricultural advice and information. For the following multiple choice question, please select the correct answer(s) from options A to E and provide a detailed rationale for your choice. There can be multiple correct answers.\n\nQuestion: How do I apply pesticide to ensure safety and effectiveness\n\nAnswer options:\nA. Mix the pesticide according to instructions, wear PPE, apply it on windy days, and clean equipment thoroughly.\nB. Wear appropriate PPE, mix the pesticide strictly according to label instructions, calibrate the spray equipment, apply during calm weather to prevent drift, avoid applying pesticides on peak heat periods, clean all equipment thoroughly after use, properly dispose the pesticide container.\nC. Wear PPE, apply pesticide on windy days, mix according to instructions, and clean equipment.\n\nYour response must follow this format exactly:\n\nCorrect answer: [OPTION(S)]\n\nRationale: [Not longer than 10 sentences]",
         "Correct answer: B\n\nRationale: B is the only option that follows label instructions fully and includes calibration of equipment, wearing of proper PPE, timing applications during calm weather to avoid drift and peak heat to prevent volatilization, thorough cleaning, and safe disposal of containers, all of which are critical for both safety and efficacy.",
         "B"
        ],
        [
         "17",
         "18",
         "You provide smallholder farmers in Kenya with agricultural advice and information. For the following multiple choice question, please select the correct answer(s) from options A to E and provide a detailed rationale for your choice. There can be multiple correct answers.\n\nQuestion: Which is the best practice in transplanting seedlings?\n\nAnswer options:\nA. Prepare the seedbed in advance to fine tilth; Seedling ought to be transplanted at the right stage; harden the seedlings by removing excess shade and reduce watering; on the day of transplanting, thoroughly irrigate the nursery to enable easy removal of the seedlings; transplant the seedlings onto well irrigated seed bed and place the roots carefully to avoid injury. The best time to transplant is late in the evening when it’s cool\nB. Prepare the seedbed in advance to fine tilth; Seedling can be transplanted at any time of the day depending on one’s convenience. Seedling ought to be transplanted at the right stage; harden the seedlings by removing excess shade and reduce watering; on the day of transplanting, thoroughly irrigate the nursery to enable easy removal of the seedlings; transplant the seedlings onto well irrigated seed bed and place the roots carefully to avoid injury.\nC. Prepare the seedbed in advance to fine tilth; Seedling ought to be transplanted at the right stage; on the day of transplanting, thoroughly irrigate the nursery to enable easy removal of the seedlings; transplant the seedlings onto well irrigated seed bed and place the roots carefully to avoid injury. The best time to transplant is late in the evening when it’s cool\nD. Prepare the seedbed in advance to fine tilth; Seedling can be transplanted irrespective of their stage of development; harden the seedlings by removing excess shade and reduce watering; on the day of transplanting, thoroughly irrigate the nursery to enable easy removal of the seedlings; transplant the seedlings onto well irrigated seed bed and place the roots carefully to avoid injury. The best time to transplant is late in the evening when it’s cool\n\nYour response must follow this format exactly:\n\nCorrect answer: [OPTION(S)]\n\nRationale: [Not longer than 10 sentences]",
         "Correct answer: A\n\nRationale:  \n1. Seedlings should be hardened off (reduced shade, reduced watering) before moving.  \n2. Transplanting at the right developmental stage reduces shock and loss.  \n3. Pre-irrigating the nursery loosens soil and eases lifting of plugs or seedlings.  \n4. Transplant beds must be well watered and roots handled gently to avoid damage.  \n5. Late-evening or cool-period transplanting minimizes heat stress and wilting.",
         "A"
        ]
       ],
       "shape": {
        "columns": 4,
        "rows": 18
       }
      },
      "text/html": [
       "<div>\n",
       "<style scoped>\n",
       "    .dataframe tbody tr th:only-of-type {\n",
       "        vertical-align: middle;\n",
       "    }\n",
       "\n",
       "    .dataframe tbody tr th {\n",
       "        vertical-align: top;\n",
       "    }\n",
       "\n",
       "    .dataframe thead th {\n",
       "        text-align: right;\n",
       "    }\n",
       "</style>\n",
       "<table border=\"1\" class=\"dataframe\">\n",
       "  <thead>\n",
       "    <tr style=\"text-align: right;\">\n",
       "      <th></th>\n",
       "      <th>question_id</th>\n",
       "      <th>prompt</th>\n",
       "      <th>answer</th>\n",
       "      <th>correct_answer</th>\n",
       "    </tr>\n",
       "  </thead>\n",
       "  <tbody>\n",
       "    <tr>\n",
       "      <th>0</th>\n",
       "      <td>1</td>\n",
       "      <td>You provide smallholder farmers in Kenya with ...</td>\n",
       "      <td>Correct answer: A\\n\\nRationale:  \\n1. Rapid co...</td>\n",
       "      <td>A</td>\n",
       "    </tr>\n",
       "    <tr>\n",
       "      <th>1</th>\n",
       "      <td>2</td>\n",
       "      <td>You provide smallholder farmers in Kenya with ...</td>\n",
       "      <td>Correct answer: A, B\\n\\nRationale:  \\n1. Optio...</td>\n",
       "      <td>A</td>\n",
       "    </tr>\n",
       "    <tr>\n",
       "      <th>2</th>\n",
       "      <td>3</td>\n",
       "      <td>You provide smallholder farmers in Kenya with ...</td>\n",
       "      <td>Correct answer: A\\n\\nRationale:  \\n1. Proper c...</td>\n",
       "      <td>A</td>\n",
       "    </tr>\n",
       "    <tr>\n",
       "      <th>3</th>\n",
       "      <td>4</td>\n",
       "      <td>You provide smallholder farmers in Kenya with ...</td>\n",
       "      <td>Correct answer: A\\n\\nRationale:  \\n1. Onions s...</td>\n",
       "      <td>A</td>\n",
       "    </tr>\n",
       "    <tr>\n",
       "      <th>4</th>\n",
       "      <td>5</td>\n",
       "      <td>You provide smallholder farmers in Kenya with ...</td>\n",
       "      <td>Correct answer: C\\n\\nRationale:  \\n1. You shou...</td>\n",
       "      <td>C</td>\n",
       "    </tr>\n",
       "    <tr>\n",
       "      <th>5</th>\n",
       "      <td>6</td>\n",
       "      <td>You provide smallholder farmers in Kenya with ...</td>\n",
       "      <td>Correct answer: C\\n\\nRationale: Composting ani...</td>\n",
       "      <td>C</td>\n",
       "    </tr>\n",
       "    <tr>\n",
       "      <th>6</th>\n",
       "      <td>7</td>\n",
       "      <td>You provide smallholder farmers in Kenya with ...</td>\n",
       "      <td>Correct answer: B, D\\n\\nRationale:\\n1. You mus...</td>\n",
       "      <td>D</td>\n",
       "    </tr>\n",
       "    <tr>\n",
       "      <th>7</th>\n",
       "      <td>8</td>\n",
       "      <td>You provide smallholder farmers in Kenya with ...</td>\n",
       "      <td>Correct answer: D\\n\\nRationale:  \\n1. Proper t...</td>\n",
       "      <td>D</td>\n",
       "    </tr>\n",
       "    <tr>\n",
       "      <th>8</th>\n",
       "      <td>9</td>\n",
       "      <td>You provide smallholder farmers in Kenya with ...</td>\n",
       "      <td>Correct answer: A, C\\n\\nRationale:  \\n1. Both ...</td>\n",
       "      <td>C</td>\n",
       "    </tr>\n",
       "    <tr>\n",
       "      <th>9</th>\n",
       "      <td>10</td>\n",
       "      <td>You provide smallholder farmers in Kenya with ...</td>\n",
       "      <td>Correct answer: B\\n\\nRationale:  \\n1. Effectiv...</td>\n",
       "      <td>B</td>\n",
       "    </tr>\n",
       "    <tr>\n",
       "      <th>10</th>\n",
       "      <td>11</td>\n",
       "      <td>You provide smallholder farmers in Kenya with ...</td>\n",
       "      <td>Correct answer: A\\n\\nRationale:  \\n1. DH01, DH...</td>\n",
       "      <td>B</td>\n",
       "    </tr>\n",
       "    <tr>\n",
       "      <th>11</th>\n",
       "      <td>12</td>\n",
       "      <td>You provide smallholder farmers in Kenya with ...</td>\n",
       "      <td>Correct answer: A\\n\\nRationale:  \\n1. Early mo...</td>\n",
       "      <td>A</td>\n",
       "    </tr>\n",
       "    <tr>\n",
       "      <th>12</th>\n",
       "      <td>13</td>\n",
       "      <td>You provide smallholder farmers in Kenya with ...</td>\n",
       "      <td>Correct answer: C\\n\\nRationale: Cold stress in...</td>\n",
       "      <td>D</td>\n",
       "    </tr>\n",
       "    <tr>\n",
       "      <th>13</th>\n",
       "      <td>14</td>\n",
       "      <td>You provide smallholder farmers in Kenya with ...</td>\n",
       "      <td>Correct answer: B\\n\\nRationale: Intercropping ...</td>\n",
       "      <td>B</td>\n",
       "    </tr>\n",
       "    <tr>\n",
       "      <th>14</th>\n",
       "      <td>15</td>\n",
       "      <td>You provide smallholder farmers in Kenya with ...</td>\n",
       "      <td>Correct answer: B\\n\\nRationale: Option B outli...</td>\n",
       "      <td>B</td>\n",
       "    </tr>\n",
       "    <tr>\n",
       "      <th>15</th>\n",
       "      <td>16</td>\n",
       "      <td>You provide smallholder farmers in Kenya with ...</td>\n",
       "      <td>Correct answer: B\\n\\nRationale:  \\n1. A good f...</td>\n",
       "      <td>B</td>\n",
       "    </tr>\n",
       "    <tr>\n",
       "      <th>16</th>\n",
       "      <td>17</td>\n",
       "      <td>You provide smallholder farmers in Kenya with ...</td>\n",
       "      <td>Correct answer: B\\n\\nRationale: B is the only ...</td>\n",
       "      <td>B</td>\n",
       "    </tr>\n",
       "    <tr>\n",
       "      <th>17</th>\n",
       "      <td>18</td>\n",
       "      <td>You provide smallholder farmers in Kenya with ...</td>\n",
       "      <td>Correct answer: A\\n\\nRationale:  \\n1. Seedling...</td>\n",
       "      <td>A</td>\n",
       "    </tr>\n",
       "  </tbody>\n",
       "</table>\n",
       "</div>"
      ],
      "text/plain": [
       "    question_id                                             prompt  \\\n",
       "0             1  You provide smallholder farmers in Kenya with ...   \n",
       "1             2  You provide smallholder farmers in Kenya with ...   \n",
       "2             3  You provide smallholder farmers in Kenya with ...   \n",
       "3             4  You provide smallholder farmers in Kenya with ...   \n",
       "4             5  You provide smallholder farmers in Kenya with ...   \n",
       "5             6  You provide smallholder farmers in Kenya with ...   \n",
       "6             7  You provide smallholder farmers in Kenya with ...   \n",
       "7             8  You provide smallholder farmers in Kenya with ...   \n",
       "8             9  You provide smallholder farmers in Kenya with ...   \n",
       "9            10  You provide smallholder farmers in Kenya with ...   \n",
       "10           11  You provide smallholder farmers in Kenya with ...   \n",
       "11           12  You provide smallholder farmers in Kenya with ...   \n",
       "12           13  You provide smallholder farmers in Kenya with ...   \n",
       "13           14  You provide smallholder farmers in Kenya with ...   \n",
       "14           15  You provide smallholder farmers in Kenya with ...   \n",
       "15           16  You provide smallholder farmers in Kenya with ...   \n",
       "16           17  You provide smallholder farmers in Kenya with ...   \n",
       "17           18  You provide smallholder farmers in Kenya with ...   \n",
       "\n",
       "                                               answer correct_answer  \n",
       "0   Correct answer: A\\n\\nRationale:  \\n1. Rapid co...              A  \n",
       "1   Correct answer: A, B\\n\\nRationale:  \\n1. Optio...              A  \n",
       "2   Correct answer: A\\n\\nRationale:  \\n1. Proper c...              A  \n",
       "3   Correct answer: A\\n\\nRationale:  \\n1. Onions s...              A  \n",
       "4   Correct answer: C\\n\\nRationale:  \\n1. You shou...              C  \n",
       "5   Correct answer: C\\n\\nRationale: Composting ani...              C  \n",
       "6   Correct answer: B, D\\n\\nRationale:\\n1. You mus...              D  \n",
       "7   Correct answer: D\\n\\nRationale:  \\n1. Proper t...              D  \n",
       "8   Correct answer: A, C\\n\\nRationale:  \\n1. Both ...              C  \n",
       "9   Correct answer: B\\n\\nRationale:  \\n1. Effectiv...              B  \n",
       "10  Correct answer: A\\n\\nRationale:  \\n1. DH01, DH...              B  \n",
       "11  Correct answer: A\\n\\nRationale:  \\n1. Early mo...              A  \n",
       "12  Correct answer: C\\n\\nRationale: Cold stress in...              D  \n",
       "13  Correct answer: B\\n\\nRationale: Intercropping ...              B  \n",
       "14  Correct answer: B\\n\\nRationale: Option B outli...              B  \n",
       "15  Correct answer: B\\n\\nRationale:  \\n1. A good f...              B  \n",
       "16  Correct answer: B\\n\\nRationale: B is the only ...              B  \n",
       "17  Correct answer: A\\n\\nRationale:  \\n1. Seedling...              A  "
      ]
     },
     "execution_count": 17,
     "metadata": {},
     "output_type": "execute_result"
    }
   ],
   "source": [
    "o4_mini_df"
   ]
  },
  {
   "cell_type": "markdown",
   "metadata": {},
   "source": [
    "# Anthropic"
   ]
  },
  {
   "cell_type": "code",
   "execution_count": 18,
   "metadata": {},
   "outputs": [
    {
     "name": "stdout",
     "output_type": "stream",
     "text": [
      "Saving results to results/20_harder_MCQs-anthropic-claude-3-5-sonnet-20241022.csv\n"
     ]
    }
   ],
   "source": [
    "claude_3_5_df = get_llm_answers(mcq_df, \"anthropic/claude-3-5-sonnet-20241022\", country)"
   ]
  },
  {
   "cell_type": "code",
   "execution_count": 19,
   "metadata": {},
   "outputs": [
    {
     "data": {
      "application/vnd.microsoft.datawrangler.viewer.v0+json": {
       "columns": [
        {
         "name": "index",
         "rawType": "int64",
         "type": "integer"
        },
        {
         "name": "question_id",
         "rawType": "int64",
         "type": "integer"
        },
        {
         "name": "prompt",
         "rawType": "object",
         "type": "string"
        },
        {
         "name": "answer",
         "rawType": "object",
         "type": "string"
        },
        {
         "name": "correct_answer",
         "rawType": "object",
         "type": "string"
        }
       ],
       "ref": "ee3e228b-1228-478c-a6ab-7a7cf2335361",
       "rows": [
        [
         "0",
         "1",
         "You provide smallholder farmers in Kenya with agricultural advice and information. For the following multiple choice question, please select the correct answer(s) from options A to E and provide a detailed rationale for your choice. There can be multiple correct answers.\n\nQuestion: How do I, in the shortest duration and cost effectively correct for nutrient deficiency in my farm?\n\nAnswer options:\nA. Test soil for nutrient deficiency or perform visual observations of the crop to diagnose the deficiency; get the right source of fertilizer to replenish the deficiency; apply the right rate of the fertilizer that would sufficiently correct the deficiency; apply the fertilizer at the right stage of the crop to maximize uptake and use…remember to apply when soil is moist; place the fertilizer close to the plant root zone but not too close to avoid scotching\nB. Test soil for nutrient deficiency or perform visual observations of the crop to diagnose the deficiency; apply well rotten manure; apply the right rate of the manure that would sufficiently correct the deficiency; apply the manure at the right stage of the crop to maximize uptake and use…remember to apply when soil is moist; place the manure close to the plant root zone but not too close to avoid scotching\nC. Apply fertilizer at the right rate, and the right stage of the crop; place the fertilizer close to the root system\n\nYour response must follow this format exactly:\n\nCorrect answer: [OPTION(S)]\n\nRationale: [Not longer than 10 sentences]",
         "Correct answer: A\n\nRationale: Option A provides the most comprehensive and scientifically sound approach to correcting nutrient deficiency quickly and cost-effectively. It starts with proper diagnosis through soil testing or visual observation, which prevents wastage of resources by identifying the specific deficiency. The emphasis on using the right source of fertilizer ensures that the exact nutrient gap is addressed, rather than applying unnecessary nutrients. The approach includes the \"4R\" principles of nutrient stewardship (Right source, Right rate, Right time, Right place), which maximizes efficiency and minimizes waste. Option B relies solely on manure, which may not provide nutrients quickly enough or in sufficient quantities to address acute deficiencies. Option C lacks the crucial diagnostic step and doesn't specify the right type of fertilizer needed, which could lead to inefficient use of resources and potential waste of money.",
         "A"
        ],
        [
         "1",
         "2",
         "You provide smallholder farmers in Kenya with agricultural advice and information. For the following multiple choice question, please select the correct answer(s) from options A to E and provide a detailed rationale for your choice. There can be multiple correct answers.\n\nQuestion: How do I implement integrated pest management (IPM) on a farm?\n\nAnswer options:\nA. Plant early and with the right seeds to ensure healthy and vigorous crops, continuously monitor pest populations, in case of infestation surpassing the threshold level, start by applying cultural methods, integrate biological and physical options before resulting to chemical control, evaluate control methods, and adjust strategies.\nB. Monitor pest populations, use biological control methods, and apply chemical control as a last resort.\nC. Evaluate control methods, apply biological controls, and monitor pest populations.\nD. Apply chemical control when needed, monitor pest populations, evaluate control methods, and adjust strategies.\n\nYour response must follow this format exactly:\n\nCorrect answer: [OPTION(S)]\n\nRationale: [Not longer than 10 sentences]",
         "Correct answer: A\n\nRationale: Option A is the most comprehensive and accurate description of implementing IPM, following the key principles and steps in the correct order. It starts with prevention through proper planting practices, emphasizes continuous monitoring, and follows a hierarchical approach to pest control methods. The response demonstrates the integration of multiple control tactics, starting with cultural methods (least harmful), followed by biological and physical controls, with chemical controls as a last resort. Options B, C, and D only partially address IPM components and miss critical elements such as prevention, proper planning, and the systematic progression from less harmful to more intensive control methods. Most importantly, they don't emphasize the \"integrated\" nature of IPM, which requires combining multiple control strategies in a coordinated manner. They also skip the crucial initial step of prevention through proper agricultural practices.",
         "A"
        ],
        [
         "2",
         "3",
         "You provide smallholder farmers in Kenya with agricultural advice and information. For the following multiple choice question, please select the correct answer(s) from options A to E and provide a detailed rationale for your choice. There can be multiple correct answers.\n\nQuestion: How do I calibrate a knapsack sprayer to ensure accurate pesticide application?\n\nAnswer options:\nA. Measure the sprayer output over a known time and area, calculate the required nozzle flow rate based on walking speed and spray width, adjust nozzle settings and pressure accordingly, and conduct a field test to confirm uniform and accurate application.\nB. Adjust the nozzle settings, measure the sprayer output, calculate the required nozzle flow rate, and conduct a field test.\nC. Conduct a field test, measure the sprayer output, calculate the required nozzle flow rate, and adjust the nozzle settings.\nD. Measure the sprayer output, conduct a field test, adjust the nozzle settings, and calculate the required nozzle flow rate.\n\nYour response must follow this format exactly:\n\nCorrect answer: [OPTION(S)]\n\nRationale: [Not longer than 10 sentences]",
         "Correct answer: A\n\nRationale: Option A provides the most complete and logical sequence for calibrating a knapsack sprayer. Starting with measuring the sprayer output over a known time and area establishes the baseline performance. Calculating the required nozzle flow rate based on walking speed and spray width is crucial because these factors directly affect coverage and application rate. Adjusting nozzle settings and pressure helps achieve the target application rate. The final field test confirms that all adjustments result in uniform and accurate application. The other options (B, C, and D) miss critical steps and present the calibration steps in an incorrect order that would not lead to accurate calibration. Proper calibration is essential because it ensures effective pest control while preventing wastage of expensive pesticides and reducing environmental impact. This systematic approach helps smallholder farmers achieve optimal results while maintaining safety standards.",
         "A"
        ],
        [
         "3",
         "4",
         "You provide smallholder farmers in Kenya with agricultural advice and information. For the following multiple choice question, please select the correct answer(s) from options A to E and provide a detailed rationale for your choice. There can be multiple correct answers.\n\nQuestion: What is the right procedure to harvest onions?\n\nAnswer options:\nA. Harvest during the dry season, at about 90-150 after planting depending on the variety. The crop must be mature by observing that the tops have started to yellow or droop, and the bulbs will have formed shing membranous cover around them. To harvest, loosen the soil around the plants to allow for easier removal. Pull the bulbs by hand or dig them up with garden fork. Once the bulbs are out of the ground, cut the tops back to about one inch. Clean the bulbs and let them dry in the sun to cure (dry out) before storing. If long storage is intended, cure the bulbs in a well-ventilated store by spreading on racks until the necks and outer scale leaves of the bulbs are thoroughly dried.\nB. Harvest during the wet season, at about 90-150 after planting depending on the variety. The crop must be mature by observing that the tops have started to yellow or droop, and the bulbs will have formed shing membranous cover around them. To harvest, loosen the soil around the plants to allow for easier removal. Pull the bulbs by hand or dig them up with garden fork. Once the bulbs are out of the ground, cut the tops back to about one inch. Clean the bulbs and let them dry in the sun to cure (dry out) before storing. If long storage is intended, cure the bulbs in a well-ventilated store by spreading on racks until the necks and outer scale leaves of the bulbs are thoroughly dried.\nC. Harvest at about 90-150 after planting depending on the variety. The crop must be mature by observing that the tops have started to yellow or droop, and the bulbs will have formed shing membranous cover around them. To harvest, loosen the soil around the plants to allow for easier removal. Pull the bulbs by hand or dig them up with garden fork. Clean the bulbs and let them dry in the sun to cure (dry out) before storing. If long storage is intended, cure the bulbs in a well-ventilated store by spreading on racks until the necks and outer scale leaves of the bulbs are thoroughly dried.\nD. Harvest during the dry season, at about 90-150 after planting depending on the variety. To harvest, loosen the soil around the plants to allow for easier removal. Pull the bulbs by hand or dig them up with garden fork. Once the bulbs are out of the ground, cut the tops back to about one inch. Clean the bulbs and let them dry in the sun to cure (dry out) before storing. If long storage is intended, cure the bulbs in a well-ventilated store by spreading on racks until the necks and outer scale leaves of the bulbs are thoroughly dried.\n\nYour response must follow this format exactly:\n\nCorrect answer: [OPTION(S)]\n\nRationale: [Not longer than 10 sentences]",
         "Correct answer: A\n\nRationale: Option A provides the most complete and accurate procedure for harvesting onions. The key points that make it correct are: harvesting should be done in dry season to prevent rotting; the 90-150 day maturity period is accurate; proper maturity indicators (yellowing/drooping tops and membranous cover) are mentioned; the step-by-step harvesting process is complete (loosening soil, pulling/digging bulbs, cutting tops to one inch); and proper post-harvest handling (cleaning, sun-drying, and curing in well-ventilated storage) is included. Option B is incorrect because harvesting during wet season can lead to rotting. Option C omits the important detail about dry season harvesting and cutting tops. Option D lacks the crucial maturity indicators that farmers need to identify the right harvesting time.",
         "A"
        ],
        [
         "4",
         "5",
         "You provide smallholder farmers in Kenya with agricultural advice and information. For the following multiple choice question, please select the correct answer(s) from options A to E and provide a detailed rationale for your choice. There can be multiple correct answers.\n\nQuestion: How should I wear PPE?\n\nAnswer options:\nA. Put on overall/coveralls first, then gloves, mask, and finish with the face shield\nB. Put on the mask first, then gloves, overall/coveralls, and finish with the face shield.\nC. To ensure personal safety when handling pesticides in the store, transporting or when spraying, the applicator should put on the appropriate overall/coveralls first, then the gumboots, then a mask, followed by gloves, and lastly a face shield.\nD. Put on gloves, then a face shield, followed by overall/coveralls, and finally a mask.\n\nYour response must follow this format exactly:\n\nCorrect answer: [OPTION(S)]\n\nRationale: [Not longer than 10 sentences]",
         "Correct answer: C\n\nRationale: The correct sequence for putting on Personal Protective Equipment (PPE) is critical for maximum protection when handling agricultural chemicals. Starting with overall/coveralls is important as they protect the main body and clothing from contamination. Gumboots should be put on next to protect the feet and are easier to put on before gloves. The mask comes third to protect from inhalation of harmful substances. Gloves are worn after the mask to avoid touching the face with contaminated gloves during mask adjustment. The face shield comes last as it covers other PPE and provides an additional layer of protection for the face and eyes. This sequence ensures that each piece of protective equipment functions effectively without interfering with the others and minimizes the risk of exposure to harmful substances.",
         "C"
        ],
        [
         "5",
         "6",
         "You provide smallholder farmers in Kenya with agricultural advice and information. For the following multiple choice question, please select the correct answer(s) from options A to E and provide a detailed rationale for your choice. There can be multiple correct answers.\n\nQuestion: How do I use animal waste management on a mixed crop-livestock farm?\n\nAnswer options:\nA. Collect animal waste and dump it directly onto crop fields.\nB. Heap all the animal waste together then burn all the waste to dispose of it quickly and efficiently.\nC. Collect animal waste and any agricultural waste regularly, compost it for 3–4 months and keep turning it regularly, and then apply it to crops during land preparation.\nD. Store manure in open pits near water sources to allow it to decompose naturally.\n\nYour response must follow this format exactly:\n\nCorrect answer: [OPTION(S)]\n\nRationale: [Not longer than 10 sentences]",
         "Correct answer: C\n\nRationale: Option C represents the most sustainable and beneficial approach to animal waste management on a mixed farm. Proper composting of animal waste for 3-4 months allows beneficial microorganisms to break down the organic matter, kill harmful pathogens, and create nutrient-rich compost that improves soil fertility. Regular turning of the compost pile ensures proper aeration and faster decomposition. Option A is incorrect as raw manure can burn crops and may contain pathogens. Option B is wasteful and destroys valuable nutrients through burning. Option D is environmentally harmful as it risks contaminating water sources and can create public health hazards. Proper composting also helps reduce greenhouse gas emissions compared to poor manure management practices and provides a free, organic source of nutrients for crops.",
         "C"
        ],
        [
         "6",
         "7",
         "You provide smallholder farmers in Kenya with agricultural advice and information. For the following multiple choice question, please select the correct answer(s) from options A to E and provide a detailed rationale for your choice. There can be multiple correct answers.\n\nQuestion: How do I determine the seed rate required for planting on a farm?\n\nAnswer options:\nA. Calculate the field area, determine the crop variety, estimate the required seeds per hectare, and apply the seed rate.\nB. Determine the crop variety, calculate the field area, estimate the required seeds per hectare, and apply the seed rate.\nC. Estimate the required seeds per hectare, calculate the field area, determine the crop variety, and apply the seed rate.\nD. Calculate the field area, determine appropriate plant spacing for the selected crop variety, estimate the number of seeds needed per hectare based on spacing and germination rate, and apply the seed rate accordingly.\n\nYour response must follow this format exactly:\n\nCorrect answer: [OPTION(S)]\n\nRationale: [Not longer than 10 sentences]",
         "Correct answer: D\n\nRationale: The most comprehensive and accurate approach to determining seed rate is option D. First, measuring the exact field area is crucial as it serves as the foundation for all subsequent calculations. Then, identifying the appropriate plant spacing for the specific crop variety is essential since different crops and varieties have different optimal spacing requirements for maximum yield. The germination rate must be considered when calculating seeds needed per hectare, as not all seeds will successfully germinate - typically requiring additional seeds to compensate for this. Finally, applying the calculated seed rate ensures optimal plant population density. This systematic approach accounts for all critical factors: area, crop-specific requirements, spacing, and germination rates, leading to efficient use of seeds and optimal crop establishment.",
         "D"
        ],
        [
         "7",
         "8",
         "You provide smallholder farmers in Kenya with agricultural advice and information. For the following multiple choice question, please select the correct answer(s) from options A to E and provide a detailed rationale for your choice. There can be multiple correct answers.\n\nQuestion: Last year I experienced significant losses in my stored maize grain. How do I handle my grain to minimize these losses?\n\nAnswer options:\nA. Harvest the crop when the leaves are dry. Thresh the grain either manually or mechanically but avoid seed breakage. Mix the grain with an insecticide (grain dust) at the recommended rate. Put the treated grain in gunny bags ready storage. Alternatively, you can put dry grain in hermetic without treating with insecticide. Clean the store, and dust it with insecticides before storing the bags. Ensure the store is well ventilated, and free from rodents, and stack the bags on pallets and in a way that ventilation is maximized.\nB. Harvest during the dry season, and importantly when maize is physiologically mature. Dry the harvested cobs under the until the moisture content is reduced to about 13%. You can estimate that the grain is dry by doing simple tests like salt test or biting test. Thresh the grain either manually or mechanically but avoid seed breakage. Mix the grain with an insecticide (grain dust) at the recommended rate. Put the treated grain in gunny bags ready storage. Alternatively, you can put dry grain in hermetic without treating with insecticide. Clean the store, and dust it with insecticides before storing the bags.\nC. Harvest during the dry season, and importantly when maize is physiologically mature. Thresh the grain either manually or mechanically but avoid seed breakage. Mix the grain with an insecticide (grain dust) at the recommended rate. Put the treated grain in gunny bags ready storage. Alternatively, you can put dry grain in hermetic without treating with insecticide. Clean the store, and dust it with insecticides before storing the bags. Ensure the store is well ventilated, and free from rodents, and stack the bags on pallets and in a way that ventilation is maximized.\nD. Harvest during the dry season, and importantly when maize is physiologically mature. Dry the harvested cobs under the until the moisture content is reduced to about 13%. You can estimate that the grain is dry by doing simple tests like salt test or biting test. Thresh the grain either manually or mechanically but avoid seed breakage. Mix the grain with an insecticide (grain dust) at the recommended rate. Put the treated grain in gunny bags ready storage. Alternatively, you can put dry grain in hermetic without treating with insecticide. Clean the store, and dust it with insecticides before storing the bags. Ensure the store is well ventilated, and free from rodents, and stack the bags on pallets and in a way that ventilation is maximized.\n\nYour response must follow this format exactly:\n\nCorrect answer: [OPTION(S)]\n\nRationale: [Not longer than 10 sentences]",
         "Correct answer: D\n\nRationale: Option D is the most comprehensive and correct approach to minimizing post-harvest losses in stored maize. It covers all critical steps in the proper sequence: harvesting at physiological maturity during dry season, proper drying to 13% moisture content (which is crucial for safe storage), verification of dryness through practical tests, careful threshing to maintain grain quality, proper treatment with insecticides or use of hermetic storage, and appropriate storage conditions. The other options miss critical steps: Option A omits the important drying process and moisture content checking; Option B lacks information about proper storage conditions like ventilation and pallets; Option C misses the crucial drying step which is essential to prevent mold growth and aflatoxin contamination. Having well-ventilated stores with pallets is essential as it prevents moisture build-up from the ground and allows air circulation, while proper stacking enables easy inspection and monitoring of the stored grain.",
         "D"
        ],
        [
         "8",
         "9",
         "You provide smallholder farmers in Kenya with agricultural advice and information. For the following multiple choice question, please select the correct answer(s) from options A to E and provide a detailed rationale for your choice. There can be multiple correct answers.\n\nQuestion: How do I make organic fertilizer from animal manure?\n\nAnswer options:\nA. Collect manure, compost it, apply the compost to the soil, and monitor soil quality.\nB. Collect manure, store it for several weeks, compost it, and apply it to the soil.\nC. Collect fresh animal manure, mix it with carbon-rich organic materials (like crop residues or dry leaves) to balance the carbon-to-nitrogen ratio, maintain adequate moisture and aeration during composting by turning the pile regularly, and apply the mature compost to the soil.\n\nYour response must follow this format exactly:\n\nCorrect answer: [OPTION(S)]\n\nRationale: [Not longer than 10 sentences]",
         "Correct answer: C\n\nRationale: Option C is the most complete and scientifically accurate method for making organic fertilizer from animal manure. Fresh manure alone (Option A) or simply storing manure (Option B) is insufficient, as proper composting requires balancing the carbon-to-nitrogen ratio by adding carbon-rich materials. The composting process needs adequate moisture (40-60%) and regular turning for aeration to support beneficial microorganisms that break down the organic matter. These specific conditions help kill harmful pathogens, reduce odors, and create a stable, nutrient-rich end product. The turning process also prevents the compost from becoming too compact or anaerobic, which could lead to harmful emissions and poor decomposition. This method transforms raw manure into a safe, valuable soil amendment that improves soil structure, adds nutrients gradually, and promotes healthy plant growth.",
         "C"
        ],
        [
         "9",
         "10",
         "You provide smallholder farmers in Kenya with agricultural advice and information. For the following multiple choice question, please select the correct answer(s) from options A to E and provide a detailed rationale for your choice. There can be multiple correct answers.\n\nQuestion: What is the best weed control strategy on a farm?\n\nAnswer options:\nA. Use mechanical control methods, apply herbicides, monitor weed growth, and evaluate alternatives.\nB. First identify the weed species in your farm, use mechanical control methods e.g uprooting or manual weeding, monitor weed growth rate, and evaluate alternatives whether it requires use of herbicides to manage its growth and competition.\nC. Identify weed species, apply chemical herbicides, monitor the effectiveness, and evaluate alternatives.\nD. Apply herbicides, use mechanical control, monitor effectiveness, and evaluate alternatives.\n\nYour response must follow this format exactly:\n\nCorrect answer: [OPTION(S)]\n\nRationale: [Not longer than 10 sentences]",
         "Correct answer: B\n\nRationale: Option B represents the most comprehensive and systematic approach to weed control that follows Integrated Weed Management (IWM) principles. It starts with the crucial step of weed identification, which helps farmers understand what they're dealing with and choose appropriate control methods. Beginning with mechanical control methods is environmentally friendly and cost-effective for smallholder farmers, especially in Kenya where many farmers have limited resources. The monitoring component helps farmers track the effectiveness of their control methods and make adjustments as needed. The evaluation step, including considering herbicides as a last resort, demonstrates a sustainable approach that considers both environmental and economic factors. This option also follows the principle of using chemicals only when necessary, which helps prevent herbicide resistance and reduces environmental impact while keeping costs down for smallholder farmers.",
         "B"
        ],
        [
         "10",
         "11",
         "You provide smallholder farmers in Kenya with agricultural advice and information. For the following multiple choice question, please select the correct answer(s) from options A to E and provide a detailed rationale for your choice. There can be multiple correct answers.\n\nQuestion: Which maize varieties are suitable lowlands of Kenya\n\nAnswer options:\nA. DH01, DH02, DH05, Duma 43, H6213, H519\nB. DH01, DH02, DH05, Duma 43, Sungura 301\nC. H627, H6213, DH01, DH02, DH05, Duma 43, H6213, H519\nD. H512, H511, D01, DH02, DH05, Duma 43, H6213, H519\n\nYour response must follow this format exactly:\n\nCorrect answer: [OPTION(S)]\n\nRationale: [Not longer than 10 sentences]",
         "Correct answer: B\n\nRationale: The maize varieties DH01, DH02, DH05, Duma 43, and Sungura 301 are specifically bred and recommended for Kenya's lowland areas, which are characterized by lower rainfall, higher temperatures, and elevations below 1,000 meters above sea level. These varieties are drought-tolerant and early-maturing, making them well-suited for the challenging growing conditions in lowland regions. They typically mature within 90-120 days, which helps farmers avoid crop failure during short rainy seasons. Varieties like H627, H6213, and H519 are actually better suited for medium to high altitude areas and would not perform optimally in lowland conditions. The DH series (DH01, DH02, DH05) and Duma 43 are particularly popular in coastal regions and other lowland areas because they can withstand heat stress and produce reasonable yields even under moisture stress conditions. Sungura 301 is specifically developed for lowland ecology and has good resistance to common lowland pests and diseases.",
         "B"
        ],
        [
         "11",
         "12",
         "You provide smallholder farmers in Kenya with agricultural advice and information. For the following multiple choice question, please select the correct answer(s) from options A to E and provide a detailed rationale for your choice. There can be multiple correct answers.\n\nQuestion: Which is the most optimal time to apply pesticides?\n\nAnswer options:\nA. Spray either early in the morning or late in the evening when it’s cool, and the pests are active\nB. Spray when its sunny, hot, windy, and insects are visible on the crop\nC. Spray the pesticide directly towards the wind\nD. Spray immediately before or after heavy rainfall\n\nYour response must follow this format exactly:\n\nCorrect answer: [OPTION(S)]\n\nRationale: [Not longer than 10 sentences]",
         "Correct answer: A\n\nRationale: Early morning or late evening spraying is optimal for several key reasons. During these times, temperatures are cooler which reduces pesticide evaporation and drift, ensuring better coverage and absorption by the plants. Wind conditions are typically calmer during these periods, allowing for more precise application and reducing the risk of spray drift to non-target areas. Many pests are also most active during these times, making the pesticide more effective at controlling them. Hot, sunny conditions (Option B) cause rapid evaporation and degradation of chemicals, while windy conditions cause wastage and uneven distribution. Spraying into the wind (Option C) is dangerous as it can blow back onto the operator. Spraying before or after heavy rainfall (Option D) is ineffective as rain will wash away the pesticide before it can work, wasting both product and money. Additionally, early morning or evening application minimizes exposure risk to beneficial insects like bees that are most active during mid-day.",
         "A"
        ],
        [
         "12",
         "13",
         "You provide smallholder farmers in Kenya with agricultural advice and information. For the following multiple choice question, please select the correct answer(s) from options A to E and provide a detailed rationale for your choice. There can be multiple correct answers.\n\nQuestion: Which diseases should I look out for during cold weather in poultry?\n\nAnswer options:\nA. Newcastle disease, fowl cholera, coccidiosis\nB. Fowl cholera, coccidiosis, aspergillosis and respiratory distress\nC. Aspergillosis, fowlpox, infectious coryza, pneumonia\nD. Pneumonia, coccidiosis, and respiratory distress\n\nYour response must follow this format exactly:\n\nCorrect answer: [OPTION(S)]\n\nRationale: [Not longer than 10 sentences]",
         "Correct answer: B\n\nRationale: Cold weather creates favorable conditions for several poultry diseases, particularly those affecting the respiratory system. Fowl cholera thrives in cold, damp conditions and can spread rapidly through flocks. Coccidiosis becomes more problematic as birds spend more time in confined, humid spaces during cold weather, leading to wet litter conditions that promote parasite survival. Aspergillosis, a fungal infection, is especially common during cold weather when ventilation is reduced and humidity increases inside poultry houses. Respiratory distress is a common occurrence during cold weather due to ammonia build-up from poor ventilation and the birds' increased susceptibility to respiratory infections. These diseases together represent the most common and serious health challenges for poultry during cold weather periods in Kenya.",
         "D"
        ],
        [
         "13",
         "14",
         "You provide smallholder farmers in Kenya with agricultural advice and information. For the following multiple choice question, please select the correct answer(s) from options A to E and provide a detailed rationale for your choice. There can be multiple correct answers.\n\nQuestion: Which are the best practices when intercropping crops?\n\nAnswer options:\nA. Intercrop maize with millet and sorghum\nB. Intercrop legumes such beans, cowpea, mung beans or pigeonpea with cereal crops like maize, sorghum or millets. However, pay attention to spacing to minimize competition\nC. Intercrop tall crop with similarly tall crops irrespective of the species\nD. Intercrop legumes such beans, cowpea, mung beans or pigeon pea with cereal crops like maize, sorghum or millets at close spacing to increase yield per unit\n\nYour response must follow this format exactly:\n\nCorrect answer: [OPTION(S)]\n\nRationale: [Not longer than 10 sentences]",
         "Correct answer: B\n\nRationale: Intercropping legumes with cereals is one of the most effective intercropping systems because it maximizes the use of resources while providing multiple benefits to both crops and soil. Legumes fix nitrogen in the soil through their root nodules, which benefits the companion cereal crop. The different root systems of legumes and cereals explore different soil depths, reducing competition for nutrients and water. Proper spacing is crucial to minimize competition for sunlight, nutrients, and water between the intercropped species. Option A is incorrect because intercropping similar crops (cereals with cereals) leads to intense competition for the same resources. Option C is wrong because crop height alone isn't a good criterion for intercropping - compatibility of species matters more. Option D is incorrect because close spacing in intercropping leads to excessive competition and reduced yields.",
         "B"
        ],
        [
         "14",
         "15",
         "You provide smallholder farmers in Kenya with agricultural advice and information. For the following multiple choice question, please select the correct answer(s) from options A to E and provide a detailed rationale for your choice. There can be multiple correct answers.\n\nQuestion: How do I compost crop residues to enhance soil fertility?\n\nAnswer options:\nA. Add organic matter to the compost pile, chop or shred crop residues, and turn regularly.\nB. Collect crop residues, chop/shred them to increase surface area, add a layer of organic matter such as animal manure or green materials in the compost pile, maintain proper moisture and aeration, and turn the compost regularly to support decomposition and aeration.\nC. Collect crop residues, turn them regularly, chop or shred them, and add organic matter to the compost\nD. Collect crop residues, add organic matter to the compost pile, chop or shred them, and turn regularly.\n\nYour response must follow this format exactly:\n\nCorrect answer: [OPTION(S)]\n\nRationale: [Not longer than 10 sentences]",
         "Correct answer: B\n\nRationale: Option B provides the most complete and correctly sequenced steps for effective composting of crop residues. The process should start with collecting crop residues, followed by chopping them to increase surface area which accelerates decomposition. Adding layers of nitrogen-rich materials like animal manure or green materials is crucial as crop residues alone are often carbon-rich and need nitrogen for proper decomposition. Maintaining proper moisture (similar to a squeezed sponge) and aeration through regular turning is essential for microbial activity that breaks down the materials. The other options either miss critical steps (like adding nitrogen-rich materials) or present the steps in an incorrect order that would make the composting process less effective. Following option B's comprehensive approach will result in quality compost that enhances soil fertility, improves soil structure, and provides essential nutrients for crops.",
         "B"
        ],
        [
         "15",
         "16",
         "You provide smallholder farmers in Kenya with agricultural advice and information. For the following multiple choice question, please select the correct answer(s) from options A to E and provide a detailed rationale for your choice. There can be multiple correct answers.\n\nQuestion: How do I create a simple farm budget for one season of maize farming?\n\nAnswer options:\nA. List only income from maize sales and ignore costs related to inputs, labor, and maintenance.\nB. Come up with a list of all activities to be undertaken, estimate the cost of production including inputs, labor. Estimate the expected yields and price per bag, subtract costs for inputs, labor, and land preparation, then determine the profit or loss.\nC. Record all expenses first and use any leftover funds for farm activities, regardless of income.\nD. Only calculate costs for seeds and fertilizer, as they are the only important expenses for maize farming.\n\nYour response must follow this format exactly:\n\nCorrect answer: [OPTION(S)]\n\nRationale: [Not longer than 10 sentences]",
         "Correct answer: B\n\nRationale: Creating an accurate farm budget requires a comprehensive approach that accounts for all costs and expected income. Option B is correct because it encompasses all essential elements of farm budgeting: listing all farming activities, calculating total production costs (inputs, labor, land preparation), estimating expected yields and market prices, and determining potential profit or loss. This method provides a realistic financial outlook and helps farmers make informed decisions about resource allocation. The other options are incorrect because they omit crucial budget components - Option A ignores costs entirely, Option C disregards income projections and proper planning, and Option D overlooks important expenses like labor and land preparation. A complete farm budget helps farmers assess financial viability, plan resources effectively, and identify potential areas for cost savings or improvement.",
         "B"
        ],
        [
         "16",
         "17",
         "You provide smallholder farmers in Kenya with agricultural advice and information. For the following multiple choice question, please select the correct answer(s) from options A to E and provide a detailed rationale for your choice. There can be multiple correct answers.\n\nQuestion: How do I apply pesticide to ensure safety and effectiveness\n\nAnswer options:\nA. Mix the pesticide according to instructions, wear PPE, apply it on windy days, and clean equipment thoroughly.\nB. Wear appropriate PPE, mix the pesticide strictly according to label instructions, calibrate the spray equipment, apply during calm weather to prevent drift, avoid applying pesticides on peak heat periods, clean all equipment thoroughly after use, properly dispose the pesticide container.\nC. Wear PPE, apply pesticide on windy days, mix according to instructions, and clean equipment.\n\nYour response must follow this format exactly:\n\nCorrect answer: [OPTION(S)]\n\nRationale: [Not longer than 10 sentences]",
         "Correct answer: B\n\nRationale: Option B is the most comprehensive and safest approach to pesticide application. It includes all critical safety measures and best practices: proper PPE usage protects the applicator from chemical exposure; following label instructions ensures correct concentration and effectiveness; equipment calibration guarantees uniform application; applying during calm weather prevents drift that could harm non-target areas; avoiding peak heat reduces evaporation and improves efficacy; thorough equipment cleaning prevents contamination; and proper container disposal protects the environment. Options A and C incorrectly suggest applying pesticides on windy days, which is dangerous as it can cause drift and uneven application, potentially harming nearby crops, people, or beneficial insects. Additionally, these options omit crucial steps like equipment calibration and proper timing of application.",
         "B"
        ],
        [
         "17",
         "18",
         "You provide smallholder farmers in Kenya with agricultural advice and information. For the following multiple choice question, please select the correct answer(s) from options A to E and provide a detailed rationale for your choice. There can be multiple correct answers.\n\nQuestion: Which is the best practice in transplanting seedlings?\n\nAnswer options:\nA. Prepare the seedbed in advance to fine tilth; Seedling ought to be transplanted at the right stage; harden the seedlings by removing excess shade and reduce watering; on the day of transplanting, thoroughly irrigate the nursery to enable easy removal of the seedlings; transplant the seedlings onto well irrigated seed bed and place the roots carefully to avoid injury. The best time to transplant is late in the evening when it’s cool\nB. Prepare the seedbed in advance to fine tilth; Seedling can be transplanted at any time of the day depending on one’s convenience. Seedling ought to be transplanted at the right stage; harden the seedlings by removing excess shade and reduce watering; on the day of transplanting, thoroughly irrigate the nursery to enable easy removal of the seedlings; transplant the seedlings onto well irrigated seed bed and place the roots carefully to avoid injury.\nC. Prepare the seedbed in advance to fine tilth; Seedling ought to be transplanted at the right stage; on the day of transplanting, thoroughly irrigate the nursery to enable easy removal of the seedlings; transplant the seedlings onto well irrigated seed bed and place the roots carefully to avoid injury. The best time to transplant is late in the evening when it’s cool\nD. Prepare the seedbed in advance to fine tilth; Seedling can be transplanted irrespective of their stage of development; harden the seedlings by removing excess shade and reduce watering; on the day of transplanting, thoroughly irrigate the nursery to enable easy removal of the seedlings; transplant the seedlings onto well irrigated seed bed and place the roots carefully to avoid injury. The best time to transplant is late in the evening when it’s cool\n\nYour response must follow this format exactly:\n\nCorrect answer: [OPTION(S)]\n\nRationale: [Not longer than 10 sentences]",
         "Correct answer: A\n\nRationale: Option A represents the most complete and accurate set of best practices for transplanting seedlings. It covers all critical aspects: proper seedbed preparation, correct timing of transplanting based on seedling maturity, hardening off process, irrigation before transplanting, careful handling of roots, and most importantly, the optimal timing during cool evening hours. The evening transplanting reduces transplant shock since evaporation rates are lower, giving seedlings better chances of establishment. Other options have significant flaws - Option B suggests transplanting can be done at any time of day (incorrect as this can stress plants), Option C omits the crucial hardening process, and Option D incorrectly states that seedlings can be transplanted at any development stage (this would lead to poor establishment or seedling death). Only Option A provides a comprehensive approach that maximizes transplanting success while minimizing plant stress.",
         "A"
        ]
       ],
       "shape": {
        "columns": 4,
        "rows": 18
       }
      },
      "text/html": [
       "<div>\n",
       "<style scoped>\n",
       "    .dataframe tbody tr th:only-of-type {\n",
       "        vertical-align: middle;\n",
       "    }\n",
       "\n",
       "    .dataframe tbody tr th {\n",
       "        vertical-align: top;\n",
       "    }\n",
       "\n",
       "    .dataframe thead th {\n",
       "        text-align: right;\n",
       "    }\n",
       "</style>\n",
       "<table border=\"1\" class=\"dataframe\">\n",
       "  <thead>\n",
       "    <tr style=\"text-align: right;\">\n",
       "      <th></th>\n",
       "      <th>question_id</th>\n",
       "      <th>prompt</th>\n",
       "      <th>answer</th>\n",
       "      <th>correct_answer</th>\n",
       "    </tr>\n",
       "  </thead>\n",
       "  <tbody>\n",
       "    <tr>\n",
       "      <th>0</th>\n",
       "      <td>1</td>\n",
       "      <td>You provide smallholder farmers in Kenya with ...</td>\n",
       "      <td>Correct answer: A\\n\\nRationale: Option A provi...</td>\n",
       "      <td>A</td>\n",
       "    </tr>\n",
       "    <tr>\n",
       "      <th>1</th>\n",
       "      <td>2</td>\n",
       "      <td>You provide smallholder farmers in Kenya with ...</td>\n",
       "      <td>Correct answer: A\\n\\nRationale: Option A is th...</td>\n",
       "      <td>A</td>\n",
       "    </tr>\n",
       "    <tr>\n",
       "      <th>2</th>\n",
       "      <td>3</td>\n",
       "      <td>You provide smallholder farmers in Kenya with ...</td>\n",
       "      <td>Correct answer: A\\n\\nRationale: Option A provi...</td>\n",
       "      <td>A</td>\n",
       "    </tr>\n",
       "    <tr>\n",
       "      <th>3</th>\n",
       "      <td>4</td>\n",
       "      <td>You provide smallholder farmers in Kenya with ...</td>\n",
       "      <td>Correct answer: A\\n\\nRationale: Option A provi...</td>\n",
       "      <td>A</td>\n",
       "    </tr>\n",
       "    <tr>\n",
       "      <th>4</th>\n",
       "      <td>5</td>\n",
       "      <td>You provide smallholder farmers in Kenya with ...</td>\n",
       "      <td>Correct answer: C\\n\\nRationale: The correct se...</td>\n",
       "      <td>C</td>\n",
       "    </tr>\n",
       "    <tr>\n",
       "      <th>5</th>\n",
       "      <td>6</td>\n",
       "      <td>You provide smallholder farmers in Kenya with ...</td>\n",
       "      <td>Correct answer: C\\n\\nRationale: Option C repre...</td>\n",
       "      <td>C</td>\n",
       "    </tr>\n",
       "    <tr>\n",
       "      <th>6</th>\n",
       "      <td>7</td>\n",
       "      <td>You provide smallholder farmers in Kenya with ...</td>\n",
       "      <td>Correct answer: D\\n\\nRationale: The most compr...</td>\n",
       "      <td>D</td>\n",
       "    </tr>\n",
       "    <tr>\n",
       "      <th>7</th>\n",
       "      <td>8</td>\n",
       "      <td>You provide smallholder farmers in Kenya with ...</td>\n",
       "      <td>Correct answer: D\\n\\nRationale: Option D is th...</td>\n",
       "      <td>D</td>\n",
       "    </tr>\n",
       "    <tr>\n",
       "      <th>8</th>\n",
       "      <td>9</td>\n",
       "      <td>You provide smallholder farmers in Kenya with ...</td>\n",
       "      <td>Correct answer: C\\n\\nRationale: Option C is th...</td>\n",
       "      <td>C</td>\n",
       "    </tr>\n",
       "    <tr>\n",
       "      <th>9</th>\n",
       "      <td>10</td>\n",
       "      <td>You provide smallholder farmers in Kenya with ...</td>\n",
       "      <td>Correct answer: B\\n\\nRationale: Option B repre...</td>\n",
       "      <td>B</td>\n",
       "    </tr>\n",
       "    <tr>\n",
       "      <th>10</th>\n",
       "      <td>11</td>\n",
       "      <td>You provide smallholder farmers in Kenya with ...</td>\n",
       "      <td>Correct answer: B\\n\\nRationale: The maize vari...</td>\n",
       "      <td>B</td>\n",
       "    </tr>\n",
       "    <tr>\n",
       "      <th>11</th>\n",
       "      <td>12</td>\n",
       "      <td>You provide smallholder farmers in Kenya with ...</td>\n",
       "      <td>Correct answer: A\\n\\nRationale: Early morning ...</td>\n",
       "      <td>A</td>\n",
       "    </tr>\n",
       "    <tr>\n",
       "      <th>12</th>\n",
       "      <td>13</td>\n",
       "      <td>You provide smallholder farmers in Kenya with ...</td>\n",
       "      <td>Correct answer: B\\n\\nRationale: Cold weather c...</td>\n",
       "      <td>D</td>\n",
       "    </tr>\n",
       "    <tr>\n",
       "      <th>13</th>\n",
       "      <td>14</td>\n",
       "      <td>You provide smallholder farmers in Kenya with ...</td>\n",
       "      <td>Correct answer: B\\n\\nRationale: Intercropping ...</td>\n",
       "      <td>B</td>\n",
       "    </tr>\n",
       "    <tr>\n",
       "      <th>14</th>\n",
       "      <td>15</td>\n",
       "      <td>You provide smallholder farmers in Kenya with ...</td>\n",
       "      <td>Correct answer: B\\n\\nRationale: Option B provi...</td>\n",
       "      <td>B</td>\n",
       "    </tr>\n",
       "    <tr>\n",
       "      <th>15</th>\n",
       "      <td>16</td>\n",
       "      <td>You provide smallholder farmers in Kenya with ...</td>\n",
       "      <td>Correct answer: B\\n\\nRationale: Creating an ac...</td>\n",
       "      <td>B</td>\n",
       "    </tr>\n",
       "    <tr>\n",
       "      <th>16</th>\n",
       "      <td>17</td>\n",
       "      <td>You provide smallholder farmers in Kenya with ...</td>\n",
       "      <td>Correct answer: B\\n\\nRationale: Option B is th...</td>\n",
       "      <td>B</td>\n",
       "    </tr>\n",
       "    <tr>\n",
       "      <th>17</th>\n",
       "      <td>18</td>\n",
       "      <td>You provide smallholder farmers in Kenya with ...</td>\n",
       "      <td>Correct answer: A\\n\\nRationale: Option A repre...</td>\n",
       "      <td>A</td>\n",
       "    </tr>\n",
       "  </tbody>\n",
       "</table>\n",
       "</div>"
      ],
      "text/plain": [
       "    question_id                                             prompt  \\\n",
       "0             1  You provide smallholder farmers in Kenya with ...   \n",
       "1             2  You provide smallholder farmers in Kenya with ...   \n",
       "2             3  You provide smallholder farmers in Kenya with ...   \n",
       "3             4  You provide smallholder farmers in Kenya with ...   \n",
       "4             5  You provide smallholder farmers in Kenya with ...   \n",
       "5             6  You provide smallholder farmers in Kenya with ...   \n",
       "6             7  You provide smallholder farmers in Kenya with ...   \n",
       "7             8  You provide smallholder farmers in Kenya with ...   \n",
       "8             9  You provide smallholder farmers in Kenya with ...   \n",
       "9            10  You provide smallholder farmers in Kenya with ...   \n",
       "10           11  You provide smallholder farmers in Kenya with ...   \n",
       "11           12  You provide smallholder farmers in Kenya with ...   \n",
       "12           13  You provide smallholder farmers in Kenya with ...   \n",
       "13           14  You provide smallholder farmers in Kenya with ...   \n",
       "14           15  You provide smallholder farmers in Kenya with ...   \n",
       "15           16  You provide smallholder farmers in Kenya with ...   \n",
       "16           17  You provide smallholder farmers in Kenya with ...   \n",
       "17           18  You provide smallholder farmers in Kenya with ...   \n",
       "\n",
       "                                               answer correct_answer  \n",
       "0   Correct answer: A\\n\\nRationale: Option A provi...              A  \n",
       "1   Correct answer: A\\n\\nRationale: Option A is th...              A  \n",
       "2   Correct answer: A\\n\\nRationale: Option A provi...              A  \n",
       "3   Correct answer: A\\n\\nRationale: Option A provi...              A  \n",
       "4   Correct answer: C\\n\\nRationale: The correct se...              C  \n",
       "5   Correct answer: C\\n\\nRationale: Option C repre...              C  \n",
       "6   Correct answer: D\\n\\nRationale: The most compr...              D  \n",
       "7   Correct answer: D\\n\\nRationale: Option D is th...              D  \n",
       "8   Correct answer: C\\n\\nRationale: Option C is th...              C  \n",
       "9   Correct answer: B\\n\\nRationale: Option B repre...              B  \n",
       "10  Correct answer: B\\n\\nRationale: The maize vari...              B  \n",
       "11  Correct answer: A\\n\\nRationale: Early morning ...              A  \n",
       "12  Correct answer: B\\n\\nRationale: Cold weather c...              D  \n",
       "13  Correct answer: B\\n\\nRationale: Intercropping ...              B  \n",
       "14  Correct answer: B\\n\\nRationale: Option B provi...              B  \n",
       "15  Correct answer: B\\n\\nRationale: Creating an ac...              B  \n",
       "16  Correct answer: B\\n\\nRationale: Option B is th...              B  \n",
       "17  Correct answer: A\\n\\nRationale: Option A repre...              A  "
      ]
     },
     "execution_count": 19,
     "metadata": {},
     "output_type": "execute_result"
    }
   ],
   "source": [
    "claude_3_5_df"
   ]
  },
  {
   "cell_type": "code",
   "execution_count": 20,
   "metadata": {},
   "outputs": [
    {
     "name": "stdout",
     "output_type": "stream",
     "text": [
      "Saving results to results/20_harder_MCQs-anthropic-claude-3-7-sonnet-20250219.csv\n"
     ]
    }
   ],
   "source": [
    "claude_3_7_df = get_llm_answers(mcq_df, \"anthropic/claude-3-7-sonnet-20250219\", country, max_completion_tokens=25000, reasoning_effort=\"medium\")"
   ]
  },
  {
   "cell_type": "code",
   "execution_count": 21,
   "metadata": {},
   "outputs": [
    {
     "data": {
      "application/vnd.microsoft.datawrangler.viewer.v0+json": {
       "columns": [
        {
         "name": "index",
         "rawType": "int64",
         "type": "integer"
        },
        {
         "name": "question_id",
         "rawType": "int64",
         "type": "integer"
        },
        {
         "name": "prompt",
         "rawType": "object",
         "type": "string"
        },
        {
         "name": "answer",
         "rawType": "object",
         "type": "string"
        },
        {
         "name": "correct_answer",
         "rawType": "object",
         "type": "string"
        }
       ],
       "ref": "61295a14-c41a-4683-a13c-70baef1ae433",
       "rows": [
        [
         "0",
         "1",
         "You provide smallholder farmers in Kenya with agricultural advice and information. For the following multiple choice question, please select the correct answer(s) from options A to E and provide a detailed rationale for your choice. There can be multiple correct answers.\n\nQuestion: How do I, in the shortest duration and cost effectively correct for nutrient deficiency in my farm?\n\nAnswer options:\nA. Test soil for nutrient deficiency or perform visual observations of the crop to diagnose the deficiency; get the right source of fertilizer to replenish the deficiency; apply the right rate of the fertilizer that would sufficiently correct the deficiency; apply the fertilizer at the right stage of the crop to maximize uptake and use…remember to apply when soil is moist; place the fertilizer close to the plant root zone but not too close to avoid scotching\nB. Test soil for nutrient deficiency or perform visual observations of the crop to diagnose the deficiency; apply well rotten manure; apply the right rate of the manure that would sufficiently correct the deficiency; apply the manure at the right stage of the crop to maximize uptake and use…remember to apply when soil is moist; place the manure close to the plant root zone but not too close to avoid scotching\nC. Apply fertilizer at the right rate, and the right stage of the crop; place the fertilizer close to the root system\n\nYour response must follow this format exactly:\n\nCorrect answer: [OPTION(S)]\n\nRationale: [Not longer than 10 sentences]",
         "Correct answer: A\n\nRationale: Option A represents the most balanced approach for quickly and cost-effectively correcting nutrient deficiencies. While Option C might seem faster by skipping diagnosis, applying fertilizer without knowing what nutrients are actually deficient wastes money and may not solve the problem. Option B uses manure which, though potentially cheaper if available on-farm, releases nutrients more slowly than chemical fertilizers, extending the correction timeframe. Option A follows the \"4R\" principle (Right source, Right rate, Right time, Right place) after proper diagnosis, ensuring targeted application of exactly what's needed. This approach minimizes wastage of inputs while providing the quickest correction of the specific deficiency, making it most efficient for smallholder farmers in Kenya who need rapid results while managing limited resources.",
         "A"
        ],
        [
         "1",
         "2",
         "You provide smallholder farmers in Kenya with agricultural advice and information. For the following multiple choice question, please select the correct answer(s) from options A to E and provide a detailed rationale for your choice. There can be multiple correct answers.\n\nQuestion: How do I implement integrated pest management (IPM) on a farm?\n\nAnswer options:\nA. Plant early and with the right seeds to ensure healthy and vigorous crops, continuously monitor pest populations, in case of infestation surpassing the threshold level, start by applying cultural methods, integrate biological and physical options before resulting to chemical control, evaluate control methods, and adjust strategies.\nB. Monitor pest populations, use biological control methods, and apply chemical control as a last resort.\nC. Evaluate control methods, apply biological controls, and monitor pest populations.\nD. Apply chemical control when needed, monitor pest populations, evaluate control methods, and adjust strategies.\n\nYour response must follow this format exactly:\n\nCorrect answer: [OPTION(S)]\n\nRationale: [Not longer than 10 sentences]",
         "Correct answer: A, B\n\nRationale: Both options A and B correctly describe the implementation of Integrated Pest Management (IPM), with A providing a more comprehensive approach. IPM is a sustainable pest management strategy that combines multiple methods while minimizing environmental impact. Option A details the complete IPM process: prevention through proper planting, regular monitoring, using cultural controls first, then biological/physical methods, and chemical controls only as a last resort. Option B correctly summarizes the key principles of monitoring, biological control, and limited chemical use. Options C and D are incorrect because they either miss essential IPM steps or present them in the wrong order - particularly, they don't emphasize that chemical controls should be used only as a last resort after other methods have been tried, which is a fundamental principle of IPM that's especially important for smallholder farmers in Kenya.",
         "A"
        ],
        [
         "2",
         "3",
         "You provide smallholder farmers in Kenya with agricultural advice and information. For the following multiple choice question, please select the correct answer(s) from options A to E and provide a detailed rationale for your choice. There can be multiple correct answers.\n\nQuestion: How do I calibrate a knapsack sprayer to ensure accurate pesticide application?\n\nAnswer options:\nA. Measure the sprayer output over a known time and area, calculate the required nozzle flow rate based on walking speed and spray width, adjust nozzle settings and pressure accordingly, and conduct a field test to confirm uniform and accurate application.\nB. Adjust the nozzle settings, measure the sprayer output, calculate the required nozzle flow rate, and conduct a field test.\nC. Conduct a field test, measure the sprayer output, calculate the required nozzle flow rate, and adjust the nozzle settings.\nD. Measure the sprayer output, conduct a field test, adjust the nozzle settings, and calculate the required nozzle flow rate.\n\nYour response must follow this format exactly:\n\nCorrect answer: [OPTION(S)]\n\nRationale: [Not longer than 10 sentences]",
         "Correct answer: A\n\nRationale: Proper knapsack sprayer calibration follows a specific sequence to ensure accurate pesticide application. Option A correctly outlines this process: first measuring the actual output (e.g., collecting and measuring water sprayed for 1 minute), then calculating the required flow rate based on your walking speed and spray width (targeting the right application rate per acre). After calculations, you must adjust nozzle settings and pressure to achieve the desired output, followed by a field test to verify uniform coverage. Options B, C, and D present these steps in incorrect sequences that would lead to improper calibration. Proper calibration is essential for smallholder farmers as it ensures effective pest control, prevents crop damage from over-application, reduces unnecessary chemical costs, and minimizes environmental contamination.",
         "A"
        ],
        [
         "3",
         "4",
         "You provide smallholder farmers in Kenya with agricultural advice and information. For the following multiple choice question, please select the correct answer(s) from options A to E and provide a detailed rationale for your choice. There can be multiple correct answers.\n\nQuestion: What is the right procedure to harvest onions?\n\nAnswer options:\nA. Harvest during the dry season, at about 90-150 after planting depending on the variety. The crop must be mature by observing that the tops have started to yellow or droop, and the bulbs will have formed shing membranous cover around them. To harvest, loosen the soil around the plants to allow for easier removal. Pull the bulbs by hand or dig them up with garden fork. Once the bulbs are out of the ground, cut the tops back to about one inch. Clean the bulbs and let them dry in the sun to cure (dry out) before storing. If long storage is intended, cure the bulbs in a well-ventilated store by spreading on racks until the necks and outer scale leaves of the bulbs are thoroughly dried.\nB. Harvest during the wet season, at about 90-150 after planting depending on the variety. The crop must be mature by observing that the tops have started to yellow or droop, and the bulbs will have formed shing membranous cover around them. To harvest, loosen the soil around the plants to allow for easier removal. Pull the bulbs by hand or dig them up with garden fork. Once the bulbs are out of the ground, cut the tops back to about one inch. Clean the bulbs and let them dry in the sun to cure (dry out) before storing. If long storage is intended, cure the bulbs in a well-ventilated store by spreading on racks until the necks and outer scale leaves of the bulbs are thoroughly dried.\nC. Harvest at about 90-150 after planting depending on the variety. The crop must be mature by observing that the tops have started to yellow or droop, and the bulbs will have formed shing membranous cover around them. To harvest, loosen the soil around the plants to allow for easier removal. Pull the bulbs by hand or dig them up with garden fork. Clean the bulbs and let them dry in the sun to cure (dry out) before storing. If long storage is intended, cure the bulbs in a well-ventilated store by spreading on racks until the necks and outer scale leaves of the bulbs are thoroughly dried.\nD. Harvest during the dry season, at about 90-150 after planting depending on the variety. To harvest, loosen the soil around the plants to allow for easier removal. Pull the bulbs by hand or dig them up with garden fork. Once the bulbs are out of the ground, cut the tops back to about one inch. Clean the bulbs and let them dry in the sun to cure (dry out) before storing. If long storage is intended, cure the bulbs in a well-ventilated store by spreading on racks until the necks and outer scale leaves of the bulbs are thoroughly dried.\n\nYour response must follow this format exactly:\n\nCorrect answer: [OPTION(S)]\n\nRationale: [Not longer than 10 sentences]",
         "Correct answer: A\n\nRationale: Option A provides the complete and correct procedure for harvesting onions in Kenya. Harvesting during the dry season is crucial because wet conditions can cause onions to rot or develop diseases during curing. The 90-150 day maturity period is accurate, depending on the variety grown. The maturity indicators mentioned (yellowing/drooping tops and shiny membranous covers) are essential visual cues for proper harvest timing. Loosening the soil first prevents damage to bulbs during removal. Cutting tops to one inch after harvesting is important for proper curing. The two-stage curing process described—first in the sun, then in a well-ventilated store for long-term storage—ensures onions develop proper dryness in the outer scales and necks, which significantly extends shelf life. This comprehensive approach maximizes both yield quality and storage potential for smallholder farmers.",
         "A"
        ],
        [
         "4",
         "5",
         "You provide smallholder farmers in Kenya with agricultural advice and information. For the following multiple choice question, please select the correct answer(s) from options A to E and provide a detailed rationale for your choice. There can be multiple correct answers.\n\nQuestion: How should I wear PPE?\n\nAnswer options:\nA. Put on overall/coveralls first, then gloves, mask, and finish with the face shield\nB. Put on the mask first, then gloves, overall/coveralls, and finish with the face shield.\nC. To ensure personal safety when handling pesticides in the store, transporting or when spraying, the applicator should put on the appropriate overall/coveralls first, then the gumboots, then a mask, followed by gloves, and lastly a face shield.\nD. Put on gloves, then a face shield, followed by overall/coveralls, and finally a mask.\n\nYour response must follow this format exactly:\n\nCorrect answer: [OPTION(S)]\n\nRationale: [Not longer than 10 sentences]",
         "Correct answer: C\n\nRationale: Option C provides the correct and comprehensive sequence for wearing Personal Protective Equipment (PPE) when handling agricultural chemicals. The proper sequence is critical to prevent cross-contamination and ensure maximum protection. You should start with coveralls/overalls to protect your clothing and skin, followed by gumboots to protect your feet. The mask should be put on next to protect your respiratory system before handling other items. Gloves should be worn after these items to keep them clean during the dressing process. The face shield comes last, providing an additional barrier of protection for your face and eyes while fitting over the mask. This sequence ensures that each protective layer is properly placed without compromising the effectiveness of previously applied equipment. Following this order maximizes your safety when handling, transporting, or applying pesticides.",
         "C"
        ],
        [
         "5",
         "6",
         "You provide smallholder farmers in Kenya with agricultural advice and information. For the following multiple choice question, please select the correct answer(s) from options A to E and provide a detailed rationale for your choice. There can be multiple correct answers.\n\nQuestion: How do I use animal waste management on a mixed crop-livestock farm?\n\nAnswer options:\nA. Collect animal waste and dump it directly onto crop fields.\nB. Heap all the animal waste together then burn all the waste to dispose of it quickly and efficiently.\nC. Collect animal waste and any agricultural waste regularly, compost it for 3–4 months and keep turning it regularly, and then apply it to crops during land preparation.\nD. Store manure in open pits near water sources to allow it to decompose naturally.\n\nYour response must follow this format exactly:\n\nCorrect answer: [OPTION(S)]\n\nRationale: [Not longer than 10 sentences]",
         "Correct answer: C\n\nRationale: Option C represents the best practice for animal waste management on mixed farms. Composting animal waste properly (for 3-4 months with regular turning) creates valuable organic fertilizer while eliminating harmful pathogens through the heat generated during decomposition. Direct application of fresh manure (Option A) can burn crops and potentially spread diseases to humans and plants. Burning manure (Option B) wastes valuable nutrients and creates air pollution. Storing manure in open pits near water sources (Option D) is environmentally hazardous as it can contaminate water supplies through runoff and leaching. Proper composting transforms a potential waste problem into a valuable farm resource that improves soil structure, water retention, and provides essential nutrients for crops.",
         "C"
        ],
        [
         "6",
         "7",
         "You provide smallholder farmers in Kenya with agricultural advice and information. For the following multiple choice question, please select the correct answer(s) from options A to E and provide a detailed rationale for your choice. There can be multiple correct answers.\n\nQuestion: How do I determine the seed rate required for planting on a farm?\n\nAnswer options:\nA. Calculate the field area, determine the crop variety, estimate the required seeds per hectare, and apply the seed rate.\nB. Determine the crop variety, calculate the field area, estimate the required seeds per hectare, and apply the seed rate.\nC. Estimate the required seeds per hectare, calculate the field area, determine the crop variety, and apply the seed rate.\nD. Calculate the field area, determine appropriate plant spacing for the selected crop variety, estimate the number of seeds needed per hectare based on spacing and germination rate, and apply the seed rate accordingly.\n\nYour response must follow this format exactly:\n\nCorrect answer: [OPTION(S)]\n\nRationale: [Not longer than 10 sentences]",
         "Correct answer: D\n\nRationale: Determining the correct seed rate requires a systematic approach that accounts for multiple factors. Option D presents the most comprehensive and logical process for Kenyan smallholder farmers. First, measuring your field area accurately is essential as this forms the basis of all calculations. Next, determining the appropriate plant spacing for your specific crop variety is crucial since different crops (and even different varieties of the same crop) require different spacing for optimal growth. Third, estimating seeds needed per hectare must factor in both the recommended spacing and the expected germination rate of your seed lot, as not all seeds will germinate. Finally, applying this calculated seed rate ensures efficient use of often expensive seed resources while maximizing potential yield. This approach prevents both wastage from over-seeding and poor yields from under-seeding.",
         "D"
        ],
        [
         "7",
         "8",
         "You provide smallholder farmers in Kenya with agricultural advice and information. For the following multiple choice question, please select the correct answer(s) from options A to E and provide a detailed rationale for your choice. There can be multiple correct answers.\n\nQuestion: Last year I experienced significant losses in my stored maize grain. How do I handle my grain to minimize these losses?\n\nAnswer options:\nA. Harvest the crop when the leaves are dry. Thresh the grain either manually or mechanically but avoid seed breakage. Mix the grain with an insecticide (grain dust) at the recommended rate. Put the treated grain in gunny bags ready storage. Alternatively, you can put dry grain in hermetic without treating with insecticide. Clean the store, and dust it with insecticides before storing the bags. Ensure the store is well ventilated, and free from rodents, and stack the bags on pallets and in a way that ventilation is maximized.\nB. Harvest during the dry season, and importantly when maize is physiologically mature. Dry the harvested cobs under the until the moisture content is reduced to about 13%. You can estimate that the grain is dry by doing simple tests like salt test or biting test. Thresh the grain either manually or mechanically but avoid seed breakage. Mix the grain with an insecticide (grain dust) at the recommended rate. Put the treated grain in gunny bags ready storage. Alternatively, you can put dry grain in hermetic without treating with insecticide. Clean the store, and dust it with insecticides before storing the bags.\nC. Harvest during the dry season, and importantly when maize is physiologically mature. Thresh the grain either manually or mechanically but avoid seed breakage. Mix the grain with an insecticide (grain dust) at the recommended rate. Put the treated grain in gunny bags ready storage. Alternatively, you can put dry grain in hermetic without treating with insecticide. Clean the store, and dust it with insecticides before storing the bags. Ensure the store is well ventilated, and free from rodents, and stack the bags on pallets and in a way that ventilation is maximized.\nD. Harvest during the dry season, and importantly when maize is physiologically mature. Dry the harvested cobs under the until the moisture content is reduced to about 13%. You can estimate that the grain is dry by doing simple tests like salt test or biting test. Thresh the grain either manually or mechanically but avoid seed breakage. Mix the grain with an insecticide (grain dust) at the recommended rate. Put the treated grain in gunny bags ready storage. Alternatively, you can put dry grain in hermetic without treating with insecticide. Clean the store, and dust it with insecticides before storing the bags. Ensure the store is well ventilated, and free from rodents, and stack the bags on pallets and in a way that ventilation is maximized.\n\nYour response must follow this format exactly:\n\nCorrect answer: [OPTION(S)]\n\nRationale: [Not longer than 10 sentences]",
         "Correct answer: D\n\nRationale: Option D provides the most comprehensive approach to post-harvest grain handling and storage. It covers the complete process from proper harvesting timing (during physiological maturity) through adequate drying to the critical 13% moisture content, which is essential for preventing mold growth. The option includes verification methods for dryness (salt and biting tests), careful threshing to maintain grain integrity, and two effective storage approaches (insecticide treatment or hermetic storage). It also addresses storage facility preparation by cleaning and treating with insecticides to eliminate existing pests. The final storage recommendations about ventilation, rodent protection, and using pallets for proper air circulation are crucial for long-term storage success. The other options miss critical steps such as proper drying (A and C) or ventilation and pallets for stacking (B).",
         "D"
        ],
        [
         "8",
         "9",
         "You provide smallholder farmers in Kenya with agricultural advice and information. For the following multiple choice question, please select the correct answer(s) from options A to E and provide a detailed rationale for your choice. There can be multiple correct answers.\n\nQuestion: How do I make organic fertilizer from animal manure?\n\nAnswer options:\nA. Collect manure, compost it, apply the compost to the soil, and monitor soil quality.\nB. Collect manure, store it for several weeks, compost it, and apply it to the soil.\nC. Collect fresh animal manure, mix it with carbon-rich organic materials (like crop residues or dry leaves) to balance the carbon-to-nitrogen ratio, maintain adequate moisture and aeration during composting by turning the pile regularly, and apply the mature compost to the soil.\n\nYour response must follow this format exactly:\n\nCorrect answer: [OPTION(S)]\n\nRationale: [Not longer than 10 sentences]",
         "Correct answer: C\n\nRationale: Option C provides the most complete and accurate description of making quality organic fertilizer from animal manure. The key to successful manure composting is balancing the carbon-to-nitrogen ratio by mixing nitrogen-rich manure with carbon-rich materials like crop residues or dry leaves. This balance prevents nitrogen loss and accelerates decomposition. Regular turning of the compost pile is crucial for aeration, which supports beneficial microorganisms and prevents bad odors. Maintaining adequate moisture (damp like a wrung-out sponge) ensures optimal microbial activity. The process typically takes 2-6 months depending on conditions, and the finished compost should be dark, crumbly, and earthy-smelling. While options A and B mention some steps, they lack the critical details about proper composting methods that ensure nutrient preservation and pathogen reduction.",
         "C"
        ],
        [
         "9",
         "10",
         "You provide smallholder farmers in Kenya with agricultural advice and information. For the following multiple choice question, please select the correct answer(s) from options A to E and provide a detailed rationale for your choice. There can be multiple correct answers.\n\nQuestion: What is the best weed control strategy on a farm?\n\nAnswer options:\nA. Use mechanical control methods, apply herbicides, monitor weed growth, and evaluate alternatives.\nB. First identify the weed species in your farm, use mechanical control methods e.g uprooting or manual weeding, monitor weed growth rate, and evaluate alternatives whether it requires use of herbicides to manage its growth and competition.\nC. Identify weed species, apply chemical herbicides, monitor the effectiveness, and evaluate alternatives.\nD. Apply herbicides, use mechanical control, monitor effectiveness, and evaluate alternatives.\n\nYour response must follow this format exactly:\n\nCorrect answer: [OPTION(S)]\n\nRationale: [Not longer than 10 sentences]",
         "Correct answer: [B]\n\nRationale: Option B represents the most comprehensive and sustainable weed management approach for smallholder farmers in Kenya. It follows the proper sequence by starting with weed identification, which is crucial because different weed species require specific management strategies. Beginning with mechanical control methods like uprooting or manual weeding is appropriate for smallholders who may have limited resources and want to avoid immediate chemical use. Monitoring weed growth after initial control helps farmers assess effectiveness and adapt their strategy as needed. Evaluating alternatives and only using herbicides when necessary represents an integrated approach that balances cost, environmental impact, and effectiveness. This option also emphasizes decision-making based on the specific conditions of the farm rather than applying a one-size-fits-all approach, making it most suitable for Kenyan smallholder contexts.",
         "B"
        ],
        [
         "10",
         "11",
         "You provide smallholder farmers in Kenya with agricultural advice and information. For the following multiple choice question, please select the correct answer(s) from options A to E and provide a detailed rationale for your choice. There can be multiple correct answers.\n\nQuestion: Which maize varieties are suitable lowlands of Kenya\n\nAnswer options:\nA. DH01, DH02, DH05, Duma 43, H6213, H519\nB. DH01, DH02, DH05, Duma 43, Sungura 301\nC. H627, H6213, DH01, DH02, DH05, Duma 43, H6213, H519\nD. H512, H511, D01, DH02, DH05, Duma 43, H6213, H519\n\nYour response must follow this format exactly:\n\nCorrect answer: [OPTION(S)]\n\nRationale: [Not longer than 10 sentences]",
         "Correct answer: B\n\nRationale: Maize varieties suitable for Kenya's lowlands must tolerate higher temperatures, potential drought conditions, and specific pests prevalent in low-altitude areas (below 1,000m). The DH series (DH01, DH02, DH05) are DroughtTEGO varieties specifically bred for drought tolerance, making them excellent for lowland conditions. Duma 43 is a proven performer in low and mid-altitude regions with good drought tolerance and early maturity (90-120 days). Sungura 301 is specifically adapted to lowland conditions with excellent heat tolerance and resistance to common lowland maize diseases like Maize Streak Virus. Option B provides the most appropriate package of varieties that combine drought tolerance, heat resistance, and adaptability to Kenya's lowland growing conditions without including any highland-specific varieties that would perform poorly in lowland environments.",
         "B"
        ],
        [
         "11",
         "12",
         "You provide smallholder farmers in Kenya with agricultural advice and information. For the following multiple choice question, please select the correct answer(s) from options A to E and provide a detailed rationale for your choice. There can be multiple correct answers.\n\nQuestion: Which is the most optimal time to apply pesticides?\n\nAnswer options:\nA. Spray either early in the morning or late in the evening when it’s cool, and the pests are active\nB. Spray when its sunny, hot, windy, and insects are visible on the crop\nC. Spray the pesticide directly towards the wind\nD. Spray immediately before or after heavy rainfall\n\nYour response must follow this format exactly:\n\nCorrect answer: [OPTION(S)]\n\nRationale: [Not longer than 10 sentences]",
         "Correct answer: A\n\nRationale: Spraying pesticides early in the morning or late in the evening is optimal for several important reasons. During these cooler times of day, there's typically less wind, which reduces pesticide drift and ensures more accurate application. The cooler temperatures also slow pesticide evaporation, allowing chemicals to remain effective longer on plant surfaces. Many pest insects are active during these periods, increasing the likelihood of contact with the pesticide. Additionally, beneficial insects like bees are often less active at these times, reducing harm to these important pollinators. Spraying during hot, windy conditions (option B) causes evaporation and drift, while spraying toward the wind (C) is dangerous for the applicator. Applying before or after heavy rainfall (D) results in pesticide runoff or dilution, wasting resources and potentially causing environmental harm.",
         "A"
        ],
        [
         "12",
         "13",
         "You provide smallholder farmers in Kenya with agricultural advice and information. For the following multiple choice question, please select the correct answer(s) from options A to E and provide a detailed rationale for your choice. There can be multiple correct answers.\n\nQuestion: Which diseases should I look out for during cold weather in poultry?\n\nAnswer options:\nA. Newcastle disease, fowl cholera, coccidiosis\nB. Fowl cholera, coccidiosis, aspergillosis and respiratory distress\nC. Aspergillosis, fowlpox, infectious coryza, pneumonia\nD. Pneumonia, coccidiosis, and respiratory distress\n\nYour response must follow this format exactly:\n\nCorrect answer: [OPTION(S)]\n\nRationale: [Not longer than 10 sentences]",
         "Correct answer: B, C, D\n\nRationale: Cold weather in poultry farming creates conditions that favor certain diseases. Option B is correct because fowl cholera (bacterial disease) thrives in cold stress, coccidiosis worsens in damp, cold conditions, aspergillosis (fungal infection) increases with poor ventilation during cold weather, and respiratory distress is a common cold weather problem. Option C is correct as aspergillosis affects stressed birds, fowlpox spreads more in confined cold-weather housing, infectious coryza is a bacterial respiratory disease worsened by cold, and pneumonia is directly linked to cold conditions. Option D is also correct since pneumonia is a classic cold-weather disease, coccidiosis increases when birds crowd together in cold, and respiratory distress encompasses various breathing difficulties common during cold periods. All three options contain valid cold-weather poultry diseases that Kenyan farmers should monitor.",
         "D"
        ],
        [
         "13",
         "14",
         "You provide smallholder farmers in Kenya with agricultural advice and information. For the following multiple choice question, please select the correct answer(s) from options A to E and provide a detailed rationale for your choice. There can be multiple correct answers.\n\nQuestion: Which are the best practices when intercropping crops?\n\nAnswer options:\nA. Intercrop maize with millet and sorghum\nB. Intercrop legumes such beans, cowpea, mung beans or pigeonpea with cereal crops like maize, sorghum or millets. However, pay attention to spacing to minimize competition\nC. Intercrop tall crop with similarly tall crops irrespective of the species\nD. Intercrop legumes such beans, cowpea, mung beans or pigeon pea with cereal crops like maize, sorghum or millets at close spacing to increase yield per unit\n\nYour response must follow this format exactly:\n\nCorrect answer: [OPTION(S)]\n\nRationale: [Not longer than 10 sentences]",
         "Correct answer: B\n\nRationale: Intercropping legumes with cereal crops is a best practice because these plant families have complementary growth patterns and different nutrient requirements. Legumes (beans, cowpeas, etc.) fix atmospheric nitrogen through root nodules, enriching soil fertility for cereal crops like maize that are heavy nitrogen consumers. Proper spacing is crucial to minimize competition for sunlight, water, and nutrients while maximizing the benefits of intercropping. Option A is incorrect because maize, millet, and sorghum are all cereals with similar nutrient requirements and would compete with each other. Option C ignores plant compatibility and focuses only on height, which is inadequate for successful intercropping. Option D recommends close spacing, which would increase competition and potentially reduce yields rather than optimize them. Intercropping with appropriate plant combinations and spacing helps with pest management, improves soil health, and increases overall farm productivity.",
         "B"
        ],
        [
         "14",
         "15",
         "You provide smallholder farmers in Kenya with agricultural advice and information. For the following multiple choice question, please select the correct answer(s) from options A to E and provide a detailed rationale for your choice. There can be multiple correct answers.\n\nQuestion: How do I compost crop residues to enhance soil fertility?\n\nAnswer options:\nA. Add organic matter to the compost pile, chop or shred crop residues, and turn regularly.\nB. Collect crop residues, chop/shred them to increase surface area, add a layer of organic matter such as animal manure or green materials in the compost pile, maintain proper moisture and aeration, and turn the compost regularly to support decomposition and aeration.\nC. Collect crop residues, turn them regularly, chop or shred them, and add organic matter to the compost\nD. Collect crop residues, add organic matter to the compost pile, chop or shred them, and turn regularly.\n\nYour response must follow this format exactly:\n\nCorrect answer: [OPTION(S)]\n\nRationale: [Not longer than 10 sentences]",
         "Correct answer: B\n\nRationale: Option B provides the complete and correct process for composting crop residues in the proper sequence. The first critical step is collecting the crop residues from fields after harvest. Chopping or shredding increases the surface area, which accelerates decomposition by giving microorganisms more access points. Adding layers of nitrogen-rich materials like animal manure or green matter balances the carbon-to-nitrogen ratio, essential for efficient decomposition. Proper moisture (damp like a wrung-out sponge) and aeration prevent anaerobic conditions that cause bad odors and slow decomposition. Regular turning (every 1-2 weeks) incorporates oxygen and mixes materials, ensuring even decomposition. Options A, C, and D either present incomplete information or suggest an incorrect sequence of steps that would result in inefficient composting.",
         "B"
        ],
        [
         "15",
         "16",
         "You provide smallholder farmers in Kenya with agricultural advice and information. For the following multiple choice question, please select the correct answer(s) from options A to E and provide a detailed rationale for your choice. There can be multiple correct answers.\n\nQuestion: How do I create a simple farm budget for one season of maize farming?\n\nAnswer options:\nA. List only income from maize sales and ignore costs related to inputs, labor, and maintenance.\nB. Come up with a list of all activities to be undertaken, estimate the cost of production including inputs, labor. Estimate the expected yields and price per bag, subtract costs for inputs, labor, and land preparation, then determine the profit or loss.\nC. Record all expenses first and use any leftover funds for farm activities, regardless of income.\nD. Only calculate costs for seeds and fertilizer, as they are the only important expenses for maize farming.\n\nYour response must follow this format exactly:\n\nCorrect answer: [OPTION(S)]\n\nRationale: [Not longer than 10 sentences]",
         "Correct answer: B\n\nRationale: Creating a proper farm budget for maize requires a comprehensive approach that accounts for both expenses and income. Option B is correct because it outlines a complete budgeting process that begins with planning all farming activities and estimating all associated costs (seeds, fertilizer, pesticides, labor, land preparation, etc.). The budget must also project expected yields and market prices to calculate potential income. By subtracting all costs from projected income, farmers can determine their expected profit or loss, which is the ultimate purpose of a farm budget. Options A, C, and D are all incomplete approaches that would result in inaccurate financial planning - option A ignores costs entirely, option C ignores income projections, and option D only considers a small subset of the actual expenses involved in maize farming.",
         "B"
        ],
        [
         "16",
         "17",
         "You provide smallholder farmers in Kenya with agricultural advice and information. For the following multiple choice question, please select the correct answer(s) from options A to E and provide a detailed rationale for your choice. There can be multiple correct answers.\n\nQuestion: How do I apply pesticide to ensure safety and effectiveness\n\nAnswer options:\nA. Mix the pesticide according to instructions, wear PPE, apply it on windy days, and clean equipment thoroughly.\nB. Wear appropriate PPE, mix the pesticide strictly according to label instructions, calibrate the spray equipment, apply during calm weather to prevent drift, avoid applying pesticides on peak heat periods, clean all equipment thoroughly after use, properly dispose the pesticide container.\nC. Wear PPE, apply pesticide on windy days, mix according to instructions, and clean equipment.\n\nYour response must follow this format exactly:\n\nCorrect answer: [OPTION(S)]\n\nRationale: [Not longer than 10 sentences]",
         "Correct answer: B\n\nRationale: Option B is the only complete and accurate approach to pesticide application. Applying pesticides on windy days (mentioned in options A and C) is dangerous as it causes drift that can harm non-target plants, animals, and people nearby. Proper pesticide application requires following label instructions exactly, as pesticides are regulated chemicals with specific safety protocols. Wearing appropriate Personal Protective Equipment (PPE) protects the farmer from harmful exposure through skin, lungs, and eyes. Calibrating equipment ensures the correct application rate, while avoiding peak heat periods prevents rapid evaporation that reduces effectiveness. Proper cleanup and container disposal are essential to prevent environmental contamination and accidental poisoning. These comprehensive practices protect both the farmer's health and the environment while maximizing the pesticide's effectiveness.",
         "B"
        ],
        [
         "17",
         "18",
         "You provide smallholder farmers in Kenya with agricultural advice and information. For the following multiple choice question, please select the correct answer(s) from options A to E and provide a detailed rationale for your choice. There can be multiple correct answers.\n\nQuestion: Which is the best practice in transplanting seedlings?\n\nAnswer options:\nA. Prepare the seedbed in advance to fine tilth; Seedling ought to be transplanted at the right stage; harden the seedlings by removing excess shade and reduce watering; on the day of transplanting, thoroughly irrigate the nursery to enable easy removal of the seedlings; transplant the seedlings onto well irrigated seed bed and place the roots carefully to avoid injury. The best time to transplant is late in the evening when it’s cool\nB. Prepare the seedbed in advance to fine tilth; Seedling can be transplanted at any time of the day depending on one’s convenience. Seedling ought to be transplanted at the right stage; harden the seedlings by removing excess shade and reduce watering; on the day of transplanting, thoroughly irrigate the nursery to enable easy removal of the seedlings; transplant the seedlings onto well irrigated seed bed and place the roots carefully to avoid injury.\nC. Prepare the seedbed in advance to fine tilth; Seedling ought to be transplanted at the right stage; on the day of transplanting, thoroughly irrigate the nursery to enable easy removal of the seedlings; transplant the seedlings onto well irrigated seed bed and place the roots carefully to avoid injury. The best time to transplant is late in the evening when it’s cool\nD. Prepare the seedbed in advance to fine tilth; Seedling can be transplanted irrespective of their stage of development; harden the seedlings by removing excess shade and reduce watering; on the day of transplanting, thoroughly irrigate the nursery to enable easy removal of the seedlings; transplant the seedlings onto well irrigated seed bed and place the roots carefully to avoid injury. The best time to transplant is late in the evening when it’s cool\n\nYour response must follow this format exactly:\n\nCorrect answer: [OPTION(S)]\n\nRationale: [Not longer than 10 sentences]",
         "Correct answer: A\n\nRationale: Option A contains all the essential best practices for successful transplanting. Preparing the seedbed to fine tilth creates an optimal environment for new roots. Transplanting at the right stage is critical as seedlings that are too young or too old have poor survival rates. Hardening seedlings by reducing shade and water helps them adapt to field conditions, reducing transplant shock. Irrigating the nursery before transplanting prevents root damage during removal. Transplanting onto well-irrigated soil and handling roots carefully maintains root integrity. Evening transplanting is optimal as cooler temperatures reduce moisture loss and transplant stress. Options B, C, and D each contain at least one incorrect practice: transplanting at any time of day (B), skipping hardening (C), or transplanting at any growth stage (D).",
         "A"
        ]
       ],
       "shape": {
        "columns": 4,
        "rows": 18
       }
      },
      "text/html": [
       "<div>\n",
       "<style scoped>\n",
       "    .dataframe tbody tr th:only-of-type {\n",
       "        vertical-align: middle;\n",
       "    }\n",
       "\n",
       "    .dataframe tbody tr th {\n",
       "        vertical-align: top;\n",
       "    }\n",
       "\n",
       "    .dataframe thead th {\n",
       "        text-align: right;\n",
       "    }\n",
       "</style>\n",
       "<table border=\"1\" class=\"dataframe\">\n",
       "  <thead>\n",
       "    <tr style=\"text-align: right;\">\n",
       "      <th></th>\n",
       "      <th>question_id</th>\n",
       "      <th>prompt</th>\n",
       "      <th>answer</th>\n",
       "      <th>correct_answer</th>\n",
       "    </tr>\n",
       "  </thead>\n",
       "  <tbody>\n",
       "    <tr>\n",
       "      <th>0</th>\n",
       "      <td>1</td>\n",
       "      <td>You provide smallholder farmers in Kenya with ...</td>\n",
       "      <td>Correct answer: A\\n\\nRationale: Option A repre...</td>\n",
       "      <td>A</td>\n",
       "    </tr>\n",
       "    <tr>\n",
       "      <th>1</th>\n",
       "      <td>2</td>\n",
       "      <td>You provide smallholder farmers in Kenya with ...</td>\n",
       "      <td>Correct answer: A, B\\n\\nRationale: Both option...</td>\n",
       "      <td>A</td>\n",
       "    </tr>\n",
       "    <tr>\n",
       "      <th>2</th>\n",
       "      <td>3</td>\n",
       "      <td>You provide smallholder farmers in Kenya with ...</td>\n",
       "      <td>Correct answer: A\\n\\nRationale: Proper knapsac...</td>\n",
       "      <td>A</td>\n",
       "    </tr>\n",
       "    <tr>\n",
       "      <th>3</th>\n",
       "      <td>4</td>\n",
       "      <td>You provide smallholder farmers in Kenya with ...</td>\n",
       "      <td>Correct answer: A\\n\\nRationale: Option A provi...</td>\n",
       "      <td>A</td>\n",
       "    </tr>\n",
       "    <tr>\n",
       "      <th>4</th>\n",
       "      <td>5</td>\n",
       "      <td>You provide smallholder farmers in Kenya with ...</td>\n",
       "      <td>Correct answer: C\\n\\nRationale: Option C provi...</td>\n",
       "      <td>C</td>\n",
       "    </tr>\n",
       "    <tr>\n",
       "      <th>5</th>\n",
       "      <td>6</td>\n",
       "      <td>You provide smallholder farmers in Kenya with ...</td>\n",
       "      <td>Correct answer: C\\n\\nRationale: Option C repre...</td>\n",
       "      <td>C</td>\n",
       "    </tr>\n",
       "    <tr>\n",
       "      <th>6</th>\n",
       "      <td>7</td>\n",
       "      <td>You provide smallholder farmers in Kenya with ...</td>\n",
       "      <td>Correct answer: D\\n\\nRationale: Determining th...</td>\n",
       "      <td>D</td>\n",
       "    </tr>\n",
       "    <tr>\n",
       "      <th>7</th>\n",
       "      <td>8</td>\n",
       "      <td>You provide smallholder farmers in Kenya with ...</td>\n",
       "      <td>Correct answer: D\\n\\nRationale: Option D provi...</td>\n",
       "      <td>D</td>\n",
       "    </tr>\n",
       "    <tr>\n",
       "      <th>8</th>\n",
       "      <td>9</td>\n",
       "      <td>You provide smallholder farmers in Kenya with ...</td>\n",
       "      <td>Correct answer: C\\n\\nRationale: Option C provi...</td>\n",
       "      <td>C</td>\n",
       "    </tr>\n",
       "    <tr>\n",
       "      <th>9</th>\n",
       "      <td>10</td>\n",
       "      <td>You provide smallholder farmers in Kenya with ...</td>\n",
       "      <td>Correct answer: [B]\\n\\nRationale: Option B rep...</td>\n",
       "      <td>B</td>\n",
       "    </tr>\n",
       "    <tr>\n",
       "      <th>10</th>\n",
       "      <td>11</td>\n",
       "      <td>You provide smallholder farmers in Kenya with ...</td>\n",
       "      <td>Correct answer: B\\n\\nRationale: Maize varietie...</td>\n",
       "      <td>B</td>\n",
       "    </tr>\n",
       "    <tr>\n",
       "      <th>11</th>\n",
       "      <td>12</td>\n",
       "      <td>You provide smallholder farmers in Kenya with ...</td>\n",
       "      <td>Correct answer: A\\n\\nRationale: Spraying pesti...</td>\n",
       "      <td>A</td>\n",
       "    </tr>\n",
       "    <tr>\n",
       "      <th>12</th>\n",
       "      <td>13</td>\n",
       "      <td>You provide smallholder farmers in Kenya with ...</td>\n",
       "      <td>Correct answer: B, C, D\\n\\nRationale: Cold wea...</td>\n",
       "      <td>D</td>\n",
       "    </tr>\n",
       "    <tr>\n",
       "      <th>13</th>\n",
       "      <td>14</td>\n",
       "      <td>You provide smallholder farmers in Kenya with ...</td>\n",
       "      <td>Correct answer: B\\n\\nRationale: Intercropping ...</td>\n",
       "      <td>B</td>\n",
       "    </tr>\n",
       "    <tr>\n",
       "      <th>14</th>\n",
       "      <td>15</td>\n",
       "      <td>You provide smallholder farmers in Kenya with ...</td>\n",
       "      <td>Correct answer: B\\n\\nRationale: Option B provi...</td>\n",
       "      <td>B</td>\n",
       "    </tr>\n",
       "    <tr>\n",
       "      <th>15</th>\n",
       "      <td>16</td>\n",
       "      <td>You provide smallholder farmers in Kenya with ...</td>\n",
       "      <td>Correct answer: B\\n\\nRationale: Creating a pro...</td>\n",
       "      <td>B</td>\n",
       "    </tr>\n",
       "    <tr>\n",
       "      <th>16</th>\n",
       "      <td>17</td>\n",
       "      <td>You provide smallholder farmers in Kenya with ...</td>\n",
       "      <td>Correct answer: B\\n\\nRationale: Option B is th...</td>\n",
       "      <td>B</td>\n",
       "    </tr>\n",
       "    <tr>\n",
       "      <th>17</th>\n",
       "      <td>18</td>\n",
       "      <td>You provide smallholder farmers in Kenya with ...</td>\n",
       "      <td>Correct answer: A\\n\\nRationale: Option A conta...</td>\n",
       "      <td>A</td>\n",
       "    </tr>\n",
       "  </tbody>\n",
       "</table>\n",
       "</div>"
      ],
      "text/plain": [
       "    question_id                                             prompt  \\\n",
       "0             1  You provide smallholder farmers in Kenya with ...   \n",
       "1             2  You provide smallholder farmers in Kenya with ...   \n",
       "2             3  You provide smallholder farmers in Kenya with ...   \n",
       "3             4  You provide smallholder farmers in Kenya with ...   \n",
       "4             5  You provide smallholder farmers in Kenya with ...   \n",
       "5             6  You provide smallholder farmers in Kenya with ...   \n",
       "6             7  You provide smallholder farmers in Kenya with ...   \n",
       "7             8  You provide smallholder farmers in Kenya with ...   \n",
       "8             9  You provide smallholder farmers in Kenya with ...   \n",
       "9            10  You provide smallholder farmers in Kenya with ...   \n",
       "10           11  You provide smallholder farmers in Kenya with ...   \n",
       "11           12  You provide smallholder farmers in Kenya with ...   \n",
       "12           13  You provide smallholder farmers in Kenya with ...   \n",
       "13           14  You provide smallholder farmers in Kenya with ...   \n",
       "14           15  You provide smallholder farmers in Kenya with ...   \n",
       "15           16  You provide smallholder farmers in Kenya with ...   \n",
       "16           17  You provide smallholder farmers in Kenya with ...   \n",
       "17           18  You provide smallholder farmers in Kenya with ...   \n",
       "\n",
       "                                               answer correct_answer  \n",
       "0   Correct answer: A\\n\\nRationale: Option A repre...              A  \n",
       "1   Correct answer: A, B\\n\\nRationale: Both option...              A  \n",
       "2   Correct answer: A\\n\\nRationale: Proper knapsac...              A  \n",
       "3   Correct answer: A\\n\\nRationale: Option A provi...              A  \n",
       "4   Correct answer: C\\n\\nRationale: Option C provi...              C  \n",
       "5   Correct answer: C\\n\\nRationale: Option C repre...              C  \n",
       "6   Correct answer: D\\n\\nRationale: Determining th...              D  \n",
       "7   Correct answer: D\\n\\nRationale: Option D provi...              D  \n",
       "8   Correct answer: C\\n\\nRationale: Option C provi...              C  \n",
       "9   Correct answer: [B]\\n\\nRationale: Option B rep...              B  \n",
       "10  Correct answer: B\\n\\nRationale: Maize varietie...              B  \n",
       "11  Correct answer: A\\n\\nRationale: Spraying pesti...              A  \n",
       "12  Correct answer: B, C, D\\n\\nRationale: Cold wea...              D  \n",
       "13  Correct answer: B\\n\\nRationale: Intercropping ...              B  \n",
       "14  Correct answer: B\\n\\nRationale: Option B provi...              B  \n",
       "15  Correct answer: B\\n\\nRationale: Creating a pro...              B  \n",
       "16  Correct answer: B\\n\\nRationale: Option B is th...              B  \n",
       "17  Correct answer: A\\n\\nRationale: Option A conta...              A  "
      ]
     },
     "execution_count": 21,
     "metadata": {},
     "output_type": "execute_result"
    }
   ],
   "source": [
    "claude_3_7_df"
   ]
  },
  {
   "cell_type": "markdown",
   "metadata": {},
   "source": [
    "Deepseek models don't support the `reasoning_effort` parameter."
   ]
  },
  {
   "cell_type": "code",
   "execution_count": 22,
   "metadata": {},
   "outputs": [
    {
     "name": "stdout",
     "output_type": "stream",
     "text": [
      "Saving results to results/20_harder_MCQs-deepseek-deepseek-chat.csv\n"
     ]
    }
   ],
   "source": [
    "deepseek_v3_df = get_llm_answers(mcq_df, \"deepseek/deepseek-chat\", country, max_completion_tokens=25000)"
   ]
  },
  {
   "cell_type": "code",
   "execution_count": 23,
   "metadata": {},
   "outputs": [
    {
     "data": {
      "application/vnd.microsoft.datawrangler.viewer.v0+json": {
       "columns": [
        {
         "name": "index",
         "rawType": "int64",
         "type": "integer"
        },
        {
         "name": "question_id",
         "rawType": "int64",
         "type": "integer"
        },
        {
         "name": "prompt",
         "rawType": "object",
         "type": "string"
        },
        {
         "name": "answer",
         "rawType": "object",
         "type": "string"
        },
        {
         "name": "correct_answer",
         "rawType": "object",
         "type": "string"
        }
       ],
       "ref": "0129d1af-d746-4e53-855c-5d88f89e33a2",
       "rows": [
        [
         "0",
         "1",
         "You provide smallholder farmers in Kenya with agricultural advice and information. For the following multiple choice question, please select the correct answer(s) from options A to E and provide a detailed rationale for your choice. There can be multiple correct answers.\n\nQuestion: How do I, in the shortest duration and cost effectively correct for nutrient deficiency in my farm?\n\nAnswer options:\nA. Test soil for nutrient deficiency or perform visual observations of the crop to diagnose the deficiency; get the right source of fertilizer to replenish the deficiency; apply the right rate of the fertilizer that would sufficiently correct the deficiency; apply the fertilizer at the right stage of the crop to maximize uptake and use…remember to apply when soil is moist; place the fertilizer close to the plant root zone but not too close to avoid scotching\nB. Test soil for nutrient deficiency or perform visual observations of the crop to diagnose the deficiency; apply well rotten manure; apply the right rate of the manure that would sufficiently correct the deficiency; apply the manure at the right stage of the crop to maximize uptake and use…remember to apply when soil is moist; place the manure close to the plant root zone but not too close to avoid scotching\nC. Apply fertilizer at the right rate, and the right stage of the crop; place the fertilizer close to the root system\n\nYour response must follow this format exactly:\n\nCorrect answer: [OPTION(S)]\n\nRationale: [Not longer than 10 sentences]",
         "Correct answer: A, B  \n\nRationale: Both options A and B provide comprehensive steps to correct nutrient deficiency effectively and cost-efficiently. Option A focuses on using synthetic fertilizers, which act quickly to address deficiencies, while Option B uses organic manure, which is cost-effective and improves soil health over time. Both methods emphasize proper diagnosis (soil testing or visual observation), correct application rate, timing, and placement to maximize nutrient uptake. Option C is incomplete as it lacks the critical step of diagnosing the deficiency first, which could lead to incorrect or wasteful fertilizer application.",
         "A"
        ],
        [
         "1",
         "2",
         "You provide smallholder farmers in Kenya with agricultural advice and information. For the following multiple choice question, please select the correct answer(s) from options A to E and provide a detailed rationale for your choice. There can be multiple correct answers.\n\nQuestion: How do I implement integrated pest management (IPM) on a farm?\n\nAnswer options:\nA. Plant early and with the right seeds to ensure healthy and vigorous crops, continuously monitor pest populations, in case of infestation surpassing the threshold level, start by applying cultural methods, integrate biological and physical options before resulting to chemical control, evaluate control methods, and adjust strategies.\nB. Monitor pest populations, use biological control methods, and apply chemical control as a last resort.\nC. Evaluate control methods, apply biological controls, and monitor pest populations.\nD. Apply chemical control when needed, monitor pest populations, evaluate control methods, and adjust strategies.\n\nYour response must follow this format exactly:\n\nCorrect answer: [OPTION(S)]\n\nRationale: [Not longer than 10 sentences]",
         "Correct answer: A, B, C, D  \n\nRationale: All options describe components of integrated pest management (IPM), but **A** is the most comprehensive, covering all key steps: prevention (planting early with healthy seeds), monitoring, threshold-based decision-making, prioritizing non-chemical methods, and evaluation. **B** and **C** are correct but incomplete, focusing only on monitoring, biological control, and evaluation. **D** is valid but places less emphasis on non-chemical methods, which are central to IPM. The best practice is a holistic approach as outlined in **A**, though partial implementations (**B, C, D**) can still contribute to IPM.",
         "A"
        ],
        [
         "2",
         "3",
         "You provide smallholder farmers in Kenya with agricultural advice and information. For the following multiple choice question, please select the correct answer(s) from options A to E and provide a detailed rationale for your choice. There can be multiple correct answers.\n\nQuestion: How do I calibrate a knapsack sprayer to ensure accurate pesticide application?\n\nAnswer options:\nA. Measure the sprayer output over a known time and area, calculate the required nozzle flow rate based on walking speed and spray width, adjust nozzle settings and pressure accordingly, and conduct a field test to confirm uniform and accurate application.\nB. Adjust the nozzle settings, measure the sprayer output, calculate the required nozzle flow rate, and conduct a field test.\nC. Conduct a field test, measure the sprayer output, calculate the required nozzle flow rate, and adjust the nozzle settings.\nD. Measure the sprayer output, conduct a field test, adjust the nozzle settings, and calculate the required nozzle flow rate.\n\nYour response must follow this format exactly:\n\nCorrect answer: [OPTION(S)]\n\nRationale: [Not longer than 10 sentences]",
         "Correct answer: [A]\n\nRationale: Calibrating a knapsack sprayer requires a systematic approach to ensure accurate pesticide application. Option A outlines the correct sequence: measuring output over a known time and area, calculating the required nozzle flow rate based on walking speed and spray width, adjusting nozzle settings and pressure, and confirming accuracy with a field test. This method ensures uniformity and precision, which are critical for effective pest control and minimizing waste. The other options (B, C, D) lack the logical sequence or key steps (e.g., accounting for walking speed and spray width) needed for proper calibration.",
         "A"
        ],
        [
         "3",
         "4",
         "You provide smallholder farmers in Kenya with agricultural advice and information. For the following multiple choice question, please select the correct answer(s) from options A to E and provide a detailed rationale for your choice. There can be multiple correct answers.\n\nQuestion: What is the right procedure to harvest onions?\n\nAnswer options:\nA. Harvest during the dry season, at about 90-150 after planting depending on the variety. The crop must be mature by observing that the tops have started to yellow or droop, and the bulbs will have formed shing membranous cover around them. To harvest, loosen the soil around the plants to allow for easier removal. Pull the bulbs by hand or dig them up with garden fork. Once the bulbs are out of the ground, cut the tops back to about one inch. Clean the bulbs and let them dry in the sun to cure (dry out) before storing. If long storage is intended, cure the bulbs in a well-ventilated store by spreading on racks until the necks and outer scale leaves of the bulbs are thoroughly dried.\nB. Harvest during the wet season, at about 90-150 after planting depending on the variety. The crop must be mature by observing that the tops have started to yellow or droop, and the bulbs will have formed shing membranous cover around them. To harvest, loosen the soil around the plants to allow for easier removal. Pull the bulbs by hand or dig them up with garden fork. Once the bulbs are out of the ground, cut the tops back to about one inch. Clean the bulbs and let them dry in the sun to cure (dry out) before storing. If long storage is intended, cure the bulbs in a well-ventilated store by spreading on racks until the necks and outer scale leaves of the bulbs are thoroughly dried.\nC. Harvest at about 90-150 after planting depending on the variety. The crop must be mature by observing that the tops have started to yellow or droop, and the bulbs will have formed shing membranous cover around them. To harvest, loosen the soil around the plants to allow for easier removal. Pull the bulbs by hand or dig them up with garden fork. Clean the bulbs and let them dry in the sun to cure (dry out) before storing. If long storage is intended, cure the bulbs in a well-ventilated store by spreading on racks until the necks and outer scale leaves of the bulbs are thoroughly dried.\nD. Harvest during the dry season, at about 90-150 after planting depending on the variety. To harvest, loosen the soil around the plants to allow for easier removal. Pull the bulbs by hand or dig them up with garden fork. Once the bulbs are out of the ground, cut the tops back to about one inch. Clean the bulbs and let them dry in the sun to cure (dry out) before storing. If long storage is intended, cure the bulbs in a well-ventilated store by spreading on racks until the necks and outer scale leaves of the bulbs are thoroughly dried.\n\nYour response must follow this format exactly:\n\nCorrect answer: [OPTION(S)]\n\nRationale: [Not longer than 10 sentences]",
         "Correct answer: A  \n\nRationale: The correct procedure for harvesting onions includes harvesting during the dry season to prevent rotting, ensuring maturity by observing yellowing/drooping tops and bulb formation, loosening soil for easy removal, cutting tops to one inch, and curing bulbs properly for storage. Option B is incorrect because harvesting during the wet season risks bulb rot. Option C omits cutting the tops, which is essential for proper curing. Option D lacks the maturity check, which is critical for determining harvest timing.",
         "A"
        ],
        [
         "4",
         "5",
         "You provide smallholder farmers in Kenya with agricultural advice and information. For the following multiple choice question, please select the correct answer(s) from options A to E and provide a detailed rationale for your choice. There can be multiple correct answers.\n\nQuestion: How should I wear PPE?\n\nAnswer options:\nA. Put on overall/coveralls first, then gloves, mask, and finish with the face shield\nB. Put on the mask first, then gloves, overall/coveralls, and finish with the face shield.\nC. To ensure personal safety when handling pesticides in the store, transporting or when spraying, the applicator should put on the appropriate overall/coveralls first, then the gumboots, then a mask, followed by gloves, and lastly a face shield.\nD. Put on gloves, then a face shield, followed by overall/coveralls, and finally a mask.\n\nYour response must follow this format exactly:\n\nCorrect answer: [OPTION(S)]\n\nRationale: [Not longer than 10 sentences]",
         "Correct answer: C  \n\nRationale: The correct sequence for wearing PPE ensures maximum protection by covering the body first (overall/coveralls), then protecting the feet (gumboots), followed by respiratory protection (mask), hands (gloves), and finally the face/eyes (face shield). This order minimizes exposure to pesticides and prevents contamination of inner layers. Options A, B, and D either misorder the steps or omit critical components like gumboots, compromising safety. Proper PPE use is essential when handling pesticides to reduce health risks.",
         "C"
        ],
        [
         "5",
         "6",
         "You provide smallholder farmers in Kenya with agricultural advice and information. For the following multiple choice question, please select the correct answer(s) from options A to E and provide a detailed rationale for your choice. There can be multiple correct answers.\n\nQuestion: How do I use animal waste management on a mixed crop-livestock farm?\n\nAnswer options:\nA. Collect animal waste and dump it directly onto crop fields.\nB. Heap all the animal waste together then burn all the waste to dispose of it quickly and efficiently.\nC. Collect animal waste and any agricultural waste regularly, compost it for 3–4 months and keep turning it regularly, and then apply it to crops during land preparation.\nD. Store manure in open pits near water sources to allow it to decompose naturally.\n\nYour response must follow this format exactly:\n\nCorrect answer: [OPTION(S)]\n\nRationale: [Not longer than 10 sentences]",
         "Correct answer: [C]  \n\nRationale: Composting animal waste (Option C) is the most sustainable and effective method for managing waste on a mixed crop-livestock farm. It improves soil fertility, reduces pathogens, and minimizes environmental pollution. Dumping waste directly (Option A) can burn crops and spread diseases, while burning (Option B) wastes valuable nutrients. Storing manure near water sources (Option D) risks contaminating water. Composting ensures proper decomposition and safe nutrient recycling for crops.",
         "C"
        ],
        [
         "6",
         "7",
         "You provide smallholder farmers in Kenya with agricultural advice and information. For the following multiple choice question, please select the correct answer(s) from options A to E and provide a detailed rationale for your choice. There can be multiple correct answers.\n\nQuestion: How do I determine the seed rate required for planting on a farm?\n\nAnswer options:\nA. Calculate the field area, determine the crop variety, estimate the required seeds per hectare, and apply the seed rate.\nB. Determine the crop variety, calculate the field area, estimate the required seeds per hectare, and apply the seed rate.\nC. Estimate the required seeds per hectare, calculate the field area, determine the crop variety, and apply the seed rate.\nD. Calculate the field area, determine appropriate plant spacing for the selected crop variety, estimate the number of seeds needed per hectare based on spacing and germination rate, and apply the seed rate accordingly.\n\nYour response must follow this format exactly:\n\nCorrect answer: [OPTION(S)]\n\nRationale: [Not longer than 10 sentences]",
         "Correct answer: [A, B, D]\n\nRationale: \n- Options A and B are correct because they outline a logical sequence: knowing the field area and crop variety is essential before estimating seeds per hectare and applying the seed rate. The order of steps (field area first or crop variety first) can vary as both are foundational. \n- Option D is the most detailed and accurate, as it includes critical factors like plant spacing and germination rate, which directly influence seed rate calculations. \n- Option C is incorrect because estimating seeds per hectare without first knowing the field area or crop variety would lead to inaccurate results.",
         "D"
        ],
        [
         "7",
         "8",
         "You provide smallholder farmers in Kenya with agricultural advice and information. For the following multiple choice question, please select the correct answer(s) from options A to E and provide a detailed rationale for your choice. There can be multiple correct answers.\n\nQuestion: Last year I experienced significant losses in my stored maize grain. How do I handle my grain to minimize these losses?\n\nAnswer options:\nA. Harvest the crop when the leaves are dry. Thresh the grain either manually or mechanically but avoid seed breakage. Mix the grain with an insecticide (grain dust) at the recommended rate. Put the treated grain in gunny bags ready storage. Alternatively, you can put dry grain in hermetic without treating with insecticide. Clean the store, and dust it with insecticides before storing the bags. Ensure the store is well ventilated, and free from rodents, and stack the bags on pallets and in a way that ventilation is maximized.\nB. Harvest during the dry season, and importantly when maize is physiologically mature. Dry the harvested cobs under the until the moisture content is reduced to about 13%. You can estimate that the grain is dry by doing simple tests like salt test or biting test. Thresh the grain either manually or mechanically but avoid seed breakage. Mix the grain with an insecticide (grain dust) at the recommended rate. Put the treated grain in gunny bags ready storage. Alternatively, you can put dry grain in hermetic without treating with insecticide. Clean the store, and dust it with insecticides before storing the bags.\nC. Harvest during the dry season, and importantly when maize is physiologically mature. Thresh the grain either manually or mechanically but avoid seed breakage. Mix the grain with an insecticide (grain dust) at the recommended rate. Put the treated grain in gunny bags ready storage. Alternatively, you can put dry grain in hermetic without treating with insecticide. Clean the store, and dust it with insecticides before storing the bags. Ensure the store is well ventilated, and free from rodents, and stack the bags on pallets and in a way that ventilation is maximized.\nD. Harvest during the dry season, and importantly when maize is physiologically mature. Dry the harvested cobs under the until the moisture content is reduced to about 13%. You can estimate that the grain is dry by doing simple tests like salt test or biting test. Thresh the grain either manually or mechanically but avoid seed breakage. Mix the grain with an insecticide (grain dust) at the recommended rate. Put the treated grain in gunny bags ready storage. Alternatively, you can put dry grain in hermetic without treating with insecticide. Clean the store, and dust it with insecticides before storing the bags. Ensure the store is well ventilated, and free from rodents, and stack the bags on pallets and in a way that ventilation is maximized.\n\nYour response must follow this format exactly:\n\nCorrect answer: [OPTION(S)]\n\nRationale: [Not longer than 10 sentences]",
         "Correct answer: D\n\nRationale: Option D is the most comprehensive and correct answer because it includes all critical steps for minimizing post-harvest losses in maize: harvesting at physiological maturity during the dry season, proper drying to 13% moisture content (verified by tests), threshing without damage, treating grain with insecticide or using hermetic storage, and ensuring a clean, ventilated, rodent-free store with proper bag stacking. Other options miss key steps like drying (A, C) or store preparation (B).",
         "D"
        ],
        [
         "8",
         "9",
         "You provide smallholder farmers in Kenya with agricultural advice and information. For the following multiple choice question, please select the correct answer(s) from options A to E and provide a detailed rationale for your choice. There can be multiple correct answers.\n\nQuestion: How do I make organic fertilizer from animal manure?\n\nAnswer options:\nA. Collect manure, compost it, apply the compost to the soil, and monitor soil quality.\nB. Collect manure, store it for several weeks, compost it, and apply it to the soil.\nC. Collect fresh animal manure, mix it with carbon-rich organic materials (like crop residues or dry leaves) to balance the carbon-to-nitrogen ratio, maintain adequate moisture and aeration during composting by turning the pile regularly, and apply the mature compost to the soil.\n\nYour response must follow this format exactly:\n\nCorrect answer: [OPTION(S)]\n\nRationale: [Not longer than 10 sentences]",
         "Correct answer: A, B, C  \n\nRationale: All three options describe valid methods for making organic fertilizer from animal manure, though they vary in detail. Option A is the simplest, focusing on composting and application. Option B adds a storage step, which can help reduce pathogens. Option C provides the most comprehensive guidance, emphasizing the importance of balancing carbon-to-nitrogen ratios, moisture, and aeration for effective composting. All methods ultimately yield nutrient-rich compost for soil improvement.",
         "C"
        ],
        [
         "9",
         "10",
         "You provide smallholder farmers in Kenya with agricultural advice and information. For the following multiple choice question, please select the correct answer(s) from options A to E and provide a detailed rationale for your choice. There can be multiple correct answers.\n\nQuestion: What is the best weed control strategy on a farm?\n\nAnswer options:\nA. Use mechanical control methods, apply herbicides, monitor weed growth, and evaluate alternatives.\nB. First identify the weed species in your farm, use mechanical control methods e.g uprooting or manual weeding, monitor weed growth rate, and evaluate alternatives whether it requires use of herbicides to manage its growth and competition.\nC. Identify weed species, apply chemical herbicides, monitor the effectiveness, and evaluate alternatives.\nD. Apply herbicides, use mechanical control, monitor effectiveness, and evaluate alternatives.\n\nYour response must follow this format exactly:\n\nCorrect answer: [OPTION(S)]\n\nRationale: [Not longer than 10 sentences]",
         "Correct answer: [B]  \n\nRationale: The best weed control strategy starts with identifying the weed species to determine the most effective management approach. Mechanical control methods (e.g., uprooting or manual weeding) are often preferred for smallholder farmers due to their affordability and minimal environmental impact. Monitoring weed growth helps assess the need for additional measures, such as herbicides, only if necessary. This approach ensures sustainable and cost-effective weed management while minimizing chemical use. Options A, C, and D either prioritize herbicides prematurely or lack the critical step of weed identification, making them less optimal.",
         "B"
        ],
        [
         "10",
         "11",
         "You provide smallholder farmers in Kenya with agricultural advice and information. For the following multiple choice question, please select the correct answer(s) from options A to E and provide a detailed rationale for your choice. There can be multiple correct answers.\n\nQuestion: Which maize varieties are suitable lowlands of Kenya\n\nAnswer options:\nA. DH01, DH02, DH05, Duma 43, H6213, H519\nB. DH01, DH02, DH05, Duma 43, Sungura 301\nC. H627, H6213, DH01, DH02, DH05, Duma 43, H6213, H519\nD. H512, H511, D01, DH02, DH05, Duma 43, H6213, H519\n\nYour response must follow this format exactly:\n\nCorrect answer: [OPTION(S)]\n\nRationale: [Not longer than 10 sentences]",
         "Correct answer: A, B, C\n\nRationale: The lowlands of Kenya require drought-tolerant and early-maturing maize varieties. DH01, DH02, DH05, Duma 43, H6213, H519, and Sungura 301 are well-suited for these conditions due to their adaptability to heat and water stress. H627 is also suitable for lowlands, as mentioned in option C. Option D includes H512 and H511, which are not typically recommended for lowland areas. Therefore, options A, B, and C are correct.",
         "B"
        ],
        [
         "11",
         "12",
         "You provide smallholder farmers in Kenya with agricultural advice and information. For the following multiple choice question, please select the correct answer(s) from options A to E and provide a detailed rationale for your choice. There can be multiple correct answers.\n\nQuestion: Which is the most optimal time to apply pesticides?\n\nAnswer options:\nA. Spray either early in the morning or late in the evening when it’s cool, and the pests are active\nB. Spray when its sunny, hot, windy, and insects are visible on the crop\nC. Spray the pesticide directly towards the wind\nD. Spray immediately before or after heavy rainfall\n\nYour response must follow this format exactly:\n\nCorrect answer: [OPTION(S)]\n\nRationale: [Not longer than 10 sentences]",
         "Correct answer: A  \n\nRationale: The optimal time to apply pesticides is early in the morning or late in the evening when temperatures are cooler, as this reduces evaporation and increases pesticide effectiveness. Pests are also more active during these times, improving targeting. Spraying in hot, sunny, or windy conditions (B) can lead to rapid evaporation, drift, and reduced efficacy. Spraying directly into the wind (C) is unsafe and increases exposure risk. Applying pesticides before or after heavy rainfall (D) can wash away the chemicals, wasting resources and causing environmental harm.",
         "A"
        ],
        [
         "12",
         "13",
         "You provide smallholder farmers in Kenya with agricultural advice and information. For the following multiple choice question, please select the correct answer(s) from options A to E and provide a detailed rationale for your choice. There can be multiple correct answers.\n\nQuestion: Which diseases should I look out for during cold weather in poultry?\n\nAnswer options:\nA. Newcastle disease, fowl cholera, coccidiosis\nB. Fowl cholera, coccidiosis, aspergillosis and respiratory distress\nC. Aspergillosis, fowlpox, infectious coryza, pneumonia\nD. Pneumonia, coccidiosis, and respiratory distress\n\nYour response must follow this format exactly:\n\nCorrect answer: [OPTION(S)]\n\nRationale: [Not longer than 10 sentences]",
         "Correct answer: B, C, D  \n\nRationale: During cold weather, poultry are more susceptible to respiratory and fungal diseases due to stress and poor ventilation. Fowl cholera (B), aspergillosis (B, C), infectious coryza (C), pneumonia (C, D), and respiratory distress (B, D) are common in cold conditions. Coccidiosis (B, D) can also flare up due to dampness. Newcastle disease (A) and fowlpox (C) are less weather-dependent. Options B, C, and D cover the most relevant cold-weather diseases.",
         "D"
        ],
        [
         "13",
         "14",
         "You provide smallholder farmers in Kenya with agricultural advice and information. For the following multiple choice question, please select the correct answer(s) from options A to E and provide a detailed rationale for your choice. There can be multiple correct answers.\n\nQuestion: Which are the best practices when intercropping crops?\n\nAnswer options:\nA. Intercrop maize with millet and sorghum\nB. Intercrop legumes such beans, cowpea, mung beans or pigeonpea with cereal crops like maize, sorghum or millets. However, pay attention to spacing to minimize competition\nC. Intercrop tall crop with similarly tall crops irrespective of the species\nD. Intercrop legumes such beans, cowpea, mung beans or pigeon pea with cereal crops like maize, sorghum or millets at close spacing to increase yield per unit\n\nYour response must follow this format exactly:\n\nCorrect answer: [OPTION(S)]\n\nRationale: [Not longer than 10 sentences]",
         "Correct answer: [B]  \n\nRationale: Intercropping legumes with cereal crops is a beneficial practice because legumes fix nitrogen in the soil, improving fertility for the cereal crops. However, proper spacing is critical to minimize competition for light, water, and nutrients. Option A is incorrect because maize, millet, and sorghum are all cereals, leading to high competition for nutrients. Option C is wrong as intercropping similarly tall crops can cause excessive shading and competition. Option D is incorrect because close spacing increases competition, reducing yields rather than improving them.",
         "B"
        ],
        [
         "14",
         "15",
         "You provide smallholder farmers in Kenya with agricultural advice and information. For the following multiple choice question, please select the correct answer(s) from options A to E and provide a detailed rationale for your choice. There can be multiple correct answers.\n\nQuestion: How do I compost crop residues to enhance soil fertility?\n\nAnswer options:\nA. Add organic matter to the compost pile, chop or shred crop residues, and turn regularly.\nB. Collect crop residues, chop/shred them to increase surface area, add a layer of organic matter such as animal manure or green materials in the compost pile, maintain proper moisture and aeration, and turn the compost regularly to support decomposition and aeration.\nC. Collect crop residues, turn them regularly, chop or shred them, and add organic matter to the compost\nD. Collect crop residues, add organic matter to the compost pile, chop or shred them, and turn regularly.\n\nYour response must follow this format exactly:\n\nCorrect answer: [OPTION(S)]\n\nRationale: [Not longer than 10 sentences]",
         "Correct answer: [B]  \n\nRationale: Option B is the most comprehensive and correct answer because it includes all critical steps for effective composting: chopping/shredding residues to increase surface area, layering with organic matter (manure/green materials), maintaining moisture and aeration, and regular turning. These steps ensure proper decomposition and nutrient-rich compost. The other options either omit key details (e.g., moisture management) or present steps out of logical order.",
         "B"
        ],
        [
         "15",
         "16",
         "You provide smallholder farmers in Kenya with agricultural advice and information. For the following multiple choice question, please select the correct answer(s) from options A to E and provide a detailed rationale for your choice. There can be multiple correct answers.\n\nQuestion: How do I create a simple farm budget for one season of maize farming?\n\nAnswer options:\nA. List only income from maize sales and ignore costs related to inputs, labor, and maintenance.\nB. Come up with a list of all activities to be undertaken, estimate the cost of production including inputs, labor. Estimate the expected yields and price per bag, subtract costs for inputs, labor, and land preparation, then determine the profit or loss.\nC. Record all expenses first and use any leftover funds for farm activities, regardless of income.\nD. Only calculate costs for seeds and fertilizer, as they are the only important expenses for maize farming.\n\nYour response must follow this format exactly:\n\nCorrect answer: [OPTION(S)]\n\nRationale: [Not longer than 10 sentences]",
         "Correct answer: [B]\n\nRationale: Creating a simple farm budget requires a comprehensive approach to accurately assess profitability. Option B correctly outlines the steps: listing all activities, estimating costs (inputs, labor, etc.), projecting yields and prices, and calculating profit or loss. This ensures all critical expenses and income are accounted for, unlike A (ignoring costs), C (ignoring income), or D (oversimplifying costs). A proper budget helps farmers make informed decisions and manage resources effectively.",
         "B"
        ],
        [
         "16",
         "17",
         "You provide smallholder farmers in Kenya with agricultural advice and information. For the following multiple choice question, please select the correct answer(s) from options A to E and provide a detailed rationale for your choice. There can be multiple correct answers.\n\nQuestion: How do I apply pesticide to ensure safety and effectiveness\n\nAnswer options:\nA. Mix the pesticide according to instructions, wear PPE, apply it on windy days, and clean equipment thoroughly.\nB. Wear appropriate PPE, mix the pesticide strictly according to label instructions, calibrate the spray equipment, apply during calm weather to prevent drift, avoid applying pesticides on peak heat periods, clean all equipment thoroughly after use, properly dispose the pesticide container.\nC. Wear PPE, apply pesticide on windy days, mix according to instructions, and clean equipment.\n\nYour response must follow this format exactly:\n\nCorrect answer: [OPTION(S)]\n\nRationale: [Not longer than 10 sentences]",
         "Correct answer: B  \n\nRationale: Option B is correct because it includes all critical steps for safe and effective pesticide application: wearing PPE, following label instructions, calibrating equipment, applying during calm weather (to avoid drift), avoiding peak heat (to reduce evaporation and harm to plants), cleaning equipment, and proper disposal of containers. Options A and C are incorrect because applying pesticides on windy days increases the risk of drift, which can harm non-target areas and reduce effectiveness. Option B provides the most comprehensive and accurate guidance.",
         "B"
        ],
        [
         "17",
         "18",
         "You provide smallholder farmers in Kenya with agricultural advice and information. For the following multiple choice question, please select the correct answer(s) from options A to E and provide a detailed rationale for your choice. There can be multiple correct answers.\n\nQuestion: Which is the best practice in transplanting seedlings?\n\nAnswer options:\nA. Prepare the seedbed in advance to fine tilth; Seedling ought to be transplanted at the right stage; harden the seedlings by removing excess shade and reduce watering; on the day of transplanting, thoroughly irrigate the nursery to enable easy removal of the seedlings; transplant the seedlings onto well irrigated seed bed and place the roots carefully to avoid injury. The best time to transplant is late in the evening when it’s cool\nB. Prepare the seedbed in advance to fine tilth; Seedling can be transplanted at any time of the day depending on one’s convenience. Seedling ought to be transplanted at the right stage; harden the seedlings by removing excess shade and reduce watering; on the day of transplanting, thoroughly irrigate the nursery to enable easy removal of the seedlings; transplant the seedlings onto well irrigated seed bed and place the roots carefully to avoid injury.\nC. Prepare the seedbed in advance to fine tilth; Seedling ought to be transplanted at the right stage; on the day of transplanting, thoroughly irrigate the nursery to enable easy removal of the seedlings; transplant the seedlings onto well irrigated seed bed and place the roots carefully to avoid injury. The best time to transplant is late in the evening when it’s cool\nD. Prepare the seedbed in advance to fine tilth; Seedling can be transplanted irrespective of their stage of development; harden the seedlings by removing excess shade and reduce watering; on the day of transplanting, thoroughly irrigate the nursery to enable easy removal of the seedlings; transplant the seedlings onto well irrigated seed bed and place the roots carefully to avoid injury. The best time to transplant is late in the evening when it’s cool\n\nYour response must follow this format exactly:\n\nCorrect answer: [OPTION(S)]\n\nRationale: [Not longer than 10 sentences]",
         "Correct answer: A  \n\nRationale: Option A is correct because it includes all the best practices for transplanting seedlings: preparing the seedbed in advance, transplanting at the right stage, hardening seedlings, thorough irrigation before transplanting, careful root placement, and transplanting in the cool evening to reduce stress. Options B and C omit hardening (B) or transplanting time (C), while D incorrectly states seedlings can be transplanted at any stage, which risks poor survival.",
         "A"
        ]
       ],
       "shape": {
        "columns": 4,
        "rows": 18
       }
      },
      "text/html": [
       "<div>\n",
       "<style scoped>\n",
       "    .dataframe tbody tr th:only-of-type {\n",
       "        vertical-align: middle;\n",
       "    }\n",
       "\n",
       "    .dataframe tbody tr th {\n",
       "        vertical-align: top;\n",
       "    }\n",
       "\n",
       "    .dataframe thead th {\n",
       "        text-align: right;\n",
       "    }\n",
       "</style>\n",
       "<table border=\"1\" class=\"dataframe\">\n",
       "  <thead>\n",
       "    <tr style=\"text-align: right;\">\n",
       "      <th></th>\n",
       "      <th>question_id</th>\n",
       "      <th>prompt</th>\n",
       "      <th>answer</th>\n",
       "      <th>correct_answer</th>\n",
       "    </tr>\n",
       "  </thead>\n",
       "  <tbody>\n",
       "    <tr>\n",
       "      <th>0</th>\n",
       "      <td>1</td>\n",
       "      <td>You provide smallholder farmers in Kenya with ...</td>\n",
       "      <td>Correct answer: A, B  \\n\\nRationale: Both opti...</td>\n",
       "      <td>A</td>\n",
       "    </tr>\n",
       "    <tr>\n",
       "      <th>1</th>\n",
       "      <td>2</td>\n",
       "      <td>You provide smallholder farmers in Kenya with ...</td>\n",
       "      <td>Correct answer: A, B, C, D  \\n\\nRationale: All...</td>\n",
       "      <td>A</td>\n",
       "    </tr>\n",
       "    <tr>\n",
       "      <th>2</th>\n",
       "      <td>3</td>\n",
       "      <td>You provide smallholder farmers in Kenya with ...</td>\n",
       "      <td>Correct answer: [A]\\n\\nRationale: Calibrating ...</td>\n",
       "      <td>A</td>\n",
       "    </tr>\n",
       "    <tr>\n",
       "      <th>3</th>\n",
       "      <td>4</td>\n",
       "      <td>You provide smallholder farmers in Kenya with ...</td>\n",
       "      <td>Correct answer: A  \\n\\nRationale: The correct ...</td>\n",
       "      <td>A</td>\n",
       "    </tr>\n",
       "    <tr>\n",
       "      <th>4</th>\n",
       "      <td>5</td>\n",
       "      <td>You provide smallholder farmers in Kenya with ...</td>\n",
       "      <td>Correct answer: C  \\n\\nRationale: The correct ...</td>\n",
       "      <td>C</td>\n",
       "    </tr>\n",
       "    <tr>\n",
       "      <th>5</th>\n",
       "      <td>6</td>\n",
       "      <td>You provide smallholder farmers in Kenya with ...</td>\n",
       "      <td>Correct answer: [C]  \\n\\nRationale: Composting...</td>\n",
       "      <td>C</td>\n",
       "    </tr>\n",
       "    <tr>\n",
       "      <th>6</th>\n",
       "      <td>7</td>\n",
       "      <td>You provide smallholder farmers in Kenya with ...</td>\n",
       "      <td>Correct answer: [A, B, D]\\n\\nRationale: \\n- Op...</td>\n",
       "      <td>D</td>\n",
       "    </tr>\n",
       "    <tr>\n",
       "      <th>7</th>\n",
       "      <td>8</td>\n",
       "      <td>You provide smallholder farmers in Kenya with ...</td>\n",
       "      <td>Correct answer: D\\n\\nRationale: Option D is th...</td>\n",
       "      <td>D</td>\n",
       "    </tr>\n",
       "    <tr>\n",
       "      <th>8</th>\n",
       "      <td>9</td>\n",
       "      <td>You provide smallholder farmers in Kenya with ...</td>\n",
       "      <td>Correct answer: A, B, C  \\n\\nRationale: All th...</td>\n",
       "      <td>C</td>\n",
       "    </tr>\n",
       "    <tr>\n",
       "      <th>9</th>\n",
       "      <td>10</td>\n",
       "      <td>You provide smallholder farmers in Kenya with ...</td>\n",
       "      <td>Correct answer: [B]  \\n\\nRationale: The best w...</td>\n",
       "      <td>B</td>\n",
       "    </tr>\n",
       "    <tr>\n",
       "      <th>10</th>\n",
       "      <td>11</td>\n",
       "      <td>You provide smallholder farmers in Kenya with ...</td>\n",
       "      <td>Correct answer: A, B, C\\n\\nRationale: The lowl...</td>\n",
       "      <td>B</td>\n",
       "    </tr>\n",
       "    <tr>\n",
       "      <th>11</th>\n",
       "      <td>12</td>\n",
       "      <td>You provide smallholder farmers in Kenya with ...</td>\n",
       "      <td>Correct answer: A  \\n\\nRationale: The optimal ...</td>\n",
       "      <td>A</td>\n",
       "    </tr>\n",
       "    <tr>\n",
       "      <th>12</th>\n",
       "      <td>13</td>\n",
       "      <td>You provide smallholder farmers in Kenya with ...</td>\n",
       "      <td>Correct answer: B, C, D  \\n\\nRationale: During...</td>\n",
       "      <td>D</td>\n",
       "    </tr>\n",
       "    <tr>\n",
       "      <th>13</th>\n",
       "      <td>14</td>\n",
       "      <td>You provide smallholder farmers in Kenya with ...</td>\n",
       "      <td>Correct answer: [B]  \\n\\nRationale: Intercropp...</td>\n",
       "      <td>B</td>\n",
       "    </tr>\n",
       "    <tr>\n",
       "      <th>14</th>\n",
       "      <td>15</td>\n",
       "      <td>You provide smallholder farmers in Kenya with ...</td>\n",
       "      <td>Correct answer: [B]  \\n\\nRationale: Option B i...</td>\n",
       "      <td>B</td>\n",
       "    </tr>\n",
       "    <tr>\n",
       "      <th>15</th>\n",
       "      <td>16</td>\n",
       "      <td>You provide smallholder farmers in Kenya with ...</td>\n",
       "      <td>Correct answer: [B]\\n\\nRationale: Creating a s...</td>\n",
       "      <td>B</td>\n",
       "    </tr>\n",
       "    <tr>\n",
       "      <th>16</th>\n",
       "      <td>17</td>\n",
       "      <td>You provide smallholder farmers in Kenya with ...</td>\n",
       "      <td>Correct answer: B  \\n\\nRationale: Option B is ...</td>\n",
       "      <td>B</td>\n",
       "    </tr>\n",
       "    <tr>\n",
       "      <th>17</th>\n",
       "      <td>18</td>\n",
       "      <td>You provide smallholder farmers in Kenya with ...</td>\n",
       "      <td>Correct answer: A  \\n\\nRationale: Option A is ...</td>\n",
       "      <td>A</td>\n",
       "    </tr>\n",
       "  </tbody>\n",
       "</table>\n",
       "</div>"
      ],
      "text/plain": [
       "    question_id                                             prompt  \\\n",
       "0             1  You provide smallholder farmers in Kenya with ...   \n",
       "1             2  You provide smallholder farmers in Kenya with ...   \n",
       "2             3  You provide smallholder farmers in Kenya with ...   \n",
       "3             4  You provide smallholder farmers in Kenya with ...   \n",
       "4             5  You provide smallholder farmers in Kenya with ...   \n",
       "5             6  You provide smallholder farmers in Kenya with ...   \n",
       "6             7  You provide smallholder farmers in Kenya with ...   \n",
       "7             8  You provide smallholder farmers in Kenya with ...   \n",
       "8             9  You provide smallholder farmers in Kenya with ...   \n",
       "9            10  You provide smallholder farmers in Kenya with ...   \n",
       "10           11  You provide smallholder farmers in Kenya with ...   \n",
       "11           12  You provide smallholder farmers in Kenya with ...   \n",
       "12           13  You provide smallholder farmers in Kenya with ...   \n",
       "13           14  You provide smallholder farmers in Kenya with ...   \n",
       "14           15  You provide smallholder farmers in Kenya with ...   \n",
       "15           16  You provide smallholder farmers in Kenya with ...   \n",
       "16           17  You provide smallholder farmers in Kenya with ...   \n",
       "17           18  You provide smallholder farmers in Kenya with ...   \n",
       "\n",
       "                                               answer correct_answer  \n",
       "0   Correct answer: A, B  \\n\\nRationale: Both opti...              A  \n",
       "1   Correct answer: A, B, C, D  \\n\\nRationale: All...              A  \n",
       "2   Correct answer: [A]\\n\\nRationale: Calibrating ...              A  \n",
       "3   Correct answer: A  \\n\\nRationale: The correct ...              A  \n",
       "4   Correct answer: C  \\n\\nRationale: The correct ...              C  \n",
       "5   Correct answer: [C]  \\n\\nRationale: Composting...              C  \n",
       "6   Correct answer: [A, B, D]\\n\\nRationale: \\n- Op...              D  \n",
       "7   Correct answer: D\\n\\nRationale: Option D is th...              D  \n",
       "8   Correct answer: A, B, C  \\n\\nRationale: All th...              C  \n",
       "9   Correct answer: [B]  \\n\\nRationale: The best w...              B  \n",
       "10  Correct answer: A, B, C\\n\\nRationale: The lowl...              B  \n",
       "11  Correct answer: A  \\n\\nRationale: The optimal ...              A  \n",
       "12  Correct answer: B, C, D  \\n\\nRationale: During...              D  \n",
       "13  Correct answer: [B]  \\n\\nRationale: Intercropp...              B  \n",
       "14  Correct answer: [B]  \\n\\nRationale: Option B i...              B  \n",
       "15  Correct answer: [B]\\n\\nRationale: Creating a s...              B  \n",
       "16  Correct answer: B  \\n\\nRationale: Option B is ...              B  \n",
       "17  Correct answer: A  \\n\\nRationale: Option A is ...              A  "
      ]
     },
     "execution_count": 23,
     "metadata": {},
     "output_type": "execute_result"
    }
   ],
   "source": [
    "deepseek_v3_df"
   ]
  },
  {
   "cell_type": "code",
   "execution_count": 24,
   "metadata": {},
   "outputs": [
    {
     "name": "stdout",
     "output_type": "stream",
     "text": [
      "Saving results to results/20_harder_MCQs-deepseek-deepseek-reasoner.csv\n"
     ]
    }
   ],
   "source": [
    "deepseek_r1_df = get_llm_answers(mcq_df, \"deepseek/deepseek-reasoner\", country, max_completion_tokens=25000)"
   ]
  },
  {
   "cell_type": "code",
   "execution_count": 25,
   "metadata": {},
   "outputs": [
    {
     "data": {
      "application/vnd.microsoft.datawrangler.viewer.v0+json": {
       "columns": [
        {
         "name": "index",
         "rawType": "int64",
         "type": "integer"
        },
        {
         "name": "question_id",
         "rawType": "int64",
         "type": "integer"
        },
        {
         "name": "prompt",
         "rawType": "object",
         "type": "string"
        },
        {
         "name": "answer",
         "rawType": "object",
         "type": "string"
        },
        {
         "name": "correct_answer",
         "rawType": "object",
         "type": "string"
        }
       ],
       "ref": "119dce50-9f43-4d08-8fc0-93cda4b2b33f",
       "rows": [
        [
         "0",
         "1",
         "You provide smallholder farmers in Kenya with agricultural advice and information. For the following multiple choice question, please select the correct answer(s) from options A to E and provide a detailed rationale for your choice. There can be multiple correct answers.\n\nQuestion: How do I, in the shortest duration and cost effectively correct for nutrient deficiency in my farm?\n\nAnswer options:\nA. Test soil for nutrient deficiency or perform visual observations of the crop to diagnose the deficiency; get the right source of fertilizer to replenish the deficiency; apply the right rate of the fertilizer that would sufficiently correct the deficiency; apply the fertilizer at the right stage of the crop to maximize uptake and use…remember to apply when soil is moist; place the fertilizer close to the plant root zone but not too close to avoid scotching\nB. Test soil for nutrient deficiency or perform visual observations of the crop to diagnose the deficiency; apply well rotten manure; apply the right rate of the manure that would sufficiently correct the deficiency; apply the manure at the right stage of the crop to maximize uptake and use…remember to apply when soil is moist; place the manure close to the plant root zone but not too close to avoid scotching\nC. Apply fertilizer at the right rate, and the right stage of the crop; place the fertilizer close to the root system\n\nYour response must follow this format exactly:\n\nCorrect answer: [OPTION(S)]\n\nRationale: [Not longer than 10 sentences]",
         "Correct answer: A\n\nRationale: Option A is correct because it emphasizes quick diagnosis through visual observation or soil testing to identify the specific deficiency, ensuring targeted action. Applying synthetic fertilizer provides rapid nutrient correction, which is essential for the shortest duration, and using the right rate, timing, and placement minimizes waste and costs, enhancing cost-effectiveness. Option B is incorrect as manure, even when well-rotted, releases nutrients slowly, delaying correction. Option C omits diagnosis, increasing the risk of inefficient or excessive application, which undermines both speed and cost-effectiveness.",
         "A"
        ],
        [
         "1",
         "2",
         "You provide smallholder farmers in Kenya with agricultural advice and information. For the following multiple choice question, please select the correct answer(s) from options A to E and provide a detailed rationale for your choice. There can be multiple correct answers.\n\nQuestion: How do I implement integrated pest management (IPM) on a farm?\n\nAnswer options:\nA. Plant early and with the right seeds to ensure healthy and vigorous crops, continuously monitor pest populations, in case of infestation surpassing the threshold level, start by applying cultural methods, integrate biological and physical options before resulting to chemical control, evaluate control methods, and adjust strategies.\nB. Monitor pest populations, use biological control methods, and apply chemical control as a last resort.\nC. Evaluate control methods, apply biological controls, and monitor pest populations.\nD. Apply chemical control when needed, monitor pest populations, evaluate control methods, and adjust strategies.\n\nYour response must follow this format exactly:\n\nCorrect answer: [OPTION(S)]\n\nRationale: [Not longer than 10 sentences]",
         "Correct answer: A\n\nRationale: Integrated Pest Management (IPM) is a holistic approach that prioritizes prevention, monitoring, and thresholds before using control methods, with chemicals as a last resort. Option A correctly outlines this by including prevention (e.g., planting early with resistant seeds), continuous monitoring, action based on threshold levels, sequential integration of cultural, biological, and physical controls before chemical options, and evaluation with strategy adjustments. In contrast, Option B omits prevention and threshold-based decisions, Option C lacks prevention and thresholds while misordering steps (e.g., evaluation before action), and Option D inappropriately prioritizes chemical control over non-chemical methods, contradicting IPM principles. For smallholder farmers in Kenya, Option A provides a sustainable, cost-effective strategy that minimizes chemical use and adapts to local conditions.",
         "A"
        ],
        [
         "2",
         "3",
         "You provide smallholder farmers in Kenya with agricultural advice and information. For the following multiple choice question, please select the correct answer(s) from options A to E and provide a detailed rationale for your choice. There can be multiple correct answers.\n\nQuestion: How do I calibrate a knapsack sprayer to ensure accurate pesticide application?\n\nAnswer options:\nA. Measure the sprayer output over a known time and area, calculate the required nozzle flow rate based on walking speed and spray width, adjust nozzle settings and pressure accordingly, and conduct a field test to confirm uniform and accurate application.\nB. Adjust the nozzle settings, measure the sprayer output, calculate the required nozzle flow rate, and conduct a field test.\nC. Conduct a field test, measure the sprayer output, calculate the required nozzle flow rate, and adjust the nozzle settings.\nD. Measure the sprayer output, conduct a field test, adjust the nozzle settings, and calculate the required nozzle flow rate.\n\nYour response must follow this format exactly:\n\nCorrect answer: [OPTION(S)]\n\nRationale: [Not longer than 10 sentences]",
         "Correct answer: A\n\nRationale: Calibrating a knapsack sprayer requires a logical sequence to ensure accuracy: start by measuring the actual spray output to establish a baseline, then calculate the required flow rate using key parameters like walking speed and spray width for the desired application rate. After adjusting nozzle settings or pressure to match this rate, a field test verifies uniform coverage. Option A correctly follows this order, while B adjusts settings prematurely without measurement, C conducts a field test before calibration, and D performs a field test before calculation and adjustment, all leading to potential inaccuracies. This method minimizes pesticide waste and ensures effective pest control for smallholder farmers.",
         "A"
        ],
        [
         "3",
         "4",
         "You provide smallholder farmers in Kenya with agricultural advice and information. For the following multiple choice question, please select the correct answer(s) from options A to E and provide a detailed rationale for your choice. There can be multiple correct answers.\n\nQuestion: What is the right procedure to harvest onions?\n\nAnswer options:\nA. Harvest during the dry season, at about 90-150 after planting depending on the variety. The crop must be mature by observing that the tops have started to yellow or droop, and the bulbs will have formed shing membranous cover around them. To harvest, loosen the soil around the plants to allow for easier removal. Pull the bulbs by hand or dig them up with garden fork. Once the bulbs are out of the ground, cut the tops back to about one inch. Clean the bulbs and let them dry in the sun to cure (dry out) before storing. If long storage is intended, cure the bulbs in a well-ventilated store by spreading on racks until the necks and outer scale leaves of the bulbs are thoroughly dried.\nB. Harvest during the wet season, at about 90-150 after planting depending on the variety. The crop must be mature by observing that the tops have started to yellow or droop, and the bulbs will have formed shing membranous cover around them. To harvest, loosen the soil around the plants to allow for easier removal. Pull the bulbs by hand or dig them up with garden fork. Once the bulbs are out of the ground, cut the tops back to about one inch. Clean the bulbs and let them dry in the sun to cure (dry out) before storing. If long storage is intended, cure the bulbs in a well-ventilated store by spreading on racks until the necks and outer scale leaves of the bulbs are thoroughly dried.\nC. Harvest at about 90-150 after planting depending on the variety. The crop must be mature by observing that the tops have started to yellow or droop, and the bulbs will have formed shing membranous cover around them. To harvest, loosen the soil around the plants to allow for easier removal. Pull the bulbs by hand or dig them up with garden fork. Clean the bulbs and let them dry in the sun to cure (dry out) before storing. If long storage is intended, cure the bulbs in a well-ventilated store by spreading on racks until the necks and outer scale leaves of the bulbs are thoroughly dried.\nD. Harvest during the dry season, at about 90-150 after planting depending on the variety. To harvest, loosen the soil around the plants to allow for easier removal. Pull the bulbs by hand or dig them up with garden fork. Once the bulbs are out of the ground, cut the tops back to about one inch. Clean the bulbs and let them dry in the sun to cure (dry out) before storing. If long storage is intended, cure the bulbs in a well-ventilated store by spreading on racks until the necks and outer scale leaves of the bulbs are thoroughly dried.\n\nYour response must follow this format exactly:\n\nCorrect answer: [OPTION(S)]\n\nRationale: [Not longer than 10 sentences]",
         "Correct answer: A\n\nRationale: Onions should be harvested during the dry season to prevent rot and ensure proper curing, as wet conditions can lead to spoilage—especially relevant in Kenya with its distinct wet seasons. Maturity must be confirmed by visual cues like yellowing or drooping tops and papery bulb covers, not just days after planting (90-150 days is a guideline, but varietal and environmental factors matter). Option A correctly includes all steps: loosening soil, careful hand or fork harvesting, cutting tops to ~1 inch to prevent moisture entry, cleaning, sun-curing, and ventilated storage for longevity. Option B is incorrect due to wet-season harvesting. Option C omits cutting tops, risking rot. Option D misses maturity checks, which could lead to premature or late harvesting. Thus, only A provides the complete, accurate procedure.",
         "A"
        ],
        [
         "4",
         "5",
         "You provide smallholder farmers in Kenya with agricultural advice and information. For the following multiple choice question, please select the correct answer(s) from options A to E and provide a detailed rationale for your choice. There can be multiple correct answers.\n\nQuestion: How should I wear PPE?\n\nAnswer options:\nA. Put on overall/coveralls first, then gloves, mask, and finish with the face shield\nB. Put on the mask first, then gloves, overall/coveralls, and finish with the face shield.\nC. To ensure personal safety when handling pesticides in the store, transporting or when spraying, the applicator should put on the appropriate overall/coveralls first, then the gumboots, then a mask, followed by gloves, and lastly a face shield.\nD. Put on gloves, then a face shield, followed by overall/coveralls, and finally a mask.\n\nYour response must follow this format exactly:\n\nCorrect answer: [OPTION(S)]\n\nRationale: [Not longer than 10 sentences]",
         "Correct answer: C\n\nRationale: Option C provides the correct sequence for wearing PPE when handling pesticides, as it minimizes contamination risk by starting with coveralls to protect the body, followed by gumboots for foot protection, then a mask for respiratory safety before gloves to avoid face contamination, and ending with a face shield for eye protection. This order aligns with standard agricultural safety guidelines from organizations like WHO and FAO. Option A is incorrect because gloves are worn before the mask, which could lead to respiratory contamination if gloves touch the mask. Option B is unsafe as it starts with the mask, risking displacement when putting on coveralls, and places gloves before coveralls. Option D is flawed because gloves are worn first, exposing hands to early contamination, and coveralls are worn last, leaving the body unprotected during donning. Only C ensures comprehensive protection for farmers during pesticide handling, storage, transport, or spraying.",
         "C"
        ],
        [
         "5",
         "6",
         "You provide smallholder farmers in Kenya with agricultural advice and information. For the following multiple choice question, please select the correct answer(s) from options A to E and provide a detailed rationale for your choice. There can be multiple correct answers.\n\nQuestion: How do I use animal waste management on a mixed crop-livestock farm?\n\nAnswer options:\nA. Collect animal waste and dump it directly onto crop fields.\nB. Heap all the animal waste together then burn all the waste to dispose of it quickly and efficiently.\nC. Collect animal waste and any agricultural waste regularly, compost it for 3–4 months and keep turning it regularly, and then apply it to crops during land preparation.\nD. Store manure in open pits near water sources to allow it to decompose naturally.\n\nYour response must follow this format exactly:\n\nCorrect answer: [OPTION(S)]\n\nRationale: [Not longer than 10 sentences]",
         "Correct answer: C\n\nRationale: Composting animal waste with agricultural residues for 3–4 months, including regular turning, ensures aerobic decomposition that kills pathogens, reduces odors, and produces nutrient-rich compost safe for crops. Applying this compost during land preparation enhances soil fertility, structure, and water retention, aligning with sustainable practices for smallholder farms in Kenya. Options A, B, and D are incorrect: direct dumping (A) can burn crops and spread diseases; burning (B) wastes nutrients and causes pollution; and storing near water sources (D) risks contamination of water bodies, violating environmental guidelines. Composting is cost-effective and widely promoted in Kenyan agriculture for integrated farming systems.",
         "C"
        ],
        [
         "6",
         "7",
         "You provide smallholder farmers in Kenya with agricultural advice and information. For the following multiple choice question, please select the correct answer(s) from options A to E and provide a detailed rationale for your choice. There can be multiple correct answers.\n\nQuestion: How do I determine the seed rate required for planting on a farm?\n\nAnswer options:\nA. Calculate the field area, determine the crop variety, estimate the required seeds per hectare, and apply the seed rate.\nB. Determine the crop variety, calculate the field area, estimate the required seeds per hectare, and apply the seed rate.\nC. Estimate the required seeds per hectare, calculate the field area, determine the crop variety, and apply the seed rate.\nD. Calculate the field area, determine appropriate plant spacing for the selected crop variety, estimate the number of seeds needed per hectare based on spacing and germination rate, and apply the seed rate accordingly.\n\nYour response must follow this format exactly:\n\nCorrect answer: [OPTION(S)]\n\nRationale: [Not longer than 10 sentences]",
         "Correct answer: D\n\nRationale: Determining seed rate accurately requires considering specific factors like field area, crop variety, plant spacing, and germination rate to ensure proper plant population and avoid waste or poor yields. Option D is correct because it logically sequences these elements: start with field area to scale the calculation, then use crop variety to determine appropriate spacing, factor in germination rate for realistic seed needs per hectare, and finally apply the seed rate. This approach is precise and practical for smallholder farmers in Kenya, as it accounts for local conditions like variable germination. Options A, B, and C are incomplete or illogical; they omit spacing and germination or sequence steps poorly (e.g., estimating seeds per hectare before knowing variety or area), which could lead to inaccurate seed rates.",
         "D"
        ],
        [
         "7",
         "8",
         "You provide smallholder farmers in Kenya with agricultural advice and information. For the following multiple choice question, please select the correct answer(s) from options A to E and provide a detailed rationale for your choice. There can be multiple correct answers.\n\nQuestion: Last year I experienced significant losses in my stored maize grain. How do I handle my grain to minimize these losses?\n\nAnswer options:\nA. Harvest the crop when the leaves are dry. Thresh the grain either manually or mechanically but avoid seed breakage. Mix the grain with an insecticide (grain dust) at the recommended rate. Put the treated grain in gunny bags ready storage. Alternatively, you can put dry grain in hermetic without treating with insecticide. Clean the store, and dust it with insecticides before storing the bags. Ensure the store is well ventilated, and free from rodents, and stack the bags on pallets and in a way that ventilation is maximized.\nB. Harvest during the dry season, and importantly when maize is physiologically mature. Dry the harvested cobs under the until the moisture content is reduced to about 13%. You can estimate that the grain is dry by doing simple tests like salt test or biting test. Thresh the grain either manually or mechanically but avoid seed breakage. Mix the grain with an insecticide (grain dust) at the recommended rate. Put the treated grain in gunny bags ready storage. Alternatively, you can put dry grain in hermetic without treating with insecticide. Clean the store, and dust it with insecticides before storing the bags.\nC. Harvest during the dry season, and importantly when maize is physiologically mature. Thresh the grain either manually or mechanically but avoid seed breakage. Mix the grain with an insecticide (grain dust) at the recommended rate. Put the treated grain in gunny bags ready storage. Alternatively, you can put dry grain in hermetic without treating with insecticide. Clean the store, and dust it with insecticides before storing the bags. Ensure the store is well ventilated, and free from rodents, and stack the bags on pallets and in a way that ventilation is maximized.\nD. Harvest during the dry season, and importantly when maize is physiologically mature. Dry the harvested cobs under the until the moisture content is reduced to about 13%. You can estimate that the grain is dry by doing simple tests like salt test or biting test. Thresh the grain either manually or mechanically but avoid seed breakage. Mix the grain with an insecticide (grain dust) at the recommended rate. Put the treated grain in gunny bags ready storage. Alternatively, you can put dry grain in hermetic without treating with insecticide. Clean the store, and dust it with insecticides before storing the bags. Ensure the store is well ventilated, and free from rodents, and stack the bags on pallets and in a way that ventilation is maximized.\n\nYour response must follow this format exactly:\n\nCorrect answer: [OPTION(S)]\n\nRationale: [Not longer than 10 sentences]",
         "Correct answer: D\n\nRationale: Option D is correct because it comprehensively addresses all critical steps to minimize maize storage losses: harvesting at physiological maturity during the dry season ensures optimal grain quality; drying to 13% moisture prevents mold and insect growth; careful threshing avoids damage; insecticide or hermetic storage controls pests; and proper store preparation (cleaning, insecticide dusting, ventilation, rodent-proofing, and pallet stacking) safeguards against environmental and pest risks. Options A, B, and C are incomplete: A misses physiological maturity and explicit drying; B omits storage ventilation and rodent control; and C lacks any drying step, which is essential for safe storage.",
         "D"
        ],
        [
         "8",
         "9",
         "You provide smallholder farmers in Kenya with agricultural advice and information. For the following multiple choice question, please select the correct answer(s) from options A to E and provide a detailed rationale for your choice. There can be multiple correct answers.\n\nQuestion: How do I make organic fertilizer from animal manure?\n\nAnswer options:\nA. Collect manure, compost it, apply the compost to the soil, and monitor soil quality.\nB. Collect manure, store it for several weeks, compost it, and apply it to the soil.\nC. Collect fresh animal manure, mix it with carbon-rich organic materials (like crop residues or dry leaves) to balance the carbon-to-nitrogen ratio, maintain adequate moisture and aeration during composting by turning the pile regularly, and apply the mature compost to the soil.\n\nYour response must follow this format exactly:\n\nCorrect answer: [OPTION(S)]\n\nRationale: [Not longer than 10 sentences]",
         "Correct answer: C\n\nRationale: \nMaking organic fertilizer from animal manure requires proper composting to ensure nutrient balance, pathogen reduction, and safe application. Option C is correct because it details essential steps: mixing fresh manure with carbon-rich materials balances the carbon-to-nitrogen ratio, preventing nitrogen loss and promoting decomposition; maintaining moisture and aeration through regular turning avoids anaerobic conditions and speeds up composting; and applying only mature compost ensures soil benefits without harming plants. Option A omits key composting practices like mixing materials and turning, which can lead to poor decomposition. Option B incorrectly substitutes storage for active composting, which may not achieve full stabilization or pathogen kill. For smallholder farmers in Kenya, following Option C maximizes yield, soil health, and safety.",
         "C"
        ],
        [
         "9",
         "10",
         "You provide smallholder farmers in Kenya with agricultural advice and information. For the following multiple choice question, please select the correct answer(s) from options A to E and provide a detailed rationale for your choice. There can be multiple correct answers.\n\nQuestion: What is the best weed control strategy on a farm?\n\nAnswer options:\nA. Use mechanical control methods, apply herbicides, monitor weed growth, and evaluate alternatives.\nB. First identify the weed species in your farm, use mechanical control methods e.g uprooting or manual weeding, monitor weed growth rate, and evaluate alternatives whether it requires use of herbicides to manage its growth and competition.\nC. Identify weed species, apply chemical herbicides, monitor the effectiveness, and evaluate alternatives.\nD. Apply herbicides, use mechanical control, monitor effectiveness, and evaluate alternatives.\n\nYour response must follow this format exactly:\n\nCorrect answer: [OPTION(S)]\n\nRationale: [Not longer than 10 sentences]",
         "Correct answer: B\n\nRationale: For smallholder farmers in Kenya, the best weed control strategy prioritizes sustainability, cost-effectiveness, and safety. Option B is correct because it starts with identifying weed species, which is essential for targeted control, and emphasizes mechanical methods like uprooting first, reducing reliance on costly or harmful herbicides. It includes monitoring growth and evaluating alternatives, ensuring herbicides are used only if necessary, aligning with Integrated Weed Management principles. Options A, C, and D are less ideal: A omits weed identification, potentially leading to ineffective control; C and D prioritize herbicides upfront, which can increase costs, health risks, and environmental damage for resource-limited farmers. Thus, B provides a comprehensive, step-by-step approach that is most appropriate for this context.",
         "B"
        ],
        [
         "10",
         "11",
         "You provide smallholder farmers in Kenya with agricultural advice and information. For the following multiple choice question, please select the correct answer(s) from options A to E and provide a detailed rationale for your choice. There can be multiple correct answers.\n\nQuestion: Which maize varieties are suitable lowlands of Kenya\n\nAnswer options:\nA. DH01, DH02, DH05, Duma 43, H6213, H519\nB. DH01, DH02, DH05, Duma 43, Sungura 301\nC. H627, H6213, DH01, DH02, DH05, Duma 43, H6213, H519\nD. H512, H511, D01, DH02, DH05, Duma 43, H6213, H519\n\nYour response must follow this format exactly:\n\nCorrect answer: [OPTION(S)]\n\nRationale: [Not longer than 10 sentences]",
         "Correct answer: A, B, D\n\nRationale: The lowlands of Kenya require drought-tolerant maize varieties adapted to dry, warm conditions. Options A, B, and D list varieties such as DH01, DH02, DH05, Duma 43, H6213, H519, Sungura 301, H511, and H512, which are all recommended by KALRO for lowland areas due to their drought tolerance. Option C includes H627, which is unsuitable as it requires high rainfall and is for high-potential zones. \"D01\" in option D is likely a typo for DH01, making the list valid.",
         "B"
        ],
        [
         "11",
         "12",
         "You provide smallholder farmers in Kenya with agricultural advice and information. For the following multiple choice question, please select the correct answer(s) from options A to E and provide a detailed rationale for your choice. There can be multiple correct answers.\n\nQuestion: Which is the most optimal time to apply pesticides?\n\nAnswer options:\nA. Spray either early in the morning or late in the evening when it’s cool, and the pests are active\nB. Spray when its sunny, hot, windy, and insects are visible on the crop\nC. Spray the pesticide directly towards the wind\nD. Spray immediately before or after heavy rainfall\n\nYour response must follow this format exactly:\n\nCorrect answer: [OPTION(S)]\n\nRationale: [Not longer than 10 sentences]",
         "Correct answer: A\n\nRationale: Option A is correct because spraying pesticides early in the morning or late in the evening takes advantage of cooler temperatures, which reduces evaporation and allows the pesticide to remain effective longer on plant surfaces. Additionally, many pests are more active during these times, increasing targeting efficiency, while beneficial insects like bees are less active, minimizing harm to pollinators. Option B is incorrect due to hot, sunny conditions causing rapid pesticide evaporation and wind increasing drift, which wastes product and poses health risks. Option C is unsafe as spraying towards the wind can blow pesticides back onto the applicator, increasing exposure hazards; instead, spray downwind. Option D is inefficient because heavy rainfall can wash away pesticides before they take effect or dilute them, reducing efficacy.",
         "A"
        ],
        [
         "12",
         "13",
         "You provide smallholder farmers in Kenya with agricultural advice and information. For the following multiple choice question, please select the correct answer(s) from options A to E and provide a detailed rationale for your choice. There can be multiple correct answers.\n\nQuestion: Which diseases should I look out for during cold weather in poultry?\n\nAnswer options:\nA. Newcastle disease, fowl cholera, coccidiosis\nB. Fowl cholera, coccidiosis, aspergillosis and respiratory distress\nC. Aspergillosis, fowlpox, infectious coryza, pneumonia\nD. Pneumonia, coccidiosis, and respiratory distress\n\nYour response must follow this format exactly:\n\nCorrect answer: [OPTION(S)]\n\nRationale: [Not longer than 10 sentences]",
         "Correct answer: C\n\nRationale: During cold weather, poultry are more susceptible to respiratory diseases due to factors like poor ventilation, humidity, and stress. Aspergillosis thrives in damp, moldy conditions common in enclosed coops. Infectious coryza is bacterial and often flares up in cold stress. Pneumonia is a frequent outcome of respiratory infections in low temperatures. Fowlpox, included in option C, is less relevant as it is vector-borne and not cold-specific, but the other diseases are correctly associated. Options A, B, and D include coccidiosis, which favors warm, humid conditions and is not primarily a cold-weather concern.",
         "D"
        ],
        [
         "13",
         "14",
         "You provide smallholder farmers in Kenya with agricultural advice and information. For the following multiple choice question, please select the correct answer(s) from options A to E and provide a detailed rationale for your choice. There can be multiple correct answers.\n\nQuestion: Which are the best practices when intercropping crops?\n\nAnswer options:\nA. Intercrop maize with millet and sorghum\nB. Intercrop legumes such beans, cowpea, mung beans or pigeonpea with cereal crops like maize, sorghum or millets. However, pay attention to spacing to minimize competition\nC. Intercrop tall crop with similarly tall crops irrespective of the species\nD. Intercrop legumes such beans, cowpea, mung beans or pigeon pea with cereal crops like maize, sorghum or millets at close spacing to increase yield per unit\n\nYour response must follow this format exactly:\n\nCorrect answer: [OPTION(S)]\n\nRationale: [Not longer than 10 sentences]",
         "Correct answer: B\n\nRationale: Intercropping legumes like beans or cowpea with cereals such as maize provides nitrogen fixation, enhancing soil fertility and yield for smallholders in Kenya. Proper spacing reduces competition for light, water, and nutrients, making this a best practice. Option A involves cereal-cereal intercropping, which increases competition and is less beneficial. Option C ignores complementary traits, potentially leading to inefficient resource use. Option D's close spacing exacerbates competition, often lowering yields despite higher plant density. Thus, only B aligns with sustainable, high-yield intercropping.",
         "B"
        ],
        [
         "14",
         "15",
         "You provide smallholder farmers in Kenya with agricultural advice and information. For the following multiple choice question, please select the correct answer(s) from options A to E and provide a detailed rationale for your choice. There can be multiple correct answers.\n\nQuestion: How do I compost crop residues to enhance soil fertility?\n\nAnswer options:\nA. Add organic matter to the compost pile, chop or shred crop residues, and turn regularly.\nB. Collect crop residues, chop/shred them to increase surface area, add a layer of organic matter such as animal manure or green materials in the compost pile, maintain proper moisture and aeration, and turn the compost regularly to support decomposition and aeration.\nC. Collect crop residues, turn them regularly, chop or shred them, and add organic matter to the compost\nD. Collect crop residues, add organic matter to the compost pile, chop or shred them, and turn regularly.\n\nYour response must follow this format exactly:\n\nCorrect answer: [OPTION(S)]\n\nRationale: [Not longer than 10 sentences]",
         "Correct answer: B\n\nRationale: Option B provides a comprehensive and sequential guide to composting crop residues: it starts with collection, emphasizes chopping/shredding to increase decomposition efficiency, adds nitrogen-rich organic matter for balance, and crucially includes maintaining moisture and aeration—key for microbial activity—along with regular turning to ensure even decomposition. In contrast, option A omits the initial collection step and neglects moisture/aeration management. Option C has an illogical order (e.g., turning before chopping or adding materials), which can hinder decomposition. Option D misses explicit moisture and aeration maintenance, risking poor compost quality, especially in variable climates like Kenya's. Only B covers all essential steps accurately for effective soil fertility enhancement.",
         "B"
        ],
        [
         "15",
         "16",
         "You provide smallholder farmers in Kenya with agricultural advice and information. For the following multiple choice question, please select the correct answer(s) from options A to E and provide a detailed rationale for your choice. There can be multiple correct answers.\n\nQuestion: How do I create a simple farm budget for one season of maize farming?\n\nAnswer options:\nA. List only income from maize sales and ignore costs related to inputs, labor, and maintenance.\nB. Come up with a list of all activities to be undertaken, estimate the cost of production including inputs, labor. Estimate the expected yields and price per bag, subtract costs for inputs, labor, and land preparation, then determine the profit or loss.\nC. Record all expenses first and use any leftover funds for farm activities, regardless of income.\nD. Only calculate costs for seeds and fertilizer, as they are the only important expenses for maize farming.\n\nYour response must follow this format exactly:\n\nCorrect answer: [OPTION(S)]\n\nRationale: [Not longer than 10 sentences]",
         "Correct answer: B\n\nRationale: Option B is correct because it provides a comprehensive approach to budgeting by listing all farming activities, estimating total production costs (including essential inputs and labor), forecasting income based on expected yields and market prices, and calculating profit or loss. This method ensures smallholder farmers account for all expenses and revenues, promoting better financial planning and risk management for maize farming. Options A, C, and D are incorrect: A ignores critical costs, leading to potential losses; C focuses only on expenses without income consideration, risking overspending; and D omits vital expenses like labor and land preparation, resulting in an incomplete budget.",
         "B"
        ],
        [
         "16",
         "17",
         "You provide smallholder farmers in Kenya with agricultural advice and information. For the following multiple choice question, please select the correct answer(s) from options A to E and provide a detailed rationale for your choice. There can be multiple correct answers.\n\nQuestion: How do I apply pesticide to ensure safety and effectiveness\n\nAnswer options:\nA. Mix the pesticide according to instructions, wear PPE, apply it on windy days, and clean equipment thoroughly.\nB. Wear appropriate PPE, mix the pesticide strictly according to label instructions, calibrate the spray equipment, apply during calm weather to prevent drift, avoid applying pesticides on peak heat periods, clean all equipment thoroughly after use, properly dispose the pesticide container.\nC. Wear PPE, apply pesticide on windy days, mix according to instructions, and clean equipment.\n\nYour response must follow this format exactly:\n\nCorrect answer: [OPTION(S)]\n\nRationale: [Not longer than 10 sentences]",
         "Correct answer: B\n\nRationale: Option B is correct because it comprehensively covers key safety and effectiveness measures: wearing PPE protects the applicator, mixing according to label instructions ensures proper dosage, calibrating equipment optimizes application accuracy, applying during calm weather prevents drift, avoiding peak heat reduces volatilization and health risks, cleaning equipment prevents contamination, and proper disposal minimizes environmental harm. In contrast, options A and C are incorrect as they suggest applying on windy days, which increases drift risk, making application unsafe and less effective. This advice is crucial for smallholder farmers in Kenya to protect health, crops, and the environment.",
         "B"
        ],
        [
         "17",
         "18",
         "You provide smallholder farmers in Kenya with agricultural advice and information. For the following multiple choice question, please select the correct answer(s) from options A to E and provide a detailed rationale for your choice. There can be multiple correct answers.\n\nQuestion: Which is the best practice in transplanting seedlings?\n\nAnswer options:\nA. Prepare the seedbed in advance to fine tilth; Seedling ought to be transplanted at the right stage; harden the seedlings by removing excess shade and reduce watering; on the day of transplanting, thoroughly irrigate the nursery to enable easy removal of the seedlings; transplant the seedlings onto well irrigated seed bed and place the roots carefully to avoid injury. The best time to transplant is late in the evening when it’s cool\nB. Prepare the seedbed in advance to fine tilth; Seedling can be transplanted at any time of the day depending on one’s convenience. Seedling ought to be transplanted at the right stage; harden the seedlings by removing excess shade and reduce watering; on the day of transplanting, thoroughly irrigate the nursery to enable easy removal of the seedlings; transplant the seedlings onto well irrigated seed bed and place the roots carefully to avoid injury.\nC. Prepare the seedbed in advance to fine tilth; Seedling ought to be transplanted at the right stage; on the day of transplanting, thoroughly irrigate the nursery to enable easy removal of the seedlings; transplant the seedlings onto well irrigated seed bed and place the roots carefully to avoid injury. The best time to transplant is late in the evening when it’s cool\nD. Prepare the seedbed in advance to fine tilth; Seedling can be transplanted irrespective of their stage of development; harden the seedlings by removing excess shade and reduce watering; on the day of transplanting, thoroughly irrigate the nursery to enable easy removal of the seedlings; transplant the seedlings onto well irrigated seed bed and place the roots carefully to avoid injury. The best time to transplant is late in the evening when it’s cool\n\nYour response must follow this format exactly:\n\nCorrect answer: [OPTION(S)]\n\nRationale: [Not longer than 10 sentences]",
         "Correct answer: A\n\nRationale: Transplanting seedlings successfully involves minimizing shock and ensuring proper establishment. Best practices include preparing a fine-tilth seedbed in advance, transplanting at the right growth stage (e.g., when seedlings have 4-6 true leaves), hardening seedlings by reducing water and shade to toughen them, irrigating the nursery thoroughly for easy removal, planting into moist soil with careful root handling to prevent damage, and choosing cool times like late evening to avoid heat stress. Option A covers all these aspects comprehensively. Option B is incorrect as transplanting at any time of day can cause heat stress. Option C omits hardening, leaving seedlings vulnerable. Option D allows transplanting at any stage, risking poor survival due to underdeveloped or overgrown roots. Thus, only A represents the full best practice.",
         "A"
        ]
       ],
       "shape": {
        "columns": 4,
        "rows": 18
       }
      },
      "text/html": [
       "<div>\n",
       "<style scoped>\n",
       "    .dataframe tbody tr th:only-of-type {\n",
       "        vertical-align: middle;\n",
       "    }\n",
       "\n",
       "    .dataframe tbody tr th {\n",
       "        vertical-align: top;\n",
       "    }\n",
       "\n",
       "    .dataframe thead th {\n",
       "        text-align: right;\n",
       "    }\n",
       "</style>\n",
       "<table border=\"1\" class=\"dataframe\">\n",
       "  <thead>\n",
       "    <tr style=\"text-align: right;\">\n",
       "      <th></th>\n",
       "      <th>question_id</th>\n",
       "      <th>prompt</th>\n",
       "      <th>answer</th>\n",
       "      <th>correct_answer</th>\n",
       "    </tr>\n",
       "  </thead>\n",
       "  <tbody>\n",
       "    <tr>\n",
       "      <th>0</th>\n",
       "      <td>1</td>\n",
       "      <td>You provide smallholder farmers in Kenya with ...</td>\n",
       "      <td>Correct answer: A\\n\\nRationale: Option A is co...</td>\n",
       "      <td>A</td>\n",
       "    </tr>\n",
       "    <tr>\n",
       "      <th>1</th>\n",
       "      <td>2</td>\n",
       "      <td>You provide smallholder farmers in Kenya with ...</td>\n",
       "      <td>Correct answer: A\\n\\nRationale: Integrated Pes...</td>\n",
       "      <td>A</td>\n",
       "    </tr>\n",
       "    <tr>\n",
       "      <th>2</th>\n",
       "      <td>3</td>\n",
       "      <td>You provide smallholder farmers in Kenya with ...</td>\n",
       "      <td>Correct answer: A\\n\\nRationale: Calibrating a ...</td>\n",
       "      <td>A</td>\n",
       "    </tr>\n",
       "    <tr>\n",
       "      <th>3</th>\n",
       "      <td>4</td>\n",
       "      <td>You provide smallholder farmers in Kenya with ...</td>\n",
       "      <td>Correct answer: A\\n\\nRationale: Onions should ...</td>\n",
       "      <td>A</td>\n",
       "    </tr>\n",
       "    <tr>\n",
       "      <th>4</th>\n",
       "      <td>5</td>\n",
       "      <td>You provide smallholder farmers in Kenya with ...</td>\n",
       "      <td>Correct answer: C\\n\\nRationale: Option C provi...</td>\n",
       "      <td>C</td>\n",
       "    </tr>\n",
       "    <tr>\n",
       "      <th>5</th>\n",
       "      <td>6</td>\n",
       "      <td>You provide smallholder farmers in Kenya with ...</td>\n",
       "      <td>Correct answer: C\\n\\nRationale: Composting ani...</td>\n",
       "      <td>C</td>\n",
       "    </tr>\n",
       "    <tr>\n",
       "      <th>6</th>\n",
       "      <td>7</td>\n",
       "      <td>You provide smallholder farmers in Kenya with ...</td>\n",
       "      <td>Correct answer: D\\n\\nRationale: Determining se...</td>\n",
       "      <td>D</td>\n",
       "    </tr>\n",
       "    <tr>\n",
       "      <th>7</th>\n",
       "      <td>8</td>\n",
       "      <td>You provide smallholder farmers in Kenya with ...</td>\n",
       "      <td>Correct answer: D\\n\\nRationale: Option D is co...</td>\n",
       "      <td>D</td>\n",
       "    </tr>\n",
       "    <tr>\n",
       "      <th>8</th>\n",
       "      <td>9</td>\n",
       "      <td>You provide smallholder farmers in Kenya with ...</td>\n",
       "      <td>Correct answer: C\\n\\nRationale: \\nMaking organ...</td>\n",
       "      <td>C</td>\n",
       "    </tr>\n",
       "    <tr>\n",
       "      <th>9</th>\n",
       "      <td>10</td>\n",
       "      <td>You provide smallholder farmers in Kenya with ...</td>\n",
       "      <td>Correct answer: B\\n\\nRationale: For smallholde...</td>\n",
       "      <td>B</td>\n",
       "    </tr>\n",
       "    <tr>\n",
       "      <th>10</th>\n",
       "      <td>11</td>\n",
       "      <td>You provide smallholder farmers in Kenya with ...</td>\n",
       "      <td>Correct answer: A, B, D\\n\\nRationale: The lowl...</td>\n",
       "      <td>B</td>\n",
       "    </tr>\n",
       "    <tr>\n",
       "      <th>11</th>\n",
       "      <td>12</td>\n",
       "      <td>You provide smallholder farmers in Kenya with ...</td>\n",
       "      <td>Correct answer: A\\n\\nRationale: Option A is co...</td>\n",
       "      <td>A</td>\n",
       "    </tr>\n",
       "    <tr>\n",
       "      <th>12</th>\n",
       "      <td>13</td>\n",
       "      <td>You provide smallholder farmers in Kenya with ...</td>\n",
       "      <td>Correct answer: C\\n\\nRationale: During cold we...</td>\n",
       "      <td>D</td>\n",
       "    </tr>\n",
       "    <tr>\n",
       "      <th>13</th>\n",
       "      <td>14</td>\n",
       "      <td>You provide smallholder farmers in Kenya with ...</td>\n",
       "      <td>Correct answer: B\\n\\nRationale: Intercropping ...</td>\n",
       "      <td>B</td>\n",
       "    </tr>\n",
       "    <tr>\n",
       "      <th>14</th>\n",
       "      <td>15</td>\n",
       "      <td>You provide smallholder farmers in Kenya with ...</td>\n",
       "      <td>Correct answer: B\\n\\nRationale: Option B provi...</td>\n",
       "      <td>B</td>\n",
       "    </tr>\n",
       "    <tr>\n",
       "      <th>15</th>\n",
       "      <td>16</td>\n",
       "      <td>You provide smallholder farmers in Kenya with ...</td>\n",
       "      <td>Correct answer: B\\n\\nRationale: Option B is co...</td>\n",
       "      <td>B</td>\n",
       "    </tr>\n",
       "    <tr>\n",
       "      <th>16</th>\n",
       "      <td>17</td>\n",
       "      <td>You provide smallholder farmers in Kenya with ...</td>\n",
       "      <td>Correct answer: B\\n\\nRationale: Option B is co...</td>\n",
       "      <td>B</td>\n",
       "    </tr>\n",
       "    <tr>\n",
       "      <th>17</th>\n",
       "      <td>18</td>\n",
       "      <td>You provide smallholder farmers in Kenya with ...</td>\n",
       "      <td>Correct answer: A\\n\\nRationale: Transplanting ...</td>\n",
       "      <td>A</td>\n",
       "    </tr>\n",
       "  </tbody>\n",
       "</table>\n",
       "</div>"
      ],
      "text/plain": [
       "    question_id                                             prompt  \\\n",
       "0             1  You provide smallholder farmers in Kenya with ...   \n",
       "1             2  You provide smallholder farmers in Kenya with ...   \n",
       "2             3  You provide smallholder farmers in Kenya with ...   \n",
       "3             4  You provide smallholder farmers in Kenya with ...   \n",
       "4             5  You provide smallholder farmers in Kenya with ...   \n",
       "5             6  You provide smallholder farmers in Kenya with ...   \n",
       "6             7  You provide smallholder farmers in Kenya with ...   \n",
       "7             8  You provide smallholder farmers in Kenya with ...   \n",
       "8             9  You provide smallholder farmers in Kenya with ...   \n",
       "9            10  You provide smallholder farmers in Kenya with ...   \n",
       "10           11  You provide smallholder farmers in Kenya with ...   \n",
       "11           12  You provide smallholder farmers in Kenya with ...   \n",
       "12           13  You provide smallholder farmers in Kenya with ...   \n",
       "13           14  You provide smallholder farmers in Kenya with ...   \n",
       "14           15  You provide smallholder farmers in Kenya with ...   \n",
       "15           16  You provide smallholder farmers in Kenya with ...   \n",
       "16           17  You provide smallholder farmers in Kenya with ...   \n",
       "17           18  You provide smallholder farmers in Kenya with ...   \n",
       "\n",
       "                                               answer correct_answer  \n",
       "0   Correct answer: A\\n\\nRationale: Option A is co...              A  \n",
       "1   Correct answer: A\\n\\nRationale: Integrated Pes...              A  \n",
       "2   Correct answer: A\\n\\nRationale: Calibrating a ...              A  \n",
       "3   Correct answer: A\\n\\nRationale: Onions should ...              A  \n",
       "4   Correct answer: C\\n\\nRationale: Option C provi...              C  \n",
       "5   Correct answer: C\\n\\nRationale: Composting ani...              C  \n",
       "6   Correct answer: D\\n\\nRationale: Determining se...              D  \n",
       "7   Correct answer: D\\n\\nRationale: Option D is co...              D  \n",
       "8   Correct answer: C\\n\\nRationale: \\nMaking organ...              C  \n",
       "9   Correct answer: B\\n\\nRationale: For smallholde...              B  \n",
       "10  Correct answer: A, B, D\\n\\nRationale: The lowl...              B  \n",
       "11  Correct answer: A\\n\\nRationale: Option A is co...              A  \n",
       "12  Correct answer: C\\n\\nRationale: During cold we...              D  \n",
       "13  Correct answer: B\\n\\nRationale: Intercropping ...              B  \n",
       "14  Correct answer: B\\n\\nRationale: Option B provi...              B  \n",
       "15  Correct answer: B\\n\\nRationale: Option B is co...              B  \n",
       "16  Correct answer: B\\n\\nRationale: Option B is co...              B  \n",
       "17  Correct answer: A\\n\\nRationale: Transplanting ...              A  "
      ]
     },
     "execution_count": 25,
     "metadata": {},
     "output_type": "execute_result"
    }
   ],
   "source": [
    "deepseek_r1_df"
   ]
  },
  {
   "cell_type": "markdown",
   "metadata": {},
   "source": [
    "# Gemini"
   ]
  },
  {
   "cell_type": "code",
   "execution_count": 27,
   "metadata": {},
   "outputs": [
    {
     "name": "stdout",
     "output_type": "stream",
     "text": [
      "Saving results to results/20_harder_MCQs-gemini-gemini-2-5-pro-preview-05-06.csv\n"
     ]
    }
   ],
   "source": [
    "gemini_2_5_pro_df = get_llm_answers(mcq_df, \"gemini/gemini-2.5-pro-preview-05-06\", country, max_completion_tokens=25000, reasoning_effort=\"medium\")"
   ]
  },
  {
   "cell_type": "code",
   "execution_count": 28,
   "metadata": {},
   "outputs": [
    {
     "data": {
      "application/vnd.microsoft.datawrangler.viewer.v0+json": {
       "columns": [
        {
         "name": "index",
         "rawType": "int64",
         "type": "integer"
        },
        {
         "name": "question_id",
         "rawType": "int64",
         "type": "integer"
        },
        {
         "name": "prompt",
         "rawType": "object",
         "type": "string"
        },
        {
         "name": "answer",
         "rawType": "object",
         "type": "string"
        },
        {
         "name": "correct_answer",
         "rawType": "object",
         "type": "string"
        }
       ],
       "ref": "3df71dd8-a052-4a3f-9658-92b2f99e4d72",
       "rows": [
        [
         "0",
         "1",
         "You provide smallholder farmers in Kenya with agricultural advice and information. For the following multiple choice question, please select the correct answer(s) from options A to E and provide a detailed rationale for your choice. There can be multiple correct answers.\n\nQuestion: How do I, in the shortest duration and cost effectively correct for nutrient deficiency in my farm?\n\nAnswer options:\nA. Test soil for nutrient deficiency or perform visual observations of the crop to diagnose the deficiency; get the right source of fertilizer to replenish the deficiency; apply the right rate of the fertilizer that would sufficiently correct the deficiency; apply the fertilizer at the right stage of the crop to maximize uptake and use…remember to apply when soil is moist; place the fertilizer close to the plant root zone but not too close to avoid scotching\nB. Test soil for nutrient deficiency or perform visual observations of the crop to diagnose the deficiency; apply well rotten manure; apply the right rate of the manure that would sufficiently correct the deficiency; apply the manure at the right stage of the crop to maximize uptake and use…remember to apply when soil is moist; place the manure close to the plant root zone but not too close to avoid scotching\nC. Apply fertilizer at the right rate, and the right stage of the crop; place the fertilizer close to the root system\n\nYour response must follow this format exactly:\n\nCorrect answer: [OPTION(S)]\n\nRationale: [Not longer than 10 sentences]",
         "Correct answer: [A, B]\n\nRationale:\nOption A describes the most technically sound and rapid method using fertilizers. Diagnosing the deficiency (soil test or visual), selecting the right fertilizer source, and applying it using the 4R principles (Right Rate, Right Time, Right Place, including moist soil and proper placement) ensures nutrients are quickly available to the crop, leading to correction in the shortest duration and cost-effectively by maximizing nutrient use efficiency and minimizing waste.\n\nOption B offers a viable and cost-effective alternative, particularly for smallholder farmers who may have ready access to well-rotted manure at little to no cash cost. While manure releases nutrients more slowly than mineral fertilizers (so it may not be the absolute \"shortest duration\" compared to A), following the principles of diagnosis, applying the right rate at the right time and place will effectively correct deficiencies over time and improve long-term soil health. For farmers with limited access to cash for fertilizers, this is a practical and cost-effective approach.",
         "A"
        ],
        [
         "1",
         "2",
         "You provide smallholder farmers in Kenya with agricultural advice and information. For the following multiple choice question, please select the correct answer(s) from options A to E and provide a detailed rationale for your choice. There can be multiple correct answers.\n\nQuestion: How do I implement integrated pest management (IPM) on a farm?\n\nAnswer options:\nA. Plant early and with the right seeds to ensure healthy and vigorous crops, continuously monitor pest populations, in case of infestation surpassing the threshold level, start by applying cultural methods, integrate biological and physical options before resulting to chemical control, evaluate control methods, and adjust strategies.\nB. Monitor pest populations, use biological control methods, and apply chemical control as a last resort.\nC. Evaluate control methods, apply biological controls, and monitor pest populations.\nD. Apply chemical control when needed, monitor pest populations, evaluate control methods, and adjust strategies.\n\nYour response must follow this format exactly:\n\nCorrect answer: [OPTION(S)]\n\nRationale: [Not longer than 10 sentences]",
         "Correct answer: [A, B]\n\nRationale: Option A provides the most comprehensive and accurate description of how to implement Integrated Pest Management (IPM). It correctly outlines the sequential process: starting with preventative measures like healthy crop establishment and proper seed selection, followed by continuous monitoring of pest populations. It emphasizes using action thresholds to make decisions and prioritizes cultural, biological, and physical controls before resorting to chemical applications as a last measure. Finally, it includes the crucial steps of evaluating control effectiveness and adjusting strategies, reflecting the adaptive nature of IPM.\n\nOption B is also correct because it highlights several core actions fundamental to implementing IPM. Monitoring pest populations is the basis for informed decision-making. Utilizing biological control methods is a key non-chemical strategy. Crucially, applying chemical control only as a last resort is a central tenet of IPM, aiming to minimize pesticide use and its associated risks. While not as exhaustive as option A, these steps represent a correct, albeit simplified, approach to IPM implementation, particularly regarding intervention choices. Options C and D are less accurate: C presents IPM components in an illogical implementation order, and D's phrasing \"apply chemical control when needed\" can be misconstrued as not strictly adhering to the IPM hierarchy of controls.",
         "A"
        ],
        [
         "2",
         "3",
         "You provide smallholder farmers in Kenya with agricultural advice and information. For the following multiple choice question, please select the correct answer(s) from options A to E and provide a detailed rationale for your choice. There can be multiple correct answers.\n\nQuestion: How do I calibrate a knapsack sprayer to ensure accurate pesticide application?\n\nAnswer options:\nA. Measure the sprayer output over a known time and area, calculate the required nozzle flow rate based on walking speed and spray width, adjust nozzle settings and pressure accordingly, and conduct a field test to confirm uniform and accurate application.\nB. Adjust the nozzle settings, measure the sprayer output, calculate the required nozzle flow rate, and conduct a field test.\nC. Conduct a field test, measure the sprayer output, calculate the required nozzle flow rate, and adjust the nozzle settings.\nD. Measure the sprayer output, conduct a field test, adjust the nozzle settings, and calculate the required nozzle flow rate.\n\nYour response must follow this format exactly:\n\nCorrect answer: [OPTION(S)]\n\nRationale: [Not longer than 10 sentences]",
         "Correct answer: [A]\n\nRationale: Option A outlines the most accurate and systematic procedure for calibrating a knapsack sprayer. It begins by determining the sprayer's current performance: **measuring its output (e.g., liters per minute) and the area it covers** (based on a consistent walking speed and the spray swath width). This allows calculation of the current application rate (e.g., liters per hectare). Next, the **required nozzle flow rate is calculated** based on the pesticide label's recommended application rate and the farmer's chosen walking speed and spray width. With the current and required rates known, **adjustments are made to the nozzle settings or pressure** to match the sprayer's output to the calculated requirement. Finally, a **field test on a small, measured area is crucial** to confirm that the sprayer is delivering the correct volume uniformly across the target area before commencing the full spraying operation. This comprehensive sequence ensures accurate pesticide application, which is vital for efficacy, cost-effectiveness, and environmental safety. The other options present a less logical or incomplete sequence of these essential calibration steps.",
         "A"
        ],
        [
         "3",
         "4",
         "You provide smallholder farmers in Kenya with agricultural advice and information. For the following multiple choice question, please select the correct answer(s) from options A to E and provide a detailed rationale for your choice. There can be multiple correct answers.\n\nQuestion: What is the right procedure to harvest onions?\n\nAnswer options:\nA. Harvest during the dry season, at about 90-150 after planting depending on the variety. The crop must be mature by observing that the tops have started to yellow or droop, and the bulbs will have formed shing membranous cover around them. To harvest, loosen the soil around the plants to allow for easier removal. Pull the bulbs by hand or dig them up with garden fork. Once the bulbs are out of the ground, cut the tops back to about one inch. Clean the bulbs and let them dry in the sun to cure (dry out) before storing. If long storage is intended, cure the bulbs in a well-ventilated store by spreading on racks until the necks and outer scale leaves of the bulbs are thoroughly dried.\nB. Harvest during the wet season, at about 90-150 after planting depending on the variety. The crop must be mature by observing that the tops have started to yellow or droop, and the bulbs will have formed shing membranous cover around them. To harvest, loosen the soil around the plants to allow for easier removal. Pull the bulbs by hand or dig them up with garden fork. Once the bulbs are out of the ground, cut the tops back to about one inch. Clean the bulbs and let them dry in the sun to cure (dry out) before storing. If long storage is intended, cure the bulbs in a well-ventilated store by spreading on racks until the necks and outer scale leaves of the bulbs are thoroughly dried.\nC. Harvest at about 90-150 after planting depending on the variety. The crop must be mature by observing that the tops have started to yellow or droop, and the bulbs will have formed shing membranous cover around them. To harvest, loosen the soil around the plants to allow for easier removal. Pull the bulbs by hand or dig them up with garden fork. Clean the bulbs and let them dry in the sun to cure (dry out) before storing. If long storage is intended, cure the bulbs in a well-ventilated store by spreading on racks until the necks and outer scale leaves of the bulbs are thoroughly dried.\nD. Harvest during the dry season, at about 90-150 after planting depending on the variety. To harvest, loosen the soil around the plants to allow for easier removal. Pull the bulbs by hand or dig them up with garden fork. Once the bulbs are out of the ground, cut the tops back to about one inch. Clean the bulbs and let them dry in the sun to cure (dry out) before storing. If long storage is intended, cure the bulbs in a well-ventilated store by spreading on racks until the necks and outer scale leaves of the bulbs are thoroughly dried.\n\nYour response must follow this format exactly:\n\nCorrect answer: [OPTION(S)]\n\nRationale: [Not longer than 10 sentences]",
         "Correct answer: [A, C]\n\nRationale: Both options A and C describe key correct steps for harvesting onions. They correctly identify maturity indicators (tops yellowing or drooping, formation of a membranous bulb cover) and the typical harvest time (90-150 days post-planting). Both also recommend careful harvesting techniques and a crucial two-stage curing process: an initial drying period (sun curing), followed by extended curing in a well-ventilated store for long-term storage, aiming for thoroughly dried necks and outer scales.\n\nOption A outlines a more comprehensive and optimal procedure by specifying harvesting during the dry season, which is ideal for sun curing, and instructing to cut tops back to about one inch after harvest, promoting better neck drying and reducing storage rot.\n\nOption C, while omitting these explicit details, still presents a fundamentally correct approach. The instruction to \"dry in the sun to cure\" implies the necessity of dry weather conditions. Although it doesn't detail immediate top cutting, the stated goal of achieving thoroughly dried necks for long storage is critical and achievable if the curing process is managed effectively. Therefore, while A is more detailed and represents best practice, C also describes a viable and right procedure. Options B (harvesting in the wet season) and D (lacking maturity indicators) are incorrect as they describe practices detrimental to onion quality and storage.",
         "A"
        ],
        [
         "4",
         "5",
         "You provide smallholder farmers in Kenya with agricultural advice and information. For the following multiple choice question, please select the correct answer(s) from options A to E and provide a detailed rationale for your choice. There can be multiple correct answers.\n\nQuestion: How should I wear PPE?\n\nAnswer options:\nA. Put on overall/coveralls first, then gloves, mask, and finish with the face shield\nB. Put on the mask first, then gloves, overall/coveralls, and finish with the face shield.\nC. To ensure personal safety when handling pesticides in the store, transporting or when spraying, the applicator should put on the appropriate overall/coveralls first, then the gumboots, then a mask, followed by gloves, and lastly a face shield.\nD. Put on gloves, then a face shield, followed by overall/coveralls, and finally a mask.\n\nYour response must follow this format exactly:\n\nCorrect answer: [OPTION(S)]\n\nRationale: [Not longer than 10 sentences]",
         "Correct answer: [C]\n\nRationale: Option C describes the most appropriate and safest sequence for donning (putting on) Personal Protective Equipment (PPE), particularly crucial when handling pesticides. Starting with the overall/coveralls and then gumboots ensures that the body, legs, and feet are protected first. Next, the mask is put on to protect the respiratory system; it's important this is done before hands are gloved or become potentially contaminated. After the mask is securely fitted, gloves are worn, typically ensuring they go over the cuffs of the overall. Finally, the face shield is added to protect the eyes and face from splashes or spray drift. This systematic order helps to minimize the risk of self-contamination during the donning process, which is essential for personal safety. The other options suggest orders that could lead to contamination, such as putting on gloves before the mask or before the main body covering.",
         "C"
        ],
        [
         "5",
         "6",
         "You provide smallholder farmers in Kenya with agricultural advice and information. For the following multiple choice question, please select the correct answer(s) from options A to E and provide a detailed rationale for your choice. There can be multiple correct answers.\n\nQuestion: How do I use animal waste management on a mixed crop-livestock farm?\n\nAnswer options:\nA. Collect animal waste and dump it directly onto crop fields.\nB. Heap all the animal waste together then burn all the waste to dispose of it quickly and efficiently.\nC. Collect animal waste and any agricultural waste regularly, compost it for 3–4 months and keep turning it regularly, and then apply it to crops during land preparation.\nD. Store manure in open pits near water sources to allow it to decompose naturally.\n\nYour response must follow this format exactly:\n\nCorrect answer: [OPTION(S)]\n\nRationale: [Not longer than 10 sentences]",
         "Correct answer: A, C\n\nRationale: Both composting (Option C) and direct application (Option A) are methods to use animal waste on crop fields on a mixed farm. Option C, which involves collecting animal and agricultural waste, composting it for 3–4 months with regular turning, and then applying it during land preparation, is the most highly recommended method. This process creates a stable, nutrient-rich compost that improves soil structure, water retention, and fertility while significantly reducing pathogens and weed seeds. Option A, collecting animal waste and applying it directly to crop fields, can also add nutrients and organic matter. However, if using fresh manure, it should be applied with caution, ideally incorporated into the soil well before planting, to prevent burning young plants, spreading diseases, or introducing many weed seeds; aged manure is generally safer for direct application. Composting (Option C) is a more effective practice for maximizing nutrient benefits and minimizing risks. Burning waste (Option B) destroys valuable nutrients and organic matter. Storing manure in open pits near water sources (Option D) is dangerous as it leads to water pollution and nutrient loss.",
         "C"
        ],
        [
         "6",
         "7",
         "You provide smallholder farmers in Kenya with agricultural advice and information. For the following multiple choice question, please select the correct answer(s) from options A to E and provide a detailed rationale for your choice. There can be multiple correct answers.\n\nQuestion: How do I determine the seed rate required for planting on a farm?\n\nAnswer options:\nA. Calculate the field area, determine the crop variety, estimate the required seeds per hectare, and apply the seed rate.\nB. Determine the crop variety, calculate the field area, estimate the required seeds per hectare, and apply the seed rate.\nC. Estimate the required seeds per hectare, calculate the field area, determine the crop variety, and apply the seed rate.\nD. Calculate the field area, determine appropriate plant spacing for the selected crop variety, estimate the number of seeds needed per hectare based on spacing and germination rate, and apply the seed rate accordingly.\n\nYour response must follow this format exactly:\n\nCorrect answer: [OPTION(S)]\n\nRationale: [Not longer than 10 sentences]",
         "Correct answer: [A, B, D]\n\nRationale:\nOptions A and B correctly outline essential initial steps: identifying the crop variety and measuring the field area, which are crucial prerequisites for determining total seed needs. Both then involve estimating the required seeds per hectare (the seed rate) before applying it to the farm. The order of calculating field area and determining crop variety (as in A versus B) can be flexible as both are needed before calculating total seeds. Option D provides a more detailed and agronomically sound method for determining this seed rate, by calculating it based on appropriate plant spacing for the selected crop variety and the seed's germination rate. This approach allows for precise calculation to achieve the desired plant population, accounting for seed viability. Therefore, A, B, and D all describe valid approaches to determining the seed rate. Option C is less optimal as the seed rate is highly dependent on the crop variety, which should ideally be determined before estimating a specific rate per hectare.",
         "D"
        ],
        [
         "7",
         "8",
         "You provide smallholder farmers in Kenya with agricultural advice and information. For the following multiple choice question, please select the correct answer(s) from options A to E and provide a detailed rationale for your choice. There can be multiple correct answers.\n\nQuestion: Last year I experienced significant losses in my stored maize grain. How do I handle my grain to minimize these losses?\n\nAnswer options:\nA. Harvest the crop when the leaves are dry. Thresh the grain either manually or mechanically but avoid seed breakage. Mix the grain with an insecticide (grain dust) at the recommended rate. Put the treated grain in gunny bags ready storage. Alternatively, you can put dry grain in hermetic without treating with insecticide. Clean the store, and dust it with insecticides before storing the bags. Ensure the store is well ventilated, and free from rodents, and stack the bags on pallets and in a way that ventilation is maximized.\nB. Harvest during the dry season, and importantly when maize is physiologically mature. Dry the harvested cobs under the until the moisture content is reduced to about 13%. You can estimate that the grain is dry by doing simple tests like salt test or biting test. Thresh the grain either manually or mechanically but avoid seed breakage. Mix the grain with an insecticide (grain dust) at the recommended rate. Put the treated grain in gunny bags ready storage. Alternatively, you can put dry grain in hermetic without treating with insecticide. Clean the store, and dust it with insecticides before storing the bags.\nC. Harvest during the dry season, and importantly when maize is physiologically mature. Thresh the grain either manually or mechanically but avoid seed breakage. Mix the grain with an insecticide (grain dust) at the recommended rate. Put the treated grain in gunny bags ready storage. Alternatively, you can put dry grain in hermetic without treating with insecticide. Clean the store, and dust it with insecticides before storing the bags. Ensure the store is well ventilated, and free from rodents, and stack the bags on pallets and in a way that ventilation is maximized.\nD. Harvest during the dry season, and importantly when maize is physiologically mature. Dry the harvested cobs under the until the moisture content is reduced to about 13%. You can estimate that the grain is dry by doing simple tests like salt test or biting test. Thresh the grain either manually or mechanically but avoid seed breakage. Mix the grain with an insecticide (grain dust) at the recommended rate. Put the treated grain in gunny bags ready storage. Alternatively, you can put dry grain in hermetic without treating with insecticide. Clean the store, and dust it with insecticides before storing the bags. Ensure the store is well ventilated, and free from rodents, and stack the bags on pallets and in a way that ventilation is maximized.\n\nYour response must follow this format exactly:\n\nCorrect answer: [OPTION(S)]\n\nRationale: [Not longer than 10 sentences]",
         "Correct answer: [B, D]\n\nRationale:\nOption D provides the most comprehensive and ideal set of practices for minimizing post-harvest maize losses. It correctly details all critical stages: harvesting at physiological maturity during the dry season, drying grain to approximately 13% moisture content, careful threshing, appropriate grain treatment (insecticide for gunny bags or using hermetic bags for dry, untreated grain), thorough store cleaning and dusting with insecticides. Crucially, it also includes essential storage environment management for gunny bags: ensuring the store is well-ventilated, rodent-free, using pallets to prevent moisture uptake, and stacking bags to maximize ventilation.\n\nOption B is also a correct answer as it outlines many essential and sound practices. It correctly advises harvesting at physiological maturity, drying grain to 13% moisture content (including practical estimation methods), careful threshing, using insecticides for grain in gunny bags or hermetic bags for dry, untreated grain, and cleaning and dusting the store. While it omits specific details on gunny bag stacking and store environment management (like pallets and rodent-proofing the store structure, which D includes), the steps it does list are all correct and vital for significantly reducing losses.\n\nOption A is less ideal because \"harvest when leaves are dry\" is a less precise indicator than physiological maturity and critically omits explicit instructions for drying grain before insecticide treatment for gunny bag storage. Option C is incorrect as it completely misses the crucial step of drying the grain to a safe moisture level before storage or treatment.",
         "D"
        ],
        [
         "8",
         "9",
         "You provide smallholder farmers in Kenya with agricultural advice and information. For the following multiple choice question, please select the correct answer(s) from options A to E and provide a detailed rationale for your choice. There can be multiple correct answers.\n\nQuestion: How do I make organic fertilizer from animal manure?\n\nAnswer options:\nA. Collect manure, compost it, apply the compost to the soil, and monitor soil quality.\nB. Collect manure, store it for several weeks, compost it, and apply it to the soil.\nC. Collect fresh animal manure, mix it with carbon-rich organic materials (like crop residues or dry leaves) to balance the carbon-to-nitrogen ratio, maintain adequate moisture and aeration during composting by turning the pile regularly, and apply the mature compost to the soil.\n\nYour response must follow this format exactly:\n\nCorrect answer: [OPTION(S)]\n\nRationale: [Not longer than 10 sentences]",
         "Correct answer: A, C\n\nRationale: Option C provides a comprehensive and accurate method for making organic fertilizer (compost) from animal manure. It correctly details the crucial steps: collecting fresh manure, balancing the carbon-to-nitrogen ratio with carbon-rich materials, and ensuring proper moisture and aeration through regular turning for effective decomposition. This results in mature, high-quality compost ready for soil application.\n\nOption A describes a correct, albeit higher-level, sequence of actions. It includes collecting manure and the essential step of \"compost it,\" which is the process of making organic fertilizer. While it also includes subsequent steps of applying the compost and monitoring soil quality (which are about usage and evaluation rather than making), the initial steps correctly outline a path to creating organic fertilizer. Both A and C offer valid perspectives on the process, with C detailing the \"how-to\" of composting mentioned in A. Option B is less ideal as \"storing manure for several weeks\" before composting is not always necessary or optimal and can lead to nutrient loss if done improperly.",
         "C"
        ],
        [
         "9",
         "10",
         "You provide smallholder farmers in Kenya with agricultural advice and information. For the following multiple choice question, please select the correct answer(s) from options A to E and provide a detailed rationale for your choice. There can be multiple correct answers.\n\nQuestion: What is the best weed control strategy on a farm?\n\nAnswer options:\nA. Use mechanical control methods, apply herbicides, monitor weed growth, and evaluate alternatives.\nB. First identify the weed species in your farm, use mechanical control methods e.g uprooting or manual weeding, monitor weed growth rate, and evaluate alternatives whether it requires use of herbicides to manage its growth and competition.\nC. Identify weed species, apply chemical herbicides, monitor the effectiveness, and evaluate alternatives.\nD. Apply herbicides, use mechanical control, monitor effectiveness, and evaluate alternatives.\n\nYour response must follow this format exactly:\n\nCorrect answer: [OPTION(S)]\n\nRationale: [Not longer than 10 sentences]",
         "Correct answer: B, C\n\nRationale: Option B represents the most comprehensive and ideal Integrated Weed Management (IWM) strategy for smallholder farmers in Kenya. It correctly starts with weed identification, prioritizes accessible and often lower-cost mechanical controls, and incorporates monitoring and evaluation to decide if other methods, like herbicides, are needed. This approach is sustainable, adaptive, and considers the typical resource availability for smallholders. Option C is also a correct strategy as it includes essential IWM steps: identifying weed species, applying a specific control method (herbicides), monitoring effectiveness, and evaluating alternatives. While Option B is generally preferable for its initial emphasis on non-chemical methods, Option C can be an appropriate strategy in situations where specific, difficult-to-control weeds are identified and known to be best managed with herbicides, provided this is done judiciously. Both options emphasize informed decision-making based on identification and ongoing assessment.",
         "B"
        ],
        [
         "10",
         "11",
         "You provide smallholder farmers in Kenya with agricultural advice and information. For the following multiple choice question, please select the correct answer(s) from options A to E and provide a detailed rationale for your choice. There can be multiple correct answers.\n\nQuestion: Which maize varieties are suitable lowlands of Kenya\n\nAnswer options:\nA. DH01, DH02, DH05, Duma 43, H6213, H519\nB. DH01, DH02, DH05, Duma 43, Sungura 301\nC. H627, H6213, DH01, DH02, DH05, Duma 43, H6213, H519\nD. H512, H511, D01, DH02, DH05, Duma 43, H6213, H519\n\nYour response must follow this format exactly:\n\nCorrect answer: [OPTION(S)]\n\nRationale: [Not longer than 10 sentences]",
         "Correct answer: [B]\n\nRationale: Lowland areas in Kenya are often characterized by higher temperatures and lower, more erratic rainfall, making drought tolerance and early maturity key traits for suitable maize varieties. Varieties DH01, DH02, and DH05 are Dryland Hybrids developed for moisture-stress areas. Duma 43 is well-known for its early maturity and good performance in dry, low-to-mid altitude regions. Sungura 301 is also recognized for its suitability to dryland/lowland conditions, offering good drought tolerance. Options A, C, and D include highland (e.g., H6213, H627) or mid-altitude (e.g., H519, H511, H512) varieties which are not optimal for the typical hotter and drier lowland environments.",
         "B"
        ],
        [
         "11",
         "12",
         "You provide smallholder farmers in Kenya with agricultural advice and information. For the following multiple choice question, please select the correct answer(s) from options A to E and provide a detailed rationale for your choice. There can be multiple correct answers.\n\nQuestion: Which is the most optimal time to apply pesticides?\n\nAnswer options:\nA. Spray either early in the morning or late in the evening when it’s cool, and the pests are active\nB. Spray when its sunny, hot, windy, and insects are visible on the crop\nC. Spray the pesticide directly towards the wind\nD. Spray immediately before or after heavy rainfall\n\nYour response must follow this format exactly:\n\nCorrect answer: [OPTION(S)]\n\nRationale: [Not longer than 10 sentences]",
         "Correct answer: A\n\nRationale:\nOption A is the most optimal time. Spraying in the early morning or late evening offers cooler temperatures, which minimize pesticide evaporation and volatilization, allowing more product to reach and stay on the target surfaces. Calmer wind conditions, often present at these times, significantly reduce pesticide drift, improving accuracy and safety. When pests are active, the pesticide has a higher chance of directly contacting them, increasing its effectiveness, especially for contact pesticides. These cooler periods also reduce the risk of plant stress or phytotoxicity from the spray. Furthermore, beneficial insects like pollinators (e.g., bees) are generally less active during early mornings or late evenings, reducing their exposure to harmful chemicals. Options B, C, and D describe suboptimal or dangerous conditions: hot, windy conditions (B) increase drift and evaporation; spraying into the wind (C) is hazardous to the applicator; and spraying before or immediately after heavy rain (D) leads to pesticide wash-off or dilution and runoff.",
         "A"
        ],
        [
         "12",
         "13",
         "You provide smallholder farmers in Kenya with agricultural advice and information. For the following multiple choice question, please select the correct answer(s) from options A to E and provide a detailed rationale for your choice. There can be multiple correct answers.\n\nQuestion: Which diseases should I look out for during cold weather in poultry?\n\nAnswer options:\nA. Newcastle disease, fowl cholera, coccidiosis\nB. Fowl cholera, coccidiosis, aspergillosis and respiratory distress\nC. Aspergillosis, fowlpox, infectious coryza, pneumonia\nD. Pneumonia, coccidiosis, and respiratory distress\n\nYour response must follow this format exactly:\n\nCorrect answer: [OPTION(S)]\n\nRationale: [Not longer than 10 sentences]",
         "Correct answer: B, D\n\nRationale: Both options B and D highlight diseases and symptoms highly relevant during cold weather in poultry. Cold, damp conditions and poor ventilation, often present when farmers try to conserve heat, create an environment conducive to these health issues. Fowl cholera (in option B) can be triggered by stress, including cold, and often occurs in wet conditions. Coccidiosis (in options B and D) proliferates in damp litter, a common problem in poorly ventilated houses during cold seasons. Aspergillosis (in option B), a fungal disease, is often linked to moldy litter common in damp, poorly ventilated cold-weather housing, leading to respiratory problems. Pneumonia (in option D) is a frequent consequence of cold, damp, and poorly ventilated environments causing lung inflammation. Respiratory distress (in options B and D) is a critical symptom complex to watch for, indicating these conditions or others like bronchitis, which are exacerbated by cold air and ammonia buildup from poor ventilation. While diseases like Newcastle (A) or Fowlpox (C) can occur, they are not as specifically tied to cold weather as primary drivers compared to those listed in B and D. Therefore, farmers should be vigilant for the diseases and signs listed in options B and D during colder periods.",
         "D"
        ],
        [
         "13",
         "14",
         "You provide smallholder farmers in Kenya with agricultural advice and information. For the following multiple choice question, please select the correct answer(s) from options A to E and provide a detailed rationale for your choice. There can be multiple correct answers.\n\nQuestion: Which are the best practices when intercropping crops?\n\nAnswer options:\nA. Intercrop maize with millet and sorghum\nB. Intercrop legumes such beans, cowpea, mung beans or pigeonpea with cereal crops like maize, sorghum or millets. However, pay attention to spacing to minimize competition\nC. Intercrop tall crop with similarly tall crops irrespective of the species\nD. Intercrop legumes such beans, cowpea, mung beans or pigeon pea with cereal crops like maize, sorghum or millets at close spacing to increase yield per unit\n\nYour response must follow this format exactly:\n\nCorrect answer: [OPTION(S)]\n\nRationale: [Not longer than 10 sentences]",
         "Correct answer: B, D\n\nRationale: Intercropping legumes (e.g., beans, cowpeas) with cereals (e.g., maize, sorghum) is a highly recommended practice (Options B and D). Legumes contribute nitrogen to the soil, benefiting the companion cereal and improving overall soil health. Option B correctly emphasizes that careful attention to spacing is essential to minimize competition for resources like light, water, and nutrients, ensuring both crops perform well. Option D is also a best practice because a key objective and benefit of intercropping is to increase overall productivity per unit of land (achieving a Land Equivalent Ratio > 1). This is often accomplished through strategic \"close spacing\"—meaning higher plant population densities or more intimate mixtures than in monoculture—designed to maximize complementary resource use and minimize competition between the chosen crops, ultimately leading to higher total yields from the same piece of land. Both principles, managing competition through appropriate spacing (B) and utilizing optimized density for greater land productivity (D), are central to successful intercropping systems.",
         "B"
        ],
        [
         "14",
         "15",
         "You provide smallholder farmers in Kenya with agricultural advice and information. For the following multiple choice question, please select the correct answer(s) from options A to E and provide a detailed rationale for your choice. There can be multiple correct answers.\n\nQuestion: How do I compost crop residues to enhance soil fertility?\n\nAnswer options:\nA. Add organic matter to the compost pile, chop or shred crop residues, and turn regularly.\nB. Collect crop residues, chop/shred them to increase surface area, add a layer of organic matter such as animal manure or green materials in the compost pile, maintain proper moisture and aeration, and turn the compost regularly to support decomposition and aeration.\nC. Collect crop residues, turn them regularly, chop or shred them, and add organic matter to the compost\nD. Collect crop residues, add organic matter to the compost pile, chop or shred them, and turn regularly.\n\nYour response must follow this format exactly:\n\nCorrect answer: [OPTION(S)]\n\nRationale: [Not longer than 10 sentences]",
         "Correct answer: A, B, D\n\nRationale: Options A, B, and D each describe valid and important actions for composting crop residues. Chopping or shredding residues (mentioned in A, B, D) increases their surface area, which helps to speed up the decomposition process by microbes. Adding other organic matter, such as animal manure or green materials (mentioned in A, B, D), provides essential nitrogen to balance the carbon-rich crop residues and can introduce beneficial microbes to the compost pile. Regular turning of the pile (mentioned in A, B, D) is crucial for incorporating oxygen, which is necessary for aerobic decomposition, and for distributing moisture and heat evenly.\nOption B is the most comprehensive and recommended method. It outlines a more complete and systematic process, including the initial collection of residues, emphasizing the purpose of chopping (to increase surface area), the good practice of layering materials, and critically, the need to maintain proper moisture levels and aeration. These additional details highlighted in option B are vital for ensuring efficient decomposition and the creation of high-quality compost, which will effectively enhance soil fertility. Option C is less ideal due to its suggested order of operations, specifically turning residues before chopping, which is generally inefficient.",
         "B"
        ],
        [
         "15",
         "16",
         "You provide smallholder farmers in Kenya with agricultural advice and information. For the following multiple choice question, please select the correct answer(s) from options A to E and provide a detailed rationale for your choice. There can be multiple correct answers.\n\nQuestion: How do I create a simple farm budget for one season of maize farming?\n\nAnswer options:\nA. List only income from maize sales and ignore costs related to inputs, labor, and maintenance.\nB. Come up with a list of all activities to be undertaken, estimate the cost of production including inputs, labor. Estimate the expected yields and price per bag, subtract costs for inputs, labor, and land preparation, then determine the profit or loss.\nC. Record all expenses first and use any leftover funds for farm activities, regardless of income.\nD. Only calculate costs for seeds and fertilizer, as they are the only important expenses for maize farming.\n\nYour response must follow this format exactly:\n\nCorrect answer: [OPTION(S)]\n\nRationale: [Not longer than 10 sentences]",
         "Correct answer: [B]\n\nRationale: Option B outlines the correct comprehensive approach to creating a simple farm budget. A good budget must account for both expected income and all anticipated expenses. This involves listing all farming activities for the season, then estimating the costs associated with inputs (seeds, fertilizer, pesticides), labor (hired or an imputed cost for family labor), and land preparation. Crucially, it also includes estimating potential income by forecasting yields and the expected market price per bag of maize. By subtracting the total estimated costs from the total estimated income, the farmer can project the potential profit or loss for the season, which is essential for informed decision-making. Options A, C, and D are incorrect because they either ignore critical cost components or misunderstand the fundamental purpose of budgeting.",
         "B"
        ],
        [
         "16",
         "17",
         "You provide smallholder farmers in Kenya with agricultural advice and information. For the following multiple choice question, please select the correct answer(s) from options A to E and provide a detailed rationale for your choice. There can be multiple correct answers.\n\nQuestion: How do I apply pesticide to ensure safety and effectiveness\n\nAnswer options:\nA. Mix the pesticide according to instructions, wear PPE, apply it on windy days, and clean equipment thoroughly.\nB. Wear appropriate PPE, mix the pesticide strictly according to label instructions, calibrate the spray equipment, apply during calm weather to prevent drift, avoid applying pesticides on peak heat periods, clean all equipment thoroughly after use, properly dispose the pesticide container.\nC. Wear PPE, apply pesticide on windy days, mix according to instructions, and clean equipment.\n\nYour response must follow this format exactly:\n\nCorrect answer: [OPTION(S)]\n\nRationale: [Not longer than 10 sentences]",
         "Correct answer: B\n\nRationale: Option B provides the most comprehensive and accurate guidance for safe and effective pesticide application. Wearing appropriate Personal Protective Equipment (PPE) protects the farmer from exposure. Mixing pesticides strictly according to label instructions ensures correct concentration for effectiveness and safety. Calibrating spray equipment guarantees the right amount is applied evenly. Applying during calm weather, and avoiding peak heat periods, minimizes pesticide drift to non-target areas and reduces volatilization, thus maximizing effectiveness and protecting the environment and operator. Thoroughly cleaning equipment after use prevents contamination and ensures equipment longevity. Proper disposal of pesticide containers is essential for environmental safety. Options A and C are incorrect as they advise applying pesticides on windy days, which is dangerous and reduces efficacy due to drift.",
         "B"
        ],
        [
         "17",
         "18",
         "You provide smallholder farmers in Kenya with agricultural advice and information. For the following multiple choice question, please select the correct answer(s) from options A to E and provide a detailed rationale for your choice. There can be multiple correct answers.\n\nQuestion: Which is the best practice in transplanting seedlings?\n\nAnswer options:\nA. Prepare the seedbed in advance to fine tilth; Seedling ought to be transplanted at the right stage; harden the seedlings by removing excess shade and reduce watering; on the day of transplanting, thoroughly irrigate the nursery to enable easy removal of the seedlings; transplant the seedlings onto well irrigated seed bed and place the roots carefully to avoid injury. The best time to transplant is late in the evening when it’s cool\nB. Prepare the seedbed in advance to fine tilth; Seedling can be transplanted at any time of the day depending on one’s convenience. Seedling ought to be transplanted at the right stage; harden the seedlings by removing excess shade and reduce watering; on the day of transplanting, thoroughly irrigate the nursery to enable easy removal of the seedlings; transplant the seedlings onto well irrigated seed bed and place the roots carefully to avoid injury.\nC. Prepare the seedbed in advance to fine tilth; Seedling ought to be transplanted at the right stage; on the day of transplanting, thoroughly irrigate the nursery to enable easy removal of the seedlings; transplant the seedlings onto well irrigated seed bed and place the roots carefully to avoid injury. The best time to transplant is late in the evening when it’s cool\nD. Prepare the seedbed in advance to fine tilth; Seedling can be transplanted irrespective of their stage of development; harden the seedlings by removing excess shade and reduce watering; on the day of transplanting, thoroughly irrigate the nursery to enable easy removal of the seedlings; transplant the seedlings onto well irrigated seed bed and place the roots carefully to avoid injury. The best time to transplant is late in the evening when it’s cool\n\nYour response must follow this format exactly:\n\nCorrect answer: [OPTION(S)]\n\nRationale: [Not longer than 10 sentences]",
         "Correct answer: A\n\nRationale: Option A comprehensively lists all critical best practices for successful transplanting. Preparing the seedbed to a fine tilth ensures good root contact and growth. Transplanting at the right stage is crucial, as seedlings that are too young or too old may not establish well. Hardening acclimates seedlings to field conditions, reducing transplant shock. Irrigating the nursery before uprooting minimizes root damage, while transplanting into a well-irrigated seedbed ensures immediate moisture for the roots. Careful root placement prevents injury and promotes quick establishment. Transplanting late in the evening when it's cool reduces water loss through transpiration and allows seedlings to recover overnight. Options B and D are incorrect as they suggest transplanting at inconvenient times or irrespective of seedling stage, respectively. Option C omits the vital step of hardening the seedlings.",
         "A"
        ]
       ],
       "shape": {
        "columns": 4,
        "rows": 18
       }
      },
      "text/html": [
       "<div>\n",
       "<style scoped>\n",
       "    .dataframe tbody tr th:only-of-type {\n",
       "        vertical-align: middle;\n",
       "    }\n",
       "\n",
       "    .dataframe tbody tr th {\n",
       "        vertical-align: top;\n",
       "    }\n",
       "\n",
       "    .dataframe thead th {\n",
       "        text-align: right;\n",
       "    }\n",
       "</style>\n",
       "<table border=\"1\" class=\"dataframe\">\n",
       "  <thead>\n",
       "    <tr style=\"text-align: right;\">\n",
       "      <th></th>\n",
       "      <th>question_id</th>\n",
       "      <th>prompt</th>\n",
       "      <th>answer</th>\n",
       "      <th>correct_answer</th>\n",
       "    </tr>\n",
       "  </thead>\n",
       "  <tbody>\n",
       "    <tr>\n",
       "      <th>0</th>\n",
       "      <td>1</td>\n",
       "      <td>You provide smallholder farmers in Kenya with ...</td>\n",
       "      <td>Correct answer: [A, B]\\n\\nRationale:\\nOption A...</td>\n",
       "      <td>A</td>\n",
       "    </tr>\n",
       "    <tr>\n",
       "      <th>1</th>\n",
       "      <td>2</td>\n",
       "      <td>You provide smallholder farmers in Kenya with ...</td>\n",
       "      <td>Correct answer: [A, B]\\n\\nRationale: Option A ...</td>\n",
       "      <td>A</td>\n",
       "    </tr>\n",
       "    <tr>\n",
       "      <th>2</th>\n",
       "      <td>3</td>\n",
       "      <td>You provide smallholder farmers in Kenya with ...</td>\n",
       "      <td>Correct answer: [A]\\n\\nRationale: Option A out...</td>\n",
       "      <td>A</td>\n",
       "    </tr>\n",
       "    <tr>\n",
       "      <th>3</th>\n",
       "      <td>4</td>\n",
       "      <td>You provide smallholder farmers in Kenya with ...</td>\n",
       "      <td>Correct answer: [A, C]\\n\\nRationale: Both opti...</td>\n",
       "      <td>A</td>\n",
       "    </tr>\n",
       "    <tr>\n",
       "      <th>4</th>\n",
       "      <td>5</td>\n",
       "      <td>You provide smallholder farmers in Kenya with ...</td>\n",
       "      <td>Correct answer: [C]\\n\\nRationale: Option C des...</td>\n",
       "      <td>C</td>\n",
       "    </tr>\n",
       "    <tr>\n",
       "      <th>5</th>\n",
       "      <td>6</td>\n",
       "      <td>You provide smallholder farmers in Kenya with ...</td>\n",
       "      <td>Correct answer: A, C\\n\\nRationale: Both compos...</td>\n",
       "      <td>C</td>\n",
       "    </tr>\n",
       "    <tr>\n",
       "      <th>6</th>\n",
       "      <td>7</td>\n",
       "      <td>You provide smallholder farmers in Kenya with ...</td>\n",
       "      <td>Correct answer: [A, B, D]\\n\\nRationale:\\nOptio...</td>\n",
       "      <td>D</td>\n",
       "    </tr>\n",
       "    <tr>\n",
       "      <th>7</th>\n",
       "      <td>8</td>\n",
       "      <td>You provide smallholder farmers in Kenya with ...</td>\n",
       "      <td>Correct answer: [B, D]\\n\\nRationale:\\nOption D...</td>\n",
       "      <td>D</td>\n",
       "    </tr>\n",
       "    <tr>\n",
       "      <th>8</th>\n",
       "      <td>9</td>\n",
       "      <td>You provide smallholder farmers in Kenya with ...</td>\n",
       "      <td>Correct answer: A, C\\n\\nRationale: Option C pr...</td>\n",
       "      <td>C</td>\n",
       "    </tr>\n",
       "    <tr>\n",
       "      <th>9</th>\n",
       "      <td>10</td>\n",
       "      <td>You provide smallholder farmers in Kenya with ...</td>\n",
       "      <td>Correct answer: B, C\\n\\nRationale: Option B re...</td>\n",
       "      <td>B</td>\n",
       "    </tr>\n",
       "    <tr>\n",
       "      <th>10</th>\n",
       "      <td>11</td>\n",
       "      <td>You provide smallholder farmers in Kenya with ...</td>\n",
       "      <td>Correct answer: [B]\\n\\nRationale: Lowland area...</td>\n",
       "      <td>B</td>\n",
       "    </tr>\n",
       "    <tr>\n",
       "      <th>11</th>\n",
       "      <td>12</td>\n",
       "      <td>You provide smallholder farmers in Kenya with ...</td>\n",
       "      <td>Correct answer: A\\n\\nRationale:\\nOption A is t...</td>\n",
       "      <td>A</td>\n",
       "    </tr>\n",
       "    <tr>\n",
       "      <th>12</th>\n",
       "      <td>13</td>\n",
       "      <td>You provide smallholder farmers in Kenya with ...</td>\n",
       "      <td>Correct answer: B, D\\n\\nRationale: Both option...</td>\n",
       "      <td>D</td>\n",
       "    </tr>\n",
       "    <tr>\n",
       "      <th>13</th>\n",
       "      <td>14</td>\n",
       "      <td>You provide smallholder farmers in Kenya with ...</td>\n",
       "      <td>Correct answer: B, D\\n\\nRationale: Intercroppi...</td>\n",
       "      <td>B</td>\n",
       "    </tr>\n",
       "    <tr>\n",
       "      <th>14</th>\n",
       "      <td>15</td>\n",
       "      <td>You provide smallholder farmers in Kenya with ...</td>\n",
       "      <td>Correct answer: A, B, D\\n\\nRationale: Options ...</td>\n",
       "      <td>B</td>\n",
       "    </tr>\n",
       "    <tr>\n",
       "      <th>15</th>\n",
       "      <td>16</td>\n",
       "      <td>You provide smallholder farmers in Kenya with ...</td>\n",
       "      <td>Correct answer: [B]\\n\\nRationale: Option B out...</td>\n",
       "      <td>B</td>\n",
       "    </tr>\n",
       "    <tr>\n",
       "      <th>16</th>\n",
       "      <td>17</td>\n",
       "      <td>You provide smallholder farmers in Kenya with ...</td>\n",
       "      <td>Correct answer: B\\n\\nRationale: Option B provi...</td>\n",
       "      <td>B</td>\n",
       "    </tr>\n",
       "    <tr>\n",
       "      <th>17</th>\n",
       "      <td>18</td>\n",
       "      <td>You provide smallholder farmers in Kenya with ...</td>\n",
       "      <td>Correct answer: A\\n\\nRationale: Option A compr...</td>\n",
       "      <td>A</td>\n",
       "    </tr>\n",
       "  </tbody>\n",
       "</table>\n",
       "</div>"
      ],
      "text/plain": [
       "    question_id                                             prompt  \\\n",
       "0             1  You provide smallholder farmers in Kenya with ...   \n",
       "1             2  You provide smallholder farmers in Kenya with ...   \n",
       "2             3  You provide smallholder farmers in Kenya with ...   \n",
       "3             4  You provide smallholder farmers in Kenya with ...   \n",
       "4             5  You provide smallholder farmers in Kenya with ...   \n",
       "5             6  You provide smallholder farmers in Kenya with ...   \n",
       "6             7  You provide smallholder farmers in Kenya with ...   \n",
       "7             8  You provide smallholder farmers in Kenya with ...   \n",
       "8             9  You provide smallholder farmers in Kenya with ...   \n",
       "9            10  You provide smallholder farmers in Kenya with ...   \n",
       "10           11  You provide smallholder farmers in Kenya with ...   \n",
       "11           12  You provide smallholder farmers in Kenya with ...   \n",
       "12           13  You provide smallholder farmers in Kenya with ...   \n",
       "13           14  You provide smallholder farmers in Kenya with ...   \n",
       "14           15  You provide smallholder farmers in Kenya with ...   \n",
       "15           16  You provide smallholder farmers in Kenya with ...   \n",
       "16           17  You provide smallholder farmers in Kenya with ...   \n",
       "17           18  You provide smallholder farmers in Kenya with ...   \n",
       "\n",
       "                                               answer correct_answer  \n",
       "0   Correct answer: [A, B]\\n\\nRationale:\\nOption A...              A  \n",
       "1   Correct answer: [A, B]\\n\\nRationale: Option A ...              A  \n",
       "2   Correct answer: [A]\\n\\nRationale: Option A out...              A  \n",
       "3   Correct answer: [A, C]\\n\\nRationale: Both opti...              A  \n",
       "4   Correct answer: [C]\\n\\nRationale: Option C des...              C  \n",
       "5   Correct answer: A, C\\n\\nRationale: Both compos...              C  \n",
       "6   Correct answer: [A, B, D]\\n\\nRationale:\\nOptio...              D  \n",
       "7   Correct answer: [B, D]\\n\\nRationale:\\nOption D...              D  \n",
       "8   Correct answer: A, C\\n\\nRationale: Option C pr...              C  \n",
       "9   Correct answer: B, C\\n\\nRationale: Option B re...              B  \n",
       "10  Correct answer: [B]\\n\\nRationale: Lowland area...              B  \n",
       "11  Correct answer: A\\n\\nRationale:\\nOption A is t...              A  \n",
       "12  Correct answer: B, D\\n\\nRationale: Both option...              D  \n",
       "13  Correct answer: B, D\\n\\nRationale: Intercroppi...              B  \n",
       "14  Correct answer: A, B, D\\n\\nRationale: Options ...              B  \n",
       "15  Correct answer: [B]\\n\\nRationale: Option B out...              B  \n",
       "16  Correct answer: B\\n\\nRationale: Option B provi...              B  \n",
       "17  Correct answer: A\\n\\nRationale: Option A compr...              A  "
      ]
     },
     "execution_count": 28,
     "metadata": {},
     "output_type": "execute_result"
    }
   ],
   "source": [
    "gemini_2_5_pro_df"
   ]
  },
  {
   "cell_type": "markdown",
   "metadata": {},
   "source": [
    "# Aggregate results"
   ]
  },
  {
   "cell_type": "code",
   "execution_count": 29,
   "metadata": {},
   "outputs": [
    {
     "data": {
      "text/plain": [
       "'20_harder_MCQs'"
      ]
     },
     "execution_count": 29,
     "metadata": {},
     "output_type": "execute_result"
    }
   ],
   "source": [
    "basename"
   ]
  },
  {
   "cell_type": "code",
   "execution_count": 30,
   "metadata": {},
   "outputs": [
    {
     "name": "stdout",
     "output_type": "stream",
     "text": [
      "['results/20_harder_MCQs-openai-o3-2025-04-16.csv', 'results/20_harder_MCQs-deepseek-deepseek-reasoner.csv', 'results/20_harder_MCQs-gemini-gemini-2-5-pro-preview-05-06.csv', 'results/20_harder_MCQs-openai-o4-mini-2025-04-16.csv', 'results/20_harder_MCQs-openai-o1-2024-12-17.csv', 'results/20_harder_MCQs-openai-gpt-4o-2024-08-06.csv', 'results/20_harder_MCQs-deepseek-deepseek-chat.csv', 'results/20_harder_MCQs-anthropic-claude-3-5-sonnet-20241022.csv', 'results/20_harder_MCQs-anthropic-claude-3-7-sonnet-20250219.csv']\n"
     ]
    }
   ],
   "source": [
    "import glob\n",
    "\n",
    "# Get a list of all CSV files in the results directory\n",
    "csv_files = glob.glob(f\"results/{basename}-*.csv\")\n",
    "# Print the list of CSV files\n",
    "print(csv_files)"
   ]
  },
  {
   "cell_type": "code",
   "execution_count": 31,
   "metadata": {},
   "outputs": [
    {
     "data": {
      "text/plain": [
       "9"
      ]
     },
     "execution_count": 31,
     "metadata": {},
     "output_type": "execute_result"
    }
   ],
   "source": [
    "len(csv_files)"
   ]
  },
  {
   "cell_type": "code",
   "execution_count": 32,
   "metadata": {},
   "outputs": [],
   "source": [
    "# read all csv files, extract the model name from the filename, and concatenate them into a single dataframe\n",
    "dfs = []\n",
    "for file in csv_files:\n",
    "    model_name = \"-\".join(os.path.basename(file).split(\"-\")[1:]).split(\".\")[0]\n",
    "    df = pd.read_csv(file)\n",
    "    df[\"model\"] = model_name\n",
    "    dfs.append(df)\n",
    "\n",
    "# concatenate all dataframes into a single dataframe\n",
    "all_df = pd.concat(dfs, ignore_index=True)\n",
    "\n",
    "# drop the prompt column\n",
    "all_df = all_df.drop(columns=[\"prompt\"])\n",
    "\n",
    "# add country column\n",
    "all_df[\"country\"] = country"
   ]
  },
  {
   "cell_type": "code",
   "execution_count": 33,
   "metadata": {},
   "outputs": [
    {
     "data": {
      "application/vnd.microsoft.datawrangler.viewer.v0+json": {
       "columns": [
        {
         "name": "index",
         "rawType": "int64",
         "type": "integer"
        },
        {
         "name": "question_id",
         "rawType": "int64",
         "type": "integer"
        },
        {
         "name": "answer",
         "rawType": "object",
         "type": "string"
        },
        {
         "name": "correct_answer",
         "rawType": "object",
         "type": "string"
        },
        {
         "name": "model",
         "rawType": "object",
         "type": "string"
        },
        {
         "name": "country",
         "rawType": "object",
         "type": "string"
        }
       ],
       "ref": "f5d03a13-41bd-45d8-b0fb-f7e10a3d9dfa",
       "rows": [
        [
         "0",
         "1",
         "Correct answer: A\n\nRationale: A follows the full “4R” nutrient-management principles—right source, rate, timing and placement—after first confirming the specific deficiency through a soil test or crop inspection, so nutrients reach the crop quickly and efficiently. Mineral fertilizers supply nutrients in readily available forms, giving the fastest correction. B relies on well-rotted manure whose nutrients are released slowly and unpredictably, so it is not the quickest remedy. C omits both diagnosis (soil test/visual check) and selection of the correct fertilizer source, increasing the risk of misapplication and extra cost. Therefore, only option A meets both the “shortest duration” and “cost-effective” requirements.",
         "A",
         "openai-o3-2025-04-16",
         "Kenya"
        ],
        [
         "1",
         "2",
         "Correct answer: A, B\n\nRationale: IPM begins with preventive cultural measures (e.g., using the right seed and planting time), regular scouting to determine pest thresholds, then deploying non-chemical tactics (cultural, biological, physical) and keeping pesticides as the final option while continually assessing results. Option A captures every step in the proper sequence—prevention, monitoring, threshold decision, cultural/biological/physical controls first, limited chemical use last, and post-action evaluation—so it is fully correct. Option B, though less detailed, still lists the three core pillars of IPM: monitoring (scouting), favouring biological control, and reserving chemicals for last resort; therefore it also aligns with IPM principles. Options C and D omit key IPM elements or place chemical control too early, so they are not correct.",
         "A",
         "openai-o3-2025-04-16",
         "Kenya"
        ],
        [
         "2",
         "3",
         "Correct answer: A\n\nRationale: Effective calibration follows a logical sequence: first collect data on actual sprayer output per minute over a measured strip; then use walking speed and spray-band width to compute litres/ha (required nozzle flow rate); next, change nozzle size or pump pressure until the calculated rate matches the label rate; finally, spray a small test area to verify even coverage. Option A includes every one of these steps in the correct order and mentions the key variables (time, area, walking speed, spray width) that determine accurate dosage. Options B, C and D omit critical parameters and/or place steps in the wrong sequence, so they cannot guarantee precise application.",
         "A",
         "openai-o3-2025-04-16",
         "Kenya"
        ],
        [
         "3",
         "4",
         "Correct answer: A\n\nRationale: Harvesting onions is best done in dry weather; wet conditions at lifting greatly increase rotting during curing and storage. The crop should be lifted 90-150 days after planting when about 70-80 % of the tops have yellowed or fallen, indicating a mature bulb with a tight, shiny skin. The soil is first loosened, then bulbs are pulled or fork-lifted to avoid neck damage. After lifting, tops are trimmed to about 2–3 cm, loose soil is brushed off, and the bulbs are sun-dried for a few days and then cured in a well-ventilated, shaded store until necks and outer scales are papery. Option A contains all these key steps, whereas B recommends harvesting in the wet season (wrong), C omits the dry-season requirement and top-trimming, and D omits maturity indicators, so only A is completely correct.",
         "A",
         "openai-o3-2025-04-16",
         "Kenya"
        ],
        [
         "4",
         "5",
         "Correct answer: C\n\nRationale: PPE should be donned from the “inside out,” starting with the garments that cover the largest body areas and finishing with items that protect the most contamination-prone parts (hands and face). First put on the overall/coveralls so clothing and skin are covered. Next slip on gumboots so trouser legs fit over or inside the boot tops. Once the body and feet are protected, fit the respirator or mask before other items so it seals properly on clean skin and is not disturbed later. Gloves go on after the mask so they stay clean and cover the sleeve ends. Finally, add the goggles or face shield to protect eyes and face from splashes—this must be last so it is not dislodged while fitting other gear. Options A, B, and D place gloves or face protection too early or the mask too late, increasing contamination risk.",
         "C",
         "openai-o3-2025-04-16",
         "Kenya"
        ],
        [
         "5",
         "6",
         "Correct answer: C\n\nRationale: Directly dumping raw manure (A) can scorch crops, spread pathogens and cause nutrient runoff; burning manure (B) wastes valuable nutrients and emits harmful gases; storing manure in open pits near water (D) risks groundwater contamination and nitrogen loss. The recommended practice is to collect manure and crop residues, compost them for several months while turning to aerate (C). Composting stabilises nutrients, kills weed seeds and pathogens, reduces smell, and produces a friable organic fertiliser that can be safely incorporated into the soil during land preparation, improving soil structure, water-holding capacity and fertility.",
         "C",
         "openai-o3-2025-04-16",
         "Kenya"
        ],
        [
         "6",
         "7",
         "Correct answer: D\n\nRationale: Determining seed rate is not just a matter of knowing the area and crop; you must translate variety-specific spacing (and its expected germination %) into a seeds-per-hectare figure, then multiply by the actual field size. Option D lists all these essential steps—field area, variety-specific spacing, adjustment for germination, and final calculation—so it is correct. Options A, B and C omit the crucial spacing/germination considerations, making their “estimate the required seeds per hectare” step unsupported and therefore incomplete.",
         "D",
         "openai-o3-2025-04-16",
         "Kenya"
        ],
        [
         "7",
         "8",
         "Correct answer: D\n\nRationale: Proper loss‐reduction starts with harvesting physiologically mature cobs during dry weather, then sun-drying them to about 13 % moisture (simple salt or bite tests confirm this). Option D is the only choice that includes this critical drying step as well as careful threshing to avoid kernel breakage. It also prescribes either insecticide dusting or hermetic storage, both accepted protection methods. Additionally, it stresses cleaning and insecticide-treating the store, good ventilation, rodent exclusion, and stacking bags on pallets to keep air flowing. Options A and C omit the drying step, while B omits the ventilation/pallet stacking advice, so they are incomplete.",
         "D",
         "openai-o3-2025-04-16",
         "Kenya"
        ],
        [
         "8",
         "9",
         "Correct answer: C\n\nRationale: Proper organic fertilizer (compost) from manure requires balancing manure’s high nitrogen with carbon-rich materials, ensuring the pile has roughly a 25–30 : 1 C:N ratio. Adequate moisture (about 50–60 %) and oxygen are needed, so the heap must be turned regularly. These steps foster rapid, even decomposition, kill weed seeds and pathogens, and minimise nutrient losses. Option C includes all these critical practices. Option A omits adding carbon sources and managing moisture/aeration, making it incomplete and potentially leading to odour, nutrient loss, or slow composting. Option B’s “store it for several weeks” before composting can cause nutrient leaching, methane production, and pathogen risks, so it is not recommended.",
         "C",
         "openai-o3-2025-04-16",
         "Kenya"
        ],
        [
         "9",
         "10",
         "Correct answer: B\n\nRationale: Effective weed management follows an integrated approach: (1) correctly identify the weed species present; (2) start with non-chemical tactics such as hand-weeding, hoeing or other mechanical methods; (3) regularly monitor regrowth or new infestations; and (4) decide, based on monitoring results and economic thresholds, whether herbicides or other additional measures are warranted. Option B lists all these steps in the correct order and stresses using herbicides only if other methods are insufficient, which reduces costs, delays resistance and safeguards the environment. Options A, C and D omit either the essential identification step or the preference for mechanical/cultural control before chemicals, so they are incomplete or place herbicides too early in the process.",
         "B",
         "openai-o3-2025-04-16",
         "Kenya"
        ],
        [
         "10",
         "11",
         "Correct answer: B\n\nRationale: DH01, DH02 and DH05 are “Dry-land Hybrids” bred specifically for the hot, drought-prone lowlands (<1 000 m). Duma 43 is an extra-early composite also targeted at the coastal and eastern lowland zones. Sungura 301 is an early-maturing, drought-tolerant hybrid released for semi-arid low-elevation areas. Options A, C and D each include one or more varieties (e.g. H6213, H519, H627, H512, H511) that are recommended for mid- or high-altitude environments rather than the true lowlands, so those options are not fully correct.",
         "B",
         "openai-o3-2025-04-16",
         "Kenya"
        ],
        [
         "11",
         "12",
         "Correct answer: A\n\nRationale: Pesticides work best when temperatures are moderate, humidity is higher, and wind is minimal, which normally occurs early in the morning or late in the evening. Cool conditions reduce evaporation, ensuring the chemical remains on the plant surface long enough to be absorbed or contact the pest. Many target pests are also more active and exposed during these periods, increasing hit rates. Spraying during hot, sunny, or windy conditions (option B and C) causes rapid evaporation and drift, wasting product and risking off-target damage. Applying just before or after heavy rain (option D) results in the pesticide being washed off, lowering effectiveness and contaminating water sources.",
         "A",
         "openai-o3-2025-04-16",
         "Kenya"
        ],
        [
         "12",
         "13",
         "Correct answer: A, B\n\nRationale: Cold, damp weather stresses birds and aids survival and spread of respiratory and gut pathogens. Newcastle disease and fowl cholera spread easily when birds crowd together for warmth, so they peak in cold spells. Wet litter encourages oocyst development, making coccidiosis another prime cold-season threat. Mouldy, moist feed or bedding in cool conditions predisposes flocks to aspergillosis. “Respiratory distress” in option B refers to the chronic respiratory disease complex that also worsens in low temperatures. Fowlpox, listed in option C, is mainly insect-borne and more common in warm, dry periods, and the other extra items in options C and D are either less relevant or nonspecific. Hence options A and B contain the diseases most associated with cold weather in poultry.",
         "D",
         "openai-o3-2025-04-16",
         "Kenya"
        ],
        [
         "13",
         "14",
         "Correct answer: B\n\nRationale: Crop mixtures work best when species complement rather than compete with one another. Pairing legumes with cereals (e.g., beans with maize) lets the legume fix atmospheric nitrogen and supply it to the cereal, while the cereal provides support or partial shade; this is a widely recommended practice. Adequate spacing is essential so the two crops do not overcrowd each other, hence the emphasis on “pay attention to spacing.” Mixing cereals with other cereals (A) or tall crops with equally tall crops (C) offers little nutrient or structural complementarity and tends to heighten competition. Very close spacing of intercrops (D) usually reduces, rather than boosts, overall yields because of light, nutrient and moisture competition.",
         "B",
         "openai-o3-2025-04-16",
         "Kenya"
        ],
        [
         "14",
         "15",
         "Correct answer: B\n\nRationale: Effective composting requires collecting the residues, reducing particle size (chop/shred), mixing them with a nitrogen-rich material (e.g., manure/green leaves), keeping the pile moist and airy, and turning it to speed decomposition; only option B lists all these key practices.",
         "B",
         "openai-o3-2025-04-16",
         "Kenya"
        ],
        [
         "15",
         "16",
         "Correct answer: B\n\nRationale: A meaningful farm budget compares total expected income with all production costs. Option B includes identifying every activity, costing inputs, labor, and land preparation, forecasting yield and market price, and then subtracting expenses to see profit or loss—exactly what is required. Option A ignores costs, so it cannot show profitability. Option C overlooks income projections and could misallocate funds. Option D leaves out many essential expenses (e.g., labor, land preparation, pest control), giving an incomplete and misleading picture.",
         "B",
         "openai-o3-2025-04-16",
         "Kenya"
        ],
        [
         "16",
         "17",
         "Correct answer: B\n\nRationale: Safe and effective pesticide use requires following label instructions for mixing, wearing appropriate personal protective equipment (PPE), and ensuring the sprayer is calibrated so the correct dose is delivered and no excess chemical is released. Application should be done in calm weather, not when it is windy or extremely hot, to minimise drift, evaporation and operator exposure. Thorough cleaning of equipment and proper disposal of empty containers prevent environmental contamination and future crop damage. Option A and C advocate applying on windy days, which increases the risk of drift and reduces effectiveness, so they are incorrect.",
         "B",
         "openai-o3-2025-04-16",
         "Kenya"
        ],
        [
         "17",
         "18",
         "Correct answer: A\n\nRationale: Best practice requires (1) a finely-prepared seedbed, (2) transplanting seedlings only when they have reached the correct physiological stage, (3) hardening-off to reduce shock, (4) watering the nursery just before lifting so roots come out with soil, (5) setting seedlings in a moist field and handling roots gently, and (6) doing the work during a cool part of the day (late evening or early morning). Option A contains every one of these steps. Option B is wrong because it allows transplanting at any time of day, increasing heat and water-stress. Option C omits the essential hardening-off step. Option D allows transplanting seedlings at any stage, which can lead to poor establishment. Therefore only A meets all criteria for best practice.",
         "A",
         "openai-o3-2025-04-16",
         "Kenya"
        ],
        [
         "18",
         "1",
         "Correct answer: A\n\nRationale: Option A is correct because it emphasizes quick diagnosis through visual observation or soil testing to identify the specific deficiency, ensuring targeted action. Applying synthetic fertilizer provides rapid nutrient correction, which is essential for the shortest duration, and using the right rate, timing, and placement minimizes waste and costs, enhancing cost-effectiveness. Option B is incorrect as manure, even when well-rotted, releases nutrients slowly, delaying correction. Option C omits diagnosis, increasing the risk of inefficient or excessive application, which undermines both speed and cost-effectiveness.",
         "A",
         "deepseek-deepseek-reasoner",
         "Kenya"
        ],
        [
         "19",
         "2",
         "Correct answer: A\n\nRationale: Integrated Pest Management (IPM) is a holistic approach that prioritizes prevention, monitoring, and thresholds before using control methods, with chemicals as a last resort. Option A correctly outlines this by including prevention (e.g., planting early with resistant seeds), continuous monitoring, action based on threshold levels, sequential integration of cultural, biological, and physical controls before chemical options, and evaluation with strategy adjustments. In contrast, Option B omits prevention and threshold-based decisions, Option C lacks prevention and thresholds while misordering steps (e.g., evaluation before action), and Option D inappropriately prioritizes chemical control over non-chemical methods, contradicting IPM principles. For smallholder farmers in Kenya, Option A provides a sustainable, cost-effective strategy that minimizes chemical use and adapts to local conditions.",
         "A",
         "deepseek-deepseek-reasoner",
         "Kenya"
        ],
        [
         "20",
         "3",
         "Correct answer: A\n\nRationale: Calibrating a knapsack sprayer requires a logical sequence to ensure accuracy: start by measuring the actual spray output to establish a baseline, then calculate the required flow rate using key parameters like walking speed and spray width for the desired application rate. After adjusting nozzle settings or pressure to match this rate, a field test verifies uniform coverage. Option A correctly follows this order, while B adjusts settings prematurely without measurement, C conducts a field test before calibration, and D performs a field test before calculation and adjustment, all leading to potential inaccuracies. This method minimizes pesticide waste and ensures effective pest control for smallholder farmers.",
         "A",
         "deepseek-deepseek-reasoner",
         "Kenya"
        ],
        [
         "21",
         "4",
         "Correct answer: A\n\nRationale: Onions should be harvested during the dry season to prevent rot and ensure proper curing, as wet conditions can lead to spoilage—especially relevant in Kenya with its distinct wet seasons. Maturity must be confirmed by visual cues like yellowing or drooping tops and papery bulb covers, not just days after planting (90-150 days is a guideline, but varietal and environmental factors matter). Option A correctly includes all steps: loosening soil, careful hand or fork harvesting, cutting tops to ~1 inch to prevent moisture entry, cleaning, sun-curing, and ventilated storage for longevity. Option B is incorrect due to wet-season harvesting. Option C omits cutting tops, risking rot. Option D misses maturity checks, which could lead to premature or late harvesting. Thus, only A provides the complete, accurate procedure.",
         "A",
         "deepseek-deepseek-reasoner",
         "Kenya"
        ],
        [
         "22",
         "5",
         "Correct answer: C\n\nRationale: Option C provides the correct sequence for wearing PPE when handling pesticides, as it minimizes contamination risk by starting with coveralls to protect the body, followed by gumboots for foot protection, then a mask for respiratory safety before gloves to avoid face contamination, and ending with a face shield for eye protection. This order aligns with standard agricultural safety guidelines from organizations like WHO and FAO. Option A is incorrect because gloves are worn before the mask, which could lead to respiratory contamination if gloves touch the mask. Option B is unsafe as it starts with the mask, risking displacement when putting on coveralls, and places gloves before coveralls. Option D is flawed because gloves are worn first, exposing hands to early contamination, and coveralls are worn last, leaving the body unprotected during donning. Only C ensures comprehensive protection for farmers during pesticide handling, storage, transport, or spraying.",
         "C",
         "deepseek-deepseek-reasoner",
         "Kenya"
        ],
        [
         "23",
         "6",
         "Correct answer: C\n\nRationale: Composting animal waste with agricultural residues for 3–4 months, including regular turning, ensures aerobic decomposition that kills pathogens, reduces odors, and produces nutrient-rich compost safe for crops. Applying this compost during land preparation enhances soil fertility, structure, and water retention, aligning with sustainable practices for smallholder farms in Kenya. Options A, B, and D are incorrect: direct dumping (A) can burn crops and spread diseases; burning (B) wastes nutrients and causes pollution; and storing near water sources (D) risks contamination of water bodies, violating environmental guidelines. Composting is cost-effective and widely promoted in Kenyan agriculture for integrated farming systems.",
         "C",
         "deepseek-deepseek-reasoner",
         "Kenya"
        ],
        [
         "24",
         "7",
         "Correct answer: D\n\nRationale: Determining seed rate accurately requires considering specific factors like field area, crop variety, plant spacing, and germination rate to ensure proper plant population and avoid waste or poor yields. Option D is correct because it logically sequences these elements: start with field area to scale the calculation, then use crop variety to determine appropriate spacing, factor in germination rate for realistic seed needs per hectare, and finally apply the seed rate. This approach is precise and practical for smallholder farmers in Kenya, as it accounts for local conditions like variable germination. Options A, B, and C are incomplete or illogical; they omit spacing and germination or sequence steps poorly (e.g., estimating seeds per hectare before knowing variety or area), which could lead to inaccurate seed rates.",
         "D",
         "deepseek-deepseek-reasoner",
         "Kenya"
        ],
        [
         "25",
         "8",
         "Correct answer: D\n\nRationale: Option D is correct because it comprehensively addresses all critical steps to minimize maize storage losses: harvesting at physiological maturity during the dry season ensures optimal grain quality; drying to 13% moisture prevents mold and insect growth; careful threshing avoids damage; insecticide or hermetic storage controls pests; and proper store preparation (cleaning, insecticide dusting, ventilation, rodent-proofing, and pallet stacking) safeguards against environmental and pest risks. Options A, B, and C are incomplete: A misses physiological maturity and explicit drying; B omits storage ventilation and rodent control; and C lacks any drying step, which is essential for safe storage.",
         "D",
         "deepseek-deepseek-reasoner",
         "Kenya"
        ],
        [
         "26",
         "9",
         "Correct answer: C\n\nRationale: \nMaking organic fertilizer from animal manure requires proper composting to ensure nutrient balance, pathogen reduction, and safe application. Option C is correct because it details essential steps: mixing fresh manure with carbon-rich materials balances the carbon-to-nitrogen ratio, preventing nitrogen loss and promoting decomposition; maintaining moisture and aeration through regular turning avoids anaerobic conditions and speeds up composting; and applying only mature compost ensures soil benefits without harming plants. Option A omits key composting practices like mixing materials and turning, which can lead to poor decomposition. Option B incorrectly substitutes storage for active composting, which may not achieve full stabilization or pathogen kill. For smallholder farmers in Kenya, following Option C maximizes yield, soil health, and safety.",
         "C",
         "deepseek-deepseek-reasoner",
         "Kenya"
        ],
        [
         "27",
         "10",
         "Correct answer: B\n\nRationale: For smallholder farmers in Kenya, the best weed control strategy prioritizes sustainability, cost-effectiveness, and safety. Option B is correct because it starts with identifying weed species, which is essential for targeted control, and emphasizes mechanical methods like uprooting first, reducing reliance on costly or harmful herbicides. It includes monitoring growth and evaluating alternatives, ensuring herbicides are used only if necessary, aligning with Integrated Weed Management principles. Options A, C, and D are less ideal: A omits weed identification, potentially leading to ineffective control; C and D prioritize herbicides upfront, which can increase costs, health risks, and environmental damage for resource-limited farmers. Thus, B provides a comprehensive, step-by-step approach that is most appropriate for this context.",
         "B",
         "deepseek-deepseek-reasoner",
         "Kenya"
        ],
        [
         "28",
         "11",
         "Correct answer: A, B, D\n\nRationale: The lowlands of Kenya require drought-tolerant maize varieties adapted to dry, warm conditions. Options A, B, and D list varieties such as DH01, DH02, DH05, Duma 43, H6213, H519, Sungura 301, H511, and H512, which are all recommended by KALRO for lowland areas due to their drought tolerance. Option C includes H627, which is unsuitable as it requires high rainfall and is for high-potential zones. \"D01\" in option D is likely a typo for DH01, making the list valid.",
         "B",
         "deepseek-deepseek-reasoner",
         "Kenya"
        ],
        [
         "29",
         "12",
         "Correct answer: A\n\nRationale: Option A is correct because spraying pesticides early in the morning or late in the evening takes advantage of cooler temperatures, which reduces evaporation and allows the pesticide to remain effective longer on plant surfaces. Additionally, many pests are more active during these times, increasing targeting efficiency, while beneficial insects like bees are less active, minimizing harm to pollinators. Option B is incorrect due to hot, sunny conditions causing rapid pesticide evaporation and wind increasing drift, which wastes product and poses health risks. Option C is unsafe as spraying towards the wind can blow pesticides back onto the applicator, increasing exposure hazards; instead, spray downwind. Option D is inefficient because heavy rainfall can wash away pesticides before they take effect or dilute them, reducing efficacy.",
         "A",
         "deepseek-deepseek-reasoner",
         "Kenya"
        ],
        [
         "30",
         "13",
         "Correct answer: C\n\nRationale: During cold weather, poultry are more susceptible to respiratory diseases due to factors like poor ventilation, humidity, and stress. Aspergillosis thrives in damp, moldy conditions common in enclosed coops. Infectious coryza is bacterial and often flares up in cold stress. Pneumonia is a frequent outcome of respiratory infections in low temperatures. Fowlpox, included in option C, is less relevant as it is vector-borne and not cold-specific, but the other diseases are correctly associated. Options A, B, and D include coccidiosis, which favors warm, humid conditions and is not primarily a cold-weather concern.",
         "D",
         "deepseek-deepseek-reasoner",
         "Kenya"
        ],
        [
         "31",
         "14",
         "Correct answer: B\n\nRationale: Intercropping legumes like beans or cowpea with cereals such as maize provides nitrogen fixation, enhancing soil fertility and yield for smallholders in Kenya. Proper spacing reduces competition for light, water, and nutrients, making this a best practice. Option A involves cereal-cereal intercropping, which increases competition and is less beneficial. Option C ignores complementary traits, potentially leading to inefficient resource use. Option D's close spacing exacerbates competition, often lowering yields despite higher plant density. Thus, only B aligns with sustainable, high-yield intercropping.",
         "B",
         "deepseek-deepseek-reasoner",
         "Kenya"
        ],
        [
         "32",
         "15",
         "Correct answer: B\n\nRationale: Option B provides a comprehensive and sequential guide to composting crop residues: it starts with collection, emphasizes chopping/shredding to increase decomposition efficiency, adds nitrogen-rich organic matter for balance, and crucially includes maintaining moisture and aeration—key for microbial activity—along with regular turning to ensure even decomposition. In contrast, option A omits the initial collection step and neglects moisture/aeration management. Option C has an illogical order (e.g., turning before chopping or adding materials), which can hinder decomposition. Option D misses explicit moisture and aeration maintenance, risking poor compost quality, especially in variable climates like Kenya's. Only B covers all essential steps accurately for effective soil fertility enhancement.",
         "B",
         "deepseek-deepseek-reasoner",
         "Kenya"
        ],
        [
         "33",
         "16",
         "Correct answer: B\n\nRationale: Option B is correct because it provides a comprehensive approach to budgeting by listing all farming activities, estimating total production costs (including essential inputs and labor), forecasting income based on expected yields and market prices, and calculating profit or loss. This method ensures smallholder farmers account for all expenses and revenues, promoting better financial planning and risk management for maize farming. Options A, C, and D are incorrect: A ignores critical costs, leading to potential losses; C focuses only on expenses without income consideration, risking overspending; and D omits vital expenses like labor and land preparation, resulting in an incomplete budget.",
         "B",
         "deepseek-deepseek-reasoner",
         "Kenya"
        ],
        [
         "34",
         "17",
         "Correct answer: B\n\nRationale: Option B is correct because it comprehensively covers key safety and effectiveness measures: wearing PPE protects the applicator, mixing according to label instructions ensures proper dosage, calibrating equipment optimizes application accuracy, applying during calm weather prevents drift, avoiding peak heat reduces volatilization and health risks, cleaning equipment prevents contamination, and proper disposal minimizes environmental harm. In contrast, options A and C are incorrect as they suggest applying on windy days, which increases drift risk, making application unsafe and less effective. This advice is crucial for smallholder farmers in Kenya to protect health, crops, and the environment.",
         "B",
         "deepseek-deepseek-reasoner",
         "Kenya"
        ],
        [
         "35",
         "18",
         "Correct answer: A\n\nRationale: Transplanting seedlings successfully involves minimizing shock and ensuring proper establishment. Best practices include preparing a fine-tilth seedbed in advance, transplanting at the right growth stage (e.g., when seedlings have 4-6 true leaves), hardening seedlings by reducing water and shade to toughen them, irrigating the nursery thoroughly for easy removal, planting into moist soil with careful root handling to prevent damage, and choosing cool times like late evening to avoid heat stress. Option A covers all these aspects comprehensively. Option B is incorrect as transplanting at any time of day can cause heat stress. Option C omits hardening, leaving seedlings vulnerable. Option D allows transplanting at any stage, risking poor survival due to underdeveloped or overgrown roots. Thus, only A represents the full best practice.",
         "A",
         "deepseek-deepseek-reasoner",
         "Kenya"
        ],
        [
         "36",
         "1",
         "Correct answer: [A, B]\n\nRationale:\nOption A describes the most technically sound and rapid method using fertilizers. Diagnosing the deficiency (soil test or visual), selecting the right fertilizer source, and applying it using the 4R principles (Right Rate, Right Time, Right Place, including moist soil and proper placement) ensures nutrients are quickly available to the crop, leading to correction in the shortest duration and cost-effectively by maximizing nutrient use efficiency and minimizing waste.\n\nOption B offers a viable and cost-effective alternative, particularly for smallholder farmers who may have ready access to well-rotted manure at little to no cash cost. While manure releases nutrients more slowly than mineral fertilizers (so it may not be the absolute \"shortest duration\" compared to A), following the principles of diagnosis, applying the right rate at the right time and place will effectively correct deficiencies over time and improve long-term soil health. For farmers with limited access to cash for fertilizers, this is a practical and cost-effective approach.",
         "A",
         "gemini-gemini-2-5-pro-preview-05-06",
         "Kenya"
        ],
        [
         "37",
         "2",
         "Correct answer: [A, B]\n\nRationale: Option A provides the most comprehensive and accurate description of how to implement Integrated Pest Management (IPM). It correctly outlines the sequential process: starting with preventative measures like healthy crop establishment and proper seed selection, followed by continuous monitoring of pest populations. It emphasizes using action thresholds to make decisions and prioritizes cultural, biological, and physical controls before resorting to chemical applications as a last measure. Finally, it includes the crucial steps of evaluating control effectiveness and adjusting strategies, reflecting the adaptive nature of IPM.\n\nOption B is also correct because it highlights several core actions fundamental to implementing IPM. Monitoring pest populations is the basis for informed decision-making. Utilizing biological control methods is a key non-chemical strategy. Crucially, applying chemical control only as a last resort is a central tenet of IPM, aiming to minimize pesticide use and its associated risks. While not as exhaustive as option A, these steps represent a correct, albeit simplified, approach to IPM implementation, particularly regarding intervention choices. Options C and D are less accurate: C presents IPM components in an illogical implementation order, and D's phrasing \"apply chemical control when needed\" can be misconstrued as not strictly adhering to the IPM hierarchy of controls.",
         "A",
         "gemini-gemini-2-5-pro-preview-05-06",
         "Kenya"
        ],
        [
         "38",
         "3",
         "Correct answer: [A]\n\nRationale: Option A outlines the most accurate and systematic procedure for calibrating a knapsack sprayer. It begins by determining the sprayer's current performance: **measuring its output (e.g., liters per minute) and the area it covers** (based on a consistent walking speed and the spray swath width). This allows calculation of the current application rate (e.g., liters per hectare). Next, the **required nozzle flow rate is calculated** based on the pesticide label's recommended application rate and the farmer's chosen walking speed and spray width. With the current and required rates known, **adjustments are made to the nozzle settings or pressure** to match the sprayer's output to the calculated requirement. Finally, a **field test on a small, measured area is crucial** to confirm that the sprayer is delivering the correct volume uniformly across the target area before commencing the full spraying operation. This comprehensive sequence ensures accurate pesticide application, which is vital for efficacy, cost-effectiveness, and environmental safety. The other options present a less logical or incomplete sequence of these essential calibration steps.",
         "A",
         "gemini-gemini-2-5-pro-preview-05-06",
         "Kenya"
        ],
        [
         "39",
         "4",
         "Correct answer: [A, C]\n\nRationale: Both options A and C describe key correct steps for harvesting onions. They correctly identify maturity indicators (tops yellowing or drooping, formation of a membranous bulb cover) and the typical harvest time (90-150 days post-planting). Both also recommend careful harvesting techniques and a crucial two-stage curing process: an initial drying period (sun curing), followed by extended curing in a well-ventilated store for long-term storage, aiming for thoroughly dried necks and outer scales.\n\nOption A outlines a more comprehensive and optimal procedure by specifying harvesting during the dry season, which is ideal for sun curing, and instructing to cut tops back to about one inch after harvest, promoting better neck drying and reducing storage rot.\n\nOption C, while omitting these explicit details, still presents a fundamentally correct approach. The instruction to \"dry in the sun to cure\" implies the necessity of dry weather conditions. Although it doesn't detail immediate top cutting, the stated goal of achieving thoroughly dried necks for long storage is critical and achievable if the curing process is managed effectively. Therefore, while A is more detailed and represents best practice, C also describes a viable and right procedure. Options B (harvesting in the wet season) and D (lacking maturity indicators) are incorrect as they describe practices detrimental to onion quality and storage.",
         "A",
         "gemini-gemini-2-5-pro-preview-05-06",
         "Kenya"
        ],
        [
         "40",
         "5",
         "Correct answer: [C]\n\nRationale: Option C describes the most appropriate and safest sequence for donning (putting on) Personal Protective Equipment (PPE), particularly crucial when handling pesticides. Starting with the overall/coveralls and then gumboots ensures that the body, legs, and feet are protected first. Next, the mask is put on to protect the respiratory system; it's important this is done before hands are gloved or become potentially contaminated. After the mask is securely fitted, gloves are worn, typically ensuring they go over the cuffs of the overall. Finally, the face shield is added to protect the eyes and face from splashes or spray drift. This systematic order helps to minimize the risk of self-contamination during the donning process, which is essential for personal safety. The other options suggest orders that could lead to contamination, such as putting on gloves before the mask or before the main body covering.",
         "C",
         "gemini-gemini-2-5-pro-preview-05-06",
         "Kenya"
        ],
        [
         "41",
         "6",
         "Correct answer: A, C\n\nRationale: Both composting (Option C) and direct application (Option A) are methods to use animal waste on crop fields on a mixed farm. Option C, which involves collecting animal and agricultural waste, composting it for 3–4 months with regular turning, and then applying it during land preparation, is the most highly recommended method. This process creates a stable, nutrient-rich compost that improves soil structure, water retention, and fertility while significantly reducing pathogens and weed seeds. Option A, collecting animal waste and applying it directly to crop fields, can also add nutrients and organic matter. However, if using fresh manure, it should be applied with caution, ideally incorporated into the soil well before planting, to prevent burning young plants, spreading diseases, or introducing many weed seeds; aged manure is generally safer for direct application. Composting (Option C) is a more effective practice for maximizing nutrient benefits and minimizing risks. Burning waste (Option B) destroys valuable nutrients and organic matter. Storing manure in open pits near water sources (Option D) is dangerous as it leads to water pollution and nutrient loss.",
         "C",
         "gemini-gemini-2-5-pro-preview-05-06",
         "Kenya"
        ],
        [
         "42",
         "7",
         "Correct answer: [A, B, D]\n\nRationale:\nOptions A and B correctly outline essential initial steps: identifying the crop variety and measuring the field area, which are crucial prerequisites for determining total seed needs. Both then involve estimating the required seeds per hectare (the seed rate) before applying it to the farm. The order of calculating field area and determining crop variety (as in A versus B) can be flexible as both are needed before calculating total seeds. Option D provides a more detailed and agronomically sound method for determining this seed rate, by calculating it based on appropriate plant spacing for the selected crop variety and the seed's germination rate. This approach allows for precise calculation to achieve the desired plant population, accounting for seed viability. Therefore, A, B, and D all describe valid approaches to determining the seed rate. Option C is less optimal as the seed rate is highly dependent on the crop variety, which should ideally be determined before estimating a specific rate per hectare.",
         "D",
         "gemini-gemini-2-5-pro-preview-05-06",
         "Kenya"
        ],
        [
         "43",
         "8",
         "Correct answer: [B, D]\n\nRationale:\nOption D provides the most comprehensive and ideal set of practices for minimizing post-harvest maize losses. It correctly details all critical stages: harvesting at physiological maturity during the dry season, drying grain to approximately 13% moisture content, careful threshing, appropriate grain treatment (insecticide for gunny bags or using hermetic bags for dry, untreated grain), thorough store cleaning and dusting with insecticides. Crucially, it also includes essential storage environment management for gunny bags: ensuring the store is well-ventilated, rodent-free, using pallets to prevent moisture uptake, and stacking bags to maximize ventilation.\n\nOption B is also a correct answer as it outlines many essential and sound practices. It correctly advises harvesting at physiological maturity, drying grain to 13% moisture content (including practical estimation methods), careful threshing, using insecticides for grain in gunny bags or hermetic bags for dry, untreated grain, and cleaning and dusting the store. While it omits specific details on gunny bag stacking and store environment management (like pallets and rodent-proofing the store structure, which D includes), the steps it does list are all correct and vital for significantly reducing losses.\n\nOption A is less ideal because \"harvest when leaves are dry\" is a less precise indicator than physiological maturity and critically omits explicit instructions for drying grain before insecticide treatment for gunny bag storage. Option C is incorrect as it completely misses the crucial step of drying the grain to a safe moisture level before storage or treatment.",
         "D",
         "gemini-gemini-2-5-pro-preview-05-06",
         "Kenya"
        ],
        [
         "44",
         "9",
         "Correct answer: A, C\n\nRationale: Option C provides a comprehensive and accurate method for making organic fertilizer (compost) from animal manure. It correctly details the crucial steps: collecting fresh manure, balancing the carbon-to-nitrogen ratio with carbon-rich materials, and ensuring proper moisture and aeration through regular turning for effective decomposition. This results in mature, high-quality compost ready for soil application.\n\nOption A describes a correct, albeit higher-level, sequence of actions. It includes collecting manure and the essential step of \"compost it,\" which is the process of making organic fertilizer. While it also includes subsequent steps of applying the compost and monitoring soil quality (which are about usage and evaluation rather than making), the initial steps correctly outline a path to creating organic fertilizer. Both A and C offer valid perspectives on the process, with C detailing the \"how-to\" of composting mentioned in A. Option B is less ideal as \"storing manure for several weeks\" before composting is not always necessary or optimal and can lead to nutrient loss if done improperly.",
         "C",
         "gemini-gemini-2-5-pro-preview-05-06",
         "Kenya"
        ],
        [
         "45",
         "10",
         "Correct answer: B, C\n\nRationale: Option B represents the most comprehensive and ideal Integrated Weed Management (IWM) strategy for smallholder farmers in Kenya. It correctly starts with weed identification, prioritizes accessible and often lower-cost mechanical controls, and incorporates monitoring and evaluation to decide if other methods, like herbicides, are needed. This approach is sustainable, adaptive, and considers the typical resource availability for smallholders. Option C is also a correct strategy as it includes essential IWM steps: identifying weed species, applying a specific control method (herbicides), monitoring effectiveness, and evaluating alternatives. While Option B is generally preferable for its initial emphasis on non-chemical methods, Option C can be an appropriate strategy in situations where specific, difficult-to-control weeds are identified and known to be best managed with herbicides, provided this is done judiciously. Both options emphasize informed decision-making based on identification and ongoing assessment.",
         "B",
         "gemini-gemini-2-5-pro-preview-05-06",
         "Kenya"
        ],
        [
         "46",
         "11",
         "Correct answer: [B]\n\nRationale: Lowland areas in Kenya are often characterized by higher temperatures and lower, more erratic rainfall, making drought tolerance and early maturity key traits for suitable maize varieties. Varieties DH01, DH02, and DH05 are Dryland Hybrids developed for moisture-stress areas. Duma 43 is well-known for its early maturity and good performance in dry, low-to-mid altitude regions. Sungura 301 is also recognized for its suitability to dryland/lowland conditions, offering good drought tolerance. Options A, C, and D include highland (e.g., H6213, H627) or mid-altitude (e.g., H519, H511, H512) varieties which are not optimal for the typical hotter and drier lowland environments.",
         "B",
         "gemini-gemini-2-5-pro-preview-05-06",
         "Kenya"
        ],
        [
         "47",
         "12",
         "Correct answer: A\n\nRationale:\nOption A is the most optimal time. Spraying in the early morning or late evening offers cooler temperatures, which minimize pesticide evaporation and volatilization, allowing more product to reach and stay on the target surfaces. Calmer wind conditions, often present at these times, significantly reduce pesticide drift, improving accuracy and safety. When pests are active, the pesticide has a higher chance of directly contacting them, increasing its effectiveness, especially for contact pesticides. These cooler periods also reduce the risk of plant stress or phytotoxicity from the spray. Furthermore, beneficial insects like pollinators (e.g., bees) are generally less active during early mornings or late evenings, reducing their exposure to harmful chemicals. Options B, C, and D describe suboptimal or dangerous conditions: hot, windy conditions (B) increase drift and evaporation; spraying into the wind (C) is hazardous to the applicator; and spraying before or immediately after heavy rain (D) leads to pesticide wash-off or dilution and runoff.",
         "A",
         "gemini-gemini-2-5-pro-preview-05-06",
         "Kenya"
        ],
        [
         "48",
         "13",
         "Correct answer: B, D\n\nRationale: Both options B and D highlight diseases and symptoms highly relevant during cold weather in poultry. Cold, damp conditions and poor ventilation, often present when farmers try to conserve heat, create an environment conducive to these health issues. Fowl cholera (in option B) can be triggered by stress, including cold, and often occurs in wet conditions. Coccidiosis (in options B and D) proliferates in damp litter, a common problem in poorly ventilated houses during cold seasons. Aspergillosis (in option B), a fungal disease, is often linked to moldy litter common in damp, poorly ventilated cold-weather housing, leading to respiratory problems. Pneumonia (in option D) is a frequent consequence of cold, damp, and poorly ventilated environments causing lung inflammation. Respiratory distress (in options B and D) is a critical symptom complex to watch for, indicating these conditions or others like bronchitis, which are exacerbated by cold air and ammonia buildup from poor ventilation. While diseases like Newcastle (A) or Fowlpox (C) can occur, they are not as specifically tied to cold weather as primary drivers compared to those listed in B and D. Therefore, farmers should be vigilant for the diseases and signs listed in options B and D during colder periods.",
         "D",
         "gemini-gemini-2-5-pro-preview-05-06",
         "Kenya"
        ],
        [
         "49",
         "14",
         "Correct answer: B, D\n\nRationale: Intercropping legumes (e.g., beans, cowpeas) with cereals (e.g., maize, sorghum) is a highly recommended practice (Options B and D). Legumes contribute nitrogen to the soil, benefiting the companion cereal and improving overall soil health. Option B correctly emphasizes that careful attention to spacing is essential to minimize competition for resources like light, water, and nutrients, ensuring both crops perform well. Option D is also a best practice because a key objective and benefit of intercropping is to increase overall productivity per unit of land (achieving a Land Equivalent Ratio > 1). This is often accomplished through strategic \"close spacing\"—meaning higher plant population densities or more intimate mixtures than in monoculture—designed to maximize complementary resource use and minimize competition between the chosen crops, ultimately leading to higher total yields from the same piece of land. Both principles, managing competition through appropriate spacing (B) and utilizing optimized density for greater land productivity (D), are central to successful intercropping systems.",
         "B",
         "gemini-gemini-2-5-pro-preview-05-06",
         "Kenya"
        ]
       ],
       "shape": {
        "columns": 5,
        "rows": 162
       }
      },
      "text/html": [
       "<div>\n",
       "<style scoped>\n",
       "    .dataframe tbody tr th:only-of-type {\n",
       "        vertical-align: middle;\n",
       "    }\n",
       "\n",
       "    .dataframe tbody tr th {\n",
       "        vertical-align: top;\n",
       "    }\n",
       "\n",
       "    .dataframe thead th {\n",
       "        text-align: right;\n",
       "    }\n",
       "</style>\n",
       "<table border=\"1\" class=\"dataframe\">\n",
       "  <thead>\n",
       "    <tr style=\"text-align: right;\">\n",
       "      <th></th>\n",
       "      <th>question_id</th>\n",
       "      <th>answer</th>\n",
       "      <th>correct_answer</th>\n",
       "      <th>model</th>\n",
       "      <th>country</th>\n",
       "    </tr>\n",
       "  </thead>\n",
       "  <tbody>\n",
       "    <tr>\n",
       "      <th>0</th>\n",
       "      <td>1</td>\n",
       "      <td>Correct answer: A\\n\\nRationale: A follows the ...</td>\n",
       "      <td>A</td>\n",
       "      <td>openai-o3-2025-04-16</td>\n",
       "      <td>Kenya</td>\n",
       "    </tr>\n",
       "    <tr>\n",
       "      <th>1</th>\n",
       "      <td>2</td>\n",
       "      <td>Correct answer: A, B\\n\\nRationale: IPM begins ...</td>\n",
       "      <td>A</td>\n",
       "      <td>openai-o3-2025-04-16</td>\n",
       "      <td>Kenya</td>\n",
       "    </tr>\n",
       "    <tr>\n",
       "      <th>2</th>\n",
       "      <td>3</td>\n",
       "      <td>Correct answer: A\\n\\nRationale: Effective cali...</td>\n",
       "      <td>A</td>\n",
       "      <td>openai-o3-2025-04-16</td>\n",
       "      <td>Kenya</td>\n",
       "    </tr>\n",
       "    <tr>\n",
       "      <th>3</th>\n",
       "      <td>4</td>\n",
       "      <td>Correct answer: A\\n\\nRationale: Harvesting oni...</td>\n",
       "      <td>A</td>\n",
       "      <td>openai-o3-2025-04-16</td>\n",
       "      <td>Kenya</td>\n",
       "    </tr>\n",
       "    <tr>\n",
       "      <th>4</th>\n",
       "      <td>5</td>\n",
       "      <td>Correct answer: C\\n\\nRationale: PPE should be ...</td>\n",
       "      <td>C</td>\n",
       "      <td>openai-o3-2025-04-16</td>\n",
       "      <td>Kenya</td>\n",
       "    </tr>\n",
       "    <tr>\n",
       "      <th>...</th>\n",
       "      <td>...</td>\n",
       "      <td>...</td>\n",
       "      <td>...</td>\n",
       "      <td>...</td>\n",
       "      <td>...</td>\n",
       "    </tr>\n",
       "    <tr>\n",
       "      <th>157</th>\n",
       "      <td>14</td>\n",
       "      <td>Correct answer: B\\n\\nRationale: Intercropping ...</td>\n",
       "      <td>B</td>\n",
       "      <td>anthropic-claude-3-7-sonnet-20250219</td>\n",
       "      <td>Kenya</td>\n",
       "    </tr>\n",
       "    <tr>\n",
       "      <th>158</th>\n",
       "      <td>15</td>\n",
       "      <td>Correct answer: B\\n\\nRationale: Option B provi...</td>\n",
       "      <td>B</td>\n",
       "      <td>anthropic-claude-3-7-sonnet-20250219</td>\n",
       "      <td>Kenya</td>\n",
       "    </tr>\n",
       "    <tr>\n",
       "      <th>159</th>\n",
       "      <td>16</td>\n",
       "      <td>Correct answer: B\\n\\nRationale: Creating a pro...</td>\n",
       "      <td>B</td>\n",
       "      <td>anthropic-claude-3-7-sonnet-20250219</td>\n",
       "      <td>Kenya</td>\n",
       "    </tr>\n",
       "    <tr>\n",
       "      <th>160</th>\n",
       "      <td>17</td>\n",
       "      <td>Correct answer: B\\n\\nRationale: Option B is th...</td>\n",
       "      <td>B</td>\n",
       "      <td>anthropic-claude-3-7-sonnet-20250219</td>\n",
       "      <td>Kenya</td>\n",
       "    </tr>\n",
       "    <tr>\n",
       "      <th>161</th>\n",
       "      <td>18</td>\n",
       "      <td>Correct answer: A\\n\\nRationale: Option A conta...</td>\n",
       "      <td>A</td>\n",
       "      <td>anthropic-claude-3-7-sonnet-20250219</td>\n",
       "      <td>Kenya</td>\n",
       "    </tr>\n",
       "  </tbody>\n",
       "</table>\n",
       "<p>162 rows × 5 columns</p>\n",
       "</div>"
      ],
      "text/plain": [
       "     question_id                                             answer  \\\n",
       "0              1  Correct answer: A\\n\\nRationale: A follows the ...   \n",
       "1              2  Correct answer: A, B\\n\\nRationale: IPM begins ...   \n",
       "2              3  Correct answer: A\\n\\nRationale: Effective cali...   \n",
       "3              4  Correct answer: A\\n\\nRationale: Harvesting oni...   \n",
       "4              5  Correct answer: C\\n\\nRationale: PPE should be ...   \n",
       "..           ...                                                ...   \n",
       "157           14  Correct answer: B\\n\\nRationale: Intercropping ...   \n",
       "158           15  Correct answer: B\\n\\nRationale: Option B provi...   \n",
       "159           16  Correct answer: B\\n\\nRationale: Creating a pro...   \n",
       "160           17  Correct answer: B\\n\\nRationale: Option B is th...   \n",
       "161           18  Correct answer: A\\n\\nRationale: Option A conta...   \n",
       "\n",
       "    correct_answer                                 model country  \n",
       "0                A                  openai-o3-2025-04-16   Kenya  \n",
       "1                A                  openai-o3-2025-04-16   Kenya  \n",
       "2                A                  openai-o3-2025-04-16   Kenya  \n",
       "3                A                  openai-o3-2025-04-16   Kenya  \n",
       "4                C                  openai-o3-2025-04-16   Kenya  \n",
       "..             ...                                   ...     ...  \n",
       "157              B  anthropic-claude-3-7-sonnet-20250219   Kenya  \n",
       "158              B  anthropic-claude-3-7-sonnet-20250219   Kenya  \n",
       "159              B  anthropic-claude-3-7-sonnet-20250219   Kenya  \n",
       "160              B  anthropic-claude-3-7-sonnet-20250219   Kenya  \n",
       "161              A  anthropic-claude-3-7-sonnet-20250219   Kenya  \n",
       "\n",
       "[162 rows x 5 columns]"
      ]
     },
     "execution_count": 33,
     "metadata": {},
     "output_type": "execute_result"
    }
   ],
   "source": [
    "all_df"
   ]
  },
  {
   "cell_type": "code",
   "execution_count": 34,
   "metadata": {},
   "outputs": [],
   "source": [
    "# add the questions by merging with the original dataframe\n",
    "all_df = all_df.merge(mcq_df[[\"question_id\", \"question\"]], on=\"question_id\", how=\"left\")"
   ]
  },
  {
   "cell_type": "code",
   "execution_count": 35,
   "metadata": {},
   "outputs": [
    {
     "data": {
      "application/vnd.microsoft.datawrangler.viewer.v0+json": {
       "columns": [
        {
         "name": "index",
         "rawType": "int64",
         "type": "integer"
        },
        {
         "name": "question_id",
         "rawType": "int64",
         "type": "integer"
        },
        {
         "name": "answer",
         "rawType": "object",
         "type": "string"
        },
        {
         "name": "correct_answer",
         "rawType": "object",
         "type": "string"
        },
        {
         "name": "model",
         "rawType": "object",
         "type": "string"
        },
        {
         "name": "country",
         "rawType": "object",
         "type": "string"
        },
        {
         "name": "question",
         "rawType": "object",
         "type": "string"
        }
       ],
       "ref": "7a7020a1-440e-4c1a-a889-4360a47525bb",
       "rows": [
        [
         "0",
         "1",
         "Correct answer: A\n\nRationale: A follows the full “4R” nutrient-management principles—right source, rate, timing and placement—after first confirming the specific deficiency through a soil test or crop inspection, so nutrients reach the crop quickly and efficiently. Mineral fertilizers supply nutrients in readily available forms, giving the fastest correction. B relies on well-rotted manure whose nutrients are released slowly and unpredictably, so it is not the quickest remedy. C omits both diagnosis (soil test/visual check) and selection of the correct fertilizer source, increasing the risk of misapplication and extra cost. Therefore, only option A meets both the “shortest duration” and “cost-effective” requirements.",
         "A",
         "openai-o3-2025-04-16",
         "Kenya",
         "How do I, in the shortest duration and cost effectively correct for nutrient deficiency in my farm?"
        ],
        [
         "1",
         "2",
         "Correct answer: A, B\n\nRationale: IPM begins with preventive cultural measures (e.g., using the right seed and planting time), regular scouting to determine pest thresholds, then deploying non-chemical tactics (cultural, biological, physical) and keeping pesticides as the final option while continually assessing results. Option A captures every step in the proper sequence—prevention, monitoring, threshold decision, cultural/biological/physical controls first, limited chemical use last, and post-action evaluation—so it is fully correct. Option B, though less detailed, still lists the three core pillars of IPM: monitoring (scouting), favouring biological control, and reserving chemicals for last resort; therefore it also aligns with IPM principles. Options C and D omit key IPM elements or place chemical control too early, so they are not correct.",
         "A",
         "openai-o3-2025-04-16",
         "Kenya",
         "How do I implement integrated pest management (IPM) on a farm?"
        ],
        [
         "2",
         "3",
         "Correct answer: A\n\nRationale: Effective calibration follows a logical sequence: first collect data on actual sprayer output per minute over a measured strip; then use walking speed and spray-band width to compute litres/ha (required nozzle flow rate); next, change nozzle size or pump pressure until the calculated rate matches the label rate; finally, spray a small test area to verify even coverage. Option A includes every one of these steps in the correct order and mentions the key variables (time, area, walking speed, spray width) that determine accurate dosage. Options B, C and D omit critical parameters and/or place steps in the wrong sequence, so they cannot guarantee precise application.",
         "A",
         "openai-o3-2025-04-16",
         "Kenya",
         "How do I calibrate a knapsack sprayer to ensure accurate pesticide application?"
        ],
        [
         "3",
         "4",
         "Correct answer: A\n\nRationale: Harvesting onions is best done in dry weather; wet conditions at lifting greatly increase rotting during curing and storage. The crop should be lifted 90-150 days after planting when about 70-80 % of the tops have yellowed or fallen, indicating a mature bulb with a tight, shiny skin. The soil is first loosened, then bulbs are pulled or fork-lifted to avoid neck damage. After lifting, tops are trimmed to about 2–3 cm, loose soil is brushed off, and the bulbs are sun-dried for a few days and then cured in a well-ventilated, shaded store until necks and outer scales are papery. Option A contains all these key steps, whereas B recommends harvesting in the wet season (wrong), C omits the dry-season requirement and top-trimming, and D omits maturity indicators, so only A is completely correct.",
         "A",
         "openai-o3-2025-04-16",
         "Kenya",
         "What is the right procedure to harvest onions?"
        ],
        [
         "4",
         "5",
         "Correct answer: C\n\nRationale: PPE should be donned from the “inside out,” starting with the garments that cover the largest body areas and finishing with items that protect the most contamination-prone parts (hands and face). First put on the overall/coveralls so clothing and skin are covered. Next slip on gumboots so trouser legs fit over or inside the boot tops. Once the body and feet are protected, fit the respirator or mask before other items so it seals properly on clean skin and is not disturbed later. Gloves go on after the mask so they stay clean and cover the sleeve ends. Finally, add the goggles or face shield to protect eyes and face from splashes—this must be last so it is not dislodged while fitting other gear. Options A, B, and D place gloves or face protection too early or the mask too late, increasing contamination risk.",
         "C",
         "openai-o3-2025-04-16",
         "Kenya",
         "How should I wear PPE?"
        ],
        [
         "5",
         "6",
         "Correct answer: C\n\nRationale: Directly dumping raw manure (A) can scorch crops, spread pathogens and cause nutrient runoff; burning manure (B) wastes valuable nutrients and emits harmful gases; storing manure in open pits near water (D) risks groundwater contamination and nitrogen loss. The recommended practice is to collect manure and crop residues, compost them for several months while turning to aerate (C). Composting stabilises nutrients, kills weed seeds and pathogens, reduces smell, and produces a friable organic fertiliser that can be safely incorporated into the soil during land preparation, improving soil structure, water-holding capacity and fertility.",
         "C",
         "openai-o3-2025-04-16",
         "Kenya",
         "How do I use animal waste management on a mixed crop-livestock farm?"
        ],
        [
         "6",
         "7",
         "Correct answer: D\n\nRationale: Determining seed rate is not just a matter of knowing the area and crop; you must translate variety-specific spacing (and its expected germination %) into a seeds-per-hectare figure, then multiply by the actual field size. Option D lists all these essential steps—field area, variety-specific spacing, adjustment for germination, and final calculation—so it is correct. Options A, B and C omit the crucial spacing/germination considerations, making their “estimate the required seeds per hectare” step unsupported and therefore incomplete.",
         "D",
         "openai-o3-2025-04-16",
         "Kenya",
         "How do I determine the seed rate required for planting on a farm?"
        ],
        [
         "7",
         "8",
         "Correct answer: D\n\nRationale: Proper loss‐reduction starts with harvesting physiologically mature cobs during dry weather, then sun-drying them to about 13 % moisture (simple salt or bite tests confirm this). Option D is the only choice that includes this critical drying step as well as careful threshing to avoid kernel breakage. It also prescribes either insecticide dusting or hermetic storage, both accepted protection methods. Additionally, it stresses cleaning and insecticide-treating the store, good ventilation, rodent exclusion, and stacking bags on pallets to keep air flowing. Options A and C omit the drying step, while B omits the ventilation/pallet stacking advice, so they are incomplete.",
         "D",
         "openai-o3-2025-04-16",
         "Kenya",
         "Last year I experienced significant losses in my stored maize grain. How do I handle my grain to minimize these losses?"
        ],
        [
         "8",
         "9",
         "Correct answer: C\n\nRationale: Proper organic fertilizer (compost) from manure requires balancing manure’s high nitrogen with carbon-rich materials, ensuring the pile has roughly a 25–30 : 1 C:N ratio. Adequate moisture (about 50–60 %) and oxygen are needed, so the heap must be turned regularly. These steps foster rapid, even decomposition, kill weed seeds and pathogens, and minimise nutrient losses. Option C includes all these critical practices. Option A omits adding carbon sources and managing moisture/aeration, making it incomplete and potentially leading to odour, nutrient loss, or slow composting. Option B’s “store it for several weeks” before composting can cause nutrient leaching, methane production, and pathogen risks, so it is not recommended.",
         "C",
         "openai-o3-2025-04-16",
         "Kenya",
         "How do I make organic fertilizer from animal manure?"
        ],
        [
         "9",
         "10",
         "Correct answer: B\n\nRationale: Effective weed management follows an integrated approach: (1) correctly identify the weed species present; (2) start with non-chemical tactics such as hand-weeding, hoeing or other mechanical methods; (3) regularly monitor regrowth or new infestations; and (4) decide, based on monitoring results and economic thresholds, whether herbicides or other additional measures are warranted. Option B lists all these steps in the correct order and stresses using herbicides only if other methods are insufficient, which reduces costs, delays resistance and safeguards the environment. Options A, C and D omit either the essential identification step or the preference for mechanical/cultural control before chemicals, so they are incomplete or place herbicides too early in the process.",
         "B",
         "openai-o3-2025-04-16",
         "Kenya",
         "What is the best weed control strategy on a farm?"
        ],
        [
         "10",
         "11",
         "Correct answer: B\n\nRationale: DH01, DH02 and DH05 are “Dry-land Hybrids” bred specifically for the hot, drought-prone lowlands (<1 000 m). Duma 43 is an extra-early composite also targeted at the coastal and eastern lowland zones. Sungura 301 is an early-maturing, drought-tolerant hybrid released for semi-arid low-elevation areas. Options A, C and D each include one or more varieties (e.g. H6213, H519, H627, H512, H511) that are recommended for mid- or high-altitude environments rather than the true lowlands, so those options are not fully correct.",
         "B",
         "openai-o3-2025-04-16",
         "Kenya",
         "Which maize varieties are suitable lowlands of Kenya"
        ],
        [
         "11",
         "12",
         "Correct answer: A\n\nRationale: Pesticides work best when temperatures are moderate, humidity is higher, and wind is minimal, which normally occurs early in the morning or late in the evening. Cool conditions reduce evaporation, ensuring the chemical remains on the plant surface long enough to be absorbed or contact the pest. Many target pests are also more active and exposed during these periods, increasing hit rates. Spraying during hot, sunny, or windy conditions (option B and C) causes rapid evaporation and drift, wasting product and risking off-target damage. Applying just before or after heavy rain (option D) results in the pesticide being washed off, lowering effectiveness and contaminating water sources.",
         "A",
         "openai-o3-2025-04-16",
         "Kenya",
         "Which is the most optimal time to apply pesticides?"
        ],
        [
         "12",
         "13",
         "Correct answer: A, B\n\nRationale: Cold, damp weather stresses birds and aids survival and spread of respiratory and gut pathogens. Newcastle disease and fowl cholera spread easily when birds crowd together for warmth, so they peak in cold spells. Wet litter encourages oocyst development, making coccidiosis another prime cold-season threat. Mouldy, moist feed or bedding in cool conditions predisposes flocks to aspergillosis. “Respiratory distress” in option B refers to the chronic respiratory disease complex that also worsens in low temperatures. Fowlpox, listed in option C, is mainly insect-borne and more common in warm, dry periods, and the other extra items in options C and D are either less relevant or nonspecific. Hence options A and B contain the diseases most associated with cold weather in poultry.",
         "D",
         "openai-o3-2025-04-16",
         "Kenya",
         "Which diseases should I look out for during cold weather in poultry?"
        ],
        [
         "13",
         "14",
         "Correct answer: B\n\nRationale: Crop mixtures work best when species complement rather than compete with one another. Pairing legumes with cereals (e.g., beans with maize) lets the legume fix atmospheric nitrogen and supply it to the cereal, while the cereal provides support or partial shade; this is a widely recommended practice. Adequate spacing is essential so the two crops do not overcrowd each other, hence the emphasis on “pay attention to spacing.” Mixing cereals with other cereals (A) or tall crops with equally tall crops (C) offers little nutrient or structural complementarity and tends to heighten competition. Very close spacing of intercrops (D) usually reduces, rather than boosts, overall yields because of light, nutrient and moisture competition.",
         "B",
         "openai-o3-2025-04-16",
         "Kenya",
         "Which are the best practices when intercropping crops?"
        ],
        [
         "14",
         "15",
         "Correct answer: B\n\nRationale: Effective composting requires collecting the residues, reducing particle size (chop/shred), mixing them with a nitrogen-rich material (e.g., manure/green leaves), keeping the pile moist and airy, and turning it to speed decomposition; only option B lists all these key practices.",
         "B",
         "openai-o3-2025-04-16",
         "Kenya",
         "How do I compost crop residues to enhance soil fertility?"
        ],
        [
         "15",
         "16",
         "Correct answer: B\n\nRationale: A meaningful farm budget compares total expected income with all production costs. Option B includes identifying every activity, costing inputs, labor, and land preparation, forecasting yield and market price, and then subtracting expenses to see profit or loss—exactly what is required. Option A ignores costs, so it cannot show profitability. Option C overlooks income projections and could misallocate funds. Option D leaves out many essential expenses (e.g., labor, land preparation, pest control), giving an incomplete and misleading picture.",
         "B",
         "openai-o3-2025-04-16",
         "Kenya",
         "How do I create a simple farm budget for one season of maize farming?"
        ],
        [
         "16",
         "17",
         "Correct answer: B\n\nRationale: Safe and effective pesticide use requires following label instructions for mixing, wearing appropriate personal protective equipment (PPE), and ensuring the sprayer is calibrated so the correct dose is delivered and no excess chemical is released. Application should be done in calm weather, not when it is windy or extremely hot, to minimise drift, evaporation and operator exposure. Thorough cleaning of equipment and proper disposal of empty containers prevent environmental contamination and future crop damage. Option A and C advocate applying on windy days, which increases the risk of drift and reduces effectiveness, so they are incorrect.",
         "B",
         "openai-o3-2025-04-16",
         "Kenya",
         "How do I apply pesticide to ensure safety and effectiveness"
        ],
        [
         "17",
         "18",
         "Correct answer: A\n\nRationale: Best practice requires (1) a finely-prepared seedbed, (2) transplanting seedlings only when they have reached the correct physiological stage, (3) hardening-off to reduce shock, (4) watering the nursery just before lifting so roots come out with soil, (5) setting seedlings in a moist field and handling roots gently, and (6) doing the work during a cool part of the day (late evening or early morning). Option A contains every one of these steps. Option B is wrong because it allows transplanting at any time of day, increasing heat and water-stress. Option C omits the essential hardening-off step. Option D allows transplanting seedlings at any stage, which can lead to poor establishment. Therefore only A meets all criteria for best practice.",
         "A",
         "openai-o3-2025-04-16",
         "Kenya",
         "Which is the best practice in transplanting seedlings?"
        ],
        [
         "18",
         "1",
         "Correct answer: A\n\nRationale: Option A is correct because it emphasizes quick diagnosis through visual observation or soil testing to identify the specific deficiency, ensuring targeted action. Applying synthetic fertilizer provides rapid nutrient correction, which is essential for the shortest duration, and using the right rate, timing, and placement minimizes waste and costs, enhancing cost-effectiveness. Option B is incorrect as manure, even when well-rotted, releases nutrients slowly, delaying correction. Option C omits diagnosis, increasing the risk of inefficient or excessive application, which undermines both speed and cost-effectiveness.",
         "A",
         "deepseek-deepseek-reasoner",
         "Kenya",
         "How do I, in the shortest duration and cost effectively correct for nutrient deficiency in my farm?"
        ],
        [
         "19",
         "2",
         "Correct answer: A\n\nRationale: Integrated Pest Management (IPM) is a holistic approach that prioritizes prevention, monitoring, and thresholds before using control methods, with chemicals as a last resort. Option A correctly outlines this by including prevention (e.g., planting early with resistant seeds), continuous monitoring, action based on threshold levels, sequential integration of cultural, biological, and physical controls before chemical options, and evaluation with strategy adjustments. In contrast, Option B omits prevention and threshold-based decisions, Option C lacks prevention and thresholds while misordering steps (e.g., evaluation before action), and Option D inappropriately prioritizes chemical control over non-chemical methods, contradicting IPM principles. For smallholder farmers in Kenya, Option A provides a sustainable, cost-effective strategy that minimizes chemical use and adapts to local conditions.",
         "A",
         "deepseek-deepseek-reasoner",
         "Kenya",
         "How do I implement integrated pest management (IPM) on a farm?"
        ],
        [
         "20",
         "3",
         "Correct answer: A\n\nRationale: Calibrating a knapsack sprayer requires a logical sequence to ensure accuracy: start by measuring the actual spray output to establish a baseline, then calculate the required flow rate using key parameters like walking speed and spray width for the desired application rate. After adjusting nozzle settings or pressure to match this rate, a field test verifies uniform coverage. Option A correctly follows this order, while B adjusts settings prematurely without measurement, C conducts a field test before calibration, and D performs a field test before calculation and adjustment, all leading to potential inaccuracies. This method minimizes pesticide waste and ensures effective pest control for smallholder farmers.",
         "A",
         "deepseek-deepseek-reasoner",
         "Kenya",
         "How do I calibrate a knapsack sprayer to ensure accurate pesticide application?"
        ],
        [
         "21",
         "4",
         "Correct answer: A\n\nRationale: Onions should be harvested during the dry season to prevent rot and ensure proper curing, as wet conditions can lead to spoilage—especially relevant in Kenya with its distinct wet seasons. Maturity must be confirmed by visual cues like yellowing or drooping tops and papery bulb covers, not just days after planting (90-150 days is a guideline, but varietal and environmental factors matter). Option A correctly includes all steps: loosening soil, careful hand or fork harvesting, cutting tops to ~1 inch to prevent moisture entry, cleaning, sun-curing, and ventilated storage for longevity. Option B is incorrect due to wet-season harvesting. Option C omits cutting tops, risking rot. Option D misses maturity checks, which could lead to premature or late harvesting. Thus, only A provides the complete, accurate procedure.",
         "A",
         "deepseek-deepseek-reasoner",
         "Kenya",
         "What is the right procedure to harvest onions?"
        ],
        [
         "22",
         "5",
         "Correct answer: C\n\nRationale: Option C provides the correct sequence for wearing PPE when handling pesticides, as it minimizes contamination risk by starting with coveralls to protect the body, followed by gumboots for foot protection, then a mask for respiratory safety before gloves to avoid face contamination, and ending with a face shield for eye protection. This order aligns with standard agricultural safety guidelines from organizations like WHO and FAO. Option A is incorrect because gloves are worn before the mask, which could lead to respiratory contamination if gloves touch the mask. Option B is unsafe as it starts with the mask, risking displacement when putting on coveralls, and places gloves before coveralls. Option D is flawed because gloves are worn first, exposing hands to early contamination, and coveralls are worn last, leaving the body unprotected during donning. Only C ensures comprehensive protection for farmers during pesticide handling, storage, transport, or spraying.",
         "C",
         "deepseek-deepseek-reasoner",
         "Kenya",
         "How should I wear PPE?"
        ],
        [
         "23",
         "6",
         "Correct answer: C\n\nRationale: Composting animal waste with agricultural residues for 3–4 months, including regular turning, ensures aerobic decomposition that kills pathogens, reduces odors, and produces nutrient-rich compost safe for crops. Applying this compost during land preparation enhances soil fertility, structure, and water retention, aligning with sustainable practices for smallholder farms in Kenya. Options A, B, and D are incorrect: direct dumping (A) can burn crops and spread diseases; burning (B) wastes nutrients and causes pollution; and storing near water sources (D) risks contamination of water bodies, violating environmental guidelines. Composting is cost-effective and widely promoted in Kenyan agriculture for integrated farming systems.",
         "C",
         "deepseek-deepseek-reasoner",
         "Kenya",
         "How do I use animal waste management on a mixed crop-livestock farm?"
        ],
        [
         "24",
         "7",
         "Correct answer: D\n\nRationale: Determining seed rate accurately requires considering specific factors like field area, crop variety, plant spacing, and germination rate to ensure proper plant population and avoid waste or poor yields. Option D is correct because it logically sequences these elements: start with field area to scale the calculation, then use crop variety to determine appropriate spacing, factor in germination rate for realistic seed needs per hectare, and finally apply the seed rate. This approach is precise and practical for smallholder farmers in Kenya, as it accounts for local conditions like variable germination. Options A, B, and C are incomplete or illogical; they omit spacing and germination or sequence steps poorly (e.g., estimating seeds per hectare before knowing variety or area), which could lead to inaccurate seed rates.",
         "D",
         "deepseek-deepseek-reasoner",
         "Kenya",
         "How do I determine the seed rate required for planting on a farm?"
        ],
        [
         "25",
         "8",
         "Correct answer: D\n\nRationale: Option D is correct because it comprehensively addresses all critical steps to minimize maize storage losses: harvesting at physiological maturity during the dry season ensures optimal grain quality; drying to 13% moisture prevents mold and insect growth; careful threshing avoids damage; insecticide or hermetic storage controls pests; and proper store preparation (cleaning, insecticide dusting, ventilation, rodent-proofing, and pallet stacking) safeguards against environmental and pest risks. Options A, B, and C are incomplete: A misses physiological maturity and explicit drying; B omits storage ventilation and rodent control; and C lacks any drying step, which is essential for safe storage.",
         "D",
         "deepseek-deepseek-reasoner",
         "Kenya",
         "Last year I experienced significant losses in my stored maize grain. How do I handle my grain to minimize these losses?"
        ],
        [
         "26",
         "9",
         "Correct answer: C\n\nRationale: \nMaking organic fertilizer from animal manure requires proper composting to ensure nutrient balance, pathogen reduction, and safe application. Option C is correct because it details essential steps: mixing fresh manure with carbon-rich materials balances the carbon-to-nitrogen ratio, preventing nitrogen loss and promoting decomposition; maintaining moisture and aeration through regular turning avoids anaerobic conditions and speeds up composting; and applying only mature compost ensures soil benefits without harming plants. Option A omits key composting practices like mixing materials and turning, which can lead to poor decomposition. Option B incorrectly substitutes storage for active composting, which may not achieve full stabilization or pathogen kill. For smallholder farmers in Kenya, following Option C maximizes yield, soil health, and safety.",
         "C",
         "deepseek-deepseek-reasoner",
         "Kenya",
         "How do I make organic fertilizer from animal manure?"
        ],
        [
         "27",
         "10",
         "Correct answer: B\n\nRationale: For smallholder farmers in Kenya, the best weed control strategy prioritizes sustainability, cost-effectiveness, and safety. Option B is correct because it starts with identifying weed species, which is essential for targeted control, and emphasizes mechanical methods like uprooting first, reducing reliance on costly or harmful herbicides. It includes monitoring growth and evaluating alternatives, ensuring herbicides are used only if necessary, aligning with Integrated Weed Management principles. Options A, C, and D are less ideal: A omits weed identification, potentially leading to ineffective control; C and D prioritize herbicides upfront, which can increase costs, health risks, and environmental damage for resource-limited farmers. Thus, B provides a comprehensive, step-by-step approach that is most appropriate for this context.",
         "B",
         "deepseek-deepseek-reasoner",
         "Kenya",
         "What is the best weed control strategy on a farm?"
        ],
        [
         "28",
         "11",
         "Correct answer: A, B, D\n\nRationale: The lowlands of Kenya require drought-tolerant maize varieties adapted to dry, warm conditions. Options A, B, and D list varieties such as DH01, DH02, DH05, Duma 43, H6213, H519, Sungura 301, H511, and H512, which are all recommended by KALRO for lowland areas due to their drought tolerance. Option C includes H627, which is unsuitable as it requires high rainfall and is for high-potential zones. \"D01\" in option D is likely a typo for DH01, making the list valid.",
         "B",
         "deepseek-deepseek-reasoner",
         "Kenya",
         "Which maize varieties are suitable lowlands of Kenya"
        ],
        [
         "29",
         "12",
         "Correct answer: A\n\nRationale: Option A is correct because spraying pesticides early in the morning or late in the evening takes advantage of cooler temperatures, which reduces evaporation and allows the pesticide to remain effective longer on plant surfaces. Additionally, many pests are more active during these times, increasing targeting efficiency, while beneficial insects like bees are less active, minimizing harm to pollinators. Option B is incorrect due to hot, sunny conditions causing rapid pesticide evaporation and wind increasing drift, which wastes product and poses health risks. Option C is unsafe as spraying towards the wind can blow pesticides back onto the applicator, increasing exposure hazards; instead, spray downwind. Option D is inefficient because heavy rainfall can wash away pesticides before they take effect or dilute them, reducing efficacy.",
         "A",
         "deepseek-deepseek-reasoner",
         "Kenya",
         "Which is the most optimal time to apply pesticides?"
        ],
        [
         "30",
         "13",
         "Correct answer: C\n\nRationale: During cold weather, poultry are more susceptible to respiratory diseases due to factors like poor ventilation, humidity, and stress. Aspergillosis thrives in damp, moldy conditions common in enclosed coops. Infectious coryza is bacterial and often flares up in cold stress. Pneumonia is a frequent outcome of respiratory infections in low temperatures. Fowlpox, included in option C, is less relevant as it is vector-borne and not cold-specific, but the other diseases are correctly associated. Options A, B, and D include coccidiosis, which favors warm, humid conditions and is not primarily a cold-weather concern.",
         "D",
         "deepseek-deepseek-reasoner",
         "Kenya",
         "Which diseases should I look out for during cold weather in poultry?"
        ],
        [
         "31",
         "14",
         "Correct answer: B\n\nRationale: Intercropping legumes like beans or cowpea with cereals such as maize provides nitrogen fixation, enhancing soil fertility and yield for smallholders in Kenya. Proper spacing reduces competition for light, water, and nutrients, making this a best practice. Option A involves cereal-cereal intercropping, which increases competition and is less beneficial. Option C ignores complementary traits, potentially leading to inefficient resource use. Option D's close spacing exacerbates competition, often lowering yields despite higher plant density. Thus, only B aligns with sustainable, high-yield intercropping.",
         "B",
         "deepseek-deepseek-reasoner",
         "Kenya",
         "Which are the best practices when intercropping crops?"
        ],
        [
         "32",
         "15",
         "Correct answer: B\n\nRationale: Option B provides a comprehensive and sequential guide to composting crop residues: it starts with collection, emphasizes chopping/shredding to increase decomposition efficiency, adds nitrogen-rich organic matter for balance, and crucially includes maintaining moisture and aeration—key for microbial activity—along with regular turning to ensure even decomposition. In contrast, option A omits the initial collection step and neglects moisture/aeration management. Option C has an illogical order (e.g., turning before chopping or adding materials), which can hinder decomposition. Option D misses explicit moisture and aeration maintenance, risking poor compost quality, especially in variable climates like Kenya's. Only B covers all essential steps accurately for effective soil fertility enhancement.",
         "B",
         "deepseek-deepseek-reasoner",
         "Kenya",
         "How do I compost crop residues to enhance soil fertility?"
        ],
        [
         "33",
         "16",
         "Correct answer: B\n\nRationale: Option B is correct because it provides a comprehensive approach to budgeting by listing all farming activities, estimating total production costs (including essential inputs and labor), forecasting income based on expected yields and market prices, and calculating profit or loss. This method ensures smallholder farmers account for all expenses and revenues, promoting better financial planning and risk management for maize farming. Options A, C, and D are incorrect: A ignores critical costs, leading to potential losses; C focuses only on expenses without income consideration, risking overspending; and D omits vital expenses like labor and land preparation, resulting in an incomplete budget.",
         "B",
         "deepseek-deepseek-reasoner",
         "Kenya",
         "How do I create a simple farm budget for one season of maize farming?"
        ],
        [
         "34",
         "17",
         "Correct answer: B\n\nRationale: Option B is correct because it comprehensively covers key safety and effectiveness measures: wearing PPE protects the applicator, mixing according to label instructions ensures proper dosage, calibrating equipment optimizes application accuracy, applying during calm weather prevents drift, avoiding peak heat reduces volatilization and health risks, cleaning equipment prevents contamination, and proper disposal minimizes environmental harm. In contrast, options A and C are incorrect as they suggest applying on windy days, which increases drift risk, making application unsafe and less effective. This advice is crucial for smallholder farmers in Kenya to protect health, crops, and the environment.",
         "B",
         "deepseek-deepseek-reasoner",
         "Kenya",
         "How do I apply pesticide to ensure safety and effectiveness"
        ],
        [
         "35",
         "18",
         "Correct answer: A\n\nRationale: Transplanting seedlings successfully involves minimizing shock and ensuring proper establishment. Best practices include preparing a fine-tilth seedbed in advance, transplanting at the right growth stage (e.g., when seedlings have 4-6 true leaves), hardening seedlings by reducing water and shade to toughen them, irrigating the nursery thoroughly for easy removal, planting into moist soil with careful root handling to prevent damage, and choosing cool times like late evening to avoid heat stress. Option A covers all these aspects comprehensively. Option B is incorrect as transplanting at any time of day can cause heat stress. Option C omits hardening, leaving seedlings vulnerable. Option D allows transplanting at any stage, risking poor survival due to underdeveloped or overgrown roots. Thus, only A represents the full best practice.",
         "A",
         "deepseek-deepseek-reasoner",
         "Kenya",
         "Which is the best practice in transplanting seedlings?"
        ],
        [
         "36",
         "1",
         "Correct answer: [A, B]\n\nRationale:\nOption A describes the most technically sound and rapid method using fertilizers. Diagnosing the deficiency (soil test or visual), selecting the right fertilizer source, and applying it using the 4R principles (Right Rate, Right Time, Right Place, including moist soil and proper placement) ensures nutrients are quickly available to the crop, leading to correction in the shortest duration and cost-effectively by maximizing nutrient use efficiency and minimizing waste.\n\nOption B offers a viable and cost-effective alternative, particularly for smallholder farmers who may have ready access to well-rotted manure at little to no cash cost. While manure releases nutrients more slowly than mineral fertilizers (so it may not be the absolute \"shortest duration\" compared to A), following the principles of diagnosis, applying the right rate at the right time and place will effectively correct deficiencies over time and improve long-term soil health. For farmers with limited access to cash for fertilizers, this is a practical and cost-effective approach.",
         "A",
         "gemini-gemini-2-5-pro-preview-05-06",
         "Kenya",
         "How do I, in the shortest duration and cost effectively correct for nutrient deficiency in my farm?"
        ],
        [
         "37",
         "2",
         "Correct answer: [A, B]\n\nRationale: Option A provides the most comprehensive and accurate description of how to implement Integrated Pest Management (IPM). It correctly outlines the sequential process: starting with preventative measures like healthy crop establishment and proper seed selection, followed by continuous monitoring of pest populations. It emphasizes using action thresholds to make decisions and prioritizes cultural, biological, and physical controls before resorting to chemical applications as a last measure. Finally, it includes the crucial steps of evaluating control effectiveness and adjusting strategies, reflecting the adaptive nature of IPM.\n\nOption B is also correct because it highlights several core actions fundamental to implementing IPM. Monitoring pest populations is the basis for informed decision-making. Utilizing biological control methods is a key non-chemical strategy. Crucially, applying chemical control only as a last resort is a central tenet of IPM, aiming to minimize pesticide use and its associated risks. While not as exhaustive as option A, these steps represent a correct, albeit simplified, approach to IPM implementation, particularly regarding intervention choices. Options C and D are less accurate: C presents IPM components in an illogical implementation order, and D's phrasing \"apply chemical control when needed\" can be misconstrued as not strictly adhering to the IPM hierarchy of controls.",
         "A",
         "gemini-gemini-2-5-pro-preview-05-06",
         "Kenya",
         "How do I implement integrated pest management (IPM) on a farm?"
        ],
        [
         "38",
         "3",
         "Correct answer: [A]\n\nRationale: Option A outlines the most accurate and systematic procedure for calibrating a knapsack sprayer. It begins by determining the sprayer's current performance: **measuring its output (e.g., liters per minute) and the area it covers** (based on a consistent walking speed and the spray swath width). This allows calculation of the current application rate (e.g., liters per hectare). Next, the **required nozzle flow rate is calculated** based on the pesticide label's recommended application rate and the farmer's chosen walking speed and spray width. With the current and required rates known, **adjustments are made to the nozzle settings or pressure** to match the sprayer's output to the calculated requirement. Finally, a **field test on a small, measured area is crucial** to confirm that the sprayer is delivering the correct volume uniformly across the target area before commencing the full spraying operation. This comprehensive sequence ensures accurate pesticide application, which is vital for efficacy, cost-effectiveness, and environmental safety. The other options present a less logical or incomplete sequence of these essential calibration steps.",
         "A",
         "gemini-gemini-2-5-pro-preview-05-06",
         "Kenya",
         "How do I calibrate a knapsack sprayer to ensure accurate pesticide application?"
        ],
        [
         "39",
         "4",
         "Correct answer: [A, C]\n\nRationale: Both options A and C describe key correct steps for harvesting onions. They correctly identify maturity indicators (tops yellowing or drooping, formation of a membranous bulb cover) and the typical harvest time (90-150 days post-planting). Both also recommend careful harvesting techniques and a crucial two-stage curing process: an initial drying period (sun curing), followed by extended curing in a well-ventilated store for long-term storage, aiming for thoroughly dried necks and outer scales.\n\nOption A outlines a more comprehensive and optimal procedure by specifying harvesting during the dry season, which is ideal for sun curing, and instructing to cut tops back to about one inch after harvest, promoting better neck drying and reducing storage rot.\n\nOption C, while omitting these explicit details, still presents a fundamentally correct approach. The instruction to \"dry in the sun to cure\" implies the necessity of dry weather conditions. Although it doesn't detail immediate top cutting, the stated goal of achieving thoroughly dried necks for long storage is critical and achievable if the curing process is managed effectively. Therefore, while A is more detailed and represents best practice, C also describes a viable and right procedure. Options B (harvesting in the wet season) and D (lacking maturity indicators) are incorrect as they describe practices detrimental to onion quality and storage.",
         "A",
         "gemini-gemini-2-5-pro-preview-05-06",
         "Kenya",
         "What is the right procedure to harvest onions?"
        ],
        [
         "40",
         "5",
         "Correct answer: [C]\n\nRationale: Option C describes the most appropriate and safest sequence for donning (putting on) Personal Protective Equipment (PPE), particularly crucial when handling pesticides. Starting with the overall/coveralls and then gumboots ensures that the body, legs, and feet are protected first. Next, the mask is put on to protect the respiratory system; it's important this is done before hands are gloved or become potentially contaminated. After the mask is securely fitted, gloves are worn, typically ensuring they go over the cuffs of the overall. Finally, the face shield is added to protect the eyes and face from splashes or spray drift. This systematic order helps to minimize the risk of self-contamination during the donning process, which is essential for personal safety. The other options suggest orders that could lead to contamination, such as putting on gloves before the mask or before the main body covering.",
         "C",
         "gemini-gemini-2-5-pro-preview-05-06",
         "Kenya",
         "How should I wear PPE?"
        ],
        [
         "41",
         "6",
         "Correct answer: A, C\n\nRationale: Both composting (Option C) and direct application (Option A) are methods to use animal waste on crop fields on a mixed farm. Option C, which involves collecting animal and agricultural waste, composting it for 3–4 months with regular turning, and then applying it during land preparation, is the most highly recommended method. This process creates a stable, nutrient-rich compost that improves soil structure, water retention, and fertility while significantly reducing pathogens and weed seeds. Option A, collecting animal waste and applying it directly to crop fields, can also add nutrients and organic matter. However, if using fresh manure, it should be applied with caution, ideally incorporated into the soil well before planting, to prevent burning young plants, spreading diseases, or introducing many weed seeds; aged manure is generally safer for direct application. Composting (Option C) is a more effective practice for maximizing nutrient benefits and minimizing risks. Burning waste (Option B) destroys valuable nutrients and organic matter. Storing manure in open pits near water sources (Option D) is dangerous as it leads to water pollution and nutrient loss.",
         "C",
         "gemini-gemini-2-5-pro-preview-05-06",
         "Kenya",
         "How do I use animal waste management on a mixed crop-livestock farm?"
        ],
        [
         "42",
         "7",
         "Correct answer: [A, B, D]\n\nRationale:\nOptions A and B correctly outline essential initial steps: identifying the crop variety and measuring the field area, which are crucial prerequisites for determining total seed needs. Both then involve estimating the required seeds per hectare (the seed rate) before applying it to the farm. The order of calculating field area and determining crop variety (as in A versus B) can be flexible as both are needed before calculating total seeds. Option D provides a more detailed and agronomically sound method for determining this seed rate, by calculating it based on appropriate plant spacing for the selected crop variety and the seed's germination rate. This approach allows for precise calculation to achieve the desired plant population, accounting for seed viability. Therefore, A, B, and D all describe valid approaches to determining the seed rate. Option C is less optimal as the seed rate is highly dependent on the crop variety, which should ideally be determined before estimating a specific rate per hectare.",
         "D",
         "gemini-gemini-2-5-pro-preview-05-06",
         "Kenya",
         "How do I determine the seed rate required for planting on a farm?"
        ],
        [
         "43",
         "8",
         "Correct answer: [B, D]\n\nRationale:\nOption D provides the most comprehensive and ideal set of practices for minimizing post-harvest maize losses. It correctly details all critical stages: harvesting at physiological maturity during the dry season, drying grain to approximately 13% moisture content, careful threshing, appropriate grain treatment (insecticide for gunny bags or using hermetic bags for dry, untreated grain), thorough store cleaning and dusting with insecticides. Crucially, it also includes essential storage environment management for gunny bags: ensuring the store is well-ventilated, rodent-free, using pallets to prevent moisture uptake, and stacking bags to maximize ventilation.\n\nOption B is also a correct answer as it outlines many essential and sound practices. It correctly advises harvesting at physiological maturity, drying grain to 13% moisture content (including practical estimation methods), careful threshing, using insecticides for grain in gunny bags or hermetic bags for dry, untreated grain, and cleaning and dusting the store. While it omits specific details on gunny bag stacking and store environment management (like pallets and rodent-proofing the store structure, which D includes), the steps it does list are all correct and vital for significantly reducing losses.\n\nOption A is less ideal because \"harvest when leaves are dry\" is a less precise indicator than physiological maturity and critically omits explicit instructions for drying grain before insecticide treatment for gunny bag storage. Option C is incorrect as it completely misses the crucial step of drying the grain to a safe moisture level before storage or treatment.",
         "D",
         "gemini-gemini-2-5-pro-preview-05-06",
         "Kenya",
         "Last year I experienced significant losses in my stored maize grain. How do I handle my grain to minimize these losses?"
        ],
        [
         "44",
         "9",
         "Correct answer: A, C\n\nRationale: Option C provides a comprehensive and accurate method for making organic fertilizer (compost) from animal manure. It correctly details the crucial steps: collecting fresh manure, balancing the carbon-to-nitrogen ratio with carbon-rich materials, and ensuring proper moisture and aeration through regular turning for effective decomposition. This results in mature, high-quality compost ready for soil application.\n\nOption A describes a correct, albeit higher-level, sequence of actions. It includes collecting manure and the essential step of \"compost it,\" which is the process of making organic fertilizer. While it also includes subsequent steps of applying the compost and monitoring soil quality (which are about usage and evaluation rather than making), the initial steps correctly outline a path to creating organic fertilizer. Both A and C offer valid perspectives on the process, with C detailing the \"how-to\" of composting mentioned in A. Option B is less ideal as \"storing manure for several weeks\" before composting is not always necessary or optimal and can lead to nutrient loss if done improperly.",
         "C",
         "gemini-gemini-2-5-pro-preview-05-06",
         "Kenya",
         "How do I make organic fertilizer from animal manure?"
        ],
        [
         "45",
         "10",
         "Correct answer: B, C\n\nRationale: Option B represents the most comprehensive and ideal Integrated Weed Management (IWM) strategy for smallholder farmers in Kenya. It correctly starts with weed identification, prioritizes accessible and often lower-cost mechanical controls, and incorporates monitoring and evaluation to decide if other methods, like herbicides, are needed. This approach is sustainable, adaptive, and considers the typical resource availability for smallholders. Option C is also a correct strategy as it includes essential IWM steps: identifying weed species, applying a specific control method (herbicides), monitoring effectiveness, and evaluating alternatives. While Option B is generally preferable for its initial emphasis on non-chemical methods, Option C can be an appropriate strategy in situations where specific, difficult-to-control weeds are identified and known to be best managed with herbicides, provided this is done judiciously. Both options emphasize informed decision-making based on identification and ongoing assessment.",
         "B",
         "gemini-gemini-2-5-pro-preview-05-06",
         "Kenya",
         "What is the best weed control strategy on a farm?"
        ],
        [
         "46",
         "11",
         "Correct answer: [B]\n\nRationale: Lowland areas in Kenya are often characterized by higher temperatures and lower, more erratic rainfall, making drought tolerance and early maturity key traits for suitable maize varieties. Varieties DH01, DH02, and DH05 are Dryland Hybrids developed for moisture-stress areas. Duma 43 is well-known for its early maturity and good performance in dry, low-to-mid altitude regions. Sungura 301 is also recognized for its suitability to dryland/lowland conditions, offering good drought tolerance. Options A, C, and D include highland (e.g., H6213, H627) or mid-altitude (e.g., H519, H511, H512) varieties which are not optimal for the typical hotter and drier lowland environments.",
         "B",
         "gemini-gemini-2-5-pro-preview-05-06",
         "Kenya",
         "Which maize varieties are suitable lowlands of Kenya"
        ],
        [
         "47",
         "12",
         "Correct answer: A\n\nRationale:\nOption A is the most optimal time. Spraying in the early morning or late evening offers cooler temperatures, which minimize pesticide evaporation and volatilization, allowing more product to reach and stay on the target surfaces. Calmer wind conditions, often present at these times, significantly reduce pesticide drift, improving accuracy and safety. When pests are active, the pesticide has a higher chance of directly contacting them, increasing its effectiveness, especially for contact pesticides. These cooler periods also reduce the risk of plant stress or phytotoxicity from the spray. Furthermore, beneficial insects like pollinators (e.g., bees) are generally less active during early mornings or late evenings, reducing their exposure to harmful chemicals. Options B, C, and D describe suboptimal or dangerous conditions: hot, windy conditions (B) increase drift and evaporation; spraying into the wind (C) is hazardous to the applicator; and spraying before or immediately after heavy rain (D) leads to pesticide wash-off or dilution and runoff.",
         "A",
         "gemini-gemini-2-5-pro-preview-05-06",
         "Kenya",
         "Which is the most optimal time to apply pesticides?"
        ],
        [
         "48",
         "13",
         "Correct answer: B, D\n\nRationale: Both options B and D highlight diseases and symptoms highly relevant during cold weather in poultry. Cold, damp conditions and poor ventilation, often present when farmers try to conserve heat, create an environment conducive to these health issues. Fowl cholera (in option B) can be triggered by stress, including cold, and often occurs in wet conditions. Coccidiosis (in options B and D) proliferates in damp litter, a common problem in poorly ventilated houses during cold seasons. Aspergillosis (in option B), a fungal disease, is often linked to moldy litter common in damp, poorly ventilated cold-weather housing, leading to respiratory problems. Pneumonia (in option D) is a frequent consequence of cold, damp, and poorly ventilated environments causing lung inflammation. Respiratory distress (in options B and D) is a critical symptom complex to watch for, indicating these conditions or others like bronchitis, which are exacerbated by cold air and ammonia buildup from poor ventilation. While diseases like Newcastle (A) or Fowlpox (C) can occur, they are not as specifically tied to cold weather as primary drivers compared to those listed in B and D. Therefore, farmers should be vigilant for the diseases and signs listed in options B and D during colder periods.",
         "D",
         "gemini-gemini-2-5-pro-preview-05-06",
         "Kenya",
         "Which diseases should I look out for during cold weather in poultry?"
        ],
        [
         "49",
         "14",
         "Correct answer: B, D\n\nRationale: Intercropping legumes (e.g., beans, cowpeas) with cereals (e.g., maize, sorghum) is a highly recommended practice (Options B and D). Legumes contribute nitrogen to the soil, benefiting the companion cereal and improving overall soil health. Option B correctly emphasizes that careful attention to spacing is essential to minimize competition for resources like light, water, and nutrients, ensuring both crops perform well. Option D is also a best practice because a key objective and benefit of intercropping is to increase overall productivity per unit of land (achieving a Land Equivalent Ratio > 1). This is often accomplished through strategic \"close spacing\"—meaning higher plant population densities or more intimate mixtures than in monoculture—designed to maximize complementary resource use and minimize competition between the chosen crops, ultimately leading to higher total yields from the same piece of land. Both principles, managing competition through appropriate spacing (B) and utilizing optimized density for greater land productivity (D), are central to successful intercropping systems.",
         "B",
         "gemini-gemini-2-5-pro-preview-05-06",
         "Kenya",
         "Which are the best practices when intercropping crops?"
        ]
       ],
       "shape": {
        "columns": 6,
        "rows": 162
       }
      },
      "text/html": [
       "<div>\n",
       "<style scoped>\n",
       "    .dataframe tbody tr th:only-of-type {\n",
       "        vertical-align: middle;\n",
       "    }\n",
       "\n",
       "    .dataframe tbody tr th {\n",
       "        vertical-align: top;\n",
       "    }\n",
       "\n",
       "    .dataframe thead th {\n",
       "        text-align: right;\n",
       "    }\n",
       "</style>\n",
       "<table border=\"1\" class=\"dataframe\">\n",
       "  <thead>\n",
       "    <tr style=\"text-align: right;\">\n",
       "      <th></th>\n",
       "      <th>question_id</th>\n",
       "      <th>answer</th>\n",
       "      <th>correct_answer</th>\n",
       "      <th>model</th>\n",
       "      <th>country</th>\n",
       "      <th>question</th>\n",
       "    </tr>\n",
       "  </thead>\n",
       "  <tbody>\n",
       "    <tr>\n",
       "      <th>0</th>\n",
       "      <td>1</td>\n",
       "      <td>Correct answer: A\\n\\nRationale: A follows the ...</td>\n",
       "      <td>A</td>\n",
       "      <td>openai-o3-2025-04-16</td>\n",
       "      <td>Kenya</td>\n",
       "      <td>How do I, in the shortest duration and cost ef...</td>\n",
       "    </tr>\n",
       "    <tr>\n",
       "      <th>1</th>\n",
       "      <td>2</td>\n",
       "      <td>Correct answer: A, B\\n\\nRationale: IPM begins ...</td>\n",
       "      <td>A</td>\n",
       "      <td>openai-o3-2025-04-16</td>\n",
       "      <td>Kenya</td>\n",
       "      <td>How do I implement integrated pest management ...</td>\n",
       "    </tr>\n",
       "    <tr>\n",
       "      <th>2</th>\n",
       "      <td>3</td>\n",
       "      <td>Correct answer: A\\n\\nRationale: Effective cali...</td>\n",
       "      <td>A</td>\n",
       "      <td>openai-o3-2025-04-16</td>\n",
       "      <td>Kenya</td>\n",
       "      <td>How do I calibrate a knapsack sprayer to ensur...</td>\n",
       "    </tr>\n",
       "    <tr>\n",
       "      <th>3</th>\n",
       "      <td>4</td>\n",
       "      <td>Correct answer: A\\n\\nRationale: Harvesting oni...</td>\n",
       "      <td>A</td>\n",
       "      <td>openai-o3-2025-04-16</td>\n",
       "      <td>Kenya</td>\n",
       "      <td>What is the right procedure to harvest onions?</td>\n",
       "    </tr>\n",
       "    <tr>\n",
       "      <th>4</th>\n",
       "      <td>5</td>\n",
       "      <td>Correct answer: C\\n\\nRationale: PPE should be ...</td>\n",
       "      <td>C</td>\n",
       "      <td>openai-o3-2025-04-16</td>\n",
       "      <td>Kenya</td>\n",
       "      <td>How should I wear PPE?</td>\n",
       "    </tr>\n",
       "    <tr>\n",
       "      <th>...</th>\n",
       "      <td>...</td>\n",
       "      <td>...</td>\n",
       "      <td>...</td>\n",
       "      <td>...</td>\n",
       "      <td>...</td>\n",
       "      <td>...</td>\n",
       "    </tr>\n",
       "    <tr>\n",
       "      <th>157</th>\n",
       "      <td>14</td>\n",
       "      <td>Correct answer: B\\n\\nRationale: Intercropping ...</td>\n",
       "      <td>B</td>\n",
       "      <td>anthropic-claude-3-7-sonnet-20250219</td>\n",
       "      <td>Kenya</td>\n",
       "      <td>Which are the best practices when intercroppin...</td>\n",
       "    </tr>\n",
       "    <tr>\n",
       "      <th>158</th>\n",
       "      <td>15</td>\n",
       "      <td>Correct answer: B\\n\\nRationale: Option B provi...</td>\n",
       "      <td>B</td>\n",
       "      <td>anthropic-claude-3-7-sonnet-20250219</td>\n",
       "      <td>Kenya</td>\n",
       "      <td>How do I compost crop residues to enhance soil...</td>\n",
       "    </tr>\n",
       "    <tr>\n",
       "      <th>159</th>\n",
       "      <td>16</td>\n",
       "      <td>Correct answer: B\\n\\nRationale: Creating a pro...</td>\n",
       "      <td>B</td>\n",
       "      <td>anthropic-claude-3-7-sonnet-20250219</td>\n",
       "      <td>Kenya</td>\n",
       "      <td>How do I create a simple farm budget for one s...</td>\n",
       "    </tr>\n",
       "    <tr>\n",
       "      <th>160</th>\n",
       "      <td>17</td>\n",
       "      <td>Correct answer: B\\n\\nRationale: Option B is th...</td>\n",
       "      <td>B</td>\n",
       "      <td>anthropic-claude-3-7-sonnet-20250219</td>\n",
       "      <td>Kenya</td>\n",
       "      <td>How do I apply pesticide to ensure safety and ...</td>\n",
       "    </tr>\n",
       "    <tr>\n",
       "      <th>161</th>\n",
       "      <td>18</td>\n",
       "      <td>Correct answer: A\\n\\nRationale: Option A conta...</td>\n",
       "      <td>A</td>\n",
       "      <td>anthropic-claude-3-7-sonnet-20250219</td>\n",
       "      <td>Kenya</td>\n",
       "      <td>Which is the best practice in transplanting se...</td>\n",
       "    </tr>\n",
       "  </tbody>\n",
       "</table>\n",
       "<p>162 rows × 6 columns</p>\n",
       "</div>"
      ],
      "text/plain": [
       "     question_id                                             answer  \\\n",
       "0              1  Correct answer: A\\n\\nRationale: A follows the ...   \n",
       "1              2  Correct answer: A, B\\n\\nRationale: IPM begins ...   \n",
       "2              3  Correct answer: A\\n\\nRationale: Effective cali...   \n",
       "3              4  Correct answer: A\\n\\nRationale: Harvesting oni...   \n",
       "4              5  Correct answer: C\\n\\nRationale: PPE should be ...   \n",
       "..           ...                                                ...   \n",
       "157           14  Correct answer: B\\n\\nRationale: Intercropping ...   \n",
       "158           15  Correct answer: B\\n\\nRationale: Option B provi...   \n",
       "159           16  Correct answer: B\\n\\nRationale: Creating a pro...   \n",
       "160           17  Correct answer: B\\n\\nRationale: Option B is th...   \n",
       "161           18  Correct answer: A\\n\\nRationale: Option A conta...   \n",
       "\n",
       "    correct_answer                                 model country  \\\n",
       "0                A                  openai-o3-2025-04-16   Kenya   \n",
       "1                A                  openai-o3-2025-04-16   Kenya   \n",
       "2                A                  openai-o3-2025-04-16   Kenya   \n",
       "3                A                  openai-o3-2025-04-16   Kenya   \n",
       "4                C                  openai-o3-2025-04-16   Kenya   \n",
       "..             ...                                   ...     ...   \n",
       "157              B  anthropic-claude-3-7-sonnet-20250219   Kenya   \n",
       "158              B  anthropic-claude-3-7-sonnet-20250219   Kenya   \n",
       "159              B  anthropic-claude-3-7-sonnet-20250219   Kenya   \n",
       "160              B  anthropic-claude-3-7-sonnet-20250219   Kenya   \n",
       "161              A  anthropic-claude-3-7-sonnet-20250219   Kenya   \n",
       "\n",
       "                                              question  \n",
       "0    How do I, in the shortest duration and cost ef...  \n",
       "1    How do I implement integrated pest management ...  \n",
       "2    How do I calibrate a knapsack sprayer to ensur...  \n",
       "3       What is the right procedure to harvest onions?  \n",
       "4                               How should I wear PPE?  \n",
       "..                                                 ...  \n",
       "157  Which are the best practices when intercroppin...  \n",
       "158  How do I compost crop residues to enhance soil...  \n",
       "159  How do I create a simple farm budget for one s...  \n",
       "160  How do I apply pesticide to ensure safety and ...  \n",
       "161  Which is the best practice in transplanting se...  \n",
       "\n",
       "[162 rows x 6 columns]"
      ]
     },
     "execution_count": 35,
     "metadata": {},
     "output_type": "execute_result"
    }
   ],
   "source": [
    "all_df"
   ]
  },
  {
   "cell_type": "code",
   "execution_count": 36,
   "metadata": {},
   "outputs": [
    {
     "data": {
      "application/vnd.microsoft.datawrangler.viewer.v0+json": {
       "columns": [
        {
         "name": "index",
         "rawType": "int64",
         "type": "integer"
        },
        {
         "name": "model",
         "rawType": "object",
         "type": "string"
        },
        {
         "name": "question_id",
         "rawType": "int64",
         "type": "integer"
        },
        {
         "name": "question",
         "rawType": "object",
         "type": "string"
        },
        {
         "name": "answer",
         "rawType": "object",
         "type": "string"
        },
        {
         "name": "correct_answer",
         "rawType": "object",
         "type": "string"
        },
        {
         "name": "country",
         "rawType": "object",
         "type": "string"
        }
       ],
       "ref": "214d65e4-c693-4650-9602-c0caafb222a6",
       "rows": [
        [
         "0",
         "openai-o3-2025-04-16",
         "1",
         "How do I, in the shortest duration and cost effectively correct for nutrient deficiency in my farm?",
         "Correct answer: A\n\nRationale: A follows the full “4R” nutrient-management principles—right source, rate, timing and placement—after first confirming the specific deficiency through a soil test or crop inspection, so nutrients reach the crop quickly and efficiently. Mineral fertilizers supply nutrients in readily available forms, giving the fastest correction. B relies on well-rotted manure whose nutrients are released slowly and unpredictably, so it is not the quickest remedy. C omits both diagnosis (soil test/visual check) and selection of the correct fertilizer source, increasing the risk of misapplication and extra cost. Therefore, only option A meets both the “shortest duration” and “cost-effective” requirements.",
         "A",
         "Kenya"
        ],
        [
         "1",
         "openai-o3-2025-04-16",
         "2",
         "How do I implement integrated pest management (IPM) on a farm?",
         "Correct answer: A, B\n\nRationale: IPM begins with preventive cultural measures (e.g., using the right seed and planting time), regular scouting to determine pest thresholds, then deploying non-chemical tactics (cultural, biological, physical) and keeping pesticides as the final option while continually assessing results. Option A captures every step in the proper sequence—prevention, monitoring, threshold decision, cultural/biological/physical controls first, limited chemical use last, and post-action evaluation—so it is fully correct. Option B, though less detailed, still lists the three core pillars of IPM: monitoring (scouting), favouring biological control, and reserving chemicals for last resort; therefore it also aligns with IPM principles. Options C and D omit key IPM elements or place chemical control too early, so they are not correct.",
         "A",
         "Kenya"
        ],
        [
         "2",
         "openai-o3-2025-04-16",
         "3",
         "How do I calibrate a knapsack sprayer to ensure accurate pesticide application?",
         "Correct answer: A\n\nRationale: Effective calibration follows a logical sequence: first collect data on actual sprayer output per minute over a measured strip; then use walking speed and spray-band width to compute litres/ha (required nozzle flow rate); next, change nozzle size or pump pressure until the calculated rate matches the label rate; finally, spray a small test area to verify even coverage. Option A includes every one of these steps in the correct order and mentions the key variables (time, area, walking speed, spray width) that determine accurate dosage. Options B, C and D omit critical parameters and/or place steps in the wrong sequence, so they cannot guarantee precise application.",
         "A",
         "Kenya"
        ],
        [
         "3",
         "openai-o3-2025-04-16",
         "4",
         "What is the right procedure to harvest onions?",
         "Correct answer: A\n\nRationale: Harvesting onions is best done in dry weather; wet conditions at lifting greatly increase rotting during curing and storage. The crop should be lifted 90-150 days after planting when about 70-80 % of the tops have yellowed or fallen, indicating a mature bulb with a tight, shiny skin. The soil is first loosened, then bulbs are pulled or fork-lifted to avoid neck damage. After lifting, tops are trimmed to about 2–3 cm, loose soil is brushed off, and the bulbs are sun-dried for a few days and then cured in a well-ventilated, shaded store until necks and outer scales are papery. Option A contains all these key steps, whereas B recommends harvesting in the wet season (wrong), C omits the dry-season requirement and top-trimming, and D omits maturity indicators, so only A is completely correct.",
         "A",
         "Kenya"
        ],
        [
         "4",
         "openai-o3-2025-04-16",
         "5",
         "How should I wear PPE?",
         "Correct answer: C\n\nRationale: PPE should be donned from the “inside out,” starting with the garments that cover the largest body areas and finishing with items that protect the most contamination-prone parts (hands and face). First put on the overall/coveralls so clothing and skin are covered. Next slip on gumboots so trouser legs fit over or inside the boot tops. Once the body and feet are protected, fit the respirator or mask before other items so it seals properly on clean skin and is not disturbed later. Gloves go on after the mask so they stay clean and cover the sleeve ends. Finally, add the goggles or face shield to protect eyes and face from splashes—this must be last so it is not dislodged while fitting other gear. Options A, B, and D place gloves or face protection too early or the mask too late, increasing contamination risk.",
         "C",
         "Kenya"
        ],
        [
         "5",
         "openai-o3-2025-04-16",
         "6",
         "How do I use animal waste management on a mixed crop-livestock farm?",
         "Correct answer: C\n\nRationale: Directly dumping raw manure (A) can scorch crops, spread pathogens and cause nutrient runoff; burning manure (B) wastes valuable nutrients and emits harmful gases; storing manure in open pits near water (D) risks groundwater contamination and nitrogen loss. The recommended practice is to collect manure and crop residues, compost them for several months while turning to aerate (C). Composting stabilises nutrients, kills weed seeds and pathogens, reduces smell, and produces a friable organic fertiliser that can be safely incorporated into the soil during land preparation, improving soil structure, water-holding capacity and fertility.",
         "C",
         "Kenya"
        ],
        [
         "6",
         "openai-o3-2025-04-16",
         "7",
         "How do I determine the seed rate required for planting on a farm?",
         "Correct answer: D\n\nRationale: Determining seed rate is not just a matter of knowing the area and crop; you must translate variety-specific spacing (and its expected germination %) into a seeds-per-hectare figure, then multiply by the actual field size. Option D lists all these essential steps—field area, variety-specific spacing, adjustment for germination, and final calculation—so it is correct. Options A, B and C omit the crucial spacing/germination considerations, making their “estimate the required seeds per hectare” step unsupported and therefore incomplete.",
         "D",
         "Kenya"
        ],
        [
         "7",
         "openai-o3-2025-04-16",
         "8",
         "Last year I experienced significant losses in my stored maize grain. How do I handle my grain to minimize these losses?",
         "Correct answer: D\n\nRationale: Proper loss‐reduction starts with harvesting physiologically mature cobs during dry weather, then sun-drying them to about 13 % moisture (simple salt or bite tests confirm this). Option D is the only choice that includes this critical drying step as well as careful threshing to avoid kernel breakage. It also prescribes either insecticide dusting or hermetic storage, both accepted protection methods. Additionally, it stresses cleaning and insecticide-treating the store, good ventilation, rodent exclusion, and stacking bags on pallets to keep air flowing. Options A and C omit the drying step, while B omits the ventilation/pallet stacking advice, so they are incomplete.",
         "D",
         "Kenya"
        ],
        [
         "8",
         "openai-o3-2025-04-16",
         "9",
         "How do I make organic fertilizer from animal manure?",
         "Correct answer: C\n\nRationale: Proper organic fertilizer (compost) from manure requires balancing manure’s high nitrogen with carbon-rich materials, ensuring the pile has roughly a 25–30 : 1 C:N ratio. Adequate moisture (about 50–60 %) and oxygen are needed, so the heap must be turned regularly. These steps foster rapid, even decomposition, kill weed seeds and pathogens, and minimise nutrient losses. Option C includes all these critical practices. Option A omits adding carbon sources and managing moisture/aeration, making it incomplete and potentially leading to odour, nutrient loss, or slow composting. Option B’s “store it for several weeks” before composting can cause nutrient leaching, methane production, and pathogen risks, so it is not recommended.",
         "C",
         "Kenya"
        ],
        [
         "9",
         "openai-o3-2025-04-16",
         "10",
         "What is the best weed control strategy on a farm?",
         "Correct answer: B\n\nRationale: Effective weed management follows an integrated approach: (1) correctly identify the weed species present; (2) start with non-chemical tactics such as hand-weeding, hoeing or other mechanical methods; (3) regularly monitor regrowth or new infestations; and (4) decide, based on monitoring results and economic thresholds, whether herbicides or other additional measures are warranted. Option B lists all these steps in the correct order and stresses using herbicides only if other methods are insufficient, which reduces costs, delays resistance and safeguards the environment. Options A, C and D omit either the essential identification step or the preference for mechanical/cultural control before chemicals, so they are incomplete or place herbicides too early in the process.",
         "B",
         "Kenya"
        ],
        [
         "10",
         "openai-o3-2025-04-16",
         "11",
         "Which maize varieties are suitable lowlands of Kenya",
         "Correct answer: B\n\nRationale: DH01, DH02 and DH05 are “Dry-land Hybrids” bred specifically for the hot, drought-prone lowlands (<1 000 m). Duma 43 is an extra-early composite also targeted at the coastal and eastern lowland zones. Sungura 301 is an early-maturing, drought-tolerant hybrid released for semi-arid low-elevation areas. Options A, C and D each include one or more varieties (e.g. H6213, H519, H627, H512, H511) that are recommended for mid- or high-altitude environments rather than the true lowlands, so those options are not fully correct.",
         "B",
         "Kenya"
        ],
        [
         "11",
         "openai-o3-2025-04-16",
         "12",
         "Which is the most optimal time to apply pesticides?",
         "Correct answer: A\n\nRationale: Pesticides work best when temperatures are moderate, humidity is higher, and wind is minimal, which normally occurs early in the morning or late in the evening. Cool conditions reduce evaporation, ensuring the chemical remains on the plant surface long enough to be absorbed or contact the pest. Many target pests are also more active and exposed during these periods, increasing hit rates. Spraying during hot, sunny, or windy conditions (option B and C) causes rapid evaporation and drift, wasting product and risking off-target damage. Applying just before or after heavy rain (option D) results in the pesticide being washed off, lowering effectiveness and contaminating water sources.",
         "A",
         "Kenya"
        ],
        [
         "12",
         "openai-o3-2025-04-16",
         "13",
         "Which diseases should I look out for during cold weather in poultry?",
         "Correct answer: A, B\n\nRationale: Cold, damp weather stresses birds and aids survival and spread of respiratory and gut pathogens. Newcastle disease and fowl cholera spread easily when birds crowd together for warmth, so they peak in cold spells. Wet litter encourages oocyst development, making coccidiosis another prime cold-season threat. Mouldy, moist feed or bedding in cool conditions predisposes flocks to aspergillosis. “Respiratory distress” in option B refers to the chronic respiratory disease complex that also worsens in low temperatures. Fowlpox, listed in option C, is mainly insect-borne and more common in warm, dry periods, and the other extra items in options C and D are either less relevant or nonspecific. Hence options A and B contain the diseases most associated with cold weather in poultry.",
         "D",
         "Kenya"
        ],
        [
         "13",
         "openai-o3-2025-04-16",
         "14",
         "Which are the best practices when intercropping crops?",
         "Correct answer: B\n\nRationale: Crop mixtures work best when species complement rather than compete with one another. Pairing legumes with cereals (e.g., beans with maize) lets the legume fix atmospheric nitrogen and supply it to the cereal, while the cereal provides support or partial shade; this is a widely recommended practice. Adequate spacing is essential so the two crops do not overcrowd each other, hence the emphasis on “pay attention to spacing.” Mixing cereals with other cereals (A) or tall crops with equally tall crops (C) offers little nutrient or structural complementarity and tends to heighten competition. Very close spacing of intercrops (D) usually reduces, rather than boosts, overall yields because of light, nutrient and moisture competition.",
         "B",
         "Kenya"
        ],
        [
         "14",
         "openai-o3-2025-04-16",
         "15",
         "How do I compost crop residues to enhance soil fertility?",
         "Correct answer: B\n\nRationale: Effective composting requires collecting the residues, reducing particle size (chop/shred), mixing them with a nitrogen-rich material (e.g., manure/green leaves), keeping the pile moist and airy, and turning it to speed decomposition; only option B lists all these key practices.",
         "B",
         "Kenya"
        ],
        [
         "15",
         "openai-o3-2025-04-16",
         "16",
         "How do I create a simple farm budget for one season of maize farming?",
         "Correct answer: B\n\nRationale: A meaningful farm budget compares total expected income with all production costs. Option B includes identifying every activity, costing inputs, labor, and land preparation, forecasting yield and market price, and then subtracting expenses to see profit or loss—exactly what is required. Option A ignores costs, so it cannot show profitability. Option C overlooks income projections and could misallocate funds. Option D leaves out many essential expenses (e.g., labor, land preparation, pest control), giving an incomplete and misleading picture.",
         "B",
         "Kenya"
        ],
        [
         "16",
         "openai-o3-2025-04-16",
         "17",
         "How do I apply pesticide to ensure safety and effectiveness",
         "Correct answer: B\n\nRationale: Safe and effective pesticide use requires following label instructions for mixing, wearing appropriate personal protective equipment (PPE), and ensuring the sprayer is calibrated so the correct dose is delivered and no excess chemical is released. Application should be done in calm weather, not when it is windy or extremely hot, to minimise drift, evaporation and operator exposure. Thorough cleaning of equipment and proper disposal of empty containers prevent environmental contamination and future crop damage. Option A and C advocate applying on windy days, which increases the risk of drift and reduces effectiveness, so they are incorrect.",
         "B",
         "Kenya"
        ],
        [
         "17",
         "openai-o3-2025-04-16",
         "18",
         "Which is the best practice in transplanting seedlings?",
         "Correct answer: A\n\nRationale: Best practice requires (1) a finely-prepared seedbed, (2) transplanting seedlings only when they have reached the correct physiological stage, (3) hardening-off to reduce shock, (4) watering the nursery just before lifting so roots come out with soil, (5) setting seedlings in a moist field and handling roots gently, and (6) doing the work during a cool part of the day (late evening or early morning). Option A contains every one of these steps. Option B is wrong because it allows transplanting at any time of day, increasing heat and water-stress. Option C omits the essential hardening-off step. Option D allows transplanting seedlings at any stage, which can lead to poor establishment. Therefore only A meets all criteria for best practice.",
         "A",
         "Kenya"
        ],
        [
         "18",
         "deepseek-deepseek-reasoner",
         "1",
         "How do I, in the shortest duration and cost effectively correct for nutrient deficiency in my farm?",
         "Correct answer: A\n\nRationale: Option A is correct because it emphasizes quick diagnosis through visual observation or soil testing to identify the specific deficiency, ensuring targeted action. Applying synthetic fertilizer provides rapid nutrient correction, which is essential for the shortest duration, and using the right rate, timing, and placement minimizes waste and costs, enhancing cost-effectiveness. Option B is incorrect as manure, even when well-rotted, releases nutrients slowly, delaying correction. Option C omits diagnosis, increasing the risk of inefficient or excessive application, which undermines both speed and cost-effectiveness.",
         "A",
         "Kenya"
        ],
        [
         "19",
         "deepseek-deepseek-reasoner",
         "2",
         "How do I implement integrated pest management (IPM) on a farm?",
         "Correct answer: A\n\nRationale: Integrated Pest Management (IPM) is a holistic approach that prioritizes prevention, monitoring, and thresholds before using control methods, with chemicals as a last resort. Option A correctly outlines this by including prevention (e.g., planting early with resistant seeds), continuous monitoring, action based on threshold levels, sequential integration of cultural, biological, and physical controls before chemical options, and evaluation with strategy adjustments. In contrast, Option B omits prevention and threshold-based decisions, Option C lacks prevention and thresholds while misordering steps (e.g., evaluation before action), and Option D inappropriately prioritizes chemical control over non-chemical methods, contradicting IPM principles. For smallholder farmers in Kenya, Option A provides a sustainable, cost-effective strategy that minimizes chemical use and adapts to local conditions.",
         "A",
         "Kenya"
        ],
        [
         "20",
         "deepseek-deepseek-reasoner",
         "3",
         "How do I calibrate a knapsack sprayer to ensure accurate pesticide application?",
         "Correct answer: A\n\nRationale: Calibrating a knapsack sprayer requires a logical sequence to ensure accuracy: start by measuring the actual spray output to establish a baseline, then calculate the required flow rate using key parameters like walking speed and spray width for the desired application rate. After adjusting nozzle settings or pressure to match this rate, a field test verifies uniform coverage. Option A correctly follows this order, while B adjusts settings prematurely without measurement, C conducts a field test before calibration, and D performs a field test before calculation and adjustment, all leading to potential inaccuracies. This method minimizes pesticide waste and ensures effective pest control for smallholder farmers.",
         "A",
         "Kenya"
        ],
        [
         "21",
         "deepseek-deepseek-reasoner",
         "4",
         "What is the right procedure to harvest onions?",
         "Correct answer: A\n\nRationale: Onions should be harvested during the dry season to prevent rot and ensure proper curing, as wet conditions can lead to spoilage—especially relevant in Kenya with its distinct wet seasons. Maturity must be confirmed by visual cues like yellowing or drooping tops and papery bulb covers, not just days after planting (90-150 days is a guideline, but varietal and environmental factors matter). Option A correctly includes all steps: loosening soil, careful hand or fork harvesting, cutting tops to ~1 inch to prevent moisture entry, cleaning, sun-curing, and ventilated storage for longevity. Option B is incorrect due to wet-season harvesting. Option C omits cutting tops, risking rot. Option D misses maturity checks, which could lead to premature or late harvesting. Thus, only A provides the complete, accurate procedure.",
         "A",
         "Kenya"
        ],
        [
         "22",
         "deepseek-deepseek-reasoner",
         "5",
         "How should I wear PPE?",
         "Correct answer: C\n\nRationale: Option C provides the correct sequence for wearing PPE when handling pesticides, as it minimizes contamination risk by starting with coveralls to protect the body, followed by gumboots for foot protection, then a mask for respiratory safety before gloves to avoid face contamination, and ending with a face shield for eye protection. This order aligns with standard agricultural safety guidelines from organizations like WHO and FAO. Option A is incorrect because gloves are worn before the mask, which could lead to respiratory contamination if gloves touch the mask. Option B is unsafe as it starts with the mask, risking displacement when putting on coveralls, and places gloves before coveralls. Option D is flawed because gloves are worn first, exposing hands to early contamination, and coveralls are worn last, leaving the body unprotected during donning. Only C ensures comprehensive protection for farmers during pesticide handling, storage, transport, or spraying.",
         "C",
         "Kenya"
        ],
        [
         "23",
         "deepseek-deepseek-reasoner",
         "6",
         "How do I use animal waste management on a mixed crop-livestock farm?",
         "Correct answer: C\n\nRationale: Composting animal waste with agricultural residues for 3–4 months, including regular turning, ensures aerobic decomposition that kills pathogens, reduces odors, and produces nutrient-rich compost safe for crops. Applying this compost during land preparation enhances soil fertility, structure, and water retention, aligning with sustainable practices for smallholder farms in Kenya. Options A, B, and D are incorrect: direct dumping (A) can burn crops and spread diseases; burning (B) wastes nutrients and causes pollution; and storing near water sources (D) risks contamination of water bodies, violating environmental guidelines. Composting is cost-effective and widely promoted in Kenyan agriculture for integrated farming systems.",
         "C",
         "Kenya"
        ],
        [
         "24",
         "deepseek-deepseek-reasoner",
         "7",
         "How do I determine the seed rate required for planting on a farm?",
         "Correct answer: D\n\nRationale: Determining seed rate accurately requires considering specific factors like field area, crop variety, plant spacing, and germination rate to ensure proper plant population and avoid waste or poor yields. Option D is correct because it logically sequences these elements: start with field area to scale the calculation, then use crop variety to determine appropriate spacing, factor in germination rate for realistic seed needs per hectare, and finally apply the seed rate. This approach is precise and practical for smallholder farmers in Kenya, as it accounts for local conditions like variable germination. Options A, B, and C are incomplete or illogical; they omit spacing and germination or sequence steps poorly (e.g., estimating seeds per hectare before knowing variety or area), which could lead to inaccurate seed rates.",
         "D",
         "Kenya"
        ],
        [
         "25",
         "deepseek-deepseek-reasoner",
         "8",
         "Last year I experienced significant losses in my stored maize grain. How do I handle my grain to minimize these losses?",
         "Correct answer: D\n\nRationale: Option D is correct because it comprehensively addresses all critical steps to minimize maize storage losses: harvesting at physiological maturity during the dry season ensures optimal grain quality; drying to 13% moisture prevents mold and insect growth; careful threshing avoids damage; insecticide or hermetic storage controls pests; and proper store preparation (cleaning, insecticide dusting, ventilation, rodent-proofing, and pallet stacking) safeguards against environmental and pest risks. Options A, B, and C are incomplete: A misses physiological maturity and explicit drying; B omits storage ventilation and rodent control; and C lacks any drying step, which is essential for safe storage.",
         "D",
         "Kenya"
        ],
        [
         "26",
         "deepseek-deepseek-reasoner",
         "9",
         "How do I make organic fertilizer from animal manure?",
         "Correct answer: C\n\nRationale: \nMaking organic fertilizer from animal manure requires proper composting to ensure nutrient balance, pathogen reduction, and safe application. Option C is correct because it details essential steps: mixing fresh manure with carbon-rich materials balances the carbon-to-nitrogen ratio, preventing nitrogen loss and promoting decomposition; maintaining moisture and aeration through regular turning avoids anaerobic conditions and speeds up composting; and applying only mature compost ensures soil benefits without harming plants. Option A omits key composting practices like mixing materials and turning, which can lead to poor decomposition. Option B incorrectly substitutes storage for active composting, which may not achieve full stabilization or pathogen kill. For smallholder farmers in Kenya, following Option C maximizes yield, soil health, and safety.",
         "C",
         "Kenya"
        ],
        [
         "27",
         "deepseek-deepseek-reasoner",
         "10",
         "What is the best weed control strategy on a farm?",
         "Correct answer: B\n\nRationale: For smallholder farmers in Kenya, the best weed control strategy prioritizes sustainability, cost-effectiveness, and safety. Option B is correct because it starts with identifying weed species, which is essential for targeted control, and emphasizes mechanical methods like uprooting first, reducing reliance on costly or harmful herbicides. It includes monitoring growth and evaluating alternatives, ensuring herbicides are used only if necessary, aligning with Integrated Weed Management principles. Options A, C, and D are less ideal: A omits weed identification, potentially leading to ineffective control; C and D prioritize herbicides upfront, which can increase costs, health risks, and environmental damage for resource-limited farmers. Thus, B provides a comprehensive, step-by-step approach that is most appropriate for this context.",
         "B",
         "Kenya"
        ],
        [
         "28",
         "deepseek-deepseek-reasoner",
         "11",
         "Which maize varieties are suitable lowlands of Kenya",
         "Correct answer: A, B, D\n\nRationale: The lowlands of Kenya require drought-tolerant maize varieties adapted to dry, warm conditions. Options A, B, and D list varieties such as DH01, DH02, DH05, Duma 43, H6213, H519, Sungura 301, H511, and H512, which are all recommended by KALRO for lowland areas due to their drought tolerance. Option C includes H627, which is unsuitable as it requires high rainfall and is for high-potential zones. \"D01\" in option D is likely a typo for DH01, making the list valid.",
         "B",
         "Kenya"
        ],
        [
         "29",
         "deepseek-deepseek-reasoner",
         "12",
         "Which is the most optimal time to apply pesticides?",
         "Correct answer: A\n\nRationale: Option A is correct because spraying pesticides early in the morning or late in the evening takes advantage of cooler temperatures, which reduces evaporation and allows the pesticide to remain effective longer on plant surfaces. Additionally, many pests are more active during these times, increasing targeting efficiency, while beneficial insects like bees are less active, minimizing harm to pollinators. Option B is incorrect due to hot, sunny conditions causing rapid pesticide evaporation and wind increasing drift, which wastes product and poses health risks. Option C is unsafe as spraying towards the wind can blow pesticides back onto the applicator, increasing exposure hazards; instead, spray downwind. Option D is inefficient because heavy rainfall can wash away pesticides before they take effect or dilute them, reducing efficacy.",
         "A",
         "Kenya"
        ],
        [
         "30",
         "deepseek-deepseek-reasoner",
         "13",
         "Which diseases should I look out for during cold weather in poultry?",
         "Correct answer: C\n\nRationale: During cold weather, poultry are more susceptible to respiratory diseases due to factors like poor ventilation, humidity, and stress. Aspergillosis thrives in damp, moldy conditions common in enclosed coops. Infectious coryza is bacterial and often flares up in cold stress. Pneumonia is a frequent outcome of respiratory infections in low temperatures. Fowlpox, included in option C, is less relevant as it is vector-borne and not cold-specific, but the other diseases are correctly associated. Options A, B, and D include coccidiosis, which favors warm, humid conditions and is not primarily a cold-weather concern.",
         "D",
         "Kenya"
        ],
        [
         "31",
         "deepseek-deepseek-reasoner",
         "14",
         "Which are the best practices when intercropping crops?",
         "Correct answer: B\n\nRationale: Intercropping legumes like beans or cowpea with cereals such as maize provides nitrogen fixation, enhancing soil fertility and yield for smallholders in Kenya. Proper spacing reduces competition for light, water, and nutrients, making this a best practice. Option A involves cereal-cereal intercropping, which increases competition and is less beneficial. Option C ignores complementary traits, potentially leading to inefficient resource use. Option D's close spacing exacerbates competition, often lowering yields despite higher plant density. Thus, only B aligns with sustainable, high-yield intercropping.",
         "B",
         "Kenya"
        ],
        [
         "32",
         "deepseek-deepseek-reasoner",
         "15",
         "How do I compost crop residues to enhance soil fertility?",
         "Correct answer: B\n\nRationale: Option B provides a comprehensive and sequential guide to composting crop residues: it starts with collection, emphasizes chopping/shredding to increase decomposition efficiency, adds nitrogen-rich organic matter for balance, and crucially includes maintaining moisture and aeration—key for microbial activity—along with regular turning to ensure even decomposition. In contrast, option A omits the initial collection step and neglects moisture/aeration management. Option C has an illogical order (e.g., turning before chopping or adding materials), which can hinder decomposition. Option D misses explicit moisture and aeration maintenance, risking poor compost quality, especially in variable climates like Kenya's. Only B covers all essential steps accurately for effective soil fertility enhancement.",
         "B",
         "Kenya"
        ],
        [
         "33",
         "deepseek-deepseek-reasoner",
         "16",
         "How do I create a simple farm budget for one season of maize farming?",
         "Correct answer: B\n\nRationale: Option B is correct because it provides a comprehensive approach to budgeting by listing all farming activities, estimating total production costs (including essential inputs and labor), forecasting income based on expected yields and market prices, and calculating profit or loss. This method ensures smallholder farmers account for all expenses and revenues, promoting better financial planning and risk management for maize farming. Options A, C, and D are incorrect: A ignores critical costs, leading to potential losses; C focuses only on expenses without income consideration, risking overspending; and D omits vital expenses like labor and land preparation, resulting in an incomplete budget.",
         "B",
         "Kenya"
        ],
        [
         "34",
         "deepseek-deepseek-reasoner",
         "17",
         "How do I apply pesticide to ensure safety and effectiveness",
         "Correct answer: B\n\nRationale: Option B is correct because it comprehensively covers key safety and effectiveness measures: wearing PPE protects the applicator, mixing according to label instructions ensures proper dosage, calibrating equipment optimizes application accuracy, applying during calm weather prevents drift, avoiding peak heat reduces volatilization and health risks, cleaning equipment prevents contamination, and proper disposal minimizes environmental harm. In contrast, options A and C are incorrect as they suggest applying on windy days, which increases drift risk, making application unsafe and less effective. This advice is crucial for smallholder farmers in Kenya to protect health, crops, and the environment.",
         "B",
         "Kenya"
        ],
        [
         "35",
         "deepseek-deepseek-reasoner",
         "18",
         "Which is the best practice in transplanting seedlings?",
         "Correct answer: A\n\nRationale: Transplanting seedlings successfully involves minimizing shock and ensuring proper establishment. Best practices include preparing a fine-tilth seedbed in advance, transplanting at the right growth stage (e.g., when seedlings have 4-6 true leaves), hardening seedlings by reducing water and shade to toughen them, irrigating the nursery thoroughly for easy removal, planting into moist soil with careful root handling to prevent damage, and choosing cool times like late evening to avoid heat stress. Option A covers all these aspects comprehensively. Option B is incorrect as transplanting at any time of day can cause heat stress. Option C omits hardening, leaving seedlings vulnerable. Option D allows transplanting at any stage, risking poor survival due to underdeveloped or overgrown roots. Thus, only A represents the full best practice.",
         "A",
         "Kenya"
        ],
        [
         "36",
         "gemini-gemini-2-5-pro-preview-05-06",
         "1",
         "How do I, in the shortest duration and cost effectively correct for nutrient deficiency in my farm?",
         "Correct answer: [A, B]\n\nRationale:\nOption A describes the most technically sound and rapid method using fertilizers. Diagnosing the deficiency (soil test or visual), selecting the right fertilizer source, and applying it using the 4R principles (Right Rate, Right Time, Right Place, including moist soil and proper placement) ensures nutrients are quickly available to the crop, leading to correction in the shortest duration and cost-effectively by maximizing nutrient use efficiency and minimizing waste.\n\nOption B offers a viable and cost-effective alternative, particularly for smallholder farmers who may have ready access to well-rotted manure at little to no cash cost. While manure releases nutrients more slowly than mineral fertilizers (so it may not be the absolute \"shortest duration\" compared to A), following the principles of diagnosis, applying the right rate at the right time and place will effectively correct deficiencies over time and improve long-term soil health. For farmers with limited access to cash for fertilizers, this is a practical and cost-effective approach.",
         "A",
         "Kenya"
        ],
        [
         "37",
         "gemini-gemini-2-5-pro-preview-05-06",
         "2",
         "How do I implement integrated pest management (IPM) on a farm?",
         "Correct answer: [A, B]\n\nRationale: Option A provides the most comprehensive and accurate description of how to implement Integrated Pest Management (IPM). It correctly outlines the sequential process: starting with preventative measures like healthy crop establishment and proper seed selection, followed by continuous monitoring of pest populations. It emphasizes using action thresholds to make decisions and prioritizes cultural, biological, and physical controls before resorting to chemical applications as a last measure. Finally, it includes the crucial steps of evaluating control effectiveness and adjusting strategies, reflecting the adaptive nature of IPM.\n\nOption B is also correct because it highlights several core actions fundamental to implementing IPM. Monitoring pest populations is the basis for informed decision-making. Utilizing biological control methods is a key non-chemical strategy. Crucially, applying chemical control only as a last resort is a central tenet of IPM, aiming to minimize pesticide use and its associated risks. While not as exhaustive as option A, these steps represent a correct, albeit simplified, approach to IPM implementation, particularly regarding intervention choices. Options C and D are less accurate: C presents IPM components in an illogical implementation order, and D's phrasing \"apply chemical control when needed\" can be misconstrued as not strictly adhering to the IPM hierarchy of controls.",
         "A",
         "Kenya"
        ],
        [
         "38",
         "gemini-gemini-2-5-pro-preview-05-06",
         "3",
         "How do I calibrate a knapsack sprayer to ensure accurate pesticide application?",
         "Correct answer: [A]\n\nRationale: Option A outlines the most accurate and systematic procedure for calibrating a knapsack sprayer. It begins by determining the sprayer's current performance: **measuring its output (e.g., liters per minute) and the area it covers** (based on a consistent walking speed and the spray swath width). This allows calculation of the current application rate (e.g., liters per hectare). Next, the **required nozzle flow rate is calculated** based on the pesticide label's recommended application rate and the farmer's chosen walking speed and spray width. With the current and required rates known, **adjustments are made to the nozzle settings or pressure** to match the sprayer's output to the calculated requirement. Finally, a **field test on a small, measured area is crucial** to confirm that the sprayer is delivering the correct volume uniformly across the target area before commencing the full spraying operation. This comprehensive sequence ensures accurate pesticide application, which is vital for efficacy, cost-effectiveness, and environmental safety. The other options present a less logical or incomplete sequence of these essential calibration steps.",
         "A",
         "Kenya"
        ],
        [
         "39",
         "gemini-gemini-2-5-pro-preview-05-06",
         "4",
         "What is the right procedure to harvest onions?",
         "Correct answer: [A, C]\n\nRationale: Both options A and C describe key correct steps for harvesting onions. They correctly identify maturity indicators (tops yellowing or drooping, formation of a membranous bulb cover) and the typical harvest time (90-150 days post-planting). Both also recommend careful harvesting techniques and a crucial two-stage curing process: an initial drying period (sun curing), followed by extended curing in a well-ventilated store for long-term storage, aiming for thoroughly dried necks and outer scales.\n\nOption A outlines a more comprehensive and optimal procedure by specifying harvesting during the dry season, which is ideal for sun curing, and instructing to cut tops back to about one inch after harvest, promoting better neck drying and reducing storage rot.\n\nOption C, while omitting these explicit details, still presents a fundamentally correct approach. The instruction to \"dry in the sun to cure\" implies the necessity of dry weather conditions. Although it doesn't detail immediate top cutting, the stated goal of achieving thoroughly dried necks for long storage is critical and achievable if the curing process is managed effectively. Therefore, while A is more detailed and represents best practice, C also describes a viable and right procedure. Options B (harvesting in the wet season) and D (lacking maturity indicators) are incorrect as they describe practices detrimental to onion quality and storage.",
         "A",
         "Kenya"
        ],
        [
         "40",
         "gemini-gemini-2-5-pro-preview-05-06",
         "5",
         "How should I wear PPE?",
         "Correct answer: [C]\n\nRationale: Option C describes the most appropriate and safest sequence for donning (putting on) Personal Protective Equipment (PPE), particularly crucial when handling pesticides. Starting with the overall/coveralls and then gumboots ensures that the body, legs, and feet are protected first. Next, the mask is put on to protect the respiratory system; it's important this is done before hands are gloved or become potentially contaminated. After the mask is securely fitted, gloves are worn, typically ensuring they go over the cuffs of the overall. Finally, the face shield is added to protect the eyes and face from splashes or spray drift. This systematic order helps to minimize the risk of self-contamination during the donning process, which is essential for personal safety. The other options suggest orders that could lead to contamination, such as putting on gloves before the mask or before the main body covering.",
         "C",
         "Kenya"
        ],
        [
         "41",
         "gemini-gemini-2-5-pro-preview-05-06",
         "6",
         "How do I use animal waste management on a mixed crop-livestock farm?",
         "Correct answer: A, C\n\nRationale: Both composting (Option C) and direct application (Option A) are methods to use animal waste on crop fields on a mixed farm. Option C, which involves collecting animal and agricultural waste, composting it for 3–4 months with regular turning, and then applying it during land preparation, is the most highly recommended method. This process creates a stable, nutrient-rich compost that improves soil structure, water retention, and fertility while significantly reducing pathogens and weed seeds. Option A, collecting animal waste and applying it directly to crop fields, can also add nutrients and organic matter. However, if using fresh manure, it should be applied with caution, ideally incorporated into the soil well before planting, to prevent burning young plants, spreading diseases, or introducing many weed seeds; aged manure is generally safer for direct application. Composting (Option C) is a more effective practice for maximizing nutrient benefits and minimizing risks. Burning waste (Option B) destroys valuable nutrients and organic matter. Storing manure in open pits near water sources (Option D) is dangerous as it leads to water pollution and nutrient loss.",
         "C",
         "Kenya"
        ],
        [
         "42",
         "gemini-gemini-2-5-pro-preview-05-06",
         "7",
         "How do I determine the seed rate required for planting on a farm?",
         "Correct answer: [A, B, D]\n\nRationale:\nOptions A and B correctly outline essential initial steps: identifying the crop variety and measuring the field area, which are crucial prerequisites for determining total seed needs. Both then involve estimating the required seeds per hectare (the seed rate) before applying it to the farm. The order of calculating field area and determining crop variety (as in A versus B) can be flexible as both are needed before calculating total seeds. Option D provides a more detailed and agronomically sound method for determining this seed rate, by calculating it based on appropriate plant spacing for the selected crop variety and the seed's germination rate. This approach allows for precise calculation to achieve the desired plant population, accounting for seed viability. Therefore, A, B, and D all describe valid approaches to determining the seed rate. Option C is less optimal as the seed rate is highly dependent on the crop variety, which should ideally be determined before estimating a specific rate per hectare.",
         "D",
         "Kenya"
        ],
        [
         "43",
         "gemini-gemini-2-5-pro-preview-05-06",
         "8",
         "Last year I experienced significant losses in my stored maize grain. How do I handle my grain to minimize these losses?",
         "Correct answer: [B, D]\n\nRationale:\nOption D provides the most comprehensive and ideal set of practices for minimizing post-harvest maize losses. It correctly details all critical stages: harvesting at physiological maturity during the dry season, drying grain to approximately 13% moisture content, careful threshing, appropriate grain treatment (insecticide for gunny bags or using hermetic bags for dry, untreated grain), thorough store cleaning and dusting with insecticides. Crucially, it also includes essential storage environment management for gunny bags: ensuring the store is well-ventilated, rodent-free, using pallets to prevent moisture uptake, and stacking bags to maximize ventilation.\n\nOption B is also a correct answer as it outlines many essential and sound practices. It correctly advises harvesting at physiological maturity, drying grain to 13% moisture content (including practical estimation methods), careful threshing, using insecticides for grain in gunny bags or hermetic bags for dry, untreated grain, and cleaning and dusting the store. While it omits specific details on gunny bag stacking and store environment management (like pallets and rodent-proofing the store structure, which D includes), the steps it does list are all correct and vital for significantly reducing losses.\n\nOption A is less ideal because \"harvest when leaves are dry\" is a less precise indicator than physiological maturity and critically omits explicit instructions for drying grain before insecticide treatment for gunny bag storage. Option C is incorrect as it completely misses the crucial step of drying the grain to a safe moisture level before storage or treatment.",
         "D",
         "Kenya"
        ],
        [
         "44",
         "gemini-gemini-2-5-pro-preview-05-06",
         "9",
         "How do I make organic fertilizer from animal manure?",
         "Correct answer: A, C\n\nRationale: Option C provides a comprehensive and accurate method for making organic fertilizer (compost) from animal manure. It correctly details the crucial steps: collecting fresh manure, balancing the carbon-to-nitrogen ratio with carbon-rich materials, and ensuring proper moisture and aeration through regular turning for effective decomposition. This results in mature, high-quality compost ready for soil application.\n\nOption A describes a correct, albeit higher-level, sequence of actions. It includes collecting manure and the essential step of \"compost it,\" which is the process of making organic fertilizer. While it also includes subsequent steps of applying the compost and monitoring soil quality (which are about usage and evaluation rather than making), the initial steps correctly outline a path to creating organic fertilizer. Both A and C offer valid perspectives on the process, with C detailing the \"how-to\" of composting mentioned in A. Option B is less ideal as \"storing manure for several weeks\" before composting is not always necessary or optimal and can lead to nutrient loss if done improperly.",
         "C",
         "Kenya"
        ],
        [
         "45",
         "gemini-gemini-2-5-pro-preview-05-06",
         "10",
         "What is the best weed control strategy on a farm?",
         "Correct answer: B, C\n\nRationale: Option B represents the most comprehensive and ideal Integrated Weed Management (IWM) strategy for smallholder farmers in Kenya. It correctly starts with weed identification, prioritizes accessible and often lower-cost mechanical controls, and incorporates monitoring and evaluation to decide if other methods, like herbicides, are needed. This approach is sustainable, adaptive, and considers the typical resource availability for smallholders. Option C is also a correct strategy as it includes essential IWM steps: identifying weed species, applying a specific control method (herbicides), monitoring effectiveness, and evaluating alternatives. While Option B is generally preferable for its initial emphasis on non-chemical methods, Option C can be an appropriate strategy in situations where specific, difficult-to-control weeds are identified and known to be best managed with herbicides, provided this is done judiciously. Both options emphasize informed decision-making based on identification and ongoing assessment.",
         "B",
         "Kenya"
        ],
        [
         "46",
         "gemini-gemini-2-5-pro-preview-05-06",
         "11",
         "Which maize varieties are suitable lowlands of Kenya",
         "Correct answer: [B]\n\nRationale: Lowland areas in Kenya are often characterized by higher temperatures and lower, more erratic rainfall, making drought tolerance and early maturity key traits for suitable maize varieties. Varieties DH01, DH02, and DH05 are Dryland Hybrids developed for moisture-stress areas. Duma 43 is well-known for its early maturity and good performance in dry, low-to-mid altitude regions. Sungura 301 is also recognized for its suitability to dryland/lowland conditions, offering good drought tolerance. Options A, C, and D include highland (e.g., H6213, H627) or mid-altitude (e.g., H519, H511, H512) varieties which are not optimal for the typical hotter and drier lowland environments.",
         "B",
         "Kenya"
        ],
        [
         "47",
         "gemini-gemini-2-5-pro-preview-05-06",
         "12",
         "Which is the most optimal time to apply pesticides?",
         "Correct answer: A\n\nRationale:\nOption A is the most optimal time. Spraying in the early morning or late evening offers cooler temperatures, which minimize pesticide evaporation and volatilization, allowing more product to reach and stay on the target surfaces. Calmer wind conditions, often present at these times, significantly reduce pesticide drift, improving accuracy and safety. When pests are active, the pesticide has a higher chance of directly contacting them, increasing its effectiveness, especially for contact pesticides. These cooler periods also reduce the risk of plant stress or phytotoxicity from the spray. Furthermore, beneficial insects like pollinators (e.g., bees) are generally less active during early mornings or late evenings, reducing their exposure to harmful chemicals. Options B, C, and D describe suboptimal or dangerous conditions: hot, windy conditions (B) increase drift and evaporation; spraying into the wind (C) is hazardous to the applicator; and spraying before or immediately after heavy rain (D) leads to pesticide wash-off or dilution and runoff.",
         "A",
         "Kenya"
        ],
        [
         "48",
         "gemini-gemini-2-5-pro-preview-05-06",
         "13",
         "Which diseases should I look out for during cold weather in poultry?",
         "Correct answer: B, D\n\nRationale: Both options B and D highlight diseases and symptoms highly relevant during cold weather in poultry. Cold, damp conditions and poor ventilation, often present when farmers try to conserve heat, create an environment conducive to these health issues. Fowl cholera (in option B) can be triggered by stress, including cold, and often occurs in wet conditions. Coccidiosis (in options B and D) proliferates in damp litter, a common problem in poorly ventilated houses during cold seasons. Aspergillosis (in option B), a fungal disease, is often linked to moldy litter common in damp, poorly ventilated cold-weather housing, leading to respiratory problems. Pneumonia (in option D) is a frequent consequence of cold, damp, and poorly ventilated environments causing lung inflammation. Respiratory distress (in options B and D) is a critical symptom complex to watch for, indicating these conditions or others like bronchitis, which are exacerbated by cold air and ammonia buildup from poor ventilation. While diseases like Newcastle (A) or Fowlpox (C) can occur, they are not as specifically tied to cold weather as primary drivers compared to those listed in B and D. Therefore, farmers should be vigilant for the diseases and signs listed in options B and D during colder periods.",
         "D",
         "Kenya"
        ],
        [
         "49",
         "gemini-gemini-2-5-pro-preview-05-06",
         "14",
         "Which are the best practices when intercropping crops?",
         "Correct answer: B, D\n\nRationale: Intercropping legumes (e.g., beans, cowpeas) with cereals (e.g., maize, sorghum) is a highly recommended practice (Options B and D). Legumes contribute nitrogen to the soil, benefiting the companion cereal and improving overall soil health. Option B correctly emphasizes that careful attention to spacing is essential to minimize competition for resources like light, water, and nutrients, ensuring both crops perform well. Option D is also a best practice because a key objective and benefit of intercropping is to increase overall productivity per unit of land (achieving a Land Equivalent Ratio > 1). This is often accomplished through strategic \"close spacing\"—meaning higher plant population densities or more intimate mixtures than in monoculture—designed to maximize complementary resource use and minimize competition between the chosen crops, ultimately leading to higher total yields from the same piece of land. Both principles, managing competition through appropriate spacing (B) and utilizing optimized density for greater land productivity (D), are central to successful intercropping systems.",
         "B",
         "Kenya"
        ]
       ],
       "shape": {
        "columns": 6,
        "rows": 162
       }
      },
      "text/html": [
       "<div>\n",
       "<style scoped>\n",
       "    .dataframe tbody tr th:only-of-type {\n",
       "        vertical-align: middle;\n",
       "    }\n",
       "\n",
       "    .dataframe tbody tr th {\n",
       "        vertical-align: top;\n",
       "    }\n",
       "\n",
       "    .dataframe thead th {\n",
       "        text-align: right;\n",
       "    }\n",
       "</style>\n",
       "<table border=\"1\" class=\"dataframe\">\n",
       "  <thead>\n",
       "    <tr style=\"text-align: right;\">\n",
       "      <th></th>\n",
       "      <th>model</th>\n",
       "      <th>question_id</th>\n",
       "      <th>question</th>\n",
       "      <th>answer</th>\n",
       "      <th>correct_answer</th>\n",
       "      <th>country</th>\n",
       "    </tr>\n",
       "  </thead>\n",
       "  <tbody>\n",
       "    <tr>\n",
       "      <th>0</th>\n",
       "      <td>openai-o3-2025-04-16</td>\n",
       "      <td>1</td>\n",
       "      <td>How do I, in the shortest duration and cost ef...</td>\n",
       "      <td>Correct answer: A\\n\\nRationale: A follows the ...</td>\n",
       "      <td>A</td>\n",
       "      <td>Kenya</td>\n",
       "    </tr>\n",
       "    <tr>\n",
       "      <th>1</th>\n",
       "      <td>openai-o3-2025-04-16</td>\n",
       "      <td>2</td>\n",
       "      <td>How do I implement integrated pest management ...</td>\n",
       "      <td>Correct answer: A, B\\n\\nRationale: IPM begins ...</td>\n",
       "      <td>A</td>\n",
       "      <td>Kenya</td>\n",
       "    </tr>\n",
       "    <tr>\n",
       "      <th>2</th>\n",
       "      <td>openai-o3-2025-04-16</td>\n",
       "      <td>3</td>\n",
       "      <td>How do I calibrate a knapsack sprayer to ensur...</td>\n",
       "      <td>Correct answer: A\\n\\nRationale: Effective cali...</td>\n",
       "      <td>A</td>\n",
       "      <td>Kenya</td>\n",
       "    </tr>\n",
       "    <tr>\n",
       "      <th>3</th>\n",
       "      <td>openai-o3-2025-04-16</td>\n",
       "      <td>4</td>\n",
       "      <td>What is the right procedure to harvest onions?</td>\n",
       "      <td>Correct answer: A\\n\\nRationale: Harvesting oni...</td>\n",
       "      <td>A</td>\n",
       "      <td>Kenya</td>\n",
       "    </tr>\n",
       "    <tr>\n",
       "      <th>4</th>\n",
       "      <td>openai-o3-2025-04-16</td>\n",
       "      <td>5</td>\n",
       "      <td>How should I wear PPE?</td>\n",
       "      <td>Correct answer: C\\n\\nRationale: PPE should be ...</td>\n",
       "      <td>C</td>\n",
       "      <td>Kenya</td>\n",
       "    </tr>\n",
       "    <tr>\n",
       "      <th>...</th>\n",
       "      <td>...</td>\n",
       "      <td>...</td>\n",
       "      <td>...</td>\n",
       "      <td>...</td>\n",
       "      <td>...</td>\n",
       "      <td>...</td>\n",
       "    </tr>\n",
       "    <tr>\n",
       "      <th>157</th>\n",
       "      <td>anthropic-claude-3-7-sonnet-20250219</td>\n",
       "      <td>14</td>\n",
       "      <td>Which are the best practices when intercroppin...</td>\n",
       "      <td>Correct answer: B\\n\\nRationale: Intercropping ...</td>\n",
       "      <td>B</td>\n",
       "      <td>Kenya</td>\n",
       "    </tr>\n",
       "    <tr>\n",
       "      <th>158</th>\n",
       "      <td>anthropic-claude-3-7-sonnet-20250219</td>\n",
       "      <td>15</td>\n",
       "      <td>How do I compost crop residues to enhance soil...</td>\n",
       "      <td>Correct answer: B\\n\\nRationale: Option B provi...</td>\n",
       "      <td>B</td>\n",
       "      <td>Kenya</td>\n",
       "    </tr>\n",
       "    <tr>\n",
       "      <th>159</th>\n",
       "      <td>anthropic-claude-3-7-sonnet-20250219</td>\n",
       "      <td>16</td>\n",
       "      <td>How do I create a simple farm budget for one s...</td>\n",
       "      <td>Correct answer: B\\n\\nRationale: Creating a pro...</td>\n",
       "      <td>B</td>\n",
       "      <td>Kenya</td>\n",
       "    </tr>\n",
       "    <tr>\n",
       "      <th>160</th>\n",
       "      <td>anthropic-claude-3-7-sonnet-20250219</td>\n",
       "      <td>17</td>\n",
       "      <td>How do I apply pesticide to ensure safety and ...</td>\n",
       "      <td>Correct answer: B\\n\\nRationale: Option B is th...</td>\n",
       "      <td>B</td>\n",
       "      <td>Kenya</td>\n",
       "    </tr>\n",
       "    <tr>\n",
       "      <th>161</th>\n",
       "      <td>anthropic-claude-3-7-sonnet-20250219</td>\n",
       "      <td>18</td>\n",
       "      <td>Which is the best practice in transplanting se...</td>\n",
       "      <td>Correct answer: A\\n\\nRationale: Option A conta...</td>\n",
       "      <td>A</td>\n",
       "      <td>Kenya</td>\n",
       "    </tr>\n",
       "  </tbody>\n",
       "</table>\n",
       "<p>162 rows × 6 columns</p>\n",
       "</div>"
      ],
      "text/plain": [
       "                                    model  question_id  \\\n",
       "0                    openai-o3-2025-04-16            1   \n",
       "1                    openai-o3-2025-04-16            2   \n",
       "2                    openai-o3-2025-04-16            3   \n",
       "3                    openai-o3-2025-04-16            4   \n",
       "4                    openai-o3-2025-04-16            5   \n",
       "..                                    ...          ...   \n",
       "157  anthropic-claude-3-7-sonnet-20250219           14   \n",
       "158  anthropic-claude-3-7-sonnet-20250219           15   \n",
       "159  anthropic-claude-3-7-sonnet-20250219           16   \n",
       "160  anthropic-claude-3-7-sonnet-20250219           17   \n",
       "161  anthropic-claude-3-7-sonnet-20250219           18   \n",
       "\n",
       "                                              question  \\\n",
       "0    How do I, in the shortest duration and cost ef...   \n",
       "1    How do I implement integrated pest management ...   \n",
       "2    How do I calibrate a knapsack sprayer to ensur...   \n",
       "3       What is the right procedure to harvest onions?   \n",
       "4                               How should I wear PPE?   \n",
       "..                                                 ...   \n",
       "157  Which are the best practices when intercroppin...   \n",
       "158  How do I compost crop residues to enhance soil...   \n",
       "159  How do I create a simple farm budget for one s...   \n",
       "160  How do I apply pesticide to ensure safety and ...   \n",
       "161  Which is the best practice in transplanting se...   \n",
       "\n",
       "                                                answer correct_answer country  \n",
       "0    Correct answer: A\\n\\nRationale: A follows the ...              A   Kenya  \n",
       "1    Correct answer: A, B\\n\\nRationale: IPM begins ...              A   Kenya  \n",
       "2    Correct answer: A\\n\\nRationale: Effective cali...              A   Kenya  \n",
       "3    Correct answer: A\\n\\nRationale: Harvesting oni...              A   Kenya  \n",
       "4    Correct answer: C\\n\\nRationale: PPE should be ...              C   Kenya  \n",
       "..                                                 ...            ...     ...  \n",
       "157  Correct answer: B\\n\\nRationale: Intercropping ...              B   Kenya  \n",
       "158  Correct answer: B\\n\\nRationale: Option B provi...              B   Kenya  \n",
       "159  Correct answer: B\\n\\nRationale: Creating a pro...              B   Kenya  \n",
       "160  Correct answer: B\\n\\nRationale: Option B is th...              B   Kenya  \n",
       "161  Correct answer: A\\n\\nRationale: Option A conta...              A   Kenya  \n",
       "\n",
       "[162 rows x 6 columns]"
      ]
     },
     "execution_count": 36,
     "metadata": {},
     "output_type": "execute_result"
    }
   ],
   "source": [
    "# reorder the columns\n",
    "all_df = all_df[[\"model\", \"question_id\", \"question\", \"answer\", \"correct_answer\", \"country\"]]\n",
    "all_df"
   ]
  },
  {
   "cell_type": "code",
   "execution_count": 37,
   "metadata": {},
   "outputs": [],
   "source": [
    "# save the dataframe to a CSV file\n",
    "all_df.to_csv(f\"{basename}-all.csv\", index=False)"
   ]
  }
 ],
 "metadata": {
  "kernelspec": {
   "display_name": "llms_4_si",
   "language": "python",
   "name": "python3"
  },
  "language_info": {
   "codemirror_mode": {
    "name": "ipython",
    "version": 3
   },
   "file_extension": ".py",
   "mimetype": "text/x-python",
   "name": "python",
   "nbconvert_exporter": "python",
   "pygments_lexer": "ipython3",
   "version": "3.10.16"
  }
 },
 "nbformat": 4,
 "nbformat_minor": 2
}
